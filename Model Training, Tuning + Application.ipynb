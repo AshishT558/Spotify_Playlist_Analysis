{
 "cells": [
  {
   "cell_type": "code",
   "execution_count": null,
   "id": "6c50bc5b",
   "metadata": {
    "scrolled": false
   },
   "outputs": [],
   "source": [
    "#import data\n",
    "import pandas as pd\n",
    "import numpy as np\n",
    "from tqdm import tqdm\n",
    "from sklearn.neighbors import KNeighborsClassifier\n",
    "from sklearn.model_selection import train_test_split\n",
    "from sklearn.preprocessing import StandardScaler\n",
    "from sklearn.preprocessing import OneHotEncoder\n",
    "from sklearn.metrics import accuracy_score\n",
    "from sklearn.model_selection import GridSearchCV"
   ]
  },
  {
   "cell_type": "code",
   "execution_count": null,
   "id": "053ba4ff",
   "metadata": {},
   "outputs": [],
   "source": [
    "path_name =\"filtered_data.csv\"\n",
    "\n",
    "data = pd.read_csv(path_name)\n",
    "data.drop_duplicates()\n",
    "data"
   ]
  },
  {
   "cell_type": "code",
   "execution_count": null,
   "id": "0f40e092",
   "metadata": {
    "scrolled": false
   },
   "outputs": [],
   "source": [
    "data.info()"
   ]
  },
  {
   "cell_type": "code",
   "execution_count": null,
   "id": "a48f4ba0",
   "metadata": {},
   "outputs": [],
   "source": [
    "#casting playlist_pid to category\n",
    "data['playlist_pid'] = data['playlist_pid'].astype('category')\n",
    "\n",
    "#casting key to category\n",
    "data['key'] = data['key'].astype('category')\n",
    "\n",
    "#casting mode to category\n",
    "data['mode'] = data['mode'].astype('category')"
   ]
  },
  {
   "cell_type": "code",
   "execution_count": null,
   "id": "15ffd41e",
   "metadata": {},
   "outputs": [],
   "source": [
    "data.info()"
   ]
  },
  {
   "cell_type": "code",
   "execution_count": null,
   "id": "41a3b479",
   "metadata": {},
   "outputs": [],
   "source": [
    "#dataframe of features only \n",
    "features_df = data[['danceability', 'energy', 'key', 'loudness', 'mode', 'speechiness', 'acousticness', 'instrumentalness', 'liveness', 'valence', 'tempo', 'duration_ms']]\n",
    "\n",
    "#dataframe of target variable (playlist_pid)\n",
    "target_df = data[['playlist_pid']]"
   ]
  },
  {
   "cell_type": "code",
   "execution_count": null,
   "id": "ee2aa2f0",
   "metadata": {
    "scrolled": false
   },
   "outputs": [],
   "source": [
    "features_df"
   ]
  },
  {
   "cell_type": "markdown",
   "id": "1c6c7cd5",
   "metadata": {},
   "source": [
    "# FEATURE SELECTION"
   ]
  },
  {
   "cell_type": "code",
   "execution_count": null,
   "id": "f2ad1a02",
   "metadata": {},
   "outputs": [],
   "source": [
    "from sklearn.ensemble import ExtraTreesClassifier\n",
    "import matplotlib.pyplot as plt\n",
    "import seaborn as sns\n",
    "\n",
    "X = features_df\n",
    "X = pd.get_dummies(X, columns=['key', 'mode'])\n",
    "\n",
    "y = target_df   #target column i.e price range\n",
    "\n",
    "model = ExtraTreesClassifier()\n",
    "model.fit(X,y)\n",
    "print(model.feature_importances_) #use inbuilt class feature_importances\n",
    "#plot graph of feature importances for better visualization\n",
    "feat_importances = pd.Series(model.feature_importances_, index=X.columns)\n",
    "feat_importances.plot(kind='barh')\n",
    "plt.show()"
   ]
  },
  {
   "cell_type": "code",
   "execution_count": null,
   "id": "f8e2ecb5",
   "metadata": {},
   "outputs": [],
   "source": [
    "# add in playlist_pid as a target category\n",
    "features_with_target = X.join(y)"
   ]
  },
  {
   "cell_type": "code",
   "execution_count": null,
   "id": "31f9be02",
   "metadata": {
    "scrolled": false
   },
   "outputs": [],
   "source": [
    "# correlation matrix + heatmap for variables\n",
    "corr_values = features_with_target.corr()\n",
    "plt.figure(figsize = (20,10))\n",
    "sns.heatmap(corr_values, cmap=\"Blues\", annot=True, fmt='.2f')"
   ]
  },
  {
   "cell_type": "code",
   "execution_count": null,
   "id": "5e5861cc",
   "metadata": {},
   "outputs": [],
   "source": [
    "X_features = ['duration_ms', 'tempo', 'valence', 'liveness', 'instrumentalness', 'acousticness', 'speechiness', \n",
    "              'loudness', 'energy', 'danceability', 'mode']\n",
    "\n",
    "X = data[X_features]"
   ]
  },
  {
   "cell_type": "markdown",
   "id": "3eb577ed",
   "metadata": {},
   "source": [
    "# Training the Model\n",
    "\n",
    "Key, Mode -> are categorical and need to be encoded\n",
    "\n",
    "All other features -> are numeric and need to be normalized"
   ]
  },
  {
   "cell_type": "code",
   "execution_count": null,
   "id": "69929aef",
   "metadata": {},
   "outputs": [],
   "source": [
    "#split test and train data\n",
    "X_train, X_test, y_train, y_test = train_test_split(X, y, test_size=0.20, random_state=7, stratify=y)\n",
    "\n",
    "#encode categorical for Train set\n",
    "X_train = pd.get_dummies(X_train)"
   ]
  },
  {
   "cell_type": "code",
   "execution_count": null,
   "id": "550060b4",
   "metadata": {},
   "outputs": [],
   "source": [
    "#normalization of numerical data for Train set\n",
    "numericals = X_train[['duration_ms', 'tempo', 'valence', 'liveness', 'instrumentalness', 'acousticness', 'speechiness', 'loudness', 'energy', 'danceability']]\n",
    "scaler = StandardScaler()\n",
    "scaler.fit(numericals)\n",
    "\n",
    "X_train = scaler.transform(numericals) #scale the training data"
   ]
  },
  {
   "cell_type": "markdown",
   "id": "1b3ff555",
   "metadata": {},
   "source": [
    "## Hypertuning"
   ]
  },
  {
   "cell_type": "code",
   "execution_count": null,
   "id": "062049b8",
   "metadata": {
    "scrolled": false
   },
   "outputs": [],
   "source": [
    "import warnings\n",
    "warnings.filterwarnings('ignore')\n",
    "\n",
    "#K-Nearest Neighbors\n",
    "param = {'n_neighbors': np.arange(20,40), \n",
    "         'weights': ('uniform', 'distance'), \n",
    "         #'algorithm':('auto', 'ball_tree', 'kd_tree', 'brute'),\n",
    "         #'leaf-size': np.arange(15, 30),\n",
    "         #'p': (1, 2),\n",
    "         #'metric': ('minkowski', 'chebyshev')\n",
    "        }\n",
    "\n",
    "knn = KNeighborsClassifier() #initialize the classifier and set the number of neighbors\n",
    "knn_grid= GridSearchCV(knn, param, cv=5, verbose=3)\n",
    "knn_grid.fit(X_train, y_train)\n",
    "\n",
    "#knn.fit(X_train, y_train)"
   ]
  },
  {
   "cell_type": "code",
   "execution_count": null,
   "id": "87aa825a",
   "metadata": {},
   "outputs": [],
   "source": [
    "print(knn_grid.best_params_)\n",
    "print(knn_grid.best_score_)"
   ]
  },
  {
   "cell_type": "code",
   "execution_count": null,
   "id": "fb0f6fd3",
   "metadata": {},
   "outputs": [],
   "source": [
    "# Regular training\n",
    "# knn = KNeighborsClassifier(n_neighbors = 5) #initialize the classifier and set the number of neighbors\n",
    "# knn.fit(X_train, y_train)"
   ]
  },
  {
   "cell_type": "code",
   "execution_count": null,
   "id": "39f410ad",
   "metadata": {},
   "outputs": [],
   "source": [
    "#encode categorical for Test set\n",
    "X_test = pd.get_dummies(X_test)\n",
    "\n",
    "#normalization of numerical data for Test set\n",
    "numericals_test = X_test[['duration_ms', 'tempo', 'valence', 'liveness', 'instrumentalness', 'acousticness', 'speechiness', 'loudness', 'energy', 'danceability']]\n",
    "X_test = scaler.transform(numericals_test) #scale the test data"
   ]
  },
  {
   "cell_type": "markdown",
   "id": "a03b4c78",
   "metadata": {},
   "source": [
    "**Predictions and Accuracy**"
   ]
  },
  {
   "cell_type": "code",
   "execution_count": null,
   "id": "a5168abd",
   "metadata": {
    "scrolled": false
   },
   "outputs": [],
   "source": [
    "# import warnings\n",
    "# warnings.filterwarnings('ignore')\n",
    "\n",
    "y_pred = []\n",
    "for x in tqdm(range(len(X_test))):\n",
    "    y_pred.append(knn_grid.predict(pd.DataFrame.transpose(pd.DataFrame(X_test[x]))))"
   ]
  },
  {
   "cell_type": "code",
   "execution_count": null,
   "id": "5c1602dc",
   "metadata": {
    "scrolled": false
   },
   "outputs": [],
   "source": [
    "accuracy_score(y_test, y_pred)"
   ]
  },
  {
   "cell_type": "code",
   "execution_count": null,
   "id": "90f1daa3",
   "metadata": {},
   "outputs": [],
   "source": [
    "X_all = pd.get_dummies(X)\n",
    "\n",
    "numericals_all = X_all[['duration_ms', 'tempo', 'valence', 'liveness', 'instrumentalness', 'acousticness', 'speechiness', 'loudness', 'energy', 'danceability']]\n",
    "\n",
    "scaler = StandardScaler()\n",
    "scaler.fit(numericals_all)\n",
    "\n",
    "X_all = scaler.transform(numericals_all)"
   ]
  },
  {
   "cell_type": "code",
   "execution_count": null,
   "id": "645d465e",
   "metadata": {},
   "outputs": [],
   "source": [
    "track_uris = data['track_uri']"
   ]
  },
  {
   "cell_type": "code",
   "execution_count": null,
   "id": "6ae6f874",
   "metadata": {},
   "outputs": [],
   "source": [
    "playlist_ids = np.unique(y.to_numpy()).tolist()"
   ]
  },
  {
   "cell_type": "code",
   "execution_count": null,
   "id": "9ba47814",
   "metadata": {},
   "outputs": [],
   "source": [
    "results = {}\n",
    "\n",
    "for playlist_id in playlist_ids:\n",
    "    results[playlist_id] = {}\n",
    "\n",
    "for i in range(len(track_uris)):\n",
    "    song_results = knn_grid.predict_proba(X_all[i].reshape(1, -1)).tolist()[0]\n",
    "    for j in range(len(playlist_ids)):\n",
    "        results[playlist_ids[j]][track_uris[i]] = song_results[j]"
   ]
  },
  {
   "cell_type": "code",
   "execution_count": null,
   "id": "1499adb5",
   "metadata": {},
   "outputs": [],
   "source": [
    "def get_best_song(playlist_id):\n",
    "    best_song = max(results[playlist_id], key=results[playlist_id].get)\n",
    "    \n",
    "    return data.loc[data['track_uri']==best_song, ['track_name', 'artist_name']].reset_index(drop=True)"
   ]
  },
  {
   "cell_type": "code",
   "execution_count": null,
   "id": "44496454",
   "metadata": {},
   "outputs": [],
   "source": [
    "get_best_song(115006)"
   ]
  },
  {
   "cell_type": "code",
   "execution_count": null,
   "id": "390dc0c4",
   "metadata": {},
   "outputs": [],
   "source": [
    "pd.DataFrame(results)"
   ]
  },
  {
   "cell_type": "code",
   "execution_count": null,
   "id": "1d96201c",
   "metadata": {},
   "outputs": [],
   "source": []
  }
 ],
 "metadata": {
  "kernelspec": {
   "display_name": "Python 3 (ipykernel)",
   "language": "python",
   "name": "python3"
  },
  "language_info": {
   "codemirror_mode": {
    "name": "ipython",
    "version": 3
   },
   "file_extension": ".py",
   "mimetype": "text/x-python",
   "name": "python",
   "nbconvert_exporter": "python",
   "pygments_lexer": "ipython3",
   "version": "3.9.13"
  }
 },
 "nbformat": 4,
 "nbformat_minor": 5
}
