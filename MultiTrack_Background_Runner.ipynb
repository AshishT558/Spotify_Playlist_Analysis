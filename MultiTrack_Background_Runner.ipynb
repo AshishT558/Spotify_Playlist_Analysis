{
 "cells": [
  {
   "cell_type": "code",
   "execution_count": 1,
   "id": "fdedc4e9",
   "metadata": {},
   "outputs": [
    {
     "name": "stderr",
     "output_type": "stream",
     "text": [
      "/Users/adic/opt/anaconda3/lib/python3.9/site-packages/pandas/core/computation/expressions.py:21: UserWarning: Pandas requires version '2.8.4' or newer of 'numexpr' (version '2.8.3' currently installed).\n",
      "  from pandas.core.computation.check import NUMEXPR_INSTALLED\n",
      "/Users/adic/opt/anaconda3/lib/python3.9/site-packages/pandas/core/arrays/masked.py:60: UserWarning: Pandas requires version '1.3.6' or newer of 'bottleneck' (version '1.3.5' currently installed).\n",
      "  from pandas.core import (\n",
      "/var/folders/06/m0cn9grx5y326z9dy_zw0pvh0000gn/T/ipykernel_3993/975688623.py:1: DeprecationWarning: \n",
      "Pyarrow will become a required dependency of pandas in the next major release of pandas (pandas 3.0),\n",
      "(to allow more performant data types, such as the Arrow string type, and better interoperability with other libraries)\n",
      "but was not found to be installed on your system.\n",
      "If this would cause problems for you,\n",
      "please provide us feedback at https://github.com/pandas-dev/pandas/issues/54466\n",
      "        \n",
      "  import pandas as pd\n"
     ]
    }
   ],
   "source": [
    "import pandas as pd\n",
    "import json\n",
    "import os\n",
    "import time\n",
    "from tqdm import tqdm"
   ]
  },
  {
   "cell_type": "code",
   "execution_count": 36,
   "id": "98e9e8e0",
   "metadata": {},
   "outputs": [],
   "source": [
    "### GET ACCESS TOKEN\n",
    "import requests\n",
    "\n",
    "def get_token():\n",
    "    client_id = 'bb55f61d0c724f28bbb265fcc110b1bb'\n",
    "    client_secret = '518f0ffd09724428b90254eaad8be47c'\n",
    "\n",
    "    auth_url = 'https://accounts.spotify.com/api/token'\n",
    "\n",
    "    data = {\n",
    "        'grant_type': 'client_credentials',\n",
    "        'client_id': client_id,\n",
    "        'client_secret': client_secret,\n",
    "    }\n",
    "    auth_response = requests.post(auth_url, data=data)\n",
    "    access_token = auth_response.json().get('access_token')\n",
    "    return access_token"
   ]
  },
  {
   "cell_type": "code",
   "execution_count": 15,
   "id": "b5239eda",
   "metadata": {},
   "outputs": [
    {
     "data": {
      "text/plain": [
       "['mpd.slice.549000-549999.json',\n",
       " 'mpd.slice.613000-613999.json',\n",
       " 'mpd.slice.115000-115999.json',\n",
       " 'mpd.slice.778000-778999.json',\n",
       " 'mpd.slice.290000-290999.json',\n",
       " 'mpd.slice.596000-596999.json',\n",
       " 'mpd.slice.324000-324999.json',\n",
       " 'mpd.slice.422000-422999.json',\n",
       " 'mpd.slice.974000-974999.json',\n",
       " 'mpd.slice.679000-679999.json',\n",
       " 'mpd.slice.7000-7999.json',\n",
       " 'mpd.slice.391000-391999.json',\n",
       " 'mpd.slice.497000-497999.json',\n",
       " 'mpd.slice.225000-225999.json',\n",
       " 'mpd.slice.523000-523999.json',\n",
       " 'mpd.slice.875000-875999.json',\n",
       " 'mpd.slice.448000-448999.json',\n",
       " 'mpd.slice.712000-712999.json',\n",
       " 'mpd.slice.193000-193999.json',\n",
       " 'mpd.slice.38000-38999.json',\n",
       " 'mpd.slice.695000-695999.json',\n",
       " 'mpd.slice.899000-899999.json',\n",
       " 'mpd.slice.721000-721999.json',\n",
       " 'mpd.slice.510000-510999.json',\n",
       " 'mpd.slice.846000-846999.json',\n",
       " 'mpd.slice.216000-216999.json',\n",
       " 'mpd.slice.411000-411999.json',\n",
       " 'mpd.slice.947000-947999.json',\n",
       " 'mpd.slice.317000-317999.json',\n",
       " 'mpd.slice.22000-22999.json',\n",
       " 'mpd.slice.794000-794999.json',\n",
       " 'mpd.slice.126000-126999.json',\n",
       " 'mpd.slice.998000-998999.json',\n",
       " 'mpd.slice.620000-620999.json',\n",
       " 'mpd.slice.3000-3999.json',\n",
       " 'mpd.slice.70000-70999.json',\n",
       " 'mpd.slice.597000-597999.json',\n",
       " 'mpd.slice.291000-291999.json',\n",
       " 'mpd.slice.779000-779999.json',\n",
       " 'mpd.slice.423000-423999.json',\n",
       " 'mpd.slice.975000-975999.json',\n",
       " 'mpd.slice.325000-325999.json',\n",
       " 'mpd.slice.548000-548999.json',\n",
       " 'mpd.slice.114000-114999.json',\n",
       " 'mpd.slice.612000-612999.json',\n",
       " 'mpd.slice.449000-449999.json',\n",
       " 'mpd.slice.713000-713999.json',\n",
       " 'mpd.slice.496000-496999.json',\n",
       " 'mpd.slice.390000-390999.json',\n",
       " 'mpd.slice.678000-678999.json',\n",
       " 'mpd.slice.522000-522999.json',\n",
       " 'mpd.slice.874000-874999.json',\n",
       " 'mpd.slice.224000-224999.json',\n",
       " 'mpd.slice.81000-81999.json',\n",
       " 'mpd.slice.217000-217999.json',\n",
       " 'mpd.slice.511000-511999.json',\n",
       " 'mpd.slice.847000-847999.json',\n",
       " 'mpd.slice.694000-694999.json',\n",
       " 'mpd.slice.192000-192999.json',\n",
       " 'mpd.slice.720000-720999.json',\n",
       " 'mpd.slice.898000-898999.json',\n",
       " 'mpd.slice.54000-54999.json',\n",
       " 'mpd.slice.795000-795999.json',\n",
       " 'mpd.slice.621000-621999.json',\n",
       " 'mpd.slice.999000-999999.json',\n",
       " 'mpd.slice.127000-127999.json',\n",
       " 'mpd.slice.316000-316999.json',\n",
       " 'mpd.slice.410000-410999.json',\n",
       " 'mpd.slice.946000-946999.json',\n",
       " 'mpd.slice.227000-227999.json',\n",
       " 'mpd.slice.84000-84999.json',\n",
       " 'mpd.slice.877000-877999.json',\n",
       " 'mpd.slice.521000-521999.json',\n",
       " 'mpd.slice.393000-393999.json',\n",
       " 'mpd.slice.495000-495999.json',\n",
       " 'mpd.slice.710000-710999.json',\n",
       " 'mpd.slice.611000-611999.json',\n",
       " 'mpd.slice.117000-117999.json',\n",
       " 'mpd.slice.51000-51999.json',\n",
       " 'mpd.slice.326000-326999.json',\n",
       " 'mpd.slice.976000-976999.json',\n",
       " 'mpd.slice.420000-420999.json',\n",
       " 'mpd.slice.292000-292999.json',\n",
       " 'mpd.slice.594000-594999.json',\n",
       " 'mpd.slice.945000-945999.json',\n",
       " 'mpd.slice.413000-413999.json',\n",
       " 'mpd.slice.75000-75999.json',\n",
       " 'mpd.slice.315000-315999.json',\n",
       " 'mpd.slice.749000-749999.json',\n",
       " 'mpd.slice.124000-124999.json',\n",
       " 'mpd.slice.622000-622999.json',\n",
       " 'mpd.slice.578000-578999.json',\n",
       " 'mpd.slice.796000-796999.json',\n",
       " 'mpd.slice.723000-723999.json',\n",
       " 'mpd.slice.191000-191999.json',\n",
       " 'mpd.slice.479000-479999.json',\n",
       " 'mpd.slice.697000-697999.json',\n",
       " 'mpd.slice.844000-844999.json',\n",
       " 'mpd.slice.512000-512999.json',\n",
       " 'mpd.slice.214000-214999.json',\n",
       " 'mpd.slice.648000-648999.json',\n",
       " 'mpd.slice.711000-711999.json',\n",
       " 'mpd.slice.876000-876999.json',\n",
       " 'mpd.slice.520000-520999.json',\n",
       " 'mpd.slice.226000-226999.json',\n",
       " 'mpd.slice.494000-494999.json',\n",
       " 'mpd.slice.392000-392999.json',\n",
       " 'mpd.slice.977000-977999.json',\n",
       " 'mpd.slice.421000-421999.json',\n",
       " 'mpd.slice.327000-327999.json',\n",
       " 'mpd.slice.595000-595999.json',\n",
       " 'mpd.slice.293000-293999.json',\n",
       " 'mpd.slice.116000-116999.json',\n",
       " 'mpd.slice.610000-610999.json',\n",
       " 'mpd.slice.27000-27999.json',\n",
       " 'mpd.slice.6000-6999.json',\n",
       " 'mpd.slice.623000-623999.json',\n",
       " 'mpd.slice.125000-125999.json',\n",
       " 'mpd.slice.797000-797999.json',\n",
       " 'mpd.slice.579000-579999.json',\n",
       " 'mpd.slice.314000-314999.json',\n",
       " 'mpd.slice.944000-944999.json',\n",
       " 'mpd.slice.412000-412999.json',\n",
       " 'mpd.slice.748000-748999.json',\n",
       " 'mpd.slice.215000-215999.json',\n",
       " 'mpd.slice.19000-19999.json',\n",
       " 'mpd.slice.845000-845999.json',\n",
       " 'mpd.slice.513000-513999.json',\n",
       " 'mpd.slice.2000-2999.json',\n",
       " 'mpd.slice.649000-649999.json',\n",
       " 'mpd.slice.722000-722999.json',\n",
       " 'mpd.slice.696000-696999.json',\n",
       " 'mpd.slice.478000-478999.json',\n",
       " 'mpd.slice.190000-190999.json',\n",
       " 'mpd.slice.540000-540999.json',\n",
       " 'mpd.slice.816000-816999.json',\n",
       " 'mpd.slice.246000-246999.json',\n",
       " 'mpd.slice.37000-37999.json',\n",
       " 'mpd.slice.299000-299999.json',\n",
       " 'mpd.slice.771000-771999.json',\n",
       " 'mpd.slice.176000-176999.json',\n",
       " 'mpd.slice.398000-398999.json',\n",
       " 'mpd.slice.670000-670999.json',\n",
       " 'mpd.slice.441000-441999.json',\n",
       " 'mpd.slice.917000-917999.json',\n",
       " 'mpd.slice.347000-347999.json',\n",
       " 'mpd.slice.374000-374999.json',\n",
       " 'mpd.slice.472000-472999.json',\n",
       " 'mpd.slice.924000-924999.json',\n",
       " 'mpd.slice.728000-728999.json',\n",
       " 'mpd.slice.890000-890999.json',\n",
       " 'mpd.slice.643000-643999.json',\n",
       " 'mpd.slice.145000-145999.json',\n",
       " 'mpd.slice.519000-519999.json',\n",
       " 'mpd.slice.742000-742999.json',\n",
       " 'mpd.slice.13000-13999.json',\n",
       " 'mpd.slice.418000-418999.json',\n",
       " 'mpd.slice.8000-8999.json',\n",
       " 'mpd.slice.275000-275999.json',\n",
       " 'mpd.slice.573000-573999.json',\n",
       " 'mpd.slice.825000-825999.json',\n",
       " 'mpd.slice.629000-629999.json',\n",
       " 'mpd.slice.991000-991999.json',\n",
       " 'mpd.slice.770000-770999.json',\n",
       " 'mpd.slice.298000-298999.json',\n",
       " 'mpd.slice.247000-247999.json',\n",
       " 'mpd.slice.541000-541999.json',\n",
       " 'mpd.slice.817000-817999.json',\n",
       " 'mpd.slice.41000-41999.json',\n",
       " 'mpd.slice.346000-346999.json',\n",
       " 'mpd.slice.440000-440999.json',\n",
       " 'mpd.slice.916000-916999.json',\n",
       " 'mpd.slice.671000-671999.json',\n",
       " 'mpd.slice.399000-399999.json',\n",
       " 'mpd.slice.177000-177999.json',\n",
       " 'mpd.slice.94000-94999.json',\n",
       " 'mpd.slice.144000-144999.json',\n",
       " 'mpd.slice.642000-642999.json',\n",
       " 'mpd.slice.518000-518999.json',\n",
       " 'mpd.slice.473000-473999.json',\n",
       " 'mpd.slice.925000-925999.json',\n",
       " 'mpd.slice.375000-375999.json',\n",
       " 'mpd.slice.891000-891999.json',\n",
       " 'mpd.slice.729000-729999.json',\n",
       " 'mpd.slice.572000-572999.json',\n",
       " 'mpd.slice.824000-824999.json',\n",
       " 'mpd.slice.274000-274999.json',\n",
       " 'mpd.slice.990000-990999.json',\n",
       " 'mpd.slice.628000-628999.json',\n",
       " 'mpd.slice.743000-743999.json',\n",
       " 'mpd.slice.419000-419999.json',\n",
       " 'mpd.slice.65000-65999.json',\n",
       " 'mpd.slice.528000-528999.json',\n",
       " 'mpd.slice.174000-174999.json',\n",
       " 'mpd.slice.672000-672999.json',\n",
       " 'mpd.slice.719000-719999.json',\n",
       " 'mpd.slice.915000-915999.json',\n",
       " 'mpd.slice.443000-443999.json',\n",
       " 'mpd.slice.345000-345999.json',\n",
       " 'mpd.slice.618000-618999.json',\n",
       " 'mpd.slice.814000-814999.json',\n",
       " 'mpd.slice.542000-542999.json',\n",
       " 'mpd.slice.244000-244999.json',\n",
       " 'mpd.slice.429000-429999.json',\n",
       " 'mpd.slice.773000-773999.json',\n",
       " 'mpd.slice.60000-60999.json',\n",
       " 'mpd.slice.740000-740999.json',\n",
       " 'mpd.slice.993000-993999.json',\n",
       " 'mpd.slice.277000-277999.json',\n",
       " 'mpd.slice.827000-827999.json',\n",
       " 'mpd.slice.571000-571999.json',\n",
       " 'mpd.slice.44000-44999.json',\n",
       " 'mpd.slice.892000-892999.json',\n",
       " 'mpd.slice.376000-376999.json',\n",
       " 'mpd.slice.926000-926999.json',\n",
       " 'mpd.slice.470000-470999.json',\n",
       " 'mpd.slice.198000-198999.json',\n",
       " 'mpd.slice.91000-91999.json',\n",
       " 'mpd.slice.641000-641999.json',\n",
       " 'mpd.slice.147000-147999.json',\n",
       " 'mpd.slice.718000-718999.json',\n",
       " 'mpd.slice.344000-344999.json',\n",
       " 'mpd.slice.914000-914999.json',\n",
       " 'mpd.slice.442000-442999.json',\n",
       " 'mpd.slice.529000-529999.json',\n",
       " 'mpd.slice.673000-673999.json',\n",
       " 'mpd.slice.175000-175999.json',\n",
       " 'mpd.slice.428000-428999.json',\n",
       " 'mpd.slice.772000-772999.json',\n",
       " 'mpd.slice.16000-16999.json',\n",
       " 'mpd.slice.619000-619999.json',\n",
       " 'mpd.slice.245000-245999.json',\n",
       " 'mpd.slice.815000-815999.json',\n",
       " 'mpd.slice.543000-543999.json',\n",
       " 'mpd.slice.992000-992999.json',\n",
       " 'mpd.slice.826000-826999.json',\n",
       " 'mpd.slice.570000-570999.json',\n",
       " 'mpd.slice.32000-32999.json',\n",
       " 'mpd.slice.276000-276999.json',\n",
       " 'mpd.slice.741000-741999.json',\n",
       " 'mpd.slice.146000-146999.json',\n",
       " 'mpd.slice.640000-640999.json',\n",
       " 'mpd.slice.893000-893999.json',\n",
       " 'mpd.slice.9000-9999.json',\n",
       " 'mpd.slice.199000-199999.json',\n",
       " 'mpd.slice.927000-927999.json',\n",
       " 'mpd.slice.471000-471999.json',\n",
       " 'mpd.slice.28000-28999.json',\n",
       " 'mpd.slice.377000-377999.json',\n",
       " 'mpd.slice.880000-880999.json',\n",
       " 'mpd.slice.738000-738999.json',\n",
       " 'mpd.slice.934000-934999.json',\n",
       " 'mpd.slice.462000-462999.json',\n",
       " 'mpd.slice.364000-364999.json',\n",
       " 'mpd.slice.509000-509999.json',\n",
       " 'mpd.slice.155000-155999.json',\n",
       " 'mpd.slice.653000-653999.json',\n",
       " 'mpd.slice.408000-408999.json',\n",
       " 'mpd.slice.10000-10999.json',\n",
       " 'mpd.slice.752000-752999.json',\n",
       " 'mpd.slice.981000-981999.json',\n",
       " 'mpd.slice.639000-639999.json',\n",
       " 'mpd.slice.835000-835999.json',\n",
       " 'mpd.slice.563000-563999.json',\n",
       " 'mpd.slice.265000-265999.json',\n",
       " 'mpd.slice.34000-34999.json',\n",
       " 'mpd.slice.256000-256999.json',\n",
       " 'mpd.slice.806000-806999.json',\n",
       " 'mpd.slice.550000-550999.json',\n",
       " 'mpd.slice.289000-289999.json',\n",
       " 'mpd.slice.761000-761999.json',\n",
       " 'mpd.slice.388000-388999.json',\n",
       " 'mpd.slice.660000-660999.json',\n",
       " 'mpd.slice.166000-166999.json',\n",
       " 'mpd.slice.357000-357999.json',\n",
       " 'mpd.slice.907000-907999.json',\n",
       " 'mpd.slice.451000-451999.json',\n",
       " 'mpd.slice.508000-508999.json',\n",
       " 'mpd.slice.652000-652999.json',\n",
       " 'mpd.slice.154000-154999.json',\n",
       " 'mpd.slice.739000-739999.json',\n",
       " 'mpd.slice.881000-881999.json',\n",
       " 'mpd.slice.365000-365999.json',\n",
       " 'mpd.slice.935000-935999.json',\n",
       " 'mpd.slice.463000-463999.json',\n",
       " 'mpd.slice.638000-638999.json',\n",
       " 'mpd.slice.980000-980999.json',\n",
       " 'mpd.slice.264000-264999.json',\n",
       " 'mpd.slice.834000-834999.json',\n",
       " 'mpd.slice.562000-562999.json',\n",
       " 'mpd.slice.66000-66999.json',\n",
       " 'mpd.slice.409000-409999.json',\n",
       " 'mpd.slice.753000-753999.json',\n",
       " 'mpd.slice.760000-760999.json',\n",
       " 'mpd.slice.288000-288999.json',\n",
       " 'mpd.slice.42000-42999.json',\n",
       " 'mpd.slice.807000-807999.json',\n",
       " 'mpd.slice.551000-551999.json',\n",
       " 'mpd.slice.257000-257999.json',\n",
       " 'mpd.slice.58000-58999.json',\n",
       " 'mpd.slice.906000-906999.json',\n",
       " 'mpd.slice.450000-450999.json',\n",
       " 'mpd.slice.356000-356999.json',\n",
       " 'mpd.slice.97000-97999.json',\n",
       " 'mpd.slice.167000-167999.json',\n",
       " 'mpd.slice.661000-661999.json',\n",
       " 'mpd.slice.389000-389999.json',\n",
       " 'mpd.slice.88000-88999.json',\n",
       " 'mpd.slice.750000-750999.json',\n",
       " 'mpd.slice.561000-561999.json',\n",
       " 'mpd.slice.837000-837999.json',\n",
       " 'mpd.slice.47000-47999.json',\n",
       " 'mpd.slice.267000-267999.json',\n",
       " 'mpd.slice.983000-983999.json',\n",
       " 'mpd.slice.460000-460999.json',\n",
       " 'mpd.slice.936000-936999.json',\n",
       " 'mpd.slice.188000-188999.json',\n",
       " 'mpd.slice.366000-366999.json',\n",
       " 'mpd.slice.882000-882999.json',\n",
       " 'mpd.slice.92000-92999.json',\n",
       " 'mpd.slice.157000-157999.json',\n",
       " 'mpd.slice.651000-651999.json',\n",
       " 'mpd.slice.662000-662999.json',\n",
       " 'mpd.slice.79000-79999.json',\n",
       " 'mpd.slice.164000-164999.json',\n",
       " 'mpd.slice.538000-538999.json',\n",
       " 'mpd.slice.355000-355999.json',\n",
       " 'mpd.slice.453000-453999.json',\n",
       " 'mpd.slice.905000-905999.json',\n",
       " 'mpd.slice.709000-709999.json',\n",
       " 'mpd.slice.254000-254999.json',\n",
       " 'mpd.slice.552000-552999.json',\n",
       " 'mpd.slice.804000-804999.json',\n",
       " 'mpd.slice.608000-608999.json',\n",
       " 'mpd.slice.763000-763999.json',\n",
       " 'mpd.slice.63000-63999.json',\n",
       " 'mpd.slice.439000-439999.json',\n",
       " 'mpd.slice.266000-266999.json',\n",
       " 'mpd.slice.560000-560999.json',\n",
       " 'mpd.slice.836000-836999.json',\n",
       " 'mpd.slice.31000-31999.json',\n",
       " 'mpd.slice.982000-982999.json',\n",
       " 'mpd.slice.751000-751999.json',\n",
       " 'mpd.slice.650000-650999.json',\n",
       " 'mpd.slice.156000-156999.json',\n",
       " 'mpd.slice.0-999.json',\n",
       " 'mpd.slice.367000-367999.json',\n",
       " 'mpd.slice.189000-189999.json',\n",
       " 'mpd.slice.461000-461999.json',\n",
       " 'mpd.slice.937000-937999.json',\n",
       " 'mpd.slice.883000-883999.json',\n",
       " 'mpd.slice.452000-452999.json',\n",
       " 'mpd.slice.904000-904999.json',\n",
       " 'mpd.slice.354000-354999.json',\n",
       " 'mpd.slice.708000-708999.json',\n",
       " 'mpd.slice.165000-165999.json',\n",
       " 'mpd.slice.663000-663999.json',\n",
       " 'mpd.slice.539000-539999.json',\n",
       " 'mpd.slice.762000-762999.json',\n",
       " 'mpd.slice.15000-15999.json',\n",
       " 'mpd.slice.438000-438999.json',\n",
       " 'mpd.slice.553000-553999.json',\n",
       " 'mpd.slice.805000-805999.json',\n",
       " 'mpd.slice.255000-255999.json',\n",
       " 'mpd.slice.609000-609999.json',\n",
       " 'mpd.slice.731000-731999.json',\n",
       " 'mpd.slice.889000-889999.json',\n",
       " 'mpd.slice.685000-685999.json',\n",
       " 'mpd.slice.183000-183999.json',\n",
       " 'mpd.slice.206000-206999.json',\n",
       " 'mpd.slice.856000-856999.json',\n",
       " 'mpd.slice.500000-500999.json',\n",
       " 'mpd.slice.307000-307999.json',\n",
       " 'mpd.slice.957000-957999.json',\n",
       " 'mpd.slice.401000-401999.json',\n",
       " 'mpd.slice.630000-630999.json',\n",
       " 'mpd.slice.136000-136999.json',\n",
       " 'mpd.slice.988000-988999.json',\n",
       " 'mpd.slice.21000-21999.json',\n",
       " 'mpd.slice.784000-784999.json',\n",
       " 'mpd.slice.105000-105999.json',\n",
       " 'mpd.slice.603000-603999.json',\n",
       " 'mpd.slice.559000-559999.json',\n",
       " 'mpd.slice.964000-964999.json',\n",
       " 'mpd.slice.432000-432999.json',\n",
       " 'mpd.slice.334000-334999.json',\n",
       " 'mpd.slice.586000-586999.json',\n",
       " 'mpd.slice.768000-768999.json',\n",
       " 'mpd.slice.280000-280999.json',\n",
       " 'mpd.slice.865000-865999.json',\n",
       " 'mpd.slice.533000-533999.json',\n",
       " 'mpd.slice.235000-235999.json',\n",
       " 'mpd.slice.487000-487999.json',\n",
       " 'mpd.slice.669000-669999.json',\n",
       " 'mpd.slice.381000-381999.json',\n",
       " 'mpd.slice.702000-702999.json',\n",
       " 'mpd.slice.458000-458999.json',\n",
       " 'mpd.slice.857000-857999.json',\n",
       " 'mpd.slice.501000-501999.json',\n",
       " 'mpd.slice.207000-207999.json',\n",
       " 'mpd.slice.82000-82999.json',\n",
       " 'mpd.slice.888000-888999.json',\n",
       " 'mpd.slice.730000-730999.json',\n",
       " 'mpd.slice.182000-182999.json',\n",
       " 'mpd.slice.684000-684999.json',\n",
       " 'mpd.slice.989000-989999.json',\n",
       " 'mpd.slice.137000-137999.json',\n",
       " 'mpd.slice.631000-631999.json',\n",
       " 'mpd.slice.57000-57999.json',\n",
       " 'mpd.slice.785000-785999.json',\n",
       " 'mpd.slice.956000-956999.json',\n",
       " 'mpd.slice.400000-400999.json',\n",
       " 'mpd.slice.306000-306999.json',\n",
       " 'mpd.slice.98000-98999.json',\n",
       " 'mpd.slice.335000-335999.json',\n",
       " 'mpd.slice.965000-965999.json',\n",
       " 'mpd.slice.433000-433999.json',\n",
       " 'mpd.slice.73000-73999.json',\n",
       " 'mpd.slice.281000-281999.json',\n",
       " 'mpd.slice.769000-769999.json',\n",
       " 'mpd.slice.587000-587999.json',\n",
       " 'mpd.slice.602000-602999.json',\n",
       " 'mpd.slice.104000-104999.json',\n",
       " 'mpd.slice.558000-558999.json',\n",
       " 'mpd.slice.703000-703999.json',\n",
       " 'mpd.slice.459000-459999.json',\n",
       " 'mpd.slice.234000-234999.json',\n",
       " 'mpd.slice.864000-864999.json',\n",
       " 'mpd.slice.532000-532999.json',\n",
       " 'mpd.slice.380000-380999.json',\n",
       " 'mpd.slice.668000-668999.json',\n",
       " 'mpd.slice.69000-69999.json',\n",
       " 'mpd.slice.486000-486999.json',\n",
       " 'mpd.slice.759000-759999.json',\n",
       " 'mpd.slice.305000-305999.json',\n",
       " 'mpd.slice.403000-403999.json',\n",
       " 'mpd.slice.955000-955999.json',\n",
       " 'mpd.slice.76000-76999.json',\n",
       " 'mpd.slice.786000-786999.json',\n",
       " 'mpd.slice.568000-568999.json',\n",
       " 'mpd.slice.632000-632999.json',\n",
       " 'mpd.slice.134000-134999.json',\n",
       " 'mpd.slice.687000-687999.json',\n",
       " 'mpd.slice.181000-181999.json',\n",
       " 'mpd.slice.469000-469999.json',\n",
       " 'mpd.slice.733000-733999.json',\n",
       " 'mpd.slice.658000-658999.json',\n",
       " 'mpd.slice.204000-204999.json',\n",
       " 'mpd.slice.502000-502999.json',\n",
       " 'mpd.slice.854000-854999.json',\n",
       " 'mpd.slice.485000-485999.json',\n",
       " 'mpd.slice.383000-383999.json',\n",
       " 'mpd.slice.87000-87999.json',\n",
       " 'mpd.slice.531000-531999.json',\n",
       " 'mpd.slice.867000-867999.json',\n",
       " 'mpd.slice.237000-237999.json',\n",
       " 'mpd.slice.48000-48999.json',\n",
       " 'mpd.slice.700000-700999.json',\n",
       " 'mpd.slice.107000-107999.json',\n",
       " 'mpd.slice.601000-601999.json',\n",
       " 'mpd.slice.52000-52999.json',\n",
       " 'mpd.slice.584000-584999.json',\n",
       " 'mpd.slice.282000-282999.json',\n",
       " 'mpd.slice.430000-430999.json',\n",
       " 'mpd.slice.966000-966999.json',\n",
       " 'mpd.slice.336000-336999.json',\n",
       " 'mpd.slice.569000-569999.json',\n",
       " 'mpd.slice.787000-787999.json',\n",
       " 'mpd.slice.135000-135999.json',\n",
       " 'mpd.slice.633000-633999.json',\n",
       " 'mpd.slice.758000-758999.json',\n",
       " 'mpd.slice.402000-402999.json',\n",
       " 'mpd.slice.954000-954999.json',\n",
       " 'mpd.slice.304000-304999.json',\n",
       " 'mpd.slice.659000-659999.json',\n",
       " 'mpd.slice.503000-503999.json',\n",
       " 'mpd.slice.855000-855999.json',\n",
       " 'mpd.slice.205000-205999.json',\n",
       " 'mpd.slice.468000-468999.json',\n",
       " 'mpd.slice.180000-180999.json',\n",
       " 'mpd.slice.686000-686999.json',\n",
       " 'mpd.slice.732000-732999.json',\n",
       " 'mpd.slice.701000-701999.json',\n",
       " 'mpd.slice.382000-382999.json',\n",
       " 'mpd.slice.484000-484999.json',\n",
       " 'mpd.slice.236000-236999.json',\n",
       " 'mpd.slice.530000-530999.json',\n",
       " 'mpd.slice.866000-866999.json',\n",
       " 'mpd.slice.283000-283999.json',\n",
       " 'mpd.slice.585000-585999.json',\n",
       " 'mpd.slice.337000-337999.json',\n",
       " 'mpd.slice.431000-431999.json',\n",
       " 'mpd.slice.967000-967999.json',\n",
       " 'mpd.slice.600000-600999.json',\n",
       " 'mpd.slice.24000-24999.json',\n",
       " 'mpd.slice.106000-106999.json',\n",
       " 'mpd.slice.941000-941999.json',\n",
       " 'mpd.slice.417000-417999.json',\n",
       " 'mpd.slice.311000-311999.json',\n",
       " 'mpd.slice.5000-5999.json',\n",
       " 'mpd.slice.792000-792999.json',\n",
       " 'mpd.slice.120000-120999.json',\n",
       " 'mpd.slice.626000-626999.json',\n",
       " 'mpd.slice.195000-195999.json',\n",
       " 'mpd.slice.14000-14999.json',\n",
       " 'mpd.slice.693000-693999.json',\n",
       " 'mpd.slice.727000-727999.json',\n",
       " 'mpd.slice.840000-840999.json',\n",
       " 'mpd.slice.516000-516999.json',\n",
       " 'mpd.slice.210000-210999.json',\n",
       " 'mpd.slice.30000-30999.json',\n",
       " 'mpd.slice.397000-397999.json',\n",
       " 'mpd.slice.491000-491999.json',\n",
       " 'mpd.slice.179000-179999.json',\n",
       " 'mpd.slice.223000-223999.json',\n",
       " 'mpd.slice.873000-873999.json',\n",
       " 'mpd.slice.525000-525999.json',\n",
       " 'mpd.slice.348000-348999.json',\n",
       " 'mpd.slice.1000-1999.json',\n",
       " 'mpd.slice.918000-918999.json',\n",
       " 'mpd.slice.714000-714999.json',\n",
       " 'mpd.slice.249000-249999.json',\n",
       " 'mpd.slice.819000-819999.json',\n",
       " 'mpd.slice.615000-615999.json',\n",
       " 'mpd.slice.113000-113999.json',\n",
       " 'mpd.slice.296000-296999.json',\n",
       " 'mpd.slice.590000-590999.json',\n",
       " 'mpd.slice.322000-322999.json',\n",
       " 'mpd.slice.972000-972999.json',\n",
       " 'mpd.slice.424000-424999.json',\n",
       " 'mpd.slice.793000-793999.json',\n",
       " 'mpd.slice.78000-78999.json',\n",
       " 'mpd.slice.627000-627999.json',\n",
       " 'mpd.slice.121000-121999.json',\n",
       " 'mpd.slice.310000-310999.json',\n",
       " 'mpd.slice.940000-940999.json',\n",
       " 'mpd.slice.416000-416999.json',\n",
       " 'mpd.slice.211000-211999.json',\n",
       " 'mpd.slice.841000-841999.json',\n",
       " 'mpd.slice.517000-517999.json',\n",
       " 'mpd.slice.692000-692999.json',\n",
       " 'mpd.slice.62000-62999.json',\n",
       " 'mpd.slice.194000-194999.json',\n",
       " 'mpd.slice.726000-726999.json',\n",
       " 'mpd.slice.919000-919999.json',\n",
       " 'mpd.slice.89000-89999.json',\n",
       " 'mpd.slice.349000-349999.json',\n",
       " 'mpd.slice.715000-715999.json',\n",
       " 'mpd.slice.178000-178999.json',\n",
       " 'mpd.slice.490000-490999.json',\n",
       " 'mpd.slice.46000-46999.json',\n",
       " 'mpd.slice.396000-396999.json',\n",
       " 'mpd.slice.872000-872999.json',\n",
       " 'mpd.slice.524000-524999.json',\n",
       " 'mpd.slice.222000-222999.json',\n",
       " 'mpd.slice.591000-591999.json',\n",
       " 'mpd.slice.297000-297999.json',\n",
       " 'mpd.slice.973000-973999.json',\n",
       " 'mpd.slice.425000-425999.json',\n",
       " 'mpd.slice.323000-323999.json',\n",
       " 'mpd.slice.818000-818999.json',\n",
       " 'mpd.slice.93000-93999.json',\n",
       " 'mpd.slice.248000-248999.json',\n",
       " 'mpd.slice.112000-112999.json',\n",
       " 'mpd.slice.614000-614999.json',\n",
       " 'mpd.slice.725000-725999.json',\n",
       " 'mpd.slice.929000-929999.json',\n",
       " 'mpd.slice.197000-197999.json',\n",
       " 'mpd.slice.379000-379999.json',\n",
       " 'mpd.slice.691000-691999.json',\n",
       " 'mpd.slice.514000-514999.json',\n",
       " 'mpd.slice.842000-842999.json',\n",
       " 'mpd.slice.212000-212999.json',\n",
       " 'mpd.slice.43000-43999.json',\n",
       " 'mpd.slice.148000-148999.json',\n",
       " 'mpd.slice.415000-415999.json',\n",
       " 'mpd.slice.943000-943999.json',\n",
       " 'mpd.slice.59000-59999.json',\n",
       " 'mpd.slice.313000-313999.json',\n",
       " 'mpd.slice.96000-96999.json',\n",
       " 'mpd.slice.122000-122999.json',\n",
       " 'mpd.slice.624000-624999.json',\n",
       " 'mpd.slice.828000-828999.json',\n",
       " 'mpd.slice.278000-278999.json',\n",
       " 'mpd.slice.790000-790999.json',\n",
       " 'mpd.slice.617000-617999.json',\n",
       " 'mpd.slice.111000-111999.json',\n",
       " 'mpd.slice.320000-320999.json',\n",
       " 'mpd.slice.426000-426999.json',\n",
       " 'mpd.slice.970000-970999.json',\n",
       " 'mpd.slice.294000-294999.json',\n",
       " 'mpd.slice.592000-592999.json',\n",
       " 'mpd.slice.221000-221999.json',\n",
       " 'mpd.slice.527000-527999.json',\n",
       " 'mpd.slice.871000-871999.json',\n",
       " 'mpd.slice.395000-395999.json',\n",
       " 'mpd.slice.493000-493999.json',\n",
       " 'mpd.slice.716000-716999.json',\n",
       " 'mpd.slice.67000-67999.json',\n",
       " 'mpd.slice.213000-213999.json',\n",
       " 'mpd.slice.35000-35999.json',\n",
       " 'mpd.slice.515000-515999.json',\n",
       " 'mpd.slice.843000-843999.json',\n",
       " 'mpd.slice.149000-149999.json',\n",
       " 'mpd.slice.724000-724999.json',\n",
       " 'mpd.slice.4000-4999.json',\n",
       " 'mpd.slice.690000-690999.json',\n",
       " 'mpd.slice.378000-378999.json',\n",
       " 'mpd.slice.196000-196999.json',\n",
       " 'mpd.slice.928000-928999.json',\n",
       " 'mpd.slice.625000-625999.json',\n",
       " 'mpd.slice.123000-123999.json',\n",
       " 'mpd.slice.791000-791999.json',\n",
       " 'mpd.slice.279000-279999.json',\n",
       " 'mpd.slice.829000-829999.json',\n",
       " 'mpd.slice.312000-312999.json',\n",
       " 'mpd.slice.414000-414999.json',\n",
       " 'mpd.slice.942000-942999.json',\n",
       " 'mpd.slice.427000-427999.json',\n",
       " 'mpd.slice.971000-971999.json',\n",
       " 'mpd.slice.321000-321999.json',\n",
       " 'mpd.slice.593000-593999.json',\n",
       " 'mpd.slice.295000-295999.json',\n",
       " 'mpd.slice.110000-110999.json',\n",
       " 'mpd.slice.616000-616999.json',\n",
       " 'mpd.slice.11000-11999.json',\n",
       " 'mpd.slice.717000-717999.json',\n",
       " 'mpd.slice.526000-526999.json',\n",
       " 'mpd.slice.870000-870999.json',\n",
       " 'mpd.slice.220000-220999.json',\n",
       " 'mpd.slice.492000-492999.json',\n",
       " 'mpd.slice.394000-394999.json',\n",
       " 'mpd.slice.744000-744999.json',\n",
       " 'mpd.slice.318000-318999.json',\n",
       " 'mpd.slice.948000-948999.json',\n",
       " 'mpd.slice.273000-273999.json',\n",
       " 'mpd.slice.823000-823999.json',\n",
       " 'mpd.slice.575000-575999.json',\n",
       " 'mpd.slice.129000-129999.json',\n",
       " 'mpd.slice.997000-997999.json',\n",
       " 'mpd.slice.372000-372999.json',\n",
       " 'mpd.slice.922000-922999.json',\n",
       " 'mpd.slice.474000-474999.json',\n",
       " 'mpd.slice.896000-896999.json',\n",
       " 'mpd.slice.645000-645999.json',\n",
       " 'mpd.slice.143000-143999.json',\n",
       " 'mpd.slice.219000-219999.json',\n",
       " 'mpd.slice.25000-25999.json',\n",
       " 'mpd.slice.849000-849999.json',\n",
       " 'mpd.slice.170000-170999.json',\n",
       " 'mpd.slice.498000-498999.json',\n",
       " 'mpd.slice.676000-676999.json',\n",
       " 'mpd.slice.911000-911999.json',\n",
       " 'mpd.slice.447000-447999.json',\n",
       " 'mpd.slice.341000-341999.json',\n",
       " 'mpd.slice.810000-810999.json',\n",
       " 'mpd.slice.546000-546999.json',\n",
       " 'mpd.slice.240000-240999.json',\n",
       " 'mpd.slice.599000-599999.json',\n",
       " 'mpd.slice.777000-777999.json',\n",
       " 'mpd.slice.822000-822999.json',\n",
       " 'mpd.slice.574000-574999.json',\n",
       " 'mpd.slice.272000-272999.json',\n",
       " 'mpd.slice.996000-996999.json',\n",
       " 'mpd.slice.128000-128999.json',\n",
       " 'mpd.slice.86000-86999.json',\n",
       " 'mpd.slice.745000-745999.json',\n",
       " 'mpd.slice.949000-949999.json',\n",
       " 'mpd.slice.319000-319999.json',\n",
       " 'mpd.slice.49000-49999.json',\n",
       " 'mpd.slice.142000-142999.json',\n",
       " 'mpd.slice.644000-644999.json',\n",
       " 'mpd.slice.53000-53999.json',\n",
       " 'mpd.slice.848000-848999.json',\n",
       " 'mpd.slice.218000-218999.json',\n",
       " 'mpd.slice.923000-923999.json',\n",
       " 'mpd.slice.475000-475999.json',\n",
       " 'mpd.slice.373000-373999.json',\n",
       " 'mpd.slice.897000-897999.json',\n",
       " 'mpd.slice.340000-340999.json',\n",
       " 'mpd.slice.910000-910999.json',\n",
       " 'mpd.slice.446000-446999.json',\n",
       " 'mpd.slice.77000-77999.json',\n",
       " 'mpd.slice.677000-677999.json',\n",
       " 'mpd.slice.499000-499999.json',\n",
       " 'mpd.slice.171000-171999.json',\n",
       " 'mpd.slice.776000-776999.json',\n",
       " 'mpd.slice.598000-598999.json',\n",
       " 'mpd.slice.241000-241999.json',\n",
       " 'mpd.slice.811000-811999.json',\n",
       " 'mpd.slice.547000-547999.json',\n",
       " 'mpd.slice.894000-894999.json',\n",
       " 'mpd.slice.698000-698999.json',\n",
       " 'mpd.slice.370000-370999.json',\n",
       " 'mpd.slice.476000-476999.json',\n",
       " 'mpd.slice.920000-920999.json',\n",
       " 'mpd.slice.72000-72999.json',\n",
       " 'mpd.slice.647000-647999.json',\n",
       " 'mpd.slice.141000-141999.json',\n",
       " 'mpd.slice.746000-746999.json',\n",
       " 'mpd.slice.995000-995999.json',\n",
       " 'mpd.slice.799000-799999.json',\n",
       " 'mpd.slice.271000-271999.json',\n",
       " 'mpd.slice.68000-68999.json',\n",
       " 'mpd.slice.577000-577999.json',\n",
       " 'mpd.slice.821000-821999.json',\n",
       " 'mpd.slice.118000-118999.json',\n",
       " 'mpd.slice.83000-83999.json',\n",
       " 'mpd.slice.544000-544999.json',\n",
       " 'mpd.slice.812000-812999.json',\n",
       " 'mpd.slice.242000-242999.json',\n",
       " 'mpd.slice.979000-979999.json',\n",
       " 'mpd.slice.329000-329999.json',\n",
       " 'mpd.slice.775000-775999.json',\n",
       " 'mpd.slice.878000-878999.json',\n",
       " 'mpd.slice.228000-228999.json',\n",
       " 'mpd.slice.172000-172999.json',\n",
       " 'mpd.slice.56000-56999.json',\n",
       " 'mpd.slice.674000-674999.json',\n",
       " 'mpd.slice.445000-445999.json',\n",
       " 'mpd.slice.913000-913999.json',\n",
       " 'mpd.slice.99000-99999.json',\n",
       " 'mpd.slice.343000-343999.json',\n",
       " 'mpd.slice.140000-140999.json',\n",
       " 'mpd.slice.646000-646999.json',\n",
       " 'mpd.slice.895000-895999.json',\n",
       " 'mpd.slice.477000-477999.json',\n",
       " 'mpd.slice.921000-921999.json',\n",
       " 'mpd.slice.371000-371999.json',\n",
       " 'mpd.slice.699000-699999.json',\n",
       " 'mpd.slice.994000-994999.json',\n",
       " 'mpd.slice.576000-576999.json',\n",
       " 'mpd.slice.820000-820999.json',\n",
       " 'mpd.slice.270000-270999.json',\n",
       " 'mpd.slice.798000-798999.json',\n",
       " 'mpd.slice.747000-747999.json',\n",
       " 'mpd.slice.328000-328999.json',\n",
       " 'mpd.slice.978000-978999.json',\n",
       " 'mpd.slice.774000-774999.json',\n",
       " 'mpd.slice.119000-119999.json',\n",
       " 'mpd.slice.243000-243999.json',\n",
       " 'mpd.slice.545000-545999.json',\n",
       " 'mpd.slice.813000-813999.json',\n",
       " 'mpd.slice.342000-342999.json',\n",
       " 'mpd.slice.444000-444999.json',\n",
       " 'mpd.slice.912000-912999.json',\n",
       " 'mpd.slice.229000-229999.json',\n",
       " 'mpd.slice.879000-879999.json',\n",
       " 'mpd.slice.675000-675999.json',\n",
       " 'mpd.slice.173000-173999.json',\n",
       " 'mpd.slice.20000-20999.json',\n",
       " 'mpd.slice.666000-666999.json',\n",
       " 'mpd.slice.160000-160999.json',\n",
       " 'mpd.slice.488000-488999.json',\n",
       " 'mpd.slice.351000-351999.json',\n",
       " 'mpd.slice.457000-457999.json',\n",
       " 'mpd.slice.901000-901999.json',\n",
       " 'mpd.slice.18000-18999.json',\n",
       " 'mpd.slice.250000-250999.json',\n",
       " 'mpd.slice.556000-556999.json',\n",
       " 'mpd.slice.800000-800999.json',\n",
       " 'mpd.slice.767000-767999.json',\n",
       " 'mpd.slice.589000-589999.json',\n",
       " 'mpd.slice.958000-958999.json',\n",
       " 'mpd.slice.308000-308999.json',\n",
       " 'mpd.slice.754000-754999.json',\n",
       " 'mpd.slice.139000-139999.json',\n",
       " 'mpd.slice.987000-987999.json',\n",
       " 'mpd.slice.565000-565999.json',\n",
       " 'mpd.slice.833000-833999.json',\n",
       " 'mpd.slice.263000-263999.json',\n",
       " 'mpd.slice.886000-886999.json',\n",
       " 'mpd.slice.464000-464999.json',\n",
       " 'mpd.slice.932000-932999.json',\n",
       " 'mpd.slice.362000-362999.json',\n",
       " 'mpd.slice.26000-26999.json',\n",
       " 'mpd.slice.859000-859999.json',\n",
       " 'mpd.slice.209000-209999.json',\n",
       " 'mpd.slice.153000-153999.json',\n",
       " 'mpd.slice.655000-655999.json',\n",
       " 'mpd.slice.74000-74999.json',\n",
       " 'mpd.slice.456000-456999.json',\n",
       " 'mpd.slice.900000-900999.json',\n",
       " 'mpd.slice.350000-350999.json',\n",
       " 'mpd.slice.489000-489999.json',\n",
       " 'mpd.slice.161000-161999.json',\n",
       " 'mpd.slice.667000-667999.json',\n",
       " 'mpd.slice.588000-588999.json',\n",
       " 'mpd.slice.766000-766999.json',\n",
       " 'mpd.slice.557000-557999.json',\n",
       " 'mpd.slice.801000-801999.json',\n",
       " 'mpd.slice.251000-251999.json',\n",
       " 'mpd.slice.85000-85999.json',\n",
       " 'mpd.slice.986000-986999.json',\n",
       " 'mpd.slice.138000-138999.json',\n",
       " 'mpd.slice.262000-262999.json',\n",
       " 'mpd.slice.564000-564999.json',\n",
       " 'mpd.slice.832000-832999.json',\n",
       " 'mpd.slice.309000-309999.json',\n",
       " 'mpd.slice.959000-959999.json',\n",
       " 'mpd.slice.755000-755999.json',\n",
       " 'mpd.slice.208000-208999.json',\n",
       " 'mpd.slice.50000-50999.json',\n",
       " 'mpd.slice.858000-858999.json',\n",
       " 'mpd.slice.654000-654999.json',\n",
       " 'mpd.slice.152000-152999.json',\n",
       " 'mpd.slice.887000-887999.json',\n",
       " 'mpd.slice.363000-363999.json',\n",
       " 'mpd.slice.465000-465999.json',\n",
       " 'mpd.slice.933000-933999.json',\n",
       " 'mpd.slice.80000-80999.json',\n",
       " 'mpd.slice.252000-252999.json',\n",
       " 'mpd.slice.802000-802999.json',\n",
       " 'mpd.slice.554000-554999.json',\n",
       " 'mpd.slice.108000-108999.json',\n",
       " 'mpd.slice.765000-765999.json',\n",
       " 'mpd.slice.339000-339999.json',\n",
       " 'mpd.slice.969000-969999.json',\n",
       " 'mpd.slice.664000-664999.json',\n",
       " 'mpd.slice.162000-162999.json',\n",
       " 'mpd.slice.55000-55999.json',\n",
       " 'mpd.slice.238000-238999.json',\n",
       " 'mpd.slice.868000-868999.json',\n",
       " 'mpd.slice.353000-353999.json',\n",
       " 'mpd.slice.903000-903999.json',\n",
       " 'mpd.slice.455000-455999.json',\n",
       " 'mpd.slice.930000-930999.json',\n",
       " 'mpd.slice.466000-466999.json',\n",
       " 'mpd.slice.688000-688999.json',\n",
       " 'mpd.slice.360000-360999.json',\n",
       " 'mpd.slice.71000-71999.json',\n",
       " 'mpd.slice.884000-884999.json',\n",
       " 'mpd.slice.151000-151999.json',\n",
       " 'mpd.slice.657000-657999.json',\n",
       " 'mpd.slice.756000-756999.json',\n",
       " 'mpd.slice.831000-831999.json',\n",
       " 'mpd.slice.567000-567999.json',\n",
       " 'mpd.slice.789000-789999.json',\n",
       " 'mpd.slice.261000-261999.json',\n",
       " 'mpd.slice.985000-985999.json',\n",
       " 'mpd.slice.39000-39999.json',\n",
       " 'mpd.slice.764000-764999.json',\n",
       " 'mpd.slice.968000-968999.json',\n",
       " 'mpd.slice.338000-338999.json',\n",
       " 'mpd.slice.803000-803999.json',\n",
       " 'mpd.slice.555000-555999.json',\n",
       " 'mpd.slice.253000-253999.json',\n",
       " 'mpd.slice.109000-109999.json',\n",
       " 'mpd.slice.902000-902999.json',\n",
       " 'mpd.slice.454000-454999.json',\n",
       " 'mpd.slice.352000-352999.json',\n",
       " 'mpd.slice.163000-163999.json',\n",
       " 'mpd.slice.23000-23999.json',\n",
       " 'mpd.slice.665000-665999.json',\n",
       " 'mpd.slice.869000-869999.json',\n",
       " 'mpd.slice.239000-239999.json',\n",
       " 'mpd.slice.656000-656999.json',\n",
       " 'mpd.slice.150000-150999.json',\n",
       " 'mpd.slice.361000-361999.json',\n",
       " 'mpd.slice.689000-689999.json',\n",
       " 'mpd.slice.931000-931999.json',\n",
       " 'mpd.slice.467000-467999.json',\n",
       " 'mpd.slice.885000-885999.json',\n",
       " 'mpd.slice.260000-260999.json',\n",
       " 'mpd.slice.788000-788999.json',\n",
       " 'mpd.slice.830000-830999.json',\n",
       " 'mpd.slice.566000-566999.json',\n",
       " 'mpd.slice.984000-984999.json',\n",
       " 'mpd.slice.757000-757999.json',\n",
       " 'mpd.slice.535000-535999.json',\n",
       " 'mpd.slice.863000-863999.json',\n",
       " 'mpd.slice.233000-233999.json',\n",
       " 'mpd.slice.481000-481999.json',\n",
       " 'mpd.slice.169000-169999.json',\n",
       " 'mpd.slice.33000-33999.json',\n",
       " 'mpd.slice.387000-387999.json',\n",
       " 'mpd.slice.704000-704999.json',\n",
       " 'mpd.slice.908000-908999.json',\n",
       " 'mpd.slice.358000-358999.json',\n",
       " 'mpd.slice.103000-103999.json',\n",
       " 'mpd.slice.605000-605999.json',\n",
       " 'mpd.slice.809000-809999.json',\n",
       " 'mpd.slice.259000-259999.json',\n",
       " 'mpd.slice.434000-434999.json',\n",
       " 'mpd.slice.962000-962999.json',\n",
       " 'mpd.slice.332000-332999.json',\n",
       " 'mpd.slice.580000-580999.json',\n",
       " 'mpd.slice.29000-29999.json',\n",
       " 'mpd.slice.286000-286999.json',\n",
       " 'mpd.slice.301000-301999.json',\n",
       " 'mpd.slice.407000-407999.json',\n",
       " 'mpd.slice.951000-951999.json',\n",
       " 'mpd.slice.636000-636999.json',\n",
       " 'mpd.slice.130000-130999.json',\n",
       " 'mpd.slice.782000-782999.json',\n",
       " 'mpd.slice.737000-737999.json',\n",
       " 'mpd.slice.683000-683999.json',\n",
       " 'mpd.slice.17000-17999.json',\n",
       " 'mpd.slice.185000-185999.json',\n",
       " 'mpd.slice.200000-200999.json',\n",
       " 'mpd.slice.506000-506999.json',\n",
       " 'mpd.slice.850000-850999.json',\n",
       " 'mpd.slice.705000-705999.json',\n",
       " 'mpd.slice.359000-359999.json',\n",
       " 'mpd.slice.909000-909999.json',\n",
       " 'mpd.slice.232000-232999.json',\n",
       " 'mpd.slice.534000-534999.json',\n",
       " 'mpd.slice.862000-862999.json',\n",
       " 'mpd.slice.386000-386999.json',\n",
       " 'mpd.slice.45000-45999.json',\n",
       " 'mpd.slice.168000-168999.json',\n",
       " 'mpd.slice.480000-480999.json',\n",
       " 'mpd.slice.333000-333999.json',\n",
       " 'mpd.slice.435000-435999.json',\n",
       " 'mpd.slice.963000-963999.json',\n",
       " 'mpd.slice.287000-287999.json',\n",
       " 'mpd.slice.581000-581999.json',\n",
       " 'mpd.slice.604000-604999.json',\n",
       " 'mpd.slice.102000-102999.json',\n",
       " 'mpd.slice.258000-258999.json',\n",
       " 'mpd.slice.808000-808999.json',\n",
       " 'mpd.slice.90000-90999.json',\n",
       " 'mpd.slice.131000-131999.json',\n",
       " 'mpd.slice.637000-637999.json',\n",
       " 'mpd.slice.783000-783999.json',\n",
       " 'mpd.slice.406000-406999.json',\n",
       " 'mpd.slice.950000-950999.json',\n",
       " 'mpd.slice.300000-300999.json',\n",
       " 'mpd.slice.507000-507999.json',\n",
       " 'mpd.slice.851000-851999.json',\n",
       " 'mpd.slice.201000-201999.json',\n",
       " 'mpd.slice.736000-736999.json',\n",
       " 'mpd.slice.61000-61999.json',\n",
       " 'mpd.slice.184000-184999.json',\n",
       " 'mpd.slice.682000-682999.json',\n",
       " 'mpd.slice.101000-101999.json',\n",
       " 'mpd.slice.607000-607999.json',\n",
       " 'mpd.slice.582000-582999.json',\n",
       " 'mpd.slice.284000-284999.json',\n",
       " 'mpd.slice.960000-960999.json',\n",
       " 'mpd.slice.436000-436999.json',\n",
       " 'mpd.slice.330000-330999.json',\n",
       " 'mpd.slice.483000-483999.json',\n",
       " 'mpd.slice.385000-385999.json',\n",
       " 'mpd.slice.861000-861999.json',\n",
       " 'mpd.slice.537000-537999.json',\n",
       " 'mpd.slice.231000-231999.json',\n",
       " 'mpd.slice.64000-64999.json',\n",
       " 'mpd.slice.706000-706999.json',\n",
       " 'mpd.slice.369000-369999.json',\n",
       " 'mpd.slice.681000-681999.json',\n",
       " 'mpd.slice.939000-939999.json',\n",
       " 'mpd.slice.187000-187999.json',\n",
       " 'mpd.slice.735000-735999.json',\n",
       " 'mpd.slice.158000-158999.json',\n",
       " 'mpd.slice.202000-202999.json',\n",
       " 'mpd.slice.40000-40999.json',\n",
       " 'mpd.slice.852000-852999.json',\n",
       " 'mpd.slice.504000-504999.json',\n",
       " 'mpd.slice.303000-303999.json',\n",
       " 'mpd.slice.953000-953999.json',\n",
       " 'mpd.slice.405000-405999.json',\n",
       " 'mpd.slice.268000-268999.json',\n",
       " 'mpd.slice.780000-780999.json',\n",
       " 'mpd.slice.838000-838999.json',\n",
       " 'mpd.slice.634000-634999.json',\n",
       " 'mpd.slice.95000-95999.json',\n",
       " 'mpd.slice.132000-132999.json',\n",
       " 'mpd.slice.285000-285999.json',\n",
       " 'mpd.slice.583000-583999.json',\n",
       " 'mpd.slice.331000-331999.json',\n",
       " 'mpd.slice.961000-961999.json',\n",
       " 'mpd.slice.437000-437999.json',\n",
       " 'mpd.slice.606000-606999.json',\n",
       " 'mpd.slice.100000-100999.json',\n",
       " 'mpd.slice.707000-707999.json',\n",
       " 'mpd.slice.12000-12999.json',\n",
       " 'mpd.slice.384000-384999.json',\n",
       " 'mpd.slice.482000-482999.json',\n",
       " 'mpd.slice.230000-230999.json',\n",
       " 'mpd.slice.860000-860999.json',\n",
       " 'mpd.slice.536000-536999.json',\n",
       " 'mpd.slice.159000-159999.json',\n",
       " 'mpd.slice.853000-853999.json',\n",
       " 'mpd.slice.505000-505999.json',\n",
       " 'mpd.slice.36000-36999.json',\n",
       " 'mpd.slice.203000-203999.json',\n",
       " 'mpd.slice.186000-186999.json',\n",
       " 'mpd.slice.938000-938999.json',\n",
       " 'mpd.slice.680000-680999.json',\n",
       " 'mpd.slice.368000-368999.json',\n",
       " 'mpd.slice.734000-734999.json',\n",
       " 'mpd.slice.839000-839999.json',\n",
       " 'mpd.slice.781000-781999.json',\n",
       " 'mpd.slice.269000-269999.json',\n",
       " 'mpd.slice.133000-133999.json',\n",
       " 'mpd.slice.635000-635999.json',\n",
       " 'mpd.slice.952000-952999.json',\n",
       " 'mpd.slice.404000-404999.json',\n",
       " 'mpd.slice.302000-302999.json']"
      ]
     },
     "execution_count": 15,
     "metadata": {},
     "output_type": "execute_result"
    }
   ],
   "source": [
    "# get files from directory\n",
    "\n",
    "files = []\n",
    "for file in os.listdir(\"spotify_million_playlist_dataset/data/\"):\n",
    "    if file.endswith(\".json\"):\n",
    "        files.append(file)\n",
    "files"
   ]
  },
  {
   "cell_type": "code",
   "execution_count": 38,
   "id": "1de0ffa3",
   "metadata": {
    "scrolled": true
   },
   "outputs": [
    {
     "name": "stderr",
     "output_type": "stream",
     "text": [
      "100%|█████████████████████████████████████████████| 5/5 [00:03<00:00,  1.52it/s]\n",
      "api_call...: 100%|██████████████████████████| 1069/1069 [13:24<00:00,  1.33it/s]\n",
      "creating attribute dataframe: 100%|█████████| 1069/1069 [00:13<00:00, 77.61it/s]\n",
      "100%|█████████████████████████████████████████████| 5/5 [00:02<00:00,  2.27it/s]\n",
      "api_call...:  86%|███████████████████████▎   | 929/1075 [12:09<08:07,  3.34s/it]"
     ]
    },
    {
     "name": "stdout",
     "output_type": "stream",
     "text": [
      "Error: 504 - {\n",
      "  \"error\": {\n",
      "    \"status\": 504,\n",
      "    \"message\": \"Service didn't reply before timeout\"\n",
      "  }\n",
      "}\n",
      "<bound method Response.json of <Response [504]>>\n"
     ]
    },
    {
     "name": "stderr",
     "output_type": "stream",
     "text": [
      "api_call...:  88%|███████████████████████▊   | 947/1075 [12:16<00:36,  3.46it/s]"
     ]
    },
    {
     "name": "stdout",
     "output_type": "stream",
     "text": [
      "Error: 429 - {\n",
      "  \"error\" : {\n",
      "    \"status\" : 429\n",
      "  }\n",
      "}\n",
      "<bound method Response.json of <Response [429]>>\n",
      "Error: 429 - {\n",
      "  \"error\" : {\n",
      "    \"status\" : 429\n",
      "  }\n",
      "}\n",
      "<bound method Response.json of <Response [429]>>\n"
     ]
    },
    {
     "name": "stderr",
     "output_type": "stream",
     "text": [
      "api_call...:  88%|███████████████████████▊   | 949/1075 [12:16<00:25,  4.90it/s]"
     ]
    },
    {
     "name": "stdout",
     "output_type": "stream",
     "text": [
      "Error: 429 - {\n",
      "  \"error\" : {\n",
      "    \"status\" : 429\n",
      "  }\n",
      "}\n",
      "<bound method Response.json of <Response [429]>>\n",
      "Error: 429 - {\n",
      "  \"error\" : {\n",
      "    \"status\" : 429\n",
      "  }\n",
      "}\n",
      "<bound method Response.json of <Response [429]>>\n"
     ]
    },
    {
     "name": "stderr",
     "output_type": "stream",
     "text": [
      "\r",
      "api_call...:  88%|███████████████████████▊   | 950/1075 [12:16<00:23,  5.31it/s]"
     ]
    },
    {
     "name": "stdout",
     "output_type": "stream",
     "text": [
      "Error: 429 - {\n",
      "  \"error\" : {\n",
      "    \"status\" : 429\n",
      "  }\n",
      "}\n",
      "<bound method Response.json of <Response [429]>>\n"
     ]
    },
    {
     "name": "stderr",
     "output_type": "stream",
     "text": [
      "api_call...:  89%|███████████████████████▉   | 952/1075 [12:17<00:22,  5.51it/s]"
     ]
    },
    {
     "name": "stdout",
     "output_type": "stream",
     "text": [
      "Error: 429 - {\n",
      "  \"error\" : {\n",
      "    \"status\" : 429\n",
      "  }\n",
      "}\n",
      "<bound method Response.json of <Response [429]>>\n",
      "Error: 429 - {\n",
      "  \"error\" : {\n",
      "    \"status\" : 429\n",
      "  }\n",
      "}\n",
      "<bound method Response.json of <Response [429]>>\n"
     ]
    },
    {
     "name": "stderr",
     "output_type": "stream",
     "text": [
      "api_call...:  89%|███████████████████████▉   | 954/1075 [12:17<00:19,  6.12it/s]"
     ]
    },
    {
     "name": "stdout",
     "output_type": "stream",
     "text": [
      "Error: 429 - {\n",
      "  \"error\" : {\n",
      "    \"status\" : 429\n",
      "  }\n",
      "}\n",
      "<bound method Response.json of <Response [429]>>\n",
      "Error: 429 - {\n",
      "  \"error\" : {\n",
      "    \"status\" : 429\n",
      "  }\n",
      "}\n",
      "<bound method Response.json of <Response [429]>>\n"
     ]
    },
    {
     "name": "stderr",
     "output_type": "stream",
     "text": [
      "api_call...:  89%|████████████████████████   | 956/1075 [12:17<00:17,  6.98it/s]"
     ]
    },
    {
     "name": "stdout",
     "output_type": "stream",
     "text": [
      "Error: 429 - {\n",
      "  \"error\" : {\n",
      "    \"status\" : 429\n",
      "  }\n",
      "}\n",
      "<bound method Response.json of <Response [429]>>\n",
      "Error: 429 - {\n",
      "  \"error\" : {\n",
      "    \"status\" : 429\n",
      "  }\n",
      "}\n",
      "<bound method Response.json of <Response [429]>>\n"
     ]
    },
    {
     "name": "stderr",
     "output_type": "stream",
     "text": [
      "\r",
      "api_call...:  89%|████████████████████████   | 957/1075 [12:17<00:17,  6.91it/s]"
     ]
    },
    {
     "name": "stdout",
     "output_type": "stream",
     "text": [
      "Error: 429 - {\n",
      "  \"error\" : {\n",
      "    \"status\" : 429\n",
      "  }\n",
      "}\n",
      "<bound method Response.json of <Response [429]>>\n"
     ]
    },
    {
     "name": "stderr",
     "output_type": "stream",
     "text": [
      "api_call...:  89%|████████████████████████   | 959/1075 [12:18<00:17,  6.57it/s]"
     ]
    },
    {
     "name": "stdout",
     "output_type": "stream",
     "text": [
      "Error: 429 - {\n",
      "  \"error\" : {\n",
      "    \"status\" : 429\n",
      "  }\n",
      "}\n",
      "<bound method Response.json of <Response [429]>>\n",
      "Error: 429 - {\n",
      "  \"error\" : {\n",
      "    \"status\" : 429\n",
      "  }\n",
      "}\n",
      "<bound method Response.json of <Response [429]>>\n"
     ]
    },
    {
     "name": "stderr",
     "output_type": "stream",
     "text": [
      "api_call...:  89%|████████████████████████▏  | 961/1075 [12:18<00:18,  6.33it/s]"
     ]
    },
    {
     "name": "stdout",
     "output_type": "stream",
     "text": [
      "Error: 429 - {\n",
      "  \"error\" : {\n",
      "    \"status\" : 429\n",
      "  }\n",
      "}\n",
      "<bound method Response.json of <Response [429]>>\n",
      "Error: 429 - {\n",
      "  \"error\" : {\n",
      "    \"status\" : 429\n",
      "  }\n",
      "}\n",
      "<bound method Response.json of <Response [429]>>\n"
     ]
    },
    {
     "name": "stderr",
     "output_type": "stream",
     "text": [
      "api_call...:  90%|████████████████████████▏  | 963/1075 [12:19<00:25,  4.41it/s]"
     ]
    },
    {
     "name": "stdout",
     "output_type": "stream",
     "text": [
      "Error: 429 - {\n",
      "  \"error\" : {\n",
      "    \"status\" : 429\n",
      "  }\n",
      "}\n",
      "<bound method Response.json of <Response [429]>>\n",
      "Error: 429 - {\n",
      "  \"error\" : {\n",
      "    \"status\" : 429\n",
      "  }\n",
      "}\n",
      "<bound method Response.json of <Response [429]>>\n"
     ]
    },
    {
     "name": "stderr",
     "output_type": "stream",
     "text": [
      "api_call...:  90%|████████████████████████▏  | 965/1075 [12:19<00:19,  5.51it/s]"
     ]
    },
    {
     "name": "stdout",
     "output_type": "stream",
     "text": [
      "Error: 429 - {\n",
      "  \"error\" : {\n",
      "    \"status\" : 429\n",
      "  }\n",
      "}\n",
      "<bound method Response.json of <Response [429]>>\n",
      "Error: 429 - {\n",
      "  \"error\" : {\n",
      "    \"status\" : 429\n",
      "  }\n",
      "}\n",
      "<bound method Response.json of <Response [429]>>\n"
     ]
    },
    {
     "name": "stderr",
     "output_type": "stream",
     "text": [
      "api_call...:  90%|████████████████████████▎  | 967/1075 [12:19<00:19,  5.65it/s]"
     ]
    },
    {
     "name": "stdout",
     "output_type": "stream",
     "text": [
      "Error: 429 - {\n",
      "  \"error\" : {\n",
      "    \"status\" : 429\n",
      "  }\n",
      "}\n",
      "<bound method Response.json of <Response [429]>>\n",
      "Error: 429 - {\n",
      "  \"error\" : {\n",
      "    \"status\" : 429\n",
      "  }\n",
      "}\n",
      "<bound method Response.json of <Response [429]>>\n"
     ]
    },
    {
     "name": "stderr",
     "output_type": "stream",
     "text": [
      "\r",
      "api_call...:  90%|████████████████████████▎  | 968/1075 [12:20<00:18,  5.93it/s]"
     ]
    },
    {
     "name": "stdout",
     "output_type": "stream",
     "text": [
      "Error: 429 - {\n",
      "  \"error\" : {\n",
      "    \"status\" : 429\n",
      "  }\n",
      "}\n",
      "<bound method Response.json of <Response [429]>>\n"
     ]
    },
    {
     "name": "stderr",
     "output_type": "stream",
     "text": [
      "api_call...:  90%|████████████████████████▎  | 970/1075 [12:20<00:17,  5.84it/s]"
     ]
    },
    {
     "name": "stdout",
     "output_type": "stream",
     "text": [
      "Error: 429 - {\n",
      "  \"error\" : {\n",
      "    \"status\" : 429\n",
      "  }\n",
      "}\n",
      "<bound method Response.json of <Response [429]>>\n",
      "Error: 429 - {\n",
      "  \"error\" : {\n",
      "    \"status\" : 429\n",
      "  }\n",
      "}\n",
      "<bound method Response.json of <Response [429]>>\n"
     ]
    },
    {
     "name": "stderr",
     "output_type": "stream",
     "text": [
      "api_call...:  90%|████████████████████████▍  | 972/1075 [12:20<00:16,  6.17it/s]"
     ]
    },
    {
     "name": "stdout",
     "output_type": "stream",
     "text": [
      "Error: 429 - {\n",
      "  \"error\" : {\n",
      "    \"status\" : 429\n",
      "  }\n",
      "}\n",
      "<bound method Response.json of <Response [429]>>\n",
      "Error: 429 - {\n",
      "  \"error\" : {\n",
      "    \"status\" : 429\n",
      "  }\n",
      "}\n",
      "<bound method Response.json of <Response [429]>>\n"
     ]
    },
    {
     "name": "stderr",
     "output_type": "stream",
     "text": [
      "api_call...:  91%|████████████████████████▍  | 974/1075 [12:20<00:14,  6.87it/s]"
     ]
    },
    {
     "name": "stdout",
     "output_type": "stream",
     "text": [
      "Error: 429 - {\n",
      "  \"error\" : {\n",
      "    \"status\" : 429\n",
      "  }\n",
      "}\n",
      "<bound method Response.json of <Response [429]>>\n",
      "Error: 429 - {\n",
      "  \"error\" : {\n",
      "    \"status\" : 429\n",
      "  }\n",
      "}\n",
      "<bound method Response.json of <Response [429]>>\n"
     ]
    },
    {
     "name": "stderr",
     "output_type": "stream",
     "text": [
      "api_call...:  91%|████████████████████████▌  | 976/1075 [12:21<00:20,  4.87it/s]"
     ]
    },
    {
     "name": "stdout",
     "output_type": "stream",
     "text": [
      "Error: 429 - {\n",
      "  \"error\" : {\n",
      "    \"status\" : 429\n",
      "  }\n",
      "}\n",
      "<bound method Response.json of <Response [429]>>\n",
      "Error: 429 - {\n",
      "  \"error\" : {\n",
      "    \"status\" : 429\n",
      "  }\n",
      "}\n",
      "<bound method Response.json of <Response [429]>>\n"
     ]
    },
    {
     "name": "stderr",
     "output_type": "stream",
     "text": [
      "api_call...:  91%|████████████████████████▌  | 978/1075 [12:21<00:17,  5.60it/s]"
     ]
    },
    {
     "name": "stdout",
     "output_type": "stream",
     "text": [
      "Error: 429 - {\n",
      "  \"error\" : {\n",
      "    \"status\" : 429\n",
      "  }\n",
      "}\n",
      "<bound method Response.json of <Response [429]>>\n",
      "Error: 429 - {\n",
      "  \"error\" : {\n",
      "    \"status\" : 429\n",
      "  }\n",
      "}\n",
      "<bound method Response.json of <Response [429]>>\n"
     ]
    },
    {
     "name": "stderr",
     "output_type": "stream",
     "text": [
      "api_call...:  91%|████████████████████████▌  | 980/1075 [12:22<00:15,  6.14it/s]"
     ]
    },
    {
     "name": "stdout",
     "output_type": "stream",
     "text": [
      "Error: 429 - {\n",
      "  \"error\" : {\n",
      "    \"status\" : 429\n",
      "  }\n",
      "}\n",
      "<bound method Response.json of <Response [429]>>\n",
      "Error: 429 - {\n",
      "  \"error\" : {\n",
      "    \"status\" : 429\n",
      "  }\n",
      "}\n",
      "<bound method Response.json of <Response [429]>>\n"
     ]
    },
    {
     "name": "stderr",
     "output_type": "stream",
     "text": [
      "api_call...:  91%|████████████████████████▋  | 982/1075 [12:22<00:15,  5.86it/s]"
     ]
    },
    {
     "name": "stdout",
     "output_type": "stream",
     "text": [
      "Error: 429 - {\n",
      "  \"error\" : {\n",
      "    \"status\" : 429\n",
      "  }\n",
      "}\n",
      "<bound method Response.json of <Response [429]>>\n",
      "Error: 429 - {\n",
      "  \"error\" : {\n",
      "    \"status\" : 429\n",
      "  }\n",
      "}\n",
      "<bound method Response.json of <Response [429]>>\n"
     ]
    },
    {
     "name": "stderr",
     "output_type": "stream",
     "text": [
      "\r",
      "api_call...:  91%|████████████████████████▋  | 983/1075 [12:22<00:14,  6.33it/s]"
     ]
    },
    {
     "name": "stdout",
     "output_type": "stream",
     "text": [
      "Error: 429 - {\n",
      "  \"error\" : {\n",
      "    \"status\" : 429\n",
      "  }\n",
      "}\n",
      "<bound method Response.json of <Response [429]>>\n"
     ]
    },
    {
     "name": "stderr",
     "output_type": "stream",
     "text": [
      "api_call...:  92%|████████████████████████▋  | 985/1075 [12:22<00:14,  6.10it/s]"
     ]
    },
    {
     "name": "stdout",
     "output_type": "stream",
     "text": [
      "Error: 429 - {\n",
      "  \"error\" : {\n",
      "    \"status\" : 429\n",
      "  }\n",
      "}\n",
      "<bound method Response.json of <Response [429]>>\n",
      "Error: 429 - {\n",
      "  \"error\" : {\n",
      "    \"status\" : 429\n",
      "  }\n",
      "}\n",
      "<bound method Response.json of <Response [429]>>\n"
     ]
    },
    {
     "name": "stderr",
     "output_type": "stream",
     "text": [
      "\r",
      "api_call...:  92%|████████████████████████▊  | 986/1075 [12:23<00:15,  5.91it/s]"
     ]
    },
    {
     "name": "stdout",
     "output_type": "stream",
     "text": [
      "Error: 429 - {\n",
      "  \"error\" : {\n",
      "    \"status\" : 429\n",
      "  }\n",
      "}\n",
      "<bound method Response.json of <Response [429]>>\n"
     ]
    },
    {
     "name": "stderr",
     "output_type": "stream",
     "text": [
      "api_call...:  92%|████████████████████████▊  | 988/1075 [12:23<00:15,  5.64it/s]"
     ]
    },
    {
     "name": "stdout",
     "output_type": "stream",
     "text": [
      "Error: 429 - {\n",
      "  \"error\" : {\n",
      "    \"status\" : 429\n",
      "  }\n",
      "}\n",
      "<bound method Response.json of <Response [429]>>\n",
      "Error: 429 - {\n",
      "  \"error\" : {\n",
      "    \"status\" : 429\n",
      "  }\n",
      "}\n",
      "<bound method Response.json of <Response [429]>>\n"
     ]
    },
    {
     "name": "stderr",
     "output_type": "stream",
     "text": [
      "\r",
      "api_call...:  92%|████████████████████████▊  | 989/1075 [12:23<00:14,  6.00it/s]"
     ]
    },
    {
     "name": "stdout",
     "output_type": "stream",
     "text": [
      "Error: 429 - {\n",
      "  \"error\" : {\n",
      "    \"status\" : 429\n",
      "  }\n",
      "}\n",
      "<bound method Response.json of <Response [429]>>\n"
     ]
    },
    {
     "name": "stderr",
     "output_type": "stream",
     "text": [
      "api_call...:  92%|████████████████████████▉  | 991/1075 [12:24<00:21,  3.89it/s]"
     ]
    },
    {
     "name": "stdout",
     "output_type": "stream",
     "text": [
      "Error: 429 - {\n",
      "  \"error\" : {\n",
      "    \"status\" : 429\n",
      "  }\n",
      "}\n",
      "<bound method Response.json of <Response [429]>>\n",
      "Error: 429 - {\n",
      "  \"error\" : {\n",
      "    \"status\" : 429\n",
      "  }\n",
      "}\n",
      "<bound method Response.json of <Response [429]>>\n"
     ]
    },
    {
     "name": "stderr",
     "output_type": "stream",
     "text": [
      "api_call...:  92%|████████████████████████▉  | 993/1075 [12:24<00:15,  5.28it/s]"
     ]
    },
    {
     "name": "stdout",
     "output_type": "stream",
     "text": [
      "Error: 429 - {\n",
      "  \"error\" : {\n",
      "    \"status\" : 429\n",
      "  }\n",
      "}\n",
      "<bound method Response.json of <Response [429]>>\n",
      "Error: 429 - {\n",
      "  \"error\" : {\n",
      "    \"status\" : 429\n",
      "  }\n",
      "}\n",
      "<bound method Response.json of <Response [429]>>\n"
     ]
    },
    {
     "name": "stderr",
     "output_type": "stream",
     "text": [
      "\r",
      "api_call...:  92%|████████████████████████▉  | 994/1075 [12:24<00:14,  5.68it/s]"
     ]
    },
    {
     "name": "stdout",
     "output_type": "stream",
     "text": [
      "Error: 429 - {\n",
      "  \"error\" : {\n",
      "    \"status\" : 429\n",
      "  }\n",
      "}\n",
      "<bound method Response.json of <Response [429]>>\n"
     ]
    },
    {
     "name": "stderr",
     "output_type": "stream",
     "text": [
      "api_call...:  93%|█████████████████████████  | 996/1075 [12:25<00:14,  5.50it/s]"
     ]
    },
    {
     "name": "stdout",
     "output_type": "stream",
     "text": [
      "Error: 429 - {\n",
      "  \"error\" : {\n",
      "    \"status\" : 429\n",
      "  }\n",
      "}\n",
      "<bound method Response.json of <Response [429]>>\n",
      "Error: 429 - {\n",
      "  \"error\" : {\n",
      "    \"status\" : 429\n",
      "  }\n",
      "}\n",
      "<bound method Response.json of <Response [429]>>\n"
     ]
    },
    {
     "name": "stderr",
     "output_type": "stream",
     "text": [
      "api_call...:  93%|█████████████████████████  | 998/1075 [12:25<00:15,  5.11it/s]"
     ]
    },
    {
     "name": "stdout",
     "output_type": "stream",
     "text": [
      "Error: 429 - {\n",
      "  \"error\" : {\n",
      "    \"status\" : 429\n",
      "  }\n",
      "}\n",
      "<bound method Response.json of <Response [429]>>\n",
      "Error: 429 - {\n",
      "  \"error\" : {\n",
      "    \"status\" : 429\n",
      "  }\n",
      "}\n",
      "<bound method Response.json of <Response [429]>>\n"
     ]
    },
    {
     "name": "stderr",
     "output_type": "stream",
     "text": [
      "api_call...:  93%|████████████████████████▏ | 1000/1075 [12:26<00:13,  5.63it/s]"
     ]
    },
    {
     "name": "stdout",
     "output_type": "stream",
     "text": [
      "Error: 429 - {\n",
      "  \"error\" : {\n",
      "    \"status\" : 429\n",
      "  }\n",
      "}\n",
      "<bound method Response.json of <Response [429]>>\n",
      "Error: 429 - {\n",
      "  \"error\" : {\n",
      "    \"status\" : 429\n",
      "  }\n",
      "}\n",
      "<bound method Response.json of <Response [429]>>\n"
     ]
    },
    {
     "name": "stderr",
     "output_type": "stream",
     "text": [
      "api_call...:  93%|████████████████████████▏ | 1002/1075 [13:01<09:07,  7.50s/it]"
     ]
    },
    {
     "name": "stdout",
     "output_type": "stream",
     "text": [
      "Error: 429 - {\n",
      "  \"error\" : {\n",
      "    \"status\" : 429\n",
      "  }\n",
      "}\n",
      "<bound method Response.json of <Response [429]>>\n",
      "Error: 429 - {\n",
      "  \"error\" : {\n",
      "    \"status\" : 429\n",
      "  }\n",
      "}\n",
      "<bound method Response.json of <Response [429]>>\n"
     ]
    },
    {
     "name": "stderr",
     "output_type": "stream",
     "text": [
      "api_call...:  93%|████████████████████████▎ | 1004/1075 [13:01<04:25,  3.74s/it]"
     ]
    },
    {
     "name": "stdout",
     "output_type": "stream",
     "text": [
      "Error: 429 - {\n",
      "  \"error\" : {\n",
      "    \"status\" : 429\n",
      "  }\n",
      "}\n",
      "<bound method Response.json of <Response [429]>>\n",
      "Error: 429 - {\n",
      "  \"error\" : {\n",
      "    \"status\" : 429\n",
      "  }\n",
      "}\n",
      "<bound method Response.json of <Response [429]>>\n"
     ]
    },
    {
     "name": "stderr",
     "output_type": "stream",
     "text": [
      "api_call...:  94%|████████████████████████▎ | 1006/1075 [13:01<02:11,  1.90s/it]"
     ]
    },
    {
     "name": "stdout",
     "output_type": "stream",
     "text": [
      "Error: 429 - {\n",
      "  \"error\" : {\n",
      "    \"status\" : 429\n",
      "  }\n",
      "}\n",
      "<bound method Response.json of <Response [429]>>\n",
      "Error: 429 - {\n",
      "  \"error\" : {\n",
      "    \"status\" : 429\n",
      "  }\n",
      "}\n",
      "<bound method Response.json of <Response [429]>>\n"
     ]
    },
    {
     "name": "stderr",
     "output_type": "stream",
     "text": [
      "api_call...:  94%|████████████████████████▍ | 1008/1075 [13:02<01:08,  1.02s/it]"
     ]
    },
    {
     "name": "stdout",
     "output_type": "stream",
     "text": [
      "Error: 429 - {\n",
      "  \"error\" : {\n",
      "    \"status\" : 429\n",
      "  }\n",
      "}\n",
      "<bound method Response.json of <Response [429]>>\n",
      "Error: 429 - {\n",
      "  \"error\" : {\n",
      "    \"status\" : 429\n",
      "  }\n",
      "}\n",
      "<bound method Response.json of <Response [429]>>\n"
     ]
    },
    {
     "name": "stderr",
     "output_type": "stream",
     "text": [
      "api_call...:  94%|████████████████████████▍ | 1010/1075 [13:02<00:37,  1.73it/s]"
     ]
    },
    {
     "name": "stdout",
     "output_type": "stream",
     "text": [
      "Error: 429 - {\n",
      "  \"error\" : {\n",
      "    \"status\" : 429\n",
      "  }\n",
      "}\n",
      "<bound method Response.json of <Response [429]>>\n",
      "Error: 429 - {\n",
      "  \"error\" : {\n",
      "    \"status\" : 429\n",
      "  }\n",
      "}\n",
      "<bound method Response.json of <Response [429]>>\n"
     ]
    },
    {
     "name": "stderr",
     "output_type": "stream",
     "text": [
      "api_call...:  94%|████████████████████████▍ | 1012/1075 [13:02<00:23,  2.70it/s]"
     ]
    },
    {
     "name": "stdout",
     "output_type": "stream",
     "text": [
      "Error: 429 - {\n",
      "  \"error\" : {\n",
      "    \"status\" : 429\n",
      "  }\n",
      "}\n",
      "<bound method Response.json of <Response [429]>>\n",
      "Error: 429 - {\n",
      "  \"error\" : {\n",
      "    \"status\" : 429\n",
      "  }\n",
      "}\n",
      "<bound method Response.json of <Response [429]>>\n"
     ]
    },
    {
     "name": "stderr",
     "output_type": "stream",
     "text": [
      "api_call...:  94%|████████████████████████▌ | 1014/1075 [13:03<00:18,  3.37it/s]"
     ]
    },
    {
     "name": "stdout",
     "output_type": "stream",
     "text": [
      "Error: 429 - {\n",
      "  \"error\" : {\n",
      "    \"status\" : 429\n",
      "  }\n",
      "}\n",
      "<bound method Response.json of <Response [429]>>\n",
      "Error: 429 - {\n",
      "  \"error\" : {\n",
      "    \"status\" : 429\n",
      "  }\n",
      "}\n",
      "<bound method Response.json of <Response [429]>>\n"
     ]
    },
    {
     "name": "stderr",
     "output_type": "stream",
     "text": [
      "api_call...:  95%|████████████████████████▌ | 1016/1075 [13:03<00:13,  4.47it/s]"
     ]
    },
    {
     "name": "stdout",
     "output_type": "stream",
     "text": [
      "Error: 429 - {\n",
      "  \"error\" : {\n",
      "    \"status\" : 429\n",
      "  }\n",
      "}\n",
      "<bound method Response.json of <Response [429]>>\n",
      "Error: 429 - {\n",
      "  \"error\" : {\n",
      "    \"status\" : 429\n",
      "  }\n",
      "}\n",
      "<bound method Response.json of <Response [429]>>\n"
     ]
    },
    {
     "name": "stderr",
     "output_type": "stream",
     "text": [
      "api_call...:  95%|████████████████████████▌ | 1018/1075 [13:03<00:10,  5.42it/s]"
     ]
    },
    {
     "name": "stdout",
     "output_type": "stream",
     "text": [
      "Error: 429 - {\n",
      "  \"error\" : {\n",
      "    \"status\" : 429\n",
      "  }\n",
      "}\n",
      "<bound method Response.json of <Response [429]>>\n",
      "Error: 429 - {\n",
      "  \"error\" : {\n",
      "    \"status\" : 429\n",
      "  }\n",
      "}\n",
      "<bound method Response.json of <Response [429]>>\n"
     ]
    },
    {
     "name": "stderr",
     "output_type": "stream",
     "text": [
      "api_call...:  95%|████████████████████████▋ | 1020/1075 [13:04<00:09,  5.66it/s]"
     ]
    },
    {
     "name": "stdout",
     "output_type": "stream",
     "text": [
      "Error: 429 - {\n",
      "  \"error\" : {\n",
      "    \"status\" : 429\n",
      "  }\n",
      "}\n",
      "<bound method Response.json of <Response [429]>>\n",
      "Error: 429 - {\n",
      "  \"error\" : {\n",
      "    \"status\" : 429\n",
      "  }\n",
      "}\n",
      "<bound method Response.json of <Response [429]>>\n"
     ]
    },
    {
     "name": "stderr",
     "output_type": "stream",
     "text": [
      "api_call...:  95%|████████████████████████▋ | 1022/1075 [13:04<00:08,  6.36it/s]"
     ]
    },
    {
     "name": "stdout",
     "output_type": "stream",
     "text": [
      "Error: 429 - {\n",
      "  \"error\" : {\n",
      "    \"status\" : 429\n",
      "  }\n",
      "}\n",
      "<bound method Response.json of <Response [429]>>\n",
      "Error: 429 - {\n",
      "  \"error\" : {\n",
      "    \"status\" : 429\n",
      "  }\n",
      "}\n",
      "<bound method Response.json of <Response [429]>>\n"
     ]
    },
    {
     "name": "stderr",
     "output_type": "stream",
     "text": [
      "api_call...:  95%|████████████████████████▊ | 1024/1075 [13:04<00:08,  5.92it/s]"
     ]
    },
    {
     "name": "stdout",
     "output_type": "stream",
     "text": [
      "Error: 429 - {\n",
      "  \"error\" : {\n",
      "    \"status\" : 429\n",
      "  }\n",
      "}\n",
      "<bound method Response.json of <Response [429]>>\n",
      "Error: 429 - {\n",
      "  \"error\" : {\n",
      "    \"status\" : 429\n",
      "  }\n",
      "}\n",
      "<bound method Response.json of <Response [429]>>\n"
     ]
    },
    {
     "name": "stderr",
     "output_type": "stream",
     "text": [
      "api_call...:  95%|████████████████████████▊ | 1026/1075 [13:05<00:08,  5.61it/s]"
     ]
    },
    {
     "name": "stdout",
     "output_type": "stream",
     "text": [
      "Error: 429 - {\n",
      "  \"error\" : {\n",
      "    \"status\" : 429\n",
      "  }\n",
      "}\n",
      "<bound method Response.json of <Response [429]>>\n",
      "Error: 429 - {\n",
      "  \"error\" : {\n",
      "    \"status\" : 429\n",
      "  }\n",
      "}\n",
      "<bound method Response.json of <Response [429]>>\n"
     ]
    },
    {
     "name": "stderr",
     "output_type": "stream",
     "text": [
      "api_call...:  96%|████████████████████████▊ | 1028/1075 [13:05<00:07,  6.43it/s]"
     ]
    },
    {
     "name": "stdout",
     "output_type": "stream",
     "text": [
      "Error: 429 - {\n",
      "  \"error\" : {\n",
      "    \"status\" : 429\n",
      "  }\n",
      "}\n",
      "<bound method Response.json of <Response [429]>>\n",
      "Error: 429 - {\n",
      "  \"error\" : {\n",
      "    \"status\" : 429\n",
      "  }\n",
      "}\n",
      "<bound method Response.json of <Response [429]>>\n"
     ]
    },
    {
     "name": "stderr",
     "output_type": "stream",
     "text": [
      "api_call...:  96%|████████████████████████▉ | 1030/1075 [13:06<00:07,  6.05it/s]"
     ]
    },
    {
     "name": "stdout",
     "output_type": "stream",
     "text": [
      "Error: 429 - {\n",
      "  \"error\" : {\n",
      "    \"status\" : 429\n",
      "  }\n",
      "}\n",
      "<bound method Response.json of <Response [429]>>\n",
      "Error: 429 - {\n",
      "  \"error\" : {\n",
      "    \"status\" : 429\n",
      "  }\n",
      "}\n",
      "<bound method Response.json of <Response [429]>>\n"
     ]
    },
    {
     "name": "stderr",
     "output_type": "stream",
     "text": [
      "\r",
      "api_call...:  96%|████████████████████████▉ | 1031/1075 [13:06<00:07,  6.22it/s]"
     ]
    },
    {
     "name": "stdout",
     "output_type": "stream",
     "text": [
      "Error: 429 - {\n",
      "  \"error\" : {\n",
      "    \"status\" : 429\n",
      "  }\n",
      "}\n",
      "<bound method Response.json of <Response [429]>>\n"
     ]
    },
    {
     "name": "stderr",
     "output_type": "stream",
     "text": [
      "api_call...:  96%|████████████████████████▉ | 1033/1075 [13:06<00:07,  5.84it/s]"
     ]
    },
    {
     "name": "stdout",
     "output_type": "stream",
     "text": [
      "Error: 429 - {\n",
      "  \"error\" : {\n",
      "    \"status\" : 429\n",
      "  }\n",
      "}\n",
      "<bound method Response.json of <Response [429]>>\n",
      "Error: 429 - {\n",
      "  \"error\" : {\n",
      "    \"status\" : 429\n",
      "  }\n",
      "}\n",
      "<bound method Response.json of <Response [429]>>\n"
     ]
    },
    {
     "name": "stderr",
     "output_type": "stream",
     "text": [
      "\r",
      "api_call...:  96%|█████████████████████████ | 1034/1075 [13:06<00:06,  5.86it/s]"
     ]
    },
    {
     "name": "stdout",
     "output_type": "stream",
     "text": [
      "Error: 429 - {\n",
      "  \"error\" : {\n",
      "    \"status\" : 429\n",
      "  }\n",
      "}\n",
      "<bound method Response.json of <Response [429]>>\n"
     ]
    },
    {
     "name": "stderr",
     "output_type": "stream",
     "text": [
      "api_call...:  96%|█████████████████████████ | 1036/1075 [13:07<00:07,  5.41it/s]"
     ]
    },
    {
     "name": "stdout",
     "output_type": "stream",
     "text": [
      "Error: 429 - {\n",
      "  \"error\" : {\n",
      "    \"status\" : 429\n",
      "  }\n",
      "}\n",
      "<bound method Response.json of <Response [429]>>\n",
      "Error: 429 - {\n",
      "  \"error\" : {\n",
      "    \"status\" : 429\n",
      "  }\n",
      "}\n",
      "<bound method Response.json of <Response [429]>>\n"
     ]
    },
    {
     "name": "stderr",
     "output_type": "stream",
     "text": [
      "api_call...:  97%|█████████████████████████ | 1038/1075 [13:07<00:06,  5.38it/s]"
     ]
    },
    {
     "name": "stdout",
     "output_type": "stream",
     "text": [
      "Error: 429 - {\n",
      "  \"error\" : {\n",
      "    \"status\" : 429\n",
      "  }\n",
      "}\n",
      "<bound method Response.json of <Response [429]>>\n",
      "Error: 429 - {\n",
      "  \"error\" : {\n",
      "    \"status\" : 429\n",
      "  }\n",
      "}\n",
      "<bound method Response.json of <Response [429]>>\n"
     ]
    },
    {
     "name": "stderr",
     "output_type": "stream",
     "text": [
      "\r",
      "api_call...:  97%|█████████████████████████▏| 1039/1075 [13:07<00:06,  5.88it/s]"
     ]
    },
    {
     "name": "stdout",
     "output_type": "stream",
     "text": [
      "Error: 429 - {\n",
      "  \"error\" : {\n",
      "    \"status\" : 429\n",
      "  }\n",
      "}\n",
      "<bound method Response.json of <Response [429]>>\n"
     ]
    },
    {
     "name": "stderr",
     "output_type": "stream",
     "text": [
      "api_call...:  97%|█████████████████████████▏| 1041/1075 [13:08<00:06,  5.63it/s]"
     ]
    },
    {
     "name": "stdout",
     "output_type": "stream",
     "text": [
      "Error: 429 - {\n",
      "  \"error\" : {\n",
      "    \"status\" : 429\n",
      "  }\n",
      "}\n",
      "<bound method Response.json of <Response [429]>>\n",
      "Error: 429 - {\n",
      "  \"error\" : {\n",
      "    \"status\" : 429\n",
      "  }\n",
      "}\n",
      "<bound method Response.json of <Response [429]>>\n"
     ]
    },
    {
     "name": "stderr",
     "output_type": "stream",
     "text": [
      "\r",
      "api_call...:  97%|█████████████████████████▏| 1042/1075 [13:08<00:05,  5.97it/s]"
     ]
    },
    {
     "name": "stdout",
     "output_type": "stream",
     "text": [
      "Error: 429 - {\n",
      "  \"error\" : {\n",
      "    \"status\" : 429\n",
      "  }\n",
      "}\n",
      "<bound method Response.json of <Response [429]>>\n"
     ]
    },
    {
     "name": "stderr",
     "output_type": "stream",
     "text": [
      "api_call...:  97%|█████████████████████████▎| 1044/1075 [13:08<00:05,  5.49it/s]"
     ]
    },
    {
     "name": "stdout",
     "output_type": "stream",
     "text": [
      "Error: 429 - {\n",
      "  \"error\" : {\n",
      "    \"status\" : 429\n",
      "  }\n",
      "}\n",
      "<bound method Response.json of <Response [429]>>\n",
      "Error: 429 - {\n",
      "  \"error\" : {\n",
      "    \"status\" : 429\n",
      "  }\n",
      "}\n",
      "<bound method Response.json of <Response [429]>>\n"
     ]
    },
    {
     "name": "stderr",
     "output_type": "stream",
     "text": [
      "\r",
      "api_call...:  97%|█████████████████████████▎| 1045/1075 [13:08<00:05,  5.89it/s]"
     ]
    },
    {
     "name": "stdout",
     "output_type": "stream",
     "text": [
      "Error: 429 - {\n",
      "  \"error\" : {\n",
      "    \"status\" : 429\n",
      "  }\n",
      "}\n",
      "<bound method Response.json of <Response [429]>>\n"
     ]
    },
    {
     "name": "stderr",
     "output_type": "stream",
     "text": [
      "api_call...:  97%|█████████████████████████▎| 1047/1075 [13:09<00:05,  5.40it/s]"
     ]
    },
    {
     "name": "stdout",
     "output_type": "stream",
     "text": [
      "Error: 429 - {\n",
      "  \"error\" : {\n",
      "    \"status\" : 429\n",
      "  }\n",
      "}\n",
      "<bound method Response.json of <Response [429]>>\n",
      "Error: 429 - {\n",
      "  \"error\" : {\n",
      "    \"status\" : 429\n",
      "  }\n",
      "}\n",
      "<bound method Response.json of <Response [429]>>\n"
     ]
    },
    {
     "name": "stderr",
     "output_type": "stream",
     "text": [
      "\r",
      "api_call...:  97%|█████████████████████████▎| 1048/1075 [13:09<00:05,  5.40it/s]"
     ]
    },
    {
     "name": "stdout",
     "output_type": "stream",
     "text": [
      "Error: 429 - {\n",
      "  \"error\" : {\n",
      "    \"status\" : 429\n",
      "  }\n",
      "}\n",
      "<bound method Response.json of <Response [429]>>\n"
     ]
    },
    {
     "name": "stderr",
     "output_type": "stream",
     "text": [
      "api_call...:  98%|█████████████████████████▍| 1050/1075 [13:09<00:04,  5.51it/s]"
     ]
    },
    {
     "name": "stdout",
     "output_type": "stream",
     "text": [
      "Error: 429 - {\n",
      "  \"error\" : {\n",
      "    \"status\" : 429\n",
      "  }\n",
      "}\n",
      "<bound method Response.json of <Response [429]>>\n",
      "Error: 429 - {\n",
      "  \"error\" : {\n",
      "    \"status\" : 429\n",
      "  }\n",
      "}\n",
      "<bound method Response.json of <Response [429]>>\n"
     ]
    },
    {
     "name": "stderr",
     "output_type": "stream",
     "text": [
      "api_call...:  98%|█████████████████████████▍| 1052/1075 [13:09<00:03,  6.13it/s]"
     ]
    },
    {
     "name": "stdout",
     "output_type": "stream",
     "text": [
      "Error: 429 - {\n",
      "  \"error\" : {\n",
      "    \"status\" : 429\n",
      "  }\n",
      "}\n",
      "<bound method Response.json of <Response [429]>>\n",
      "Error: 429 - {\n",
      "  \"error\" : {\n",
      "    \"status\" : 429\n",
      "  }\n",
      "}\n",
      "<bound method Response.json of <Response [429]>>\n"
     ]
    },
    {
     "name": "stderr",
     "output_type": "stream",
     "text": [
      "api_call...:  98%|█████████████████████████▍| 1054/1075 [13:10<00:03,  6.79it/s]"
     ]
    },
    {
     "name": "stdout",
     "output_type": "stream",
     "text": [
      "Error: 429 - {\n",
      "  \"error\" : {\n",
      "    \"status\" : 429\n",
      "  }\n",
      "}\n",
      "<bound method Response.json of <Response [429]>>\n",
      "Error: 429 - {\n",
      "  \"error\" : {\n",
      "    \"status\" : 429\n",
      "  }\n",
      "}\n",
      "<bound method Response.json of <Response [429]>>\n"
     ]
    },
    {
     "name": "stderr",
     "output_type": "stream",
     "text": [
      "api_call...:  98%|█████████████████████████▌| 1056/1075 [13:10<00:03,  6.19it/s]"
     ]
    },
    {
     "name": "stdout",
     "output_type": "stream",
     "text": [
      "Error: 429 - {\n",
      "  \"error\" : {\n",
      "    \"status\" : 429\n",
      "  }\n",
      "}\n",
      "<bound method Response.json of <Response [429]>>\n",
      "Error: 429 - {\n",
      "  \"error\" : {\n",
      "    \"status\" : 429\n",
      "  }\n",
      "}\n",
      "<bound method Response.json of <Response [429]>>\n"
     ]
    },
    {
     "name": "stderr",
     "output_type": "stream",
     "text": [
      "api_call...:  98%|█████████████████████████▌| 1058/1075 [13:10<00:02,  6.84it/s]"
     ]
    },
    {
     "name": "stdout",
     "output_type": "stream",
     "text": [
      "Error: 429 - {\n",
      "  \"error\" : {\n",
      "    \"status\" : 429\n",
      "  }\n",
      "}\n",
      "<bound method Response.json of <Response [429]>>\n",
      "Error: 429 - {\n",
      "  \"error\" : {\n",
      "    \"status\" : 429\n",
      "  }\n",
      "}\n",
      "<bound method Response.json of <Response [429]>>\n"
     ]
    },
    {
     "name": "stderr",
     "output_type": "stream",
     "text": [
      "api_call...:  99%|█████████████████████████▋| 1060/1075 [13:11<00:02,  7.07it/s]"
     ]
    },
    {
     "name": "stdout",
     "output_type": "stream",
     "text": [
      "Error: 429 - {\n",
      "  \"error\" : {\n",
      "    \"status\" : 429\n",
      "  }\n",
      "}\n",
      "<bound method Response.json of <Response [429]>>\n",
      "Error: 429 - {\n",
      "  \"error\" : {\n",
      "    \"status\" : 429\n",
      "  }\n",
      "}\n",
      "<bound method Response.json of <Response [429]>>\n"
     ]
    },
    {
     "name": "stderr",
     "output_type": "stream",
     "text": [
      "\r",
      "api_call...:  99%|█████████████████████████▋| 1061/1075 [13:11<00:01,  7.27it/s]"
     ]
    },
    {
     "name": "stdout",
     "output_type": "stream",
     "text": [
      "Error: 429 - {\n",
      "  \"error\" : {\n",
      "    \"status\" : 429\n",
      "  }\n",
      "}\n",
      "<bound method Response.json of <Response [429]>>\n"
     ]
    },
    {
     "name": "stderr",
     "output_type": "stream",
     "text": [
      "api_call...:  99%|█████████████████████████▋| 1063/1075 [13:11<00:01,  6.26it/s]"
     ]
    },
    {
     "name": "stdout",
     "output_type": "stream",
     "text": [
      "Error: 429 - {\n",
      "  \"error\" : {\n",
      "    \"status\" : 429\n",
      "  }\n",
      "}\n",
      "<bound method Response.json of <Response [429]>>\n",
      "Error: 429 - {\n",
      "  \"error\" : {\n",
      "    \"status\" : 429\n",
      "  }\n",
      "}\n",
      "<bound method Response.json of <Response [429]>>\n"
     ]
    },
    {
     "name": "stderr",
     "output_type": "stream",
     "text": [
      "api_call...:  99%|█████████████████████████▊| 1065/1075 [13:11<00:01,  6.93it/s]"
     ]
    },
    {
     "name": "stdout",
     "output_type": "stream",
     "text": [
      "Error: 429 - {\n",
      "  \"error\" : {\n",
      "    \"status\" : 429\n",
      "  }\n",
      "}\n",
      "<bound method Response.json of <Response [429]>>\n",
      "Error: 429 - {\n",
      "  \"error\" : {\n",
      "    \"status\" : 429\n",
      "  }\n",
      "}\n",
      "<bound method Response.json of <Response [429]>>\n"
     ]
    },
    {
     "name": "stderr",
     "output_type": "stream",
     "text": [
      "api_call...:  99%|█████████████████████████▊| 1067/1075 [13:12<00:01,  7.09it/s]"
     ]
    },
    {
     "name": "stdout",
     "output_type": "stream",
     "text": [
      "Error: 429 - {\n",
      "  \"error\" : {\n",
      "    \"status\" : 429\n",
      "  }\n",
      "}\n",
      "<bound method Response.json of <Response [429]>>\n",
      "Error: 429 - {\n",
      "  \"error\" : {\n",
      "    \"status\" : 429\n",
      "  }\n",
      "}\n",
      "<bound method Response.json of <Response [429]>>\n"
     ]
    },
    {
     "name": "stderr",
     "output_type": "stream",
     "text": [
      "\r",
      "api_call...:  99%|█████████████████████████▊| 1068/1075 [13:12<00:00,  7.28it/s]"
     ]
    },
    {
     "name": "stdout",
     "output_type": "stream",
     "text": [
      "Error: 429 - {\n",
      "  \"error\" : {\n",
      "    \"status\" : 429\n",
      "  }\n",
      "}\n",
      "<bound method Response.json of <Response [429]>>\n"
     ]
    },
    {
     "name": "stderr",
     "output_type": "stream",
     "text": [
      "api_call...: 100%|█████████████████████████▉| 1070/1075 [13:12<00:00,  6.17it/s]"
     ]
    },
    {
     "name": "stdout",
     "output_type": "stream",
     "text": [
      "Error: 429 - {\n",
      "  \"error\" : {\n",
      "    \"status\" : 429\n",
      "  }\n",
      "}\n",
      "<bound method Response.json of <Response [429]>>\n",
      "Error: 429 - {\n",
      "  \"error\" : {\n",
      "    \"status\" : 429\n",
      "  }\n",
      "}\n",
      "<bound method Response.json of <Response [429]>>\n"
     ]
    },
    {
     "name": "stderr",
     "output_type": "stream",
     "text": [
      "api_call...: 100%|█████████████████████████▉| 1072/1075 [13:12<00:00,  6.85it/s]"
     ]
    },
    {
     "name": "stdout",
     "output_type": "stream",
     "text": [
      "Error: 429 - {\n",
      "  \"error\" : {\n",
      "    \"status\" : 429\n",
      "  }\n",
      "}\n",
      "<bound method Response.json of <Response [429]>>\n",
      "Error: 429 - {\n",
      "  \"error\" : {\n",
      "    \"status\" : 429\n",
      "  }\n",
      "}\n",
      "<bound method Response.json of <Response [429]>>\n"
     ]
    },
    {
     "name": "stderr",
     "output_type": "stream",
     "text": [
      "api_call...: 100%|█████████████████████████▉| 1074/1075 [13:13<00:00,  6.38it/s]"
     ]
    },
    {
     "name": "stdout",
     "output_type": "stream",
     "text": [
      "Error: 429 - {\n",
      "  \"error\" : {\n",
      "    \"status\" : 429\n",
      "  }\n",
      "}\n",
      "<bound method Response.json of <Response [429]>>\n",
      "Error: 429 - {\n",
      "  \"error\" : {\n",
      "    \"status\" : 429\n",
      "  }\n",
      "}\n",
      "<bound method Response.json of <Response [429]>>\n"
     ]
    },
    {
     "name": "stderr",
     "output_type": "stream",
     "text": [
      "api_call...: 100%|██████████████████████████| 1075/1075 [13:13<00:00,  1.35it/s]\n"
     ]
    },
    {
     "name": "stdout",
     "output_type": "stream",
     "text": [
      "Error: 429 - {\n",
      "  \"error\" : {\n",
      "    \"status\" : 429\n",
      "  }\n",
      "}\n",
      "<bound method Response.json of <Response [429]>>\n"
     ]
    },
    {
     "name": "stderr",
     "output_type": "stream",
     "text": [
      "creating attribute dataframe: 100%|███████████| 944/944 [00:09<00:00, 94.72it/s]\n",
      "100%|█████████████████████████████████████████████| 5/5 [00:03<00:00,  1.47it/s]\n",
      "api_call...:   0%|                           | 2/1073 [00:35<4:20:07, 14.57s/it]"
     ]
    },
    {
     "name": "stdout",
     "output_type": "stream",
     "text": [
      "Error: 429 - {\n",
      "  \"error\" : {\n",
      "    \"status\" : 429\n",
      "  }\n",
      "}\n",
      "<bound method Response.json of <Response [429]>>\n",
      "Error: 429 - {\n",
      "  \"error\" : {\n",
      "    \"status\" : 429\n",
      "  }\n",
      "}\n",
      "<bound method Response.json of <Response [429]>>\n"
     ]
    },
    {
     "name": "stderr",
     "output_type": "stream",
     "text": [
      "api_call...:   0%|                           | 4/1073 [00:35<1:26:58,  4.88s/it]"
     ]
    },
    {
     "name": "stdout",
     "output_type": "stream",
     "text": [
      "Error: 429 - {\n",
      "  \"error\" : {\n",
      "    \"status\" : 429\n",
      "  }\n",
      "}\n",
      "<bound method Response.json of <Response [429]>>\n",
      "Error: 429 - {\n",
      "  \"error\" : {\n",
      "    \"status\" : 429\n",
      "  }\n",
      "}\n",
      "<bound method Response.json of <Response [429]>>\n"
     ]
    },
    {
     "name": "stderr",
     "output_type": "stream",
     "text": [
      "api_call...:   1%|▏                            | 6/1073 [00:35<38:27,  2.16s/it]"
     ]
    },
    {
     "name": "stdout",
     "output_type": "stream",
     "text": [
      "Error: 429 - {\n",
      "  \"error\" : {\n",
      "    \"status\" : 429\n",
      "  }\n",
      "}\n",
      "<bound method Response.json of <Response [429]>>\n",
      "Error: 429 - {\n",
      "  \"error\" : {\n",
      "    \"status\" : 429\n",
      "  }\n",
      "}\n",
      "<bound method Response.json of <Response [429]>>\n"
     ]
    },
    {
     "name": "stderr",
     "output_type": "stream",
     "text": [
      "\r",
      "api_call...:   1%|▏                            | 7/1073 [00:36<26:37,  1.50s/it]"
     ]
    },
    {
     "name": "stdout",
     "output_type": "stream",
     "text": [
      "Error: 429 - {\n",
      "  \"error\" : {\n",
      "    \"status\" : 429\n",
      "  }\n",
      "}\n",
      "<bound method Response.json of <Response [429]>>\n"
     ]
    },
    {
     "name": "stderr",
     "output_type": "stream",
     "text": [
      "api_call...:   1%|▏                            | 9/1073 [00:36<14:10,  1.25it/s]"
     ]
    },
    {
     "name": "stdout",
     "output_type": "stream",
     "text": [
      "Error: 429 - {\n",
      "  \"error\" : {\n",
      "    \"status\" : 429\n",
      "  }\n",
      "}\n",
      "<bound method Response.json of <Response [429]>>\n",
      "Error: 429 - {\n",
      "  \"error\" : {\n",
      "    \"status\" : 429\n",
      "  }\n",
      "}\n",
      "<bound method Response.json of <Response [429]>>\n"
     ]
    },
    {
     "name": "stderr",
     "output_type": "stream",
     "text": [
      "\r",
      "api_call...:   1%|▎                           | 10/1073 [00:36<10:30,  1.69it/s]"
     ]
    },
    {
     "name": "stdout",
     "output_type": "stream",
     "text": [
      "Error: 429 - {\n",
      "  \"error\" : {\n",
      "    \"status\" : 429\n",
      "  }\n",
      "}\n",
      "<bound method Response.json of <Response [429]>>\n"
     ]
    },
    {
     "name": "stderr",
     "output_type": "stream",
     "text": [
      "api_call...:   1%|▎                           | 12/1073 [00:37<07:26,  2.38it/s]"
     ]
    },
    {
     "name": "stdout",
     "output_type": "stream",
     "text": [
      "Error: 429 - {\n",
      "  \"error\" : {\n",
      "    \"status\" : 429\n",
      "  }\n",
      "}\n",
      "<bound method Response.json of <Response [429]>>\n",
      "Error: 429 - {\n",
      "  \"error\" : {\n",
      "    \"status\" : 429\n",
      "  }\n",
      "}\n",
      "<bound method Response.json of <Response [429]>>\n"
     ]
    },
    {
     "name": "stderr",
     "output_type": "stream",
     "text": [
      "api_call...:   1%|▎                           | 14/1073 [00:37<05:09,  3.42it/s]"
     ]
    },
    {
     "name": "stdout",
     "output_type": "stream",
     "text": [
      "Error: 429 - {\n",
      "  \"error\" : {\n",
      "    \"status\" : 429\n",
      "  }\n",
      "}\n",
      "<bound method Response.json of <Response [429]>>\n",
      "Error: 429 - {\n",
      "  \"error\" : {\n",
      "    \"status\" : 429\n",
      "  }\n",
      "}\n",
      "<bound method Response.json of <Response [429]>>\n"
     ]
    },
    {
     "name": "stderr",
     "output_type": "stream",
     "text": [
      "\r",
      "api_call...:   1%|▍                           | 15/1073 [00:37<04:19,  4.07it/s]"
     ]
    },
    {
     "name": "stdout",
     "output_type": "stream",
     "text": [
      "Error: 429 - {\n",
      "  \"error\" : {\n",
      "    \"status\" : 429\n",
      "  }\n",
      "}\n",
      "<bound method Response.json of <Response [429]>>\n"
     ]
    },
    {
     "name": "stderr",
     "output_type": "stream",
     "text": [
      "api_call...:   2%|▍                           | 17/1073 [00:38<03:46,  4.67it/s]"
     ]
    },
    {
     "name": "stdout",
     "output_type": "stream",
     "text": [
      "Error: 429 - {\n",
      "  \"error\" : {\n",
      "    \"status\" : 429\n",
      "  }\n",
      "}\n",
      "<bound method Response.json of <Response [429]>>\n",
      "Error: 429 - {\n",
      "  \"error\" : {\n",
      "    \"status\" : 429\n",
      "  }\n",
      "}\n",
      "<bound method Response.json of <Response [429]>>\n"
     ]
    },
    {
     "name": "stderr",
     "output_type": "stream",
     "text": [
      "api_call...:   2%|▍                           | 19/1073 [00:38<03:00,  5.85it/s]"
     ]
    },
    {
     "name": "stdout",
     "output_type": "stream",
     "text": [
      "Error: 429 - {\n",
      "  \"error\" : {\n",
      "    \"status\" : 429\n",
      "  }\n",
      "}\n",
      "<bound method Response.json of <Response [429]>>\n",
      "Error: 429 - {\n",
      "  \"error\" : {\n",
      "    \"status\" : 429\n",
      "  }\n",
      "}\n",
      "<bound method Response.json of <Response [429]>>\n"
     ]
    },
    {
     "name": "stderr",
     "output_type": "stream",
     "text": [
      "\r",
      "api_call...:   2%|▌                           | 20/1073 [00:38<04:51,  3.62it/s]"
     ]
    },
    {
     "name": "stdout",
     "output_type": "stream",
     "text": [
      "Error: 429 - {\n",
      "  \"error\" : {\n",
      "    \"status\" : 429\n",
      "  }\n",
      "}\n",
      "<bound method Response.json of <Response [429]>>\n"
     ]
    },
    {
     "name": "stderr",
     "output_type": "stream",
     "text": [
      "\r",
      "api_call...:   2%|▌                           | 21/1073 [00:39<06:10,  2.84it/s]"
     ]
    },
    {
     "name": "stdout",
     "output_type": "stream",
     "text": [
      "Error: 429 - {\n",
      "  \"error\" : {\n",
      "    \"status\" : 429\n",
      "  }\n",
      "}\n",
      "<bound method Response.json of <Response [429]>>\n"
     ]
    },
    {
     "name": "stderr",
     "output_type": "stream",
     "text": [
      "api_call...:   2%|▌                           | 23/1073 [00:39<04:43,  3.70it/s]"
     ]
    },
    {
     "name": "stdout",
     "output_type": "stream",
     "text": [
      "Error: 429 - {\n",
      "  \"error\" : {\n",
      "    \"status\" : 429\n",
      "  }\n",
      "}\n",
      "<bound method Response.json of <Response [429]>>\n",
      "Error: 429 - {\n",
      "  \"error\" : {\n",
      "    \"status\" : 429\n",
      "  }\n",
      "}\n",
      "<bound method Response.json of <Response [429]>>\n"
     ]
    },
    {
     "name": "stderr",
     "output_type": "stream",
     "text": [
      "api_call...:   2%|▋                           | 25/1073 [00:40<05:00,  3.49it/s]"
     ]
    },
    {
     "name": "stdout",
     "output_type": "stream",
     "text": [
      "Error: 429 - {\n",
      "  \"error\" : {\n",
      "    \"status\" : 429\n",
      "  }\n",
      "}\n",
      "<bound method Response.json of <Response [429]>>\n"
     ]
    },
    {
     "name": "stderr",
     "output_type": "stream",
     "text": [
      "api_call...:   3%|▋                           | 27/1073 [00:40<03:49,  4.57it/s]"
     ]
    },
    {
     "name": "stdout",
     "output_type": "stream",
     "text": [
      "Error: 429 - {\n",
      "  \"error\" : {\n",
      "    \"status\" : 429\n",
      "  }\n",
      "}\n",
      "<bound method Response.json of <Response [429]>>\n",
      "Error: 429 - {\n",
      "  \"error\" : {\n",
      "    \"status\" : 429\n",
      "  }\n",
      "}\n",
      "<bound method Response.json of <Response [429]>>\n"
     ]
    },
    {
     "name": "stderr",
     "output_type": "stream",
     "text": [
      "api_call...:   3%|▊                           | 29/1073 [00:41<03:08,  5.54it/s]"
     ]
    },
    {
     "name": "stdout",
     "output_type": "stream",
     "text": [
      "Error: 429 - {\n",
      "  \"error\" : {\n",
      "    \"status\" : 429\n",
      "  }\n",
      "}\n",
      "<bound method Response.json of <Response [429]>>\n",
      "Error: 429 - {\n",
      "  \"error\" : {\n",
      "    \"status\" : 429\n",
      "  }\n",
      "}\n",
      "<bound method Response.json of <Response [429]>>\n"
     ]
    },
    {
     "name": "stderr",
     "output_type": "stream",
     "text": [
      "api_call...:   3%|▊                           | 31/1073 [00:41<02:50,  6.11it/s]"
     ]
    },
    {
     "name": "stdout",
     "output_type": "stream",
     "text": [
      "Error: 429 - {\n",
      "  \"error\" : {\n",
      "    \"status\" : 429\n",
      "  }\n",
      "}\n",
      "<bound method Response.json of <Response [429]>>\n",
      "Error: 429 - {\n",
      "  \"error\" : {\n",
      "    \"status\" : 429\n",
      "  }\n",
      "}\n",
      "<bound method Response.json of <Response [429]>>\n"
     ]
    },
    {
     "name": "stderr",
     "output_type": "stream",
     "text": [
      "api_call...:   3%|▊                           | 33/1073 [00:41<02:55,  5.94it/s]"
     ]
    },
    {
     "name": "stdout",
     "output_type": "stream",
     "text": [
      "Error: 429 - {\n",
      "  \"error\" : {\n",
      "    \"status\" : 429\n",
      "  }\n",
      "}\n",
      "<bound method Response.json of <Response [429]>>\n",
      "Error: 429 - {\n",
      "  \"error\" : {\n",
      "    \"status\" : 429\n",
      "  }\n",
      "}\n",
      "<bound method Response.json of <Response [429]>>\n"
     ]
    },
    {
     "name": "stderr",
     "output_type": "stream",
     "text": [
      "\r",
      "api_call...:   3%|▉                           | 34/1073 [00:41<02:42,  6.38it/s]"
     ]
    },
    {
     "name": "stdout",
     "output_type": "stream",
     "text": [
      "Error: 429 - {\n",
      "  \"error\" : {\n",
      "    \"status\" : 429\n",
      "  }\n",
      "}\n",
      "<bound method Response.json of <Response [429]>>\n"
     ]
    },
    {
     "name": "stderr",
     "output_type": "stream",
     "text": [
      "api_call...:   3%|▉                           | 36/1073 [00:42<02:54,  5.93it/s]"
     ]
    },
    {
     "name": "stdout",
     "output_type": "stream",
     "text": [
      "Error: 429 - {\n",
      "  \"error\" : {\n",
      "    \"status\" : 429\n",
      "  }\n",
      "}\n",
      "<bound method Response.json of <Response [429]>>\n",
      "Error: 429 - {\n",
      "  \"error\" : {\n",
      "    \"status\" : 429\n",
      "  }\n",
      "}\n",
      "<bound method Response.json of <Response [429]>>\n"
     ]
    },
    {
     "name": "stderr",
     "output_type": "stream",
     "text": [
      "\r",
      "api_call...:   3%|▉                           | 37/1073 [00:42<02:48,  6.15it/s]"
     ]
    },
    {
     "name": "stdout",
     "output_type": "stream",
     "text": [
      "Error: 429 - {\n",
      "  \"error\" : {\n",
      "    \"status\" : 429\n",
      "  }\n",
      "}\n",
      "<bound method Response.json of <Response [429]>>\n"
     ]
    },
    {
     "name": "stderr",
     "output_type": "stream",
     "text": [
      "api_call...:   4%|█                           | 39/1073 [00:42<02:58,  5.79it/s]"
     ]
    },
    {
     "name": "stdout",
     "output_type": "stream",
     "text": [
      "Error: 429 - {\n",
      "  \"error\" : {\n",
      "    \"status\" : 429\n",
      "  }\n",
      "}\n",
      "<bound method Response.json of <Response [429]>>\n",
      "Error: 429 - {\n",
      "  \"error\" : {\n",
      "    \"status\" : 429\n",
      "  }\n",
      "}\n",
      "<bound method Response.json of <Response [429]>>\n"
     ]
    },
    {
     "name": "stderr",
     "output_type": "stream",
     "text": [
      "\r",
      "api_call...:   4%|█                           | 40/1073 [00:42<02:55,  5.89it/s]"
     ]
    },
    {
     "name": "stdout",
     "output_type": "stream",
     "text": [
      "Error: 429 - {\n",
      "  \"error\" : {\n",
      "    \"status\" : 429\n",
      "  }\n",
      "}\n",
      "<bound method Response.json of <Response [429]>>\n"
     ]
    },
    {
     "name": "stderr",
     "output_type": "stream",
     "text": [
      "api_call...:   4%|█                           | 42/1073 [00:43<03:03,  5.61it/s]"
     ]
    },
    {
     "name": "stdout",
     "output_type": "stream",
     "text": [
      "Error: 429 - {\n",
      "  \"error\" : {\n",
      "    \"status\" : 429\n",
      "  }\n",
      "}\n",
      "<bound method Response.json of <Response [429]>>\n",
      "Error: 429 - {\n",
      "  \"error\" : {\n",
      "    \"status\" : 429\n",
      "  }\n",
      "}\n",
      "<bound method Response.json of <Response [429]>>\n"
     ]
    },
    {
     "name": "stderr",
     "output_type": "stream",
     "text": [
      "\r",
      "api_call...:   4%|█                           | 43/1073 [00:43<02:49,  6.06it/s]"
     ]
    },
    {
     "name": "stdout",
     "output_type": "stream",
     "text": [
      "Error: 429 - {\n",
      "  \"error\" : {\n",
      "    \"status\" : 429\n",
      "  }\n",
      "}\n",
      "<bound method Response.json of <Response [429]>>\n"
     ]
    },
    {
     "name": "stderr",
     "output_type": "stream",
     "text": [
      "api_call...:   4%|█▏                          | 45/1073 [00:43<02:52,  5.97it/s]"
     ]
    },
    {
     "name": "stdout",
     "output_type": "stream",
     "text": [
      "Error: 429 - {\n",
      "  \"error\" : {\n",
      "    \"status\" : 429\n",
      "  }\n",
      "}\n",
      "<bound method Response.json of <Response [429]>>\n",
      "Error: 429 - {\n",
      "  \"error\" : {\n",
      "    \"status\" : 429\n",
      "  }\n",
      "}\n",
      "<bound method Response.json of <Response [429]>>\n"
     ]
    },
    {
     "name": "stderr",
     "output_type": "stream",
     "text": [
      "\r",
      "api_call...:   4%|█▏                          | 46/1073 [00:43<02:42,  6.31it/s]"
     ]
    },
    {
     "name": "stdout",
     "output_type": "stream",
     "text": [
      "Error: 429 - {\n",
      "  \"error\" : {\n",
      "    \"status\" : 429\n",
      "  }\n",
      "}\n",
      "<bound method Response.json of <Response [429]>>\n"
     ]
    },
    {
     "name": "stderr",
     "output_type": "stream",
     "text": [
      "api_call...:   4%|█▎                          | 48/1073 [00:44<02:53,  5.91it/s]"
     ]
    },
    {
     "name": "stdout",
     "output_type": "stream",
     "text": [
      "Error: 429 - {\n",
      "  \"error\" : {\n",
      "    \"status\" : 429\n",
      "  }\n",
      "}\n",
      "<bound method Response.json of <Response [429]>>\n",
      "Error: 429 - {\n",
      "  \"error\" : {\n",
      "    \"status\" : 429\n",
      "  }\n",
      "}\n",
      "<bound method Response.json of <Response [429]>>\n"
     ]
    },
    {
     "name": "stderr",
     "output_type": "stream",
     "text": [
      "api_call...:   5%|█▎                          | 50/1073 [00:44<02:31,  6.74it/s]"
     ]
    },
    {
     "name": "stdout",
     "output_type": "stream",
     "text": [
      "Error: 429 - {\n",
      "  \"error\" : {\n",
      "    \"status\" : 429\n",
      "  }\n",
      "}\n",
      "<bound method Response.json of <Response [429]>>\n",
      "Error: 429 - {\n",
      "  \"error\" : {\n",
      "    \"status\" : 429\n",
      "  }\n",
      "}\n",
      "<bound method Response.json of <Response [429]>>\n"
     ]
    },
    {
     "name": "stderr",
     "output_type": "stream",
     "text": [
      "api_call...:   5%|█▎                          | 52/1073 [00:44<02:23,  7.12it/s]"
     ]
    },
    {
     "name": "stdout",
     "output_type": "stream",
     "text": [
      "Error: 429 - {\n",
      "  \"error\" : {\n",
      "    \"status\" : 429\n",
      "  }\n",
      "}\n",
      "<bound method Response.json of <Response [429]>>\n",
      "Error: 429 - {\n",
      "  \"error\" : {\n",
      "    \"status\" : 429\n",
      "  }\n",
      "}\n",
      "<bound method Response.json of <Response [429]>>\n"
     ]
    },
    {
     "name": "stderr",
     "output_type": "stream",
     "text": [
      "\r",
      "api_call...:   5%|█▍                          | 53/1073 [00:45<02:21,  7.20it/s]"
     ]
    },
    {
     "name": "stdout",
     "output_type": "stream",
     "text": [
      "Error: 429 - {\n",
      "  \"error\" : {\n",
      "    \"status\" : 429\n",
      "  }\n",
      "}\n",
      "<bound method Response.json of <Response [429]>>\n"
     ]
    },
    {
     "name": "stderr",
     "output_type": "stream",
     "text": [
      "api_call...:   5%|█▍                          | 55/1073 [00:45<02:41,  6.31it/s]"
     ]
    },
    {
     "name": "stdout",
     "output_type": "stream",
     "text": [
      "Error: 429 - {\n",
      "  \"error\" : {\n",
      "    \"status\" : 429\n",
      "  }\n",
      "}\n",
      "<bound method Response.json of <Response [429]>>\n",
      "Error: 429 - {\n",
      "  \"error\" : {\n",
      "    \"status\" : 429\n",
      "  }\n",
      "}\n",
      "<bound method Response.json of <Response [429]>>\n"
     ]
    },
    {
     "name": "stderr",
     "output_type": "stream",
     "text": [
      "api_call...:   5%|█▍                          | 57/1073 [00:45<02:27,  6.90it/s]"
     ]
    },
    {
     "name": "stdout",
     "output_type": "stream",
     "text": [
      "Error: 429 - {\n",
      "  \"error\" : {\n",
      "    \"status\" : 429\n",
      "  }\n",
      "}\n",
      "<bound method Response.json of <Response [429]>>\n",
      "Error: 429 - {\n",
      "  \"error\" : {\n",
      "    \"status\" : 429\n",
      "  }\n",
      "}\n",
      "<bound method Response.json of <Response [429]>>\n"
     ]
    },
    {
     "name": "stderr",
     "output_type": "stream",
     "text": [
      "api_call...:   5%|█▌                          | 59/1073 [00:45<02:23,  7.06it/s]"
     ]
    },
    {
     "name": "stdout",
     "output_type": "stream",
     "text": [
      "Error: 429 - {\n",
      "  \"error\" : {\n",
      "    \"status\" : 429\n",
      "  }\n",
      "}\n",
      "<bound method Response.json of <Response [429]>>\n",
      "Error: 429 - {\n",
      "  \"error\" : {\n",
      "    \"status\" : 429\n",
      "  }\n",
      "}\n",
      "<bound method Response.json of <Response [429]>>\n"
     ]
    },
    {
     "name": "stderr",
     "output_type": "stream",
     "text": [
      "\r",
      "api_call...:   6%|█▌                          | 60/1073 [00:46<02:19,  7.25it/s]"
     ]
    },
    {
     "name": "stdout",
     "output_type": "stream",
     "text": [
      "Error: 429 - {\n",
      "  \"error\" : {\n",
      "    \"status\" : 429\n",
      "  }\n",
      "}\n",
      "<bound method Response.json of <Response [429]>>\n"
     ]
    },
    {
     "name": "stderr",
     "output_type": "stream",
     "text": [
      "api_call...:   6%|█▌                          | 62/1073 [00:46<02:43,  6.18it/s]"
     ]
    },
    {
     "name": "stdout",
     "output_type": "stream",
     "text": [
      "Error: 429 - {\n",
      "  \"error\" : {\n",
      "    \"status\" : 429\n",
      "  }\n",
      "}\n",
      "<bound method Response.json of <Response [429]>>\n",
      "Error: 429 - {\n",
      "  \"error\" : {\n",
      "    \"status\" : 429\n",
      "  }\n",
      "}\n",
      "<bound method Response.json of <Response [429]>>\n"
     ]
    },
    {
     "name": "stderr",
     "output_type": "stream",
     "text": [
      "api_call...:   6%|█▋                          | 64/1073 [00:46<02:30,  6.69it/s]"
     ]
    },
    {
     "name": "stdout",
     "output_type": "stream",
     "text": [
      "Error: 429 - {\n",
      "  \"error\" : {\n",
      "    \"status\" : 429\n",
      "  }\n",
      "}\n",
      "<bound method Response.json of <Response [429]>>\n",
      "Error: 429 - {\n",
      "  \"error\" : {\n",
      "    \"status\" : 429\n",
      "  }\n",
      "}\n",
      "<bound method Response.json of <Response [429]>>\n"
     ]
    },
    {
     "name": "stderr",
     "output_type": "stream",
     "text": [
      "api_call...:   6%|█▋                          | 66/1073 [00:47<02:36,  6.42it/s]"
     ]
    },
    {
     "name": "stdout",
     "output_type": "stream",
     "text": [
      "Error: 429 - {\n",
      "  \"error\" : {\n",
      "    \"status\" : 429\n",
      "  }\n",
      "}\n",
      "<bound method Response.json of <Response [429]>>\n",
      "Error: 429 - {\n",
      "  \"error\" : {\n",
      "    \"status\" : 429\n",
      "  }\n",
      "}\n",
      "<bound method Response.json of <Response [429]>>\n"
     ]
    },
    {
     "name": "stderr",
     "output_type": "stream",
     "text": [
      "api_call...:   6%|█▊                          | 68/1073 [00:47<02:32,  6.60it/s]"
     ]
    },
    {
     "name": "stdout",
     "output_type": "stream",
     "text": [
      "Error: 429 - {\n",
      "  \"error\" : {\n",
      "    \"status\" : 429\n",
      "  }\n",
      "}\n",
      "<bound method Response.json of <Response [429]>>\n",
      "Error: 429 - {\n",
      "  \"error\" : {\n",
      "    \"status\" : 429\n",
      "  }\n",
      "}\n",
      "<bound method Response.json of <Response [429]>>\n"
     ]
    },
    {
     "name": "stderr",
     "output_type": "stream",
     "text": [
      "api_call...:   7%|█▊                          | 70/1073 [00:47<02:25,  6.91it/s]"
     ]
    },
    {
     "name": "stdout",
     "output_type": "stream",
     "text": [
      "Error: 429 - {\n",
      "  \"error\" : {\n",
      "    \"status\" : 429\n",
      "  }\n",
      "}\n",
      "<bound method Response.json of <Response [429]>>\n",
      "Error: 429 - {\n",
      "  \"error\" : {\n",
      "    \"status\" : 429\n",
      "  }\n",
      "}\n",
      "<bound method Response.json of <Response [429]>>\n"
     ]
    },
    {
     "name": "stderr",
     "output_type": "stream",
     "text": [
      "api_call...:   7%|█▉                          | 72/1073 [00:48<02:45,  6.07it/s]"
     ]
    },
    {
     "name": "stdout",
     "output_type": "stream",
     "text": [
      "Error: 429 - {\n",
      "  \"error\" : {\n",
      "    \"status\" : 429\n",
      "  }\n",
      "}\n",
      "<bound method Response.json of <Response [429]>>\n",
      "Error: 429 - {\n",
      "  \"error\" : {\n",
      "    \"status\" : 429\n",
      "  }\n",
      "}\n",
      "<bound method Response.json of <Response [429]>>\n"
     ]
    },
    {
     "name": "stderr",
     "output_type": "stream",
     "text": [
      "\r",
      "api_call...:   7%|█▉                          | 73/1073 [00:48<02:36,  6.41it/s]"
     ]
    },
    {
     "name": "stdout",
     "output_type": "stream",
     "text": [
      "Error: 429 - {\n",
      "  \"error\" : {\n",
      "    \"status\" : 429\n",
      "  }\n",
      "}\n",
      "<bound method Response.json of <Response [429]>>\n"
     ]
    },
    {
     "name": "stderr",
     "output_type": "stream",
     "text": [
      "api_call...:   7%|█▉                          | 75/1073 [00:48<02:48,  5.94it/s]"
     ]
    },
    {
     "name": "stdout",
     "output_type": "stream",
     "text": [
      "Error: 429 - {\n",
      "  \"error\" : {\n",
      "    \"status\" : 429\n",
      "  }\n",
      "}\n",
      "<bound method Response.json of <Response [429]>>\n",
      "Error: 429 - {\n",
      "  \"error\" : {\n",
      "    \"status\" : 429\n",
      "  }\n",
      "}\n",
      "<bound method Response.json of <Response [429]>>\n"
     ]
    },
    {
     "name": "stderr",
     "output_type": "stream",
     "text": [
      "api_call...:   7%|██                          | 77/1073 [00:48<02:29,  6.68it/s]"
     ]
    },
    {
     "name": "stdout",
     "output_type": "stream",
     "text": [
      "Error: 429 - {\n",
      "  \"error\" : {\n",
      "    \"status\" : 429\n",
      "  }\n",
      "}\n",
      "<bound method Response.json of <Response [429]>>\n",
      "Error: 429 - {\n",
      "  \"error\" : {\n",
      "    \"status\" : 429\n",
      "  }\n",
      "}\n",
      "<bound method Response.json of <Response [429]>>\n"
     ]
    },
    {
     "name": "stderr",
     "output_type": "stream",
     "text": [
      "api_call...:   7%|██                          | 79/1073 [00:49<02:42,  6.13it/s]"
     ]
    },
    {
     "name": "stdout",
     "output_type": "stream",
     "text": [
      "Error: 429 - {\n",
      "  \"error\" : {\n",
      "    \"status\" : 429\n",
      "  }\n",
      "}\n",
      "<bound method Response.json of <Response [429]>>\n",
      "Error: 429 - {\n",
      "  \"error\" : {\n",
      "    \"status\" : 429\n",
      "  }\n",
      "}\n",
      "<bound method Response.json of <Response [429]>>\n"
     ]
    },
    {
     "name": "stderr",
     "output_type": "stream",
     "text": [
      "\r",
      "api_call...:   7%|██                          | 80/1073 [00:49<02:38,  6.26it/s]"
     ]
    },
    {
     "name": "stdout",
     "output_type": "stream",
     "text": [
      "Error: 429 - {\n",
      "  \"error\" : {\n",
      "    \"status\" : 429\n",
      "  }\n",
      "}\n",
      "<bound method Response.json of <Response [429]>>\n"
     ]
    },
    {
     "name": "stderr",
     "output_type": "stream",
     "text": [
      "api_call...:   8%|██▏                         | 82/1073 [00:49<02:43,  6.05it/s]"
     ]
    },
    {
     "name": "stdout",
     "output_type": "stream",
     "text": [
      "Error: 429 - {\n",
      "  \"error\" : {\n",
      "    \"status\" : 429\n",
      "  }\n",
      "}\n",
      "<bound method Response.json of <Response [429]>>\n",
      "Error: 429 - {\n",
      "  \"error\" : {\n",
      "    \"status\" : 429\n",
      "  }\n",
      "}\n",
      "<bound method Response.json of <Response [429]>>\n"
     ]
    },
    {
     "name": "stderr",
     "output_type": "stream",
     "text": [
      "api_call...:   8%|██▏                         | 84/1073 [00:50<02:35,  6.34it/s]"
     ]
    },
    {
     "name": "stdout",
     "output_type": "stream",
     "text": [
      "Error: 429 - {\n",
      "  \"error\" : {\n",
      "    \"status\" : 429\n",
      "  }\n",
      "}\n",
      "<bound method Response.json of <Response [429]>>\n",
      "Error: 429 - {\n",
      "  \"error\" : {\n",
      "    \"status\" : 429\n",
      "  }\n",
      "}\n",
      "<bound method Response.json of <Response [429]>>\n"
     ]
    },
    {
     "name": "stderr",
     "output_type": "stream",
     "text": [
      "api_call...:   8%|██▏                         | 86/1073 [00:50<02:23,  6.89it/s]"
     ]
    },
    {
     "name": "stdout",
     "output_type": "stream",
     "text": [
      "Error: 429 - {\n",
      "  \"error\" : {\n",
      "    \"status\" : 429\n",
      "  }\n",
      "}\n",
      "<bound method Response.json of <Response [429]>>\n",
      "Error: 429 - {\n",
      "  \"error\" : {\n",
      "    \"status\" : 429\n",
      "  }\n",
      "}\n",
      "<bound method Response.json of <Response [429]>>\n"
     ]
    },
    {
     "name": "stderr",
     "output_type": "stream",
     "text": [
      "api_call...:   8%|██▎                         | 88/1073 [00:51<04:27,  3.68it/s]"
     ]
    },
    {
     "name": "stdout",
     "output_type": "stream",
     "text": [
      "Error: 429 - {\n",
      "  \"error\" : {\n",
      "    \"status\" : 429\n",
      "  }\n",
      "}\n",
      "<bound method Response.json of <Response [429]>>\n",
      "Error: 429 - {\n",
      "  \"error\" : {\n",
      "    \"status\" : 429\n",
      "  }\n",
      "}\n",
      "<bound method Response.json of <Response [429]>>\n"
     ]
    },
    {
     "name": "stderr",
     "output_type": "stream",
     "text": [
      "\r",
      "api_call...:   8%|██▎                         | 89/1073 [00:51<03:46,  4.35it/s]"
     ]
    },
    {
     "name": "stdout",
     "output_type": "stream",
     "text": [
      "Error: 429 - {\n",
      "  \"error\" : {\n",
      "    \"status\" : 429\n",
      "  }\n",
      "}\n",
      "<bound method Response.json of <Response [429]>>\n"
     ]
    },
    {
     "name": "stderr",
     "output_type": "stream",
     "text": [
      "api_call...:   8%|██▎                         | 91/1073 [00:51<03:24,  4.80it/s]"
     ]
    },
    {
     "name": "stdout",
     "output_type": "stream",
     "text": [
      "Error: 429 - {\n",
      "  \"error\" : {\n",
      "    \"status\" : 429\n",
      "  }\n",
      "}\n",
      "<bound method Response.json of <Response [429]>>\n",
      "Error: 429 - {\n",
      "  \"error\" : {\n",
      "    \"status\" : 429\n",
      "  }\n",
      "}\n",
      "<bound method Response.json of <Response [429]>>\n"
     ]
    },
    {
     "name": "stderr",
     "output_type": "stream",
     "text": [
      "\r",
      "api_call...:   9%|██▍                         | 92/1073 [00:51<03:15,  5.03it/s]"
     ]
    },
    {
     "name": "stdout",
     "output_type": "stream",
     "text": [
      "Error: 429 - {\n",
      "  \"error\" : {\n",
      "    \"status\" : 429\n",
      "  }\n",
      "}\n",
      "<bound method Response.json of <Response [429]>>\n"
     ]
    },
    {
     "name": "stderr",
     "output_type": "stream",
     "text": [
      "api_call...:   9%|██▍                         | 94/1073 [00:52<02:57,  5.51it/s]"
     ]
    },
    {
     "name": "stdout",
     "output_type": "stream",
     "text": [
      "Error: 429 - {\n",
      "  \"error\" : {\n",
      "    \"status\" : 429\n",
      "  }\n",
      "}\n",
      "<bound method Response.json of <Response [429]>>\n",
      "Error: 429 - {\n",
      "  \"error\" : {\n",
      "    \"status\" : 429\n",
      "  }\n",
      "}\n",
      "<bound method Response.json of <Response [429]>>\n"
     ]
    },
    {
     "name": "stderr",
     "output_type": "stream",
     "text": [
      "\r",
      "api_call...:   9%|██▍                         | 95/1073 [00:52<02:43,  5.98it/s]"
     ]
    },
    {
     "name": "stdout",
     "output_type": "stream",
     "text": [
      "Error: 429 - {\n",
      "  \"error\" : {\n",
      "    \"status\" : 429\n",
      "  }\n",
      "}\n",
      "<bound method Response.json of <Response [429]>>\n"
     ]
    },
    {
     "name": "stderr",
     "output_type": "stream",
     "text": [
      "api_call...:   9%|██▌                         | 97/1073 [00:52<02:53,  5.64it/s]"
     ]
    },
    {
     "name": "stdout",
     "output_type": "stream",
     "text": [
      "Error: 429 - {\n",
      "  \"error\" : {\n",
      "    \"status\" : 429\n",
      "  }\n",
      "}\n",
      "<bound method Response.json of <Response [429]>>\n",
      "Error: 429 - {\n",
      "  \"error\" : {\n",
      "    \"status\" : 429\n",
      "  }\n",
      "}\n",
      "<bound method Response.json of <Response [429]>>\n"
     ]
    },
    {
     "name": "stderr",
     "output_type": "stream",
     "text": [
      "api_call...:   9%|██▌                         | 99/1073 [00:53<02:30,  6.46it/s]"
     ]
    },
    {
     "name": "stdout",
     "output_type": "stream",
     "text": [
      "Error: 429 - {\n",
      "  \"error\" : {\n",
      "    \"status\" : 429\n",
      "  }\n",
      "}\n",
      "<bound method Response.json of <Response [429]>>\n",
      "Error: 429 - {\n",
      "  \"error\" : {\n",
      "    \"status\" : 429\n",
      "  }\n",
      "}\n",
      "<bound method Response.json of <Response [429]>>\n"
     ]
    },
    {
     "name": "stderr",
     "output_type": "stream",
     "text": [
      "\r",
      "api_call...:   9%|██▌                        | 100/1073 [00:53<02:55,  5.55it/s]"
     ]
    },
    {
     "name": "stdout",
     "output_type": "stream",
     "text": [
      "Error: 429 - {\n",
      "  \"error\" : {\n",
      "    \"status\" : 429\n",
      "  }\n",
      "}\n",
      "<bound method Response.json of <Response [429]>>\n"
     ]
    },
    {
     "name": "stderr",
     "output_type": "stream",
     "text": [
      "api_call...:  10%|██▍                      | 102/1073 [01:28<2:01:31,  7.51s/it]"
     ]
    },
    {
     "name": "stdout",
     "output_type": "stream",
     "text": [
      "Error: 429 - {\n",
      "  \"error\" : {\n",
      "    \"status\" : 429\n",
      "  }\n",
      "}\n",
      "<bound method Response.json of <Response [429]>>\n",
      "Error: 429 - {\n",
      "  \"error\" : {\n",
      "    \"status\" : 429\n",
      "  }\n",
      "}\n",
      "<bound method Response.json of <Response [429]>>\n"
     ]
    },
    {
     "name": "stderr",
     "output_type": "stream",
     "text": [
      "\r",
      "api_call...:  10%|██▍                      | 103/1073 [01:28<1:25:37,  5.30s/it]"
     ]
    },
    {
     "name": "stdout",
     "output_type": "stream",
     "text": [
      "Error: 429 - {\n",
      "  \"error\" : {\n",
      "    \"status\" : 429\n",
      "  }\n",
      "}\n",
      "<bound method Response.json of <Response [429]>>\n"
     ]
    },
    {
     "name": "stderr",
     "output_type": "stream",
     "text": [
      "api_call...:  10%|██▋                        | 105/1073 [01:29<43:14,  2.68s/it]"
     ]
    },
    {
     "name": "stdout",
     "output_type": "stream",
     "text": [
      "Error: 429 - {\n",
      "  \"error\" : {\n",
      "    \"status\" : 429\n",
      "  }\n",
      "}\n",
      "<bound method Response.json of <Response [429]>>\n",
      "Error: 429 - {\n",
      "  \"error\" : {\n",
      "    \"status\" : 429\n",
      "  }\n",
      "}\n",
      "<bound method Response.json of <Response [429]>>\n"
     ]
    },
    {
     "name": "stderr",
     "output_type": "stream",
     "text": [
      "\r",
      "api_call...:  10%|██▋                        | 106/1073 [01:29<31:03,  1.93s/it]"
     ]
    },
    {
     "name": "stdout",
     "output_type": "stream",
     "text": [
      "Error: 429 - {\n",
      "  \"error\" : {\n",
      "    \"status\" : 429\n",
      "  }\n",
      "}\n",
      "<bound method Response.json of <Response [429]>>\n"
     ]
    },
    {
     "name": "stderr",
     "output_type": "stream",
     "text": [
      "api_call...:  10%|██▋                        | 108/1073 [01:29<16:37,  1.03s/it]"
     ]
    },
    {
     "name": "stdout",
     "output_type": "stream",
     "text": [
      "Error: 429 - {\n",
      "  \"error\" : {\n",
      "    \"status\" : 429\n",
      "  }\n",
      "}\n",
      "<bound method Response.json of <Response [429]>>\n",
      "Error: 429 - {\n",
      "  \"error\" : {\n",
      "    \"status\" : 429\n",
      "  }\n",
      "}\n",
      "<bound method Response.json of <Response [429]>>\n"
     ]
    },
    {
     "name": "stderr",
     "output_type": "stream",
     "text": [
      "api_call...:  10%|██▊                        | 110/1073 [01:29<09:20,  1.72it/s]"
     ]
    },
    {
     "name": "stdout",
     "output_type": "stream",
     "text": [
      "Error: 429 - {\n",
      "  \"error\" : {\n",
      "    \"status\" : 429\n",
      "  }\n",
      "}\n",
      "<bound method Response.json of <Response [429]>>\n",
      "Error: 429 - {\n",
      "  \"error\" : {\n",
      "    \"status\" : 429\n",
      "  }\n",
      "}\n",
      "<bound method Response.json of <Response [429]>>\n"
     ]
    },
    {
     "name": "stderr",
     "output_type": "stream",
     "text": [
      "api_call...:  10%|██▊                        | 112/1073 [01:30<06:59,  2.29it/s]"
     ]
    },
    {
     "name": "stdout",
     "output_type": "stream",
     "text": [
      "Error: 429 - {\n",
      "  \"error\" : {\n",
      "    \"status\" : 429\n",
      "  }\n",
      "}\n",
      "<bound method Response.json of <Response [429]>>\n",
      "Error: 429 - {\n",
      "  \"error\" : {\n",
      "    \"status\" : 429\n",
      "  }\n",
      "}\n",
      "<bound method Response.json of <Response [429]>>\n"
     ]
    },
    {
     "name": "stderr",
     "output_type": "stream",
     "text": [
      "api_call...:  11%|██▊                        | 114/1073 [01:30<04:26,  3.60it/s]"
     ]
    },
    {
     "name": "stdout",
     "output_type": "stream",
     "text": [
      "Error: 429 - {\n",
      "  \"error\" : {\n",
      "    \"status\" : 429\n",
      "  }\n",
      "}\n",
      "<bound method Response.json of <Response [429]>>\n",
      "Error: 429 - {\n",
      "  \"error\" : {\n",
      "    \"status\" : 429\n",
      "  }\n",
      "}\n",
      "<bound method Response.json of <Response [429]>>\n"
     ]
    },
    {
     "name": "stderr",
     "output_type": "stream",
     "text": [
      "api_call...:  11%|██▉                        | 116/1073 [01:31<04:39,  3.42it/s]"
     ]
    },
    {
     "name": "stdout",
     "output_type": "stream",
     "text": [
      "Error: 429 - {\n",
      "  \"error\" : {\n",
      "    \"status\" : 429\n",
      "  }\n",
      "}\n",
      "<bound method Response.json of <Response [429]>>\n",
      "Error: 429 - {\n",
      "  \"error\" : {\n",
      "    \"status\" : 429\n",
      "  }\n",
      "}\n",
      "<bound method Response.json of <Response [429]>>\n"
     ]
    },
    {
     "name": "stderr",
     "output_type": "stream",
     "text": [
      "api_call...:  11%|██▉                        | 118/1073 [01:31<03:22,  4.71it/s]"
     ]
    },
    {
     "name": "stdout",
     "output_type": "stream",
     "text": [
      "Error: 429 - {\n",
      "  \"error\" : {\n",
      "    \"status\" : 429\n",
      "  }\n",
      "}\n",
      "<bound method Response.json of <Response [429]>>\n",
      "Error: 429 - {\n",
      "  \"error\" : {\n",
      "    \"status\" : 429\n",
      "  }\n",
      "}\n",
      "<bound method Response.json of <Response [429]>>\n"
     ]
    },
    {
     "name": "stderr",
     "output_type": "stream",
     "text": [
      "\r",
      "api_call...:  11%|██▉                        | 119/1073 [01:31<03:00,  5.30it/s]"
     ]
    },
    {
     "name": "stdout",
     "output_type": "stream",
     "text": [
      "Error: 429 - {\n",
      "  \"error\" : {\n",
      "    \"status\" : 429\n",
      "  }\n",
      "}\n",
      "<bound method Response.json of <Response [429]>>\n"
     ]
    },
    {
     "name": "stderr",
     "output_type": "stream",
     "text": [
      "api_call...:  11%|███                        | 121/1073 [01:32<02:49,  5.62it/s]"
     ]
    },
    {
     "name": "stdout",
     "output_type": "stream",
     "text": [
      "Error: 429 - {\n",
      "  \"error\" : {\n",
      "    \"status\" : 429\n",
      "  }\n",
      "}\n",
      "<bound method Response.json of <Response [429]>>\n",
      "Error: 429 - {\n",
      "  \"error\" : {\n",
      "    \"status\" : 429\n",
      "  }\n",
      "}\n",
      "<bound method Response.json of <Response [429]>>\n"
     ]
    },
    {
     "name": "stderr",
     "output_type": "stream",
     "text": [
      "\r",
      "api_call...:  11%|███                        | 122/1073 [01:32<02:44,  5.78it/s]"
     ]
    },
    {
     "name": "stdout",
     "output_type": "stream",
     "text": [
      "Error: 429 - {\n",
      "  \"error\" : {\n",
      "    \"status\" : 429\n",
      "  }\n",
      "}\n",
      "<bound method Response.json of <Response [429]>>\n"
     ]
    },
    {
     "name": "stderr",
     "output_type": "stream",
     "text": [
      "api_call...:  12%|███                        | 124/1073 [01:32<02:43,  5.81it/s]"
     ]
    },
    {
     "name": "stdout",
     "output_type": "stream",
     "text": [
      "Error: 429 - {\n",
      "  \"error\" : {\n",
      "    \"status\" : 429\n",
      "  }\n",
      "}\n",
      "<bound method Response.json of <Response [429]>>\n",
      "Error: 429 - {\n",
      "  \"error\" : {\n",
      "    \"status\" : 429\n",
      "  }\n",
      "}\n",
      "<bound method Response.json of <Response [429]>>\n"
     ]
    },
    {
     "name": "stderr",
     "output_type": "stream",
     "text": [
      "api_call...:  12%|███▏                       | 126/1073 [01:33<02:32,  6.21it/s]"
     ]
    },
    {
     "name": "stdout",
     "output_type": "stream",
     "text": [
      "Error: 429 - {\n",
      "  \"error\" : {\n",
      "    \"status\" : 429\n",
      "  }\n",
      "}\n",
      "<bound method Response.json of <Response [429]>>\n",
      "Error: 429 - {\n",
      "  \"error\" : {\n",
      "    \"status\" : 429\n",
      "  }\n",
      "}\n",
      "<bound method Response.json of <Response [429]>>\n"
     ]
    },
    {
     "name": "stderr",
     "output_type": "stream",
     "text": [
      "api_call...:  12%|███▏                       | 128/1073 [01:33<02:18,  6.81it/s]"
     ]
    },
    {
     "name": "stdout",
     "output_type": "stream",
     "text": [
      "Error: 429 - {\n",
      "  \"error\" : {\n",
      "    \"status\" : 429\n",
      "  }\n",
      "}\n",
      "<bound method Response.json of <Response [429]>>\n",
      "Error: 429 - {\n",
      "  \"error\" : {\n",
      "    \"status\" : 429\n",
      "  }\n",
      "}\n",
      "<bound method Response.json of <Response [429]>>\n"
     ]
    },
    {
     "name": "stderr",
     "output_type": "stream",
     "text": [
      "api_call...:  12%|███▎                       | 130/1073 [01:33<02:36,  6.03it/s]"
     ]
    },
    {
     "name": "stdout",
     "output_type": "stream",
     "text": [
      "Error: 429 - {\n",
      "  \"error\" : {\n",
      "    \"status\" : 429\n",
      "  }\n",
      "}\n",
      "<bound method Response.json of <Response [429]>>\n",
      "Error: 429 - {\n",
      "  \"error\" : {\n",
      "    \"status\" : 429\n",
      "  }\n",
      "}\n",
      "<bound method Response.json of <Response [429]>>\n"
     ]
    },
    {
     "name": "stderr",
     "output_type": "stream",
     "text": [
      "\r",
      "api_call...:  12%|███▎                       | 131/1073 [01:33<02:43,  5.77it/s]"
     ]
    },
    {
     "name": "stdout",
     "output_type": "stream",
     "text": [
      "Error: 429 - {\n",
      "  \"error\" : {\n",
      "    \"status\" : 429\n",
      "  }\n",
      "}\n",
      "<bound method Response.json of <Response [429]>>\n"
     ]
    },
    {
     "name": "stderr",
     "output_type": "stream",
     "text": [
      "api_call...:  12%|███▎                       | 133/1073 [01:34<02:49,  5.54it/s]"
     ]
    },
    {
     "name": "stdout",
     "output_type": "stream",
     "text": [
      "Error: 429 - {\n",
      "  \"error\" : {\n",
      "    \"status\" : 429\n",
      "  }\n",
      "}\n",
      "<bound method Response.json of <Response [429]>>\n",
      "Error: 429 - {\n",
      "  \"error\" : {\n",
      "    \"status\" : 429\n",
      "  }\n",
      "}\n",
      "<bound method Response.json of <Response [429]>>\n"
     ]
    },
    {
     "name": "stderr",
     "output_type": "stream",
     "text": [
      "\r",
      "api_call...:  12%|███▎                       | 134/1073 [01:34<02:52,  5.44it/s]"
     ]
    },
    {
     "name": "stdout",
     "output_type": "stream",
     "text": [
      "Error: 429 - {\n",
      "  \"error\" : {\n",
      "    \"status\" : 429\n",
      "  }\n",
      "}\n",
      "<bound method Response.json of <Response [429]>>\n"
     ]
    },
    {
     "name": "stderr",
     "output_type": "stream",
     "text": [
      "api_call...:  13%|███▍                       | 136/1073 [01:34<02:43,  5.72it/s]"
     ]
    },
    {
     "name": "stdout",
     "output_type": "stream",
     "text": [
      "Error: 429 - {\n",
      "  \"error\" : {\n",
      "    \"status\" : 429\n",
      "  }\n",
      "}\n",
      "<bound method Response.json of <Response [429]>>\n",
      "Error: 429 - {\n",
      "  \"error\" : {\n",
      "    \"status\" : 429\n",
      "  }\n",
      "}\n",
      "<bound method Response.json of <Response [429]>>\n"
     ]
    },
    {
     "name": "stderr",
     "output_type": "stream",
     "text": [
      "api_call...:  13%|███▍                       | 138/1073 [01:35<02:35,  6.02it/s]"
     ]
    },
    {
     "name": "stdout",
     "output_type": "stream",
     "text": [
      "Error: 429 - {\n",
      "  \"error\" : {\n",
      "    \"status\" : 429\n",
      "  }\n",
      "}\n",
      "<bound method Response.json of <Response [429]>>\n",
      "Error: 429 - {\n",
      "  \"error\" : {\n",
      "    \"status\" : 429\n",
      "  }\n",
      "}\n",
      "<bound method Response.json of <Response [429]>>\n"
     ]
    },
    {
     "name": "stderr",
     "output_type": "stream",
     "text": [
      "api_call...:  13%|███▌                       | 140/1073 [01:35<02:18,  6.73it/s]"
     ]
    },
    {
     "name": "stdout",
     "output_type": "stream",
     "text": [
      "Error: 429 - {\n",
      "  \"error\" : {\n",
      "    \"status\" : 429\n",
      "  }\n",
      "}\n",
      "<bound method Response.json of <Response [429]>>\n",
      "Error: 429 - {\n",
      "  \"error\" : {\n",
      "    \"status\" : 429\n",
      "  }\n",
      "}\n",
      "<bound method Response.json of <Response [429]>>\n"
     ]
    },
    {
     "name": "stderr",
     "output_type": "stream",
     "text": [
      "api_call...:  13%|███▌                       | 142/1073 [01:35<02:35,  6.00it/s]"
     ]
    },
    {
     "name": "stdout",
     "output_type": "stream",
     "text": [
      "Error: 429 - {\n",
      "  \"error\" : {\n",
      "    \"status\" : 429\n",
      "  }\n",
      "}\n",
      "<bound method Response.json of <Response [429]>>\n",
      "Error: 429 - {\n",
      "  \"error\" : {\n",
      "    \"status\" : 429\n",
      "  }\n",
      "}\n",
      "<bound method Response.json of <Response [429]>>\n"
     ]
    },
    {
     "name": "stderr",
     "output_type": "stream",
     "text": [
      "api_call...:  13%|███▌                       | 144/1073 [01:36<02:14,  6.91it/s]"
     ]
    },
    {
     "name": "stdout",
     "output_type": "stream",
     "text": [
      "Error: 429 - {\n",
      "  \"error\" : {\n",
      "    \"status\" : 429\n",
      "  }\n",
      "}\n",
      "<bound method Response.json of <Response [429]>>\n",
      "Error: 429 - {\n",
      "  \"error\" : {\n",
      "    \"status\" : 429\n",
      "  }\n",
      "}\n",
      "<bound method Response.json of <Response [429]>>\n"
     ]
    },
    {
     "name": "stderr",
     "output_type": "stream",
     "text": [
      "api_call...:  14%|███▋                       | 146/1073 [01:36<02:09,  7.14it/s]"
     ]
    },
    {
     "name": "stdout",
     "output_type": "stream",
     "text": [
      "Error: 429 - {\n",
      "  \"error\" : {\n",
      "    \"status\" : 429\n",
      "  }\n",
      "}\n",
      "<bound method Response.json of <Response [429]>>\n",
      "Error: 429 - {\n",
      "  \"error\" : {\n",
      "    \"status\" : 429\n",
      "  }\n",
      "}\n",
      "<bound method Response.json of <Response [429]>>\n"
     ]
    },
    {
     "name": "stderr",
     "output_type": "stream",
     "text": [
      "\r",
      "api_call...:  14%|███▋                       | 147/1073 [01:36<02:07,  7.24it/s]"
     ]
    },
    {
     "name": "stdout",
     "output_type": "stream",
     "text": [
      "Error: 429 - {\n",
      "  \"error\" : {\n",
      "    \"status\" : 429\n",
      "  }\n",
      "}\n",
      "<bound method Response.json of <Response [429]>>\n"
     ]
    },
    {
     "name": "stderr",
     "output_type": "stream",
     "text": [
      "api_call...:  14%|███▋                       | 149/1073 [01:36<02:30,  6.13it/s]"
     ]
    },
    {
     "name": "stdout",
     "output_type": "stream",
     "text": [
      "Error: 429 - {\n",
      "  \"error\" : {\n",
      "    \"status\" : 429\n",
      "  }\n",
      "}\n",
      "<bound method Response.json of <Response [429]>>\n",
      "Error: 429 - {\n",
      "  \"error\" : {\n",
      "    \"status\" : 429\n",
      "  }\n",
      "}\n",
      "<bound method Response.json of <Response [429]>>\n"
     ]
    },
    {
     "name": "stderr",
     "output_type": "stream",
     "text": [
      "api_call...:  14%|███▊                       | 151/1073 [01:37<02:12,  6.97it/s]"
     ]
    },
    {
     "name": "stdout",
     "output_type": "stream",
     "text": [
      "Error: 429 - {\n",
      "  \"error\" : {\n",
      "    \"status\" : 429\n",
      "  }\n",
      "}\n",
      "<bound method Response.json of <Response [429]>>\n",
      "Error: 429 - {\n",
      "  \"error\" : {\n",
      "    \"status\" : 429\n",
      "  }\n",
      "}\n",
      "<bound method Response.json of <Response [429]>>\n"
     ]
    },
    {
     "name": "stderr",
     "output_type": "stream",
     "text": [
      "api_call...:  14%|███▊                       | 153/1073 [01:37<02:07,  7.22it/s]"
     ]
    },
    {
     "name": "stdout",
     "output_type": "stream",
     "text": [
      "Error: 429 - {\n",
      "  \"error\" : {\n",
      "    \"status\" : 429\n",
      "  }\n",
      "}\n",
      "<bound method Response.json of <Response [429]>>\n",
      "Error: 429 - {\n",
      "  \"error\" : {\n",
      "    \"status\" : 429\n",
      "  }\n",
      "}\n",
      "<bound method Response.json of <Response [429]>>\n"
     ]
    },
    {
     "name": "stderr",
     "output_type": "stream",
     "text": [
      "\r",
      "api_call...:  14%|███▉                       | 154/1073 [01:37<02:05,  7.30it/s]"
     ]
    },
    {
     "name": "stdout",
     "output_type": "stream",
     "text": [
      "Error: 429 - {\n",
      "  \"error\" : {\n",
      "    \"status\" : 429\n",
      "  }\n",
      "}\n",
      "<bound method Response.json of <Response [429]>>\n"
     ]
    },
    {
     "name": "stderr",
     "output_type": "stream",
     "text": [
      "api_call...:  15%|███▉                       | 156/1073 [01:37<02:27,  6.22it/s]"
     ]
    },
    {
     "name": "stdout",
     "output_type": "stream",
     "text": [
      "Error: 429 - {\n",
      "  \"error\" : {\n",
      "    \"status\" : 429\n",
      "  }\n",
      "}\n",
      "<bound method Response.json of <Response [429]>>\n",
      "Error: 429 - {\n",
      "  \"error\" : {\n",
      "    \"status\" : 429\n",
      "  }\n",
      "}\n",
      "<bound method Response.json of <Response [429]>>\n"
     ]
    },
    {
     "name": "stderr",
     "output_type": "stream",
     "text": [
      "api_call...:  15%|███▉                       | 158/1073 [01:38<02:15,  6.75it/s]"
     ]
    },
    {
     "name": "stdout",
     "output_type": "stream",
     "text": [
      "Error: 429 - {\n",
      "  \"error\" : {\n",
      "    \"status\" : 429\n",
      "  }\n",
      "}\n",
      "<bound method Response.json of <Response [429]>>\n",
      "Error: 429 - {\n",
      "  \"error\" : {\n",
      "    \"status\" : 429\n",
      "  }\n",
      "}\n",
      "<bound method Response.json of <Response [429]>>\n"
     ]
    },
    {
     "name": "stderr",
     "output_type": "stream",
     "text": [
      "api_call...:  15%|████                       | 160/1073 [01:38<02:25,  6.27it/s]"
     ]
    },
    {
     "name": "stdout",
     "output_type": "stream",
     "text": [
      "Error: 429 - {\n",
      "  \"error\" : {\n",
      "    \"status\" : 429\n",
      "  }\n",
      "}\n",
      "<bound method Response.json of <Response [429]>>\n",
      "Error: 429 - {\n",
      "  \"error\" : {\n",
      "    \"status\" : 429\n",
      "  }\n",
      "}\n",
      "<bound method Response.json of <Response [429]>>\n"
     ]
    },
    {
     "name": "stderr",
     "output_type": "stream",
     "text": [
      "\r",
      "api_call...:  15%|████                       | 161/1073 [01:38<02:24,  6.31it/s]"
     ]
    },
    {
     "name": "stdout",
     "output_type": "stream",
     "text": [
      "Error: 429 - {\n",
      "  \"error\" : {\n",
      "    \"status\" : 429\n",
      "  }\n",
      "}\n",
      "<bound method Response.json of <Response [429]>>\n"
     ]
    },
    {
     "name": "stderr",
     "output_type": "stream",
     "text": [
      "api_call...:  15%|████                       | 163/1073 [01:38<02:28,  6.12it/s]"
     ]
    },
    {
     "name": "stdout",
     "output_type": "stream",
     "text": [
      "Error: 429 - {\n",
      "  \"error\" : {\n",
      "    \"status\" : 429\n",
      "  }\n",
      "}\n",
      "<bound method Response.json of <Response [429]>>\n",
      "Error: 429 - {\n",
      "  \"error\" : {\n",
      "    \"status\" : 429\n",
      "  }\n",
      "}\n",
      "<bound method Response.json of <Response [429]>>\n"
     ]
    },
    {
     "name": "stderr",
     "output_type": "stream",
     "text": [
      "api_call...:  15%|████▏                      | 165/1073 [01:39<02:24,  6.27it/s]"
     ]
    },
    {
     "name": "stdout",
     "output_type": "stream",
     "text": [
      "Error: 429 - {\n",
      "  \"error\" : {\n",
      "    \"status\" : 429\n",
      "  }\n",
      "}\n",
      "<bound method Response.json of <Response [429]>>\n",
      "Error: 429 - {\n",
      "  \"error\" : {\n",
      "    \"status\" : 429\n",
      "  }\n",
      "}\n",
      "<bound method Response.json of <Response [429]>>\n"
     ]
    },
    {
     "name": "stderr",
     "output_type": "stream",
     "text": [
      "\r",
      "api_call...:  15%|████▏                      | 166/1073 [01:39<02:17,  6.58it/s]"
     ]
    },
    {
     "name": "stdout",
     "output_type": "stream",
     "text": [
      "Error: 429 - {\n",
      "  \"error\" : {\n",
      "    \"status\" : 429\n",
      "  }\n",
      "}\n",
      "<bound method Response.json of <Response [429]>>\n"
     ]
    },
    {
     "name": "stderr",
     "output_type": "stream",
     "text": [
      "api_call...:  16%|████▏                      | 168/1073 [01:40<03:16,  4.60it/s]"
     ]
    },
    {
     "name": "stdout",
     "output_type": "stream",
     "text": [
      "Error: 429 - {\n",
      "  \"error\" : {\n",
      "    \"status\" : 429\n",
      "  }\n",
      "}\n",
      "<bound method Response.json of <Response [429]>>\n",
      "Error: 429 - {\n",
      "  \"error\" : {\n",
      "    \"status\" : 429\n",
      "  }\n",
      "}\n",
      "<bound method Response.json of <Response [429]>>\n"
     ]
    },
    {
     "name": "stderr",
     "output_type": "stream",
     "text": [
      "api_call...:  16%|████▎                      | 170/1073 [01:40<02:52,  5.24it/s]"
     ]
    },
    {
     "name": "stdout",
     "output_type": "stream",
     "text": [
      "Error: 429 - {\n",
      "  \"error\" : {\n",
      "    \"status\" : 429\n",
      "  }\n",
      "}\n",
      "<bound method Response.json of <Response [429]>>\n",
      "Error: 429 - {\n",
      "  \"error\" : {\n",
      "    \"status\" : 429\n",
      "  }\n",
      "}\n",
      "<bound method Response.json of <Response [429]>>\n"
     ]
    },
    {
     "name": "stderr",
     "output_type": "stream",
     "text": [
      "api_call...:  16%|████▎                      | 172/1073 [01:40<02:47,  5.38it/s]"
     ]
    },
    {
     "name": "stdout",
     "output_type": "stream",
     "text": [
      "Error: 429 - {\n",
      "  \"error\" : {\n",
      "    \"status\" : 429\n",
      "  }\n",
      "}\n",
      "<bound method Response.json of <Response [429]>>\n",
      "Error: 429 - {\n",
      "  \"error\" : {\n",
      "    \"status\" : 429\n",
      "  }\n",
      "}\n",
      "<bound method Response.json of <Response [429]>>\n"
     ]
    },
    {
     "name": "stderr",
     "output_type": "stream",
     "text": [
      "api_call...:  16%|████▍                      | 174/1073 [01:41<02:40,  5.61it/s]"
     ]
    },
    {
     "name": "stdout",
     "output_type": "stream",
     "text": [
      "Error: 429 - {\n",
      "  \"error\" : {\n",
      "    \"status\" : 429\n",
      "  }\n",
      "}\n",
      "<bound method Response.json of <Response [429]>>\n",
      "Error: 429 - {\n",
      "  \"error\" : {\n",
      "    \"status\" : 429\n",
      "  }\n",
      "}\n",
      "<bound method Response.json of <Response [429]>>\n"
     ]
    },
    {
     "name": "stderr",
     "output_type": "stream",
     "text": [
      "api_call...:  16%|████▍                      | 176/1073 [01:41<02:30,  5.97it/s]"
     ]
    },
    {
     "name": "stdout",
     "output_type": "stream",
     "text": [
      "Error: 429 - {\n",
      "  \"error\" : {\n",
      "    \"status\" : 429\n",
      "  }\n",
      "}\n",
      "<bound method Response.json of <Response [429]>>\n",
      "Error: 429 - {\n",
      "  \"error\" : {\n",
      "    \"status\" : 429\n",
      "  }\n",
      "}\n",
      "<bound method Response.json of <Response [429]>>\n"
     ]
    },
    {
     "name": "stderr",
     "output_type": "stream",
     "text": [
      "api_call...:  17%|████▍                      | 178/1073 [01:41<02:14,  6.67it/s]"
     ]
    },
    {
     "name": "stdout",
     "output_type": "stream",
     "text": [
      "Error: 429 - {\n",
      "  \"error\" : {\n",
      "    \"status\" : 429\n",
      "  }\n",
      "}\n",
      "<bound method Response.json of <Response [429]>>\n",
      "Error: 429 - {\n",
      "  \"error\" : {\n",
      "    \"status\" : 429\n",
      "  }\n",
      "}\n",
      "<bound method Response.json of <Response [429]>>\n"
     ]
    },
    {
     "name": "stderr",
     "output_type": "stream",
     "text": [
      "api_call...:  17%|████▌                      | 180/1073 [01:42<02:29,  5.99it/s]"
     ]
    },
    {
     "name": "stdout",
     "output_type": "stream",
     "text": [
      "Error: 429 - {\n",
      "  \"error\" : {\n",
      "    \"status\" : 429\n",
      "  }\n",
      "}\n",
      "<bound method Response.json of <Response [429]>>\n",
      "Error: 429 - {\n",
      "  \"error\" : {\n",
      "    \"status\" : 429\n",
      "  }\n",
      "}\n",
      "<bound method Response.json of <Response [429]>>\n"
     ]
    },
    {
     "name": "stderr",
     "output_type": "stream",
     "text": [
      "api_call...:  17%|████▌                      | 182/1073 [01:42<02:13,  6.67it/s]"
     ]
    },
    {
     "name": "stdout",
     "output_type": "stream",
     "text": [
      "Error: 429 - {\n",
      "  \"error\" : {\n",
      "    \"status\" : 429\n",
      "  }\n",
      "}\n",
      "<bound method Response.json of <Response [429]>>\n",
      "Error: 429 - {\n",
      "  \"error\" : {\n",
      "    \"status\" : 429\n",
      "  }\n",
      "}\n",
      "<bound method Response.json of <Response [429]>>\n"
     ]
    },
    {
     "name": "stderr",
     "output_type": "stream",
     "text": [
      "api_call...:  17%|████▋                      | 184/1073 [01:42<02:23,  6.17it/s]"
     ]
    },
    {
     "name": "stdout",
     "output_type": "stream",
     "text": [
      "Error: 429 - {\n",
      "  \"error\" : {\n",
      "    \"status\" : 429\n",
      "  }\n",
      "}\n",
      "<bound method Response.json of <Response [429]>>\n",
      "Error: 429 - {\n",
      "  \"error\" : {\n",
      "    \"status\" : 429\n",
      "  }\n",
      "}\n",
      "<bound method Response.json of <Response [429]>>\n"
     ]
    },
    {
     "name": "stderr",
     "output_type": "stream",
     "text": [
      "api_call...:  17%|████▋                      | 186/1073 [01:42<02:14,  6.59it/s]"
     ]
    },
    {
     "name": "stdout",
     "output_type": "stream",
     "text": [
      "Error: 429 - {\n",
      "  \"error\" : {\n",
      "    \"status\" : 429\n",
      "  }\n",
      "}\n",
      "<bound method Response.json of <Response [429]>>\n",
      "Error: 429 - {\n",
      "  \"error\" : {\n",
      "    \"status\" : 429\n",
      "  }\n",
      "}\n",
      "<bound method Response.json of <Response [429]>>\n"
     ]
    },
    {
     "name": "stderr",
     "output_type": "stream",
     "text": [
      "api_call...:  18%|████▋                      | 188/1073 [01:43<02:05,  7.05it/s]"
     ]
    },
    {
     "name": "stdout",
     "output_type": "stream",
     "text": [
      "Error: 429 - {\n",
      "  \"error\" : {\n",
      "    \"status\" : 429\n",
      "  }\n",
      "}\n",
      "<bound method Response.json of <Response [429]>>\n",
      "Error: 429 - {\n",
      "  \"error\" : {\n",
      "    \"status\" : 429\n",
      "  }\n",
      "}\n",
      "<bound method Response.json of <Response [429]>>\n"
     ]
    },
    {
     "name": "stderr",
     "output_type": "stream",
     "text": [
      "\r",
      "api_call...:  18%|████▊                      | 189/1073 [01:43<02:02,  7.19it/s]"
     ]
    },
    {
     "name": "stdout",
     "output_type": "stream",
     "text": [
      "Error: 429 - {\n",
      "  \"error\" : {\n",
      "    \"status\" : 429\n",
      "  }\n",
      "}\n",
      "<bound method Response.json of <Response [429]>>\n"
     ]
    },
    {
     "name": "stderr",
     "output_type": "stream",
     "text": [
      "api_call...:  18%|████▊                      | 191/1073 [01:43<02:15,  6.51it/s]"
     ]
    },
    {
     "name": "stdout",
     "output_type": "stream",
     "text": [
      "Error: 429 - {\n",
      "  \"error\" : {\n",
      "    \"status\" : 429\n",
      "  }\n",
      "}\n",
      "<bound method Response.json of <Response [429]>>\n",
      "Error: 429 - {\n",
      "  \"error\" : {\n",
      "    \"status\" : 429\n",
      "  }\n",
      "}\n",
      "<bound method Response.json of <Response [429]>>\n"
     ]
    },
    {
     "name": "stderr",
     "output_type": "stream",
     "text": [
      "\r",
      "api_call...:  18%|████▊                      | 192/1073 [01:43<02:18,  6.36it/s]"
     ]
    },
    {
     "name": "stdout",
     "output_type": "stream",
     "text": [
      "Error: 429 - {\n",
      "  \"error\" : {\n",
      "    \"status\" : 429\n",
      "  }\n",
      "}\n",
      "<bound method Response.json of <Response [429]>>\n"
     ]
    },
    {
     "name": "stderr",
     "output_type": "stream",
     "text": [
      "api_call...:  18%|████▉                      | 194/1073 [01:44<02:22,  6.16it/s]"
     ]
    },
    {
     "name": "stdout",
     "output_type": "stream",
     "text": [
      "Error: 429 - {\n",
      "  \"error\" : {\n",
      "    \"status\" : 429\n",
      "  }\n",
      "}\n",
      "<bound method Response.json of <Response [429]>>\n",
      "Error: 429 - {\n",
      "  \"error\" : {\n",
      "    \"status\" : 429\n",
      "  }\n",
      "}\n",
      "<bound method Response.json of <Response [429]>>\n"
     ]
    },
    {
     "name": "stderr",
     "output_type": "stream",
     "text": [
      "api_call...:  18%|████▉                      | 196/1073 [01:44<02:19,  6.29it/s]"
     ]
    },
    {
     "name": "stdout",
     "output_type": "stream",
     "text": [
      "Error: 429 - {\n",
      "  \"error\" : {\n",
      "    \"status\" : 429\n",
      "  }\n",
      "}\n",
      "<bound method Response.json of <Response [429]>>\n",
      "Error: 429 - {\n",
      "  \"error\" : {\n",
      "    \"status\" : 429\n",
      "  }\n",
      "}\n",
      "<bound method Response.json of <Response [429]>>\n"
     ]
    },
    {
     "name": "stderr",
     "output_type": "stream",
     "text": [
      "api_call...:  18%|████▉                      | 198/1073 [01:44<02:04,  7.01it/s]"
     ]
    },
    {
     "name": "stdout",
     "output_type": "stream",
     "text": [
      "Error: 429 - {\n",
      "  \"error\" : {\n",
      "    \"status\" : 429\n",
      "  }\n",
      "}\n",
      "<bound method Response.json of <Response [429]>>\n",
      "Error: 429 - {\n",
      "  \"error\" : {\n",
      "    \"status\" : 429\n",
      "  }\n",
      "}\n",
      "<bound method Response.json of <Response [429]>>\n"
     ]
    },
    {
     "name": "stderr",
     "output_type": "stream",
     "text": [
      "\r",
      "api_call...:  19%|█████                      | 199/1073 [01:44<02:03,  7.06it/s]"
     ]
    },
    {
     "name": "stdout",
     "output_type": "stream",
     "text": [
      "Error: 429 - {\n",
      "  \"error\" : {\n",
      "    \"status\" : 429\n",
      "  }\n",
      "}\n",
      "<bound method Response.json of <Response [429]>>\n"
     ]
    },
    {
     "name": "stderr",
     "output_type": "stream",
     "text": [
      "\r",
      "api_call...:  19%|█████                      | 200/1073 [01:45<02:22,  6.11it/s]"
     ]
    },
    {
     "name": "stdout",
     "output_type": "stream",
     "text": [
      "Error: 429 - {\n",
      "  \"error\" : {\n",
      "    \"status\" : 429\n",
      "  }\n",
      "}\n",
      "<bound method Response.json of <Response [429]>>\n"
     ]
    },
    {
     "name": "stderr",
     "output_type": "stream",
     "text": [
      "api_call...:  19%|████▋                    | 202/1073 [02:20<1:48:58,  7.51s/it]"
     ]
    },
    {
     "name": "stdout",
     "output_type": "stream",
     "text": [
      "Error: 429 - {\n",
      "  \"error\" : {\n",
      "    \"status\" : 429\n",
      "  }\n",
      "}\n",
      "<bound method Response.json of <Response [429]>>\n",
      "Error: 429 - {\n",
      "  \"error\" : {\n",
      "    \"status\" : 429\n",
      "  }\n",
      "}\n",
      "<bound method Response.json of <Response [429]>>\n"
     ]
    },
    {
     "name": "stderr",
     "output_type": "stream",
     "text": [
      "api_call...:  19%|████▊                    | 204/1073 [02:23<1:02:40,  4.33s/it]"
     ]
    },
    {
     "name": "stdout",
     "output_type": "stream",
     "text": [
      "Error: 429 - {\n",
      "  \"error\" : {\n",
      "    \"status\" : 429\n",
      "  }\n",
      "}\n",
      "<bound method Response.json of <Response [429]>>\n",
      "Error: 429 - {\n",
      "  \"error\" : {\n",
      "    \"status\" : 429\n",
      "  }\n",
      "}\n",
      "<bound method Response.json of <Response [429]>>\n"
     ]
    },
    {
     "name": "stderr",
     "output_type": "stream",
     "text": [
      "\r",
      "api_call...:  19%|█████▏                     | 205/1073 [02:23<44:24,  3.07s/it]"
     ]
    },
    {
     "name": "stdout",
     "output_type": "stream",
     "text": [
      "Error: 429 - {\n",
      "  \"error\" : {\n",
      "    \"status\" : 429\n",
      "  }\n",
      "}\n",
      "<bound method Response.json of <Response [429]>>\n"
     ]
    },
    {
     "name": "stderr",
     "output_type": "stream",
     "text": [
      "api_call...:  19%|█████▏                     | 207/1073 [02:23<22:59,  1.59s/it]"
     ]
    },
    {
     "name": "stdout",
     "output_type": "stream",
     "text": [
      "Error: 429 - {\n",
      "  \"error\" : {\n",
      "    \"status\" : 429\n",
      "  }\n",
      "}\n",
      "<bound method Response.json of <Response [429]>>\n",
      "Error: 429 - {\n",
      "  \"error\" : {\n",
      "    \"status\" : 429\n",
      "  }\n",
      "}\n",
      "<bound method Response.json of <Response [429]>>\n"
     ]
    },
    {
     "name": "stderr",
     "output_type": "stream",
     "text": [
      "api_call...:  19%|█████▎                     | 209/1073 [02:24<12:09,  1.18it/s]"
     ]
    },
    {
     "name": "stdout",
     "output_type": "stream",
     "text": [
      "Error: 429 - {\n",
      "  \"error\" : {\n",
      "    \"status\" : 429\n",
      "  }\n",
      "}\n",
      "<bound method Response.json of <Response [429]>>\n",
      "Error: 429 - {\n",
      "  \"error\" : {\n",
      "    \"status\" : 429\n",
      "  }\n",
      "}\n",
      "<bound method Response.json of <Response [429]>>\n"
     ]
    },
    {
     "name": "stderr",
     "output_type": "stream",
     "text": [
      "api_call...:  20%|█████▎                     | 211/1073 [02:24<06:57,  2.06it/s]"
     ]
    },
    {
     "name": "stdout",
     "output_type": "stream",
     "text": [
      "Error: 429 - {\n",
      "  \"error\" : {\n",
      "    \"status\" : 429\n",
      "  }\n",
      "}\n",
      "<bound method Response.json of <Response [429]>>\n",
      "Error: 429 - {\n",
      "  \"error\" : {\n",
      "    \"status\" : 429\n",
      "  }\n",
      "}\n",
      "<bound method Response.json of <Response [429]>>\n"
     ]
    },
    {
     "name": "stderr",
     "output_type": "stream",
     "text": [
      "\r",
      "api_call...:  20%|█████▎                     | 212/1073 [02:24<05:26,  2.64it/s]"
     ]
    },
    {
     "name": "stdout",
     "output_type": "stream",
     "text": [
      "Error: 429 - {\n",
      "  \"error\" : {\n",
      "    \"status\" : 429\n",
      "  }\n",
      "}\n",
      "<bound method Response.json of <Response [429]>>\n"
     ]
    },
    {
     "name": "stderr",
     "output_type": "stream",
     "text": [
      "api_call...:  20%|█████▍                     | 214/1073 [02:25<04:00,  3.58it/s]"
     ]
    },
    {
     "name": "stdout",
     "output_type": "stream",
     "text": [
      "Error: 429 - {\n",
      "  \"error\" : {\n",
      "    \"status\" : 429\n",
      "  }\n",
      "}\n",
      "<bound method Response.json of <Response [429]>>\n",
      "Error: 429 - {\n",
      "  \"error\" : {\n",
      "    \"status\" : 429\n",
      "  }\n",
      "}\n",
      "<bound method Response.json of <Response [429]>>\n"
     ]
    },
    {
     "name": "stderr",
     "output_type": "stream",
     "text": [
      "api_call...:  20%|█████▍                     | 216/1073 [02:25<02:55,  4.87it/s]"
     ]
    },
    {
     "name": "stdout",
     "output_type": "stream",
     "text": [
      "Error: 429 - {\n",
      "  \"error\" : {\n",
      "    \"status\" : 429\n",
      "  }\n",
      "}\n",
      "<bound method Response.json of <Response [429]>>\n",
      "Error: 429 - {\n",
      "  \"error\" : {\n",
      "    \"status\" : 429\n",
      "  }\n",
      "}\n",
      "<bound method Response.json of <Response [429]>>\n"
     ]
    },
    {
     "name": "stderr",
     "output_type": "stream",
     "text": [
      "api_call...:  20%|█████▍                     | 218/1073 [02:25<02:38,  5.40it/s]"
     ]
    },
    {
     "name": "stdout",
     "output_type": "stream",
     "text": [
      "Error: 429 - {\n",
      "  \"error\" : {\n",
      "    \"status\" : 429\n",
      "  }\n",
      "}\n",
      "<bound method Response.json of <Response [429]>>\n",
      "Error: 429 - {\n",
      "  \"error\" : {\n",
      "    \"status\" : 429\n",
      "  }\n",
      "}\n",
      "<bound method Response.json of <Response [429]>>\n"
     ]
    },
    {
     "name": "stderr",
     "output_type": "stream",
     "text": [
      "api_call...:  21%|█████▌                     | 220/1073 [02:25<02:20,  6.05it/s]"
     ]
    },
    {
     "name": "stdout",
     "output_type": "stream",
     "text": [
      "Error: 429 - {\n",
      "  \"error\" : {\n",
      "    \"status\" : 429\n",
      "  }\n",
      "}\n",
      "<bound method Response.json of <Response [429]>>\n",
      "Error: 429 - {\n",
      "  \"error\" : {\n",
      "    \"status\" : 429\n",
      "  }\n",
      "}\n",
      "<bound method Response.json of <Response [429]>>\n"
     ]
    },
    {
     "name": "stderr",
     "output_type": "stream",
     "text": [
      "api_call...:  21%|█████▌                     | 223/1073 [02:26<02:56,  4.81it/s]"
     ]
    },
    {
     "name": "stdout",
     "output_type": "stream",
     "text": [
      "Error: 429 - {\n",
      "  \"error\" : {\n",
      "    \"status\" : 429\n",
      "  }\n",
      "}\n",
      "<bound method Response.json of <Response [429]>>\n",
      "Error: 429 - {\n",
      "  \"error\" : {\n",
      "    \"status\" : 429\n",
      "  }\n",
      "}\n",
      "<bound method Response.json of <Response [429]>>\n"
     ]
    },
    {
     "name": "stderr",
     "output_type": "stream",
     "text": [
      "api_call...:  21%|█████▋                     | 225/1073 [02:27<02:45,  5.14it/s]"
     ]
    },
    {
     "name": "stdout",
     "output_type": "stream",
     "text": [
      "Error: 429 - {\n",
      "  \"error\" : {\n",
      "    \"status\" : 429\n",
      "  }\n",
      "}\n",
      "<bound method Response.json of <Response [429]>>\n",
      "Error: 429 - {\n",
      "  \"error\" : {\n",
      "    \"status\" : 429\n",
      "  }\n",
      "}\n",
      "<bound method Response.json of <Response [429]>>\n"
     ]
    },
    {
     "name": "stderr",
     "output_type": "stream",
     "text": [
      "\r",
      "api_call...:  21%|█████▋                     | 226/1073 [02:27<02:28,  5.69it/s]"
     ]
    },
    {
     "name": "stdout",
     "output_type": "stream",
     "text": [
      "Error: 429 - {\n",
      "  \"error\" : {\n",
      "    \"status\" : 429\n",
      "  }\n",
      "}\n",
      "<bound method Response.json of <Response [429]>>\n"
     ]
    },
    {
     "name": "stderr",
     "output_type": "stream",
     "text": [
      "\r",
      "api_call...:  21%|█████▋                     | 227/1073 [02:27<02:45,  5.11it/s]"
     ]
    },
    {
     "name": "stdout",
     "output_type": "stream",
     "text": [
      "Error: 429 - {\n",
      "  \"error\" : {\n",
      "    \"status\" : 429\n",
      "  }\n",
      "}\n",
      "<bound method Response.json of <Response [429]>>\n"
     ]
    },
    {
     "name": "stderr",
     "output_type": "stream",
     "text": [
      "api_call...:  21%|█████▊                     | 229/1073 [02:28<03:29,  4.04it/s]"
     ]
    },
    {
     "name": "stdout",
     "output_type": "stream",
     "text": [
      "Error: 429 - {\n",
      "  \"error\" : {\n",
      "    \"status\" : 429\n",
      "  }\n",
      "}\n",
      "<bound method Response.json of <Response [429]>>\n",
      "Error: 429 - {\n",
      "  \"error\" : {\n",
      "    \"status\" : 429\n",
      "  }\n",
      "}\n",
      "<bound method Response.json of <Response [429]>>\n"
     ]
    },
    {
     "name": "stderr",
     "output_type": "stream",
     "text": [
      "api_call...:  22%|█████▊                     | 231/1073 [02:28<02:39,  5.29it/s]"
     ]
    },
    {
     "name": "stdout",
     "output_type": "stream",
     "text": [
      "Error: 429 - {\n",
      "  \"error\" : {\n",
      "    \"status\" : 429\n",
      "  }\n",
      "}\n",
      "<bound method Response.json of <Response [429]>>\n",
      "Error: 429 - {\n",
      "  \"error\" : {\n",
      "    \"status\" : 429\n",
      "  }\n",
      "}\n",
      "<bound method Response.json of <Response [429]>>\n"
     ]
    },
    {
     "name": "stderr",
     "output_type": "stream",
     "text": [
      "api_call...:  22%|█████▊                     | 233/1073 [02:28<02:37,  5.34it/s]"
     ]
    },
    {
     "name": "stdout",
     "output_type": "stream",
     "text": [
      "Error: 429 - {\n",
      "  \"error\" : {\n",
      "    \"status\" : 429\n",
      "  }\n",
      "}\n",
      "<bound method Response.json of <Response [429]>>\n",
      "Error: 429 - {\n",
      "  \"error\" : {\n",
      "    \"status\" : 429\n",
      "  }\n",
      "}\n",
      "<bound method Response.json of <Response [429]>>\n"
     ]
    },
    {
     "name": "stderr",
     "output_type": "stream",
     "text": [
      "api_call...:  22%|█████▉                     | 235/1073 [02:29<02:59,  4.68it/s]"
     ]
    },
    {
     "name": "stdout",
     "output_type": "stream",
     "text": [
      "Error: 429 - {\n",
      "  \"error\" : {\n",
      "    \"status\" : 429\n",
      "  }\n",
      "}\n",
      "<bound method Response.json of <Response [429]>>\n",
      "Error: 429 - {\n",
      "  \"error\" : {\n",
      "    \"status\" : 429\n",
      "  }\n",
      "}\n",
      "<bound method Response.json of <Response [429]>>\n"
     ]
    },
    {
     "name": "stderr",
     "output_type": "stream",
     "text": [
      "api_call...:  22%|█████▉                     | 237/1073 [02:29<03:00,  4.62it/s]"
     ]
    },
    {
     "name": "stdout",
     "output_type": "stream",
     "text": [
      "Error: 429 - {\n",
      "  \"error\" : {\n",
      "    \"status\" : 429\n",
      "  }\n",
      "}\n",
      "<bound method Response.json of <Response [429]>>\n",
      "Error: 429 - {\n",
      "  \"error\" : {\n",
      "    \"status\" : 429\n",
      "  }\n",
      "}\n",
      "<bound method Response.json of <Response [429]>>\n"
     ]
    },
    {
     "name": "stderr",
     "output_type": "stream",
     "text": [
      "\r",
      "api_call...:  22%|█████▉                     | 238/1073 [02:30<02:48,  4.95it/s]"
     ]
    },
    {
     "name": "stdout",
     "output_type": "stream",
     "text": [
      "Error: 429 - {\n",
      "  \"error\" : {\n",
      "    \"status\" : 429\n",
      "  }\n",
      "}\n",
      "<bound method Response.json of <Response [429]>>\n"
     ]
    },
    {
     "name": "stderr",
     "output_type": "stream",
     "text": [
      "api_call...:  22%|██████                     | 240/1073 [02:30<02:34,  5.41it/s]"
     ]
    },
    {
     "name": "stdout",
     "output_type": "stream",
     "text": [
      "Error: 429 - {\n",
      "  \"error\" : {\n",
      "    \"status\" : 429\n",
      "  }\n",
      "}\n",
      "<bound method Response.json of <Response [429]>>\n",
      "Error: 429 - {\n",
      "  \"error\" : {\n",
      "    \"status\" : 429\n",
      "  }\n",
      "}\n",
      "<bound method Response.json of <Response [429]>>\n"
     ]
    },
    {
     "name": "stderr",
     "output_type": "stream",
     "text": [
      "api_call...:  23%|██████                     | 242/1073 [02:30<02:20,  5.92it/s]"
     ]
    },
    {
     "name": "stdout",
     "output_type": "stream",
     "text": [
      "Error: 429 - {\n",
      "  \"error\" : {\n",
      "    \"status\" : 429\n",
      "  }\n",
      "}\n",
      "<bound method Response.json of <Response [429]>>\n",
      "Error: 429 - {\n",
      "  \"error\" : {\n",
      "    \"status\" : 429\n",
      "  }\n",
      "}\n",
      "<bound method Response.json of <Response [429]>>\n"
     ]
    },
    {
     "name": "stderr",
     "output_type": "stream",
     "text": [
      "api_call...:  23%|██████▏                    | 244/1073 [02:30<02:07,  6.52it/s]"
     ]
    },
    {
     "name": "stdout",
     "output_type": "stream",
     "text": [
      "Error: 429 - {\n",
      "  \"error\" : {\n",
      "    \"status\" : 429\n",
      "  }\n",
      "}\n",
      "<bound method Response.json of <Response [429]>>\n",
      "Error: 429 - {\n",
      "  \"error\" : {\n",
      "    \"status\" : 429\n",
      "  }\n",
      "}\n",
      "<bound method Response.json of <Response [429]>>\n"
     ]
    },
    {
     "name": "stderr",
     "output_type": "stream",
     "text": [
      "api_call...:  23%|██████▏                    | 246/1073 [02:31<02:18,  5.97it/s]"
     ]
    },
    {
     "name": "stdout",
     "output_type": "stream",
     "text": [
      "Error: 429 - {\n",
      "  \"error\" : {\n",
      "    \"status\" : 429\n",
      "  }\n",
      "}\n",
      "<bound method Response.json of <Response [429]>>\n",
      "Error: 429 - {\n",
      "  \"error\" : {\n",
      "    \"status\" : 429\n",
      "  }\n",
      "}\n",
      "<bound method Response.json of <Response [429]>>\n"
     ]
    },
    {
     "name": "stderr",
     "output_type": "stream",
     "text": [
      "api_call...:  23%|██████▏                    | 248/1073 [02:31<02:08,  6.42it/s]"
     ]
    },
    {
     "name": "stdout",
     "output_type": "stream",
     "text": [
      "Error: 429 - {\n",
      "  \"error\" : {\n",
      "    \"status\" : 429\n",
      "  }\n",
      "}\n",
      "<bound method Response.json of <Response [429]>>\n",
      "Error: 429 - {\n",
      "  \"error\" : {\n",
      "    \"status\" : 429\n",
      "  }\n",
      "}\n",
      "<bound method Response.json of <Response [429]>>\n"
     ]
    },
    {
     "name": "stderr",
     "output_type": "stream",
     "text": [
      "\r",
      "api_call...:  23%|██████▎                    | 249/1073 [02:31<02:24,  5.72it/s]"
     ]
    },
    {
     "name": "stdout",
     "output_type": "stream",
     "text": [
      "Error: 429 - {\n",
      "  \"error\" : {\n",
      "    \"status\" : 429\n",
      "  }\n",
      "}\n",
      "<bound method Response.json of <Response [429]>>\n"
     ]
    },
    {
     "name": "stderr",
     "output_type": "stream",
     "text": [
      "\r",
      "api_call...:  23%|██████▎                    | 250/1073 [02:32<02:49,  4.87it/s]"
     ]
    },
    {
     "name": "stdout",
     "output_type": "stream",
     "text": [
      "Error: 429 - {\n",
      "  \"error\" : {\n",
      "    \"status\" : 429\n",
      "  }\n",
      "}\n",
      "<bound method Response.json of <Response [429]>>\n"
     ]
    },
    {
     "name": "stderr",
     "output_type": "stream",
     "text": [
      "api_call...:  23%|██████▎                    | 252/1073 [02:32<02:34,  5.30it/s]"
     ]
    },
    {
     "name": "stdout",
     "output_type": "stream",
     "text": [
      "Error: 429 - {\n",
      "  \"error\" : {\n",
      "    \"status\" : 429\n",
      "  }\n",
      "}\n",
      "<bound method Response.json of <Response [429]>>\n",
      "Error: 429 - {\n",
      "  \"error\" : {\n",
      "    \"status\" : 429\n",
      "  }\n",
      "}\n",
      "<bound method Response.json of <Response [429]>>\n"
     ]
    },
    {
     "name": "stderr",
     "output_type": "stream",
     "text": [
      "\r",
      "api_call...:  24%|██████▎                    | 253/1073 [02:32<02:30,  5.44it/s]"
     ]
    },
    {
     "name": "stdout",
     "output_type": "stream",
     "text": [
      "Error: 429 - {\n",
      "  \"error\" : {\n",
      "    \"status\" : 429\n",
      "  }\n",
      "}\n",
      "<bound method Response.json of <Response [429]>>\n"
     ]
    },
    {
     "name": "stderr",
     "output_type": "stream",
     "text": [
      "api_call...:  24%|██████▍                    | 255/1073 [02:33<02:40,  5.11it/s]"
     ]
    },
    {
     "name": "stdout",
     "output_type": "stream",
     "text": [
      "Error: 429 - {\n",
      "  \"error\" : {\n",
      "    \"status\" : 429\n",
      "  }\n",
      "}\n",
      "<bound method Response.json of <Response [429]>>\n",
      "Error: 429 - {\n",
      "  \"error\" : {\n",
      "    \"status\" : 429\n",
      "  }\n",
      "}\n",
      "<bound method Response.json of <Response [429]>>\n"
     ]
    },
    {
     "name": "stderr",
     "output_type": "stream",
     "text": [
      "api_call...:  24%|██████▍                    | 257/1073 [02:33<02:31,  5.37it/s]"
     ]
    },
    {
     "name": "stdout",
     "output_type": "stream",
     "text": [
      "Error: 429 - {\n",
      "  \"error\" : {\n",
      "    \"status\" : 429\n",
      "  }\n",
      "}\n",
      "<bound method Response.json of <Response [429]>>\n",
      "Error: 429 - {\n",
      "  \"error\" : {\n",
      "    \"status\" : 429\n",
      "  }\n",
      "}\n",
      "<bound method Response.json of <Response [429]>>\n"
     ]
    },
    {
     "name": "stderr",
     "output_type": "stream",
     "text": [
      "\r",
      "api_call...:  24%|██████▍                    | 258/1073 [02:33<02:19,  5.86it/s]"
     ]
    },
    {
     "name": "stdout",
     "output_type": "stream",
     "text": [
      "Error: 429 - {\n",
      "  \"error\" : {\n",
      "    \"status\" : 429\n",
      "  }\n",
      "}\n",
      "<bound method Response.json of <Response [429]>>\n"
     ]
    },
    {
     "name": "stderr",
     "output_type": "stream",
     "text": [
      "api_call...:  24%|██████▌                    | 260/1073 [02:34<03:12,  4.23it/s]"
     ]
    },
    {
     "name": "stdout",
     "output_type": "stream",
     "text": [
      "Error: 429 - {\n",
      "  \"error\" : {\n",
      "    \"status\" : 429\n",
      "  }\n",
      "}\n",
      "<bound method Response.json of <Response [429]>>\n"
     ]
    },
    {
     "name": "stderr",
     "output_type": "stream",
     "text": [
      "api_call...:  24%|██████▌                    | 262/1073 [02:35<04:18,  3.14it/s]"
     ]
    },
    {
     "name": "stdout",
     "output_type": "stream",
     "text": [
      "Error: 429 - {\n",
      "  \"error\" : {\n",
      "    \"status\" : 429\n",
      "  }\n",
      "}\n",
      "<bound method Response.json of <Response [429]>>\n",
      "Error: 429 - {\n",
      "  \"error\" : {\n",
      "    \"status\" : 429\n",
      "  }\n",
      "}\n",
      "<bound method Response.json of <Response [429]>>\n"
     ]
    },
    {
     "name": "stderr",
     "output_type": "stream",
     "text": [
      "api_call...:  25%|██████▋                    | 264/1073 [02:35<03:02,  4.43it/s]"
     ]
    },
    {
     "name": "stdout",
     "output_type": "stream",
     "text": [
      "Error: 429 - {\n",
      "  \"error\" : {\n",
      "    \"status\" : 429\n",
      "  }\n",
      "}\n",
      "<bound method Response.json of <Response [429]>>\n",
      "Error: 429 - {\n",
      "  \"error\" : {\n",
      "    \"status\" : 429\n",
      "  }\n",
      "}\n",
      "<bound method Response.json of <Response [429]>>\n"
     ]
    },
    {
     "name": "stderr",
     "output_type": "stream",
     "text": [
      "api_call...:  25%|██████▋                    | 266/1073 [02:35<02:19,  5.78it/s]"
     ]
    },
    {
     "name": "stdout",
     "output_type": "stream",
     "text": [
      "Error: 429 - {\n",
      "  \"error\" : {\n",
      "    \"status\" : 429\n",
      "  }\n",
      "}\n",
      "<bound method Response.json of <Response [429]>>\n",
      "Error: 429 - {\n",
      "  \"error\" : {\n",
      "    \"status\" : 429\n",
      "  }\n",
      "}\n",
      "<bound method Response.json of <Response [429]>>\n"
     ]
    },
    {
     "name": "stderr",
     "output_type": "stream",
     "text": [
      "api_call...:  25%|██████▋                    | 268/1073 [02:35<02:06,  6.35it/s]"
     ]
    },
    {
     "name": "stdout",
     "output_type": "stream",
     "text": [
      "Error: 429 - {\n",
      "  \"error\" : {\n",
      "    \"status\" : 429\n",
      "  }\n",
      "}\n",
      "<bound method Response.json of <Response [429]>>\n",
      "Error: 429 - {\n",
      "  \"error\" : {\n",
      "    \"status\" : 429\n",
      "  }\n",
      "}\n",
      "<bound method Response.json of <Response [429]>>\n"
     ]
    },
    {
     "name": "stderr",
     "output_type": "stream",
     "text": [
      "api_call...:  25%|██████▊                    | 270/1073 [02:36<02:01,  6.62it/s]"
     ]
    },
    {
     "name": "stdout",
     "output_type": "stream",
     "text": [
      "Error: 429 - {\n",
      "  \"error\" : {\n",
      "    \"status\" : 429\n",
      "  }\n",
      "}\n",
      "<bound method Response.json of <Response [429]>>\n",
      "Error: 429 - {\n",
      "  \"error\" : {\n",
      "    \"status\" : 429\n",
      "  }\n",
      "}\n",
      "<bound method Response.json of <Response [429]>>\n"
     ]
    },
    {
     "name": "stderr",
     "output_type": "stream",
     "text": [
      "api_call...:  25%|██████▊                    | 272/1073 [02:36<03:00,  4.45it/s]"
     ]
    },
    {
     "name": "stdout",
     "output_type": "stream",
     "text": [
      "Error: 429 - {\n",
      "  \"error\" : {\n",
      "    \"status\" : 429\n",
      "  }\n",
      "}\n",
      "<bound method Response.json of <Response [429]>>\n",
      "Error: 429 - {\n",
      "  \"error\" : {\n",
      "    \"status\" : 429\n",
      "  }\n",
      "}\n",
      "<bound method Response.json of <Response [429]>>\n"
     ]
    },
    {
     "name": "stderr",
     "output_type": "stream",
     "text": [
      "api_call...:  26%|██████▉                    | 274/1073 [02:37<02:41,  4.93it/s]"
     ]
    },
    {
     "name": "stdout",
     "output_type": "stream",
     "text": [
      "Error: 429 - {\n",
      "  \"error\" : {\n",
      "    \"status\" : 429\n",
      "  }\n",
      "}\n",
      "<bound method Response.json of <Response [429]>>\n",
      "Error: 429 - {\n",
      "  \"error\" : {\n",
      "    \"status\" : 429\n",
      "  }\n",
      "}\n",
      "<bound method Response.json of <Response [429]>>\n"
     ]
    },
    {
     "name": "stderr",
     "output_type": "stream",
     "text": [
      "api_call...:  26%|██████▉                    | 276/1073 [02:37<02:37,  5.05it/s]"
     ]
    },
    {
     "name": "stdout",
     "output_type": "stream",
     "text": [
      "Error: 429 - {\n",
      "  \"error\" : {\n",
      "    \"status\" : 429\n",
      "  }\n",
      "}\n",
      "<bound method Response.json of <Response [429]>>\n",
      "Error: 429 - {\n",
      "  \"error\" : {\n",
      "    \"status\" : 429\n",
      "  }\n",
      "}\n",
      "<bound method Response.json of <Response [429]>>\n"
     ]
    },
    {
     "name": "stderr",
     "output_type": "stream",
     "text": [
      "api_call...:  26%|██████▉                    | 278/1073 [02:37<02:06,  6.26it/s]"
     ]
    },
    {
     "name": "stdout",
     "output_type": "stream",
     "text": [
      "Error: 429 - {\n",
      "  \"error\" : {\n",
      "    \"status\" : 429\n",
      "  }\n",
      "}\n",
      "<bound method Response.json of <Response [429]>>\n",
      "Error: 429 - {\n",
      "  \"error\" : {\n",
      "    \"status\" : 429\n",
      "  }\n",
      "}\n",
      "<bound method Response.json of <Response [429]>>\n"
     ]
    },
    {
     "name": "stderr",
     "output_type": "stream",
     "text": [
      "api_call...:  26%|███████                    | 280/1073 [02:38<02:14,  5.92it/s]"
     ]
    },
    {
     "name": "stdout",
     "output_type": "stream",
     "text": [
      "Error: 429 - {\n",
      "  \"error\" : {\n",
      "    \"status\" : 429\n",
      "  }\n",
      "}\n",
      "<bound method Response.json of <Response [429]>>\n",
      "Error: 429 - {\n",
      "  \"error\" : {\n",
      "    \"status\" : 429\n",
      "  }\n",
      "}\n",
      "<bound method Response.json of <Response [429]>>\n"
     ]
    },
    {
     "name": "stderr",
     "output_type": "stream",
     "text": [
      "\r",
      "api_call...:  26%|███████                    | 281/1073 [02:38<02:08,  6.15it/s]"
     ]
    },
    {
     "name": "stdout",
     "output_type": "stream",
     "text": [
      "Error: 429 - {\n",
      "  \"error\" : {\n",
      "    \"status\" : 429\n",
      "  }\n",
      "}\n",
      "<bound method Response.json of <Response [429]>>\n"
     ]
    },
    {
     "name": "stderr",
     "output_type": "stream",
     "text": [
      "api_call...:  26%|███████                    | 283/1073 [02:38<02:26,  5.39it/s]"
     ]
    },
    {
     "name": "stdout",
     "output_type": "stream",
     "text": [
      "Error: 429 - {\n",
      "  \"error\" : {\n",
      "    \"status\" : 429\n",
      "  }\n",
      "}\n",
      "<bound method Response.json of <Response [429]>>\n",
      "Error: 429 - {\n",
      "  \"error\" : {\n",
      "    \"status\" : 429\n",
      "  }\n",
      "}\n",
      "<bound method Response.json of <Response [429]>>\n"
     ]
    },
    {
     "name": "stderr",
     "output_type": "stream",
     "text": [
      "\r",
      "api_call...:  26%|███████▏                   | 284/1073 [02:38<02:10,  6.04it/s]"
     ]
    },
    {
     "name": "stdout",
     "output_type": "stream",
     "text": [
      "Error: 429 - {\n",
      "  \"error\" : {\n",
      "    \"status\" : 429\n",
      "  }\n",
      "}\n",
      "<bound method Response.json of <Response [429]>>\n"
     ]
    },
    {
     "name": "stderr",
     "output_type": "stream",
     "text": [
      "api_call...:  27%|███████▏                   | 286/1073 [02:39<02:10,  6.04it/s]"
     ]
    },
    {
     "name": "stdout",
     "output_type": "stream",
     "text": [
      "Error: 429 - {\n",
      "  \"error\" : {\n",
      "    \"status\" : 429\n",
      "  }\n",
      "}\n",
      "<bound method Response.json of <Response [429]>>\n",
      "Error: 429 - {\n",
      "  \"error\" : {\n",
      "    \"status\" : 429\n",
      "  }\n",
      "}\n",
      "<bound method Response.json of <Response [429]>>\n"
     ]
    },
    {
     "name": "stderr",
     "output_type": "stream",
     "text": [
      "api_call...:  27%|███████▏                   | 288/1073 [02:39<01:59,  6.55it/s]"
     ]
    },
    {
     "name": "stdout",
     "output_type": "stream",
     "text": [
      "Error: 429 - {\n",
      "  \"error\" : {\n",
      "    \"status\" : 429\n",
      "  }\n",
      "}\n",
      "<bound method Response.json of <Response [429]>>\n",
      "Error: 429 - {\n",
      "  \"error\" : {\n",
      "    \"status\" : 429\n",
      "  }\n",
      "}\n",
      "<bound method Response.json of <Response [429]>>\n"
     ]
    },
    {
     "name": "stderr",
     "output_type": "stream",
     "text": [
      "api_call...:  27%|███████▎                   | 290/1073 [02:39<01:50,  7.05it/s]"
     ]
    },
    {
     "name": "stdout",
     "output_type": "stream",
     "text": [
      "Error: 429 - {\n",
      "  \"error\" : {\n",
      "    \"status\" : 429\n",
      "  }\n",
      "}\n",
      "<bound method Response.json of <Response [429]>>\n",
      "Error: 429 - {\n",
      "  \"error\" : {\n",
      "    \"status\" : 429\n",
      "  }\n",
      "}\n",
      "<bound method Response.json of <Response [429]>>\n"
     ]
    },
    {
     "name": "stderr",
     "output_type": "stream",
     "text": [
      "api_call...:  27%|███████▎                   | 292/1073 [02:40<01:47,  7.29it/s]"
     ]
    },
    {
     "name": "stdout",
     "output_type": "stream",
     "text": [
      "Error: 429 - {\n",
      "  \"error\" : {\n",
      "    \"status\" : 429\n",
      "  }\n",
      "}\n",
      "<bound method Response.json of <Response [429]>>\n",
      "Error: 429 - {\n",
      "  \"error\" : {\n",
      "    \"status\" : 429\n",
      "  }\n",
      "}\n",
      "<bound method Response.json of <Response [429]>>\n"
     ]
    },
    {
     "name": "stderr",
     "output_type": "stream",
     "text": [
      "api_call...:  27%|███████▍                   | 294/1073 [02:40<01:43,  7.52it/s]"
     ]
    },
    {
     "name": "stdout",
     "output_type": "stream",
     "text": [
      "Error: 429 - {\n",
      "  \"error\" : {\n",
      "    \"status\" : 429\n",
      "  }\n",
      "}\n",
      "<bound method Response.json of <Response [429]>>\n",
      "Error: 429 - {\n",
      "  \"error\" : {\n",
      "    \"status\" : 429\n",
      "  }\n",
      "}\n",
      "<bound method Response.json of <Response [429]>>\n"
     ]
    },
    {
     "name": "stderr",
     "output_type": "stream",
     "text": [
      "\r",
      "api_call...:  27%|███████▍                   | 295/1073 [02:40<01:43,  7.52it/s]"
     ]
    },
    {
     "name": "stdout",
     "output_type": "stream",
     "text": [
      "Error: 429 - {\n",
      "  \"error\" : {\n",
      "    \"status\" : 429\n",
      "  }\n",
      "}\n",
      "<bound method Response.json of <Response [429]>>\n"
     ]
    },
    {
     "name": "stderr",
     "output_type": "stream",
     "text": [
      "api_call...:  28%|███████▍                   | 297/1073 [02:40<01:56,  6.68it/s]"
     ]
    },
    {
     "name": "stdout",
     "output_type": "stream",
     "text": [
      "Error: 429 - {\n",
      "  \"error\" : {\n",
      "    \"status\" : 429\n",
      "  }\n",
      "}\n",
      "<bound method Response.json of <Response [429]>>\n",
      "Error: 429 - {\n",
      "  \"error\" : {\n",
      "    \"status\" : 429\n",
      "  }\n",
      "}\n",
      "<bound method Response.json of <Response [429]>>\n"
     ]
    },
    {
     "name": "stderr",
     "output_type": "stream",
     "text": [
      "api_call...:  28%|███████▌                   | 299/1073 [02:41<02:01,  6.39it/s]"
     ]
    },
    {
     "name": "stdout",
     "output_type": "stream",
     "text": [
      "Error: 429 - {\n",
      "  \"error\" : {\n",
      "    \"status\" : 429\n",
      "  }\n",
      "}\n",
      "<bound method Response.json of <Response [429]>>\n",
      "Error: 429 - {\n",
      "  \"error\" : {\n",
      "    \"status\" : 429\n",
      "  }\n",
      "}\n",
      "<bound method Response.json of <Response [429]>>\n"
     ]
    },
    {
     "name": "stderr",
     "output_type": "stream",
     "text": [
      "\r",
      "api_call...:  28%|███████▌                   | 300/1073 [02:41<01:54,  6.72it/s]"
     ]
    },
    {
     "name": "stdout",
     "output_type": "stream",
     "text": [
      "Error: 429 - {\n",
      "  \"error\" : {\n",
      "    \"status\" : 429\n",
      "  }\n",
      "}\n",
      "<bound method Response.json of <Response [429]>>\n"
     ]
    },
    {
     "name": "stderr",
     "output_type": "stream",
     "text": [
      "api_call...:  28%|███████                  | 302/1073 [03:16<1:36:21,  7.50s/it]"
     ]
    },
    {
     "name": "stdout",
     "output_type": "stream",
     "text": [
      "Error: 429 - {\n",
      "  \"error\" : {\n",
      "    \"status\" : 429\n",
      "  }\n",
      "}\n",
      "<bound method Response.json of <Response [429]>>\n",
      "Error: 429 - {\n",
      "  \"error\" : {\n",
      "    \"status\" : 429\n",
      "  }\n",
      "}\n",
      "<bound method Response.json of <Response [429]>>\n"
     ]
    },
    {
     "name": "stderr",
     "output_type": "stream",
     "text": [
      "\r",
      "api_call...:  28%|███████                  | 303/1073 [03:16<1:07:54,  5.29s/it]"
     ]
    },
    {
     "name": "stdout",
     "output_type": "stream",
     "text": [
      "Error: 429 - {\n",
      "  \"error\" : {\n",
      "    \"status\" : 429\n",
      "  }\n",
      "}\n",
      "<bound method Response.json of <Response [429]>>\n"
     ]
    },
    {
     "name": "stderr",
     "output_type": "stream",
     "text": [
      "\r",
      "api_call...:  28%|███████▋                   | 304/1073 [03:17<48:31,  3.79s/it]"
     ]
    },
    {
     "name": "stdout",
     "output_type": "stream",
     "text": [
      "Error: 429 - {\n",
      "  \"error\" : {\n",
      "    \"status\" : 429\n",
      "  }\n",
      "}\n",
      "<bound method Response.json of <Response [429]>>\n"
     ]
    },
    {
     "name": "stderr",
     "output_type": "stream",
     "text": [
      "\r",
      "api_call...:  28%|███████▋                   | 305/1073 [03:17<34:48,  2.72s/it]"
     ]
    },
    {
     "name": "stdout",
     "output_type": "stream",
     "text": [
      "Error: 429 - {\n",
      "  \"error\" : {\n",
      "    \"status\" : 429\n",
      "  }\n",
      "}\n",
      "<bound method Response.json of <Response [429]>>\n"
     ]
    },
    {
     "name": "stderr",
     "output_type": "stream",
     "text": [
      "api_call...:  29%|███████▋                   | 307/1073 [03:17<18:09,  1.42s/it]"
     ]
    },
    {
     "name": "stdout",
     "output_type": "stream",
     "text": [
      "Error: 429 - {\n",
      "  \"error\" : {\n",
      "    \"status\" : 429\n",
      "  }\n",
      "}\n",
      "<bound method Response.json of <Response [429]>>\n",
      "Error: 429 - {\n",
      "  \"error\" : {\n",
      "    \"status\" : 429\n",
      "  }\n",
      "}\n",
      "<bound method Response.json of <Response [429]>>\n"
     ]
    },
    {
     "name": "stderr",
     "output_type": "stream",
     "text": [
      "api_call...:  29%|███████▊                   | 309/1073 [03:17<09:52,  1.29it/s]"
     ]
    },
    {
     "name": "stdout",
     "output_type": "stream",
     "text": [
      "Error: 429 - {\n",
      "  \"error\" : {\n",
      "    \"status\" : 429\n",
      "  }\n",
      "}\n",
      "<bound method Response.json of <Response [429]>>\n",
      "Error: 429 - {\n",
      "  \"error\" : {\n",
      "    \"status\" : 429\n",
      "  }\n",
      "}\n",
      "<bound method Response.json of <Response [429]>>\n"
     ]
    },
    {
     "name": "stderr",
     "output_type": "stream",
     "text": [
      "api_call...:  29%|███████▊                   | 311/1073 [03:18<05:39,  2.24it/s]"
     ]
    },
    {
     "name": "stdout",
     "output_type": "stream",
     "text": [
      "Error: 429 - {\n",
      "  \"error\" : {\n",
      "    \"status\" : 429\n",
      "  }\n",
      "}\n",
      "<bound method Response.json of <Response [429]>>\n",
      "Error: 429 - {\n",
      "  \"error\" : {\n",
      "    \"status\" : 429\n",
      "  }\n",
      "}\n",
      "<bound method Response.json of <Response [429]>>\n"
     ]
    },
    {
     "name": "stderr",
     "output_type": "stream",
     "text": [
      "api_call...:  29%|███████▉                   | 313/1073 [03:18<03:51,  3.28it/s]"
     ]
    },
    {
     "name": "stdout",
     "output_type": "stream",
     "text": [
      "Error: 429 - {\n",
      "  \"error\" : {\n",
      "    \"status\" : 429\n",
      "  }\n",
      "}\n",
      "<bound method Response.json of <Response [429]>>\n",
      "Error: 429 - {\n",
      "  \"error\" : {\n",
      "    \"status\" : 429\n",
      "  }\n",
      "}\n",
      "<bound method Response.json of <Response [429]>>\n"
     ]
    },
    {
     "name": "stderr",
     "output_type": "stream",
     "text": [
      "api_call...:  29%|███████▉                   | 315/1073 [03:18<02:45,  4.58it/s]"
     ]
    },
    {
     "name": "stdout",
     "output_type": "stream",
     "text": [
      "Error: 429 - {\n",
      "  \"error\" : {\n",
      "    \"status\" : 429\n",
      "  }\n",
      "}\n",
      "<bound method Response.json of <Response [429]>>\n",
      "Error: 429 - {\n",
      "  \"error\" : {\n",
      "    \"status\" : 429\n",
      "  }\n",
      "}\n",
      "<bound method Response.json of <Response [429]>>\n"
     ]
    },
    {
     "name": "stderr",
     "output_type": "stream",
     "text": [
      "api_call...:  30%|███████▉                   | 317/1073 [03:19<02:11,  5.74it/s]"
     ]
    },
    {
     "name": "stdout",
     "output_type": "stream",
     "text": [
      "Error: 429 - {\n",
      "  \"error\" : {\n",
      "    \"status\" : 429\n",
      "  }\n",
      "}\n",
      "<bound method Response.json of <Response [429]>>\n",
      "Error: 429 - {\n",
      "  \"error\" : {\n",
      "    \"status\" : 429\n",
      "  }\n",
      "}\n",
      "<bound method Response.json of <Response [429]>>\n"
     ]
    },
    {
     "name": "stderr",
     "output_type": "stream",
     "text": [
      "api_call...:  30%|████████                   | 319/1073 [03:19<01:59,  6.30it/s]"
     ]
    },
    {
     "name": "stdout",
     "output_type": "stream",
     "text": [
      "Error: 429 - {\n",
      "  \"error\" : {\n",
      "    \"status\" : 429\n",
      "  }\n",
      "}\n",
      "<bound method Response.json of <Response [429]>>\n",
      "Error: 429 - {\n",
      "  \"error\" : {\n",
      "    \"status\" : 429\n",
      "  }\n",
      "}\n",
      "<bound method Response.json of <Response [429]>>\n"
     ]
    },
    {
     "name": "stderr",
     "output_type": "stream",
     "text": [
      "api_call...:  30%|████████                   | 321/1073 [03:19<02:04,  6.02it/s]"
     ]
    },
    {
     "name": "stdout",
     "output_type": "stream",
     "text": [
      "Error: 429 - {\n",
      "  \"error\" : {\n",
      "    \"status\" : 429\n",
      "  }\n",
      "}\n",
      "<bound method Response.json of <Response [429]>>\n",
      "Error: 429 - {\n",
      "  \"error\" : {\n",
      "    \"status\" : 429\n",
      "  }\n",
      "}\n",
      "<bound method Response.json of <Response [429]>>\n"
     ]
    },
    {
     "name": "stderr",
     "output_type": "stream",
     "text": [
      "api_call...:  30%|████████▏                  | 323/1073 [03:19<01:54,  6.57it/s]"
     ]
    },
    {
     "name": "stdout",
     "output_type": "stream",
     "text": [
      "Error: 429 - {\n",
      "  \"error\" : {\n",
      "    \"status\" : 429\n",
      "  }\n",
      "}\n",
      "<bound method Response.json of <Response [429]>>\n",
      "Error: 429 - {\n",
      "  \"error\" : {\n",
      "    \"status\" : 429\n",
      "  }\n",
      "}\n",
      "<bound method Response.json of <Response [429]>>\n"
     ]
    },
    {
     "name": "stderr",
     "output_type": "stream",
     "text": [
      "\r",
      "api_call...:  30%|████████▏                  | 324/1073 [03:20<01:51,  6.71it/s]"
     ]
    },
    {
     "name": "stdout",
     "output_type": "stream",
     "text": [
      "Error: 429 - {\n",
      "  \"error\" : {\n",
      "    \"status\" : 429\n",
      "  }\n",
      "}\n",
      "<bound method Response.json of <Response [429]>>\n"
     ]
    },
    {
     "name": "stderr",
     "output_type": "stream",
     "text": [
      "\r",
      "api_call...:  30%|████████▏                  | 325/1073 [03:20<02:14,  5.56it/s]"
     ]
    },
    {
     "name": "stdout",
     "output_type": "stream",
     "text": [
      "Error: 429 - {\n",
      "  \"error\" : {\n",
      "    \"status\" : 429\n",
      "  }\n",
      "}\n",
      "<bound method Response.json of <Response [429]>>\n"
     ]
    },
    {
     "name": "stderr",
     "output_type": "stream",
     "text": [
      "api_call...:  30%|████████▏                  | 327/1073 [03:20<02:42,  4.60it/s]"
     ]
    },
    {
     "name": "stdout",
     "output_type": "stream",
     "text": [
      "Error: 429 - {\n",
      "  \"error\" : {\n",
      "    \"status\" : 429\n",
      "  }\n",
      "}\n",
      "<bound method Response.json of <Response [429]>>\n",
      "Error: 429 - {\n",
      "  \"error\" : {\n",
      "    \"status\" : 429\n",
      "  }\n",
      "}\n",
      "<bound method Response.json of <Response [429]>>\n"
     ]
    },
    {
     "name": "stderr",
     "output_type": "stream",
     "text": [
      "api_call...:  31%|████████▎                  | 329/1073 [03:21<02:24,  5.13it/s]"
     ]
    },
    {
     "name": "stdout",
     "output_type": "stream",
     "text": [
      "Error: 429 - {\n",
      "  \"error\" : {\n",
      "    \"status\" : 429\n",
      "  }\n",
      "}\n",
      "<bound method Response.json of <Response [429]>>\n",
      "Error: 429 - {\n",
      "  \"error\" : {\n",
      "    \"status\" : 429\n",
      "  }\n",
      "}\n",
      "<bound method Response.json of <Response [429]>>\n"
     ]
    },
    {
     "name": "stderr",
     "output_type": "stream",
     "text": [
      "api_call...:  31%|████████▎                  | 331/1073 [03:21<02:17,  5.39it/s]"
     ]
    },
    {
     "name": "stdout",
     "output_type": "stream",
     "text": [
      "Error: 429 - {\n",
      "  \"error\" : {\n",
      "    \"status\" : 429\n",
      "  }\n",
      "}\n",
      "<bound method Response.json of <Response [429]>>\n",
      "Error: 429 - {\n",
      "  \"error\" : {\n",
      "    \"status\" : 429\n",
      "  }\n",
      "}\n",
      "<bound method Response.json of <Response [429]>>\n"
     ]
    },
    {
     "name": "stderr",
     "output_type": "stream",
     "text": [
      "api_call...:  31%|████████▍                  | 333/1073 [03:21<01:55,  6.43it/s]"
     ]
    },
    {
     "name": "stdout",
     "output_type": "stream",
     "text": [
      "Error: 429 - {\n",
      "  \"error\" : {\n",
      "    \"status\" : 429\n",
      "  }\n",
      "}\n",
      "<bound method Response.json of <Response [429]>>\n",
      "Error: 429 - {\n",
      "  \"error\" : {\n",
      "    \"status\" : 429\n",
      "  }\n",
      "}\n",
      "<bound method Response.json of <Response [429]>>\n"
     ]
    },
    {
     "name": "stderr",
     "output_type": "stream",
     "text": [
      "api_call...:  31%|████████▍                  | 335/1073 [03:22<01:49,  6.73it/s]"
     ]
    },
    {
     "name": "stdout",
     "output_type": "stream",
     "text": [
      "Error: 429 - {\n",
      "  \"error\" : {\n",
      "    \"status\" : 429\n",
      "  }\n",
      "}\n",
      "<bound method Response.json of <Response [429]>>\n",
      "Error: 429 - {\n",
      "  \"error\" : {\n",
      "    \"status\" : 429\n",
      "  }\n",
      "}\n",
      "<bound method Response.json of <Response [429]>>\n"
     ]
    },
    {
     "name": "stderr",
     "output_type": "stream",
     "text": [
      "\r",
      "api_call...:  31%|████████▍                  | 336/1073 [03:22<01:51,  6.63it/s]"
     ]
    },
    {
     "name": "stdout",
     "output_type": "stream",
     "text": [
      "Error: 429 - {\n",
      "  \"error\" : {\n",
      "    \"status\" : 429\n",
      "  }\n",
      "}\n",
      "<bound method Response.json of <Response [429]>>\n"
     ]
    },
    {
     "name": "stderr",
     "output_type": "stream",
     "text": [
      "api_call...:  32%|████████▌                  | 338/1073 [03:22<02:01,  6.07it/s]"
     ]
    },
    {
     "name": "stdout",
     "output_type": "stream",
     "text": [
      "Error: 429 - {\n",
      "  \"error\" : {\n",
      "    \"status\" : 429\n",
      "  }\n",
      "}\n",
      "<bound method Response.json of <Response [429]>>\n",
      "Error: 429 - {\n",
      "  \"error\" : {\n",
      "    \"status\" : 429\n",
      "  }\n",
      "}\n",
      "<bound method Response.json of <Response [429]>>\n"
     ]
    },
    {
     "name": "stderr",
     "output_type": "stream",
     "text": [
      "api_call...:  32%|████████▌                  | 340/1073 [03:23<01:49,  6.67it/s]"
     ]
    },
    {
     "name": "stdout",
     "output_type": "stream",
     "text": [
      "Error: 429 - {\n",
      "  \"error\" : {\n",
      "    \"status\" : 429\n",
      "  }\n",
      "}\n",
      "<bound method Response.json of <Response [429]>>\n",
      "Error: 429 - {\n",
      "  \"error\" : {\n",
      "    \"status\" : 429\n",
      "  }\n",
      "}\n",
      "<bound method Response.json of <Response [429]>>\n"
     ]
    },
    {
     "name": "stderr",
     "output_type": "stream",
     "text": [
      "api_call...:  32%|████████▌                  | 342/1073 [03:23<01:59,  6.12it/s]"
     ]
    },
    {
     "name": "stdout",
     "output_type": "stream",
     "text": [
      "Error: 429 - {\n",
      "  \"error\" : {\n",
      "    \"status\" : 429\n",
      "  }\n",
      "}\n",
      "<bound method Response.json of <Response [429]>>\n",
      "Error: 429 - {\n",
      "  \"error\" : {\n",
      "    \"status\" : 429\n",
      "  }\n",
      "}\n",
      "<bound method Response.json of <Response [429]>>\n"
     ]
    },
    {
     "name": "stderr",
     "output_type": "stream",
     "text": [
      "api_call...:  32%|████████▋                  | 344/1073 [03:23<02:08,  5.69it/s]"
     ]
    },
    {
     "name": "stdout",
     "output_type": "stream",
     "text": [
      "Error: 429 - {\n",
      "  \"error\" : {\n",
      "    \"status\" : 429\n",
      "  }\n",
      "}\n",
      "<bound method Response.json of <Response [429]>>\n",
      "Error: 429 - {\n",
      "  \"error\" : {\n",
      "    \"status\" : 429\n",
      "  }\n",
      "}\n",
      "<bound method Response.json of <Response [429]>>\n"
     ]
    },
    {
     "name": "stderr",
     "output_type": "stream",
     "text": [
      "api_call...:  32%|████████▋                  | 346/1073 [03:24<01:56,  6.25it/s]"
     ]
    },
    {
     "name": "stdout",
     "output_type": "stream",
     "text": [
      "Error: 429 - {\n",
      "  \"error\" : {\n",
      "    \"status\" : 429\n",
      "  }\n",
      "}\n",
      "<bound method Response.json of <Response [429]>>\n",
      "Error: 429 - {\n",
      "  \"error\" : {\n",
      "    \"status\" : 429\n",
      "  }\n",
      "}\n",
      "<bound method Response.json of <Response [429]>>\n"
     ]
    },
    {
     "name": "stderr",
     "output_type": "stream",
     "text": [
      "api_call...:  32%|████████▊                  | 348/1073 [03:24<01:58,  6.10it/s]"
     ]
    },
    {
     "name": "stdout",
     "output_type": "stream",
     "text": [
      "Error: 429 - {\n",
      "  \"error\" : {\n",
      "    \"status\" : 429\n",
      "  }\n",
      "}\n",
      "<bound method Response.json of <Response [429]>>\n",
      "Error: 429 - {\n",
      "  \"error\" : {\n",
      "    \"status\" : 429\n",
      "  }\n",
      "}\n",
      "<bound method Response.json of <Response [429]>>\n"
     ]
    },
    {
     "name": "stderr",
     "output_type": "stream",
     "text": [
      "\r",
      "api_call...:  33%|████████▊                  | 349/1073 [03:24<01:55,  6.28it/s]"
     ]
    },
    {
     "name": "stdout",
     "output_type": "stream",
     "text": [
      "Error: 429 - {\n",
      "  \"error\" : {\n",
      "    \"status\" : 429\n",
      "  }\n",
      "}\n",
      "<bound method Response.json of <Response [429]>>\n"
     ]
    },
    {
     "name": "stderr",
     "output_type": "stream",
     "text": [
      "api_call...:  33%|████████▊                  | 351/1073 [03:24<01:58,  6.11it/s]"
     ]
    },
    {
     "name": "stdout",
     "output_type": "stream",
     "text": [
      "Error: 429 - {\n",
      "  \"error\" : {\n",
      "    \"status\" : 429\n",
      "  }\n",
      "}\n",
      "<bound method Response.json of <Response [429]>>\n",
      "Error: 429 - {\n",
      "  \"error\" : {\n",
      "    \"status\" : 429\n",
      "  }\n",
      "}\n",
      "<bound method Response.json of <Response [429]>>\n"
     ]
    },
    {
     "name": "stderr",
     "output_type": "stream",
     "text": [
      "api_call...:  33%|████████▉                  | 353/1073 [03:25<01:55,  6.25it/s]"
     ]
    },
    {
     "name": "stdout",
     "output_type": "stream",
     "text": [
      "Error: 429 - {\n",
      "  \"error\" : {\n",
      "    \"status\" : 429\n",
      "  }\n",
      "}\n",
      "<bound method Response.json of <Response [429]>>\n",
      "Error: 429 - {\n",
      "  \"error\" : {\n",
      "    \"status\" : 429\n",
      "  }\n",
      "}\n",
      "<bound method Response.json of <Response [429]>>\n"
     ]
    },
    {
     "name": "stderr",
     "output_type": "stream",
     "text": [
      "api_call...:  33%|████████▉                  | 355/1073 [03:25<01:44,  6.85it/s]"
     ]
    },
    {
     "name": "stdout",
     "output_type": "stream",
     "text": [
      "Error: 429 - {\n",
      "  \"error\" : {\n",
      "    \"status\" : 429\n",
      "  }\n",
      "}\n",
      "<bound method Response.json of <Response [429]>>\n",
      "Error: 429 - {\n",
      "  \"error\" : {\n",
      "    \"status\" : 429\n",
      "  }\n",
      "}\n",
      "<bound method Response.json of <Response [429]>>\n"
     ]
    },
    {
     "name": "stderr",
     "output_type": "stream",
     "text": [
      "api_call...:  33%|████████▉                  | 357/1073 [03:25<01:57,  6.09it/s]"
     ]
    },
    {
     "name": "stdout",
     "output_type": "stream",
     "text": [
      "Error: 429 - {\n",
      "  \"error\" : {\n",
      "    \"status\" : 429\n",
      "  }\n",
      "}\n",
      "<bound method Response.json of <Response [429]>>\n",
      "Error: 429 - {\n",
      "  \"error\" : {\n",
      "    \"status\" : 429\n",
      "  }\n",
      "}\n",
      "<bound method Response.json of <Response [429]>>\n"
     ]
    },
    {
     "name": "stderr",
     "output_type": "stream",
     "text": [
      "api_call...:  33%|█████████                  | 359/1073 [03:26<01:44,  6.83it/s]"
     ]
    },
    {
     "name": "stdout",
     "output_type": "stream",
     "text": [
      "Error: 429 - {\n",
      "  \"error\" : {\n",
      "    \"status\" : 429\n",
      "  }\n",
      "}\n",
      "<bound method Response.json of <Response [429]>>\n",
      "Error: 429 - {\n",
      "  \"error\" : {\n",
      "    \"status\" : 429\n",
      "  }\n",
      "}\n",
      "<bound method Response.json of <Response [429]>>\n"
     ]
    },
    {
     "name": "stderr",
     "output_type": "stream",
     "text": [
      "api_call...:  34%|█████████                  | 361/1073 [03:26<01:52,  6.31it/s]"
     ]
    },
    {
     "name": "stdout",
     "output_type": "stream",
     "text": [
      "Error: 429 - {\n",
      "  \"error\" : {\n",
      "    \"status\" : 429\n",
      "  }\n",
      "}\n",
      "<bound method Response.json of <Response [429]>>\n",
      "Error: 429 - {\n",
      "  \"error\" : {\n",
      "    \"status\" : 429\n",
      "  }\n",
      "}\n",
      "<bound method Response.json of <Response [429]>>\n"
     ]
    },
    {
     "name": "stderr",
     "output_type": "stream",
     "text": [
      "api_call...:  34%|█████████▏                 | 363/1073 [03:26<01:48,  6.51it/s]"
     ]
    },
    {
     "name": "stdout",
     "output_type": "stream",
     "text": [
      "Error: 429 - {\n",
      "  \"error\" : {\n",
      "    \"status\" : 429\n",
      "  }\n",
      "}\n",
      "<bound method Response.json of <Response [429]>>\n",
      "Error: 429 - {\n",
      "  \"error\" : {\n",
      "    \"status\" : 429\n",
      "  }\n",
      "}\n",
      "<bound method Response.json of <Response [429]>>\n"
     ]
    },
    {
     "name": "stderr",
     "output_type": "stream",
     "text": [
      "api_call...:  34%|█████████▏                 | 365/1073 [03:27<01:41,  7.00it/s]"
     ]
    },
    {
     "name": "stdout",
     "output_type": "stream",
     "text": [
      "Error: 429 - {\n",
      "  \"error\" : {\n",
      "    \"status\" : 429\n",
      "  }\n",
      "}\n",
      "<bound method Response.json of <Response [429]>>\n",
      "Error: 429 - {\n",
      "  \"error\" : {\n",
      "    \"status\" : 429\n",
      "  }\n",
      "}\n",
      "<bound method Response.json of <Response [429]>>\n"
     ]
    },
    {
     "name": "stderr",
     "output_type": "stream",
     "text": [
      "\r",
      "api_call...:  34%|█████████▏                 | 366/1073 [03:27<01:38,  7.17it/s]"
     ]
    },
    {
     "name": "stdout",
     "output_type": "stream",
     "text": [
      "Error: 429 - {\n",
      "  \"error\" : {\n",
      "    \"status\" : 429\n",
      "  }\n",
      "}\n",
      "<bound method Response.json of <Response [429]>>\n"
     ]
    },
    {
     "name": "stderr",
     "output_type": "stream",
     "text": [
      "\r",
      "api_call...:  34%|█████████▏                 | 367/1073 [03:27<02:12,  5.35it/s]"
     ]
    },
    {
     "name": "stdout",
     "output_type": "stream",
     "text": [
      "Error: 429 - {\n",
      "  \"error\" : {\n",
      "    \"status\" : 429\n",
      "  }\n",
      "}\n",
      "<bound method Response.json of <Response [429]>>\n"
     ]
    },
    {
     "name": "stderr",
     "output_type": "stream",
     "text": [
      "\r",
      "api_call...:  34%|█████████▎                 | 368/1073 [03:27<02:19,  5.07it/s]"
     ]
    },
    {
     "name": "stdout",
     "output_type": "stream",
     "text": [
      "Error: 429 - {\n",
      "  \"error\" : {\n",
      "    \"status\" : 429\n",
      "  }\n",
      "}\n",
      "<bound method Response.json of <Response [429]>>\n"
     ]
    },
    {
     "name": "stderr",
     "output_type": "stream",
     "text": [
      "api_call...:  34%|█████████▎                 | 370/1073 [03:28<02:13,  5.26it/s]"
     ]
    },
    {
     "name": "stdout",
     "output_type": "stream",
     "text": [
      "Error: 429 - {\n",
      "  \"error\" : {\n",
      "    \"status\" : 429\n",
      "  }\n",
      "}\n",
      "<bound method Response.json of <Response [429]>>\n",
      "Error: 429 - {\n",
      "  \"error\" : {\n",
      "    \"status\" : 429\n",
      "  }\n",
      "}\n",
      "<bound method Response.json of <Response [429]>>\n"
     ]
    },
    {
     "name": "stderr",
     "output_type": "stream",
     "text": [
      "\r",
      "api_call...:  35%|█████████▎                 | 371/1073 [03:28<03:08,  3.73it/s]"
     ]
    },
    {
     "name": "stdout",
     "output_type": "stream",
     "text": [
      "Error: 429 - {\n",
      "  \"error\" : {\n",
      "    \"status\" : 429\n",
      "  }\n",
      "}\n",
      "<bound method Response.json of <Response [429]>>\n"
     ]
    },
    {
     "name": "stderr",
     "output_type": "stream",
     "text": [
      "\r",
      "api_call...:  35%|█████████▎                 | 372/1073 [03:28<02:56,  3.97it/s]"
     ]
    },
    {
     "name": "stdout",
     "output_type": "stream",
     "text": [
      "Error: 429 - {\n",
      "  \"error\" : {\n",
      "    \"status\" : 429\n",
      "  }\n",
      "}\n",
      "<bound method Response.json of <Response [429]>>\n"
     ]
    },
    {
     "name": "stderr",
     "output_type": "stream",
     "text": [
      "api_call...:  35%|█████████▍                 | 374/1073 [03:29<02:27,  4.73it/s]"
     ]
    },
    {
     "name": "stdout",
     "output_type": "stream",
     "text": [
      "Error: 429 - {\n",
      "  \"error\" : {\n",
      "    \"status\" : 429\n",
      "  }\n",
      "}\n",
      "<bound method Response.json of <Response [429]>>\n",
      "Error: 429 - {\n",
      "  \"error\" : {\n",
      "    \"status\" : 429\n",
      "  }\n",
      "}\n",
      "<bound method Response.json of <Response [429]>>\n"
     ]
    },
    {
     "name": "stderr",
     "output_type": "stream",
     "text": [
      "api_call...:  35%|█████████▍                 | 376/1073 [03:29<02:06,  5.53it/s]"
     ]
    },
    {
     "name": "stdout",
     "output_type": "stream",
     "text": [
      "Error: 429 - {\n",
      "  \"error\" : {\n",
      "    \"status\" : 429\n",
      "  }\n",
      "}\n",
      "<bound method Response.json of <Response [429]>>\n",
      "Error: 429 - {\n",
      "  \"error\" : {\n",
      "    \"status\" : 429\n",
      "  }\n",
      "}\n",
      "<bound method Response.json of <Response [429]>>\n"
     ]
    },
    {
     "name": "stderr",
     "output_type": "stream",
     "text": [
      "api_call...:  35%|█████████▌                 | 378/1073 [03:29<01:48,  6.39it/s]"
     ]
    },
    {
     "name": "stdout",
     "output_type": "stream",
     "text": [
      "Error: 429 - {\n",
      "  \"error\" : {\n",
      "    \"status\" : 429\n",
      "  }\n",
      "}\n",
      "<bound method Response.json of <Response [429]>>\n",
      "Error: 429 - {\n",
      "  \"error\" : {\n",
      "    \"status\" : 429\n",
      "  }\n",
      "}\n",
      "<bound method Response.json of <Response [429]>>\n"
     ]
    },
    {
     "name": "stderr",
     "output_type": "stream",
     "text": [
      "api_call...:  35%|█████████▌                 | 380/1073 [03:30<01:58,  5.87it/s]"
     ]
    },
    {
     "name": "stdout",
     "output_type": "stream",
     "text": [
      "Error: 429 - {\n",
      "  \"error\" : {\n",
      "    \"status\" : 429\n",
      "  }\n",
      "}\n",
      "<bound method Response.json of <Response [429]>>\n",
      "Error: 429 - {\n",
      "  \"error\" : {\n",
      "    \"status\" : 429\n",
      "  }\n",
      "}\n",
      "<bound method Response.json of <Response [429]>>\n"
     ]
    },
    {
     "name": "stderr",
     "output_type": "stream",
     "text": [
      "api_call...:  36%|█████████▌                 | 382/1073 [03:30<01:43,  6.66it/s]"
     ]
    },
    {
     "name": "stdout",
     "output_type": "stream",
     "text": [
      "Error: 429 - {\n",
      "  \"error\" : {\n",
      "    \"status\" : 429\n",
      "  }\n",
      "}\n",
      "<bound method Response.json of <Response [429]>>\n",
      "Error: 429 - {\n",
      "  \"error\" : {\n",
      "    \"status\" : 429\n",
      "  }\n",
      "}\n",
      "<bound method Response.json of <Response [429]>>\n"
     ]
    },
    {
     "name": "stderr",
     "output_type": "stream",
     "text": [
      "api_call...:  36%|█████████▋                 | 384/1073 [03:30<01:52,  6.15it/s]"
     ]
    },
    {
     "name": "stdout",
     "output_type": "stream",
     "text": [
      "Error: 429 - {\n",
      "  \"error\" : {\n",
      "    \"status\" : 429\n",
      "  }\n",
      "}\n",
      "<bound method Response.json of <Response [429]>>\n",
      "Error: 429 - {\n",
      "  \"error\" : {\n",
      "    \"status\" : 429\n",
      "  }\n",
      "}\n",
      "<bound method Response.json of <Response [429]>>\n"
     ]
    },
    {
     "name": "stderr",
     "output_type": "stream",
     "text": [
      "\r",
      "api_call...:  36%|█████████▋                 | 385/1073 [03:30<01:50,  6.20it/s]"
     ]
    },
    {
     "name": "stdout",
     "output_type": "stream",
     "text": [
      "Error: 429 - {\n",
      "  \"error\" : {\n",
      "    \"status\" : 429\n",
      "  }\n",
      "}\n",
      "<bound method Response.json of <Response [429]>>\n"
     ]
    },
    {
     "name": "stderr",
     "output_type": "stream",
     "text": [
      "api_call...:  36%|█████████▋                 | 387/1073 [03:31<01:54,  6.01it/s]"
     ]
    },
    {
     "name": "stdout",
     "output_type": "stream",
     "text": [
      "Error: 429 - {\n",
      "  \"error\" : {\n",
      "    \"status\" : 429\n",
      "  }\n",
      "}\n",
      "<bound method Response.json of <Response [429]>>\n",
      "Error: 429 - {\n",
      "  \"error\" : {\n",
      "    \"status\" : 429\n",
      "  }\n",
      "}\n",
      "<bound method Response.json of <Response [429]>>\n"
     ]
    },
    {
     "name": "stderr",
     "output_type": "stream",
     "text": [
      "api_call...:  36%|█████████▊                 | 389/1073 [03:31<01:48,  6.30it/s]"
     ]
    },
    {
     "name": "stdout",
     "output_type": "stream",
     "text": [
      "Error: 429 - {\n",
      "  \"error\" : {\n",
      "    \"status\" : 429\n",
      "  }\n",
      "}\n",
      "<bound method Response.json of <Response [429]>>\n",
      "Error: 429 - {\n",
      "  \"error\" : {\n",
      "    \"status\" : 429\n",
      "  }\n",
      "}\n",
      "<bound method Response.json of <Response [429]>>\n"
     ]
    },
    {
     "name": "stderr",
     "output_type": "stream",
     "text": [
      "api_call...:  36%|█████████▊                 | 391/1073 [03:31<01:39,  6.86it/s]"
     ]
    },
    {
     "name": "stdout",
     "output_type": "stream",
     "text": [
      "Error: 429 - {\n",
      "  \"error\" : {\n",
      "    \"status\" : 429\n",
      "  }\n",
      "}\n",
      "<bound method Response.json of <Response [429]>>\n",
      "Error: 429 - {\n",
      "  \"error\" : {\n",
      "    \"status\" : 429\n",
      "  }\n",
      "}\n",
      "<bound method Response.json of <Response [429]>>\n"
     ]
    },
    {
     "name": "stderr",
     "output_type": "stream",
     "text": [
      "api_call...:  37%|█████████▉                 | 393/1073 [03:32<01:52,  6.04it/s]"
     ]
    },
    {
     "name": "stdout",
     "output_type": "stream",
     "text": [
      "Error: 429 - {\n",
      "  \"error\" : {\n",
      "    \"status\" : 429\n",
      "  }\n",
      "}\n",
      "<bound method Response.json of <Response [429]>>\n",
      "Error: 429 - {\n",
      "  \"error\" : {\n",
      "    \"status\" : 429\n",
      "  }\n",
      "}\n",
      "<bound method Response.json of <Response [429]>>\n"
     ]
    },
    {
     "name": "stderr",
     "output_type": "stream",
     "text": [
      "api_call...:  37%|█████████▉                 | 395/1073 [03:32<01:40,  6.76it/s]"
     ]
    },
    {
     "name": "stdout",
     "output_type": "stream",
     "text": [
      "Error: 429 - {\n",
      "  \"error\" : {\n",
      "    \"status\" : 429\n",
      "  }\n",
      "}\n",
      "<bound method Response.json of <Response [429]>>\n",
      "Error: 429 - {\n",
      "  \"error\" : {\n",
      "    \"status\" : 429\n",
      "  }\n",
      "}\n",
      "<bound method Response.json of <Response [429]>>\n"
     ]
    },
    {
     "name": "stderr",
     "output_type": "stream",
     "text": [
      "api_call...:  37%|█████████▉                 | 397/1073 [03:32<01:46,  6.34it/s]"
     ]
    },
    {
     "name": "stdout",
     "output_type": "stream",
     "text": [
      "Error: 429 - {\n",
      "  \"error\" : {\n",
      "    \"status\" : 429\n",
      "  }\n",
      "}\n",
      "<bound method Response.json of <Response [429]>>\n",
      "Error: 429 - {\n",
      "  \"error\" : {\n",
      "    \"status\" : 429\n",
      "  }\n",
      "}\n",
      "<bound method Response.json of <Response [429]>>\n"
     ]
    },
    {
     "name": "stderr",
     "output_type": "stream",
     "text": [
      "api_call...:  37%|██████████                 | 399/1073 [03:33<01:43,  6.53it/s]"
     ]
    },
    {
     "name": "stdout",
     "output_type": "stream",
     "text": [
      "Error: 429 - {\n",
      "  \"error\" : {\n",
      "    \"status\" : 429\n",
      "  }\n",
      "}\n",
      "<bound method Response.json of <Response [429]>>\n",
      "Error: 429 - {\n",
      "  \"error\" : {\n",
      "    \"status\" : 429\n",
      "  }\n",
      "}\n",
      "<bound method Response.json of <Response [429]>>\n"
     ]
    },
    {
     "name": "stderr",
     "output_type": "stream",
     "text": [
      "\r",
      "api_call...:  37%|██████████                 | 400/1073 [03:33<01:37,  6.92it/s]"
     ]
    },
    {
     "name": "stdout",
     "output_type": "stream",
     "text": [
      "Error: 429 - {\n",
      "  \"error\" : {\n",
      "    \"status\" : 429\n",
      "  }\n",
      "}\n",
      "<bound method Response.json of <Response [429]>>\n"
     ]
    },
    {
     "name": "stderr",
     "output_type": "stream",
     "text": [
      "\r",
      "api_call...:  37%|█████████▎               | 401/1073 [04:08<1:59:13, 10.65s/it]"
     ]
    },
    {
     "name": "stdout",
     "output_type": "stream",
     "text": [
      "Error: 429 - {\n",
      "  \"error\" : {\n",
      "    \"status\" : 429\n",
      "  }\n",
      "}\n",
      "<bound method Response.json of <Response [429]>>\n"
     ]
    },
    {
     "name": "stderr",
     "output_type": "stream",
     "text": [
      "\r",
      "api_call...:  37%|█████████▎               | 402/1073 [04:08<1:24:10,  7.53s/it]"
     ]
    },
    {
     "name": "stdout",
     "output_type": "stream",
     "text": [
      "Error: 429 - {\n",
      "  \"error\" : {\n",
      "    \"status\" : 429\n",
      "  }\n",
      "}\n",
      "<bound method Response.json of <Response [429]>>\n"
     ]
    },
    {
     "name": "stderr",
     "output_type": "stream",
     "text": [
      "api_call...:  38%|██████████▏                | 404/1073 [04:08<42:06,  3.78s/it]"
     ]
    },
    {
     "name": "stdout",
     "output_type": "stream",
     "text": [
      "Error: 429 - {\n",
      "  \"error\" : {\n",
      "    \"status\" : 429\n",
      "  }\n",
      "}\n",
      "<bound method Response.json of <Response [429]>>\n",
      "Error: 429 - {\n",
      "  \"error\" : {\n",
      "    \"status\" : 429\n",
      "  }\n",
      "}\n",
      "<bound method Response.json of <Response [429]>>\n"
     ]
    },
    {
     "name": "stderr",
     "output_type": "stream",
     "text": [
      "\r",
      "api_call...:  38%|██████████▏                | 405/1073 [04:09<29:53,  2.68s/it]"
     ]
    },
    {
     "name": "stdout",
     "output_type": "stream",
     "text": [
      "Error: 429 - {\n",
      "  \"error\" : {\n",
      "    \"status\" : 429\n",
      "  }\n",
      "}\n",
      "<bound method Response.json of <Response [429]>>\n"
     ]
    },
    {
     "name": "stderr",
     "output_type": "stream",
     "text": [
      "\r",
      "api_call...:  38%|██████████▏                | 406/1073 [04:09<22:19,  2.01s/it]"
     ]
    },
    {
     "name": "stdout",
     "output_type": "stream",
     "text": [
      "Error: 429 - {\n",
      "  \"error\" : {\n",
      "    \"status\" : 429\n",
      "  }\n",
      "}\n",
      "<bound method Response.json of <Response [429]>>\n"
     ]
    },
    {
     "name": "stderr",
     "output_type": "stream",
     "text": [
      "api_call...:  38%|██████████▎                | 408/1073 [04:09<11:56,  1.08s/it]"
     ]
    },
    {
     "name": "stdout",
     "output_type": "stream",
     "text": [
      "Error: 429 - {\n",
      "  \"error\" : {\n",
      "    \"status\" : 429\n",
      "  }\n",
      "}\n",
      "<bound method Response.json of <Response [429]>>\n",
      "Error: 429 - {\n",
      "  \"error\" : {\n",
      "    \"status\" : 429\n",
      "  }\n",
      "}\n",
      "<bound method Response.json of <Response [429]>>\n"
     ]
    },
    {
     "name": "stderr",
     "output_type": "stream",
     "text": [
      "api_call...:  38%|██████████▎                | 410/1073 [04:10<06:38,  1.66it/s]"
     ]
    },
    {
     "name": "stdout",
     "output_type": "stream",
     "text": [
      "Error: 429 - {\n",
      "  \"error\" : {\n",
      "    \"status\" : 429\n",
      "  }\n",
      "}\n",
      "<bound method Response.json of <Response [429]>>\n",
      "Error: 429 - {\n",
      "  \"error\" : {\n",
      "    \"status\" : 429\n",
      "  }\n",
      "}\n",
      "<bound method Response.json of <Response [429]>>\n"
     ]
    },
    {
     "name": "stderr",
     "output_type": "stream",
     "text": [
      "api_call...:  38%|██████████▎                | 412/1073 [04:10<04:12,  2.62it/s]"
     ]
    },
    {
     "name": "stdout",
     "output_type": "stream",
     "text": [
      "Error: 429 - {\n",
      "  \"error\" : {\n",
      "    \"status\" : 429\n",
      "  }\n",
      "}\n",
      "<bound method Response.json of <Response [429]>>\n",
      "Error: 429 - {\n",
      "  \"error\" : {\n",
      "    \"status\" : 429\n",
      "  }\n",
      "}\n",
      "<bound method Response.json of <Response [429]>>\n"
     ]
    },
    {
     "name": "stderr",
     "output_type": "stream",
     "text": [
      "\r",
      "api_call...:  38%|██████████▍                | 413/1073 [04:10<03:22,  3.25it/s]"
     ]
    },
    {
     "name": "stdout",
     "output_type": "stream",
     "text": [
      "Error: 429 - {\n",
      "  \"error\" : {\n",
      "    \"status\" : 429\n",
      "  }\n",
      "}\n",
      "<bound method Response.json of <Response [429]>>\n"
     ]
    },
    {
     "name": "stderr",
     "output_type": "stream",
     "text": [
      "api_call...:  39%|██████████▍                | 415/1073 [04:11<02:33,  4.29it/s]"
     ]
    },
    {
     "name": "stdout",
     "output_type": "stream",
     "text": [
      "Error: 429 - {\n",
      "  \"error\" : {\n",
      "    \"status\" : 429\n",
      "  }\n",
      "}\n",
      "<bound method Response.json of <Response [429]>>\n",
      "Error: 429 - {\n",
      "  \"error\" : {\n",
      "    \"status\" : 429\n",
      "  }\n",
      "}\n",
      "<bound method Response.json of <Response [429]>>\n"
     ]
    },
    {
     "name": "stderr",
     "output_type": "stream",
     "text": [
      "api_call...:  39%|██████████▍                | 417/1073 [04:11<02:11,  5.00it/s]"
     ]
    },
    {
     "name": "stdout",
     "output_type": "stream",
     "text": [
      "Error: 429 - {\n",
      "  \"error\" : {\n",
      "    \"status\" : 429\n",
      "  }\n",
      "}\n",
      "<bound method Response.json of <Response [429]>>\n",
      "Error: 429 - {\n",
      "  \"error\" : {\n",
      "    \"status\" : 429\n",
      "  }\n",
      "}\n",
      "<bound method Response.json of <Response [429]>>\n"
     ]
    },
    {
     "name": "stderr",
     "output_type": "stream",
     "text": [
      "api_call...:  39%|██████████▌                | 419/1073 [04:11<02:05,  5.21it/s]"
     ]
    },
    {
     "name": "stdout",
     "output_type": "stream",
     "text": [
      "Error: 429 - {\n",
      "  \"error\" : {\n",
      "    \"status\" : 429\n",
      "  }\n",
      "}\n",
      "<bound method Response.json of <Response [429]>>\n",
      "Error: 429 - {\n",
      "  \"error\" : {\n",
      "    \"status\" : 429\n",
      "  }\n",
      "}\n",
      "<bound method Response.json of <Response [429]>>\n"
     ]
    },
    {
     "name": "stderr",
     "output_type": "stream",
     "text": [
      "api_call...:  39%|██████████▌                | 421/1073 [04:12<01:56,  5.60it/s]"
     ]
    },
    {
     "name": "stdout",
     "output_type": "stream",
     "text": [
      "Error: 429 - {\n",
      "  \"error\" : {\n",
      "    \"status\" : 429\n",
      "  }\n",
      "}\n",
      "<bound method Response.json of <Response [429]>>\n",
      "Error: 429 - {\n",
      "  \"error\" : {\n",
      "    \"status\" : 429\n",
      "  }\n",
      "}\n",
      "<bound method Response.json of <Response [429]>>\n"
     ]
    },
    {
     "name": "stderr",
     "output_type": "stream",
     "text": [
      "api_call...:  39%|██████████▋                | 423/1073 [04:12<01:49,  5.92it/s]"
     ]
    },
    {
     "name": "stdout",
     "output_type": "stream",
     "text": [
      "Error: 429 - {\n",
      "  \"error\" : {\n",
      "    \"status\" : 429\n",
      "  }\n",
      "}\n",
      "<bound method Response.json of <Response [429]>>\n",
      "Error: 429 - {\n",
      "  \"error\" : {\n",
      "    \"status\" : 429\n",
      "  }\n",
      "}\n",
      "<bound method Response.json of <Response [429]>>\n"
     ]
    },
    {
     "name": "stderr",
     "output_type": "stream",
     "text": [
      "api_call...:  40%|██████████▋                | 425/1073 [04:12<01:37,  6.63it/s]"
     ]
    },
    {
     "name": "stdout",
     "output_type": "stream",
     "text": [
      "Error: 429 - {\n",
      "  \"error\" : {\n",
      "    \"status\" : 429\n",
      "  }\n",
      "}\n",
      "<bound method Response.json of <Response [429]>>\n",
      "Error: 429 - {\n",
      "  \"error\" : {\n",
      "    \"status\" : 429\n",
      "  }\n",
      "}\n",
      "<bound method Response.json of <Response [429]>>\n"
     ]
    },
    {
     "name": "stderr",
     "output_type": "stream",
     "text": [
      "api_call...:  40%|██████████▋                | 427/1073 [04:13<01:45,  6.12it/s]"
     ]
    },
    {
     "name": "stdout",
     "output_type": "stream",
     "text": [
      "Error: 429 - {\n",
      "  \"error\" : {\n",
      "    \"status\" : 429\n",
      "  }\n",
      "}\n",
      "<bound method Response.json of <Response [429]>>\n",
      "Error: 429 - {\n",
      "  \"error\" : {\n",
      "    \"status\" : 429\n",
      "  }\n",
      "}\n",
      "<bound method Response.json of <Response [429]>>\n"
     ]
    },
    {
     "name": "stderr",
     "output_type": "stream",
     "text": [
      "api_call...:  40%|██████████▊                | 429/1073 [04:13<01:40,  6.43it/s]"
     ]
    },
    {
     "name": "stdout",
     "output_type": "stream",
     "text": [
      "Error: 429 - {\n",
      "  \"error\" : {\n",
      "    \"status\" : 429\n",
      "  }\n",
      "}\n",
      "<bound method Response.json of <Response [429]>>\n",
      "Error: 429 - {\n",
      "  \"error\" : {\n",
      "    \"status\" : 429\n",
      "  }\n",
      "}\n",
      "<bound method Response.json of <Response [429]>>\n"
     ]
    },
    {
     "name": "stderr",
     "output_type": "stream",
     "text": [
      "api_call...:  40%|██████████▊                | 431/1073 [04:13<01:53,  5.65it/s]"
     ]
    },
    {
     "name": "stdout",
     "output_type": "stream",
     "text": [
      "Error: 429 - {\n",
      "  \"error\" : {\n",
      "    \"status\" : 429\n",
      "  }\n",
      "}\n",
      "<bound method Response.json of <Response [429]>>\n",
      "Error: 429 - {\n",
      "  \"error\" : {\n",
      "    \"status\" : 429\n",
      "  }\n",
      "}\n",
      "<bound method Response.json of <Response [429]>>\n"
     ]
    },
    {
     "name": "stderr",
     "output_type": "stream",
     "text": [
      "api_call...:  40%|██████████▉                | 433/1073 [04:14<01:52,  5.69it/s]"
     ]
    },
    {
     "name": "stdout",
     "output_type": "stream",
     "text": [
      "Error: 429 - {\n",
      "  \"error\" : {\n",
      "    \"status\" : 429\n",
      "  }\n",
      "}\n",
      "<bound method Response.json of <Response [429]>>\n",
      "Error: 429 - {\n",
      "  \"error\" : {\n",
      "    \"status\" : 429\n",
      "  }\n",
      "}\n",
      "<bound method Response.json of <Response [429]>>\n"
     ]
    },
    {
     "name": "stderr",
     "output_type": "stream",
     "text": [
      "api_call...:  41%|██████████▉                | 435/1073 [04:14<01:34,  6.78it/s]"
     ]
    },
    {
     "name": "stdout",
     "output_type": "stream",
     "text": [
      "Error: 429 - {\n",
      "  \"error\" : {\n",
      "    \"status\" : 429\n",
      "  }\n",
      "}\n",
      "<bound method Response.json of <Response [429]>>\n",
      "Error: 429 - {\n",
      "  \"error\" : {\n",
      "    \"status\" : 429\n",
      "  }\n",
      "}\n",
      "<bound method Response.json of <Response [429]>>\n"
     ]
    },
    {
     "name": "stderr",
     "output_type": "stream",
     "text": [
      "api_call...:  41%|██████████▉                | 437/1073 [04:14<01:31,  6.96it/s]"
     ]
    },
    {
     "name": "stdout",
     "output_type": "stream",
     "text": [
      "Error: 429 - {\n",
      "  \"error\" : {\n",
      "    \"status\" : 429\n",
      "  }\n",
      "}\n",
      "<bound method Response.json of <Response [429]>>\n",
      "Error: 429 - {\n",
      "  \"error\" : {\n",
      "    \"status\" : 429\n",
      "  }\n",
      "}\n",
      "<bound method Response.json of <Response [429]>>\n"
     ]
    },
    {
     "name": "stderr",
     "output_type": "stream",
     "text": [
      "\r",
      "api_call...:  41%|███████████                | 438/1073 [04:14<01:27,  7.28it/s]"
     ]
    },
    {
     "name": "stdout",
     "output_type": "stream",
     "text": [
      "Error: 429 - {\n",
      "  \"error\" : {\n",
      "    \"status\" : 429\n",
      "  }\n",
      "}\n",
      "<bound method Response.json of <Response [429]>>\n"
     ]
    },
    {
     "name": "stderr",
     "output_type": "stream",
     "text": [
      "api_call...:  41%|███████████                | 440/1073 [04:15<01:41,  6.23it/s]"
     ]
    },
    {
     "name": "stdout",
     "output_type": "stream",
     "text": [
      "Error: 429 - {\n",
      "  \"error\" : {\n",
      "    \"status\" : 429\n",
      "  }\n",
      "}\n",
      "<bound method Response.json of <Response [429]>>\n",
      "Error: 429 - {\n",
      "  \"error\" : {\n",
      "    \"status\" : 429\n",
      "  }\n",
      "}\n",
      "<bound method Response.json of <Response [429]>>\n"
     ]
    },
    {
     "name": "stderr",
     "output_type": "stream",
     "text": [
      "api_call...:  41%|███████████                | 442/1073 [04:15<01:55,  5.46it/s]"
     ]
    },
    {
     "name": "stdout",
     "output_type": "stream",
     "text": [
      "Error: 429 - {\n",
      "  \"error\" : {\n",
      "    \"status\" : 429\n",
      "  }\n",
      "}\n",
      "<bound method Response.json of <Response [429]>>\n",
      "Error: 429 - {\n",
      "  \"error\" : {\n",
      "    \"status\" : 429\n",
      "  }\n",
      "}\n",
      "<bound method Response.json of <Response [429]>>\n"
     ]
    },
    {
     "name": "stderr",
     "output_type": "stream",
     "text": [
      "api_call...:  41%|███████████▏               | 444/1073 [04:16<03:52,  2.71it/s]"
     ]
    },
    {
     "name": "stdout",
     "output_type": "stream",
     "text": [
      "Error: 429 - {\n",
      "  \"error\" : {\n",
      "    \"status\" : 429\n",
      "  }\n",
      "}\n",
      "<bound method Response.json of <Response [429]>>\n",
      "Error: 429 - {\n",
      "  \"error\" : {\n",
      "    \"status\" : 429\n",
      "  }\n",
      "}\n",
      "<bound method Response.json of <Response [429]>>\n"
     ]
    },
    {
     "name": "stderr",
     "output_type": "stream",
     "text": [
      "api_call...:  42%|███████████▏               | 446/1073 [04:17<02:47,  3.75it/s]"
     ]
    },
    {
     "name": "stdout",
     "output_type": "stream",
     "text": [
      "Error: 429 - {\n",
      "  \"error\" : {\n",
      "    \"status\" : 429\n",
      "  }\n",
      "}\n",
      "<bound method Response.json of <Response [429]>>\n",
      "Error: 429 - {\n",
      "  \"error\" : {\n",
      "    \"status\" : 429\n",
      "  }\n",
      "}\n",
      "<bound method Response.json of <Response [429]>>\n"
     ]
    },
    {
     "name": "stderr",
     "output_type": "stream",
     "text": [
      "api_call...:  42%|███████████▎               | 448/1073 [04:17<02:19,  4.49it/s]"
     ]
    },
    {
     "name": "stdout",
     "output_type": "stream",
     "text": [
      "Error: 429 - {\n",
      "  \"error\" : {\n",
      "    \"status\" : 429\n",
      "  }\n",
      "}\n",
      "<bound method Response.json of <Response [429]>>\n",
      "Error: 429 - {\n",
      "  \"error\" : {\n",
      "    \"status\" : 429\n",
      "  }\n",
      "}\n",
      "<bound method Response.json of <Response [429]>>\n"
     ]
    },
    {
     "name": "stderr",
     "output_type": "stream",
     "text": [
      "api_call...:  42%|███████████▎               | 450/1073 [04:17<02:05,  4.97it/s]"
     ]
    },
    {
     "name": "stdout",
     "output_type": "stream",
     "text": [
      "Error: 429 - {\n",
      "  \"error\" : {\n",
      "    \"status\" : 429\n",
      "  }\n",
      "}\n",
      "<bound method Response.json of <Response [429]>>\n",
      "Error: 429 - {\n",
      "  \"error\" : {\n",
      "    \"status\" : 429\n",
      "  }\n",
      "}\n",
      "<bound method Response.json of <Response [429]>>\n"
     ]
    },
    {
     "name": "stderr",
     "output_type": "stream",
     "text": [
      "api_call...:  42%|███████████▎               | 452/1073 [04:18<01:45,  5.90it/s]"
     ]
    },
    {
     "name": "stdout",
     "output_type": "stream",
     "text": [
      "Error: 429 - {\n",
      "  \"error\" : {\n",
      "    \"status\" : 429\n",
      "  }\n",
      "}\n",
      "<bound method Response.json of <Response [429]>>\n",
      "Error: 429 - {\n",
      "  \"error\" : {\n",
      "    \"status\" : 429\n",
      "  }\n",
      "}\n",
      "<bound method Response.json of <Response [429]>>\n"
     ]
    },
    {
     "name": "stderr",
     "output_type": "stream",
     "text": [
      "\r",
      "api_call...:  42%|███████████▍               | 453/1073 [04:18<01:34,  6.55it/s]"
     ]
    },
    {
     "name": "stdout",
     "output_type": "stream",
     "text": [
      "Error: 429 - {\n",
      "  \"error\" : {\n",
      "    \"status\" : 429\n",
      "  }\n",
      "}\n",
      "<bound method Response.json of <Response [429]>>\n"
     ]
    },
    {
     "name": "stderr",
     "output_type": "stream",
     "text": [
      "\r",
      "api_call...:  42%|███████████▍               | 454/1073 [04:18<01:44,  5.95it/s]"
     ]
    },
    {
     "name": "stdout",
     "output_type": "stream",
     "text": [
      "Error: 429 - {\n",
      "  \"error\" : {\n",
      "    \"status\" : 429\n",
      "  }\n",
      "}\n",
      "<bound method Response.json of <Response [429]>>\n",
      "Error: 429 - {\n",
      "  \"error\" : {\n",
      "    \"status\" : 429\n",
      "  }\n",
      "}\n",
      "<bound method Response.json of <Response [429]>>\n"
     ]
    },
    {
     "name": "stderr",
     "output_type": "stream",
     "text": [
      "api_call...:  43%|███████████▍               | 457/1073 [04:19<01:40,  6.12it/s]"
     ]
    },
    {
     "name": "stdout",
     "output_type": "stream",
     "text": [
      "Error: 429 - {\n",
      "  \"error\" : {\n",
      "    \"status\" : 429\n",
      "  }\n",
      "}\n",
      "<bound method Response.json of <Response [429]>>\n",
      "Error: 429 - {\n",
      "  \"error\" : {\n",
      "    \"status\" : 429\n",
      "  }\n",
      "}\n",
      "<bound method Response.json of <Response [429]>>\n"
     ]
    },
    {
     "name": "stderr",
     "output_type": "stream",
     "text": [
      "api_call...:  43%|███████████▌               | 459/1073 [04:19<02:09,  4.75it/s]"
     ]
    },
    {
     "name": "stdout",
     "output_type": "stream",
     "text": [
      "Error: 429 - {\n",
      "  \"error\" : {\n",
      "    \"status\" : 429\n",
      "  }\n",
      "}\n",
      "<bound method Response.json of <Response [429]>>\n",
      "Error: 429 - {\n",
      "  \"error\" : {\n",
      "    \"status\" : 429\n",
      "  }\n",
      "}\n",
      "<bound method Response.json of <Response [429]>>\n"
     ]
    },
    {
     "name": "stderr",
     "output_type": "stream",
     "text": [
      "api_call...:  43%|███████████▌               | 461/1073 [04:19<01:53,  5.37it/s]"
     ]
    },
    {
     "name": "stdout",
     "output_type": "stream",
     "text": [
      "Error: 429 - {\n",
      "  \"error\" : {\n",
      "    \"status\" : 429\n",
      "  }\n",
      "}\n",
      "<bound method Response.json of <Response [429]>>\n",
      "Error: 429 - {\n",
      "  \"error\" : {\n",
      "    \"status\" : 429\n",
      "  }\n",
      "}\n",
      "<bound method Response.json of <Response [429]>>\n"
     ]
    },
    {
     "name": "stderr",
     "output_type": "stream",
     "text": [
      "api_call...:  43%|███████████▋               | 463/1073 [04:20<02:21,  4.32it/s]"
     ]
    },
    {
     "name": "stdout",
     "output_type": "stream",
     "text": [
      "Error: 429 - {\n",
      "  \"error\" : {\n",
      "    \"status\" : 429\n",
      "  }\n",
      "}\n",
      "<bound method Response.json of <Response [429]>>\n",
      "Error: 429 - {\n",
      "  \"error\" : {\n",
      "    \"status\" : 429\n",
      "  }\n",
      "}\n",
      "<bound method Response.json of <Response [429]>>\n"
     ]
    },
    {
     "name": "stderr",
     "output_type": "stream",
     "text": [
      "api_call...:  43%|███████████▋               | 465/1073 [04:20<01:57,  5.18it/s]"
     ]
    },
    {
     "name": "stdout",
     "output_type": "stream",
     "text": [
      "Error: 429 - {\n",
      "  \"error\" : {\n",
      "    \"status\" : 429\n",
      "  }\n",
      "}\n",
      "<bound method Response.json of <Response [429]>>\n",
      "Error: 429 - {\n",
      "  \"error\" : {\n",
      "    \"status\" : 429\n",
      "  }\n",
      "}\n",
      "<bound method Response.json of <Response [429]>>\n"
     ]
    },
    {
     "name": "stderr",
     "output_type": "stream",
     "text": [
      "api_call...:  44%|███████████▊               | 468/1073 [04:21<02:48,  3.58it/s]"
     ]
    },
    {
     "name": "stdout",
     "output_type": "stream",
     "text": [
      "Error: 429 - {\n",
      "  \"error\" : {\n",
      "    \"status\" : 429\n",
      "  }\n",
      "}\n",
      "<bound method Response.json of <Response [429]>>\n",
      "Error: 429 - {\n",
      "  \"error\" : {\n",
      "    \"status\" : 429\n",
      "  }\n",
      "}\n",
      "<bound method Response.json of <Response [429]>>\n"
     ]
    },
    {
     "name": "stderr",
     "output_type": "stream",
     "text": [
      "api_call...:  44%|███████████▊               | 470/1073 [04:22<01:58,  5.09it/s]"
     ]
    },
    {
     "name": "stdout",
     "output_type": "stream",
     "text": [
      "Error: 429 - {\n",
      "  \"error\" : {\n",
      "    \"status\" : 429\n",
      "  }\n",
      "}\n",
      "<bound method Response.json of <Response [429]>>\n",
      "Error: 429 - {\n",
      "  \"error\" : {\n",
      "    \"status\" : 429\n",
      "  }\n",
      "}\n",
      "<bound method Response.json of <Response [429]>>\n"
     ]
    },
    {
     "name": "stderr",
     "output_type": "stream",
     "text": [
      "\r",
      "api_call...:  44%|███████████▊               | 471/1073 [04:22<01:52,  5.37it/s]"
     ]
    },
    {
     "name": "stdout",
     "output_type": "stream",
     "text": [
      "Error: 429 - {\n",
      "  \"error\" : {\n",
      "    \"status\" : 429\n",
      "  }\n",
      "}\n",
      "<bound method Response.json of <Response [429]>>\n"
     ]
    },
    {
     "name": "stderr",
     "output_type": "stream",
     "text": [
      "api_call...:  44%|███████████▉               | 473/1073 [04:22<01:46,  5.66it/s]"
     ]
    },
    {
     "name": "stdout",
     "output_type": "stream",
     "text": [
      "Error: 429 - {\n",
      "  \"error\" : {\n",
      "    \"status\" : 429\n",
      "  }\n",
      "}\n",
      "<bound method Response.json of <Response [429]>>\n",
      "Error: 429 - {\n",
      "  \"error\" : {\n",
      "    \"status\" : 429\n",
      "  }\n",
      "}\n",
      "<bound method Response.json of <Response [429]>>\n"
     ]
    },
    {
     "name": "stderr",
     "output_type": "stream",
     "text": [
      "api_call...:  44%|███████████▉               | 475/1073 [04:22<01:39,  6.02it/s]"
     ]
    },
    {
     "name": "stdout",
     "output_type": "stream",
     "text": [
      "Error: 429 - {\n",
      "  \"error\" : {\n",
      "    \"status\" : 429\n",
      "  }\n",
      "}\n",
      "<bound method Response.json of <Response [429]>>\n",
      "Error: 429 - {\n",
      "  \"error\" : {\n",
      "    \"status\" : 429\n",
      "  }\n",
      "}\n",
      "<bound method Response.json of <Response [429]>>\n"
     ]
    },
    {
     "name": "stderr",
     "output_type": "stream",
     "text": [
      "api_call...:  44%|████████████               | 477/1073 [04:23<01:26,  6.91it/s]"
     ]
    },
    {
     "name": "stdout",
     "output_type": "stream",
     "text": [
      "Error: 429 - {\n",
      "  \"error\" : {\n",
      "    \"status\" : 429\n",
      "  }\n",
      "}\n",
      "<bound method Response.json of <Response [429]>>\n",
      "Error: 429 - {\n",
      "  \"error\" : {\n",
      "    \"status\" : 429\n",
      "  }\n",
      "}\n",
      "<bound method Response.json of <Response [429]>>\n"
     ]
    },
    {
     "name": "stderr",
     "output_type": "stream",
     "text": [
      "\r",
      "api_call...:  45%|████████████               | 478/1073 [04:23<01:25,  6.96it/s]"
     ]
    },
    {
     "name": "stdout",
     "output_type": "stream",
     "text": [
      "Error: 429 - {\n",
      "  \"error\" : {\n",
      "    \"status\" : 429\n",
      "  }\n",
      "}\n",
      "<bound method Response.json of <Response [429]>>\n"
     ]
    },
    {
     "name": "stderr",
     "output_type": "stream",
     "text": [
      "api_call...:  45%|████████████               | 480/1073 [04:23<01:37,  6.07it/s]"
     ]
    },
    {
     "name": "stdout",
     "output_type": "stream",
     "text": [
      "Error: 429 - {\n",
      "  \"error\" : {\n",
      "    \"status\" : 429\n",
      "  }\n",
      "}\n",
      "<bound method Response.json of <Response [429]>>\n",
      "Error: 429 - {\n",
      "  \"error\" : {\n",
      "    \"status\" : 429\n",
      "  }\n",
      "}\n",
      "<bound method Response.json of <Response [429]>>\n"
     ]
    },
    {
     "name": "stderr",
     "output_type": "stream",
     "text": [
      "api_call...:  45%|████████████▏              | 482/1073 [04:23<01:28,  6.67it/s]"
     ]
    },
    {
     "name": "stdout",
     "output_type": "stream",
     "text": [
      "Error: 429 - {\n",
      "  \"error\" : {\n",
      "    \"status\" : 429\n",
      "  }\n",
      "}\n",
      "<bound method Response.json of <Response [429]>>\n",
      "Error: 429 - {\n",
      "  \"error\" : {\n",
      "    \"status\" : 429\n",
      "  }\n",
      "}\n",
      "<bound method Response.json of <Response [429]>>\n"
     ]
    },
    {
     "name": "stderr",
     "output_type": "stream",
     "text": [
      "api_call...:  45%|████████████▏              | 484/1073 [04:24<01:22,  7.12it/s]"
     ]
    },
    {
     "name": "stdout",
     "output_type": "stream",
     "text": [
      "Error: 429 - {\n",
      "  \"error\" : {\n",
      "    \"status\" : 429\n",
      "  }\n",
      "}\n",
      "<bound method Response.json of <Response [429]>>\n",
      "Error: 429 - {\n",
      "  \"error\" : {\n",
      "    \"status\" : 429\n",
      "  }\n",
      "}\n",
      "<bound method Response.json of <Response [429]>>\n"
     ]
    },
    {
     "name": "stderr",
     "output_type": "stream",
     "text": [
      "api_call...:  45%|████████████▏              | 486/1073 [04:24<01:42,  5.73it/s]"
     ]
    },
    {
     "name": "stdout",
     "output_type": "stream",
     "text": [
      "Error: 429 - {\n",
      "  \"error\" : {\n",
      "    \"status\" : 429\n",
      "  }\n",
      "}\n",
      "<bound method Response.json of <Response [429]>>\n",
      "Error: 429 - {\n",
      "  \"error\" : {\n",
      "    \"status\" : 429\n",
      "  }\n",
      "}\n",
      "<bound method Response.json of <Response [429]>>\n"
     ]
    },
    {
     "name": "stderr",
     "output_type": "stream",
     "text": [
      "api_call...:  45%|████████████▎              | 488/1073 [04:24<01:27,  6.70it/s]"
     ]
    },
    {
     "name": "stdout",
     "output_type": "stream",
     "text": [
      "Error: 429 - {\n",
      "  \"error\" : {\n",
      "    \"status\" : 429\n",
      "  }\n",
      "}\n",
      "<bound method Response.json of <Response [429]>>\n",
      "Error: 429 - {\n",
      "  \"error\" : {\n",
      "    \"status\" : 429\n",
      "  }\n",
      "}\n",
      "<bound method Response.json of <Response [429]>>\n"
     ]
    },
    {
     "name": "stderr",
     "output_type": "stream",
     "text": [
      "api_call...:  46%|████████████▎              | 490/1073 [04:25<01:33,  6.23it/s]"
     ]
    },
    {
     "name": "stdout",
     "output_type": "stream",
     "text": [
      "Error: 429 - {\n",
      "  \"error\" : {\n",
      "    \"status\" : 429\n",
      "  }\n",
      "}\n",
      "<bound method Response.json of <Response [429]>>\n",
      "Error: 429 - {\n",
      "  \"error\" : {\n",
      "    \"status\" : 429\n",
      "  }\n",
      "}\n",
      "<bound method Response.json of <Response [429]>>\n"
     ]
    },
    {
     "name": "stderr",
     "output_type": "stream",
     "text": [
      "api_call...:  46%|████████████▍              | 492/1073 [04:25<01:41,  5.72it/s]"
     ]
    },
    {
     "name": "stdout",
     "output_type": "stream",
     "text": [
      "Error: 429 - {\n",
      "  \"error\" : {\n",
      "    \"status\" : 429\n",
      "  }\n",
      "}\n",
      "<bound method Response.json of <Response [429]>>\n",
      "Error: 429 - {\n",
      "  \"error\" : {\n",
      "    \"status\" : 429\n",
      "  }\n",
      "}\n",
      "<bound method Response.json of <Response [429]>>\n"
     ]
    },
    {
     "name": "stderr",
     "output_type": "stream",
     "text": [
      "api_call...:  46%|████████████▍              | 494/1073 [04:25<01:28,  6.51it/s]"
     ]
    },
    {
     "name": "stdout",
     "output_type": "stream",
     "text": [
      "Error: 429 - {\n",
      "  \"error\" : {\n",
      "    \"status\" : 429\n",
      "  }\n",
      "}\n",
      "<bound method Response.json of <Response [429]>>\n",
      "Error: 429 - {\n",
      "  \"error\" : {\n",
      "    \"status\" : 429\n",
      "  }\n",
      "}\n",
      "<bound method Response.json of <Response [429]>>\n"
     ]
    },
    {
     "name": "stderr",
     "output_type": "stream",
     "text": [
      "api_call...:  46%|████████████▍              | 496/1073 [04:26<02:25,  3.98it/s]"
     ]
    },
    {
     "name": "stdout",
     "output_type": "stream",
     "text": [
      "Error: 429 - {\n",
      "  \"error\" : {\n",
      "    \"status\" : 429\n",
      "  }\n",
      "}\n",
      "<bound method Response.json of <Response [429]>>\n",
      "Error: 429 - {\n",
      "  \"error\" : {\n",
      "    \"status\" : 429\n",
      "  }\n",
      "}\n",
      "<bound method Response.json of <Response [429]>>\n"
     ]
    },
    {
     "name": "stderr",
     "output_type": "stream",
     "text": [
      "api_call...:  46%|████████████▌              | 498/1073 [04:27<01:52,  5.11it/s]"
     ]
    },
    {
     "name": "stdout",
     "output_type": "stream",
     "text": [
      "Error: 429 - {\n",
      "  \"error\" : {\n",
      "    \"status\" : 429\n",
      "  }\n",
      "}\n",
      "<bound method Response.json of <Response [429]>>\n",
      "Error: 429 - {\n",
      "  \"error\" : {\n",
      "    \"status\" : 429\n",
      "  }\n",
      "}\n",
      "<bound method Response.json of <Response [429]>>\n"
     ]
    },
    {
     "name": "stderr",
     "output_type": "stream",
     "text": [
      "api_call...:  47%|████████████▌              | 500/1073 [04:27<01:44,  5.48it/s]"
     ]
    },
    {
     "name": "stdout",
     "output_type": "stream",
     "text": [
      "Error: 429 - {\n",
      "  \"error\" : {\n",
      "    \"status\" : 429\n",
      "  }\n",
      "}\n",
      "<bound method Response.json of <Response [429]>>\n",
      "Error: 429 - {\n",
      "  \"error\" : {\n",
      "    \"status\" : 429\n",
      "  }\n",
      "}\n",
      "<bound method Response.json of <Response [429]>>\n"
     ]
    },
    {
     "name": "stderr",
     "output_type": "stream",
     "text": [
      "api_call...:  47%|███████████▋             | 502/1073 [05:02<1:11:45,  7.54s/it]"
     ]
    },
    {
     "name": "stdout",
     "output_type": "stream",
     "text": [
      "Error: 429 - {\n",
      "  \"error\" : {\n",
      "    \"status\" : 429\n",
      "  }\n",
      "}\n",
      "<bound method Response.json of <Response [429]>>\n",
      "Error: 429 - {\n",
      "  \"error\" : {\n",
      "    \"status\" : 429\n",
      "  }\n",
      "}\n",
      "<bound method Response.json of <Response [429]>>\n"
     ]
    },
    {
     "name": "stderr",
     "output_type": "stream",
     "text": [
      "\r",
      "api_call...:  47%|████████████▋              | 503/1073 [05:02<50:36,  5.33s/it]"
     ]
    },
    {
     "name": "stdout",
     "output_type": "stream",
     "text": [
      "Error: 429 - {\n",
      "  \"error\" : {\n",
      "    \"status\" : 429\n",
      "  }\n",
      "}\n",
      "<bound method Response.json of <Response [429]>>\n"
     ]
    },
    {
     "name": "stderr",
     "output_type": "stream",
     "text": [
      "\r",
      "api_call...:  47%|████████████▋              | 504/1073 [05:03<36:00,  3.80s/it]"
     ]
    },
    {
     "name": "stdout",
     "output_type": "stream",
     "text": [
      "Error: 429 - {\n",
      "  \"error\" : {\n",
      "    \"status\" : 429\n",
      "  }\n",
      "}\n",
      "<bound method Response.json of <Response [429]>>\n"
     ]
    },
    {
     "name": "stderr",
     "output_type": "stream",
     "text": [
      "api_call...:  47%|████████████▋              | 506/1073 [05:03<18:25,  1.95s/it]"
     ]
    },
    {
     "name": "stdout",
     "output_type": "stream",
     "text": [
      "Error: 429 - {\n",
      "  \"error\" : {\n",
      "    \"status\" : 429\n",
      "  }\n",
      "}\n",
      "<bound method Response.json of <Response [429]>>\n",
      "Error: 429 - {\n",
      "  \"error\" : {\n",
      "    \"status\" : 429\n",
      "  }\n",
      "}\n",
      "<bound method Response.json of <Response [429]>>\n"
     ]
    },
    {
     "name": "stderr",
     "output_type": "stream",
     "text": [
      "\r",
      "api_call...:  47%|████████████▊              | 507/1073 [05:03<13:20,  1.41s/it]"
     ]
    },
    {
     "name": "stdout",
     "output_type": "stream",
     "text": [
      "Error: 429 - {\n",
      "  \"error\" : {\n",
      "    \"status\" : 429\n",
      "  }\n",
      "}\n",
      "<bound method Response.json of <Response [429]>>\n"
     ]
    },
    {
     "name": "stderr",
     "output_type": "stream",
     "text": [
      "api_call...:  47%|████████████▊              | 509/1073 [05:04<08:33,  1.10it/s]"
     ]
    },
    {
     "name": "stdout",
     "output_type": "stream",
     "text": [
      "Error: 429 - {\n",
      "  \"error\" : {\n",
      "    \"status\" : 429\n",
      "  }\n",
      "}\n",
      "<bound method Response.json of <Response [429]>>\n",
      "Error: 429 - {\n",
      "  \"error\" : {\n",
      "    \"status\" : 429\n",
      "  }\n",
      "}\n",
      "<bound method Response.json of <Response [429]>>\n"
     ]
    },
    {
     "name": "stderr",
     "output_type": "stream",
     "text": [
      "api_call...:  48%|████████████▊              | 511/1073 [05:05<05:02,  1.86it/s]"
     ]
    },
    {
     "name": "stdout",
     "output_type": "stream",
     "text": [
      "Error: 429 - {\n",
      "  \"error\" : {\n",
      "    \"status\" : 429\n",
      "  }\n",
      "}\n",
      "<bound method Response.json of <Response [429]>>\n",
      "Error: 429 - {\n",
      "  \"error\" : {\n",
      "    \"status\" : 429\n",
      "  }\n",
      "}\n",
      "<bound method Response.json of <Response [429]>>\n"
     ]
    },
    {
     "name": "stderr",
     "output_type": "stream",
     "text": [
      "\r",
      "api_call...:  48%|████████████▉              | 512/1073 [05:05<04:09,  2.25it/s]"
     ]
    },
    {
     "name": "stdout",
     "output_type": "stream",
     "text": [
      "Error: 429 - {\n",
      "  \"error\" : {\n",
      "    \"status\" : 429\n",
      "  }\n",
      "}\n",
      "<bound method Response.json of <Response [429]>>\n"
     ]
    },
    {
     "name": "stderr",
     "output_type": "stream",
     "text": [
      "api_call...:  48%|████████████▉              | 514/1073 [05:05<02:50,  3.27it/s]"
     ]
    },
    {
     "name": "stdout",
     "output_type": "stream",
     "text": [
      "Error: 429 - {\n",
      "  \"error\" : {\n",
      "    \"status\" : 429\n",
      "  }\n",
      "}\n",
      "<bound method Response.json of <Response [429]>>\n",
      "Error: 429 - {\n",
      "  \"error\" : {\n",
      "    \"status\" : 429\n",
      "  }\n",
      "}\n",
      "<bound method Response.json of <Response [429]>>\n"
     ]
    },
    {
     "name": "stderr",
     "output_type": "stream",
     "text": [
      "\r",
      "api_call...:  48%|████████████▉              | 515/1073 [05:05<02:48,  3.31it/s]"
     ]
    },
    {
     "name": "stdout",
     "output_type": "stream",
     "text": [
      "Error: 429 - {\n",
      "  \"error\" : {\n",
      "    \"status\" : 429\n",
      "  }\n",
      "}\n",
      "<bound method Response.json of <Response [429]>>\n"
     ]
    },
    {
     "name": "stderr",
     "output_type": "stream",
     "text": [
      "\r",
      "api_call...:  48%|████████████▉              | 516/1073 [05:06<02:43,  3.41it/s]"
     ]
    },
    {
     "name": "stdout",
     "output_type": "stream",
     "text": [
      "Error: 429 - {\n",
      "  \"error\" : {\n",
      "    \"status\" : 429\n",
      "  }\n",
      "}\n",
      "<bound method Response.json of <Response [429]>>\n"
     ]
    },
    {
     "name": "stderr",
     "output_type": "stream",
     "text": [
      "api_call...:  48%|█████████████              | 518/1073 [05:06<02:08,  4.31it/s]"
     ]
    },
    {
     "name": "stdout",
     "output_type": "stream",
     "text": [
      "Error: 429 - {\n",
      "  \"error\" : {\n",
      "    \"status\" : 429\n",
      "  }\n",
      "}\n",
      "<bound method Response.json of <Response [429]>>\n",
      "Error: 429 - {\n",
      "  \"error\" : {\n",
      "    \"status\" : 429\n",
      "  }\n",
      "}\n",
      "<bound method Response.json of <Response [429]>>\n"
     ]
    },
    {
     "name": "stderr",
     "output_type": "stream",
     "text": [
      "api_call...:  48%|█████████████              | 520/1073 [05:06<01:39,  5.57it/s]"
     ]
    },
    {
     "name": "stdout",
     "output_type": "stream",
     "text": [
      "Error: 429 - {\n",
      "  \"error\" : {\n",
      "    \"status\" : 429\n",
      "  }\n",
      "}\n",
      "<bound method Response.json of <Response [429]>>\n",
      "Error: 429 - {\n",
      "  \"error\" : {\n",
      "    \"status\" : 429\n",
      "  }\n",
      "}\n",
      "<bound method Response.json of <Response [429]>>\n"
     ]
    },
    {
     "name": "stderr",
     "output_type": "stream",
     "text": [
      "api_call...:  49%|█████████████▏             | 522/1073 [05:07<01:32,  5.93it/s]"
     ]
    },
    {
     "name": "stdout",
     "output_type": "stream",
     "text": [
      "Error: 429 - {\n",
      "  \"error\" : {\n",
      "    \"status\" : 429\n",
      "  }\n",
      "}\n",
      "<bound method Response.json of <Response [429]>>\n",
      "Error: 429 - {\n",
      "  \"error\" : {\n",
      "    \"status\" : 429\n",
      "  }\n",
      "}\n",
      "<bound method Response.json of <Response [429]>>\n"
     ]
    },
    {
     "name": "stderr",
     "output_type": "stream",
     "text": [
      "\r",
      "api_call...:  49%|█████████████▏             | 523/1073 [05:07<01:44,  5.29it/s]"
     ]
    },
    {
     "name": "stdout",
     "output_type": "stream",
     "text": [
      "Error: 429 - {\n",
      "  \"error\" : {\n",
      "    \"status\" : 429\n",
      "  }\n",
      "}\n",
      "<bound method Response.json of <Response [429]>>\n"
     ]
    },
    {
     "name": "stderr",
     "output_type": "stream",
     "text": [
      "api_call...:  49%|█████████████▏             | 525/1073 [05:07<01:36,  5.70it/s]"
     ]
    },
    {
     "name": "stdout",
     "output_type": "stream",
     "text": [
      "Error: 429 - {\n",
      "  \"error\" : {\n",
      "    \"status\" : 429\n",
      "  }\n",
      "}\n",
      "<bound method Response.json of <Response [429]>>\n",
      "Error: 429 - {\n",
      "  \"error\" : {\n",
      "    \"status\" : 429\n",
      "  }\n",
      "}\n",
      "<bound method Response.json of <Response [429]>>\n"
     ]
    },
    {
     "name": "stderr",
     "output_type": "stream",
     "text": [
      "api_call...:  49%|█████████████▎             | 527/1073 [05:07<01:27,  6.21it/s]"
     ]
    },
    {
     "name": "stdout",
     "output_type": "stream",
     "text": [
      "Error: 429 - {\n",
      "  \"error\" : {\n",
      "    \"status\" : 429\n",
      "  }\n",
      "}\n",
      "<bound method Response.json of <Response [429]>>\n",
      "Error: 429 - {\n",
      "  \"error\" : {\n",
      "    \"status\" : 429\n",
      "  }\n",
      "}\n",
      "<bound method Response.json of <Response [429]>>\n"
     ]
    },
    {
     "name": "stderr",
     "output_type": "stream",
     "text": [
      "api_call...:  49%|█████████████▎             | 529/1073 [05:08<01:36,  5.64it/s]"
     ]
    },
    {
     "name": "stdout",
     "output_type": "stream",
     "text": [
      "Error: 429 - {\n",
      "  \"error\" : {\n",
      "    \"status\" : 429\n",
      "  }\n",
      "}\n",
      "<bound method Response.json of <Response [429]>>\n",
      "Error: 429 - {\n",
      "  \"error\" : {\n",
      "    \"status\" : 429\n",
      "  }\n",
      "}\n",
      "<bound method Response.json of <Response [429]>>\n"
     ]
    },
    {
     "name": "stderr",
     "output_type": "stream",
     "text": [
      "api_call...:  49%|█████████████▎             | 531/1073 [05:08<01:35,  5.67it/s]"
     ]
    },
    {
     "name": "stdout",
     "output_type": "stream",
     "text": [
      "Error: 429 - {\n",
      "  \"error\" : {\n",
      "    \"status\" : 429\n",
      "  }\n",
      "}\n",
      "<bound method Response.json of <Response [429]>>\n",
      "Error: 429 - {\n",
      "  \"error\" : {\n",
      "    \"status\" : 429\n",
      "  }\n",
      "}\n",
      "<bound method Response.json of <Response [429]>>\n"
     ]
    },
    {
     "name": "stderr",
     "output_type": "stream",
     "text": [
      "api_call...:  50%|█████████████▍             | 533/1073 [05:09<01:26,  6.26it/s]"
     ]
    },
    {
     "name": "stdout",
     "output_type": "stream",
     "text": [
      "Error: 429 - {\n",
      "  \"error\" : {\n",
      "    \"status\" : 429\n",
      "  }\n",
      "}\n",
      "<bound method Response.json of <Response [429]>>\n",
      "Error: 429 - {\n",
      "  \"error\" : {\n",
      "    \"status\" : 429\n",
      "  }\n",
      "}\n",
      "<bound method Response.json of <Response [429]>>\n"
     ]
    },
    {
     "name": "stderr",
     "output_type": "stream",
     "text": [
      "api_call...:  50%|█████████████▍             | 535/1073 [05:09<01:17,  6.92it/s]"
     ]
    },
    {
     "name": "stdout",
     "output_type": "stream",
     "text": [
      "Error: 429 - {\n",
      "  \"error\" : {\n",
      "    \"status\" : 429\n",
      "  }\n",
      "}\n",
      "<bound method Response.json of <Response [429]>>\n",
      "Error: 429 - {\n",
      "  \"error\" : {\n",
      "    \"status\" : 429\n",
      "  }\n",
      "}\n",
      "<bound method Response.json of <Response [429]>>\n"
     ]
    },
    {
     "name": "stderr",
     "output_type": "stream",
     "text": [
      "\r",
      "api_call...:  50%|█████████████▍             | 536/1073 [05:09<02:41,  3.32it/s]"
     ]
    },
    {
     "name": "stdout",
     "output_type": "stream",
     "text": [
      "Error: 429 - {\n",
      "  \"error\" : {\n",
      "    \"status\" : 429\n",
      "  }\n",
      "}\n",
      "<bound method Response.json of <Response [429]>>\n"
     ]
    },
    {
     "name": "stderr",
     "output_type": "stream",
     "text": [
      "api_call...:  50%|█████████████▌             | 539/1073 [05:10<02:23,  3.72it/s]"
     ]
    },
    {
     "name": "stdout",
     "output_type": "stream",
     "text": [
      "Error: 429 - {\n",
      "  \"error\" : {\n",
      "    \"status\" : 429\n",
      "  }\n",
      "}\n",
      "<bound method Response.json of <Response [429]>>\n",
      "Error: 429 - {\n",
      "  \"error\" : {\n",
      "    \"status\" : 429\n",
      "  }\n",
      "}\n",
      "<bound method Response.json of <Response [429]>>\n"
     ]
    },
    {
     "name": "stderr",
     "output_type": "stream",
     "text": [
      "api_call...:  50%|█████████████▌             | 541/1073 [05:11<01:49,  4.86it/s]"
     ]
    },
    {
     "name": "stdout",
     "output_type": "stream",
     "text": [
      "Error: 429 - {\n",
      "  \"error\" : {\n",
      "    \"status\" : 429\n",
      "  }\n",
      "}\n",
      "<bound method Response.json of <Response [429]>>\n",
      "Error: 429 - {\n",
      "  \"error\" : {\n",
      "    \"status\" : 429\n",
      "  }\n",
      "}\n",
      "<bound method Response.json of <Response [429]>>\n"
     ]
    },
    {
     "name": "stderr",
     "output_type": "stream",
     "text": [
      "\r",
      "api_call...:  51%|█████████████▋             | 542/1073 [05:11<01:44,  5.10it/s]"
     ]
    },
    {
     "name": "stdout",
     "output_type": "stream",
     "text": [
      "Error: 429 - {\n",
      "  \"error\" : {\n",
      "    \"status\" : 429\n",
      "  }\n",
      "}\n",
      "<bound method Response.json of <Response [429]>>\n"
     ]
    },
    {
     "name": "stderr",
     "output_type": "stream",
     "text": [
      "api_call...:  51%|█████████████▋             | 544/1073 [05:11<02:04,  4.25it/s]"
     ]
    },
    {
     "name": "stdout",
     "output_type": "stream",
     "text": [
      "Error: 429 - {\n",
      "  \"error\" : {\n",
      "    \"status\" : 429\n",
      "  }\n",
      "}\n",
      "<bound method Response.json of <Response [429]>>\n",
      "Error: 429 - {\n",
      "  \"error\" : {\n",
      "    \"status\" : 429\n",
      "  }\n",
      "}\n",
      "<bound method Response.json of <Response [429]>>\n"
     ]
    },
    {
     "name": "stderr",
     "output_type": "stream",
     "text": [
      "api_call...:  51%|█████████████▋             | 546/1073 [05:12<01:39,  5.31it/s]"
     ]
    },
    {
     "name": "stdout",
     "output_type": "stream",
     "text": [
      "Error: 429 - {\n",
      "  \"error\" : {\n",
      "    \"status\" : 429\n",
      "  }\n",
      "}\n",
      "<bound method Response.json of <Response [429]>>\n",
      "Error: 429 - {\n",
      "  \"error\" : {\n",
      "    \"status\" : 429\n",
      "  }\n",
      "}\n",
      "<bound method Response.json of <Response [429]>>\n"
     ]
    },
    {
     "name": "stderr",
     "output_type": "stream",
     "text": [
      "api_call...:  51%|█████████████▊             | 548/1073 [05:12<01:24,  6.18it/s]"
     ]
    },
    {
     "name": "stdout",
     "output_type": "stream",
     "text": [
      "Error: 429 - {\n",
      "  \"error\" : {\n",
      "    \"status\" : 429\n",
      "  }\n",
      "}\n",
      "<bound method Response.json of <Response [429]>>\n",
      "Error: 429 - {\n",
      "  \"error\" : {\n",
      "    \"status\" : 429\n",
      "  }\n",
      "}\n",
      "<bound method Response.json of <Response [429]>>\n"
     ]
    },
    {
     "name": "stderr",
     "output_type": "stream",
     "text": [
      "\r",
      "api_call...:  51%|█████████████▊             | 549/1073 [05:12<01:37,  5.35it/s]"
     ]
    },
    {
     "name": "stdout",
     "output_type": "stream",
     "text": [
      "Error: 429 - {\n",
      "  \"error\" : {\n",
      "    \"status\" : 429\n",
      "  }\n",
      "}\n",
      "<bound method Response.json of <Response [429]>>\n"
     ]
    },
    {
     "name": "stderr",
     "output_type": "stream",
     "text": [
      "api_call...:  51%|█████████████▊             | 551/1073 [05:13<02:12,  3.94it/s]"
     ]
    },
    {
     "name": "stdout",
     "output_type": "stream",
     "text": [
      "Error: 429 - {\n",
      "  \"error\" : {\n",
      "    \"status\" : 429\n",
      "  }\n",
      "}\n",
      "<bound method Response.json of <Response [429]>>\n"
     ]
    },
    {
     "name": "stderr",
     "output_type": "stream",
     "text": [
      "\r",
      "api_call...:  51%|█████████████▉             | 552/1073 [05:13<02:06,  4.12it/s]"
     ]
    },
    {
     "name": "stdout",
     "output_type": "stream",
     "text": [
      "Error: 429 - {\n",
      "  \"error\" : {\n",
      "    \"status\" : 429\n",
      "  }\n",
      "}\n",
      "<bound method Response.json of <Response [429]>>\n"
     ]
    },
    {
     "name": "stderr",
     "output_type": "stream",
     "text": [
      "api_call...:  52%|█████████████▉             | 554/1073 [05:13<01:46,  4.86it/s]"
     ]
    },
    {
     "name": "stdout",
     "output_type": "stream",
     "text": [
      "Error: 429 - {\n",
      "  \"error\" : {\n",
      "    \"status\" : 429\n",
      "  }\n",
      "}\n",
      "<bound method Response.json of <Response [429]>>\n",
      "Error: 429 - {\n",
      "  \"error\" : {\n",
      "    \"status\" : 429\n",
      "  }\n",
      "}\n",
      "<bound method Response.json of <Response [429]>>\n"
     ]
    },
    {
     "name": "stderr",
     "output_type": "stream",
     "text": [
      "api_call...:  52%|█████████████▉             | 556/1073 [05:14<01:33,  5.55it/s]"
     ]
    },
    {
     "name": "stdout",
     "output_type": "stream",
     "text": [
      "Error: 429 - {\n",
      "  \"error\" : {\n",
      "    \"status\" : 429\n",
      "  }\n",
      "}\n",
      "<bound method Response.json of <Response [429]>>\n",
      "Error: 429 - {\n",
      "  \"error\" : {\n",
      "    \"status\" : 429\n",
      "  }\n",
      "}\n",
      "<bound method Response.json of <Response [429]>>\n"
     ]
    },
    {
     "name": "stderr",
     "output_type": "stream",
     "text": [
      "api_call...:  52%|██████████████             | 558/1073 [05:14<01:20,  6.38it/s]"
     ]
    },
    {
     "name": "stdout",
     "output_type": "stream",
     "text": [
      "Error: 429 - {\n",
      "  \"error\" : {\n",
      "    \"status\" : 429\n",
      "  }\n",
      "}\n",
      "<bound method Response.json of <Response [429]>>\n",
      "Error: 429 - {\n",
      "  \"error\" : {\n",
      "    \"status\" : 429\n",
      "  }\n",
      "}\n",
      "<bound method Response.json of <Response [429]>>\n"
     ]
    },
    {
     "name": "stderr",
     "output_type": "stream",
     "text": [
      "api_call...:  52%|██████████████             | 560/1073 [05:14<01:33,  5.46it/s]"
     ]
    },
    {
     "name": "stdout",
     "output_type": "stream",
     "text": [
      "Error: 429 - {\n",
      "  \"error\" : {\n",
      "    \"status\" : 429\n",
      "  }\n",
      "}\n",
      "<bound method Response.json of <Response [429]>>\n",
      "Error: 429 - {\n",
      "  \"error\" : {\n",
      "    \"status\" : 429\n",
      "  }\n",
      "}\n",
      "<bound method Response.json of <Response [429]>>\n"
     ]
    },
    {
     "name": "stderr",
     "output_type": "stream",
     "text": [
      "api_call...:  52%|██████████████▏            | 562/1073 [05:15<01:32,  5.51it/s]"
     ]
    },
    {
     "name": "stdout",
     "output_type": "stream",
     "text": [
      "Error: 429 - {\n",
      "  \"error\" : {\n",
      "    \"status\" : 429\n",
      "  }\n",
      "}\n",
      "<bound method Response.json of <Response [429]>>\n",
      "Error: 429 - {\n",
      "  \"error\" : {\n",
      "    \"status\" : 429\n",
      "  }\n",
      "}\n",
      "<bound method Response.json of <Response [429]>>\n"
     ]
    },
    {
     "name": "stderr",
     "output_type": "stream",
     "text": [
      "api_call...:  53%|██████████████▏            | 564/1073 [05:15<01:33,  5.46it/s]"
     ]
    },
    {
     "name": "stdout",
     "output_type": "stream",
     "text": [
      "Error: 429 - {\n",
      "  \"error\" : {\n",
      "    \"status\" : 429\n",
      "  }\n",
      "}\n",
      "<bound method Response.json of <Response [429]>>\n",
      "Error: 429 - {\n",
      "  \"error\" : {\n",
      "    \"status\" : 429\n",
      "  }\n",
      "}\n",
      "<bound method Response.json of <Response [429]>>\n"
     ]
    },
    {
     "name": "stderr",
     "output_type": "stream",
     "text": [
      "api_call...:  53%|██████████████▏            | 566/1073 [05:16<01:30,  5.60it/s]"
     ]
    },
    {
     "name": "stdout",
     "output_type": "stream",
     "text": [
      "Error: 429 - {\n",
      "  \"error\" : {\n",
      "    \"status\" : 429\n",
      "  }\n",
      "}\n",
      "<bound method Response.json of <Response [429]>>\n",
      "Error: 429 - {\n",
      "  \"error\" : {\n",
      "    \"status\" : 429\n",
      "  }\n",
      "}\n",
      "<bound method Response.json of <Response [429]>>\n"
     ]
    },
    {
     "name": "stderr",
     "output_type": "stream",
     "text": [
      "api_call...:  53%|██████████████▎            | 568/1073 [05:16<01:22,  6.08it/s]"
     ]
    },
    {
     "name": "stdout",
     "output_type": "stream",
     "text": [
      "Error: 429 - {\n",
      "  \"error\" : {\n",
      "    \"status\" : 429\n",
      "  }\n",
      "}\n",
      "<bound method Response.json of <Response [429]>>\n",
      "Error: 429 - {\n",
      "  \"error\" : {\n",
      "    \"status\" : 429\n",
      "  }\n",
      "}\n",
      "<bound method Response.json of <Response [429]>>\n"
     ]
    },
    {
     "name": "stderr",
     "output_type": "stream",
     "text": [
      "api_call...:  53%|██████████████▎            | 570/1073 [05:16<01:13,  6.83it/s]"
     ]
    },
    {
     "name": "stdout",
     "output_type": "stream",
     "text": [
      "Error: 429 - {\n",
      "  \"error\" : {\n",
      "    \"status\" : 429\n",
      "  }\n",
      "}\n",
      "<bound method Response.json of <Response [429]>>\n",
      "Error: 429 - {\n",
      "  \"error\" : {\n",
      "    \"status\" : 429\n",
      "  }\n",
      "}\n",
      "<bound method Response.json of <Response [429]>>\n"
     ]
    },
    {
     "name": "stderr",
     "output_type": "stream",
     "text": [
      "\r",
      "api_call...:  53%|██████████████▎            | 571/1073 [05:16<01:35,  5.23it/s]"
     ]
    },
    {
     "name": "stdout",
     "output_type": "stream",
     "text": [
      "Error: 429 - {\n",
      "  \"error\" : {\n",
      "    \"status\" : 429\n",
      "  }\n",
      "}\n",
      "<bound method Response.json of <Response [429]>>\n"
     ]
    },
    {
     "name": "stderr",
     "output_type": "stream",
     "text": [
      "\r",
      "api_call...:  53%|██████████████▍            | 572/1073 [05:17<02:06,  3.96it/s]"
     ]
    },
    {
     "name": "stdout",
     "output_type": "stream",
     "text": [
      "Error: 429 - {\n",
      "  \"error\" : {\n",
      "    \"status\" : 429\n",
      "  }\n",
      "}\n",
      "<bound method Response.json of <Response [429]>>\n"
     ]
    },
    {
     "name": "stderr",
     "output_type": "stream",
     "text": [
      "api_call...:  53%|██████████████▍            | 574/1073 [05:17<01:48,  4.59it/s]"
     ]
    },
    {
     "name": "stdout",
     "output_type": "stream",
     "text": [
      "Error: 429 - {\n",
      "  \"error\" : {\n",
      "    \"status\" : 429\n",
      "  }\n",
      "}\n",
      "<bound method Response.json of <Response [429]>>\n",
      "Error: 429 - {\n",
      "  \"error\" : {\n",
      "    \"status\" : 429\n",
      "  }\n",
      "}\n",
      "<bound method Response.json of <Response [429]>>\n"
     ]
    },
    {
     "name": "stderr",
     "output_type": "stream",
     "text": [
      "api_call...:  54%|██████████████▍            | 576/1073 [05:18<01:35,  5.22it/s]"
     ]
    },
    {
     "name": "stdout",
     "output_type": "stream",
     "text": [
      "Error: 429 - {\n",
      "  \"error\" : {\n",
      "    \"status\" : 429\n",
      "  }\n",
      "}\n",
      "<bound method Response.json of <Response [429]>>\n",
      "Error: 429 - {\n",
      "  \"error\" : {\n",
      "    \"status\" : 429\n",
      "  }\n",
      "}\n",
      "<bound method Response.json of <Response [429]>>\n"
     ]
    },
    {
     "name": "stderr",
     "output_type": "stream",
     "text": [
      "api_call...:  54%|██████████████▌            | 578/1073 [05:18<01:21,  6.06it/s]"
     ]
    },
    {
     "name": "stdout",
     "output_type": "stream",
     "text": [
      "Error: 429 - {\n",
      "  \"error\" : {\n",
      "    \"status\" : 429\n",
      "  }\n",
      "}\n",
      "<bound method Response.json of <Response [429]>>\n",
      "Error: 429 - {\n",
      "  \"error\" : {\n",
      "    \"status\" : 429\n",
      "  }\n",
      "}\n",
      "<bound method Response.json of <Response [429]>>\n"
     ]
    },
    {
     "name": "stderr",
     "output_type": "stream",
     "text": [
      "api_call...:  54%|██████████████▌            | 580/1073 [05:18<01:24,  5.86it/s]"
     ]
    },
    {
     "name": "stdout",
     "output_type": "stream",
     "text": [
      "Error: 429 - {\n",
      "  \"error\" : {\n",
      "    \"status\" : 429\n",
      "  }\n",
      "}\n",
      "<bound method Response.json of <Response [429]>>\n",
      "Error: 429 - {\n",
      "  \"error\" : {\n",
      "    \"status\" : 429\n",
      "  }\n",
      "}\n",
      "<bound method Response.json of <Response [429]>>\n"
     ]
    },
    {
     "name": "stderr",
     "output_type": "stream",
     "text": [
      "\r",
      "api_call...:  54%|██████████████▌            | 581/1073 [05:18<01:22,  5.96it/s]"
     ]
    },
    {
     "name": "stdout",
     "output_type": "stream",
     "text": [
      "Error: 429 - {\n",
      "  \"error\" : {\n",
      "    \"status\" : 429\n",
      "  }\n",
      "}\n",
      "<bound method Response.json of <Response [429]>>\n"
     ]
    },
    {
     "name": "stderr",
     "output_type": "stream",
     "text": [
      "api_call...:  54%|██████████████▋            | 583/1073 [05:19<01:22,  5.97it/s]"
     ]
    },
    {
     "name": "stdout",
     "output_type": "stream",
     "text": [
      "Error: 429 - {\n",
      "  \"error\" : {\n",
      "    \"status\" : 429\n",
      "  }\n",
      "}\n",
      "<bound method Response.json of <Response [429]>>\n",
      "Error: 429 - {\n",
      "  \"error\" : {\n",
      "    \"status\" : 429\n",
      "  }\n",
      "}\n",
      "<bound method Response.json of <Response [429]>>\n"
     ]
    },
    {
     "name": "stderr",
     "output_type": "stream",
     "text": [
      "api_call...:  55%|██████████████▋            | 585/1073 [05:19<01:21,  5.95it/s]"
     ]
    },
    {
     "name": "stdout",
     "output_type": "stream",
     "text": [
      "Error: 429 - {\n",
      "  \"error\" : {\n",
      "    \"status\" : 429\n",
      "  }\n",
      "}\n",
      "<bound method Response.json of <Response [429]>>\n",
      "Error: 429 - {\n",
      "  \"error\" : {\n",
      "    \"status\" : 429\n",
      "  }\n",
      "}\n",
      "<bound method Response.json of <Response [429]>>\n"
     ]
    },
    {
     "name": "stderr",
     "output_type": "stream",
     "text": [
      "api_call...:  55%|██████████████▊            | 587/1073 [05:19<01:09,  6.96it/s]"
     ]
    },
    {
     "name": "stdout",
     "output_type": "stream",
     "text": [
      "Error: 429 - {\n",
      "  \"error\" : {\n",
      "    \"status\" : 429\n",
      "  }\n",
      "}\n",
      "<bound method Response.json of <Response [429]>>\n",
      "Error: 429 - {\n",
      "  \"error\" : {\n",
      "    \"status\" : 429\n",
      "  }\n",
      "}\n",
      "<bound method Response.json of <Response [429]>>\n"
     ]
    },
    {
     "name": "stderr",
     "output_type": "stream",
     "text": [
      "api_call...:  55%|██████████████▊            | 589/1073 [05:20<01:19,  6.09it/s]"
     ]
    },
    {
     "name": "stdout",
     "output_type": "stream",
     "text": [
      "Error: 429 - {\n",
      "  \"error\" : {\n",
      "    \"status\" : 429\n",
      "  }\n",
      "}\n",
      "<bound method Response.json of <Response [429]>>\n",
      "Error: 429 - {\n",
      "  \"error\" : {\n",
      "    \"status\" : 429\n",
      "  }\n",
      "}\n",
      "<bound method Response.json of <Response [429]>>\n"
     ]
    },
    {
     "name": "stderr",
     "output_type": "stream",
     "text": [
      "api_call...:  55%|██████████████▊            | 591/1073 [05:20<01:26,  5.59it/s]"
     ]
    },
    {
     "name": "stdout",
     "output_type": "stream",
     "text": [
      "Error: 429 - {\n",
      "  \"error\" : {\n",
      "    \"status\" : 429\n",
      "  }\n",
      "}\n",
      "<bound method Response.json of <Response [429]>>\n",
      "Error: 429 - {\n",
      "  \"error\" : {\n",
      "    \"status\" : 429\n",
      "  }\n",
      "}\n",
      "<bound method Response.json of <Response [429]>>\n"
     ]
    },
    {
     "name": "stderr",
     "output_type": "stream",
     "text": [
      "\r",
      "api_call...:  55%|██████████████▉            | 592/1073 [05:20<01:56,  4.12it/s]"
     ]
    },
    {
     "name": "stdout",
     "output_type": "stream",
     "text": [
      "Error: 429 - {\n",
      "  \"error\" : {\n",
      "    \"status\" : 429\n",
      "  }\n",
      "}\n",
      "<bound method Response.json of <Response [429]>>\n"
     ]
    },
    {
     "name": "stderr",
     "output_type": "stream",
     "text": [
      "\r",
      "api_call...:  55%|██████████████▉            | 593/1073 [05:21<02:04,  3.85it/s]"
     ]
    },
    {
     "name": "stdout",
     "output_type": "stream",
     "text": [
      "Error: 429 - {\n",
      "  \"error\" : {\n",
      "    \"status\" : 429\n",
      "  }\n",
      "}\n",
      "<bound method Response.json of <Response [429]>>\n"
     ]
    },
    {
     "name": "stderr",
     "output_type": "stream",
     "text": [
      "\r",
      "api_call...:  55%|██████████████▉            | 594/1073 [05:21<02:01,  3.93it/s]"
     ]
    },
    {
     "name": "stdout",
     "output_type": "stream",
     "text": [
      "Error: 429 - {\n",
      "  \"error\" : {\n",
      "    \"status\" : 429\n",
      "  }\n",
      "}\n",
      "<bound method Response.json of <Response [429]>>\n"
     ]
    },
    {
     "name": "stderr",
     "output_type": "stream",
     "text": [
      "api_call...:  56%|██████████████▉            | 596/1073 [05:21<01:39,  4.79it/s]"
     ]
    },
    {
     "name": "stdout",
     "output_type": "stream",
     "text": [
      "Error: 429 - {\n",
      "  \"error\" : {\n",
      "    \"status\" : 429\n",
      "  }\n",
      "}\n",
      "<bound method Response.json of <Response [429]>>\n",
      "Error: 429 - {\n",
      "  \"error\" : {\n",
      "    \"status\" : 429\n",
      "  }\n",
      "}\n",
      "<bound method Response.json of <Response [429]>>\n"
     ]
    },
    {
     "name": "stderr",
     "output_type": "stream",
     "text": [
      "\r",
      "api_call...:  56%|███████████████            | 597/1073 [05:22<01:32,  5.15it/s]"
     ]
    },
    {
     "name": "stdout",
     "output_type": "stream",
     "text": [
      "Error: 429 - {\n",
      "  \"error\" : {\n",
      "    \"status\" : 429\n",
      "  }\n",
      "}\n",
      "<bound method Response.json of <Response [429]>>\n"
     ]
    },
    {
     "name": "stderr",
     "output_type": "stream",
     "text": [
      "api_call...:  56%|███████████████            | 599/1073 [05:22<01:24,  5.58it/s]"
     ]
    },
    {
     "name": "stdout",
     "output_type": "stream",
     "text": [
      "Error: 429 - {\n",
      "  \"error\" : {\n",
      "    \"status\" : 429\n",
      "  }\n",
      "}\n",
      "<bound method Response.json of <Response [429]>>\n",
      "Error: 429 - {\n",
      "  \"error\" : {\n",
      "    \"status\" : 429\n",
      "  }\n",
      "}\n",
      "<bound method Response.json of <Response [429]>>\n"
     ]
    },
    {
     "name": "stderr",
     "output_type": "stream",
     "text": [
      "\r",
      "api_call...:  56%|███████████████            | 600/1073 [05:22<01:24,  5.58it/s]"
     ]
    },
    {
     "name": "stdout",
     "output_type": "stream",
     "text": [
      "Error: 429 - {\n",
      "  \"error\" : {\n",
      "    \"status\" : 429\n",
      "  }\n",
      "}\n",
      "<bound method Response.json of <Response [429]>>\n"
     ]
    },
    {
     "name": "stderr",
     "output_type": "stream",
     "text": [
      "api_call...:  56%|███████████████▏           | 602/1073 [05:57<59:07,  7.53s/it]"
     ]
    },
    {
     "name": "stdout",
     "output_type": "stream",
     "text": [
      "Error: 429 - {\n",
      "  \"error\" : {\n",
      "    \"status\" : 429\n",
      "  }\n",
      "}\n",
      "<bound method Response.json of <Response [429]>>\n",
      "Error: 429 - {\n",
      "  \"error\" : {\n",
      "    \"status\" : 429\n",
      "  }\n",
      "}\n",
      "<bound method Response.json of <Response [429]>>\n"
     ]
    },
    {
     "name": "stderr",
     "output_type": "stream",
     "text": [
      "api_call...:  56%|███████████████▏           | 604/1073 [05:58<29:21,  3.76s/it]"
     ]
    },
    {
     "name": "stdout",
     "output_type": "stream",
     "text": [
      "Error: 429 - {\n",
      "  \"error\" : {\n",
      "    \"status\" : 429\n",
      "  }\n",
      "}\n",
      "<bound method Response.json of <Response [429]>>\n",
      "Error: 429 - {\n",
      "  \"error\" : {\n",
      "    \"status\" : 429\n",
      "  }\n",
      "}\n",
      "<bound method Response.json of <Response [429]>>\n"
     ]
    },
    {
     "name": "stderr",
     "output_type": "stream",
     "text": [
      "api_call...:  56%|███████████████▏           | 606/1073 [05:58<14:58,  1.92s/it]"
     ]
    },
    {
     "name": "stdout",
     "output_type": "stream",
     "text": [
      "Error: 429 - {\n",
      "  \"error\" : {\n",
      "    \"status\" : 429\n",
      "  }\n",
      "}\n",
      "<bound method Response.json of <Response [429]>>\n",
      "Error: 429 - {\n",
      "  \"error\" : {\n",
      "    \"status\" : 429\n",
      "  }\n",
      "}\n",
      "<bound method Response.json of <Response [429]>>\n"
     ]
    },
    {
     "name": "stderr",
     "output_type": "stream",
     "text": [
      "\r",
      "api_call...:  57%|███████████████▎           | 607/1073 [05:58<10:52,  1.40s/it]"
     ]
    },
    {
     "name": "stdout",
     "output_type": "stream",
     "text": [
      "Error: 429 - {\n",
      "  \"error\" : {\n",
      "    \"status\" : 429\n",
      "  }\n",
      "}\n",
      "<bound method Response.json of <Response [429]>>\n"
     ]
    },
    {
     "name": "stderr",
     "output_type": "stream",
     "text": [
      "api_call...:  57%|███████████████▎           | 609/1073 [05:59<05:58,  1.29it/s]"
     ]
    },
    {
     "name": "stdout",
     "output_type": "stream",
     "text": [
      "Error: 429 - {\n",
      "  \"error\" : {\n",
      "    \"status\" : 429\n",
      "  }\n",
      "}\n",
      "<bound method Response.json of <Response [429]>>\n",
      "Error: 429 - {\n",
      "  \"error\" : {\n",
      "    \"status\" : 429\n",
      "  }\n",
      "}\n",
      "<bound method Response.json of <Response [429]>>\n"
     ]
    },
    {
     "name": "stderr",
     "output_type": "stream",
     "text": [
      "api_call...:  57%|███████████████▎           | 611/1073 [05:59<03:30,  2.19it/s]"
     ]
    },
    {
     "name": "stdout",
     "output_type": "stream",
     "text": [
      "Error: 429 - {\n",
      "  \"error\" : {\n",
      "    \"status\" : 429\n",
      "  }\n",
      "}\n",
      "<bound method Response.json of <Response [429]>>\n",
      "Error: 429 - {\n",
      "  \"error\" : {\n",
      "    \"status\" : 429\n",
      "  }\n",
      "}\n",
      "<bound method Response.json of <Response [429]>>\n"
     ]
    },
    {
     "name": "stderr",
     "output_type": "stream",
     "text": [
      "api_call...:  57%|███████████████▍           | 613/1073 [05:59<02:15,  3.40it/s]"
     ]
    },
    {
     "name": "stdout",
     "output_type": "stream",
     "text": [
      "Error: 429 - {\n",
      "  \"error\" : {\n",
      "    \"status\" : 429\n",
      "  }\n",
      "}\n",
      "<bound method Response.json of <Response [429]>>\n",
      "Error: 429 - {\n",
      "  \"error\" : {\n",
      "    \"status\" : 429\n",
      "  }\n",
      "}\n",
      "<bound method Response.json of <Response [429]>>\n"
     ]
    },
    {
     "name": "stderr",
     "output_type": "stream",
     "text": [
      "\r",
      "api_call...:  57%|███████████████▍           | 614/1073 [05:59<02:08,  3.56it/s]"
     ]
    },
    {
     "name": "stdout",
     "output_type": "stream",
     "text": [
      "Error: 429 - {\n",
      "  \"error\" : {\n",
      "    \"status\" : 429\n",
      "  }\n",
      "}\n",
      "<bound method Response.json of <Response [429]>>\n"
     ]
    },
    {
     "name": "stderr",
     "output_type": "stream",
     "text": [
      "\r",
      "api_call...:  57%|███████████████▍           | 615/1073 [06:00<02:29,  3.07it/s]"
     ]
    },
    {
     "name": "stdout",
     "output_type": "stream",
     "text": [
      "Error: 429 - {\n",
      "  \"error\" : {\n",
      "    \"status\" : 429\n",
      "  }\n",
      "}\n",
      "<bound method Response.json of <Response [429]>>\n"
     ]
    },
    {
     "name": "stderr",
     "output_type": "stream",
     "text": [
      "api_call...:  58%|███████████████▌           | 617/1073 [06:00<01:53,  4.01it/s]"
     ]
    },
    {
     "name": "stdout",
     "output_type": "stream",
     "text": [
      "Error: 429 - {\n",
      "  \"error\" : {\n",
      "    \"status\" : 429\n",
      "  }\n",
      "}\n",
      "<bound method Response.json of <Response [429]>>\n",
      "Error: 429 - {\n",
      "  \"error\" : {\n",
      "    \"status\" : 429\n",
      "  }\n",
      "}\n",
      "<bound method Response.json of <Response [429]>>\n"
     ]
    },
    {
     "name": "stderr",
     "output_type": "stream",
     "text": [
      "api_call...:  58%|███████████████▌           | 619/1073 [06:01<01:38,  4.63it/s]"
     ]
    },
    {
     "name": "stdout",
     "output_type": "stream",
     "text": [
      "Error: 429 - {\n",
      "  \"error\" : {\n",
      "    \"status\" : 429\n",
      "  }\n",
      "}\n",
      "<bound method Response.json of <Response [429]>>\n",
      "Error: 429 - {\n",
      "  \"error\" : {\n",
      "    \"status\" : 429\n",
      "  }\n",
      "}\n",
      "<bound method Response.json of <Response [429]>>\n"
     ]
    },
    {
     "name": "stderr",
     "output_type": "stream",
     "text": [
      "api_call...:  58%|███████████████▋           | 621/1073 [06:01<01:19,  5.69it/s]"
     ]
    },
    {
     "name": "stdout",
     "output_type": "stream",
     "text": [
      "Error: 429 - {\n",
      "  \"error\" : {\n",
      "    \"status\" : 429\n",
      "  }\n",
      "}\n",
      "<bound method Response.json of <Response [429]>>\n",
      "Error: 429 - {\n",
      "  \"error\" : {\n",
      "    \"status\" : 429\n",
      "  }\n",
      "}\n",
      "<bound method Response.json of <Response [429]>>\n"
     ]
    },
    {
     "name": "stderr",
     "output_type": "stream",
     "text": [
      "api_call...:  58%|███████████████▋           | 623/1073 [06:01<01:16,  5.90it/s]"
     ]
    },
    {
     "name": "stdout",
     "output_type": "stream",
     "text": [
      "Error: 429 - {\n",
      "  \"error\" : {\n",
      "    \"status\" : 429\n",
      "  }\n",
      "}\n",
      "<bound method Response.json of <Response [429]>>\n",
      "Error: 429 - {\n",
      "  \"error\" : {\n",
      "    \"status\" : 429\n",
      "  }\n",
      "}\n",
      "<bound method Response.json of <Response [429]>>\n"
     ]
    },
    {
     "name": "stderr",
     "output_type": "stream",
     "text": [
      "\r",
      "api_call...:  58%|███████████████▋           | 624/1073 [06:01<01:15,  5.93it/s]"
     ]
    },
    {
     "name": "stdout",
     "output_type": "stream",
     "text": [
      "Error: 429 - {\n",
      "  \"error\" : {\n",
      "    \"status\" : 429\n",
      "  }\n",
      "}\n",
      "<bound method Response.json of <Response [429]>>\n"
     ]
    },
    {
     "name": "stderr",
     "output_type": "stream",
     "text": [
      "api_call...:  58%|███████████████▊           | 626/1073 [06:02<02:05,  3.57it/s]"
     ]
    },
    {
     "name": "stdout",
     "output_type": "stream",
     "text": [
      "Error: 429 - {\n",
      "  \"error\" : {\n",
      "    \"status\" : 429\n",
      "  }\n",
      "}\n",
      "<bound method Response.json of <Response [429]>>\n",
      "Error: 429 - {\n",
      "  \"error\" : {\n",
      "    \"status\" : 429\n",
      "  }\n",
      "}\n",
      "<bound method Response.json of <Response [429]>>\n"
     ]
    },
    {
     "name": "stderr",
     "output_type": "stream",
     "text": [
      "api_call...:  59%|███████████████▊           | 628/1073 [06:03<01:33,  4.76it/s]"
     ]
    },
    {
     "name": "stdout",
     "output_type": "stream",
     "text": [
      "Error: 429 - {\n",
      "  \"error\" : {\n",
      "    \"status\" : 429\n",
      "  }\n",
      "}\n",
      "<bound method Response.json of <Response [429]>>\n",
      "Error: 429 - {\n",
      "  \"error\" : {\n",
      "    \"status\" : 429\n",
      "  }\n",
      "}\n",
      "<bound method Response.json of <Response [429]>>\n"
     ]
    },
    {
     "name": "stderr",
     "output_type": "stream",
     "text": [
      "api_call...:  59%|███████████████▊           | 630/1073 [06:03<01:16,  5.82it/s]"
     ]
    },
    {
     "name": "stdout",
     "output_type": "stream",
     "text": [
      "Error: 429 - {\n",
      "  \"error\" : {\n",
      "    \"status\" : 429\n",
      "  }\n",
      "}\n",
      "<bound method Response.json of <Response [429]>>\n",
      "Error: 429 - {\n",
      "  \"error\" : {\n",
      "    \"status\" : 429\n",
      "  }\n",
      "}\n",
      "<bound method Response.json of <Response [429]>>\n"
     ]
    },
    {
     "name": "stderr",
     "output_type": "stream",
     "text": [
      "\r",
      "api_call...:  59%|███████████████▉           | 631/1073 [06:03<01:10,  6.25it/s]"
     ]
    },
    {
     "name": "stdout",
     "output_type": "stream",
     "text": [
      "Error: 429 - {\n",
      "  \"error\" : {\n",
      "    \"status\" : 429\n",
      "  }\n",
      "}\n",
      "<bound method Response.json of <Response [429]>>\n"
     ]
    },
    {
     "name": "stderr",
     "output_type": "stream",
     "text": [
      "api_call...:  59%|███████████████▉           | 633/1073 [06:03<01:11,  6.15it/s]"
     ]
    },
    {
     "name": "stdout",
     "output_type": "stream",
     "text": [
      "Error: 429 - {\n",
      "  \"error\" : {\n",
      "    \"status\" : 429\n",
      "  }\n",
      "}\n",
      "<bound method Response.json of <Response [429]>>\n",
      "Error: 429 - {\n",
      "  \"error\" : {\n",
      "    \"status\" : 429\n",
      "  }\n",
      "}\n",
      "<bound method Response.json of <Response [429]>>\n"
     ]
    },
    {
     "name": "stderr",
     "output_type": "stream",
     "text": [
      "\r",
      "api_call...:  59%|███████████████▉           | 634/1073 [06:03<01:11,  6.12it/s]"
     ]
    },
    {
     "name": "stdout",
     "output_type": "stream",
     "text": [
      "Error: 429 - {\n",
      "  \"error\" : {\n",
      "    \"status\" : 429\n",
      "  }\n",
      "}\n",
      "<bound method Response.json of <Response [429]>>\n"
     ]
    },
    {
     "name": "stderr",
     "output_type": "stream",
     "text": [
      "api_call...:  59%|████████████████           | 636/1073 [06:04<01:15,  5.82it/s]"
     ]
    },
    {
     "name": "stdout",
     "output_type": "stream",
     "text": [
      "Error: 429 - {\n",
      "  \"error\" : {\n",
      "    \"status\" : 429\n",
      "  }\n",
      "}\n",
      "<bound method Response.json of <Response [429]>>\n",
      "Error: 429 - {\n",
      "  \"error\" : {\n",
      "    \"status\" : 429\n",
      "  }\n",
      "}\n",
      "<bound method Response.json of <Response [429]>>\n"
     ]
    },
    {
     "name": "stderr",
     "output_type": "stream",
     "text": [
      "api_call...:  59%|████████████████           | 638/1073 [06:04<01:09,  6.28it/s]"
     ]
    },
    {
     "name": "stdout",
     "output_type": "stream",
     "text": [
      "Error: 429 - {\n",
      "  \"error\" : {\n",
      "    \"status\" : 429\n",
      "  }\n",
      "}\n",
      "<bound method Response.json of <Response [429]>>\n",
      "Error: 429 - {\n",
      "  \"error\" : {\n",
      "    \"status\" : 429\n",
      "  }\n",
      "}\n",
      "<bound method Response.json of <Response [429]>>\n"
     ]
    },
    {
     "name": "stderr",
     "output_type": "stream",
     "text": [
      "api_call...:  60%|████████████████           | 640/1073 [06:04<01:00,  7.13it/s]"
     ]
    },
    {
     "name": "stdout",
     "output_type": "stream",
     "text": [
      "Error: 429 - {\n",
      "  \"error\" : {\n",
      "    \"status\" : 429\n",
      "  }\n",
      "}\n",
      "<bound method Response.json of <Response [429]>>\n",
      "Error: 429 - {\n",
      "  \"error\" : {\n",
      "    \"status\" : 429\n",
      "  }\n",
      "}\n",
      "<bound method Response.json of <Response [429]>>\n"
     ]
    },
    {
     "name": "stderr",
     "output_type": "stream",
     "text": [
      "api_call...:  60%|████████████████▏          | 642/1073 [06:05<01:00,  7.18it/s]"
     ]
    },
    {
     "name": "stdout",
     "output_type": "stream",
     "text": [
      "Error: 429 - {\n",
      "  \"error\" : {\n",
      "    \"status\" : 429\n",
      "  }\n",
      "}\n",
      "<bound method Response.json of <Response [429]>>\n",
      "Error: 429 - {\n",
      "  \"error\" : {\n",
      "    \"status\" : 429\n",
      "  }\n",
      "}\n",
      "<bound method Response.json of <Response [429]>>\n"
     ]
    },
    {
     "name": "stderr",
     "output_type": "stream",
     "text": [
      "api_call...:  60%|████████████████▏          | 644/1073 [06:05<00:58,  7.36it/s]"
     ]
    },
    {
     "name": "stdout",
     "output_type": "stream",
     "text": [
      "Error: 429 - {\n",
      "  \"error\" : {\n",
      "    \"status\" : 429\n",
      "  }\n",
      "}\n",
      "<bound method Response.json of <Response [429]>>\n",
      "Error: 429 - {\n",
      "  \"error\" : {\n",
      "    \"status\" : 429\n",
      "  }\n",
      "}\n",
      "<bound method Response.json of <Response [429]>>\n"
     ]
    },
    {
     "name": "stderr",
     "output_type": "stream",
     "text": [
      "api_call...:  60%|████████████████▎          | 646/1073 [06:05<00:58,  7.29it/s]"
     ]
    },
    {
     "name": "stdout",
     "output_type": "stream",
     "text": [
      "Error: 429 - {\n",
      "  \"error\" : {\n",
      "    \"status\" : 429\n",
      "  }\n",
      "}\n",
      "<bound method Response.json of <Response [429]>>\n",
      "Error: 429 - {\n",
      "  \"error\" : {\n",
      "    \"status\" : 429\n",
      "  }\n",
      "}\n",
      "<bound method Response.json of <Response [429]>>\n"
     ]
    },
    {
     "name": "stderr",
     "output_type": "stream",
     "text": [
      "api_call...:  60%|████████████████▎          | 648/1073 [06:05<00:55,  7.64it/s]"
     ]
    },
    {
     "name": "stdout",
     "output_type": "stream",
     "text": [
      "Error: 429 - {\n",
      "  \"error\" : {\n",
      "    \"status\" : 429\n",
      "  }\n",
      "}\n",
      "<bound method Response.json of <Response [429]>>\n",
      "Error: 429 - {\n",
      "  \"error\" : {\n",
      "    \"status\" : 429\n",
      "  }\n",
      "}\n",
      "<bound method Response.json of <Response [429]>>\n"
     ]
    },
    {
     "name": "stderr",
     "output_type": "stream",
     "text": [
      "api_call...:  61%|████████████████▎          | 650/1073 [06:06<01:04,  6.57it/s]"
     ]
    },
    {
     "name": "stdout",
     "output_type": "stream",
     "text": [
      "Error: 429 - {\n",
      "  \"error\" : {\n",
      "    \"status\" : 429\n",
      "  }\n",
      "}\n",
      "<bound method Response.json of <Response [429]>>\n",
      "Error: 429 - {\n",
      "  \"error\" : {\n",
      "    \"status\" : 429\n",
      "  }\n",
      "}\n",
      "<bound method Response.json of <Response [429]>>\n"
     ]
    },
    {
     "name": "stderr",
     "output_type": "stream",
     "text": [
      "api_call...:  61%|████████████████▍          | 652/1073 [06:06<00:59,  7.04it/s]"
     ]
    },
    {
     "name": "stdout",
     "output_type": "stream",
     "text": [
      "Error: 429 - {\n",
      "  \"error\" : {\n",
      "    \"status\" : 429\n",
      "  }\n",
      "}\n",
      "<bound method Response.json of <Response [429]>>\n",
      "Error: 429 - {\n",
      "  \"error\" : {\n",
      "    \"status\" : 429\n",
      "  }\n",
      "}\n",
      "<bound method Response.json of <Response [429]>>\n"
     ]
    },
    {
     "name": "stderr",
     "output_type": "stream",
     "text": [
      "api_call...:  61%|████████████████▍          | 654/1073 [06:06<00:58,  7.14it/s]"
     ]
    },
    {
     "name": "stdout",
     "output_type": "stream",
     "text": [
      "Error: 429 - {\n",
      "  \"error\" : {\n",
      "    \"status\" : 429\n",
      "  }\n",
      "}\n",
      "<bound method Response.json of <Response [429]>>\n",
      "Error: 429 - {\n",
      "  \"error\" : {\n",
      "    \"status\" : 429\n",
      "  }\n",
      "}\n",
      "<bound method Response.json of <Response [429]>>\n"
     ]
    },
    {
     "name": "stderr",
     "output_type": "stream",
     "text": [
      "api_call...:  61%|████████████████▌          | 656/1073 [06:07<00:56,  7.35it/s]"
     ]
    },
    {
     "name": "stdout",
     "output_type": "stream",
     "text": [
      "Error: 429 - {\n",
      "  \"error\" : {\n",
      "    \"status\" : 429\n",
      "  }\n",
      "}\n",
      "<bound method Response.json of <Response [429]>>\n",
      "Error: 429 - {\n",
      "  \"error\" : {\n",
      "    \"status\" : 429\n",
      "  }\n",
      "}\n",
      "<bound method Response.json of <Response [429]>>\n"
     ]
    },
    {
     "name": "stderr",
     "output_type": "stream",
     "text": [
      "api_call...:  61%|████████████████▌          | 658/1073 [06:07<01:03,  6.53it/s]"
     ]
    },
    {
     "name": "stdout",
     "output_type": "stream",
     "text": [
      "Error: 429 - {\n",
      "  \"error\" : {\n",
      "    \"status\" : 429\n",
      "  }\n",
      "}\n",
      "<bound method Response.json of <Response [429]>>\n",
      "Error: 429 - {\n",
      "  \"error\" : {\n",
      "    \"status\" : 429\n",
      "  }\n",
      "}\n",
      "<bound method Response.json of <Response [429]>>\n"
     ]
    },
    {
     "name": "stderr",
     "output_type": "stream",
     "text": [
      "api_call...:  62%|████████████████▌          | 660/1073 [06:07<01:06,  6.22it/s]"
     ]
    },
    {
     "name": "stdout",
     "output_type": "stream",
     "text": [
      "Error: 429 - {\n",
      "  \"error\" : {\n",
      "    \"status\" : 429\n",
      "  }\n",
      "}\n",
      "<bound method Response.json of <Response [429]>>\n",
      "Error: 429 - {\n",
      "  \"error\" : {\n",
      "    \"status\" : 429\n",
      "  }\n",
      "}\n",
      "<bound method Response.json of <Response [429]>>\n"
     ]
    },
    {
     "name": "stderr",
     "output_type": "stream",
     "text": [
      "api_call...:  62%|████████████████▋          | 662/1073 [06:08<00:58,  7.01it/s]"
     ]
    },
    {
     "name": "stdout",
     "output_type": "stream",
     "text": [
      "Error: 429 - {\n",
      "  \"error\" : {\n",
      "    \"status\" : 429\n",
      "  }\n",
      "}\n",
      "<bound method Response.json of <Response [429]>>\n",
      "Error: 429 - {\n",
      "  \"error\" : {\n",
      "    \"status\" : 429\n",
      "  }\n",
      "}\n",
      "<bound method Response.json of <Response [429]>>\n"
     ]
    },
    {
     "name": "stderr",
     "output_type": "stream",
     "text": [
      "api_call...:  62%|████████████████▋          | 664/1073 [06:08<01:05,  6.24it/s]"
     ]
    },
    {
     "name": "stdout",
     "output_type": "stream",
     "text": [
      "Error: 429 - {\n",
      "  \"error\" : {\n",
      "    \"status\" : 429\n",
      "  }\n",
      "}\n",
      "<bound method Response.json of <Response [429]>>\n",
      "Error: 429 - {\n",
      "  \"error\" : {\n",
      "    \"status\" : 429\n",
      "  }\n",
      "}\n",
      "<bound method Response.json of <Response [429]>>\n"
     ]
    },
    {
     "name": "stderr",
     "output_type": "stream",
     "text": [
      "api_call...:  62%|████████████████▊          | 666/1073 [06:08<00:58,  6.91it/s]"
     ]
    },
    {
     "name": "stdout",
     "output_type": "stream",
     "text": [
      "Error: 429 - {\n",
      "  \"error\" : {\n",
      "    \"status\" : 429\n",
      "  }\n",
      "}\n",
      "<bound method Response.json of <Response [429]>>\n",
      "Error: 429 - {\n",
      "  \"error\" : {\n",
      "    \"status\" : 429\n",
      "  }\n",
      "}\n",
      "<bound method Response.json of <Response [429]>>\n"
     ]
    },
    {
     "name": "stderr",
     "output_type": "stream",
     "text": [
      "api_call...:  62%|████████████████▊          | 668/1073 [06:09<01:04,  6.27it/s]"
     ]
    },
    {
     "name": "stdout",
     "output_type": "stream",
     "text": [
      "Error: 429 - {\n",
      "  \"error\" : {\n",
      "    \"status\" : 429\n",
      "  }\n",
      "}\n",
      "<bound method Response.json of <Response [429]>>\n",
      "Error: 429 - {\n",
      "  \"error\" : {\n",
      "    \"status\" : 429\n",
      "  }\n",
      "}\n",
      "<bound method Response.json of <Response [429]>>\n"
     ]
    },
    {
     "name": "stderr",
     "output_type": "stream",
     "text": [
      "\r",
      "api_call...:  62%|████████████████▊          | 669/1073 [06:09<01:04,  6.27it/s]"
     ]
    },
    {
     "name": "stdout",
     "output_type": "stream",
     "text": [
      "Error: 429 - {\n",
      "  \"error\" : {\n",
      "    \"status\" : 429\n",
      "  }\n",
      "}\n",
      "<bound method Response.json of <Response [429]>>\n"
     ]
    },
    {
     "name": "stderr",
     "output_type": "stream",
     "text": [
      "\r",
      "api_call...:  62%|████████████████▊          | 670/1073 [06:09<01:38,  4.08it/s]"
     ]
    },
    {
     "name": "stdout",
     "output_type": "stream",
     "text": [
      "Error: 429 - {\n",
      "  \"error\" : {\n",
      "    \"status\" : 429\n",
      "  }\n",
      "}\n",
      "<bound method Response.json of <Response [429]>>\n"
     ]
    },
    {
     "name": "stderr",
     "output_type": "stream",
     "text": [
      "api_call...:  63%|████████████████▉          | 672/1073 [06:09<01:21,  4.91it/s]"
     ]
    },
    {
     "name": "stdout",
     "output_type": "stream",
     "text": [
      "Error: 429 - {\n",
      "  \"error\" : {\n",
      "    \"status\" : 429\n",
      "  }\n",
      "}\n",
      "<bound method Response.json of <Response [429]>>\n",
      "Error: 429 - {\n",
      "  \"error\" : {\n",
      "    \"status\" : 429\n",
      "  }\n",
      "}\n",
      "<bound method Response.json of <Response [429]>>\n"
     ]
    },
    {
     "name": "stderr",
     "output_type": "stream",
     "text": [
      "\r",
      "api_call...:  63%|████████████████▉          | 673/1073 [06:10<01:12,  5.49it/s]"
     ]
    },
    {
     "name": "stdout",
     "output_type": "stream",
     "text": [
      "Error: 429 - {\n",
      "  \"error\" : {\n",
      "    \"status\" : 429\n",
      "  }\n",
      "}\n",
      "<bound method Response.json of <Response [429]>>\n"
     ]
    },
    {
     "name": "stderr",
     "output_type": "stream",
     "text": [
      "api_call...:  63%|████████████████▉          | 675/1073 [06:10<01:13,  5.43it/s]"
     ]
    },
    {
     "name": "stdout",
     "output_type": "stream",
     "text": [
      "Error: 429 - {\n",
      "  \"error\" : {\n",
      "    \"status\" : 429\n",
      "  }\n",
      "}\n",
      "<bound method Response.json of <Response [429]>>\n",
      "Error: 429 - {\n",
      "  \"error\" : {\n",
      "    \"status\" : 429\n",
      "  }\n",
      "}\n",
      "<bound method Response.json of <Response [429]>>\n"
     ]
    },
    {
     "name": "stderr",
     "output_type": "stream",
     "text": [
      "\r",
      "api_call...:  63%|█████████████████          | 676/1073 [06:10<01:13,  5.40it/s]"
     ]
    },
    {
     "name": "stdout",
     "output_type": "stream",
     "text": [
      "Error: 429 - {\n",
      "  \"error\" : {\n",
      "    \"status\" : 429\n",
      "  }\n",
      "}\n",
      "<bound method Response.json of <Response [429]>>\n"
     ]
    },
    {
     "name": "stderr",
     "output_type": "stream",
     "text": [
      "\r",
      "api_call...:  63%|█████████████████          | 677/1073 [06:11<02:06,  3.13it/s]"
     ]
    },
    {
     "name": "stdout",
     "output_type": "stream",
     "text": [
      "Error: 429 - {\n",
      "  \"error\" : {\n",
      "    \"status\" : 429\n",
      "  }\n",
      "}\n",
      "<bound method Response.json of <Response [429]>>\n"
     ]
    },
    {
     "name": "stderr",
     "output_type": "stream",
     "text": [
      "api_call...:  63%|█████████████████          | 679/1073 [06:11<01:35,  4.12it/s]"
     ]
    },
    {
     "name": "stdout",
     "output_type": "stream",
     "text": [
      "Error: 429 - {\n",
      "  \"error\" : {\n",
      "    \"status\" : 429\n",
      "  }\n",
      "}\n",
      "<bound method Response.json of <Response [429]>>\n",
      "Error: 429 - {\n",
      "  \"error\" : {\n",
      "    \"status\" : 429\n",
      "  }\n",
      "}\n",
      "<bound method Response.json of <Response [429]>>\n"
     ]
    },
    {
     "name": "stderr",
     "output_type": "stream",
     "text": [
      "\r",
      "api_call...:  63%|█████████████████          | 680/1073 [06:11<01:22,  4.74it/s]"
     ]
    },
    {
     "name": "stdout",
     "output_type": "stream",
     "text": [
      "Error: 429 - {\n",
      "  \"error\" : {\n",
      "    \"status\" : 429\n",
      "  }\n",
      "}\n",
      "<bound method Response.json of <Response [429]>>\n"
     ]
    },
    {
     "name": "stderr",
     "output_type": "stream",
     "text": [
      "api_call...:  64%|█████████████████▏         | 682/1073 [06:12<01:13,  5.33it/s]"
     ]
    },
    {
     "name": "stdout",
     "output_type": "stream",
     "text": [
      "Error: 429 - {\n",
      "  \"error\" : {\n",
      "    \"status\" : 429\n",
      "  }\n",
      "}\n",
      "<bound method Response.json of <Response [429]>>\n",
      "Error: 429 - {\n",
      "  \"error\" : {\n",
      "    \"status\" : 429\n",
      "  }\n",
      "}\n",
      "<bound method Response.json of <Response [429]>>\n"
     ]
    },
    {
     "name": "stderr",
     "output_type": "stream",
     "text": [
      "api_call...:  64%|█████████████████▏         | 684/1073 [06:12<01:05,  5.94it/s]"
     ]
    },
    {
     "name": "stdout",
     "output_type": "stream",
     "text": [
      "Error: 429 - {\n",
      "  \"error\" : {\n",
      "    \"status\" : 429\n",
      "  }\n",
      "}\n",
      "<bound method Response.json of <Response [429]>>\n",
      "Error: 429 - {\n",
      "  \"error\" : {\n",
      "    \"status\" : 429\n",
      "  }\n",
      "}\n",
      "<bound method Response.json of <Response [429]>>\n"
     ]
    },
    {
     "name": "stderr",
     "output_type": "stream",
     "text": [
      "api_call...:  64%|█████████████████▎         | 686/1073 [06:12<00:57,  6.78it/s]"
     ]
    },
    {
     "name": "stdout",
     "output_type": "stream",
     "text": [
      "Error: 429 - {\n",
      "  \"error\" : {\n",
      "    \"status\" : 429\n",
      "  }\n",
      "}\n",
      "<bound method Response.json of <Response [429]>>\n",
      "Error: 429 - {\n",
      "  \"error\" : {\n",
      "    \"status\" : 429\n",
      "  }\n",
      "}\n",
      "<bound method Response.json of <Response [429]>>\n"
     ]
    },
    {
     "name": "stderr",
     "output_type": "stream",
     "text": [
      "\r",
      "api_call...:  64%|█████████████████▎         | 687/1073 [06:12<00:55,  6.97it/s]"
     ]
    },
    {
     "name": "stdout",
     "output_type": "stream",
     "text": [
      "Error: 429 - {\n",
      "  \"error\" : {\n",
      "    \"status\" : 429\n",
      "  }\n",
      "}\n",
      "<bound method Response.json of <Response [429]>>\n"
     ]
    },
    {
     "name": "stderr",
     "output_type": "stream",
     "text": [
      "\r",
      "api_call...:  64%|█████████████████▎         | 688/1073 [06:13<01:05,  5.84it/s]"
     ]
    },
    {
     "name": "stdout",
     "output_type": "stream",
     "text": [
      "Error: 429 - {\n",
      "  \"error\" : {\n",
      "    \"status\" : 429\n",
      "  }\n",
      "}\n",
      "<bound method Response.json of <Response [429]>>\n"
     ]
    },
    {
     "name": "stderr",
     "output_type": "stream",
     "text": [
      "api_call...:  64%|█████████████████▎         | 690/1073 [06:13<01:28,  4.35it/s]"
     ]
    },
    {
     "name": "stdout",
     "output_type": "stream",
     "text": [
      "Error: 429 - {\n",
      "  \"error\" : {\n",
      "    \"status\" : 429\n",
      "  }\n",
      "}\n",
      "<bound method Response.json of <Response [429]>>\n",
      "Error: 429 - {\n",
      "  \"error\" : {\n",
      "    \"status\" : 429\n",
      "  }\n",
      "}\n",
      "<bound method Response.json of <Response [429]>>\n"
     ]
    },
    {
     "name": "stderr",
     "output_type": "stream",
     "text": [
      "api_call...:  64%|█████████████████▍         | 692/1073 [06:14<01:13,  5.18it/s]"
     ]
    },
    {
     "name": "stdout",
     "output_type": "stream",
     "text": [
      "Error: 429 - {\n",
      "  \"error\" : {\n",
      "    \"status\" : 429\n",
      "  }\n",
      "}\n",
      "<bound method Response.json of <Response [429]>>\n",
      "Error: 429 - {\n",
      "  \"error\" : {\n",
      "    \"status\" : 429\n",
      "  }\n",
      "}\n",
      "<bound method Response.json of <Response [429]>>\n"
     ]
    },
    {
     "name": "stderr",
     "output_type": "stream",
     "text": [
      "api_call...:  65%|█████████████████▍         | 694/1073 [06:14<01:01,  6.13it/s]"
     ]
    },
    {
     "name": "stdout",
     "output_type": "stream",
     "text": [
      "Error: 429 - {\n",
      "  \"error\" : {\n",
      "    \"status\" : 429\n",
      "  }\n",
      "}\n",
      "<bound method Response.json of <Response [429]>>\n",
      "Error: 429 - {\n",
      "  \"error\" : {\n",
      "    \"status\" : 429\n",
      "  }\n",
      "}\n",
      "<bound method Response.json of <Response [429]>>\n"
     ]
    },
    {
     "name": "stderr",
     "output_type": "stream",
     "text": [
      "\r",
      "api_call...:  65%|█████████████████▍         | 695/1073 [06:14<01:47,  3.51it/s]"
     ]
    },
    {
     "name": "stdout",
     "output_type": "stream",
     "text": [
      "Error: 429 - {\n",
      "  \"error\" : {\n",
      "    \"status\" : 429\n",
      "  }\n",
      "}\n",
      "<bound method Response.json of <Response [429]>>\n"
     ]
    },
    {
     "name": "stderr",
     "output_type": "stream",
     "text": [
      "api_call...:  65%|█████████████████▌         | 697/1073 [06:15<01:24,  4.47it/s]"
     ]
    },
    {
     "name": "stdout",
     "output_type": "stream",
     "text": [
      "Error: 429 - {\n",
      "  \"error\" : {\n",
      "    \"status\" : 429\n",
      "  }\n",
      "}\n",
      "<bound method Response.json of <Response [429]>>\n",
      "Error: 429 - {\n",
      "  \"error\" : {\n",
      "    \"status\" : 429\n",
      "  }\n",
      "}\n",
      "<bound method Response.json of <Response [429]>>\n"
     ]
    },
    {
     "name": "stderr",
     "output_type": "stream",
     "text": [
      "\r",
      "api_call...:  65%|█████████████████▌         | 698/1073 [06:15<01:16,  4.93it/s]"
     ]
    },
    {
     "name": "stdout",
     "output_type": "stream",
     "text": [
      "Error: 429 - {\n",
      "  \"error\" : {\n",
      "    \"status\" : 429\n",
      "  }\n",
      "}\n",
      "<bound method Response.json of <Response [429]>>\n"
     ]
    },
    {
     "name": "stderr",
     "output_type": "stream",
     "text": [
      "api_call...:  65%|█████████████████▌         | 700/1073 [06:15<01:10,  5.31it/s]"
     ]
    },
    {
     "name": "stdout",
     "output_type": "stream",
     "text": [
      "Error: 429 - {\n",
      "  \"error\" : {\n",
      "    \"status\" : 429\n",
      "  }\n",
      "}\n",
      "<bound method Response.json of <Response [429]>>\n",
      "Error: 429 - {\n",
      "  \"error\" : {\n",
      "    \"status\" : 429\n",
      "  }\n",
      "}\n",
      "<bound method Response.json of <Response [429]>>\n"
     ]
    },
    {
     "name": "stderr",
     "output_type": "stream",
     "text": [
      "\r",
      "api_call...:  65%|████████████████▎        | 701/1073 [06:50<1:06:13, 10.68s/it]"
     ]
    },
    {
     "name": "stdout",
     "output_type": "stream",
     "text": [
      "Error: 429 - {\n",
      "  \"error\" : {\n",
      "    \"status\" : 429\n",
      "  }\n",
      "}\n",
      "<bound method Response.json of <Response [429]>>\n"
     ]
    },
    {
     "name": "stderr",
     "output_type": "stream",
     "text": [
      "\r",
      "api_call...:  65%|█████████████████▋         | 702/1073 [06:51<46:38,  7.54s/it]"
     ]
    },
    {
     "name": "stdout",
     "output_type": "stream",
     "text": [
      "Error: 429 - {\n",
      "  \"error\" : {\n",
      "    \"status\" : 429\n",
      "  }\n",
      "}\n",
      "<bound method Response.json of <Response [429]>>\n"
     ]
    },
    {
     "name": "stderr",
     "output_type": "stream",
     "text": [
      "api_call...:  66%|█████████████████▋         | 704/1073 [06:51<23:15,  3.78s/it]"
     ]
    },
    {
     "name": "stdout",
     "output_type": "stream",
     "text": [
      "Error: 429 - {\n",
      "  \"error\" : {\n",
      "    \"status\" : 429\n",
      "  }\n",
      "}\n",
      "<bound method Response.json of <Response [429]>>\n",
      "Error: 429 - {\n",
      "  \"error\" : {\n",
      "    \"status\" : 429\n",
      "  }\n",
      "}\n",
      "<bound method Response.json of <Response [429]>>\n"
     ]
    },
    {
     "name": "stderr",
     "output_type": "stream",
     "text": [
      "api_call...:  66%|█████████████████▊         | 706/1073 [06:52<12:09,  1.99s/it]"
     ]
    },
    {
     "name": "stdout",
     "output_type": "stream",
     "text": [
      "Error: 429 - {\n",
      "  \"error\" : {\n",
      "    \"status\" : 429\n",
      "  }\n",
      "}\n",
      "<bound method Response.json of <Response [429]>>\n",
      "Error: 429 - {\n",
      "  \"error\" : {\n",
      "    \"status\" : 429\n",
      "  }\n",
      "}\n",
      "<bound method Response.json of <Response [429]>>\n"
     ]
    },
    {
     "name": "stderr",
     "output_type": "stream",
     "text": [
      "api_call...:  66%|█████████████████▊         | 708/1073 [06:52<06:34,  1.08s/it]"
     ]
    },
    {
     "name": "stdout",
     "output_type": "stream",
     "text": [
      "Error: 429 - {\n",
      "  \"error\" : {\n",
      "    \"status\" : 429\n",
      "  }\n",
      "}\n",
      "<bound method Response.json of <Response [429]>>\n",
      "Error: 429 - {\n",
      "  \"error\" : {\n",
      "    \"status\" : 429\n",
      "  }\n",
      "}\n",
      "<bound method Response.json of <Response [429]>>\n"
     ]
    },
    {
     "name": "stderr",
     "output_type": "stream",
     "text": [
      "api_call...:  66%|█████████████████▊         | 710/1073 [06:52<03:44,  1.62it/s]"
     ]
    },
    {
     "name": "stdout",
     "output_type": "stream",
     "text": [
      "Error: 429 - {\n",
      "  \"error\" : {\n",
      "    \"status\" : 429\n",
      "  }\n",
      "}\n",
      "<bound method Response.json of <Response [429]>>\n",
      "Error: 429 - {\n",
      "  \"error\" : {\n",
      "    \"status\" : 429\n",
      "  }\n",
      "}\n",
      "<bound method Response.json of <Response [429]>>\n"
     ]
    },
    {
     "name": "stderr",
     "output_type": "stream",
     "text": [
      "api_call...:  66%|█████████████████▉         | 712/1073 [06:53<02:14,  2.69it/s]"
     ]
    },
    {
     "name": "stdout",
     "output_type": "stream",
     "text": [
      "Error: 429 - {\n",
      "  \"error\" : {\n",
      "    \"status\" : 429\n",
      "  }\n",
      "}\n",
      "<bound method Response.json of <Response [429]>>\n",
      "Error: 429 - {\n",
      "  \"error\" : {\n",
      "    \"status\" : 429\n",
      "  }\n",
      "}\n",
      "<bound method Response.json of <Response [429]>>\n"
     ]
    },
    {
     "name": "stderr",
     "output_type": "stream",
     "text": [
      "api_call...:  67%|█████████████████▉         | 714/1073 [06:53<01:38,  3.65it/s]"
     ]
    },
    {
     "name": "stdout",
     "output_type": "stream",
     "text": [
      "Error: 429 - {\n",
      "  \"error\" : {\n",
      "    \"status\" : 429\n",
      "  }\n",
      "}\n",
      "<bound method Response.json of <Response [429]>>\n",
      "Error: 429 - {\n",
      "  \"error\" : {\n",
      "    \"status\" : 429\n",
      "  }\n",
      "}\n",
      "<bound method Response.json of <Response [429]>>\n"
     ]
    },
    {
     "name": "stderr",
     "output_type": "stream",
     "text": [
      "api_call...:  67%|██████████████████         | 716/1073 [06:53<01:08,  5.18it/s]"
     ]
    },
    {
     "name": "stdout",
     "output_type": "stream",
     "text": [
      "Error: 429 - {\n",
      "  \"error\" : {\n",
      "    \"status\" : 429\n",
      "  }\n",
      "}\n",
      "<bound method Response.json of <Response [429]>>\n",
      "Error: 429 - {\n",
      "  \"error\" : {\n",
      "    \"status\" : 429\n",
      "  }\n",
      "}\n",
      "<bound method Response.json of <Response [429]>>\n"
     ]
    },
    {
     "name": "stderr",
     "output_type": "stream",
     "text": [
      "api_call...:  67%|██████████████████         | 718/1073 [06:54<00:59,  5.95it/s]"
     ]
    },
    {
     "name": "stdout",
     "output_type": "stream",
     "text": [
      "Error: 429 - {\n",
      "  \"error\" : {\n",
      "    \"status\" : 429\n",
      "  }\n",
      "}\n",
      "<bound method Response.json of <Response [429]>>\n",
      "Error: 429 - {\n",
      "  \"error\" : {\n",
      "    \"status\" : 429\n",
      "  }\n",
      "}\n",
      "<bound method Response.json of <Response [429]>>\n"
     ]
    },
    {
     "name": "stderr",
     "output_type": "stream",
     "text": [
      "\r",
      "api_call...:  67%|██████████████████         | 719/1073 [06:54<00:56,  6.24it/s]"
     ]
    },
    {
     "name": "stdout",
     "output_type": "stream",
     "text": [
      "Error: 429 - {\n",
      "  \"error\" : {\n",
      "    \"status\" : 429\n",
      "  }\n",
      "}\n",
      "<bound method Response.json of <Response [429]>>\n"
     ]
    },
    {
     "name": "stderr",
     "output_type": "stream",
     "text": [
      "api_call...:  67%|██████████████████▏        | 721/1073 [06:54<01:00,  5.84it/s]"
     ]
    },
    {
     "name": "stdout",
     "output_type": "stream",
     "text": [
      "Error: 429 - {\n",
      "  \"error\" : {\n",
      "    \"status\" : 429\n",
      "  }\n",
      "}\n",
      "<bound method Response.json of <Response [429]>>\n",
      "Error: 429 - {\n",
      "  \"error\" : {\n",
      "    \"status\" : 429\n",
      "  }\n",
      "}\n",
      "<bound method Response.json of <Response [429]>>\n"
     ]
    },
    {
     "name": "stderr",
     "output_type": "stream",
     "text": [
      "api_call...:  67%|██████████████████▏        | 723/1073 [06:54<00:51,  6.74it/s]"
     ]
    },
    {
     "name": "stdout",
     "output_type": "stream",
     "text": [
      "Error: 429 - {\n",
      "  \"error\" : {\n",
      "    \"status\" : 429\n",
      "  }\n",
      "}\n",
      "<bound method Response.json of <Response [429]>>\n",
      "Error: 429 - {\n",
      "  \"error\" : {\n",
      "    \"status\" : 429\n",
      "  }\n",
      "}\n",
      "<bound method Response.json of <Response [429]>>\n"
     ]
    },
    {
     "name": "stderr",
     "output_type": "stream",
     "text": [
      "api_call...:  68%|██████████████████▏        | 725/1073 [06:55<00:57,  6.10it/s]"
     ]
    },
    {
     "name": "stdout",
     "output_type": "stream",
     "text": [
      "Error: 429 - {\n",
      "  \"error\" : {\n",
      "    \"status\" : 429\n",
      "  }\n",
      "}\n",
      "<bound method Response.json of <Response [429]>>\n",
      "Error: 429 - {\n",
      "  \"error\" : {\n",
      "    \"status\" : 429\n",
      "  }\n",
      "}\n",
      "<bound method Response.json of <Response [429]>>\n"
     ]
    },
    {
     "name": "stderr",
     "output_type": "stream",
     "text": [
      "\r",
      "api_call...:  68%|██████████████████▎        | 726/1073 [06:55<00:56,  6.17it/s]"
     ]
    },
    {
     "name": "stdout",
     "output_type": "stream",
     "text": [
      "Error: 429 - {\n",
      "  \"error\" : {\n",
      "    \"status\" : 429\n",
      "  }\n",
      "}\n",
      "<bound method Response.json of <Response [429]>>\n"
     ]
    },
    {
     "name": "stderr",
     "output_type": "stream",
     "text": [
      "api_call...:  68%|██████████████████▎        | 728/1073 [06:55<00:56,  6.13it/s]"
     ]
    },
    {
     "name": "stdout",
     "output_type": "stream",
     "text": [
      "Error: 429 - {\n",
      "  \"error\" : {\n",
      "    \"status\" : 429\n",
      "  }\n",
      "}\n",
      "<bound method Response.json of <Response [429]>>\n",
      "Error: 429 - {\n",
      "  \"error\" : {\n",
      "    \"status\" : 429\n",
      "  }\n",
      "}\n",
      "<bound method Response.json of <Response [429]>>\n"
     ]
    },
    {
     "name": "stderr",
     "output_type": "stream",
     "text": [
      "api_call...:  68%|██████████████████▎        | 730/1073 [06:56<00:55,  6.22it/s]"
     ]
    },
    {
     "name": "stdout",
     "output_type": "stream",
     "text": [
      "Error: 429 - {\n",
      "  \"error\" : {\n",
      "    \"status\" : 429\n",
      "  }\n",
      "}\n",
      "<bound method Response.json of <Response [429]>>\n",
      "Error: 429 - {\n",
      "  \"error\" : {\n",
      "    \"status\" : 429\n",
      "  }\n",
      "}\n",
      "<bound method Response.json of <Response [429]>>\n"
     ]
    },
    {
     "name": "stderr",
     "output_type": "stream",
     "text": [
      "api_call...:  68%|██████████████████▍        | 732/1073 [06:56<00:48,  7.08it/s]"
     ]
    },
    {
     "name": "stdout",
     "output_type": "stream",
     "text": [
      "Error: 429 - {\n",
      "  \"error\" : {\n",
      "    \"status\" : 429\n",
      "  }\n",
      "}\n",
      "<bound method Response.json of <Response [429]>>\n",
      "Error: 429 - {\n",
      "  \"error\" : {\n",
      "    \"status\" : 429\n",
      "  }\n",
      "}\n",
      "<bound method Response.json of <Response [429]>>\n"
     ]
    },
    {
     "name": "stderr",
     "output_type": "stream",
     "text": [
      "\r",
      "api_call...:  68%|██████████████████▍        | 733/1073 [06:56<00:48,  6.97it/s]"
     ]
    },
    {
     "name": "stdout",
     "output_type": "stream",
     "text": [
      "Error: 429 - {\n",
      "  \"error\" : {\n",
      "    \"status\" : 429\n",
      "  }\n",
      "}\n",
      "<bound method Response.json of <Response [429]>>\n"
     ]
    },
    {
     "name": "stderr",
     "output_type": "stream",
     "text": [
      "api_call...:  68%|██████████████████▍        | 735/1073 [06:56<00:52,  6.46it/s]"
     ]
    },
    {
     "name": "stdout",
     "output_type": "stream",
     "text": [
      "Error: 429 - {\n",
      "  \"error\" : {\n",
      "    \"status\" : 429\n",
      "  }\n",
      "}\n",
      "<bound method Response.json of <Response [429]>>\n",
      "Error: 429 - {\n",
      "  \"error\" : {\n",
      "    \"status\" : 429\n",
      "  }\n",
      "}\n",
      "<bound method Response.json of <Response [429]>>\n"
     ]
    },
    {
     "name": "stderr",
     "output_type": "stream",
     "text": [
      "api_call...:  69%|██████████████████▌        | 737/1073 [06:57<00:52,  6.41it/s]"
     ]
    },
    {
     "name": "stdout",
     "output_type": "stream",
     "text": [
      "Error: 429 - {\n",
      "  \"error\" : {\n",
      "    \"status\" : 429\n",
      "  }\n",
      "}\n",
      "<bound method Response.json of <Response [429]>>\n",
      "Error: 429 - {\n",
      "  \"error\" : {\n",
      "    \"status\" : 429\n",
      "  }\n",
      "}\n",
      "<bound method Response.json of <Response [429]>>\n"
     ]
    },
    {
     "name": "stderr",
     "output_type": "stream",
     "text": [
      "api_call...:  69%|██████████████████▌        | 739/1073 [06:57<00:46,  7.13it/s]"
     ]
    },
    {
     "name": "stdout",
     "output_type": "stream",
     "text": [
      "Error: 429 - {\n",
      "  \"error\" : {\n",
      "    \"status\" : 429\n",
      "  }\n",
      "}\n",
      "<bound method Response.json of <Response [429]>>\n",
      "Error: 429 - {\n",
      "  \"error\" : {\n",
      "    \"status\" : 429\n",
      "  }\n",
      "}\n",
      "<bound method Response.json of <Response [429]>>\n"
     ]
    },
    {
     "name": "stderr",
     "output_type": "stream",
     "text": [
      "api_call...:  69%|██████████████████▋        | 741/1073 [06:57<01:07,  4.92it/s]"
     ]
    },
    {
     "name": "stdout",
     "output_type": "stream",
     "text": [
      "Error: 429 - {\n",
      "  \"error\" : {\n",
      "    \"status\" : 429\n",
      "  }\n",
      "}\n",
      "<bound method Response.json of <Response [429]>>\n",
      "Error: 429 - {\n",
      "  \"error\" : {\n",
      "    \"status\" : 429\n",
      "  }\n",
      "}\n",
      "<bound method Response.json of <Response [429]>>\n"
     ]
    },
    {
     "name": "stderr",
     "output_type": "stream",
     "text": [
      "api_call...:  69%|██████████████████▋        | 743/1073 [06:58<01:00,  5.44it/s]"
     ]
    },
    {
     "name": "stdout",
     "output_type": "stream",
     "text": [
      "Error: 429 - {\n",
      "  \"error\" : {\n",
      "    \"status\" : 429\n",
      "  }\n",
      "}\n",
      "<bound method Response.json of <Response [429]>>\n",
      "Error: 429 - {\n",
      "  \"error\" : {\n",
      "    \"status\" : 429\n",
      "  }\n",
      "}\n",
      "<bound method Response.json of <Response [429]>>\n"
     ]
    },
    {
     "name": "stderr",
     "output_type": "stream",
     "text": [
      "\r",
      "api_call...:  69%|██████████████████▋        | 744/1073 [06:58<00:57,  5.74it/s]"
     ]
    },
    {
     "name": "stdout",
     "output_type": "stream",
     "text": [
      "Error: 429 - {\n",
      "  \"error\" : {\n",
      "    \"status\" : 429\n",
      "  }\n",
      "}\n",
      "<bound method Response.json of <Response [429]>>\n"
     ]
    },
    {
     "name": "stderr",
     "output_type": "stream",
     "text": [
      "\r",
      "api_call...:  69%|██████████████████▋        | 745/1073 [06:58<01:24,  3.87it/s]"
     ]
    },
    {
     "name": "stdout",
     "output_type": "stream",
     "text": [
      "Error: 429 - {\n",
      "  \"error\" : {\n",
      "    \"status\" : 429\n",
      "  }\n",
      "}\n",
      "<bound method Response.json of <Response [429]>>\n",
      "Error: 429 - {\n",
      "  \"error\" : {\n",
      "    \"status\" : 429\n",
      "  }\n",
      "}\n",
      "<bound method Response.json of <Response [429]>>\n"
     ]
    },
    {
     "name": "stderr",
     "output_type": "stream",
     "text": [
      "api_call...:  70%|██████████████████▊        | 748/1073 [06:59<01:35,  3.42it/s]"
     ]
    },
    {
     "name": "stdout",
     "output_type": "stream",
     "text": [
      "Error: 429 - {\n",
      "  \"error\" : {\n",
      "    \"status\" : 429\n",
      "  }\n",
      "}\n",
      "<bound method Response.json of <Response [429]>>\n",
      "Error: 429 - {\n",
      "  \"error\" : {\n",
      "    \"status\" : 429\n",
      "  }\n",
      "}\n",
      "<bound method Response.json of <Response [429]>>\n"
     ]
    },
    {
     "name": "stderr",
     "output_type": "stream",
     "text": [
      "api_call...:  70%|██████████████████▊        | 750/1073 [07:00<01:09,  4.68it/s]"
     ]
    },
    {
     "name": "stdout",
     "output_type": "stream",
     "text": [
      "Error: 429 - {\n",
      "  \"error\" : {\n",
      "    \"status\" : 429\n",
      "  }\n",
      "}\n",
      "<bound method Response.json of <Response [429]>>\n",
      "Error: 429 - {\n",
      "  \"error\" : {\n",
      "    \"status\" : 429\n",
      "  }\n",
      "}\n",
      "<bound method Response.json of <Response [429]>>\n"
     ]
    },
    {
     "name": "stderr",
     "output_type": "stream",
     "text": [
      "api_call...:  70%|██████████████████▉        | 752/1073 [07:00<01:03,  5.04it/s]"
     ]
    },
    {
     "name": "stdout",
     "output_type": "stream",
     "text": [
      "Error: 429 - {\n",
      "  \"error\" : {\n",
      "    \"status\" : 429\n",
      "  }\n",
      "}\n",
      "<bound method Response.json of <Response [429]>>\n",
      "Error: 429 - {\n",
      "  \"error\" : {\n",
      "    \"status\" : 429\n",
      "  }\n",
      "}\n",
      "<bound method Response.json of <Response [429]>>\n"
     ]
    },
    {
     "name": "stderr",
     "output_type": "stream",
     "text": [
      "api_call...:  70%|██████████████████▉        | 754/1073 [07:00<01:04,  4.93it/s]"
     ]
    },
    {
     "name": "stdout",
     "output_type": "stream",
     "text": [
      "Error: 429 - {\n",
      "  \"error\" : {\n",
      "    \"status\" : 429\n",
      "  }\n",
      "}\n",
      "<bound method Response.json of <Response [429]>>\n",
      "Error: 429 - {\n",
      "  \"error\" : {\n",
      "    \"status\" : 429\n",
      "  }\n",
      "}\n",
      "<bound method Response.json of <Response [429]>>\n"
     ]
    },
    {
     "name": "stderr",
     "output_type": "stream",
     "text": [
      "\r",
      "api_call...:  70%|██████████████████▉        | 755/1073 [07:01<00:57,  5.49it/s]"
     ]
    },
    {
     "name": "stdout",
     "output_type": "stream",
     "text": [
      "Error: 429 - {\n",
      "  \"error\" : {\n",
      "    \"status\" : 429\n",
      "  }\n",
      "}\n",
      "<bound method Response.json of <Response [429]>>\n"
     ]
    },
    {
     "name": "stderr",
     "output_type": "stream",
     "text": [
      "api_call...:  71%|███████████████████        | 757/1073 [07:01<00:54,  5.77it/s]"
     ]
    },
    {
     "name": "stdout",
     "output_type": "stream",
     "text": [
      "Error: 429 - {\n",
      "  \"error\" : {\n",
      "    \"status\" : 429\n",
      "  }\n",
      "}\n",
      "<bound method Response.json of <Response [429]>>\n",
      "Error: 429 - {\n",
      "  \"error\" : {\n",
      "    \"status\" : 429\n",
      "  }\n",
      "}\n",
      "<bound method Response.json of <Response [429]>>\n"
     ]
    },
    {
     "name": "stderr",
     "output_type": "stream",
     "text": [
      "api_call...:  71%|███████████████████        | 759/1073 [07:01<00:48,  6.50it/s]"
     ]
    },
    {
     "name": "stdout",
     "output_type": "stream",
     "text": [
      "Error: 429 - {\n",
      "  \"error\" : {\n",
      "    \"status\" : 429\n",
      "  }\n",
      "}\n",
      "<bound method Response.json of <Response [429]>>\n",
      "Error: 429 - {\n",
      "  \"error\" : {\n",
      "    \"status\" : 429\n",
      "  }\n",
      "}\n",
      "<bound method Response.json of <Response [429]>>\n"
     ]
    },
    {
     "name": "stderr",
     "output_type": "stream",
     "text": [
      "api_call...:  71%|███████████████████▏       | 761/1073 [07:02<00:52,  5.94it/s]"
     ]
    },
    {
     "name": "stdout",
     "output_type": "stream",
     "text": [
      "Error: 429 - {\n",
      "  \"error\" : {\n",
      "    \"status\" : 429\n",
      "  }\n",
      "}\n",
      "<bound method Response.json of <Response [429]>>\n",
      "Error: 429 - {\n",
      "  \"error\" : {\n",
      "    \"status\" : 429\n",
      "  }\n",
      "}\n",
      "<bound method Response.json of <Response [429]>>\n"
     ]
    },
    {
     "name": "stderr",
     "output_type": "stream",
     "text": [
      "\r",
      "api_call...:  71%|███████████████████▏       | 762/1073 [07:02<00:50,  6.21it/s]"
     ]
    },
    {
     "name": "stdout",
     "output_type": "stream",
     "text": [
      "Error: 429 - {\n",
      "  \"error\" : {\n",
      "    \"status\" : 429\n",
      "  }\n",
      "}\n",
      "<bound method Response.json of <Response [429]>>\n"
     ]
    },
    {
     "name": "stderr",
     "output_type": "stream",
     "text": [
      "api_call...:  71%|███████████████████▏       | 764/1073 [07:02<00:51,  6.05it/s]"
     ]
    },
    {
     "name": "stdout",
     "output_type": "stream",
     "text": [
      "Error: 429 - {\n",
      "  \"error\" : {\n",
      "    \"status\" : 429\n",
      "  }\n",
      "}\n",
      "<bound method Response.json of <Response [429]>>\n",
      "Error: 429 - {\n",
      "  \"error\" : {\n",
      "    \"status\" : 429\n",
      "  }\n",
      "}\n",
      "<bound method Response.json of <Response [429]>>\n"
     ]
    },
    {
     "name": "stderr",
     "output_type": "stream",
     "text": [
      "\r",
      "api_call...:  71%|███████████████████▏       | 765/1073 [07:02<00:50,  6.05it/s]"
     ]
    },
    {
     "name": "stdout",
     "output_type": "stream",
     "text": [
      "Error: 429 - {\n",
      "  \"error\" : {\n",
      "    \"status\" : 429\n",
      "  }\n",
      "}\n",
      "<bound method Response.json of <Response [429]>>\n"
     ]
    },
    {
     "name": "stderr",
     "output_type": "stream",
     "text": [
      "api_call...:  71%|███████████████████▎       | 767/1073 [07:03<00:51,  5.90it/s]"
     ]
    },
    {
     "name": "stdout",
     "output_type": "stream",
     "text": [
      "Error: 429 - {\n",
      "  \"error\" : {\n",
      "    \"status\" : 429\n",
      "  }\n",
      "}\n",
      "<bound method Response.json of <Response [429]>>\n",
      "Error: 429 - {\n",
      "  \"error\" : {\n",
      "    \"status\" : 429\n",
      "  }\n",
      "}\n",
      "<bound method Response.json of <Response [429]>>\n"
     ]
    },
    {
     "name": "stderr",
     "output_type": "stream",
     "text": [
      "api_call...:  72%|███████████████████▎       | 769/1073 [07:03<00:48,  6.29it/s]"
     ]
    },
    {
     "name": "stdout",
     "output_type": "stream",
     "text": [
      "Error: 429 - {\n",
      "  \"error\" : {\n",
      "    \"status\" : 429\n",
      "  }\n",
      "}\n",
      "<bound method Response.json of <Response [429]>>\n",
      "Error: 429 - {\n",
      "  \"error\" : {\n",
      "    \"status\" : 429\n",
      "  }\n",
      "}\n",
      "<bound method Response.json of <Response [429]>>\n"
     ]
    },
    {
     "name": "stderr",
     "output_type": "stream",
     "text": [
      "api_call...:  72%|███████████████████▍       | 771/1073 [07:03<00:43,  6.88it/s]"
     ]
    },
    {
     "name": "stdout",
     "output_type": "stream",
     "text": [
      "Error: 429 - {\n",
      "  \"error\" : {\n",
      "    \"status\" : 429\n",
      "  }\n",
      "}\n",
      "<bound method Response.json of <Response [429]>>\n",
      "Error: 429 - {\n",
      "  \"error\" : {\n",
      "    \"status\" : 429\n",
      "  }\n",
      "}\n",
      "<bound method Response.json of <Response [429]>>\n"
     ]
    },
    {
     "name": "stderr",
     "output_type": "stream",
     "text": [
      "api_call...:  72%|███████████████████▍       | 773/1073 [07:04<00:49,  6.03it/s]"
     ]
    },
    {
     "name": "stdout",
     "output_type": "stream",
     "text": [
      "Error: 429 - {\n",
      "  \"error\" : {\n",
      "    \"status\" : 429\n",
      "  }\n",
      "}\n",
      "<bound method Response.json of <Response [429]>>\n",
      "Error: 429 - {\n",
      "  \"error\" : {\n",
      "    \"status\" : 429\n",
      "  }\n",
      "}\n",
      "<bound method Response.json of <Response [429]>>\n"
     ]
    },
    {
     "name": "stderr",
     "output_type": "stream",
     "text": [
      "api_call...:  72%|███████████████████▌       | 775/1073 [07:04<00:44,  6.70it/s]"
     ]
    },
    {
     "name": "stdout",
     "output_type": "stream",
     "text": [
      "Error: 429 - {\n",
      "  \"error\" : {\n",
      "    \"status\" : 429\n",
      "  }\n",
      "}\n",
      "<bound method Response.json of <Response [429]>>\n",
      "Error: 429 - {\n",
      "  \"error\" : {\n",
      "    \"status\" : 429\n",
      "  }\n",
      "}\n",
      "<bound method Response.json of <Response [429]>>\n"
     ]
    },
    {
     "name": "stderr",
     "output_type": "stream",
     "text": [
      "api_call...:  72%|███████████████████▌       | 777/1073 [07:04<00:47,  6.17it/s]"
     ]
    },
    {
     "name": "stdout",
     "output_type": "stream",
     "text": [
      "Error: 429 - {\n",
      "  \"error\" : {\n",
      "    \"status\" : 429\n",
      "  }\n",
      "}\n",
      "<bound method Response.json of <Response [429]>>\n",
      "Error: 429 - {\n",
      "  \"error\" : {\n",
      "    \"status\" : 429\n",
      "  }\n",
      "}\n",
      "<bound method Response.json of <Response [429]>>\n"
     ]
    },
    {
     "name": "stderr",
     "output_type": "stream",
     "text": [
      "\r",
      "api_call...:  73%|███████████████████▌       | 778/1073 [07:04<00:47,  6.24it/s]"
     ]
    },
    {
     "name": "stdout",
     "output_type": "stream",
     "text": [
      "Error: 429 - {\n",
      "  \"error\" : {\n",
      "    \"status\" : 429\n",
      "  }\n",
      "}\n",
      "<bound method Response.json of <Response [429]>>\n"
     ]
    },
    {
     "name": "stderr",
     "output_type": "stream",
     "text": [
      "api_call...:  73%|███████████████████▋       | 780/1073 [07:05<00:45,  6.38it/s]"
     ]
    },
    {
     "name": "stdout",
     "output_type": "stream",
     "text": [
      "Error: 429 - {\n",
      "  \"error\" : {\n",
      "    \"status\" : 429\n",
      "  }\n",
      "}\n",
      "<bound method Response.json of <Response [429]>>\n",
      "Error: 429 - {\n",
      "  \"error\" : {\n",
      "    \"status\" : 429\n",
      "  }\n",
      "}\n",
      "<bound method Response.json of <Response [429]>>\n"
     ]
    },
    {
     "name": "stderr",
     "output_type": "stream",
     "text": [
      "api_call...:  73%|███████████████████▋       | 782/1073 [07:05<00:47,  6.12it/s]"
     ]
    },
    {
     "name": "stdout",
     "output_type": "stream",
     "text": [
      "Error: 429 - {\n",
      "  \"error\" : {\n",
      "    \"status\" : 429\n",
      "  }\n",
      "}\n",
      "<bound method Response.json of <Response [429]>>\n",
      "Error: 429 - {\n",
      "  \"error\" : {\n",
      "    \"status\" : 429\n",
      "  }\n",
      "}\n",
      "<bound method Response.json of <Response [429]>>\n"
     ]
    },
    {
     "name": "stderr",
     "output_type": "stream",
     "text": [
      "api_call...:  73%|███████████████████▋       | 784/1073 [07:05<00:42,  6.74it/s]"
     ]
    },
    {
     "name": "stdout",
     "output_type": "stream",
     "text": [
      "Error: 429 - {\n",
      "  \"error\" : {\n",
      "    \"status\" : 429\n",
      "  }\n",
      "}\n",
      "<bound method Response.json of <Response [429]>>\n",
      "Error: 429 - {\n",
      "  \"error\" : {\n",
      "    \"status\" : 429\n",
      "  }\n",
      "}\n",
      "<bound method Response.json of <Response [429]>>\n"
     ]
    },
    {
     "name": "stderr",
     "output_type": "stream",
     "text": [
      "api_call...:  73%|███████████████████▊       | 786/1073 [07:06<00:46,  6.18it/s]"
     ]
    },
    {
     "name": "stdout",
     "output_type": "stream",
     "text": [
      "Error: 429 - {\n",
      "  \"error\" : {\n",
      "    \"status\" : 429\n",
      "  }\n",
      "}\n",
      "<bound method Response.json of <Response [429]>>\n",
      "Error: 429 - {\n",
      "  \"error\" : {\n",
      "    \"status\" : 429\n",
      "  }\n",
      "}\n",
      "<bound method Response.json of <Response [429]>>\n"
     ]
    },
    {
     "name": "stderr",
     "output_type": "stream",
     "text": [
      "api_call...:  73%|███████████████████▊       | 788/1073 [07:06<00:42,  6.76it/s]"
     ]
    },
    {
     "name": "stdout",
     "output_type": "stream",
     "text": [
      "Error: 429 - {\n",
      "  \"error\" : {\n",
      "    \"status\" : 429\n",
      "  }\n",
      "}\n",
      "<bound method Response.json of <Response [429]>>\n",
      "Error: 429 - {\n",
      "  \"error\" : {\n",
      "    \"status\" : 429\n",
      "  }\n",
      "}\n",
      "<bound method Response.json of <Response [429]>>\n"
     ]
    },
    {
     "name": "stderr",
     "output_type": "stream",
     "text": [
      "api_call...:  74%|███████████████████▉       | 790/1073 [07:06<00:45,  6.25it/s]"
     ]
    },
    {
     "name": "stdout",
     "output_type": "stream",
     "text": [
      "Error: 429 - {\n",
      "  \"error\" : {\n",
      "    \"status\" : 429\n",
      "  }\n",
      "}\n",
      "<bound method Response.json of <Response [429]>>\n",
      "Error: 429 - {\n",
      "  \"error\" : {\n",
      "    \"status\" : 429\n",
      "  }\n",
      "}\n",
      "<bound method Response.json of <Response [429]>>\n"
     ]
    },
    {
     "name": "stderr",
     "output_type": "stream",
     "text": [
      "api_call...:  74%|███████████████████▉       | 792/1073 [07:07<00:42,  6.54it/s]"
     ]
    },
    {
     "name": "stdout",
     "output_type": "stream",
     "text": [
      "Error: 429 - {\n",
      "  \"error\" : {\n",
      "    \"status\" : 429\n",
      "  }\n",
      "}\n",
      "<bound method Response.json of <Response [429]>>\n",
      "Error: 429 - {\n",
      "  \"error\" : {\n",
      "    \"status\" : 429\n",
      "  }\n",
      "}\n",
      "<bound method Response.json of <Response [429]>>\n"
     ]
    },
    {
     "name": "stderr",
     "output_type": "stream",
     "text": [
      "api_call...:  74%|███████████████████▉       | 794/1073 [07:07<00:39,  7.11it/s]"
     ]
    },
    {
     "name": "stdout",
     "output_type": "stream",
     "text": [
      "Error: 429 - {\n",
      "  \"error\" : {\n",
      "    \"status\" : 429\n",
      "  }\n",
      "}\n",
      "<bound method Response.json of <Response [429]>>\n",
      "Error: 429 - {\n",
      "  \"error\" : {\n",
      "    \"status\" : 429\n",
      "  }\n",
      "}\n",
      "<bound method Response.json of <Response [429]>>\n"
     ]
    },
    {
     "name": "stderr",
     "output_type": "stream",
     "text": [
      "api_call...:  74%|████████████████████       | 796/1073 [07:07<00:38,  7.19it/s]"
     ]
    },
    {
     "name": "stdout",
     "output_type": "stream",
     "text": [
      "Error: 429 - {\n",
      "  \"error\" : {\n",
      "    \"status\" : 429\n",
      "  }\n",
      "}\n",
      "<bound method Response.json of <Response [429]>>\n",
      "Error: 429 - {\n",
      "  \"error\" : {\n",
      "    \"status\" : 429\n",
      "  }\n",
      "}\n",
      "<bound method Response.json of <Response [429]>>\n"
     ]
    },
    {
     "name": "stderr",
     "output_type": "stream",
     "text": [
      "api_call...:  74%|████████████████████       | 798/1073 [07:07<00:36,  7.43it/s]"
     ]
    },
    {
     "name": "stdout",
     "output_type": "stream",
     "text": [
      "Error: 429 - {\n",
      "  \"error\" : {\n",
      "    \"status\" : 429\n",
      "  }\n",
      "}\n",
      "<bound method Response.json of <Response [429]>>\n",
      "Error: 429 - {\n",
      "  \"error\" : {\n",
      "    \"status\" : 429\n",
      "  }\n",
      "}\n",
      "<bound method Response.json of <Response [429]>>\n"
     ]
    },
    {
     "name": "stderr",
     "output_type": "stream",
     "text": [
      "api_call...:  75%|████████████████████▏      | 800/1073 [07:08<00:43,  6.24it/s]"
     ]
    },
    {
     "name": "stdout",
     "output_type": "stream",
     "text": [
      "Error: 429 - {\n",
      "  \"error\" : {\n",
      "    \"status\" : 429\n",
      "  }\n",
      "}\n",
      "<bound method Response.json of <Response [429]>>\n",
      "Error: 429 - {\n",
      "  \"error\" : {\n",
      "    \"status\" : 429\n",
      "  }\n",
      "}\n",
      "<bound method Response.json of <Response [429]>>\n"
     ]
    },
    {
     "name": "stderr",
     "output_type": "stream",
     "text": [
      "api_call...:  75%|████████████████████▏      | 803/1073 [07:44<24:19,  5.40s/it]"
     ]
    },
    {
     "name": "stdout",
     "output_type": "stream",
     "text": [
      "Error: 429 - {\n",
      "  \"error\" : {\n",
      "    \"status\" : 429\n",
      "  }\n",
      "}\n",
      "<bound method Response.json of <Response [429]>>\n",
      "Error: 429 - {\n",
      "  \"error\" : {\n",
      "    \"status\" : 429\n",
      "  }\n",
      "}\n",
      "<bound method Response.json of <Response [429]>>\n"
     ]
    },
    {
     "name": "stderr",
     "output_type": "stream",
     "text": [
      "\r",
      "api_call...:  75%|████████████████████▏      | 804/1073 [07:44<17:08,  3.82s/it]"
     ]
    },
    {
     "name": "stdout",
     "output_type": "stream",
     "text": [
      "Error: 429 - {\n",
      "  \"error\" : {\n",
      "    \"status\" : 429\n",
      "  }\n",
      "}\n",
      "<bound method Response.json of <Response [429]>>\n"
     ]
    },
    {
     "name": "stderr",
     "output_type": "stream",
     "text": [
      "api_call...:  75%|████████████████████▎      | 806/1073 [07:44<08:44,  1.97s/it]"
     ]
    },
    {
     "name": "stdout",
     "output_type": "stream",
     "text": [
      "Error: 429 - {\n",
      "  \"error\" : {\n",
      "    \"status\" : 429\n",
      "  }\n",
      "}\n",
      "<bound method Response.json of <Response [429]>>\n",
      "Error: 429 - {\n",
      "  \"error\" : {\n",
      "    \"status\" : 429\n",
      "  }\n",
      "}\n",
      "<bound method Response.json of <Response [429]>>\n"
     ]
    },
    {
     "name": "stderr",
     "output_type": "stream",
     "text": [
      "api_call...:  75%|████████████████████▎      | 808/1073 [07:45<04:33,  1.03s/it]"
     ]
    },
    {
     "name": "stdout",
     "output_type": "stream",
     "text": [
      "Error: 429 - {\n",
      "  \"error\" : {\n",
      "    \"status\" : 429\n",
      "  }\n",
      "}\n",
      "<bound method Response.json of <Response [429]>>\n",
      "Error: 429 - {\n",
      "  \"error\" : {\n",
      "    \"status\" : 429\n",
      "  }\n",
      "}\n",
      "<bound method Response.json of <Response [429]>>\n"
     ]
    },
    {
     "name": "stderr",
     "output_type": "stream",
     "text": [
      "api_call...:  75%|████████████████████▍      | 810/1073 [07:45<02:35,  1.69it/s]"
     ]
    },
    {
     "name": "stdout",
     "output_type": "stream",
     "text": [
      "Error: 429 - {\n",
      "  \"error\" : {\n",
      "    \"status\" : 429\n",
      "  }\n",
      "}\n",
      "<bound method Response.json of <Response [429]>>\n",
      "Error: 429 - {\n",
      "  \"error\" : {\n",
      "    \"status\" : 429\n",
      "  }\n",
      "}\n",
      "<bound method Response.json of <Response [429]>>\n"
     ]
    },
    {
     "name": "stderr",
     "output_type": "stream",
     "text": [
      "\r",
      "api_call...:  76%|████████████████████▍      | 811/1073 [07:45<02:02,  2.15it/s]"
     ]
    },
    {
     "name": "stdout",
     "output_type": "stream",
     "text": [
      "Error: 429 - {\n",
      "  \"error\" : {\n",
      "    \"status\" : 429\n",
      "  }\n",
      "}\n",
      "<bound method Response.json of <Response [429]>>\n"
     ]
    },
    {
     "name": "stderr",
     "output_type": "stream",
     "text": [
      "api_call...:  76%|████████████████████▍      | 813/1073 [07:46<01:27,  2.98it/s]"
     ]
    },
    {
     "name": "stdout",
     "output_type": "stream",
     "text": [
      "Error: 429 - {\n",
      "  \"error\" : {\n",
      "    \"status\" : 429\n",
      "  }\n",
      "}\n",
      "<bound method Response.json of <Response [429]>>\n",
      "Error: 429 - {\n",
      "  \"error\" : {\n",
      "    \"status\" : 429\n",
      "  }\n",
      "}\n",
      "<bound method Response.json of <Response [429]>>\n"
     ]
    },
    {
     "name": "stderr",
     "output_type": "stream",
     "text": [
      "\r",
      "api_call...:  76%|████████████████████▍      | 814/1073 [07:46<01:10,  3.67it/s]"
     ]
    },
    {
     "name": "stdout",
     "output_type": "stream",
     "text": [
      "Error: 429 - {\n",
      "  \"error\" : {\n",
      "    \"status\" : 429\n",
      "  }\n",
      "}\n",
      "<bound method Response.json of <Response [429]>>\n"
     ]
    },
    {
     "name": "stderr",
     "output_type": "stream",
     "text": [
      "api_call...:  76%|████████████████████▌      | 816/1073 [07:46<00:56,  4.57it/s]"
     ]
    },
    {
     "name": "stdout",
     "output_type": "stream",
     "text": [
      "Error: 429 - {\n",
      "  \"error\" : {\n",
      "    \"status\" : 429\n",
      "  }\n",
      "}\n",
      "<bound method Response.json of <Response [429]>>\n",
      "Error: 429 - {\n",
      "  \"error\" : {\n",
      "    \"status\" : 429\n",
      "  }\n",
      "}\n",
      "<bound method Response.json of <Response [429]>>\n"
     ]
    },
    {
     "name": "stderr",
     "output_type": "stream",
     "text": [
      "\r",
      "api_call...:  76%|████████████████████▌      | 817/1073 [07:46<00:50,  5.08it/s]"
     ]
    },
    {
     "name": "stdout",
     "output_type": "stream",
     "text": [
      "Error: 429 - {\n",
      "  \"error\" : {\n",
      "    \"status\" : 429\n",
      "  }\n",
      "}\n",
      "<bound method Response.json of <Response [429]>>\n"
     ]
    },
    {
     "name": "stderr",
     "output_type": "stream",
     "text": [
      "api_call...:  76%|████████████████████▌      | 819/1073 [07:47<00:46,  5.43it/s]"
     ]
    },
    {
     "name": "stdout",
     "output_type": "stream",
     "text": [
      "Error: 429 - {\n",
      "  \"error\" : {\n",
      "    \"status\" : 429\n",
      "  }\n",
      "}\n",
      "<bound method Response.json of <Response [429]>>\n",
      "Error: 429 - {\n",
      "  \"error\" : {\n",
      "    \"status\" : 429\n",
      "  }\n",
      "}\n",
      "<bound method Response.json of <Response [429]>>\n"
     ]
    },
    {
     "name": "stderr",
     "output_type": "stream",
     "text": [
      "api_call...:  77%|████████████████████▋      | 821/1073 [07:47<00:42,  5.90it/s]"
     ]
    },
    {
     "name": "stdout",
     "output_type": "stream",
     "text": [
      "Error: 429 - {\n",
      "  \"error\" : {\n",
      "    \"status\" : 429\n",
      "  }\n",
      "}\n",
      "<bound method Response.json of <Response [429]>>\n",
      "Error: 429 - {\n",
      "  \"error\" : {\n",
      "    \"status\" : 429\n",
      "  }\n",
      "}\n",
      "<bound method Response.json of <Response [429]>>\n"
     ]
    },
    {
     "name": "stderr",
     "output_type": "stream",
     "text": [
      "api_call...:  77%|████████████████████▋      | 823/1073 [07:47<00:37,  6.65it/s]"
     ]
    },
    {
     "name": "stdout",
     "output_type": "stream",
     "text": [
      "Error: 429 - {\n",
      "  \"error\" : {\n",
      "    \"status\" : 429\n",
      "  }\n",
      "}\n",
      "<bound method Response.json of <Response [429]>>\n",
      "Error: 429 - {\n",
      "  \"error\" : {\n",
      "    \"status\" : 429\n",
      "  }\n",
      "}\n",
      "<bound method Response.json of <Response [429]>>\n"
     ]
    },
    {
     "name": "stderr",
     "output_type": "stream",
     "text": [
      "api_call...:  77%|████████████████████▊      | 825/1073 [07:48<00:42,  5.86it/s]"
     ]
    },
    {
     "name": "stdout",
     "output_type": "stream",
     "text": [
      "Error: 429 - {\n",
      "  \"error\" : {\n",
      "    \"status\" : 429\n",
      "  }\n",
      "}\n",
      "<bound method Response.json of <Response [429]>>\n",
      "Error: 429 - {\n",
      "  \"error\" : {\n",
      "    \"status\" : 429\n",
      "  }\n",
      "}\n",
      "<bound method Response.json of <Response [429]>>\n"
     ]
    },
    {
     "name": "stderr",
     "output_type": "stream",
     "text": [
      "api_call...:  77%|████████████████████▊      | 827/1073 [07:48<00:37,  6.49it/s]"
     ]
    },
    {
     "name": "stdout",
     "output_type": "stream",
     "text": [
      "Error: 429 - {\n",
      "  \"error\" : {\n",
      "    \"status\" : 429\n",
      "  }\n",
      "}\n",
      "<bound method Response.json of <Response [429]>>\n",
      "Error: 429 - {\n",
      "  \"error\" : {\n",
      "    \"status\" : 429\n",
      "  }\n",
      "}\n",
      "<bound method Response.json of <Response [429]>>\n"
     ]
    },
    {
     "name": "stderr",
     "output_type": "stream",
     "text": [
      "api_call...:  77%|████████████████████▊      | 829/1073 [07:48<00:38,  6.37it/s]"
     ]
    },
    {
     "name": "stdout",
     "output_type": "stream",
     "text": [
      "Error: 429 - {\n",
      "  \"error\" : {\n",
      "    \"status\" : 429\n",
      "  }\n",
      "}\n",
      "<bound method Response.json of <Response [429]>>\n",
      "Error: 429 - {\n",
      "  \"error\" : {\n",
      "    \"status\" : 429\n",
      "  }\n",
      "}\n",
      "<bound method Response.json of <Response [429]>>\n"
     ]
    },
    {
     "name": "stderr",
     "output_type": "stream",
     "text": [
      "\r",
      "api_call...:  77%|████████████████████▉      | 830/1073 [07:48<00:38,  6.34it/s]"
     ]
    },
    {
     "name": "stdout",
     "output_type": "stream",
     "text": [
      "Error: 429 - {\n",
      "  \"error\" : {\n",
      "    \"status\" : 429\n",
      "  }\n",
      "}\n",
      "<bound method Response.json of <Response [429]>>\n"
     ]
    },
    {
     "name": "stderr",
     "output_type": "stream",
     "text": [
      "api_call...:  78%|████████████████████▉      | 832/1073 [07:49<00:39,  6.15it/s]"
     ]
    },
    {
     "name": "stdout",
     "output_type": "stream",
     "text": [
      "Error: 429 - {\n",
      "  \"error\" : {\n",
      "    \"status\" : 429\n",
      "  }\n",
      "}\n",
      "<bound method Response.json of <Response [429]>>\n",
      "Error: 429 - {\n",
      "  \"error\" : {\n",
      "    \"status\" : 429\n",
      "  }\n",
      "}\n",
      "<bound method Response.json of <Response [429]>>\n"
     ]
    },
    {
     "name": "stderr",
     "output_type": "stream",
     "text": [
      "api_call...:  78%|████████████████████▉      | 834/1073 [07:49<00:37,  6.34it/s]"
     ]
    },
    {
     "name": "stdout",
     "output_type": "stream",
     "text": [
      "Error: 429 - {\n",
      "  \"error\" : {\n",
      "    \"status\" : 429\n",
      "  }\n",
      "}\n",
      "<bound method Response.json of <Response [429]>>\n",
      "Error: 429 - {\n",
      "  \"error\" : {\n",
      "    \"status\" : 429\n",
      "  }\n",
      "}\n",
      "<bound method Response.json of <Response [429]>>\n"
     ]
    },
    {
     "name": "stderr",
     "output_type": "stream",
     "text": [
      "api_call...:  78%|█████████████████████      | 836/1073 [07:50<00:54,  4.38it/s]"
     ]
    },
    {
     "name": "stdout",
     "output_type": "stream",
     "text": [
      "Error: 429 - {\n",
      "  \"error\" : {\n",
      "    \"status\" : 429\n",
      "  }\n",
      "}\n",
      "<bound method Response.json of <Response [429]>>\n",
      "Error: 429 - {\n",
      "  \"error\" : {\n",
      "    \"status\" : 429\n",
      "  }\n",
      "}\n",
      "<bound method Response.json of <Response [429]>>\n"
     ]
    },
    {
     "name": "stderr",
     "output_type": "stream",
     "text": [
      "api_call...:  78%|█████████████████████      | 838/1073 [07:50<00:44,  5.33it/s]"
     ]
    },
    {
     "name": "stdout",
     "output_type": "stream",
     "text": [
      "Error: 429 - {\n",
      "  \"error\" : {\n",
      "    \"status\" : 429\n",
      "  }\n",
      "}\n",
      "<bound method Response.json of <Response [429]>>\n",
      "Error: 429 - {\n",
      "  \"error\" : {\n",
      "    \"status\" : 429\n",
      "  }\n",
      "}\n",
      "<bound method Response.json of <Response [429]>>\n"
     ]
    },
    {
     "name": "stderr",
     "output_type": "stream",
     "text": [
      "api_call...:  78%|█████████████████████▏     | 840/1073 [07:50<00:40,  5.70it/s]"
     ]
    },
    {
     "name": "stdout",
     "output_type": "stream",
     "text": [
      "Error: 429 - {\n",
      "  \"error\" : {\n",
      "    \"status\" : 429\n",
      "  }\n",
      "}\n",
      "<bound method Response.json of <Response [429]>>\n",
      "Error: 429 - {\n",
      "  \"error\" : {\n",
      "    \"status\" : 429\n",
      "  }\n",
      "}\n",
      "<bound method Response.json of <Response [429]>>\n"
     ]
    },
    {
     "name": "stderr",
     "output_type": "stream",
     "text": [
      "\r",
      "api_call...:  78%|█████████████████████▏     | 841/1073 [07:50<00:38,  6.07it/s]"
     ]
    },
    {
     "name": "stdout",
     "output_type": "stream",
     "text": [
      "Error: 429 - {\n",
      "  \"error\" : {\n",
      "    \"status\" : 429\n",
      "  }\n",
      "}\n",
      "<bound method Response.json of <Response [429]>>\n"
     ]
    },
    {
     "name": "stderr",
     "output_type": "stream",
     "text": [
      "api_call...:  79%|█████████████████████▏     | 843/1073 [07:51<00:38,  6.04it/s]"
     ]
    },
    {
     "name": "stdout",
     "output_type": "stream",
     "text": [
      "Error: 429 - {\n",
      "  \"error\" : {\n",
      "    \"status\" : 429\n",
      "  }\n",
      "}\n",
      "<bound method Response.json of <Response [429]>>\n",
      "Error: 429 - {\n",
      "  \"error\" : {\n",
      "    \"status\" : 429\n",
      "  }\n",
      "}\n",
      "<bound method Response.json of <Response [429]>>\n"
     ]
    },
    {
     "name": "stderr",
     "output_type": "stream",
     "text": [
      "api_call...:  79%|█████████████████████▎     | 845/1073 [07:51<00:36,  6.20it/s]"
     ]
    },
    {
     "name": "stdout",
     "output_type": "stream",
     "text": [
      "Error: 429 - {\n",
      "  \"error\" : {\n",
      "    \"status\" : 429\n",
      "  }\n",
      "}\n",
      "<bound method Response.json of <Response [429]>>\n",
      "Error: 429 - {\n",
      "  \"error\" : {\n",
      "    \"status\" : 429\n",
      "  }\n",
      "}\n",
      "<bound method Response.json of <Response [429]>>\n"
     ]
    },
    {
     "name": "stderr",
     "output_type": "stream",
     "text": [
      "api_call...:  79%|█████████████████████▎     | 847/1073 [07:51<00:32,  6.85it/s]"
     ]
    },
    {
     "name": "stdout",
     "output_type": "stream",
     "text": [
      "Error: 429 - {\n",
      "  \"error\" : {\n",
      "    \"status\" : 429\n",
      "  }\n",
      "}\n",
      "<bound method Response.json of <Response [429]>>\n",
      "Error: 429 - {\n",
      "  \"error\" : {\n",
      "    \"status\" : 429\n",
      "  }\n",
      "}\n",
      "<bound method Response.json of <Response [429]>>\n"
     ]
    },
    {
     "name": "stderr",
     "output_type": "stream",
     "text": [
      "api_call...:  79%|█████████████████████▎     | 849/1073 [07:52<00:37,  6.04it/s]"
     ]
    },
    {
     "name": "stdout",
     "output_type": "stream",
     "text": [
      "Error: 429 - {\n",
      "  \"error\" : {\n",
      "    \"status\" : 429\n",
      "  }\n",
      "}\n",
      "<bound method Response.json of <Response [429]>>\n",
      "Error: 429 - {\n",
      "  \"error\" : {\n",
      "    \"status\" : 429\n",
      "  }\n",
      "}\n",
      "<bound method Response.json of <Response [429]>>\n"
     ]
    },
    {
     "name": "stderr",
     "output_type": "stream",
     "text": [
      "api_call...:  79%|█████████████████████▍     | 851/1073 [07:52<00:32,  6.85it/s]"
     ]
    },
    {
     "name": "stdout",
     "output_type": "stream",
     "text": [
      "Error: 429 - {\n",
      "  \"error\" : {\n",
      "    \"status\" : 429\n",
      "  }\n",
      "}\n",
      "<bound method Response.json of <Response [429]>>\n",
      "Error: 429 - {\n",
      "  \"error\" : {\n",
      "    \"status\" : 429\n",
      "  }\n",
      "}\n",
      "<bound method Response.json of <Response [429]>>\n"
     ]
    },
    {
     "name": "stderr",
     "output_type": "stream",
     "text": [
      "api_call...:  79%|█████████████████████▍     | 853/1073 [07:52<00:31,  7.09it/s]"
     ]
    },
    {
     "name": "stdout",
     "output_type": "stream",
     "text": [
      "Error: 429 - {\n",
      "  \"error\" : {\n",
      "    \"status\" : 429\n",
      "  }\n",
      "}\n",
      "<bound method Response.json of <Response [429]>>\n",
      "Error: 429 - {\n",
      "  \"error\" : {\n",
      "    \"status\" : 429\n",
      "  }\n",
      "}\n",
      "<bound method Response.json of <Response [429]>>\n"
     ]
    },
    {
     "name": "stderr",
     "output_type": "stream",
     "text": [
      "\r",
      "api_call...:  80%|█████████████████████▍     | 854/1073 [07:52<00:30,  7.30it/s]"
     ]
    },
    {
     "name": "stdout",
     "output_type": "stream",
     "text": [
      "Error: 429 - {\n",
      "  \"error\" : {\n",
      "    \"status\" : 429\n",
      "  }\n",
      "}\n",
      "<bound method Response.json of <Response [429]>>\n"
     ]
    },
    {
     "name": "stderr",
     "output_type": "stream",
     "text": [
      "api_call...:  80%|█████████████████████▌     | 856/1073 [07:53<00:35,  6.18it/s]"
     ]
    },
    {
     "name": "stdout",
     "output_type": "stream",
     "text": [
      "Error: 429 - {\n",
      "  \"error\" : {\n",
      "    \"status\" : 429\n",
      "  }\n",
      "}\n",
      "<bound method Response.json of <Response [429]>>\n",
      "Error: 429 - {\n",
      "  \"error\" : {\n",
      "    \"status\" : 429\n",
      "  }\n",
      "}\n",
      "<bound method Response.json of <Response [429]>>\n"
     ]
    },
    {
     "name": "stderr",
     "output_type": "stream",
     "text": [
      "api_call...:  80%|█████████████████████▌     | 858/1073 [07:53<00:31,  6.78it/s]"
     ]
    },
    {
     "name": "stdout",
     "output_type": "stream",
     "text": [
      "Error: 429 - {\n",
      "  \"error\" : {\n",
      "    \"status\" : 429\n",
      "  }\n",
      "}\n",
      "<bound method Response.json of <Response [429]>>\n",
      "Error: 429 - {\n",
      "  \"error\" : {\n",
      "    \"status\" : 429\n",
      "  }\n",
      "}\n",
      "<bound method Response.json of <Response [429]>>\n"
     ]
    },
    {
     "name": "stderr",
     "output_type": "stream",
     "text": [
      "api_call...:  80%|█████████████████████▋     | 860/1073 [07:53<00:33,  6.43it/s]"
     ]
    },
    {
     "name": "stdout",
     "output_type": "stream",
     "text": [
      "Error: 429 - {\n",
      "  \"error\" : {\n",
      "    \"status\" : 429\n",
      "  }\n",
      "}\n",
      "<bound method Response.json of <Response [429]>>\n",
      "Error: 429 - {\n",
      "  \"error\" : {\n",
      "    \"status\" : 429\n",
      "  }\n",
      "}\n",
      "<bound method Response.json of <Response [429]>>\n"
     ]
    },
    {
     "name": "stderr",
     "output_type": "stream",
     "text": [
      "\r",
      "api_call...:  80%|█████████████████████▋     | 861/1073 [07:54<00:34,  6.18it/s]"
     ]
    },
    {
     "name": "stdout",
     "output_type": "stream",
     "text": [
      "Error: 429 - {\n",
      "  \"error\" : {\n",
      "    \"status\" : 429\n",
      "  }\n",
      "}\n",
      "<bound method Response.json of <Response [429]>>\n"
     ]
    },
    {
     "name": "stderr",
     "output_type": "stream",
     "text": [
      "api_call...:  80%|█████████████████████▋     | 863/1073 [07:54<00:35,  5.98it/s]"
     ]
    },
    {
     "name": "stdout",
     "output_type": "stream",
     "text": [
      "Error: 429 - {\n",
      "  \"error\" : {\n",
      "    \"status\" : 429\n",
      "  }\n",
      "}\n",
      "<bound method Response.json of <Response [429]>>\n",
      "Error: 429 - {\n",
      "  \"error\" : {\n",
      "    \"status\" : 429\n",
      "  }\n",
      "}\n",
      "<bound method Response.json of <Response [429]>>\n"
     ]
    },
    {
     "name": "stderr",
     "output_type": "stream",
     "text": [
      "api_call...:  81%|█████████████████████▊     | 865/1073 [07:54<00:33,  6.28it/s]"
     ]
    },
    {
     "name": "stdout",
     "output_type": "stream",
     "text": [
      "Error: 429 - {\n",
      "  \"error\" : {\n",
      "    \"status\" : 429\n",
      "  }\n",
      "}\n",
      "<bound method Response.json of <Response [429]>>\n",
      "Error: 429 - {\n",
      "  \"error\" : {\n",
      "    \"status\" : 429\n",
      "  }\n",
      "}\n",
      "<bound method Response.json of <Response [429]>>\n"
     ]
    },
    {
     "name": "stderr",
     "output_type": "stream",
     "text": [
      "api_call...:  81%|█████████████████████▊     | 867/1073 [07:54<00:29,  6.95it/s]"
     ]
    },
    {
     "name": "stdout",
     "output_type": "stream",
     "text": [
      "Error: 429 - {\n",
      "  \"error\" : {\n",
      "    \"status\" : 429\n",
      "  }\n",
      "}\n",
      "<bound method Response.json of <Response [429]>>\n",
      "Error: 429 - {\n",
      "  \"error\" : {\n",
      "    \"status\" : 429\n",
      "  }\n",
      "}\n",
      "<bound method Response.json of <Response [429]>>\n"
     ]
    },
    {
     "name": "stderr",
     "output_type": "stream",
     "text": [
      "\r",
      "api_call...:  81%|█████████████████████▊     | 868/1073 [07:55<00:29,  7.01it/s]"
     ]
    },
    {
     "name": "stdout",
     "output_type": "stream",
     "text": [
      "Error: 429 - {\n",
      "  \"error\" : {\n",
      "    \"status\" : 429\n",
      "  }\n",
      "}\n",
      "<bound method Response.json of <Response [429]>>\n"
     ]
    },
    {
     "name": "stderr",
     "output_type": "stream",
     "text": [
      "api_call...:  81%|█████████████████████▉     | 870/1073 [07:55<00:30,  6.56it/s]"
     ]
    },
    {
     "name": "stdout",
     "output_type": "stream",
     "text": [
      "Error: 429 - {\n",
      "  \"error\" : {\n",
      "    \"status\" : 429\n",
      "  }\n",
      "}\n",
      "<bound method Response.json of <Response [429]>>\n",
      "Error: 429 - {\n",
      "  \"error\" : {\n",
      "    \"status\" : 429\n",
      "  }\n",
      "}\n",
      "<bound method Response.json of <Response [429]>>\n"
     ]
    },
    {
     "name": "stderr",
     "output_type": "stream",
     "text": [
      "api_call...:  81%|█████████████████████▉     | 872/1073 [07:55<00:31,  6.36it/s]"
     ]
    },
    {
     "name": "stdout",
     "output_type": "stream",
     "text": [
      "Error: 429 - {\n",
      "  \"error\" : {\n",
      "    \"status\" : 429\n",
      "  }\n",
      "}\n",
      "<bound method Response.json of <Response [429]>>\n",
      "Error: 429 - {\n",
      "  \"error\" : {\n",
      "    \"status\" : 429\n",
      "  }\n",
      "}\n",
      "<bound method Response.json of <Response [429]>>\n"
     ]
    },
    {
     "name": "stderr",
     "output_type": "stream",
     "text": [
      "api_call...:  81%|█████████████████████▉     | 874/1073 [07:56<00:28,  7.09it/s]"
     ]
    },
    {
     "name": "stdout",
     "output_type": "stream",
     "text": [
      "Error: 429 - {\n",
      "  \"error\" : {\n",
      "    \"status\" : 429\n",
      "  }\n",
      "}\n",
      "<bound method Response.json of <Response [429]>>\n",
      "Error: 429 - {\n",
      "  \"error\" : {\n",
      "    \"status\" : 429\n",
      "  }\n",
      "}\n",
      "<bound method Response.json of <Response [429]>>\n"
     ]
    },
    {
     "name": "stderr",
     "output_type": "stream",
     "text": [
      "\r",
      "api_call...:  82%|██████████████████████     | 875/1073 [07:56<00:28,  7.05it/s]"
     ]
    },
    {
     "name": "stdout",
     "output_type": "stream",
     "text": [
      "Error: 429 - {\n",
      "  \"error\" : {\n",
      "    \"status\" : 429\n",
      "  }\n",
      "}\n",
      "<bound method Response.json of <Response [429]>>\n"
     ]
    },
    {
     "name": "stderr",
     "output_type": "stream",
     "text": [
      "api_call...:  82%|██████████████████████     | 877/1073 [07:56<00:30,  6.44it/s]"
     ]
    },
    {
     "name": "stdout",
     "output_type": "stream",
     "text": [
      "Error: 429 - {\n",
      "  \"error\" : {\n",
      "    \"status\" : 429\n",
      "  }\n",
      "}\n",
      "<bound method Response.json of <Response [429]>>\n",
      "Error: 429 - {\n",
      "  \"error\" : {\n",
      "    \"status\" : 429\n",
      "  }\n",
      "}\n",
      "<bound method Response.json of <Response [429]>>\n"
     ]
    },
    {
     "name": "stderr",
     "output_type": "stream",
     "text": [
      "api_call...:  82%|██████████████████████     | 879/1073 [07:56<00:30,  6.43it/s]"
     ]
    },
    {
     "name": "stdout",
     "output_type": "stream",
     "text": [
      "Error: 429 - {\n",
      "  \"error\" : {\n",
      "    \"status\" : 429\n",
      "  }\n",
      "}\n",
      "<bound method Response.json of <Response [429]>>\n",
      "Error: 429 - {\n",
      "  \"error\" : {\n",
      "    \"status\" : 429\n",
      "  }\n",
      "}\n",
      "<bound method Response.json of <Response [429]>>\n"
     ]
    },
    {
     "name": "stderr",
     "output_type": "stream",
     "text": [
      "api_call...:  82%|██████████████████████▏    | 881/1073 [07:57<00:27,  6.96it/s]"
     ]
    },
    {
     "name": "stdout",
     "output_type": "stream",
     "text": [
      "Error: 429 - {\n",
      "  \"error\" : {\n",
      "    \"status\" : 429\n",
      "  }\n",
      "}\n",
      "<bound method Response.json of <Response [429]>>\n",
      "Error: 429 - {\n",
      "  \"error\" : {\n",
      "    \"status\" : 429\n",
      "  }\n",
      "}\n",
      "<bound method Response.json of <Response [429]>>\n"
     ]
    },
    {
     "name": "stderr",
     "output_type": "stream",
     "text": [
      "api_call...:  82%|██████████████████████▏    | 883/1073 [07:57<00:31,  6.05it/s]"
     ]
    },
    {
     "name": "stdout",
     "output_type": "stream",
     "text": [
      "Error: 429 - {\n",
      "  \"error\" : {\n",
      "    \"status\" : 429\n",
      "  }\n",
      "}\n",
      "<bound method Response.json of <Response [429]>>\n",
      "Error: 429 - {\n",
      "  \"error\" : {\n",
      "    \"status\" : 429\n",
      "  }\n",
      "}\n",
      "<bound method Response.json of <Response [429]>>\n"
     ]
    },
    {
     "name": "stderr",
     "output_type": "stream",
     "text": [
      "api_call...:  82%|██████████████████████▎    | 885/1073 [07:57<00:27,  6.75it/s]"
     ]
    },
    {
     "name": "stdout",
     "output_type": "stream",
     "text": [
      "Error: 429 - {\n",
      "  \"error\" : {\n",
      "    \"status\" : 429\n",
      "  }\n",
      "}\n",
      "<bound method Response.json of <Response [429]>>\n",
      "Error: 429 - {\n",
      "  \"error\" : {\n",
      "    \"status\" : 429\n",
      "  }\n",
      "}\n",
      "<bound method Response.json of <Response [429]>>\n"
     ]
    },
    {
     "name": "stderr",
     "output_type": "stream",
     "text": [
      "api_call...:  83%|██████████████████████▎    | 887/1073 [07:58<00:29,  6.28it/s]"
     ]
    },
    {
     "name": "stdout",
     "output_type": "stream",
     "text": [
      "Error: 429 - {\n",
      "  \"error\" : {\n",
      "    \"status\" : 429\n",
      "  }\n",
      "}\n",
      "<bound method Response.json of <Response [429]>>\n",
      "Error: 429 - {\n",
      "  \"error\" : {\n",
      "    \"status\" : 429\n",
      "  }\n",
      "}\n",
      "<bound method Response.json of <Response [429]>>\n"
     ]
    },
    {
     "name": "stderr",
     "output_type": "stream",
     "text": [
      "\r",
      "api_call...:  83%|██████████████████████▎    | 888/1073 [07:58<00:29,  6.20it/s]"
     ]
    },
    {
     "name": "stdout",
     "output_type": "stream",
     "text": [
      "Error: 429 - {\n",
      "  \"error\" : {\n",
      "    \"status\" : 429\n",
      "  }\n",
      "}\n",
      "<bound method Response.json of <Response [429]>>\n"
     ]
    },
    {
     "name": "stderr",
     "output_type": "stream",
     "text": [
      "api_call...:  83%|██████████████████████▍    | 890/1073 [07:58<00:30,  6.09it/s]"
     ]
    },
    {
     "name": "stdout",
     "output_type": "stream",
     "text": [
      "Error: 429 - {\n",
      "  \"error\" : {\n",
      "    \"status\" : 429\n",
      "  }\n",
      "}\n",
      "<bound method Response.json of <Response [429]>>\n",
      "Error: 429 - {\n",
      "  \"error\" : {\n",
      "    \"status\" : 429\n",
      "  }\n",
      "}\n",
      "<bound method Response.json of <Response [429]>>\n"
     ]
    },
    {
     "name": "stderr",
     "output_type": "stream",
     "text": [
      "api_call...:  83%|██████████████████████▍    | 892/1073 [07:58<00:28,  6.25it/s]"
     ]
    },
    {
     "name": "stdout",
     "output_type": "stream",
     "text": [
      "Error: 429 - {\n",
      "  \"error\" : {\n",
      "    \"status\" : 429\n",
      "  }\n",
      "}\n",
      "<bound method Response.json of <Response [429]>>\n",
      "Error: 429 - {\n",
      "  \"error\" : {\n",
      "    \"status\" : 429\n",
      "  }\n",
      "}\n",
      "<bound method Response.json of <Response [429]>>\n"
     ]
    },
    {
     "name": "stderr",
     "output_type": "stream",
     "text": [
      "api_call...:  83%|██████████████████████▍    | 894/1073 [07:59<00:26,  6.77it/s]"
     ]
    },
    {
     "name": "stdout",
     "output_type": "stream",
     "text": [
      "Error: 429 - {\n",
      "  \"error\" : {\n",
      "    \"status\" : 429\n",
      "  }\n",
      "}\n",
      "<bound method Response.json of <Response [429]>>\n",
      "Error: 429 - {\n",
      "  \"error\" : {\n",
      "    \"status\" : 429\n",
      "  }\n",
      "}\n",
      "<bound method Response.json of <Response [429]>>\n"
     ]
    },
    {
     "name": "stderr",
     "output_type": "stream",
     "text": [
      "api_call...:  84%|██████████████████████▌    | 896/1073 [07:59<00:29,  6.00it/s]"
     ]
    },
    {
     "name": "stdout",
     "output_type": "stream",
     "text": [
      "Error: 429 - {\n",
      "  \"error\" : {\n",
      "    \"status\" : 429\n",
      "  }\n",
      "}\n",
      "<bound method Response.json of <Response [429]>>\n",
      "Error: 429 - {\n",
      "  \"error\" : {\n",
      "    \"status\" : 429\n",
      "  }\n",
      "}\n",
      "<bound method Response.json of <Response [429]>>\n"
     ]
    },
    {
     "name": "stderr",
     "output_type": "stream",
     "text": [
      "api_call...:  84%|██████████████████████▌    | 898/1073 [07:59<00:26,  6.56it/s]"
     ]
    },
    {
     "name": "stdout",
     "output_type": "stream",
     "text": [
      "Error: 429 - {\n",
      "  \"error\" : {\n",
      "    \"status\" : 429\n",
      "  }\n",
      "}\n",
      "<bound method Response.json of <Response [429]>>\n",
      "Error: 429 - {\n",
      "  \"error\" : {\n",
      "    \"status\" : 429\n",
      "  }\n",
      "}\n",
      "<bound method Response.json of <Response [429]>>\n"
     ]
    },
    {
     "name": "stderr",
     "output_type": "stream",
     "text": [
      "api_call...:  84%|██████████████████████▋    | 900/1073 [08:00<00:28,  6.12it/s]"
     ]
    },
    {
     "name": "stdout",
     "output_type": "stream",
     "text": [
      "Error: 429 - {\n",
      "  \"error\" : {\n",
      "    \"status\" : 429\n",
      "  }\n",
      "}\n",
      "<bound method Response.json of <Response [429]>>\n",
      "Error: 429 - {\n",
      "  \"error\" : {\n",
      "    \"status\" : 429\n",
      "  }\n",
      "}\n",
      "<bound method Response.json of <Response [429]>>\n"
     ]
    },
    {
     "name": "stderr",
     "output_type": "stream",
     "text": [
      "api_call...:  84%|██████████████████████▋    | 902/1073 [08:35<21:22,  7.50s/it]"
     ]
    },
    {
     "name": "stdout",
     "output_type": "stream",
     "text": [
      "Error: 429 - {\n",
      "  \"error\" : {\n",
      "    \"status\" : 429\n",
      "  }\n",
      "}\n",
      "<bound method Response.json of <Response [429]>>\n",
      "Error: 429 - {\n",
      "  \"error\" : {\n",
      "    \"status\" : 429\n",
      "  }\n",
      "}\n",
      "<bound method Response.json of <Response [429]>>\n"
     ]
    },
    {
     "name": "stderr",
     "output_type": "stream",
     "text": [
      "api_call...:  84%|██████████████████████▋    | 904/1073 [08:35<10:35,  3.76s/it]"
     ]
    },
    {
     "name": "stdout",
     "output_type": "stream",
     "text": [
      "Error: 429 - {\n",
      "  \"error\" : {\n",
      "    \"status\" : 429\n",
      "  }\n",
      "}\n",
      "<bound method Response.json of <Response [429]>>\n",
      "Error: 429 - {\n",
      "  \"error\" : {\n",
      "    \"status\" : 429\n",
      "  }\n",
      "}\n",
      "<bound method Response.json of <Response [429]>>\n"
     ]
    },
    {
     "name": "stderr",
     "output_type": "stream",
     "text": [
      "\r",
      "api_call...:  84%|██████████████████████▊    | 905/1073 [08:36<07:30,  2.68s/it]"
     ]
    },
    {
     "name": "stdout",
     "output_type": "stream",
     "text": [
      "Error: 429 - {\n",
      "  \"error\" : {\n",
      "    \"status\" : 429\n",
      "  }\n",
      "}\n",
      "<bound method Response.json of <Response [429]>>\n"
     ]
    },
    {
     "name": "stderr",
     "output_type": "stream",
     "text": [
      "api_call...:  85%|██████████████████████▊    | 907/1073 [08:36<03:52,  1.40s/it]"
     ]
    },
    {
     "name": "stdout",
     "output_type": "stream",
     "text": [
      "Error: 429 - {\n",
      "  \"error\" : {\n",
      "    \"status\" : 429\n",
      "  }\n",
      "}\n",
      "<bound method Response.json of <Response [429]>>\n",
      "Error: 429 - {\n",
      "  \"error\" : {\n",
      "    \"status\" : 429\n",
      "  }\n",
      "}\n",
      "<bound method Response.json of <Response [429]>>\n"
     ]
    },
    {
     "name": "stderr",
     "output_type": "stream",
     "text": [
      "api_call...:  85%|██████████████████████▊    | 909/1073 [08:36<02:05,  1.31it/s]"
     ]
    },
    {
     "name": "stdout",
     "output_type": "stream",
     "text": [
      "Error: 429 - {\n",
      "  \"error\" : {\n",
      "    \"status\" : 429\n",
      "  }\n",
      "}\n",
      "<bound method Response.json of <Response [429]>>\n",
      "Error: 429 - {\n",
      "  \"error\" : {\n",
      "    \"status\" : 429\n",
      "  }\n",
      "}\n",
      "<bound method Response.json of <Response [429]>>\n"
     ]
    },
    {
     "name": "stderr",
     "output_type": "stream",
     "text": [
      "api_call...:  85%|██████████████████████▉    | 911/1073 [08:36<01:11,  2.27it/s]"
     ]
    },
    {
     "name": "stdout",
     "output_type": "stream",
     "text": [
      "Error: 429 - {\n",
      "  \"error\" : {\n",
      "    \"status\" : 429\n",
      "  }\n",
      "}\n",
      "<bound method Response.json of <Response [429]>>\n",
      "Error: 429 - {\n",
      "  \"error\" : {\n",
      "    \"status\" : 429\n",
      "  }\n",
      "}\n",
      "<bound method Response.json of <Response [429]>>\n"
     ]
    },
    {
     "name": "stderr",
     "output_type": "stream",
     "text": [
      "api_call...:  85%|██████████████████████▉    | 913/1073 [08:37<00:49,  3.22it/s]"
     ]
    },
    {
     "name": "stdout",
     "output_type": "stream",
     "text": [
      "Error: 429 - {\n",
      "  \"error\" : {\n",
      "    \"status\" : 429\n",
      "  }\n",
      "}\n",
      "<bound method Response.json of <Response [429]>>\n",
      "Error: 429 - {\n",
      "  \"error\" : {\n",
      "    \"status\" : 429\n",
      "  }\n",
      "}\n",
      "<bound method Response.json of <Response [429]>>\n"
     ]
    },
    {
     "name": "stderr",
     "output_type": "stream",
     "text": [
      "api_call...:  85%|███████████████████████    | 915/1073 [08:37<00:34,  4.58it/s]"
     ]
    },
    {
     "name": "stdout",
     "output_type": "stream",
     "text": [
      "Error: 429 - {\n",
      "  \"error\" : {\n",
      "    \"status\" : 429\n",
      "  }\n",
      "}\n",
      "<bound method Response.json of <Response [429]>>\n",
      "Error: 429 - {\n",
      "  \"error\" : {\n",
      "    \"status\" : 429\n",
      "  }\n",
      "}\n",
      "<bound method Response.json of <Response [429]>>\n"
     ]
    },
    {
     "name": "stderr",
     "output_type": "stream",
     "text": [
      "api_call...:  85%|███████████████████████    | 917/1073 [08:37<00:28,  5.50it/s]"
     ]
    },
    {
     "name": "stdout",
     "output_type": "stream",
     "text": [
      "Error: 429 - {\n",
      "  \"error\" : {\n",
      "    \"status\" : 429\n",
      "  }\n",
      "}\n",
      "<bound method Response.json of <Response [429]>>\n",
      "Error: 429 - {\n",
      "  \"error\" : {\n",
      "    \"status\" : 429\n",
      "  }\n",
      "}\n",
      "<bound method Response.json of <Response [429]>>\n"
     ]
    },
    {
     "name": "stderr",
     "output_type": "stream",
     "text": [
      "\r",
      "api_call...:  86%|███████████████████████    | 918/1073 [08:38<00:25,  5.97it/s]"
     ]
    },
    {
     "name": "stdout",
     "output_type": "stream",
     "text": [
      "Error: 429 - {\n",
      "  \"error\" : {\n",
      "    \"status\" : 429\n",
      "  }\n",
      "}\n",
      "<bound method Response.json of <Response [429]>>\n"
     ]
    },
    {
     "name": "stderr",
     "output_type": "stream",
     "text": [
      "api_call...:  86%|███████████████████████▏   | 920/1073 [08:38<00:25,  5.94it/s]"
     ]
    },
    {
     "name": "stdout",
     "output_type": "stream",
     "text": [
      "Error: 429 - {\n",
      "  \"error\" : {\n",
      "    \"status\" : 429\n",
      "  }\n",
      "}\n",
      "<bound method Response.json of <Response [429]>>\n",
      "Error: 429 - {\n",
      "  \"error\" : {\n",
      "    \"status\" : 429\n",
      "  }\n",
      "}\n",
      "<bound method Response.json of <Response [429]>>\n"
     ]
    },
    {
     "name": "stderr",
     "output_type": "stream",
     "text": [
      "api_call...:  86%|███████████████████████▏   | 922/1073 [08:38<00:22,  6.77it/s]"
     ]
    },
    {
     "name": "stdout",
     "output_type": "stream",
     "text": [
      "Error: 429 - {\n",
      "  \"error\" : {\n",
      "    \"status\" : 429\n",
      "  }\n",
      "}\n",
      "<bound method Response.json of <Response [429]>>\n",
      "Error: 429 - {\n",
      "  \"error\" : {\n",
      "    \"status\" : 429\n",
      "  }\n",
      "}\n",
      "<bound method Response.json of <Response [429]>>\n"
     ]
    },
    {
     "name": "stderr",
     "output_type": "stream",
     "text": [
      "api_call...:  86%|███████████████████████▎   | 924/1073 [08:38<00:21,  6.98it/s]"
     ]
    },
    {
     "name": "stdout",
     "output_type": "stream",
     "text": [
      "Error: 429 - {\n",
      "  \"error\" : {\n",
      "    \"status\" : 429\n",
      "  }\n",
      "}\n",
      "<bound method Response.json of <Response [429]>>\n",
      "Error: 429 - {\n",
      "  \"error\" : {\n",
      "    \"status\" : 429\n",
      "  }\n",
      "}\n",
      "<bound method Response.json of <Response [429]>>\n"
     ]
    },
    {
     "name": "stderr",
     "output_type": "stream",
     "text": [
      "api_call...:  86%|███████████████████████▎   | 927/1073 [08:39<00:25,  5.62it/s]"
     ]
    },
    {
     "name": "stdout",
     "output_type": "stream",
     "text": [
      "Error: 429 - {\n",
      "  \"error\" : {\n",
      "    \"status\" : 429\n",
      "  }\n",
      "}\n",
      "<bound method Response.json of <Response [429]>>\n",
      "Error: 429 - {\n",
      "  \"error\" : {\n",
      "    \"status\" : 429\n",
      "  }\n",
      "}\n",
      "<bound method Response.json of <Response [429]>>\n"
     ]
    },
    {
     "name": "stderr",
     "output_type": "stream",
     "text": [
      "\r",
      "api_call...:  86%|███████████████████████▎   | 928/1073 [08:39<00:23,  6.08it/s]"
     ]
    },
    {
     "name": "stdout",
     "output_type": "stream",
     "text": [
      "Error: 429 - {\n",
      "  \"error\" : {\n",
      "    \"status\" : 429\n",
      "  }\n",
      "}\n",
      "<bound method Response.json of <Response [429]>>\n"
     ]
    },
    {
     "name": "stderr",
     "output_type": "stream",
     "text": [
      "api_call...:  87%|███████████████████████▍   | 930/1073 [08:40<00:24,  5.95it/s]"
     ]
    },
    {
     "name": "stdout",
     "output_type": "stream",
     "text": [
      "Error: 429 - {\n",
      "  \"error\" : {\n",
      "    \"status\" : 429\n",
      "  }\n",
      "}\n",
      "<bound method Response.json of <Response [429]>>\n",
      "Error: 429 - {\n",
      "  \"error\" : {\n",
      "    \"status\" : 429\n",
      "  }\n",
      "}\n",
      "<bound method Response.json of <Response [429]>>\n"
     ]
    },
    {
     "name": "stderr",
     "output_type": "stream",
     "text": [
      "\r",
      "api_call...:  87%|███████████████████████▍   | 931/1073 [08:40<00:22,  6.20it/s]"
     ]
    },
    {
     "name": "stdout",
     "output_type": "stream",
     "text": [
      "Error: 429 - {\n",
      "  \"error\" : {\n",
      "    \"status\" : 429\n",
      "  }\n",
      "}\n",
      "<bound method Response.json of <Response [429]>>\n"
     ]
    },
    {
     "name": "stderr",
     "output_type": "stream",
     "text": [
      "api_call...:  87%|███████████████████████▍   | 933/1073 [08:40<00:24,  5.74it/s]"
     ]
    },
    {
     "name": "stdout",
     "output_type": "stream",
     "text": [
      "Error: 429 - {\n",
      "  \"error\" : {\n",
      "    \"status\" : 429\n",
      "  }\n",
      "}\n",
      "<bound method Response.json of <Response [429]>>\n",
      "Error: 429 - {\n",
      "  \"error\" : {\n",
      "    \"status\" : 429\n",
      "  }\n",
      "}\n",
      "<bound method Response.json of <Response [429]>>\n"
     ]
    },
    {
     "name": "stderr",
     "output_type": "stream",
     "text": [
      "api_call...:  87%|███████████████████████▌   | 935/1073 [08:40<00:24,  5.60it/s]"
     ]
    },
    {
     "name": "stdout",
     "output_type": "stream",
     "text": [
      "Error: 429 - {\n",
      "  \"error\" : {\n",
      "    \"status\" : 429\n",
      "  }\n",
      "}\n",
      "<bound method Response.json of <Response [429]>>\n",
      "Error: 429 - {\n",
      "  \"error\" : {\n",
      "    \"status\" : 429\n",
      "  }\n",
      "}\n",
      "<bound method Response.json of <Response [429]>>\n"
     ]
    },
    {
     "name": "stderr",
     "output_type": "stream",
     "text": [
      "\r",
      "api_call...:  87%|███████████████████████▌   | 936/1073 [08:41<00:22,  6.08it/s]"
     ]
    },
    {
     "name": "stdout",
     "output_type": "stream",
     "text": [
      "Error: 429 - {\n",
      "  \"error\" : {\n",
      "    \"status\" : 429\n",
      "  }\n",
      "}\n",
      "<bound method Response.json of <Response [429]>>\n"
     ]
    },
    {
     "name": "stderr",
     "output_type": "stream",
     "text": [
      "api_call...:  87%|███████████████████████▌   | 938/1073 [08:41<00:23,  5.78it/s]"
     ]
    },
    {
     "name": "stdout",
     "output_type": "stream",
     "text": [
      "Error: 429 - {\n",
      "  \"error\" : {\n",
      "    \"status\" : 429\n",
      "  }\n",
      "}\n",
      "<bound method Response.json of <Response [429]>>\n",
      "Error: 429 - {\n",
      "  \"error\" : {\n",
      "    \"status\" : 429\n",
      "  }\n",
      "}\n",
      "<bound method Response.json of <Response [429]>>\n"
     ]
    },
    {
     "name": "stderr",
     "output_type": "stream",
     "text": [
      "api_call...:  88%|███████████████████████▋   | 940/1073 [08:41<00:19,  6.76it/s]"
     ]
    },
    {
     "name": "stdout",
     "output_type": "stream",
     "text": [
      "Error: 429 - {\n",
      "  \"error\" : {\n",
      "    \"status\" : 429\n",
      "  }\n",
      "}\n",
      "<bound method Response.json of <Response [429]>>\n",
      "Error: 429 - {\n",
      "  \"error\" : {\n",
      "    \"status\" : 429\n",
      "  }\n",
      "}\n",
      "<bound method Response.json of <Response [429]>>\n"
     ]
    },
    {
     "name": "stderr",
     "output_type": "stream",
     "text": [
      "api_call...:  88%|███████████████████████▋   | 942/1073 [08:42<00:19,  6.86it/s]"
     ]
    },
    {
     "name": "stdout",
     "output_type": "stream",
     "text": [
      "Error: 429 - {\n",
      "  \"error\" : {\n",
      "    \"status\" : 429\n",
      "  }\n",
      "}\n",
      "<bound method Response.json of <Response [429]>>\n",
      "Error: 429 - {\n",
      "  \"error\" : {\n",
      "    \"status\" : 429\n",
      "  }\n",
      "}\n",
      "<bound method Response.json of <Response [429]>>\n"
     ]
    },
    {
     "name": "stderr",
     "output_type": "stream",
     "text": [
      "\r",
      "api_call...:  88%|███████████████████████▋   | 943/1073 [08:42<00:18,  7.01it/s]"
     ]
    },
    {
     "name": "stdout",
     "output_type": "stream",
     "text": [
      "Error: 429 - {\n",
      "  \"error\" : {\n",
      "    \"status\" : 429\n",
      "  }\n",
      "}\n",
      "<bound method Response.json of <Response [429]>>\n"
     ]
    },
    {
     "name": "stderr",
     "output_type": "stream",
     "text": [
      "api_call...:  88%|███████████████████████▊   | 945/1073 [08:42<00:20,  6.18it/s]"
     ]
    },
    {
     "name": "stdout",
     "output_type": "stream",
     "text": [
      "Error: 429 - {\n",
      "  \"error\" : {\n",
      "    \"status\" : 429\n",
      "  }\n",
      "}\n",
      "<bound method Response.json of <Response [429]>>\n",
      "Error: 429 - {\n",
      "  \"error\" : {\n",
      "    \"status\" : 429\n",
      "  }\n",
      "}\n",
      "<bound method Response.json of <Response [429]>>\n"
     ]
    },
    {
     "name": "stderr",
     "output_type": "stream",
     "text": [
      "api_call...:  88%|███████████████████████▊   | 947/1073 [08:42<00:18,  6.78it/s]"
     ]
    },
    {
     "name": "stdout",
     "output_type": "stream",
     "text": [
      "Error: 429 - {\n",
      "  \"error\" : {\n",
      "    \"status\" : 429\n",
      "  }\n",
      "}\n",
      "<bound method Response.json of <Response [429]>>\n",
      "Error: 429 - {\n",
      "  \"error\" : {\n",
      "    \"status\" : 429\n",
      "  }\n",
      "}\n",
      "<bound method Response.json of <Response [429]>>\n"
     ]
    },
    {
     "name": "stderr",
     "output_type": "stream",
     "text": [
      "api_call...:  88%|███████████████████████▉   | 949/1073 [08:43<00:19,  6.40it/s]"
     ]
    },
    {
     "name": "stdout",
     "output_type": "stream",
     "text": [
      "Error: 429 - {\n",
      "  \"error\" : {\n",
      "    \"status\" : 429\n",
      "  }\n",
      "}\n",
      "<bound method Response.json of <Response [429]>>\n",
      "Error: 429 - {\n",
      "  \"error\" : {\n",
      "    \"status\" : 429\n",
      "  }\n",
      "}\n",
      "<bound method Response.json of <Response [429]>>\n"
     ]
    },
    {
     "name": "stderr",
     "output_type": "stream",
     "text": [
      "\r",
      "api_call...:  89%|███████████████████████▉   | 950/1073 [08:43<00:19,  6.17it/s]"
     ]
    },
    {
     "name": "stdout",
     "output_type": "stream",
     "text": [
      "Error: 429 - {\n",
      "  \"error\" : {\n",
      "    \"status\" : 429\n",
      "  }\n",
      "}\n",
      "<bound method Response.json of <Response [429]>>\n"
     ]
    },
    {
     "name": "stderr",
     "output_type": "stream",
     "text": [
      "api_call...:  89%|███████████████████████▉   | 952/1073 [08:43<00:21,  5.71it/s]"
     ]
    },
    {
     "name": "stdout",
     "output_type": "stream",
     "text": [
      "Error: 429 - {\n",
      "  \"error\" : {\n",
      "    \"status\" : 429\n",
      "  }\n",
      "}\n",
      "<bound method Response.json of <Response [429]>>\n",
      "Error: 429 - {\n",
      "  \"error\" : {\n",
      "    \"status\" : 429\n",
      "  }\n",
      "}\n",
      "<bound method Response.json of <Response [429]>>\n"
     ]
    },
    {
     "name": "stderr",
     "output_type": "stream",
     "text": [
      "\r",
      "api_call...:  89%|███████████████████████▉   | 953/1073 [08:43<00:19,  6.16it/s]"
     ]
    },
    {
     "name": "stdout",
     "output_type": "stream",
     "text": [
      "Error: 429 - {\n",
      "  \"error\" : {\n",
      "    \"status\" : 429\n",
      "  }\n",
      "}\n",
      "<bound method Response.json of <Response [429]>>\n"
     ]
    },
    {
     "name": "stderr",
     "output_type": "stream",
     "text": [
      "api_call...:  89%|████████████████████████   | 955/1073 [08:44<00:19,  5.96it/s]"
     ]
    },
    {
     "name": "stdout",
     "output_type": "stream",
     "text": [
      "Error: 429 - {\n",
      "  \"error\" : {\n",
      "    \"status\" : 429\n",
      "  }\n",
      "}\n",
      "<bound method Response.json of <Response [429]>>\n",
      "Error: 429 - {\n",
      "  \"error\" : {\n",
      "    \"status\" : 429\n",
      "  }\n",
      "}\n",
      "<bound method Response.json of <Response [429]>>\n"
     ]
    },
    {
     "name": "stderr",
     "output_type": "stream",
     "text": [
      "\r",
      "api_call...:  89%|████████████████████████   | 956/1073 [08:44<00:19,  5.99it/s]"
     ]
    },
    {
     "name": "stdout",
     "output_type": "stream",
     "text": [
      "Error: 429 - {\n",
      "  \"error\" : {\n",
      "    \"status\" : 429\n",
      "  }\n",
      "}\n",
      "<bound method Response.json of <Response [429]>>\n"
     ]
    },
    {
     "name": "stderr",
     "output_type": "stream",
     "text": [
      "api_call...:  89%|████████████████████████   | 958/1073 [08:44<00:21,  5.39it/s]"
     ]
    },
    {
     "name": "stdout",
     "output_type": "stream",
     "text": [
      "Error: 429 - {\n",
      "  \"error\" : {\n",
      "    \"status\" : 429\n",
      "  }\n",
      "}\n",
      "<bound method Response.json of <Response [429]>>\n",
      "Error: 429 - {\n",
      "  \"error\" : {\n",
      "    \"status\" : 429\n",
      "  }\n",
      "}\n",
      "<bound method Response.json of <Response [429]>>\n"
     ]
    },
    {
     "name": "stderr",
     "output_type": "stream",
     "text": [
      "\r",
      "api_call...:  89%|████████████████████████▏  | 959/1073 [08:44<00:19,  5.92it/s]"
     ]
    },
    {
     "name": "stdout",
     "output_type": "stream",
     "text": [
      "Error: 429 - {\n",
      "  \"error\" : {\n",
      "    \"status\" : 429\n",
      "  }\n",
      "}\n",
      "<bound method Response.json of <Response [429]>>\n"
     ]
    },
    {
     "name": "stderr",
     "output_type": "stream",
     "text": [
      "api_call...:  90%|████████████████████████▏  | 961/1073 [08:45<00:18,  5.98it/s]"
     ]
    },
    {
     "name": "stdout",
     "output_type": "stream",
     "text": [
      "Error: 429 - {\n",
      "  \"error\" : {\n",
      "    \"status\" : 429\n",
      "  }\n",
      "}\n",
      "<bound method Response.json of <Response [429]>>\n",
      "Error: 429 - {\n",
      "  \"error\" : {\n",
      "    \"status\" : 429\n",
      "  }\n",
      "}\n",
      "<bound method Response.json of <Response [429]>>\n"
     ]
    },
    {
     "name": "stderr",
     "output_type": "stream",
     "text": [
      "\r",
      "api_call...:  90%|████████████████████████▏  | 962/1073 [08:45<00:18,  6.01it/s]"
     ]
    },
    {
     "name": "stdout",
     "output_type": "stream",
     "text": [
      "Error: 429 - {\n",
      "  \"error\" : {\n",
      "    \"status\" : 429\n",
      "  }\n",
      "}\n",
      "<bound method Response.json of <Response [429]>>\n"
     ]
    },
    {
     "name": "stderr",
     "output_type": "stream",
     "text": [
      "api_call...:  90%|████████████████████████▎  | 964/1073 [08:45<00:19,  5.63it/s]"
     ]
    },
    {
     "name": "stdout",
     "output_type": "stream",
     "text": [
      "Error: 429 - {\n",
      "  \"error\" : {\n",
      "    \"status\" : 429\n",
      "  }\n",
      "}\n",
      "<bound method Response.json of <Response [429]>>\n",
      "Error: 429 - {\n",
      "  \"error\" : {\n",
      "    \"status\" : 429\n",
      "  }\n",
      "}\n",
      "<bound method Response.json of <Response [429]>>\n"
     ]
    },
    {
     "name": "stderr",
     "output_type": "stream",
     "text": [
      "\r",
      "api_call...:  90%|████████████████████████▎  | 965/1073 [08:45<00:17,  6.08it/s]"
     ]
    },
    {
     "name": "stdout",
     "output_type": "stream",
     "text": [
      "Error: 429 - {\n",
      "  \"error\" : {\n",
      "    \"status\" : 429\n",
      "  }\n",
      "}\n",
      "<bound method Response.json of <Response [429]>>\n"
     ]
    },
    {
     "name": "stderr",
     "output_type": "stream",
     "text": [
      "api_call...:  90%|████████████████████████▎  | 967/1073 [08:46<00:17,  5.91it/s]"
     ]
    },
    {
     "name": "stdout",
     "output_type": "stream",
     "text": [
      "Error: 429 - {\n",
      "  \"error\" : {\n",
      "    \"status\" : 429\n",
      "  }\n",
      "}\n",
      "<bound method Response.json of <Response [429]>>\n",
      "Error: 429 - {\n",
      "  \"error\" : {\n",
      "    \"status\" : 429\n",
      "  }\n",
      "}\n",
      "<bound method Response.json of <Response [429]>>\n"
     ]
    },
    {
     "name": "stderr",
     "output_type": "stream",
     "text": [
      "api_call...:  90%|████████████████████████▍  | 969/1073 [08:46<00:15,  6.51it/s]"
     ]
    },
    {
     "name": "stdout",
     "output_type": "stream",
     "text": [
      "Error: 429 - {\n",
      "  \"error\" : {\n",
      "    \"status\" : 429\n",
      "  }\n",
      "}\n",
      "<bound method Response.json of <Response [429]>>\n",
      "Error: 429 - {\n",
      "  \"error\" : {\n",
      "    \"status\" : 429\n",
      "  }\n",
      "}\n",
      "<bound method Response.json of <Response [429]>>\n"
     ]
    },
    {
     "name": "stderr",
     "output_type": "stream",
     "text": [
      "api_call...:  90%|████████████████████████▍  | 971/1073 [08:46<00:14,  7.01it/s]"
     ]
    },
    {
     "name": "stdout",
     "output_type": "stream",
     "text": [
      "Error: 429 - {\n",
      "  \"error\" : {\n",
      "    \"status\" : 429\n",
      "  }\n",
      "}\n",
      "<bound method Response.json of <Response [429]>>\n",
      "Error: 429 - {\n",
      "  \"error\" : {\n",
      "    \"status\" : 429\n",
      "  }\n",
      "}\n",
      "<bound method Response.json of <Response [429]>>\n"
     ]
    },
    {
     "name": "stderr",
     "output_type": "stream",
     "text": [
      "\r",
      "api_call...:  91%|████████████████████████▍  | 972/1073 [08:47<00:14,  7.20it/s]"
     ]
    },
    {
     "name": "stdout",
     "output_type": "stream",
     "text": [
      "Error: 429 - {\n",
      "  \"error\" : {\n",
      "    \"status\" : 429\n",
      "  }\n",
      "}\n",
      "<bound method Response.json of <Response [429]>>\n"
     ]
    },
    {
     "name": "stderr",
     "output_type": "stream",
     "text": [
      "api_call...:  91%|████████████████████████▌  | 974/1073 [08:47<00:14,  6.63it/s]"
     ]
    },
    {
     "name": "stdout",
     "output_type": "stream",
     "text": [
      "Error: 429 - {\n",
      "  \"error\" : {\n",
      "    \"status\" : 429\n",
      "  }\n",
      "}\n",
      "<bound method Response.json of <Response [429]>>\n",
      "Error: 429 - {\n",
      "  \"error\" : {\n",
      "    \"status\" : 429\n",
      "  }\n",
      "}\n",
      "<bound method Response.json of <Response [429]>>\n"
     ]
    },
    {
     "name": "stderr",
     "output_type": "stream",
     "text": [
      "\r",
      "api_call...:  91%|████████████████████████▌  | 975/1073 [08:47<00:15,  6.19it/s]"
     ]
    },
    {
     "name": "stdout",
     "output_type": "stream",
     "text": [
      "Error: 429 - {\n",
      "  \"error\" : {\n",
      "    \"status\" : 429\n",
      "  }\n",
      "}\n",
      "<bound method Response.json of <Response [429]>>\n"
     ]
    },
    {
     "name": "stderr",
     "output_type": "stream",
     "text": [
      "api_call...:  91%|████████████████████████▌  | 977/1073 [08:47<00:16,  5.79it/s]"
     ]
    },
    {
     "name": "stdout",
     "output_type": "stream",
     "text": [
      "Error: 429 - {\n",
      "  \"error\" : {\n",
      "    \"status\" : 429\n",
      "  }\n",
      "}\n",
      "<bound method Response.json of <Response [429]>>\n",
      "Error: 429 - {\n",
      "  \"error\" : {\n",
      "    \"status\" : 429\n",
      "  }\n",
      "}\n",
      "<bound method Response.json of <Response [429]>>\n"
     ]
    },
    {
     "name": "stderr",
     "output_type": "stream",
     "text": [
      "\r",
      "api_call...:  91%|████████████████████████▌  | 978/1073 [08:48<00:15,  6.18it/s]"
     ]
    },
    {
     "name": "stdout",
     "output_type": "stream",
     "text": [
      "Error: 429 - {\n",
      "  \"error\" : {\n",
      "    \"status\" : 429\n",
      "  }\n",
      "}\n",
      "<bound method Response.json of <Response [429]>>\n"
     ]
    },
    {
     "name": "stderr",
     "output_type": "stream",
     "text": [
      "api_call...:  91%|████████████████████████▋  | 980/1073 [08:48<00:15,  5.91it/s]"
     ]
    },
    {
     "name": "stdout",
     "output_type": "stream",
     "text": [
      "Error: 429 - {\n",
      "  \"error\" : {\n",
      "    \"status\" : 429\n",
      "  }\n",
      "}\n",
      "<bound method Response.json of <Response [429]>>\n",
      "Error: 429 - {\n",
      "  \"error\" : {\n",
      "    \"status\" : 429\n",
      "  }\n",
      "}\n",
      "<bound method Response.json of <Response [429]>>\n"
     ]
    },
    {
     "name": "stderr",
     "output_type": "stream",
     "text": [
      "\r",
      "api_call...:  91%|████████████████████████▋  | 981/1073 [08:48<00:15,  6.08it/s]"
     ]
    },
    {
     "name": "stdout",
     "output_type": "stream",
     "text": [
      "Error: 429 - {\n",
      "  \"error\" : {\n",
      "    \"status\" : 429\n",
      "  }\n",
      "}\n",
      "<bound method Response.json of <Response [429]>>\n"
     ]
    },
    {
     "name": "stderr",
     "output_type": "stream",
     "text": [
      "api_call...:  92%|████████████████████████▋  | 983/1073 [08:48<00:14,  6.13it/s]"
     ]
    },
    {
     "name": "stdout",
     "output_type": "stream",
     "text": [
      "Error: 429 - {\n",
      "  \"error\" : {\n",
      "    \"status\" : 429\n",
      "  }\n",
      "}\n",
      "<bound method Response.json of <Response [429]>>\n",
      "Error: 429 - {\n",
      "  \"error\" : {\n",
      "    \"status\" : 429\n",
      "  }\n",
      "}\n",
      "<bound method Response.json of <Response [429]>>\n"
     ]
    },
    {
     "name": "stderr",
     "output_type": "stream",
     "text": [
      "api_call...:  92%|████████████████████████▊  | 985/1073 [08:49<00:14,  6.11it/s]"
     ]
    },
    {
     "name": "stdout",
     "output_type": "stream",
     "text": [
      "Error: 429 - {\n",
      "  \"error\" : {\n",
      "    \"status\" : 429\n",
      "  }\n",
      "}\n",
      "<bound method Response.json of <Response [429]>>\n",
      "Error: 429 - {\n",
      "  \"error\" : {\n",
      "    \"status\" : 429\n",
      "  }\n",
      "}\n",
      "<bound method Response.json of <Response [429]>>\n"
     ]
    },
    {
     "name": "stderr",
     "output_type": "stream",
     "text": [
      "api_call...:  92%|████████████████████████▊  | 987/1073 [08:49<00:12,  7.13it/s]"
     ]
    },
    {
     "name": "stdout",
     "output_type": "stream",
     "text": [
      "Error: 429 - {\n",
      "  \"error\" : {\n",
      "    \"status\" : 429\n",
      "  }\n",
      "}\n",
      "<bound method Response.json of <Response [429]>>\n",
      "Error: 429 - {\n",
      "  \"error\" : {\n",
      "    \"status\" : 429\n",
      "  }\n",
      "}\n",
      "<bound method Response.json of <Response [429]>>\n"
     ]
    },
    {
     "name": "stderr",
     "output_type": "stream",
     "text": [
      "api_call...:  92%|████████████████████████▉  | 989/1073 [08:49<00:11,  7.09it/s]"
     ]
    },
    {
     "name": "stdout",
     "output_type": "stream",
     "text": [
      "Error: 429 - {\n",
      "  \"error\" : {\n",
      "    \"status\" : 429\n",
      "  }\n",
      "}\n",
      "<bound method Response.json of <Response [429]>>\n",
      "Error: 429 - {\n",
      "  \"error\" : {\n",
      "    \"status\" : 429\n",
      "  }\n",
      "}\n",
      "<bound method Response.json of <Response [429]>>\n"
     ]
    },
    {
     "name": "stderr",
     "output_type": "stream",
     "text": [
      "api_call...:  92%|████████████████████████▉  | 991/1073 [08:50<00:10,  7.63it/s]"
     ]
    },
    {
     "name": "stdout",
     "output_type": "stream",
     "text": [
      "Error: 429 - {\n",
      "  \"error\" : {\n",
      "    \"status\" : 429\n",
      "  }\n",
      "}\n",
      "<bound method Response.json of <Response [429]>>\n",
      "Error: 429 - {\n",
      "  \"error\" : {\n",
      "    \"status\" : 429\n",
      "  }\n",
      "}\n",
      "<bound method Response.json of <Response [429]>>\n"
     ]
    },
    {
     "name": "stderr",
     "output_type": "stream",
     "text": [
      "api_call...:  93%|████████████████████████▉  | 993/1073 [08:50<00:10,  7.35it/s]"
     ]
    },
    {
     "name": "stdout",
     "output_type": "stream",
     "text": [
      "Error: 429 - {\n",
      "  \"error\" : {\n",
      "    \"status\" : 429\n",
      "  }\n",
      "}\n",
      "<bound method Response.json of <Response [429]>>\n",
      "Error: 429 - {\n",
      "  \"error\" : {\n",
      "    \"status\" : 429\n",
      "  }\n",
      "}\n",
      "<bound method Response.json of <Response [429]>>\n"
     ]
    },
    {
     "name": "stderr",
     "output_type": "stream",
     "text": [
      "\r",
      "api_call...:  93%|█████████████████████████  | 994/1073 [08:50<00:10,  7.43it/s]"
     ]
    },
    {
     "name": "stdout",
     "output_type": "stream",
     "text": [
      "Error: 429 - {\n",
      "  \"error\" : {\n",
      "    \"status\" : 429\n",
      "  }\n",
      "}\n",
      "<bound method Response.json of <Response [429]>>\n"
     ]
    },
    {
     "name": "stderr",
     "output_type": "stream",
     "text": [
      "\r",
      "api_call...:  93%|█████████████████████████  | 995/1073 [08:50<00:13,  5.76it/s]"
     ]
    },
    {
     "name": "stdout",
     "output_type": "stream",
     "text": [
      "Error: 429 - {\n",
      "  \"error\" : {\n",
      "    \"status\" : 429\n",
      "  }\n",
      "}\n",
      "<bound method Response.json of <Response [429]>>\n"
     ]
    },
    {
     "name": "stderr",
     "output_type": "stream",
     "text": [
      "api_call...:  93%|█████████████████████████  | 997/1073 [08:51<00:20,  3.72it/s]"
     ]
    },
    {
     "name": "stdout",
     "output_type": "stream",
     "text": [
      "Error: 429 - {\n",
      "  \"error\" : {\n",
      "    \"status\" : 429\n",
      "  }\n",
      "}\n",
      "<bound method Response.json of <Response [429]>>\n",
      "Error: 429 - {\n",
      "  \"error\" : {\n",
      "    \"status\" : 429\n",
      "  }\n",
      "}\n",
      "<bound method Response.json of <Response [429]>>\n"
     ]
    },
    {
     "name": "stderr",
     "output_type": "stream",
     "text": [
      "\r",
      "api_call...:  93%|█████████████████████████  | 998/1073 [08:51<00:17,  4.39it/s]"
     ]
    },
    {
     "name": "stdout",
     "output_type": "stream",
     "text": [
      "Error: 429 - {\n",
      "  \"error\" : {\n",
      "    \"status\" : 429\n",
      "  }\n",
      "}\n",
      "<bound method Response.json of <Response [429]>>\n"
     ]
    },
    {
     "name": "stderr",
     "output_type": "stream",
     "text": [
      "api_call...:  93%|████████████████████████▏ | 1000/1073 [08:52<00:14,  4.97it/s]"
     ]
    },
    {
     "name": "stdout",
     "output_type": "stream",
     "text": [
      "Error: 429 - {\n",
      "  \"error\" : {\n",
      "    \"status\" : 429\n",
      "  }\n",
      "}\n",
      "<bound method Response.json of <Response [429]>>\n",
      "Error: 429 - {\n",
      "  \"error\" : {\n",
      "    \"status\" : 429\n",
      "  }\n",
      "}\n",
      "<bound method Response.json of <Response [429]>>\n"
     ]
    },
    {
     "name": "stderr",
     "output_type": "stream",
     "text": [
      "api_call...:  93%|████████████████████████▎ | 1002/1073 [09:27<08:53,  7.52s/it]"
     ]
    },
    {
     "name": "stdout",
     "output_type": "stream",
     "text": [
      "Error: 429 - {\n",
      "  \"error\" : {\n",
      "    \"status\" : 429\n",
      "  }\n",
      "}\n",
      "<bound method Response.json of <Response [429]>>\n",
      "Error: 429 - {\n",
      "  \"error\" : {\n",
      "    \"status\" : 429\n",
      "  }\n",
      "}\n",
      "<bound method Response.json of <Response [429]>>\n"
     ]
    },
    {
     "name": "stderr",
     "output_type": "stream",
     "text": [
      "\r",
      "api_call...:  93%|████████████████████████▎ | 1003/1073 [09:27<06:21,  5.45s/it]"
     ]
    },
    {
     "name": "stdout",
     "output_type": "stream",
     "text": [
      "Error: 429 - {\n",
      "  \"error\" : {\n",
      "    \"status\" : 429\n",
      "  }\n",
      "}\n",
      "<bound method Response.json of <Response [429]>>\n"
     ]
    },
    {
     "name": "stderr",
     "output_type": "stream",
     "text": [
      "api_call...:  94%|████████████████████████▎ | 1005/1073 [09:28<03:13,  2.85s/it]"
     ]
    },
    {
     "name": "stdout",
     "output_type": "stream",
     "text": [
      "Error: 429 - {\n",
      "  \"error\" : {\n",
      "    \"status\" : 429\n",
      "  }\n",
      "}\n",
      "<bound method Response.json of <Response [429]>>\n",
      "Error: 429 - {\n",
      "  \"error\" : {\n",
      "    \"status\" : 429\n",
      "  }\n",
      "}\n",
      "<bound method Response.json of <Response [429]>>\n"
     ]
    },
    {
     "name": "stderr",
     "output_type": "stream",
     "text": [
      "api_call...:  94%|████████████████████████▍ | 1007/1073 [09:29<01:37,  1.47s/it]"
     ]
    },
    {
     "name": "stdout",
     "output_type": "stream",
     "text": [
      "Error: 429 - {\n",
      "  \"error\" : {\n",
      "    \"status\" : 429\n",
      "  }\n",
      "}\n",
      "<bound method Response.json of <Response [429]>>\n",
      "Error: 429 - {\n",
      "  \"error\" : {\n",
      "    \"status\" : 429\n",
      "  }\n",
      "}\n",
      "<bound method Response.json of <Response [429]>>\n"
     ]
    },
    {
     "name": "stderr",
     "output_type": "stream",
     "text": [
      "api_call...:  94%|████████████████████████▍ | 1009/1073 [09:29<00:51,  1.24it/s]"
     ]
    },
    {
     "name": "stdout",
     "output_type": "stream",
     "text": [
      "Error: 429 - {\n",
      "  \"error\" : {\n",
      "    \"status\" : 429\n",
      "  }\n",
      "}\n",
      "<bound method Response.json of <Response [429]>>\n",
      "Error: 429 - {\n",
      "  \"error\" : {\n",
      "    \"status\" : 429\n",
      "  }\n",
      "}\n",
      "<bound method Response.json of <Response [429]>>\n"
     ]
    },
    {
     "name": "stderr",
     "output_type": "stream",
     "text": [
      "api_call...:  94%|████████████████████████▍ | 1011/1073 [09:29<00:28,  2.15it/s]"
     ]
    },
    {
     "name": "stdout",
     "output_type": "stream",
     "text": [
      "Error: 429 - {\n",
      "  \"error\" : {\n",
      "    \"status\" : 429\n",
      "  }\n",
      "}\n",
      "<bound method Response.json of <Response [429]>>\n",
      "Error: 429 - {\n",
      "  \"error\" : {\n",
      "    \"status\" : 429\n",
      "  }\n",
      "}\n",
      "<bound method Response.json of <Response [429]>>\n"
     ]
    },
    {
     "name": "stderr",
     "output_type": "stream",
     "text": [
      "api_call...:  94%|████████████████████████▌ | 1013/1073 [09:29<00:17,  3.36it/s]"
     ]
    },
    {
     "name": "stdout",
     "output_type": "stream",
     "text": [
      "Error: 429 - {\n",
      "  \"error\" : {\n",
      "    \"status\" : 429\n",
      "  }\n",
      "}\n",
      "<bound method Response.json of <Response [429]>>\n",
      "Error: 429 - {\n",
      "  \"error\" : {\n",
      "    \"status\" : 429\n",
      "  }\n",
      "}\n",
      "<bound method Response.json of <Response [429]>>\n"
     ]
    },
    {
     "name": "stderr",
     "output_type": "stream",
     "text": [
      "\r",
      "api_call...:  95%|████████████████████████▌ | 1014/1073 [09:30<00:14,  4.02it/s]"
     ]
    },
    {
     "name": "stdout",
     "output_type": "stream",
     "text": [
      "Error: 429 - {\n",
      "  \"error\" : {\n",
      "    \"status\" : 429\n",
      "  }\n",
      "}\n",
      "<bound method Response.json of <Response [429]>>\n"
     ]
    },
    {
     "name": "stderr",
     "output_type": "stream",
     "text": [
      "api_call...:  95%|████████████████████████▌ | 1016/1073 [09:30<00:11,  4.78it/s]"
     ]
    },
    {
     "name": "stdout",
     "output_type": "stream",
     "text": [
      "Error: 429 - {\n",
      "  \"error\" : {\n",
      "    \"status\" : 429\n",
      "  }\n",
      "}\n",
      "<bound method Response.json of <Response [429]>>\n",
      "Error: 429 - {\n",
      "  \"error\" : {\n",
      "    \"status\" : 429\n",
      "  }\n",
      "}\n",
      "<bound method Response.json of <Response [429]>>\n"
     ]
    },
    {
     "name": "stderr",
     "output_type": "stream",
     "text": [
      "api_call...:  95%|████████████████████████▋ | 1018/1073 [09:30<00:09,  5.75it/s]"
     ]
    },
    {
     "name": "stdout",
     "output_type": "stream",
     "text": [
      "Error: 429 - {\n",
      "  \"error\" : {\n",
      "    \"status\" : 429\n",
      "  }\n",
      "}\n",
      "<bound method Response.json of <Response [429]>>\n",
      "Error: 429 - {\n",
      "  \"error\" : {\n",
      "    \"status\" : 429\n",
      "  }\n",
      "}\n",
      "<bound method Response.json of <Response [429]>>\n"
     ]
    },
    {
     "name": "stderr",
     "output_type": "stream",
     "text": [
      "api_call...:  95%|████████████████████████▋ | 1020/1073 [09:30<00:07,  6.69it/s]"
     ]
    },
    {
     "name": "stdout",
     "output_type": "stream",
     "text": [
      "Error: 429 - {\n",
      "  \"error\" : {\n",
      "    \"status\" : 429\n",
      "  }\n",
      "}\n",
      "<bound method Response.json of <Response [429]>>\n",
      "Error: 429 - {\n",
      "  \"error\" : {\n",
      "    \"status\" : 429\n",
      "  }\n",
      "}\n",
      "<bound method Response.json of <Response [429]>>\n"
     ]
    },
    {
     "name": "stderr",
     "output_type": "stream",
     "text": [
      "api_call...:  95%|████████████████████████▊ | 1022/1073 [09:31<00:07,  6.97it/s]"
     ]
    },
    {
     "name": "stdout",
     "output_type": "stream",
     "text": [
      "Error: 429 - {\n",
      "  \"error\" : {\n",
      "    \"status\" : 429\n",
      "  }\n",
      "}\n",
      "<bound method Response.json of <Response [429]>>\n",
      "Error: 429 - {\n",
      "  \"error\" : {\n",
      "    \"status\" : 429\n",
      "  }\n",
      "}\n",
      "<bound method Response.json of <Response [429]>>\n"
     ]
    },
    {
     "name": "stderr",
     "output_type": "stream",
     "text": [
      "api_call...:  95%|████████████████████████▊ | 1024/1073 [09:31<00:06,  7.01it/s]"
     ]
    },
    {
     "name": "stdout",
     "output_type": "stream",
     "text": [
      "Error: 429 - {\n",
      "  \"error\" : {\n",
      "    \"status\" : 429\n",
      "  }\n",
      "}\n",
      "<bound method Response.json of <Response [429]>>\n",
      "Error: 429 - {\n",
      "  \"error\" : {\n",
      "    \"status\" : 429\n",
      "  }\n",
      "}\n",
      "<bound method Response.json of <Response [429]>>\n"
     ]
    },
    {
     "name": "stderr",
     "output_type": "stream",
     "text": [
      "api_call...:  96%|████████████████████████▊ | 1026/1073 [09:31<00:07,  5.98it/s]"
     ]
    },
    {
     "name": "stdout",
     "output_type": "stream",
     "text": [
      "Error: 429 - {\n",
      "  \"error\" : {\n",
      "    \"status\" : 429\n",
      "  }\n",
      "}\n",
      "<bound method Response.json of <Response [429]>>\n",
      "Error: 429 - {\n",
      "  \"error\" : {\n",
      "    \"status\" : 429\n",
      "  }\n",
      "}\n",
      "<bound method Response.json of <Response [429]>>\n"
     ]
    },
    {
     "name": "stderr",
     "output_type": "stream",
     "text": [
      "api_call...:  96%|████████████████████████▉ | 1028/1073 [09:32<00:06,  6.74it/s]"
     ]
    },
    {
     "name": "stdout",
     "output_type": "stream",
     "text": [
      "Error: 429 - {\n",
      "  \"error\" : {\n",
      "    \"status\" : 429\n",
      "  }\n",
      "}\n",
      "<bound method Response.json of <Response [429]>>\n",
      "Error: 429 - {\n",
      "  \"error\" : {\n",
      "    \"status\" : 429\n",
      "  }\n",
      "}\n",
      "<bound method Response.json of <Response [429]>>\n"
     ]
    },
    {
     "name": "stderr",
     "output_type": "stream",
     "text": [
      "api_call...:  96%|████████████████████████▉ | 1030/1073 [09:32<00:06,  6.31it/s]"
     ]
    },
    {
     "name": "stdout",
     "output_type": "stream",
     "text": [
      "Error: 429 - {\n",
      "  \"error\" : {\n",
      "    \"status\" : 429\n",
      "  }\n",
      "}\n",
      "<bound method Response.json of <Response [429]>>\n",
      "Error: 429 - {\n",
      "  \"error\" : {\n",
      "    \"status\" : 429\n",
      "  }\n",
      "}\n",
      "<bound method Response.json of <Response [429]>>\n"
     ]
    },
    {
     "name": "stderr",
     "output_type": "stream",
     "text": [
      "\r",
      "api_call...:  96%|████████████████████████▉ | 1031/1073 [09:32<00:06,  6.48it/s]"
     ]
    },
    {
     "name": "stdout",
     "output_type": "stream",
     "text": [
      "Error: 429 - {\n",
      "  \"error\" : {\n",
      "    \"status\" : 429\n",
      "  }\n",
      "}\n",
      "<bound method Response.json of <Response [429]>>\n"
     ]
    },
    {
     "name": "stderr",
     "output_type": "stream",
     "text": [
      "api_call...:  96%|█████████████████████████ | 1033/1073 [09:32<00:06,  6.23it/s]"
     ]
    },
    {
     "name": "stdout",
     "output_type": "stream",
     "text": [
      "Error: 429 - {\n",
      "  \"error\" : {\n",
      "    \"status\" : 429\n",
      "  }\n",
      "}\n",
      "<bound method Response.json of <Response [429]>>\n",
      "Error: 429 - {\n",
      "  \"error\" : {\n",
      "    \"status\" : 429\n",
      "  }\n",
      "}\n",
      "<bound method Response.json of <Response [429]>>\n"
     ]
    },
    {
     "name": "stderr",
     "output_type": "stream",
     "text": [
      "api_call...:  96%|█████████████████████████ | 1035/1073 [09:33<00:06,  6.33it/s]"
     ]
    },
    {
     "name": "stdout",
     "output_type": "stream",
     "text": [
      "Error: 429 - {\n",
      "  \"error\" : {\n",
      "    \"status\" : 429\n",
      "  }\n",
      "}\n",
      "<bound method Response.json of <Response [429]>>\n",
      "Error: 429 - {\n",
      "  \"error\" : {\n",
      "    \"status\" : 429\n",
      "  }\n",
      "}\n",
      "<bound method Response.json of <Response [429]>>\n"
     ]
    },
    {
     "name": "stderr",
     "output_type": "stream",
     "text": [
      "api_call...:  97%|█████████████████████████▏| 1037/1073 [09:33<00:05,  6.91it/s]"
     ]
    },
    {
     "name": "stdout",
     "output_type": "stream",
     "text": [
      "Error: 429 - {\n",
      "  \"error\" : {\n",
      "    \"status\" : 429\n",
      "  }\n",
      "}\n",
      "<bound method Response.json of <Response [429]>>\n",
      "Error: 429 - {\n",
      "  \"error\" : {\n",
      "    \"status\" : 429\n",
      "  }\n",
      "}\n",
      "<bound method Response.json of <Response [429]>>\n"
     ]
    },
    {
     "name": "stderr",
     "output_type": "stream",
     "text": [
      "api_call...:  97%|█████████████████████████▏| 1039/1073 [09:33<00:05,  6.02it/s]"
     ]
    },
    {
     "name": "stdout",
     "output_type": "stream",
     "text": [
      "Error: 429 - {\n",
      "  \"error\" : {\n",
      "    \"status\" : 429\n",
      "  }\n",
      "}\n",
      "<bound method Response.json of <Response [429]>>\n",
      "Error: 429 - {\n",
      "  \"error\" : {\n",
      "    \"status\" : 429\n",
      "  }\n",
      "}\n",
      "<bound method Response.json of <Response [429]>>\n"
     ]
    },
    {
     "name": "stderr",
     "output_type": "stream",
     "text": [
      "api_call...:  97%|█████████████████████████▏| 1041/1073 [09:34<00:04,  6.46it/s]"
     ]
    },
    {
     "name": "stdout",
     "output_type": "stream",
     "text": [
      "Error: 429 - {\n",
      "  \"error\" : {\n",
      "    \"status\" : 429\n",
      "  }\n",
      "}\n",
      "<bound method Response.json of <Response [429]>>\n",
      "Error: 429 - {\n",
      "  \"error\" : {\n",
      "    \"status\" : 429\n",
      "  }\n",
      "}\n",
      "<bound method Response.json of <Response [429]>>\n"
     ]
    },
    {
     "name": "stderr",
     "output_type": "stream",
     "text": [
      "api_call...:  97%|█████████████████████████▎| 1043/1073 [09:34<00:04,  6.08it/s]"
     ]
    },
    {
     "name": "stdout",
     "output_type": "stream",
     "text": [
      "Error: 429 - {\n",
      "  \"error\" : {\n",
      "    \"status\" : 429\n",
      "  }\n",
      "}\n",
      "<bound method Response.json of <Response [429]>>\n",
      "Error: 429 - {\n",
      "  \"error\" : {\n",
      "    \"status\" : 429\n",
      "  }\n",
      "}\n",
      "<bound method Response.json of <Response [429]>>\n"
     ]
    },
    {
     "name": "stderr",
     "output_type": "stream",
     "text": [
      "api_call...:  97%|█████████████████████████▎| 1045/1073 [09:34<00:04,  5.72it/s]"
     ]
    },
    {
     "name": "stdout",
     "output_type": "stream",
     "text": [
      "Error: 429 - {\n",
      "  \"error\" : {\n",
      "    \"status\" : 429\n",
      "  }\n",
      "}\n",
      "<bound method Response.json of <Response [429]>>\n",
      "Error: 429 - {\n",
      "  \"error\" : {\n",
      "    \"status\" : 429\n",
      "  }\n",
      "}\n",
      "<bound method Response.json of <Response [429]>>\n"
     ]
    },
    {
     "name": "stderr",
     "output_type": "stream",
     "text": [
      "api_call...:  98%|█████████████████████████▎| 1047/1073 [09:35<00:04,  6.18it/s]"
     ]
    },
    {
     "name": "stdout",
     "output_type": "stream",
     "text": [
      "Error: 429 - {\n",
      "  \"error\" : {\n",
      "    \"status\" : 429\n",
      "  }\n",
      "}\n",
      "<bound method Response.json of <Response [429]>>\n",
      "Error: 429 - {\n",
      "  \"error\" : {\n",
      "    \"status\" : 429\n",
      "  }\n",
      "}\n",
      "<bound method Response.json of <Response [429]>>\n"
     ]
    },
    {
     "name": "stderr",
     "output_type": "stream",
     "text": [
      "api_call...:  98%|█████████████████████████▍| 1049/1073 [09:35<00:03,  6.17it/s]"
     ]
    },
    {
     "name": "stdout",
     "output_type": "stream",
     "text": [
      "Error: 429 - {\n",
      "  \"error\" : {\n",
      "    \"status\" : 429\n",
      "  }\n",
      "}\n",
      "<bound method Response.json of <Response [429]>>\n",
      "Error: 429 - {\n",
      "  \"error\" : {\n",
      "    \"status\" : 429\n",
      "  }\n",
      "}\n",
      "<bound method Response.json of <Response [429]>>\n"
     ]
    },
    {
     "name": "stderr",
     "output_type": "stream",
     "text": [
      "\r",
      "api_call...:  98%|█████████████████████████▍| 1050/1073 [09:35<00:03,  6.28it/s]"
     ]
    },
    {
     "name": "stdout",
     "output_type": "stream",
     "text": [
      "Error: 429 - {\n",
      "  \"error\" : {\n",
      "    \"status\" : 429\n",
      "  }\n",
      "}\n",
      "<bound method Response.json of <Response [429]>>\n"
     ]
    },
    {
     "name": "stderr",
     "output_type": "stream",
     "text": [
      "api_call...:  98%|█████████████████████████▍| 1052/1073 [09:36<00:03,  6.09it/s]"
     ]
    },
    {
     "name": "stdout",
     "output_type": "stream",
     "text": [
      "Error: 429 - {\n",
      "  \"error\" : {\n",
      "    \"status\" : 429\n",
      "  }\n",
      "}\n",
      "<bound method Response.json of <Response [429]>>\n",
      "Error: 429 - {\n",
      "  \"error\" : {\n",
      "    \"status\" : 429\n",
      "  }\n",
      "}\n",
      "<bound method Response.json of <Response [429]>>\n"
     ]
    },
    {
     "name": "stderr",
     "output_type": "stream",
     "text": [
      "api_call...:  98%|█████████████████████████▌| 1054/1073 [09:36<00:02,  6.34it/s]"
     ]
    },
    {
     "name": "stdout",
     "output_type": "stream",
     "text": [
      "Error: 429 - {\n",
      "  \"error\" : {\n",
      "    \"status\" : 429\n",
      "  }\n",
      "}\n",
      "<bound method Response.json of <Response [429]>>\n",
      "Error: 429 - {\n",
      "  \"error\" : {\n",
      "    \"status\" : 429\n",
      "  }\n",
      "}\n",
      "<bound method Response.json of <Response [429]>>\n"
     ]
    },
    {
     "name": "stderr",
     "output_type": "stream",
     "text": [
      "api_call...:  98%|█████████████████████████▌| 1056/1073 [09:36<00:02,  7.01it/s]"
     ]
    },
    {
     "name": "stdout",
     "output_type": "stream",
     "text": [
      "Error: 429 - {\n",
      "  \"error\" : {\n",
      "    \"status\" : 429\n",
      "  }\n",
      "}\n",
      "<bound method Response.json of <Response [429]>>\n",
      "Error: 429 - {\n",
      "  \"error\" : {\n",
      "    \"status\" : 429\n",
      "  }\n",
      "}\n",
      "<bound method Response.json of <Response [429]>>\n"
     ]
    },
    {
     "name": "stderr",
     "output_type": "stream",
     "text": [
      "\r",
      "api_call...:  99%|█████████████████████████▌| 1057/1073 [09:36<00:02,  7.09it/s]"
     ]
    },
    {
     "name": "stdout",
     "output_type": "stream",
     "text": [
      "Error: 429 - {\n",
      "  \"error\" : {\n",
      "    \"status\" : 429\n",
      "  }\n",
      "}\n",
      "<bound method Response.json of <Response [429]>>\n"
     ]
    },
    {
     "name": "stderr",
     "output_type": "stream",
     "text": [
      "api_call...:  99%|█████████████████████████▋| 1059/1073 [09:37<00:02,  6.39it/s]"
     ]
    },
    {
     "name": "stdout",
     "output_type": "stream",
     "text": [
      "Error: 429 - {\n",
      "  \"error\" : {\n",
      "    \"status\" : 429\n",
      "  }\n",
      "}\n",
      "<bound method Response.json of <Response [429]>>\n",
      "Error: 429 - {\n",
      "  \"error\" : {\n",
      "    \"status\" : 429\n",
      "  }\n",
      "}\n",
      "<bound method Response.json of <Response [429]>>\n"
     ]
    },
    {
     "name": "stderr",
     "output_type": "stream",
     "text": [
      "api_call...:  99%|█████████████████████████▋| 1061/1073 [09:37<00:01,  6.50it/s]"
     ]
    },
    {
     "name": "stdout",
     "output_type": "stream",
     "text": [
      "Error: 429 - {\n",
      "  \"error\" : {\n",
      "    \"status\" : 429\n",
      "  }\n",
      "}\n",
      "<bound method Response.json of <Response [429]>>\n",
      "Error: 429 - {\n",
      "  \"error\" : {\n",
      "    \"status\" : 429\n",
      "  }\n",
      "}\n",
      "<bound method Response.json of <Response [429]>>\n"
     ]
    },
    {
     "name": "stderr",
     "output_type": "stream",
     "text": [
      "api_call...:  99%|█████████████████████████▊| 1063/1073 [09:37<00:01,  7.06it/s]"
     ]
    },
    {
     "name": "stdout",
     "output_type": "stream",
     "text": [
      "Error: 429 - {\n",
      "  \"error\" : {\n",
      "    \"status\" : 429\n",
      "  }\n",
      "}\n",
      "<bound method Response.json of <Response [429]>>\n",
      "Error: 429 - {\n",
      "  \"error\" : {\n",
      "    \"status\" : 429\n",
      "  }\n",
      "}\n",
      "<bound method Response.json of <Response [429]>>\n"
     ]
    },
    {
     "name": "stderr",
     "output_type": "stream",
     "text": [
      "\r",
      "api_call...:  99%|█████████████████████████▊| 1064/1073 [09:37<00:01,  7.14it/s]"
     ]
    },
    {
     "name": "stdout",
     "output_type": "stream",
     "text": [
      "Error: 429 - {\n",
      "  \"error\" : {\n",
      "    \"status\" : 429\n",
      "  }\n",
      "}\n",
      "<bound method Response.json of <Response [429]>>\n"
     ]
    },
    {
     "name": "stderr",
     "output_type": "stream",
     "text": [
      "api_call...:  99%|█████████████████████████▊| 1066/1073 [09:38<00:01,  6.48it/s]"
     ]
    },
    {
     "name": "stdout",
     "output_type": "stream",
     "text": [
      "Error: 429 - {\n",
      "  \"error\" : {\n",
      "    \"status\" : 429\n",
      "  }\n",
      "}\n",
      "<bound method Response.json of <Response [429]>>\n",
      "Error: 429 - {\n",
      "  \"error\" : {\n",
      "    \"status\" : 429\n",
      "  }\n",
      "}\n",
      "<bound method Response.json of <Response [429]>>\n"
     ]
    },
    {
     "name": "stderr",
     "output_type": "stream",
     "text": [
      "api_call...: 100%|█████████████████████████▉| 1068/1073 [09:38<00:00,  6.51it/s]"
     ]
    },
    {
     "name": "stdout",
     "output_type": "stream",
     "text": [
      "Error: 429 - {\n",
      "  \"error\" : {\n",
      "    \"status\" : 429\n",
      "  }\n",
      "}\n",
      "<bound method Response.json of <Response [429]>>\n",
      "Error: 429 - {\n",
      "  \"error\" : {\n",
      "    \"status\" : 429\n",
      "  }\n",
      "}\n",
      "<bound method Response.json of <Response [429]>>\n"
     ]
    },
    {
     "name": "stderr",
     "output_type": "stream",
     "text": [
      "api_call...: 100%|█████████████████████████▉| 1070/1073 [09:38<00:00,  7.19it/s]"
     ]
    },
    {
     "name": "stdout",
     "output_type": "stream",
     "text": [
      "Error: 429 - {\n",
      "  \"error\" : {\n",
      "    \"status\" : 429\n",
      "  }\n",
      "}\n",
      "<bound method Response.json of <Response [429]>>\n",
      "Error: 429 - {\n",
      "  \"error\" : {\n",
      "    \"status\" : 429\n",
      "  }\n",
      "}\n",
      "<bound method Response.json of <Response [429]>>\n"
     ]
    },
    {
     "name": "stderr",
     "output_type": "stream",
     "text": [
      "\r",
      "api_call...: 100%|█████████████████████████▉| 1071/1073 [09:38<00:00,  7.18it/s]"
     ]
    },
    {
     "name": "stdout",
     "output_type": "stream",
     "text": [
      "Error: 429 - {\n",
      "  \"error\" : {\n",
      "    \"status\" : 429\n",
      "  }\n",
      "}\n",
      "<bound method Response.json of <Response [429]>>\n"
     ]
    },
    {
     "name": "stderr",
     "output_type": "stream",
     "text": [
      "api_call...: 100%|██████████████████████████| 1073/1073 [09:39<00:00,  1.85it/s]\n"
     ]
    },
    {
     "name": "stdout",
     "output_type": "stream",
     "text": [
      "Error: 429 - {\n",
      "  \"error\" : {\n",
      "    \"status\" : 429\n",
      "  }\n",
      "}\n",
      "<bound method Response.json of <Response [429]>>\n",
      "Error: 429 - {\n",
      "  \"error\" : {\n",
      "    \"status\" : 429\n",
      "  }\n",
      "}\n",
      "<bound method Response.json of <Response [429]>>\n"
     ]
    },
    {
     "name": "stderr",
     "output_type": "stream",
     "text": [
      "creating attribute dataframe: 100%|██████████████| 8/8 [00:00<00:00, 576.08it/s]\n",
      "100%|█████████████████████████████████████████████| 5/5 [00:02<00:00,  2.25it/s]\n",
      "api_call...:   0%|                          | 1/1096 [00:35<10:42:50, 35.22s/it]"
     ]
    },
    {
     "name": "stdout",
     "output_type": "stream",
     "text": [
      "Error: 429 - {\n",
      "  \"error\" : {\n",
      "    \"status\" : 429\n",
      "  }\n",
      "}\n",
      "<bound method Response.json of <Response [429]>>\n",
      "Error: 429 - {\n",
      "  \"error\" : {\n",
      "    \"status\" : 429\n",
      "  }\n",
      "}\n",
      "<bound method Response.json of <Response [429]>>\n"
     ]
    },
    {
     "name": "stderr",
     "output_type": "stream",
     "text": [
      "api_call...:   0%|                           | 4/1096 [00:35<1:29:35,  4.92s/it]"
     ]
    },
    {
     "name": "stdout",
     "output_type": "stream",
     "text": [
      "Error: 429 - {\n",
      "  \"error\" : {\n",
      "    \"status\" : 429\n",
      "  }\n",
      "}\n",
      "<bound method Response.json of <Response [429]>>\n",
      "Error: 429 - {\n",
      "  \"error\" : {\n",
      "    \"status\" : 429\n",
      "  }\n",
      "}\n",
      "<bound method Response.json of <Response [429]>>\n"
     ]
    },
    {
     "name": "stderr",
     "output_type": "stream",
     "text": [
      "\r",
      "api_call...:   0%|▏                            | 5/1096 [00:35<58:05,  3.20s/it]"
     ]
    },
    {
     "name": "stdout",
     "output_type": "stream",
     "text": [
      "Error: 429 - {\n",
      "  \"error\" : {\n",
      "    \"status\" : 429\n",
      "  }\n",
      "}\n",
      "<bound method Response.json of <Response [429]>>\n"
     ]
    },
    {
     "name": "stderr",
     "output_type": "stream",
     "text": [
      "api_call...:   1%|▏                            | 7/1096 [00:36<27:40,  1.52s/it]"
     ]
    },
    {
     "name": "stdout",
     "output_type": "stream",
     "text": [
      "Error: 429 - {\n",
      "  \"error\" : {\n",
      "    \"status\" : 429\n",
      "  }\n",
      "}\n",
      "<bound method Response.json of <Response [429]>>\n",
      "Error: 429 - {\n",
      "  \"error\" : {\n",
      "    \"status\" : 429\n",
      "  }\n",
      "}\n",
      "<bound method Response.json of <Response [429]>>\n"
     ]
    },
    {
     "name": "stderr",
     "output_type": "stream",
     "text": [
      "\r",
      "api_call...:   1%|▏                            | 8/1096 [00:36<19:35,  1.08s/it]"
     ]
    },
    {
     "name": "stdout",
     "output_type": "stream",
     "text": [
      "Error: 429 - {\n",
      "  \"error\" : {\n",
      "    \"status\" : 429\n",
      "  }\n",
      "}\n",
      "<bound method Response.json of <Response [429]>>\n"
     ]
    },
    {
     "name": "stderr",
     "output_type": "stream",
     "text": [
      "api_call...:   1%|▎                           | 11/1096 [00:37<08:50,  2.05it/s]"
     ]
    },
    {
     "name": "stdout",
     "output_type": "stream",
     "text": [
      "Error: 429 - {\n",
      "  \"error\" : {\n",
      "    \"status\" : 429\n",
      "  }\n",
      "}\n",
      "<bound method Response.json of <Response [429]>>\n",
      "Error: 429 - {\n",
      "  \"error\" : {\n",
      "    \"status\" : 429\n",
      "  }\n",
      "}\n",
      "<bound method Response.json of <Response [429]>>\n"
     ]
    },
    {
     "name": "stderr",
     "output_type": "stream",
     "text": [
      "api_call...:   1%|▎                           | 13/1096 [00:37<05:54,  3.06it/s]"
     ]
    },
    {
     "name": "stdout",
     "output_type": "stream",
     "text": [
      "Error: 429 - {\n",
      "  \"error\" : {\n",
      "    \"status\" : 429\n",
      "  }\n",
      "}\n",
      "<bound method Response.json of <Response [429]>>\n",
      "Error: 429 - {\n",
      "  \"error\" : {\n",
      "    \"status\" : 429\n",
      "  }\n",
      "}\n",
      "<bound method Response.json of <Response [429]>>\n"
     ]
    },
    {
     "name": "stderr",
     "output_type": "stream",
     "text": [
      "\r",
      "api_call...:   1%|▎                           | 14/1096 [00:37<05:07,  3.52it/s]"
     ]
    },
    {
     "name": "stdout",
     "output_type": "stream",
     "text": [
      "Error: 429 - {\n",
      "  \"error\" : {\n",
      "    \"status\" : 429\n",
      "  }\n",
      "}\n",
      "<bound method Response.json of <Response [429]>>\n"
     ]
    },
    {
     "name": "stderr",
     "output_type": "stream",
     "text": [
      "api_call...:   1%|▍                           | 16/1096 [00:37<03:58,  4.54it/s]"
     ]
    },
    {
     "name": "stdout",
     "output_type": "stream",
     "text": [
      "Error: 429 - {\n",
      "  \"error\" : {\n",
      "    \"status\" : 429\n",
      "  }\n",
      "}\n",
      "<bound method Response.json of <Response [429]>>\n",
      "Error: 429 - {\n",
      "  \"error\" : {\n",
      "    \"status\" : 429\n",
      "  }\n",
      "}\n",
      "<bound method Response.json of <Response [429]>>\n"
     ]
    },
    {
     "name": "stderr",
     "output_type": "stream",
     "text": [
      "\r",
      "api_call...:   2%|▍                           | 17/1096 [00:38<03:40,  4.90it/s]"
     ]
    },
    {
     "name": "stdout",
     "output_type": "stream",
     "text": [
      "Error: 429 - {\n",
      "  \"error\" : {\n",
      "    \"status\" : 429\n",
      "  }\n",
      "}\n",
      "<bound method Response.json of <Response [429]>>\n"
     ]
    },
    {
     "name": "stderr",
     "output_type": "stream",
     "text": [
      "api_call...:   2%|▍                           | 19/1096 [00:38<03:21,  5.35it/s]"
     ]
    },
    {
     "name": "stdout",
     "output_type": "stream",
     "text": [
      "Error: 429 - {\n",
      "  \"error\" : {\n",
      "    \"status\" : 429\n",
      "  }\n",
      "}\n",
      "<bound method Response.json of <Response [429]>>\n",
      "Error: 429 - {\n",
      "  \"error\" : {\n",
      "    \"status\" : 429\n",
      "  }\n",
      "}\n",
      "<bound method Response.json of <Response [429]>>\n"
     ]
    },
    {
     "name": "stderr",
     "output_type": "stream",
     "text": [
      "api_call...:   2%|▌                           | 21/1096 [00:38<03:05,  5.80it/s]"
     ]
    },
    {
     "name": "stdout",
     "output_type": "stream",
     "text": [
      "Error: 429 - {\n",
      "  \"error\" : {\n",
      "    \"status\" : 429\n",
      "  }\n",
      "}\n",
      "<bound method Response.json of <Response [429]>>\n",
      "Error: 429 - {\n",
      "  \"error\" : {\n",
      "    \"status\" : 429\n",
      "  }\n",
      "}\n",
      "<bound method Response.json of <Response [429]>>\n"
     ]
    },
    {
     "name": "stderr",
     "output_type": "stream",
     "text": [
      "api_call...:   2%|▌                           | 23/1096 [00:39<03:13,  5.55it/s]"
     ]
    },
    {
     "name": "stdout",
     "output_type": "stream",
     "text": [
      "Error: 429 - {\n",
      "  \"error\" : {\n",
      "    \"status\" : 429\n",
      "  }\n",
      "}\n",
      "<bound method Response.json of <Response [429]>>\n",
      "Error: 429 - {\n",
      "  \"error\" : {\n",
      "    \"status\" : 429\n",
      "  }\n",
      "}\n",
      "<bound method Response.json of <Response [429]>>\n"
     ]
    },
    {
     "name": "stderr",
     "output_type": "stream",
     "text": [
      "api_call...:   2%|▋                           | 25/1096 [00:39<03:29,  5.11it/s]"
     ]
    },
    {
     "name": "stdout",
     "output_type": "stream",
     "text": [
      "Error: 429 - {\n",
      "  \"error\" : {\n",
      "    \"status\" : 429\n",
      "  }\n",
      "}\n",
      "<bound method Response.json of <Response [429]>>\n",
      "Error: 429 - {\n",
      "  \"error\" : {\n",
      "    \"status\" : 429\n",
      "  }\n",
      "}\n",
      "<bound method Response.json of <Response [429]>>\n"
     ]
    },
    {
     "name": "stderr",
     "output_type": "stream",
     "text": [
      "\r",
      "api_call...:   2%|▋                           | 26/1096 [00:39<03:09,  5.66it/s]"
     ]
    },
    {
     "name": "stdout",
     "output_type": "stream",
     "text": [
      "Error: 429 - {\n",
      "  \"error\" : {\n",
      "    \"status\" : 429\n",
      "  }\n",
      "}\n",
      "<bound method Response.json of <Response [429]>>\n"
     ]
    },
    {
     "name": "stderr",
     "output_type": "stream",
     "text": [
      "api_call...:   3%|▋                           | 28/1096 [00:40<03:01,  5.90it/s]"
     ]
    },
    {
     "name": "stdout",
     "output_type": "stream",
     "text": [
      "Error: 429 - {\n",
      "  \"error\" : {\n",
      "    \"status\" : 429\n",
      "  }\n",
      "}\n",
      "<bound method Response.json of <Response [429]>>\n",
      "Error: 429 - {\n",
      "  \"error\" : {\n",
      "    \"status\" : 429\n",
      "  }\n",
      "}\n",
      "<bound method Response.json of <Response [429]>>\n"
     ]
    },
    {
     "name": "stderr",
     "output_type": "stream",
     "text": [
      "\r",
      "api_call...:   3%|▋                           | 29/1096 [00:40<02:54,  6.10it/s]"
     ]
    },
    {
     "name": "stdout",
     "output_type": "stream",
     "text": [
      "Error: 429 - {\n",
      "  \"error\" : {\n",
      "    \"status\" : 429\n",
      "  }\n",
      "}\n",
      "<bound method Response.json of <Response [429]>>\n"
     ]
    },
    {
     "name": "stderr",
     "output_type": "stream",
     "text": [
      "api_call...:   3%|▊                           | 31/1096 [00:40<03:10,  5.58it/s]"
     ]
    },
    {
     "name": "stdout",
     "output_type": "stream",
     "text": [
      "Error: 429 - {\n",
      "  \"error\" : {\n",
      "    \"status\" : 429\n",
      "  }\n",
      "}\n",
      "<bound method Response.json of <Response [429]>>\n",
      "Error: 429 - {\n",
      "  \"error\" : {\n",
      "    \"status\" : 429\n",
      "  }\n",
      "}\n",
      "<bound method Response.json of <Response [429]>>\n"
     ]
    },
    {
     "name": "stderr",
     "output_type": "stream",
     "text": [
      "api_call...:   3%|▊                           | 33/1096 [00:40<02:44,  6.48it/s]"
     ]
    },
    {
     "name": "stdout",
     "output_type": "stream",
     "text": [
      "Error: 429 - {\n",
      "  \"error\" : {\n",
      "    \"status\" : 429\n",
      "  }\n",
      "}\n",
      "<bound method Response.json of <Response [429]>>\n",
      "Error: 429 - {\n",
      "  \"error\" : {\n",
      "    \"status\" : 429\n",
      "  }\n",
      "}\n",
      "<bound method Response.json of <Response [429]>>\n"
     ]
    },
    {
     "name": "stderr",
     "output_type": "stream",
     "text": [
      "api_call...:   3%|▉                           | 35/1096 [00:41<02:32,  6.96it/s]"
     ]
    },
    {
     "name": "stdout",
     "output_type": "stream",
     "text": [
      "Error: 429 - {\n",
      "  \"error\" : {\n",
      "    \"status\" : 429\n",
      "  }\n",
      "}\n",
      "<bound method Response.json of <Response [429]>>\n",
      "Error: 429 - {\n",
      "  \"error\" : {\n",
      "    \"status\" : 429\n",
      "  }\n",
      "}\n",
      "<bound method Response.json of <Response [429]>>\n"
     ]
    },
    {
     "name": "stderr",
     "output_type": "stream",
     "text": [
      "api_call...:   3%|▉                           | 37/1096 [00:41<03:21,  5.26it/s]"
     ]
    },
    {
     "name": "stdout",
     "output_type": "stream",
     "text": [
      "Error: 429 - {\n",
      "  \"error\" : {\n",
      "    \"status\" : 429\n",
      "  }\n",
      "}\n",
      "<bound method Response.json of <Response [429]>>\n",
      "Error: 429 - {\n",
      "  \"error\" : {\n",
      "    \"status\" : 429\n",
      "  }\n",
      "}\n",
      "<bound method Response.json of <Response [429]>>\n"
     ]
    },
    {
     "name": "stderr",
     "output_type": "stream",
     "text": [
      "api_call...:   4%|▉                           | 39/1096 [00:41<02:59,  5.90it/s]"
     ]
    },
    {
     "name": "stdout",
     "output_type": "stream",
     "text": [
      "Error: 429 - {\n",
      "  \"error\" : {\n",
      "    \"status\" : 429\n",
      "  }\n",
      "}\n",
      "<bound method Response.json of <Response [429]>>\n",
      "Error: 429 - {\n",
      "  \"error\" : {\n",
      "    \"status\" : 429\n",
      "  }\n",
      "}\n",
      "<bound method Response.json of <Response [429]>>\n"
     ]
    },
    {
     "name": "stderr",
     "output_type": "stream",
     "text": [
      "api_call...:   4%|█                           | 41/1096 [00:42<03:12,  5.47it/s]"
     ]
    },
    {
     "name": "stdout",
     "output_type": "stream",
     "text": [
      "Error: 429 - {\n",
      "  \"error\" : {\n",
      "    \"status\" : 429\n",
      "  }\n",
      "}\n",
      "<bound method Response.json of <Response [429]>>\n",
      "Error: 429 - {\n",
      "  \"error\" : {\n",
      "    \"status\" : 429\n",
      "  }\n",
      "}\n",
      "<bound method Response.json of <Response [429]>>\n"
     ]
    },
    {
     "name": "stderr",
     "output_type": "stream",
     "text": [
      "\r",
      "api_call...:   4%|█                           | 42/1096 [00:42<05:05,  3.45it/s]"
     ]
    },
    {
     "name": "stdout",
     "output_type": "stream",
     "text": [
      "Error: 429 - {\n",
      "  \"error\" : {\n",
      "    \"status\" : 429\n",
      "  }\n",
      "}\n",
      "<bound method Response.json of <Response [429]>>\n"
     ]
    },
    {
     "name": "stderr",
     "output_type": "stream",
     "text": [
      "api_call...:   4%|█                           | 44/1096 [00:43<04:12,  4.17it/s]"
     ]
    },
    {
     "name": "stdout",
     "output_type": "stream",
     "text": [
      "Error: 429 - {\n",
      "  \"error\" : {\n",
      "    \"status\" : 429\n",
      "  }\n",
      "}\n",
      "<bound method Response.json of <Response [429]>>\n",
      "Error: 429 - {\n",
      "  \"error\" : {\n",
      "    \"status\" : 429\n",
      "  }\n",
      "}\n",
      "<bound method Response.json of <Response [429]>>\n"
     ]
    },
    {
     "name": "stderr",
     "output_type": "stream",
     "text": [
      "api_call...:   4%|█▏                          | 46/1096 [00:43<03:39,  4.79it/s]"
     ]
    },
    {
     "name": "stdout",
     "output_type": "stream",
     "text": [
      "Error: 429 - {\n",
      "  \"error\" : {\n",
      "    \"status\" : 429\n",
      "  }\n",
      "}\n",
      "<bound method Response.json of <Response [429]>>\n",
      "Error: 429 - {\n",
      "  \"error\" : {\n",
      "    \"status\" : 429\n",
      "  }\n",
      "}\n",
      "<bound method Response.json of <Response [429]>>\n"
     ]
    },
    {
     "name": "stderr",
     "output_type": "stream",
     "text": [
      "api_call...:   4%|█▏                          | 48/1096 [00:43<02:59,  5.83it/s]"
     ]
    },
    {
     "name": "stdout",
     "output_type": "stream",
     "text": [
      "Error: 429 - {\n",
      "  \"error\" : {\n",
      "    \"status\" : 429\n",
      "  }\n",
      "}\n",
      "<bound method Response.json of <Response [429]>>\n",
      "Error: 429 - {\n",
      "  \"error\" : {\n",
      "    \"status\" : 429\n",
      "  }\n",
      "}\n",
      "<bound method Response.json of <Response [429]>>\n"
     ]
    },
    {
     "name": "stderr",
     "output_type": "stream",
     "text": [
      "api_call...:   5%|█▎                          | 50/1096 [00:44<02:57,  5.89it/s]"
     ]
    },
    {
     "name": "stdout",
     "output_type": "stream",
     "text": [
      "Error: 429 - {\n",
      "  \"error\" : {\n",
      "    \"status\" : 429\n",
      "  }\n",
      "}\n",
      "<bound method Response.json of <Response [429]>>\n",
      "Error: 429 - {\n",
      "  \"error\" : {\n",
      "    \"status\" : 429\n",
      "  }\n",
      "}\n",
      "<bound method Response.json of <Response [429]>>\n"
     ]
    },
    {
     "name": "stderr",
     "output_type": "stream",
     "text": [
      "\r",
      "api_call...:   5%|█▎                          | 51/1096 [00:44<02:54,  5.98it/s]"
     ]
    },
    {
     "name": "stdout",
     "output_type": "stream",
     "text": [
      "Error: 429 - {\n",
      "  \"error\" : {\n",
      "    \"status\" : 429\n",
      "  }\n",
      "}\n",
      "<bound method Response.json of <Response [429]>>\n"
     ]
    },
    {
     "name": "stderr",
     "output_type": "stream",
     "text": [
      "api_call...:   5%|█▎                          | 53/1096 [00:44<03:05,  5.63it/s]"
     ]
    },
    {
     "name": "stdout",
     "output_type": "stream",
     "text": [
      "Error: 429 - {\n",
      "  \"error\" : {\n",
      "    \"status\" : 429\n",
      "  }\n",
      "}\n",
      "<bound method Response.json of <Response [429]>>\n",
      "Error: 429 - {\n",
      "  \"error\" : {\n",
      "    \"status\" : 429\n",
      "  }\n",
      "}\n",
      "<bound method Response.json of <Response [429]>>\n"
     ]
    },
    {
     "name": "stderr",
     "output_type": "stream",
     "text": [
      "api_call...:   5%|█▍                          | 55/1096 [00:45<02:43,  6.36it/s]"
     ]
    },
    {
     "name": "stdout",
     "output_type": "stream",
     "text": [
      "Error: 429 - {\n",
      "  \"error\" : {\n",
      "    \"status\" : 429\n",
      "  }\n",
      "}\n",
      "<bound method Response.json of <Response [429]>>\n",
      "Error: 429 - {\n",
      "  \"error\" : {\n",
      "    \"status\" : 429\n",
      "  }\n",
      "}\n",
      "<bound method Response.json of <Response [429]>>\n"
     ]
    },
    {
     "name": "stderr",
     "output_type": "stream",
     "text": [
      "\r",
      "api_call...:   5%|█▍                          | 56/1096 [00:45<02:34,  6.74it/s]"
     ]
    },
    {
     "name": "stdout",
     "output_type": "stream",
     "text": [
      "Error: 429 - {\n",
      "  \"error\" : {\n",
      "    \"status\" : 429\n",
      "  }\n",
      "}\n",
      "<bound method Response.json of <Response [429]>>\n"
     ]
    },
    {
     "name": "stderr",
     "output_type": "stream",
     "text": [
      "\r",
      "api_call...:   5%|█▍                          | 57/1096 [00:45<03:09,  5.48it/s]"
     ]
    },
    {
     "name": "stdout",
     "output_type": "stream",
     "text": [
      "Error: 429 - {\n",
      "  \"error\" : {\n",
      "    \"status\" : 429\n",
      "  }\n",
      "}\n",
      "<bound method Response.json of <Response [429]>>\n"
     ]
    },
    {
     "name": "stderr",
     "output_type": "stream",
     "text": [
      "api_call...:   5%|█▌                          | 59/1096 [00:45<03:02,  5.68it/s]"
     ]
    },
    {
     "name": "stdout",
     "output_type": "stream",
     "text": [
      "Error: 429 - {\n",
      "  \"error\" : {\n",
      "    \"status\" : 429\n",
      "  }\n",
      "}\n",
      "<bound method Response.json of <Response [429]>>\n",
      "Error: 429 - {\n",
      "  \"error\" : {\n",
      "    \"status\" : 429\n",
      "  }\n",
      "}\n",
      "<bound method Response.json of <Response [429]>>\n"
     ]
    },
    {
     "name": "stderr",
     "output_type": "stream",
     "text": [
      "api_call...:   6%|█▌                          | 61/1096 [00:46<02:50,  6.07it/s]"
     ]
    },
    {
     "name": "stdout",
     "output_type": "stream",
     "text": [
      "Error: 429 - {\n",
      "  \"error\" : {\n",
      "    \"status\" : 429\n",
      "  }\n",
      "}\n",
      "<bound method Response.json of <Response [429]>>\n",
      "Error: 429 - {\n",
      "  \"error\" : {\n",
      "    \"status\" : 429\n",
      "  }\n",
      "}\n",
      "<bound method Response.json of <Response [429]>>\n"
     ]
    },
    {
     "name": "stderr",
     "output_type": "stream",
     "text": [
      "api_call...:   6%|█▌                          | 63/1096 [00:46<03:55,  4.40it/s]"
     ]
    },
    {
     "name": "stdout",
     "output_type": "stream",
     "text": [
      "Error: 429 - {\n",
      "  \"error\" : {\n",
      "    \"status\" : 429\n",
      "  }\n",
      "}\n",
      "<bound method Response.json of <Response [429]>>\n",
      "Error: 429 - {\n",
      "  \"error\" : {\n",
      "    \"status\" : 429\n",
      "  }\n",
      "}\n",
      "<bound method Response.json of <Response [429]>>\n"
     ]
    },
    {
     "name": "stderr",
     "output_type": "stream",
     "text": [
      "\r",
      "api_call...:   6%|█▋                          | 64/1096 [00:46<03:40,  4.68it/s]"
     ]
    },
    {
     "name": "stdout",
     "output_type": "stream",
     "text": [
      "Error: 429 - {\n",
      "  \"error\" : {\n",
      "    \"status\" : 429\n",
      "  }\n",
      "}\n",
      "<bound method Response.json of <Response [429]>>\n"
     ]
    },
    {
     "name": "stderr",
     "output_type": "stream",
     "text": [
      "api_call...:   6%|█▋                          | 66/1096 [00:47<03:15,  5.28it/s]"
     ]
    },
    {
     "name": "stdout",
     "output_type": "stream",
     "text": [
      "Error: 429 - {\n",
      "  \"error\" : {\n",
      "    \"status\" : 429\n",
      "  }\n",
      "}\n",
      "<bound method Response.json of <Response [429]>>\n",
      "Error: 429 - {\n",
      "  \"error\" : {\n",
      "    \"status\" : 429\n",
      "  }\n",
      "}\n",
      "<bound method Response.json of <Response [429]>>\n"
     ]
    },
    {
     "name": "stderr",
     "output_type": "stream",
     "text": [
      "api_call...:   6%|█▋                          | 68/1096 [00:47<02:45,  6.21it/s]"
     ]
    },
    {
     "name": "stdout",
     "output_type": "stream",
     "text": [
      "Error: 429 - {\n",
      "  \"error\" : {\n",
      "    \"status\" : 429\n",
      "  }\n",
      "}\n",
      "<bound method Response.json of <Response [429]>>\n",
      "Error: 429 - {\n",
      "  \"error\" : {\n",
      "    \"status\" : 429\n",
      "  }\n",
      "}\n",
      "<bound method Response.json of <Response [429]>>\n"
     ]
    },
    {
     "name": "stderr",
     "output_type": "stream",
     "text": [
      "\r",
      "api_call...:   6%|█▊                          | 69/1096 [00:48<04:36,  3.71it/s]"
     ]
    },
    {
     "name": "stdout",
     "output_type": "stream",
     "text": [
      "Error: 429 - {\n",
      "  \"error\" : {\n",
      "    \"status\" : 429\n",
      "  }\n",
      "}\n",
      "<bound method Response.json of <Response [429]>>\n"
     ]
    },
    {
     "name": "stderr",
     "output_type": "stream",
     "text": [
      "api_call...:   6%|█▊                          | 71/1096 [00:48<03:56,  4.33it/s]"
     ]
    },
    {
     "name": "stdout",
     "output_type": "stream",
     "text": [
      "Error: 429 - {\n",
      "  \"error\" : {\n",
      "    \"status\" : 429\n",
      "  }\n",
      "}\n",
      "<bound method Response.json of <Response [429]>>\n",
      "Error: 429 - {\n",
      "  \"error\" : {\n",
      "    \"status\" : 429\n",
      "  }\n",
      "}\n",
      "<bound method Response.json of <Response [429]>>\n"
     ]
    },
    {
     "name": "stderr",
     "output_type": "stream",
     "text": [
      "api_call...:   7%|█▊                          | 73/1096 [00:48<03:36,  4.72it/s]"
     ]
    },
    {
     "name": "stdout",
     "output_type": "stream",
     "text": [
      "Error: 429 - {\n",
      "  \"error\" : {\n",
      "    \"status\" : 429\n",
      "  }\n",
      "}\n",
      "<bound method Response.json of <Response [429]>>\n",
      "Error: 429 - {\n",
      "  \"error\" : {\n",
      "    \"status\" : 429\n",
      "  }\n",
      "}\n",
      "<bound method Response.json of <Response [429]>>\n"
     ]
    },
    {
     "name": "stderr",
     "output_type": "stream",
     "text": [
      "\r",
      "api_call...:   7%|█▉                          | 74/1096 [00:49<03:16,  5.19it/s]"
     ]
    },
    {
     "name": "stdout",
     "output_type": "stream",
     "text": [
      "Error: 429 - {\n",
      "  \"error\" : {\n",
      "    \"status\" : 429\n",
      "  }\n",
      "}\n",
      "<bound method Response.json of <Response [429]>>\n"
     ]
    },
    {
     "name": "stderr",
     "output_type": "stream",
     "text": [
      "api_call...:   7%|█▉                          | 76/1096 [00:49<03:13,  5.28it/s]"
     ]
    },
    {
     "name": "stdout",
     "output_type": "stream",
     "text": [
      "Error: 429 - {\n",
      "  \"error\" : {\n",
      "    \"status\" : 429\n",
      "  }\n",
      "}\n",
      "<bound method Response.json of <Response [429]>>\n",
      "Error: 429 - {\n",
      "  \"error\" : {\n",
      "    \"status\" : 429\n",
      "  }\n",
      "}\n",
      "<bound method Response.json of <Response [429]>>\n"
     ]
    },
    {
     "name": "stderr",
     "output_type": "stream",
     "text": [
      "\r",
      "api_call...:   7%|█▉                          | 77/1096 [00:49<03:26,  4.93it/s]"
     ]
    },
    {
     "name": "stdout",
     "output_type": "stream",
     "text": [
      "Error: 429 - {\n",
      "  \"error\" : {\n",
      "    \"status\" : 429\n",
      "  }\n",
      "}\n",
      "<bound method Response.json of <Response [429]>>\n"
     ]
    },
    {
     "name": "stderr",
     "output_type": "stream",
     "text": [
      "\r",
      "api_call...:   7%|█▉                          | 78/1096 [00:49<03:51,  4.39it/s]"
     ]
    },
    {
     "name": "stdout",
     "output_type": "stream",
     "text": [
      "Error: 429 - {\n",
      "  \"error\" : {\n",
      "    \"status\" : 429\n",
      "  }\n",
      "}\n",
      "<bound method Response.json of <Response [429]>>\n"
     ]
    },
    {
     "name": "stderr",
     "output_type": "stream",
     "text": [
      "api_call...:   7%|██                          | 80/1096 [00:50<04:31,  3.75it/s]"
     ]
    },
    {
     "name": "stdout",
     "output_type": "stream",
     "text": [
      "Error: 429 - {\n",
      "  \"error\" : {\n",
      "    \"status\" : 429\n",
      "  }\n",
      "}\n",
      "<bound method Response.json of <Response [429]>>\n",
      "Error: 429 - {\n",
      "  \"error\" : {\n",
      "    \"status\" : 429\n",
      "  }\n",
      "}\n",
      "<bound method Response.json of <Response [429]>>\n"
     ]
    },
    {
     "name": "stderr",
     "output_type": "stream",
     "text": [
      "api_call...:   7%|██                          | 82/1096 [00:51<04:01,  4.20it/s]"
     ]
    },
    {
     "name": "stdout",
     "output_type": "stream",
     "text": [
      "Error: 429 - {\n",
      "  \"error\" : {\n",
      "    \"status\" : 429\n",
      "  }\n",
      "}\n",
      "<bound method Response.json of <Response [429]>>\n",
      "Error: 429 - {\n",
      "  \"error\" : {\n",
      "    \"status\" : 429\n",
      "  }\n",
      "}\n",
      "<bound method Response.json of <Response [429]>>\n"
     ]
    },
    {
     "name": "stderr",
     "output_type": "stream",
     "text": [
      "api_call...:   8%|██▏                         | 84/1096 [00:51<03:15,  5.18it/s]"
     ]
    },
    {
     "name": "stdout",
     "output_type": "stream",
     "text": [
      "Error: 429 - {\n",
      "  \"error\" : {\n",
      "    \"status\" : 429\n",
      "  }\n",
      "}\n",
      "<bound method Response.json of <Response [429]>>\n",
      "Error: 429 - {\n",
      "  \"error\" : {\n",
      "    \"status\" : 429\n",
      "  }\n",
      "}\n",
      "<bound method Response.json of <Response [429]>>\n"
     ]
    },
    {
     "name": "stderr",
     "output_type": "stream",
     "text": [
      "\r",
      "api_call...:   8%|██▏                         | 85/1096 [00:51<02:59,  5.64it/s]"
     ]
    },
    {
     "name": "stdout",
     "output_type": "stream",
     "text": [
      "Error: 429 - {\n",
      "  \"error\" : {\n",
      "    \"status\" : 429\n",
      "  }\n",
      "}\n",
      "<bound method Response.json of <Response [429]>>\n"
     ]
    },
    {
     "name": "stderr",
     "output_type": "stream",
     "text": [
      "api_call...:   8%|██▏                         | 88/1096 [00:52<03:13,  5.20it/s]"
     ]
    },
    {
     "name": "stdout",
     "output_type": "stream",
     "text": [
      "Error: 429 - {\n",
      "  \"error\" : {\n",
      "    \"status\" : 429\n",
      "  }\n",
      "}\n",
      "<bound method Response.json of <Response [429]>>\n",
      "Error: 429 - {\n",
      "  \"error\" : {\n",
      "    \"status\" : 429\n",
      "  }\n",
      "}\n",
      "<bound method Response.json of <Response [429]>>\n"
     ]
    },
    {
     "name": "stderr",
     "output_type": "stream",
     "text": [
      "\r",
      "api_call...:   8%|██▎                         | 89/1096 [00:52<02:52,  5.85it/s]"
     ]
    },
    {
     "name": "stdout",
     "output_type": "stream",
     "text": [
      "Error: 429 - {\n",
      "  \"error\" : {\n",
      "    \"status\" : 429\n",
      "  }\n",
      "}\n",
      "<bound method Response.json of <Response [429]>>\n"
     ]
    },
    {
     "name": "stderr",
     "output_type": "stream",
     "text": [
      "api_call...:   8%|██▎                         | 91/1096 [00:52<03:02,  5.52it/s]"
     ]
    },
    {
     "name": "stdout",
     "output_type": "stream",
     "text": [
      "Error: 429 - {\n",
      "  \"error\" : {\n",
      "    \"status\" : 429\n",
      "  }\n",
      "}\n",
      "<bound method Response.json of <Response [429]>>\n",
      "Error: 429 - {\n",
      "  \"error\" : {\n",
      "    \"status\" : 429\n",
      "  }\n",
      "}\n",
      "<bound method Response.json of <Response [429]>>\n"
     ]
    },
    {
     "name": "stderr",
     "output_type": "stream",
     "text": [
      "api_call...:   8%|██▍                         | 93/1096 [00:53<03:18,  5.05it/s]"
     ]
    },
    {
     "name": "stdout",
     "output_type": "stream",
     "text": [
      "Error: 429 - {\n",
      "  \"error\" : {\n",
      "    \"status\" : 429\n",
      "  }\n",
      "}\n",
      "<bound method Response.json of <Response [429]>>\n",
      "Error: 429 - {\n",
      "  \"error\" : {\n",
      "    \"status\" : 429\n",
      "  }\n",
      "}\n",
      "<bound method Response.json of <Response [429]>>\n"
     ]
    },
    {
     "name": "stderr",
     "output_type": "stream",
     "text": [
      "api_call...:   9%|██▍                         | 95/1096 [00:53<02:52,  5.80it/s]"
     ]
    },
    {
     "name": "stdout",
     "output_type": "stream",
     "text": [
      "Error: 429 - {\n",
      "  \"error\" : {\n",
      "    \"status\" : 429\n",
      "  }\n",
      "}\n",
      "<bound method Response.json of <Response [429]>>\n",
      "Error: 429 - {\n",
      "  \"error\" : {\n",
      "    \"status\" : 429\n",
      "  }\n",
      "}\n",
      "<bound method Response.json of <Response [429]>>\n"
     ]
    },
    {
     "name": "stderr",
     "output_type": "stream",
     "text": [
      "api_call...:   9%|██▍                         | 97/1096 [00:53<02:37,  6.34it/s]"
     ]
    },
    {
     "name": "stdout",
     "output_type": "stream",
     "text": [
      "Error: 429 - {\n",
      "  \"error\" : {\n",
      "    \"status\" : 429\n",
      "  }\n",
      "}\n",
      "<bound method Response.json of <Response [429]>>\n",
      "Error: 429 - {\n",
      "  \"error\" : {\n",
      "    \"status\" : 429\n",
      "  }\n",
      "}\n",
      "<bound method Response.json of <Response [429]>>\n"
     ]
    },
    {
     "name": "stderr",
     "output_type": "stream",
     "text": [
      "api_call...:   9%|██▌                         | 99/1096 [00:54<02:51,  5.80it/s]"
     ]
    },
    {
     "name": "stdout",
     "output_type": "stream",
     "text": [
      "Error: 429 - {\n",
      "  \"error\" : {\n",
      "    \"status\" : 429\n",
      "  }\n",
      "}\n",
      "<bound method Response.json of <Response [429]>>\n",
      "Error: 429 - {\n",
      "  \"error\" : {\n",
      "    \"status\" : 429\n",
      "  }\n",
      "}\n",
      "<bound method Response.json of <Response [429]>>\n"
     ]
    },
    {
     "name": "stderr",
     "output_type": "stream",
     "text": [
      "\r",
      "api_call...:   9%|██▍                        | 100/1096 [00:54<03:11,  5.21it/s]"
     ]
    },
    {
     "name": "stdout",
     "output_type": "stream",
     "text": [
      "Error: 429 - {\n",
      "  \"error\" : {\n",
      "    \"status\" : 429\n",
      "  }\n",
      "}\n",
      "<bound method Response.json of <Response [429]>>\n"
     ]
    },
    {
     "name": "stderr",
     "output_type": "stream",
     "text": [
      "api_call...:   9%|██▎                      | 102/1096 [01:29<2:04:52,  7.54s/it]"
     ]
    },
    {
     "name": "stdout",
     "output_type": "stream",
     "text": [
      "Error: 429 - {\n",
      "  \"error\" : {\n",
      "    \"status\" : 429\n",
      "  }\n",
      "}\n",
      "<bound method Response.json of <Response [429]>>\n",
      "Error: 429 - {\n",
      "  \"error\" : {\n",
      "    \"status\" : 429\n",
      "  }\n",
      "}\n",
      "<bound method Response.json of <Response [429]>>\n"
     ]
    },
    {
     "name": "stderr",
     "output_type": "stream",
     "text": [
      "api_call...:   9%|██▎                      | 104/1096 [01:30<1:02:11,  3.76s/it]"
     ]
    },
    {
     "name": "stdout",
     "output_type": "stream",
     "text": [
      "Error: 429 - {\n",
      "  \"error\" : {\n",
      "    \"status\" : 429\n",
      "  }\n",
      "}\n",
      "<bound method Response.json of <Response [429]>>\n",
      "Error: 429 - {\n",
      "  \"error\" : {\n",
      "    \"status\" : 429\n",
      "  }\n",
      "}\n",
      "<bound method Response.json of <Response [429]>>\n"
     ]
    },
    {
     "name": "stderr",
     "output_type": "stream",
     "text": [
      "api_call...:  10%|██▌                        | 106/1096 [01:30<31:45,  1.93s/it]"
     ]
    },
    {
     "name": "stdout",
     "output_type": "stream",
     "text": [
      "Error: 429 - {\n",
      "  \"error\" : {\n",
      "    \"status\" : 429\n",
      "  }\n",
      "}\n",
      "<bound method Response.json of <Response [429]>>\n",
      "Error: 429 - {\n",
      "  \"error\" : {\n",
      "    \"status\" : 429\n",
      "  }\n",
      "}\n",
      "<bound method Response.json of <Response [429]>>\n"
     ]
    },
    {
     "name": "stderr",
     "output_type": "stream",
     "text": [
      "\r",
      "api_call...:  10%|██▋                        | 107/1096 [01:30<23:07,  1.40s/it]"
     ]
    },
    {
     "name": "stdout",
     "output_type": "stream",
     "text": [
      "Error: 429 - {\n",
      "  \"error\" : {\n",
      "    \"status\" : 429\n",
      "  }\n",
      "}\n",
      "<bound method Response.json of <Response [429]>>\n"
     ]
    },
    {
     "name": "stderr",
     "output_type": "stream",
     "text": [
      "api_call...:  10%|██▋                        | 109/1096 [01:30<12:49,  1.28it/s]"
     ]
    },
    {
     "name": "stdout",
     "output_type": "stream",
     "text": [
      "Error: 429 - {\n",
      "  \"error\" : {\n",
      "    \"status\" : 429\n",
      "  }\n",
      "}\n",
      "<bound method Response.json of <Response [429]>>\n",
      "Error: 429 - {\n",
      "  \"error\" : {\n",
      "    \"status\" : 429\n",
      "  }\n",
      "}\n",
      "<bound method Response.json of <Response [429]>>\n"
     ]
    },
    {
     "name": "stderr",
     "output_type": "stream",
     "text": [
      "api_call...:  10%|██▋                        | 111/1096 [01:31<07:28,  2.20it/s]"
     ]
    },
    {
     "name": "stdout",
     "output_type": "stream",
     "text": [
      "Error: 429 - {\n",
      "  \"error\" : {\n",
      "    \"status\" : 429\n",
      "  }\n",
      "}\n",
      "<bound method Response.json of <Response [429]>>\n",
      "Error: 429 - {\n",
      "  \"error\" : {\n",
      "    \"status\" : 429\n",
      "  }\n",
      "}\n",
      "<bound method Response.json of <Response [429]>>\n"
     ]
    },
    {
     "name": "stderr",
     "output_type": "stream",
     "text": [
      "api_call...:  10%|██▊                        | 113/1096 [01:31<04:51,  3.37it/s]"
     ]
    },
    {
     "name": "stdout",
     "output_type": "stream",
     "text": [
      "Error: 429 - {\n",
      "  \"error\" : {\n",
      "    \"status\" : 429\n",
      "  }\n",
      "}\n",
      "<bound method Response.json of <Response [429]>>\n",
      "Error: 429 - {\n",
      "  \"error\" : {\n",
      "    \"status\" : 429\n",
      "  }\n",
      "}\n",
      "<bound method Response.json of <Response [429]>>\n"
     ]
    },
    {
     "name": "stderr",
     "output_type": "stream",
     "text": [
      "api_call...:  10%|██▊                        | 115/1096 [01:31<03:55,  4.17it/s]"
     ]
    },
    {
     "name": "stdout",
     "output_type": "stream",
     "text": [
      "Error: 429 - {\n",
      "  \"error\" : {\n",
      "    \"status\" : 429\n",
      "  }\n",
      "}\n",
      "<bound method Response.json of <Response [429]>>\n",
      "Error: 429 - {\n",
      "  \"error\" : {\n",
      "    \"status\" : 429\n",
      "  }\n",
      "}\n",
      "<bound method Response.json of <Response [429]>>\n"
     ]
    },
    {
     "name": "stderr",
     "output_type": "stream",
     "text": [
      "api_call...:  11%|██▉                        | 117/1096 [01:32<03:05,  5.28it/s]"
     ]
    },
    {
     "name": "stdout",
     "output_type": "stream",
     "text": [
      "Error: 429 - {\n",
      "  \"error\" : {\n",
      "    \"status\" : 429\n",
      "  }\n",
      "}\n",
      "<bound method Response.json of <Response [429]>>\n",
      "Error: 429 - {\n",
      "  \"error\" : {\n",
      "    \"status\" : 429\n",
      "  }\n",
      "}\n",
      "<bound method Response.json of <Response [429]>>\n"
     ]
    },
    {
     "name": "stderr",
     "output_type": "stream",
     "text": [
      "api_call...:  11%|██▉                        | 119/1096 [01:32<02:52,  5.65it/s]"
     ]
    },
    {
     "name": "stdout",
     "output_type": "stream",
     "text": [
      "Error: 429 - {\n",
      "  \"error\" : {\n",
      "    \"status\" : 429\n",
      "  }\n",
      "}\n",
      "<bound method Response.json of <Response [429]>>\n",
      "Error: 429 - {\n",
      "  \"error\" : {\n",
      "    \"status\" : 429\n",
      "  }\n",
      "}\n",
      "<bound method Response.json of <Response [429]>>\n"
     ]
    },
    {
     "name": "stderr",
     "output_type": "stream",
     "text": [
      "\r",
      "api_call...:  11%|██▉                        | 120/1096 [01:32<02:42,  6.02it/s]"
     ]
    },
    {
     "name": "stdout",
     "output_type": "stream",
     "text": [
      "Error: 429 - {\n",
      "  \"error\" : {\n",
      "    \"status\" : 429\n",
      "  }\n",
      "}\n",
      "<bound method Response.json of <Response [429]>>\n"
     ]
    },
    {
     "name": "stderr",
     "output_type": "stream",
     "text": [
      "api_call...:  11%|███                        | 122/1096 [01:33<02:43,  5.95it/s]"
     ]
    },
    {
     "name": "stdout",
     "output_type": "stream",
     "text": [
      "Error: 429 - {\n",
      "  \"error\" : {\n",
      "    \"status\" : 429\n",
      "  }\n",
      "}\n",
      "<bound method Response.json of <Response [429]>>\n",
      "Error: 429 - {\n",
      "  \"error\" : {\n",
      "    \"status\" : 429\n",
      "  }\n",
      "}\n",
      "<bound method Response.json of <Response [429]>>\n"
     ]
    },
    {
     "name": "stderr",
     "output_type": "stream",
     "text": [
      "\r",
      "api_call...:  11%|███                        | 123/1096 [01:33<02:32,  6.37it/s]"
     ]
    },
    {
     "name": "stdout",
     "output_type": "stream",
     "text": [
      "Error: 429 - {\n",
      "  \"error\" : {\n",
      "    \"status\" : 429\n",
      "  }\n",
      "}\n",
      "<bound method Response.json of <Response [429]>>\n"
     ]
    },
    {
     "name": "stderr",
     "output_type": "stream",
     "text": [
      "\r",
      "api_call...:  11%|███                        | 124/1096 [01:33<03:57,  4.10it/s]"
     ]
    },
    {
     "name": "stdout",
     "output_type": "stream",
     "text": [
      "Error: 429 - {\n",
      "  \"error\" : {\n",
      "    \"status\" : 429\n",
      "  }\n",
      "}\n",
      "<bound method Response.json of <Response [429]>>\n"
     ]
    },
    {
     "name": "stderr",
     "output_type": "stream",
     "text": [
      "api_call...:  11%|███                        | 126/1096 [01:33<03:26,  4.69it/s]"
     ]
    },
    {
     "name": "stdout",
     "output_type": "stream",
     "text": [
      "Error: 429 - {\n",
      "  \"error\" : {\n",
      "    \"status\" : 429\n",
      "  }\n",
      "}\n",
      "<bound method Response.json of <Response [429]>>\n",
      "Error: 429 - {\n",
      "  \"error\" : {\n",
      "    \"status\" : 429\n",
      "  }\n",
      "}\n",
      "<bound method Response.json of <Response [429]>>\n"
     ]
    },
    {
     "name": "stderr",
     "output_type": "stream",
     "text": [
      "api_call...:  12%|███▏                       | 128/1096 [01:34<02:45,  5.85it/s]"
     ]
    },
    {
     "name": "stdout",
     "output_type": "stream",
     "text": [
      "Error: 429 - {\n",
      "  \"error\" : {\n",
      "    \"status\" : 429\n",
      "  }\n",
      "}\n",
      "<bound method Response.json of <Response [429]>>\n",
      "Error: 429 - {\n",
      "  \"error\" : {\n",
      "    \"status\" : 429\n",
      "  }\n",
      "}\n",
      "<bound method Response.json of <Response [429]>>\n"
     ]
    },
    {
     "name": "stderr",
     "output_type": "stream",
     "text": [
      "api_call...:  12%|███▏                       | 130/1096 [01:34<02:45,  5.84it/s]"
     ]
    },
    {
     "name": "stdout",
     "output_type": "stream",
     "text": [
      "Error: 429 - {\n",
      "  \"error\" : {\n",
      "    \"status\" : 429\n",
      "  }\n",
      "}\n",
      "<bound method Response.json of <Response [429]>>\n",
      "Error: 429 - {\n",
      "  \"error\" : {\n",
      "    \"status\" : 429\n",
      "  }\n",
      "}\n",
      "<bound method Response.json of <Response [429]>>\n"
     ]
    },
    {
     "name": "stderr",
     "output_type": "stream",
     "text": [
      "\r",
      "api_call...:  12%|███▏                       | 131/1096 [01:34<02:41,  5.98it/s]"
     ]
    },
    {
     "name": "stdout",
     "output_type": "stream",
     "text": [
      "Error: 429 - {\n",
      "  \"error\" : {\n",
      "    \"status\" : 429\n",
      "  }\n",
      "}\n",
      "<bound method Response.json of <Response [429]>>\n"
     ]
    },
    {
     "name": "stderr",
     "output_type": "stream",
     "text": [
      "api_call...:  12%|███▎                       | 133/1096 [01:35<02:38,  6.07it/s]"
     ]
    },
    {
     "name": "stdout",
     "output_type": "stream",
     "text": [
      "Error: 429 - {\n",
      "  \"error\" : {\n",
      "    \"status\" : 429\n",
      "  }\n",
      "}\n",
      "<bound method Response.json of <Response [429]>>\n",
      "Error: 429 - {\n",
      "  \"error\" : {\n",
      "    \"status\" : 429\n",
      "  }\n",
      "}\n",
      "<bound method Response.json of <Response [429]>>\n"
     ]
    },
    {
     "name": "stderr",
     "output_type": "stream",
     "text": [
      "api_call...:  12%|███▎                       | 135/1096 [01:35<02:36,  6.14it/s]"
     ]
    },
    {
     "name": "stdout",
     "output_type": "stream",
     "text": [
      "Error: 429 - {\n",
      "  \"error\" : {\n",
      "    \"status\" : 429\n",
      "  }\n",
      "}\n",
      "<bound method Response.json of <Response [429]>>\n",
      "Error: 429 - {\n",
      "  \"error\" : {\n",
      "    \"status\" : 429\n",
      "  }\n",
      "}\n",
      "<bound method Response.json of <Response [429]>>\n"
     ]
    },
    {
     "name": "stderr",
     "output_type": "stream",
     "text": [
      "api_call...:  12%|███▍                       | 137/1096 [01:35<02:25,  6.60it/s]"
     ]
    },
    {
     "name": "stdout",
     "output_type": "stream",
     "text": [
      "Error: 429 - {\n",
      "  \"error\" : {\n",
      "    \"status\" : 429\n",
      "  }\n",
      "}\n",
      "<bound method Response.json of <Response [429]>>\n",
      "Error: 429 - {\n",
      "  \"error\" : {\n",
      "    \"status\" : 429\n",
      "  }\n",
      "}\n",
      "<bound method Response.json of <Response [429]>>\n"
     ]
    },
    {
     "name": "stderr",
     "output_type": "stream",
     "text": [
      "api_call...:  13%|███▍                       | 139/1096 [01:36<02:37,  6.09it/s]"
     ]
    },
    {
     "name": "stdout",
     "output_type": "stream",
     "text": [
      "Error: 429 - {\n",
      "  \"error\" : {\n",
      "    \"status\" : 429\n",
      "  }\n",
      "}\n",
      "<bound method Response.json of <Response [429]>>\n",
      "Error: 429 - {\n",
      "  \"error\" : {\n",
      "    \"status\" : 429\n",
      "  }\n",
      "}\n",
      "<bound method Response.json of <Response [429]>>\n"
     ]
    },
    {
     "name": "stderr",
     "output_type": "stream",
     "text": [
      "api_call...:  13%|███▍                       | 141/1096 [01:36<02:20,  6.78it/s]"
     ]
    },
    {
     "name": "stdout",
     "output_type": "stream",
     "text": [
      "Error: 429 - {\n",
      "  \"error\" : {\n",
      "    \"status\" : 429\n",
      "  }\n",
      "}\n",
      "<bound method Response.json of <Response [429]>>\n",
      "Error: 429 - {\n",
      "  \"error\" : {\n",
      "    \"status\" : 429\n",
      "  }\n",
      "}\n",
      "<bound method Response.json of <Response [429]>>\n"
     ]
    },
    {
     "name": "stderr",
     "output_type": "stream",
     "text": [
      "api_call...:  13%|███▌                       | 143/1096 [01:36<02:29,  6.36it/s]"
     ]
    },
    {
     "name": "stdout",
     "output_type": "stream",
     "text": [
      "Error: 429 - {\n",
      "  \"error\" : {\n",
      "    \"status\" : 429\n",
      "  }\n",
      "}\n",
      "<bound method Response.json of <Response [429]>>\n",
      "Error: 429 - {\n",
      "  \"error\" : {\n",
      "    \"status\" : 429\n",
      "  }\n",
      "}\n",
      "<bound method Response.json of <Response [429]>>\n"
     ]
    },
    {
     "name": "stderr",
     "output_type": "stream",
     "text": [
      "\r",
      "api_call...:  13%|███▌                       | 144/1096 [01:36<02:34,  6.17it/s]"
     ]
    },
    {
     "name": "stdout",
     "output_type": "stream",
     "text": [
      "Error: 429 - {\n",
      "  \"error\" : {\n",
      "    \"status\" : 429\n",
      "  }\n",
      "}\n",
      "<bound method Response.json of <Response [429]>>\n"
     ]
    },
    {
     "name": "stderr",
     "output_type": "stream",
     "text": [
      "api_call...:  13%|███▌                       | 146/1096 [01:37<02:34,  6.13it/s]"
     ]
    },
    {
     "name": "stdout",
     "output_type": "stream",
     "text": [
      "Error: 429 - {\n",
      "  \"error\" : {\n",
      "    \"status\" : 429\n",
      "  }\n",
      "}\n",
      "<bound method Response.json of <Response [429]>>\n",
      "Error: 429 - {\n",
      "  \"error\" : {\n",
      "    \"status\" : 429\n",
      "  }\n",
      "}\n",
      "<bound method Response.json of <Response [429]>>\n"
     ]
    },
    {
     "name": "stderr",
     "output_type": "stream",
     "text": [
      "api_call...:  14%|███▋                       | 148/1096 [01:37<02:34,  6.14it/s]"
     ]
    },
    {
     "name": "stdout",
     "output_type": "stream",
     "text": [
      "Error: 429 - {\n",
      "  \"error\" : {\n",
      "    \"status\" : 429\n",
      "  }\n",
      "}\n",
      "<bound method Response.json of <Response [429]>>\n",
      "Error: 429 - {\n",
      "  \"error\" : {\n",
      "    \"status\" : 429\n",
      "  }\n",
      "}\n",
      "<bound method Response.json of <Response [429]>>\n"
     ]
    },
    {
     "name": "stderr",
     "output_type": "stream",
     "text": [
      "api_call...:  14%|███▋                       | 150/1096 [01:37<02:19,  6.78it/s]"
     ]
    },
    {
     "name": "stdout",
     "output_type": "stream",
     "text": [
      "Error: 429 - {\n",
      "  \"error\" : {\n",
      "    \"status\" : 429\n",
      "  }\n",
      "}\n",
      "<bound method Response.json of <Response [429]>>\n",
      "Error: 429 - {\n",
      "  \"error\" : {\n",
      "    \"status\" : 429\n",
      "  }\n",
      "}\n",
      "<bound method Response.json of <Response [429]>>\n"
     ]
    },
    {
     "name": "stderr",
     "output_type": "stream",
     "text": [
      "api_call...:  14%|███▋                       | 152/1096 [01:38<02:35,  6.07it/s]"
     ]
    },
    {
     "name": "stdout",
     "output_type": "stream",
     "text": [
      "Error: 429 - {\n",
      "  \"error\" : {\n",
      "    \"status\" : 429\n",
      "  }\n",
      "}\n",
      "<bound method Response.json of <Response [429]>>\n",
      "Error: 429 - {\n",
      "  \"error\" : {\n",
      "    \"status\" : 429\n",
      "  }\n",
      "}\n",
      "<bound method Response.json of <Response [429]>>\n"
     ]
    },
    {
     "name": "stderr",
     "output_type": "stream",
     "text": [
      "api_call...:  14%|███▊                       | 154/1096 [01:38<02:11,  7.18it/s]"
     ]
    },
    {
     "name": "stdout",
     "output_type": "stream",
     "text": [
      "Error: 429 - {\n",
      "  \"error\" : {\n",
      "    \"status\" : 429\n",
      "  }\n",
      "}\n",
      "<bound method Response.json of <Response [429]>>\n",
      "Error: 429 - {\n",
      "  \"error\" : {\n",
      "    \"status\" : 429\n",
      "  }\n",
      "}\n",
      "<bound method Response.json of <Response [429]>>\n"
     ]
    },
    {
     "name": "stderr",
     "output_type": "stream",
     "text": [
      "api_call...:  14%|███▊                       | 156/1096 [01:38<02:14,  6.98it/s]"
     ]
    },
    {
     "name": "stdout",
     "output_type": "stream",
     "text": [
      "Error: 429 - {\n",
      "  \"error\" : {\n",
      "    \"status\" : 429\n",
      "  }\n",
      "}\n",
      "<bound method Response.json of <Response [429]>>\n",
      "Error: 429 - {\n",
      "  \"error\" : {\n",
      "    \"status\" : 429\n",
      "  }\n",
      "}\n",
      "<bound method Response.json of <Response [429]>>\n"
     ]
    },
    {
     "name": "stderr",
     "output_type": "stream",
     "text": [
      "api_call...:  14%|███▉                       | 158/1096 [01:39<02:59,  5.22it/s]"
     ]
    },
    {
     "name": "stdout",
     "output_type": "stream",
     "text": [
      "Error: 429 - {\n",
      "  \"error\" : {\n",
      "    \"status\" : 429\n",
      "  }\n",
      "}\n",
      "<bound method Response.json of <Response [429]>>\n",
      "Error: 429 - {\n",
      "  \"error\" : {\n",
      "    \"status\" : 429\n",
      "  }\n",
      "}\n",
      "<bound method Response.json of <Response [429]>>\n"
     ]
    },
    {
     "name": "stderr",
     "output_type": "stream",
     "text": [
      "api_call...:  15%|███▉                       | 160/1096 [01:39<02:31,  6.19it/s]"
     ]
    },
    {
     "name": "stdout",
     "output_type": "stream",
     "text": [
      "Error: 429 - {\n",
      "  \"error\" : {\n",
      "    \"status\" : 429\n",
      "  }\n",
      "}\n",
      "<bound method Response.json of <Response [429]>>\n",
      "Error: 429 - {\n",
      "  \"error\" : {\n",
      "    \"status\" : 429\n",
      "  }\n",
      "}\n",
      "<bound method Response.json of <Response [429]>>\n"
     ]
    },
    {
     "name": "stderr",
     "output_type": "stream",
     "text": [
      "api_call...:  15%|███▉                       | 162/1096 [01:39<02:33,  6.08it/s]"
     ]
    },
    {
     "name": "stdout",
     "output_type": "stream",
     "text": [
      "Error: 429 - {\n",
      "  \"error\" : {\n",
      "    \"status\" : 429\n",
      "  }\n",
      "}\n",
      "<bound method Response.json of <Response [429]>>\n",
      "Error: 429 - {\n",
      "  \"error\" : {\n",
      "    \"status\" : 429\n",
      "  }\n",
      "}\n",
      "<bound method Response.json of <Response [429]>>\n"
     ]
    },
    {
     "name": "stderr",
     "output_type": "stream",
     "text": [
      "api_call...:  15%|████                       | 164/1096 [01:40<02:25,  6.42it/s]"
     ]
    },
    {
     "name": "stdout",
     "output_type": "stream",
     "text": [
      "Error: 429 - {\n",
      "  \"error\" : {\n",
      "    \"status\" : 429\n",
      "  }\n",
      "}\n",
      "<bound method Response.json of <Response [429]>>\n",
      "Error: 429 - {\n",
      "  \"error\" : {\n",
      "    \"status\" : 429\n",
      "  }\n",
      "}\n",
      "<bound method Response.json of <Response [429]>>\n"
     ]
    },
    {
     "name": "stderr",
     "output_type": "stream",
     "text": [
      "api_call...:  15%|████                       | 166/1096 [01:40<02:11,  7.06it/s]"
     ]
    },
    {
     "name": "stdout",
     "output_type": "stream",
     "text": [
      "Error: 429 - {\n",
      "  \"error\" : {\n",
      "    \"status\" : 429\n",
      "  }\n",
      "}\n",
      "<bound method Response.json of <Response [429]>>\n",
      "Error: 429 - {\n",
      "  \"error\" : {\n",
      "    \"status\" : 429\n",
      "  }\n",
      "}\n",
      "<bound method Response.json of <Response [429]>>\n"
     ]
    },
    {
     "name": "stderr",
     "output_type": "stream",
     "text": [
      "api_call...:  15%|████▏                      | 168/1096 [01:40<02:09,  7.17it/s]"
     ]
    },
    {
     "name": "stdout",
     "output_type": "stream",
     "text": [
      "Error: 429 - {\n",
      "  \"error\" : {\n",
      "    \"status\" : 429\n",
      "  }\n",
      "}\n",
      "<bound method Response.json of <Response [429]>>\n",
      "Error: 429 - {\n",
      "  \"error\" : {\n",
      "    \"status\" : 429\n",
      "  }\n",
      "}\n",
      "<bound method Response.json of <Response [429]>>\n"
     ]
    },
    {
     "name": "stderr",
     "output_type": "stream",
     "text": [
      "api_call...:  16%|████▏                      | 170/1096 [01:40<02:09,  7.15it/s]"
     ]
    },
    {
     "name": "stdout",
     "output_type": "stream",
     "text": [
      "Error: 429 - {\n",
      "  \"error\" : {\n",
      "    \"status\" : 429\n",
      "  }\n",
      "}\n",
      "<bound method Response.json of <Response [429]>>\n",
      "Error: 429 - {\n",
      "  \"error\" : {\n",
      "    \"status\" : 429\n",
      "  }\n",
      "}\n",
      "<bound method Response.json of <Response [429]>>\n"
     ]
    },
    {
     "name": "stderr",
     "output_type": "stream",
     "text": [
      "api_call...:  16%|████▏                      | 172/1096 [01:41<02:25,  6.37it/s]"
     ]
    },
    {
     "name": "stdout",
     "output_type": "stream",
     "text": [
      "Error: 429 - {\n",
      "  \"error\" : {\n",
      "    \"status\" : 429\n",
      "  }\n",
      "}\n",
      "<bound method Response.json of <Response [429]>>\n",
      "Error: 429 - {\n",
      "  \"error\" : {\n",
      "    \"status\" : 429\n",
      "  }\n",
      "}\n",
      "<bound method Response.json of <Response [429]>>\n"
     ]
    },
    {
     "name": "stderr",
     "output_type": "stream",
     "text": [
      "\r",
      "api_call...:  16%|████▎                      | 173/1096 [01:41<02:23,  6.45it/s]"
     ]
    },
    {
     "name": "stdout",
     "output_type": "stream",
     "text": [
      "Error: 429 - {\n",
      "  \"error\" : {\n",
      "    \"status\" : 429\n",
      "  }\n",
      "}\n",
      "<bound method Response.json of <Response [429]>>\n"
     ]
    },
    {
     "name": "stderr",
     "output_type": "stream",
     "text": [
      "api_call...:  16%|████▎                      | 175/1096 [01:42<03:24,  4.49it/s]"
     ]
    },
    {
     "name": "stdout",
     "output_type": "stream",
     "text": [
      "Error: 429 - {\n",
      "  \"error\" : {\n",
      "    \"status\" : 429\n",
      "  }\n",
      "}\n",
      "<bound method Response.json of <Response [429]>>\n",
      "Error: 429 - {\n",
      "  \"error\" : {\n",
      "    \"status\" : 429\n",
      "  }\n",
      "}\n",
      "<bound method Response.json of <Response [429]>>\n"
     ]
    },
    {
     "name": "stderr",
     "output_type": "stream",
     "text": [
      "api_call...:  16%|████▎                      | 177/1096 [01:42<02:40,  5.72it/s]"
     ]
    },
    {
     "name": "stdout",
     "output_type": "stream",
     "text": [
      "Error: 429 - {\n",
      "  \"error\" : {\n",
      "    \"status\" : 429\n",
      "  }\n",
      "}\n",
      "<bound method Response.json of <Response [429]>>\n",
      "Error: 429 - {\n",
      "  \"error\" : {\n",
      "    \"status\" : 429\n",
      "  }\n",
      "}\n",
      "<bound method Response.json of <Response [429]>>\n"
     ]
    },
    {
     "name": "stderr",
     "output_type": "stream",
     "text": [
      "api_call...:  16%|████▍                      | 179/1096 [01:42<02:19,  6.57it/s]"
     ]
    },
    {
     "name": "stdout",
     "output_type": "stream",
     "text": [
      "Error: 429 - {\n",
      "  \"error\" : {\n",
      "    \"status\" : 429\n",
      "  }\n",
      "}\n",
      "<bound method Response.json of <Response [429]>>\n",
      "Error: 429 - {\n",
      "  \"error\" : {\n",
      "    \"status\" : 429\n",
      "  }\n",
      "}\n",
      "<bound method Response.json of <Response [429]>>\n"
     ]
    },
    {
     "name": "stderr",
     "output_type": "stream",
     "text": [
      "api_call...:  17%|████▍                      | 181/1096 [01:42<02:10,  6.99it/s]"
     ]
    },
    {
     "name": "stdout",
     "output_type": "stream",
     "text": [
      "Error: 429 - {\n",
      "  \"error\" : {\n",
      "    \"status\" : 429\n",
      "  }\n",
      "}\n",
      "<bound method Response.json of <Response [429]>>\n",
      "Error: 429 - {\n",
      "  \"error\" : {\n",
      "    \"status\" : 429\n",
      "  }\n",
      "}\n",
      "<bound method Response.json of <Response [429]>>\n"
     ]
    },
    {
     "name": "stderr",
     "output_type": "stream",
     "text": [
      "api_call...:  17%|████▌                      | 183/1096 [01:43<02:04,  7.33it/s]"
     ]
    },
    {
     "name": "stdout",
     "output_type": "stream",
     "text": [
      "Error: 429 - {\n",
      "  \"error\" : {\n",
      "    \"status\" : 429\n",
      "  }\n",
      "}\n",
      "<bound method Response.json of <Response [429]>>\n",
      "Error: 429 - {\n",
      "  \"error\" : {\n",
      "    \"status\" : 429\n",
      "  }\n",
      "}\n",
      "<bound method Response.json of <Response [429]>>\n"
     ]
    },
    {
     "name": "stderr",
     "output_type": "stream",
     "text": [
      "api_call...:  17%|████▌                      | 185/1096 [01:43<02:20,  6.49it/s]"
     ]
    },
    {
     "name": "stdout",
     "output_type": "stream",
     "text": [
      "Error: 429 - {\n",
      "  \"error\" : {\n",
      "    \"status\" : 429\n",
      "  }\n",
      "}\n",
      "<bound method Response.json of <Response [429]>>\n",
      "Error: 429 - {\n",
      "  \"error\" : {\n",
      "    \"status\" : 429\n",
      "  }\n",
      "}\n",
      "<bound method Response.json of <Response [429]>>\n"
     ]
    },
    {
     "name": "stderr",
     "output_type": "stream",
     "text": [
      "api_call...:  17%|████▌                      | 187/1096 [01:43<02:19,  6.51it/s]"
     ]
    },
    {
     "name": "stdout",
     "output_type": "stream",
     "text": [
      "Error: 429 - {\n",
      "  \"error\" : {\n",
      "    \"status\" : 429\n",
      "  }\n",
      "}\n",
      "<bound method Response.json of <Response [429]>>\n",
      "Error: 429 - {\n",
      "  \"error\" : {\n",
      "    \"status\" : 429\n",
      "  }\n",
      "}\n",
      "<bound method Response.json of <Response [429]>>\n"
     ]
    },
    {
     "name": "stderr",
     "output_type": "stream",
     "text": [
      "api_call...:  17%|████▋                      | 189/1096 [01:44<02:15,  6.67it/s]"
     ]
    },
    {
     "name": "stdout",
     "output_type": "stream",
     "text": [
      "Error: 429 - {\n",
      "  \"error\" : {\n",
      "    \"status\" : 429\n",
      "  }\n",
      "}\n",
      "<bound method Response.json of <Response [429]>>\n",
      "Error: 429 - {\n",
      "  \"error\" : {\n",
      "    \"status\" : 429\n",
      "  }\n",
      "}\n",
      "<bound method Response.json of <Response [429]>>\n"
     ]
    },
    {
     "name": "stderr",
     "output_type": "stream",
     "text": [
      "api_call...:  17%|████▋                      | 191/1096 [01:44<02:22,  6.34it/s]"
     ]
    },
    {
     "name": "stdout",
     "output_type": "stream",
     "text": [
      "Error: 429 - {\n",
      "  \"error\" : {\n",
      "    \"status\" : 429\n",
      "  }\n",
      "}\n",
      "<bound method Response.json of <Response [429]>>\n",
      "Error: 429 - {\n",
      "  \"error\" : {\n",
      "    \"status\" : 429\n",
      "  }\n",
      "}\n",
      "<bound method Response.json of <Response [429]>>\n"
     ]
    },
    {
     "name": "stderr",
     "output_type": "stream",
     "text": [
      "api_call...:  18%|████▊                      | 193/1096 [01:44<02:08,  7.01it/s]"
     ]
    },
    {
     "name": "stdout",
     "output_type": "stream",
     "text": [
      "Error: 429 - {\n",
      "  \"error\" : {\n",
      "    \"status\" : 429\n",
      "  }\n",
      "}\n",
      "<bound method Response.json of <Response [429]>>\n",
      "Error: 429 - {\n",
      "  \"error\" : {\n",
      "    \"status\" : 429\n",
      "  }\n",
      "}\n",
      "<bound method Response.json of <Response [429]>>\n"
     ]
    },
    {
     "name": "stderr",
     "output_type": "stream",
     "text": [
      "api_call...:  18%|████▊                      | 195/1096 [01:44<02:07,  7.08it/s]"
     ]
    },
    {
     "name": "stdout",
     "output_type": "stream",
     "text": [
      "Error: 429 - {\n",
      "  \"error\" : {\n",
      "    \"status\" : 429\n",
      "  }\n",
      "}\n",
      "<bound method Response.json of <Response [429]>>\n",
      "Error: 429 - {\n",
      "  \"error\" : {\n",
      "    \"status\" : 429\n",
      "  }\n",
      "}\n",
      "<bound method Response.json of <Response [429]>>\n"
     ]
    },
    {
     "name": "stderr",
     "output_type": "stream",
     "text": [
      "\r",
      "api_call...:  18%|████▊                      | 196/1096 [01:45<02:05,  7.16it/s]"
     ]
    },
    {
     "name": "stdout",
     "output_type": "stream",
     "text": [
      "Error: 429 - {\n",
      "  \"error\" : {\n",
      "    \"status\" : 429\n",
      "  }\n",
      "}\n",
      "<bound method Response.json of <Response [429]>>\n"
     ]
    },
    {
     "name": "stderr",
     "output_type": "stream",
     "text": [
      "api_call...:  18%|████▉                      | 198/1096 [01:45<02:38,  5.65it/s]"
     ]
    },
    {
     "name": "stdout",
     "output_type": "stream",
     "text": [
      "Error: 429 - {\n",
      "  \"error\" : {\n",
      "    \"status\" : 429\n",
      "  }\n",
      "}\n",
      "<bound method Response.json of <Response [429]>>\n",
      "Error: 429 - {\n",
      "  \"error\" : {\n",
      "    \"status\" : 429\n",
      "  }\n",
      "}\n",
      "<bound method Response.json of <Response [429]>>\n"
     ]
    },
    {
     "name": "stderr",
     "output_type": "stream",
     "text": [
      "api_call...:  18%|████▉                      | 200/1096 [01:45<02:31,  5.91it/s]"
     ]
    },
    {
     "name": "stdout",
     "output_type": "stream",
     "text": [
      "Error: 429 - {\n",
      "  \"error\" : {\n",
      "    \"status\" : 429\n",
      "  }\n",
      "}\n",
      "<bound method Response.json of <Response [429]>>\n",
      "Error: 429 - {\n",
      "  \"error\" : {\n",
      "    \"status\" : 429\n",
      "  }\n",
      "}\n",
      "<bound method Response.json of <Response [429]>>\n"
     ]
    },
    {
     "name": "stderr",
     "output_type": "stream",
     "text": [
      "api_call...:  18%|████▌                    | 202/1096 [02:21<1:52:12,  7.53s/it]"
     ]
    },
    {
     "name": "stdout",
     "output_type": "stream",
     "text": [
      "Error: 429 - {\n",
      "  \"error\" : {\n",
      "    \"status\" : 429\n",
      "  }\n",
      "}\n",
      "<bound method Response.json of <Response [429]>>\n",
      "Error: 429 - {\n",
      "  \"error\" : {\n",
      "    \"status\" : 429\n",
      "  }\n",
      "}\n",
      "<bound method Response.json of <Response [429]>>\n"
     ]
    },
    {
     "name": "stderr",
     "output_type": "stream",
     "text": [
      "\r",
      "api_call...:  19%|████▋                    | 203/1096 [02:21<1:19:02,  5.31s/it]"
     ]
    },
    {
     "name": "stdout",
     "output_type": "stream",
     "text": [
      "Error: 429 - {\n",
      "  \"error\" : {\n",
      "    \"status\" : 429\n",
      "  }\n",
      "}\n",
      "<bound method Response.json of <Response [429]>>\n"
     ]
    },
    {
     "name": "stderr",
     "output_type": "stream",
     "text": [
      "api_call...:  19%|█████                      | 205/1096 [02:21<39:56,  2.69s/it]"
     ]
    },
    {
     "name": "stdout",
     "output_type": "stream",
     "text": [
      "Error: 429 - {\n",
      "  \"error\" : {\n",
      "    \"status\" : 429\n",
      "  }\n",
      "}\n",
      "<bound method Response.json of <Response [429]>>\n",
      "Error: 429 - {\n",
      "  \"error\" : {\n",
      "    \"status\" : 429\n",
      "  }\n",
      "}\n",
      "<bound method Response.json of <Response [429]>>\n"
     ]
    },
    {
     "name": "stderr",
     "output_type": "stream",
     "text": [
      "api_call...:  19%|█████                      | 208/1096 [02:22<15:27,  1.04s/it]"
     ]
    },
    {
     "name": "stdout",
     "output_type": "stream",
     "text": [
      "Error: 429 - {\n",
      "  \"error\" : {\n",
      "    \"status\" : 429\n",
      "  }\n",
      "}\n",
      "<bound method Response.json of <Response [429]>>\n",
      "Error: 429 - {\n",
      "  \"error\" : {\n",
      "    \"status\" : 429\n",
      "  }\n",
      "}\n",
      "<bound method Response.json of <Response [429]>>\n"
     ]
    },
    {
     "name": "stderr",
     "output_type": "stream",
     "text": [
      "api_call...:  19%|█████▏                     | 210/1096 [02:22<08:54,  1.66it/s]"
     ]
    },
    {
     "name": "stdout",
     "output_type": "stream",
     "text": [
      "Error: 429 - {\n",
      "  \"error\" : {\n",
      "    \"status\" : 429\n",
      "  }\n",
      "}\n",
      "<bound method Response.json of <Response [429]>>\n",
      "Error: 429 - {\n",
      "  \"error\" : {\n",
      "    \"status\" : 429\n",
      "  }\n",
      "}\n",
      "<bound method Response.json of <Response [429]>>\n"
     ]
    },
    {
     "name": "stderr",
     "output_type": "stream",
     "text": [
      "api_call...:  19%|█████▏                     | 212/1096 [02:23<05:37,  2.62it/s]"
     ]
    },
    {
     "name": "stdout",
     "output_type": "stream",
     "text": [
      "Error: 429 - {\n",
      "  \"error\" : {\n",
      "    \"status\" : 429\n",
      "  }\n",
      "}\n",
      "<bound method Response.json of <Response [429]>>\n",
      "Error: 429 - {\n",
      "  \"error\" : {\n",
      "    \"status\" : 429\n",
      "  }\n",
      "}\n",
      "<bound method Response.json of <Response [429]>>\n"
     ]
    },
    {
     "name": "stderr",
     "output_type": "stream",
     "text": [
      "api_call...:  20%|█████▎                     | 214/1096 [02:23<03:44,  3.92it/s]"
     ]
    },
    {
     "name": "stdout",
     "output_type": "stream",
     "text": [
      "Error: 429 - {\n",
      "  \"error\" : {\n",
      "    \"status\" : 429\n",
      "  }\n",
      "}\n",
      "<bound method Response.json of <Response [429]>>\n",
      "Error: 429 - {\n",
      "  \"error\" : {\n",
      "    \"status\" : 429\n",
      "  }\n",
      "}\n",
      "<bound method Response.json of <Response [429]>>\n"
     ]
    },
    {
     "name": "stderr",
     "output_type": "stream",
     "text": [
      "\r",
      "api_call...:  20%|█████▎                     | 215/1096 [02:23<03:12,  4.57it/s]"
     ]
    },
    {
     "name": "stdout",
     "output_type": "stream",
     "text": [
      "Error: 429 - {\n",
      "  \"error\" : {\n",
      "    \"status\" : 429\n",
      "  }\n",
      "}\n",
      "<bound method Response.json of <Response [429]>>\n"
     ]
    },
    {
     "name": "stderr",
     "output_type": "stream",
     "text": [
      "api_call...:  20%|█████▎                     | 217/1096 [02:23<02:53,  5.06it/s]"
     ]
    },
    {
     "name": "stdout",
     "output_type": "stream",
     "text": [
      "Error: 429 - {\n",
      "  \"error\" : {\n",
      "    \"status\" : 429\n",
      "  }\n",
      "}\n",
      "<bound method Response.json of <Response [429]>>\n",
      "Error: 429 - {\n",
      "  \"error\" : {\n",
      "    \"status\" : 429\n",
      "  }\n",
      "}\n",
      "<bound method Response.json of <Response [429]>>\n"
     ]
    },
    {
     "name": "stderr",
     "output_type": "stream",
     "text": [
      "\r",
      "api_call...:  20%|█████▎                     | 218/1096 [02:24<02:38,  5.55it/s]"
     ]
    },
    {
     "name": "stdout",
     "output_type": "stream",
     "text": [
      "Error: 429 - {\n",
      "  \"error\" : {\n",
      "    \"status\" : 429\n",
      "  }\n",
      "}\n",
      "<bound method Response.json of <Response [429]>>\n"
     ]
    },
    {
     "name": "stderr",
     "output_type": "stream",
     "text": [
      "api_call...:  20%|█████▍                     | 220/1096 [02:24<02:32,  5.73it/s]"
     ]
    },
    {
     "name": "stdout",
     "output_type": "stream",
     "text": [
      "Error: 429 - {\n",
      "  \"error\" : {\n",
      "    \"status\" : 429\n",
      "  }\n",
      "}\n",
      "<bound method Response.json of <Response [429]>>\n",
      "Error: 429 - {\n",
      "  \"error\" : {\n",
      "    \"status\" : 429\n",
      "  }\n",
      "}\n",
      "<bound method Response.json of <Response [429]>>\n"
     ]
    },
    {
     "name": "stderr",
     "output_type": "stream",
     "text": [
      "api_call...:  20%|█████▍                     | 222/1096 [02:24<02:24,  6.06it/s]"
     ]
    },
    {
     "name": "stdout",
     "output_type": "stream",
     "text": [
      "Error: 429 - {\n",
      "  \"error\" : {\n",
      "    \"status\" : 429\n",
      "  }\n",
      "}\n",
      "<bound method Response.json of <Response [429]>>\n",
      "Error: 429 - {\n",
      "  \"error\" : {\n",
      "    \"status\" : 429\n",
      "  }\n",
      "}\n",
      "<bound method Response.json of <Response [429]>>\n"
     ]
    },
    {
     "name": "stderr",
     "output_type": "stream",
     "text": [
      "api_call...:  20%|█████▌                     | 224/1096 [02:24<02:07,  6.82it/s]"
     ]
    },
    {
     "name": "stdout",
     "output_type": "stream",
     "text": [
      "Error: 429 - {\n",
      "  \"error\" : {\n",
      "    \"status\" : 429\n",
      "  }\n",
      "}\n",
      "<bound method Response.json of <Response [429]>>\n",
      "Error: 429 - {\n",
      "  \"error\" : {\n",
      "    \"status\" : 429\n",
      "  }\n",
      "}\n",
      "<bound method Response.json of <Response [429]>>\n"
     ]
    },
    {
     "name": "stderr",
     "output_type": "stream",
     "text": [
      "api_call...:  21%|█████▌                     | 226/1096 [02:25<02:26,  5.94it/s]"
     ]
    },
    {
     "name": "stdout",
     "output_type": "stream",
     "text": [
      "Error: 429 - {\n",
      "  \"error\" : {\n",
      "    \"status\" : 429\n",
      "  }\n",
      "}\n",
      "<bound method Response.json of <Response [429]>>\n",
      "Error: 429 - {\n",
      "  \"error\" : {\n",
      "    \"status\" : 429\n",
      "  }\n",
      "}\n",
      "<bound method Response.json of <Response [429]>>\n"
     ]
    },
    {
     "name": "stderr",
     "output_type": "stream",
     "text": [
      "\r",
      "api_call...:  21%|█████▌                     | 227/1096 [02:25<02:25,  5.96it/s]"
     ]
    },
    {
     "name": "stdout",
     "output_type": "stream",
     "text": [
      "Error: 429 - {\n",
      "  \"error\" : {\n",
      "    \"status\" : 429\n",
      "  }\n",
      "}\n",
      "<bound method Response.json of <Response [429]>>\n"
     ]
    },
    {
     "name": "stderr",
     "output_type": "stream",
     "text": [
      "api_call...:  21%|█████▋                     | 229/1096 [02:25<02:25,  5.98it/s]"
     ]
    },
    {
     "name": "stdout",
     "output_type": "stream",
     "text": [
      "Error: 429 - {\n",
      "  \"error\" : {\n",
      "    \"status\" : 429\n",
      "  }\n",
      "}\n",
      "<bound method Response.json of <Response [429]>>\n",
      "Error: 429 - {\n",
      "  \"error\" : {\n",
      "    \"status\" : 429\n",
      "  }\n",
      "}\n",
      "<bound method Response.json of <Response [429]>>\n"
     ]
    },
    {
     "name": "stderr",
     "output_type": "stream",
     "text": [
      "\r",
      "api_call...:  21%|█████▋                     | 230/1096 [02:26<02:16,  6.36it/s]"
     ]
    },
    {
     "name": "stdout",
     "output_type": "stream",
     "text": [
      "Error: 429 - {\n",
      "  \"error\" : {\n",
      "    \"status\" : 429\n",
      "  }\n",
      "}\n",
      "<bound method Response.json of <Response [429]>>\n"
     ]
    },
    {
     "name": "stderr",
     "output_type": "stream",
     "text": [
      "api_call...:  21%|█████▋                     | 232/1096 [02:26<02:28,  5.81it/s]"
     ]
    },
    {
     "name": "stdout",
     "output_type": "stream",
     "text": [
      "Error: 429 - {\n",
      "  \"error\" : {\n",
      "    \"status\" : 429\n",
      "  }\n",
      "}\n",
      "<bound method Response.json of <Response [429]>>\n",
      "Error: 429 - {\n",
      "  \"error\" : {\n",
      "    \"status\" : 429\n",
      "  }\n",
      "}\n",
      "<bound method Response.json of <Response [429]>>\n"
     ]
    },
    {
     "name": "stderr",
     "output_type": "stream",
     "text": [
      "api_call...:  21%|█████▊                     | 234/1096 [02:26<02:09,  6.65it/s]"
     ]
    },
    {
     "name": "stdout",
     "output_type": "stream",
     "text": [
      "Error: 429 - {\n",
      "  \"error\" : {\n",
      "    \"status\" : 429\n",
      "  }\n",
      "}\n",
      "<bound method Response.json of <Response [429]>>\n",
      "Error: 429 - {\n",
      "  \"error\" : {\n",
      "    \"status\" : 429\n",
      "  }\n",
      "}\n",
      "<bound method Response.json of <Response [429]>>\n"
     ]
    },
    {
     "name": "stderr",
     "output_type": "stream",
     "text": [
      "api_call...:  22%|█████▊                     | 236/1096 [02:27<02:18,  6.21it/s]"
     ]
    },
    {
     "name": "stdout",
     "output_type": "stream",
     "text": [
      "Error: 429 - {\n",
      "  \"error\" : {\n",
      "    \"status\" : 429\n",
      "  }\n",
      "}\n",
      "<bound method Response.json of <Response [429]>>\n",
      "Error: 429 - {\n",
      "  \"error\" : {\n",
      "    \"status\" : 429\n",
      "  }\n",
      "}\n",
      "<bound method Response.json of <Response [429]>>\n"
     ]
    },
    {
     "name": "stderr",
     "output_type": "stream",
     "text": [
      "\r",
      "api_call...:  22%|█████▊                     | 237/1096 [02:27<02:19,  6.16it/s]"
     ]
    },
    {
     "name": "stdout",
     "output_type": "stream",
     "text": [
      "Error: 429 - {\n",
      "  \"error\" : {\n",
      "    \"status\" : 429\n",
      "  }\n",
      "}\n",
      "<bound method Response.json of <Response [429]>>\n"
     ]
    },
    {
     "name": "stderr",
     "output_type": "stream",
     "text": [
      "api_call...:  22%|█████▉                     | 239/1096 [02:27<02:32,  5.63it/s]"
     ]
    },
    {
     "name": "stdout",
     "output_type": "stream",
     "text": [
      "Error: 429 - {\n",
      "  \"error\" : {\n",
      "    \"status\" : 429\n",
      "  }\n",
      "}\n",
      "<bound method Response.json of <Response [429]>>\n",
      "Error: 429 - {\n",
      "  \"error\" : {\n",
      "    \"status\" : 429\n",
      "  }\n",
      "}\n",
      "<bound method Response.json of <Response [429]>>\n"
     ]
    },
    {
     "name": "stderr",
     "output_type": "stream",
     "text": [
      "\r",
      "api_call...:  22%|█████▉                     | 240/1096 [02:27<02:22,  6.00it/s]"
     ]
    },
    {
     "name": "stdout",
     "output_type": "stream",
     "text": [
      "Error: 429 - {\n",
      "  \"error\" : {\n",
      "    \"status\" : 429\n",
      "  }\n",
      "}\n",
      "<bound method Response.json of <Response [429]>>\n"
     ]
    },
    {
     "name": "stderr",
     "output_type": "stream",
     "text": [
      "api_call...:  22%|█████▉                     | 242/1096 [02:28<02:17,  6.22it/s]"
     ]
    },
    {
     "name": "stdout",
     "output_type": "stream",
     "text": [
      "Error: 429 - {\n",
      "  \"error\" : {\n",
      "    \"status\" : 429\n",
      "  }\n",
      "}\n",
      "<bound method Response.json of <Response [429]>>\n",
      "Error: 429 - {\n",
      "  \"error\" : {\n",
      "    \"status\" : 429\n",
      "  }\n",
      "}\n",
      "<bound method Response.json of <Response [429]>>\n"
     ]
    },
    {
     "name": "stderr",
     "output_type": "stream",
     "text": [
      "\r",
      "api_call...:  22%|█████▉                     | 243/1096 [02:28<02:20,  6.08it/s]"
     ]
    },
    {
     "name": "stdout",
     "output_type": "stream",
     "text": [
      "Error: 429 - {\n",
      "  \"error\" : {\n",
      "    \"status\" : 429\n",
      "  }\n",
      "}\n",
      "<bound method Response.json of <Response [429]>>\n"
     ]
    },
    {
     "name": "stderr",
     "output_type": "stream",
     "text": [
      "api_call...:  22%|██████                     | 245/1096 [02:28<02:21,  6.02it/s]"
     ]
    },
    {
     "name": "stdout",
     "output_type": "stream",
     "text": [
      "Error: 429 - {\n",
      "  \"error\" : {\n",
      "    \"status\" : 429\n",
      "  }\n",
      "}\n",
      "<bound method Response.json of <Response [429]>>\n",
      "Error: 429 - {\n",
      "  \"error\" : {\n",
      "    \"status\" : 429\n",
      "  }\n",
      "}\n",
      "<bound method Response.json of <Response [429]>>\n"
     ]
    },
    {
     "name": "stderr",
     "output_type": "stream",
     "text": [
      "api_call...:  23%|██████                     | 247/1096 [02:28<02:16,  6.22it/s]"
     ]
    },
    {
     "name": "stdout",
     "output_type": "stream",
     "text": [
      "Error: 429 - {\n",
      "  \"error\" : {\n",
      "    \"status\" : 429\n",
      "  }\n",
      "}\n",
      "<bound method Response.json of <Response [429]>>\n",
      "Error: 429 - {\n",
      "  \"error\" : {\n",
      "    \"status\" : 429\n",
      "  }\n",
      "}\n",
      "<bound method Response.json of <Response [429]>>\n"
     ]
    },
    {
     "name": "stderr",
     "output_type": "stream",
     "text": [
      "api_call...:  23%|██████▏                    | 249/1096 [02:29<02:05,  6.74it/s]"
     ]
    },
    {
     "name": "stdout",
     "output_type": "stream",
     "text": [
      "Error: 429 - {\n",
      "  \"error\" : {\n",
      "    \"status\" : 429\n",
      "  }\n",
      "}\n",
      "<bound method Response.json of <Response [429]>>\n",
      "Error: 429 - {\n",
      "  \"error\" : {\n",
      "    \"status\" : 429\n",
      "  }\n",
      "}\n",
      "<bound method Response.json of <Response [429]>>\n"
     ]
    },
    {
     "name": "stderr",
     "output_type": "stream",
     "text": [
      "api_call...:  23%|██████▏                    | 251/1096 [02:29<02:29,  5.66it/s]"
     ]
    },
    {
     "name": "stdout",
     "output_type": "stream",
     "text": [
      "Error: 429 - {\n",
      "  \"error\" : {\n",
      "    \"status\" : 429\n",
      "  }\n",
      "}\n",
      "<bound method Response.json of <Response [429]>>\n",
      "Error: 429 - {\n",
      "  \"error\" : {\n",
      "    \"status\" : 429\n",
      "  }\n",
      "}\n",
      "<bound method Response.json of <Response [429]>>\n"
     ]
    },
    {
     "name": "stderr",
     "output_type": "stream",
     "text": [
      "\r",
      "api_call...:  23%|██████▏                    | 252/1096 [02:29<02:18,  6.11it/s]"
     ]
    },
    {
     "name": "stdout",
     "output_type": "stream",
     "text": [
      "Error: 429 - {\n",
      "  \"error\" : {\n",
      "    \"status\" : 429\n",
      "  }\n",
      "}\n",
      "<bound method Response.json of <Response [429]>>\n"
     ]
    },
    {
     "name": "stderr",
     "output_type": "stream",
     "text": [
      "api_call...:  23%|██████▎                    | 254/1096 [02:30<03:05,  4.54it/s]"
     ]
    },
    {
     "name": "stdout",
     "output_type": "stream",
     "text": [
      "Error: 429 - {\n",
      "  \"error\" : {\n",
      "    \"status\" : 429\n",
      "  }\n",
      "}\n",
      "<bound method Response.json of <Response [429]>>\n",
      "Error: 429 - {\n",
      "  \"error\" : {\n",
      "    \"status\" : 429\n",
      "  }\n",
      "}\n",
      "<bound method Response.json of <Response [429]>>\n"
     ]
    },
    {
     "name": "stderr",
     "output_type": "stream",
     "text": [
      "api_call...:  23%|██████▎                    | 256/1096 [02:30<02:47,  5.02it/s]"
     ]
    },
    {
     "name": "stdout",
     "output_type": "stream",
     "text": [
      "Error: 429 - {\n",
      "  \"error\" : {\n",
      "    \"status\" : 429\n",
      "  }\n",
      "}\n",
      "<bound method Response.json of <Response [429]>>\n",
      "Error: 429 - {\n",
      "  \"error\" : {\n",
      "    \"status\" : 429\n",
      "  }\n",
      "}\n",
      "<bound method Response.json of <Response [429]>>\n"
     ]
    },
    {
     "name": "stderr",
     "output_type": "stream",
     "text": [
      "api_call...:  24%|██████▎                    | 258/1096 [02:30<02:24,  5.81it/s]"
     ]
    },
    {
     "name": "stdout",
     "output_type": "stream",
     "text": [
      "Error: 429 - {\n",
      "  \"error\" : {\n",
      "    \"status\" : 429\n",
      "  }\n",
      "}\n",
      "<bound method Response.json of <Response [429]>>\n",
      "Error: 429 - {\n",
      "  \"error\" : {\n",
      "    \"status\" : 429\n",
      "  }\n",
      "}\n",
      "<bound method Response.json of <Response [429]>>\n"
     ]
    },
    {
     "name": "stderr",
     "output_type": "stream",
     "text": [
      "api_call...:  24%|██████▍                    | 260/1096 [02:31<02:08,  6.53it/s]"
     ]
    },
    {
     "name": "stdout",
     "output_type": "stream",
     "text": [
      "Error: 429 - {\n",
      "  \"error\" : {\n",
      "    \"status\" : 429\n",
      "  }\n",
      "}\n",
      "<bound method Response.json of <Response [429]>>\n",
      "Error: 429 - {\n",
      "  \"error\" : {\n",
      "    \"status\" : 429\n",
      "  }\n",
      "}\n",
      "<bound method Response.json of <Response [429]>>\n"
     ]
    },
    {
     "name": "stderr",
     "output_type": "stream",
     "text": [
      "api_call...:  24%|██████▍                    | 262/1096 [02:32<03:33,  3.91it/s]"
     ]
    },
    {
     "name": "stdout",
     "output_type": "stream",
     "text": [
      "Error: 429 - {\n",
      "  \"error\" : {\n",
      "    \"status\" : 429\n",
      "  }\n",
      "}\n",
      "<bound method Response.json of <Response [429]>>\n",
      "Error: 429 - {\n",
      "  \"error\" : {\n",
      "    \"status\" : 429\n",
      "  }\n",
      "}\n",
      "<bound method Response.json of <Response [429]>>\n"
     ]
    },
    {
     "name": "stderr",
     "output_type": "stream",
     "text": [
      "api_call...:  24%|██████▌                    | 264/1096 [02:32<02:46,  4.98it/s]"
     ]
    },
    {
     "name": "stdout",
     "output_type": "stream",
     "text": [
      "Error: 429 - {\n",
      "  \"error\" : {\n",
      "    \"status\" : 429\n",
      "  }\n",
      "}\n",
      "<bound method Response.json of <Response [429]>>\n",
      "Error: 429 - {\n",
      "  \"error\" : {\n",
      "    \"status\" : 429\n",
      "  }\n",
      "}\n",
      "<bound method Response.json of <Response [429]>>\n"
     ]
    },
    {
     "name": "stderr",
     "output_type": "stream",
     "text": [
      "api_call...:  24%|██████▌                    | 266/1096 [02:32<02:35,  5.32it/s]"
     ]
    },
    {
     "name": "stdout",
     "output_type": "stream",
     "text": [
      "Error: 429 - {\n",
      "  \"error\" : {\n",
      "    \"status\" : 429\n",
      "  }\n",
      "}\n",
      "<bound method Response.json of <Response [429]>>\n",
      "Error: 429 - {\n",
      "  \"error\" : {\n",
      "    \"status\" : 429\n",
      "  }\n",
      "}\n",
      "<bound method Response.json of <Response [429]>>\n"
     ]
    },
    {
     "name": "stderr",
     "output_type": "stream",
     "text": [
      "api_call...:  24%|██████▌                    | 268/1096 [02:32<02:09,  6.39it/s]"
     ]
    },
    {
     "name": "stdout",
     "output_type": "stream",
     "text": [
      "Error: 429 - {\n",
      "  \"error\" : {\n",
      "    \"status\" : 429\n",
      "  }\n",
      "}\n",
      "<bound method Response.json of <Response [429]>>\n",
      "Error: 429 - {\n",
      "  \"error\" : {\n",
      "    \"status\" : 429\n",
      "  }\n",
      "}\n",
      "<bound method Response.json of <Response [429]>>\n"
     ]
    },
    {
     "name": "stderr",
     "output_type": "stream",
     "text": [
      "api_call...:  25%|██████▋                    | 270/1096 [02:33<02:00,  6.86it/s]"
     ]
    },
    {
     "name": "stdout",
     "output_type": "stream",
     "text": [
      "Error: 429 - {\n",
      "  \"error\" : {\n",
      "    \"status\" : 429\n",
      "  }\n",
      "}\n",
      "<bound method Response.json of <Response [429]>>\n",
      "Error: 429 - {\n",
      "  \"error\" : {\n",
      "    \"status\" : 429\n",
      "  }\n",
      "}\n",
      "<bound method Response.json of <Response [429]>>\n"
     ]
    },
    {
     "name": "stderr",
     "output_type": "stream",
     "text": [
      "\r",
      "api_call...:  25%|██████▋                    | 271/1096 [02:33<01:57,  7.03it/s]"
     ]
    },
    {
     "name": "stdout",
     "output_type": "stream",
     "text": [
      "Error: 429 - {\n",
      "  \"error\" : {\n",
      "    \"status\" : 429\n",
      "  }\n",
      "}\n",
      "<bound method Response.json of <Response [429]>>\n"
     ]
    },
    {
     "name": "stderr",
     "output_type": "stream",
     "text": [
      "api_call...:  25%|██████▋                    | 273/1096 [02:33<02:14,  6.11it/s]"
     ]
    },
    {
     "name": "stdout",
     "output_type": "stream",
     "text": [
      "Error: 429 - {\n",
      "  \"error\" : {\n",
      "    \"status\" : 429\n",
      "  }\n",
      "}\n",
      "<bound method Response.json of <Response [429]>>\n",
      "Error: 429 - {\n",
      "  \"error\" : {\n",
      "    \"status\" : 429\n",
      "  }\n",
      "}\n",
      "<bound method Response.json of <Response [429]>>\n"
     ]
    },
    {
     "name": "stderr",
     "output_type": "stream",
     "text": [
      "api_call...:  25%|██████▊                    | 275/1096 [02:34<02:06,  6.52it/s]"
     ]
    },
    {
     "name": "stdout",
     "output_type": "stream",
     "text": [
      "Error: 429 - {\n",
      "  \"error\" : {\n",
      "    \"status\" : 429\n",
      "  }\n",
      "}\n",
      "<bound method Response.json of <Response [429]>>\n",
      "Error: 429 - {\n",
      "  \"error\" : {\n",
      "    \"status\" : 429\n",
      "  }\n",
      "}\n",
      "<bound method Response.json of <Response [429]>>\n"
     ]
    },
    {
     "name": "stderr",
     "output_type": "stream",
     "text": [
      "api_call...:  25%|██████▊                    | 277/1096 [02:34<02:12,  6.17it/s]"
     ]
    },
    {
     "name": "stdout",
     "output_type": "stream",
     "text": [
      "Error: 429 - {\n",
      "  \"error\" : {\n",
      "    \"status\" : 429\n",
      "  }\n",
      "}\n",
      "<bound method Response.json of <Response [429]>>\n",
      "Error: 429 - {\n",
      "  \"error\" : {\n",
      "    \"status\" : 429\n",
      "  }\n",
      "}\n",
      "<bound method Response.json of <Response [429]>>\n"
     ]
    },
    {
     "name": "stderr",
     "output_type": "stream",
     "text": [
      "\r",
      "api_call...:  25%|██████▊                    | 278/1096 [02:34<02:08,  6.37it/s]"
     ]
    },
    {
     "name": "stdout",
     "output_type": "stream",
     "text": [
      "Error: 429 - {\n",
      "  \"error\" : {\n",
      "    \"status\" : 429\n",
      "  }\n",
      "}\n",
      "<bound method Response.json of <Response [429]>>\n"
     ]
    },
    {
     "name": "stderr",
     "output_type": "stream",
     "text": [
      "api_call...:  26%|██████▉                    | 280/1096 [02:34<02:15,  6.00it/s]"
     ]
    },
    {
     "name": "stdout",
     "output_type": "stream",
     "text": [
      "Error: 429 - {\n",
      "  \"error\" : {\n",
      "    \"status\" : 429\n",
      "  }\n",
      "}\n",
      "<bound method Response.json of <Response [429]>>\n",
      "Error: 429 - {\n",
      "  \"error\" : {\n",
      "    \"status\" : 429\n",
      "  }\n",
      "}\n",
      "<bound method Response.json of <Response [429]>>\n"
     ]
    },
    {
     "name": "stderr",
     "output_type": "stream",
     "text": [
      "api_call...:  26%|██████▉                    | 282/1096 [02:35<02:06,  6.42it/s]"
     ]
    },
    {
     "name": "stdout",
     "output_type": "stream",
     "text": [
      "Error: 429 - {\n",
      "  \"error\" : {\n",
      "    \"status\" : 429\n",
      "  }\n",
      "}\n",
      "<bound method Response.json of <Response [429]>>\n",
      "Error: 429 - {\n",
      "  \"error\" : {\n",
      "    \"status\" : 429\n",
      "  }\n",
      "}\n",
      "<bound method Response.json of <Response [429]>>\n"
     ]
    },
    {
     "name": "stderr",
     "output_type": "stream",
     "text": [
      "api_call...:  26%|██████▉                    | 284/1096 [02:35<01:56,  6.98it/s]"
     ]
    },
    {
     "name": "stdout",
     "output_type": "stream",
     "text": [
      "Error: 429 - {\n",
      "  \"error\" : {\n",
      "    \"status\" : 429\n",
      "  }\n",
      "}\n",
      "<bound method Response.json of <Response [429]>>\n",
      "Error: 429 - {\n",
      "  \"error\" : {\n",
      "    \"status\" : 429\n",
      "  }\n",
      "}\n",
      "<bound method Response.json of <Response [429]>>\n"
     ]
    },
    {
     "name": "stderr",
     "output_type": "stream",
     "text": [
      "api_call...:  26%|███████                    | 286/1096 [02:35<02:15,  5.99it/s]"
     ]
    },
    {
     "name": "stdout",
     "output_type": "stream",
     "text": [
      "Error: 429 - {\n",
      "  \"error\" : {\n",
      "    \"status\" : 429\n",
      "  }\n",
      "}\n",
      "<bound method Response.json of <Response [429]>>\n",
      "Error: 429 - {\n",
      "  \"error\" : {\n",
      "    \"status\" : 429\n",
      "  }\n",
      "}\n",
      "<bound method Response.json of <Response [429]>>\n"
     ]
    },
    {
     "name": "stderr",
     "output_type": "stream",
     "text": [
      "api_call...:  26%|███████                    | 288/1096 [02:36<02:04,  6.48it/s]"
     ]
    },
    {
     "name": "stdout",
     "output_type": "stream",
     "text": [
      "Error: 429 - {\n",
      "  \"error\" : {\n",
      "    \"status\" : 429\n",
      "  }\n",
      "}\n",
      "<bound method Response.json of <Response [429]>>\n",
      "Error: 429 - {\n",
      "  \"error\" : {\n",
      "    \"status\" : 429\n",
      "  }\n",
      "}\n",
      "<bound method Response.json of <Response [429]>>\n"
     ]
    },
    {
     "name": "stderr",
     "output_type": "stream",
     "text": [
      "api_call...:  26%|███████▏                   | 290/1096 [02:36<02:14,  5.99it/s]"
     ]
    },
    {
     "name": "stdout",
     "output_type": "stream",
     "text": [
      "Error: 429 - {\n",
      "  \"error\" : {\n",
      "    \"status\" : 429\n",
      "  }\n",
      "}\n",
      "<bound method Response.json of <Response [429]>>\n",
      "Error: 429 - {\n",
      "  \"error\" : {\n",
      "    \"status\" : 429\n",
      "  }\n",
      "}\n",
      "<bound method Response.json of <Response [429]>>\n"
     ]
    },
    {
     "name": "stderr",
     "output_type": "stream",
     "text": [
      "api_call...:  27%|███████▏                   | 292/1096 [02:36<02:38,  5.06it/s]"
     ]
    },
    {
     "name": "stdout",
     "output_type": "stream",
     "text": [
      "Error: 429 - {\n",
      "  \"error\" : {\n",
      "    \"status\" : 429\n",
      "  }\n",
      "}\n",
      "<bound method Response.json of <Response [429]>>\n",
      "Error: 429 - {\n",
      "  \"error\" : {\n",
      "    \"status\" : 429\n",
      "  }\n",
      "}\n",
      "<bound method Response.json of <Response [429]>>\n"
     ]
    },
    {
     "name": "stderr",
     "output_type": "stream",
     "text": [
      "api_call...:  27%|███████▏                   | 294/1096 [02:37<02:17,  5.84it/s]"
     ]
    },
    {
     "name": "stdout",
     "output_type": "stream",
     "text": [
      "Error: 429 - {\n",
      "  \"error\" : {\n",
      "    \"status\" : 429\n",
      "  }\n",
      "}\n",
      "<bound method Response.json of <Response [429]>>\n",
      "Error: 429 - {\n",
      "  \"error\" : {\n",
      "    \"status\" : 429\n",
      "  }\n",
      "}\n",
      "<bound method Response.json of <Response [429]>>\n"
     ]
    },
    {
     "name": "stderr",
     "output_type": "stream",
     "text": [
      "\r",
      "api_call...:  27%|███████▎                   | 295/1096 [02:37<02:11,  6.11it/s]"
     ]
    },
    {
     "name": "stdout",
     "output_type": "stream",
     "text": [
      "Error: 429 - {\n",
      "  \"error\" : {\n",
      "    \"status\" : 429\n",
      "  }\n",
      "}\n",
      "<bound method Response.json of <Response [429]>>\n"
     ]
    },
    {
     "name": "stderr",
     "output_type": "stream",
     "text": [
      "\r",
      "api_call...:  27%|███████▎                   | 296/1096 [02:37<02:31,  5.29it/s]"
     ]
    },
    {
     "name": "stdout",
     "output_type": "stream",
     "text": [
      "Error: 429 - {\n",
      "  \"error\" : {\n",
      "    \"status\" : 429\n",
      "  }\n",
      "}\n",
      "<bound method Response.json of <Response [429]>>\n"
     ]
    },
    {
     "name": "stderr",
     "output_type": "stream",
     "text": [
      "api_call...:  27%|███████▎                   | 298/1096 [02:38<02:23,  5.57it/s]"
     ]
    },
    {
     "name": "stdout",
     "output_type": "stream",
     "text": [
      "Error: 429 - {\n",
      "  \"error\" : {\n",
      "    \"status\" : 429\n",
      "  }\n",
      "}\n",
      "<bound method Response.json of <Response [429]>>\n",
      "Error: 429 - {\n",
      "  \"error\" : {\n",
      "    \"status\" : 429\n",
      "  }\n",
      "}\n",
      "<bound method Response.json of <Response [429]>>\n"
     ]
    },
    {
     "name": "stderr",
     "output_type": "stream",
     "text": [
      "api_call...:  27%|███████▍                   | 300/1096 [02:38<02:12,  6.00it/s]"
     ]
    },
    {
     "name": "stdout",
     "output_type": "stream",
     "text": [
      "Error: 429 - {\n",
      "  \"error\" : {\n",
      "    \"status\" : 429\n",
      "  }\n",
      "}\n",
      "<bound method Response.json of <Response [429]>>\n",
      "Error: 429 - {\n",
      "  \"error\" : {\n",
      "    \"status\" : 429\n",
      "  }\n",
      "}\n",
      "<bound method Response.json of <Response [429]>>\n"
     ]
    },
    {
     "name": "stderr",
     "output_type": "stream",
     "text": [
      "api_call...:  28%|██████▉                  | 302/1096 [03:13<1:39:35,  7.53s/it]"
     ]
    },
    {
     "name": "stdout",
     "output_type": "stream",
     "text": [
      "Error: 429 - {\n",
      "  \"error\" : {\n",
      "    \"status\" : 429\n",
      "  }\n",
      "}\n",
      "<bound method Response.json of <Response [429]>>\n",
      "Error: 429 - {\n",
      "  \"error\" : {\n",
      "    \"status\" : 429\n",
      "  }\n",
      "}\n",
      "<bound method Response.json of <Response [429]>>\n"
     ]
    },
    {
     "name": "stderr",
     "output_type": "stream",
     "text": [
      "api_call...:  28%|███████▌                   | 305/1096 [03:14<35:51,  2.72s/it]"
     ]
    },
    {
     "name": "stdout",
     "output_type": "stream",
     "text": [
      "Error: 429 - {\n",
      "  \"error\" : {\n",
      "    \"status\" : 429\n",
      "  }\n",
      "}\n",
      "<bound method Response.json of <Response [429]>>\n",
      "Error: 429 - {\n",
      "  \"error\" : {\n",
      "    \"status\" : 429\n",
      "  }\n",
      "}\n",
      "<bound method Response.json of <Response [429]>>\n"
     ]
    },
    {
     "name": "stderr",
     "output_type": "stream",
     "text": [
      "api_call...:  28%|███████▌                   | 307/1096 [03:14<18:34,  1.41s/it]"
     ]
    },
    {
     "name": "stdout",
     "output_type": "stream",
     "text": [
      "Error: 429 - {\n",
      "  \"error\" : {\n",
      "    \"status\" : 429\n",
      "  }\n",
      "}\n",
      "<bound method Response.json of <Response [429]>>\n",
      "Error: 429 - {\n",
      "  \"error\" : {\n",
      "    \"status\" : 429\n",
      "  }\n",
      "}\n",
      "<bound method Response.json of <Response [429]>>\n"
     ]
    },
    {
     "name": "stderr",
     "output_type": "stream",
     "text": [
      "api_call...:  28%|███████▌                   | 309/1096 [03:15<10:39,  1.23it/s]"
     ]
    },
    {
     "name": "stdout",
     "output_type": "stream",
     "text": [
      "Error: 429 - {\n",
      "  \"error\" : {\n",
      "    \"status\" : 429\n",
      "  }\n",
      "}\n",
      "<bound method Response.json of <Response [429]>>\n",
      "Error: 429 - {\n",
      "  \"error\" : {\n",
      "    \"status\" : 429\n",
      "  }\n",
      "}\n",
      "<bound method Response.json of <Response [429]>>\n"
     ]
    },
    {
     "name": "stderr",
     "output_type": "stream",
     "text": [
      "api_call...:  28%|███████▋                   | 312/1096 [03:15<05:23,  2.43it/s]"
     ]
    },
    {
     "name": "stdout",
     "output_type": "stream",
     "text": [
      "Error: 429 - {\n",
      "  \"error\" : {\n",
      "    \"status\" : 429\n",
      "  }\n",
      "}\n",
      "<bound method Response.json of <Response [429]>>\n",
      "Error: 429 - {\n",
      "  \"error\" : {\n",
      "    \"status\" : 429\n",
      "  }\n",
      "}\n",
      "<bound method Response.json of <Response [429]>>\n"
     ]
    },
    {
     "name": "stderr",
     "output_type": "stream",
     "text": [
      "api_call...:  29%|███████▋                   | 314/1096 [03:16<03:43,  3.51it/s]"
     ]
    },
    {
     "name": "stdout",
     "output_type": "stream",
     "text": [
      "Error: 429 - {\n",
      "  \"error\" : {\n",
      "    \"status\" : 429\n",
      "  }\n",
      "}\n",
      "<bound method Response.json of <Response [429]>>\n",
      "Error: 429 - {\n",
      "  \"error\" : {\n",
      "    \"status\" : 429\n",
      "  }\n",
      "}\n",
      "<bound method Response.json of <Response [429]>>\n"
     ]
    },
    {
     "name": "stderr",
     "output_type": "stream",
     "text": [
      "\r",
      "api_call...:  29%|███████▊                   | 315/1096 [03:16<03:07,  4.18it/s]"
     ]
    },
    {
     "name": "stdout",
     "output_type": "stream",
     "text": [
      "Error: 429 - {\n",
      "  \"error\" : {\n",
      "    \"status\" : 429\n",
      "  }\n",
      "}\n",
      "<bound method Response.json of <Response [429]>>\n"
     ]
    },
    {
     "name": "stderr",
     "output_type": "stream",
     "text": [
      "api_call...:  29%|███████▊                   | 317/1096 [03:16<02:55,  4.43it/s]"
     ]
    },
    {
     "name": "stdout",
     "output_type": "stream",
     "text": [
      "Error: 429 - {\n",
      "  \"error\" : {\n",
      "    \"status\" : 429\n",
      "  }\n",
      "}\n",
      "<bound method Response.json of <Response [429]>>\n",
      "Error: 429 - {\n",
      "  \"error\" : {\n",
      "    \"status\" : 429\n",
      "  }\n",
      "}\n",
      "<bound method Response.json of <Response [429]>>\n"
     ]
    },
    {
     "name": "stderr",
     "output_type": "stream",
     "text": [
      "api_call...:  29%|███████▊                   | 319/1096 [03:17<02:52,  4.51it/s]"
     ]
    },
    {
     "name": "stdout",
     "output_type": "stream",
     "text": [
      "Error: 429 - {\n",
      "  \"error\" : {\n",
      "    \"status\" : 429\n",
      "  }\n",
      "}\n",
      "<bound method Response.json of <Response [429]>>\n",
      "Error: 429 - {\n",
      "  \"error\" : {\n",
      "    \"status\" : 429\n",
      "  }\n",
      "}\n",
      "<bound method Response.json of <Response [429]>>\n"
     ]
    },
    {
     "name": "stderr",
     "output_type": "stream",
     "text": [
      "\r",
      "api_call...:  29%|███████▉                   | 320/1096 [03:17<02:58,  4.34it/s]"
     ]
    },
    {
     "name": "stdout",
     "output_type": "stream",
     "text": [
      "Error: 429 - {\n",
      "  \"error\" : {\n",
      "    \"status\" : 429\n",
      "  }\n",
      "}\n",
      "<bound method Response.json of <Response [429]>>\n"
     ]
    },
    {
     "name": "stderr",
     "output_type": "stream",
     "text": [
      "api_call...:  29%|███████▉                   | 322/1096 [03:17<02:39,  4.84it/s]"
     ]
    },
    {
     "name": "stdout",
     "output_type": "stream",
     "text": [
      "Error: 429 - {\n",
      "  \"error\" : {\n",
      "    \"status\" : 429\n",
      "  }\n",
      "}\n",
      "<bound method Response.json of <Response [429]>>\n",
      "Error: 429 - {\n",
      "  \"error\" : {\n",
      "    \"status\" : 429\n",
      "  }\n",
      "}\n",
      "<bound method Response.json of <Response [429]>>\n"
     ]
    },
    {
     "name": "stderr",
     "output_type": "stream",
     "text": [
      "\r",
      "api_call...:  29%|███████▉                   | 323/1096 [03:18<02:23,  5.40it/s]"
     ]
    },
    {
     "name": "stdout",
     "output_type": "stream",
     "text": [
      "Error: 429 - {\n",
      "  \"error\" : {\n",
      "    \"status\" : 429\n",
      "  }\n",
      "}\n",
      "<bound method Response.json of <Response [429]>>\n"
     ]
    },
    {
     "name": "stderr",
     "output_type": "stream",
     "text": [
      "api_call...:  30%|████████                   | 325/1096 [03:18<02:14,  5.74it/s]"
     ]
    },
    {
     "name": "stdout",
     "output_type": "stream",
     "text": [
      "Error: 429 - {\n",
      "  \"error\" : {\n",
      "    \"status\" : 429\n",
      "  }\n",
      "}\n",
      "<bound method Response.json of <Response [429]>>\n",
      "Error: 429 - {\n",
      "  \"error\" : {\n",
      "    \"status\" : 429\n",
      "  }\n",
      "}\n",
      "<bound method Response.json of <Response [429]>>\n"
     ]
    },
    {
     "name": "stderr",
     "output_type": "stream",
     "text": [
      "\r",
      "api_call...:  30%|████████                   | 326/1096 [03:18<02:18,  5.54it/s]"
     ]
    },
    {
     "name": "stdout",
     "output_type": "stream",
     "text": [
      "Error: 429 - {\n",
      "  \"error\" : {\n",
      "    \"status\" : 429\n",
      "  }\n",
      "}\n",
      "<bound method Response.json of <Response [429]>>\n"
     ]
    },
    {
     "name": "stderr",
     "output_type": "stream",
     "text": [
      "api_call...:  30%|████████                   | 328/1096 [03:18<02:25,  5.28it/s]"
     ]
    },
    {
     "name": "stdout",
     "output_type": "stream",
     "text": [
      "Error: 429 - {\n",
      "  \"error\" : {\n",
      "    \"status\" : 429\n",
      "  }\n",
      "}\n",
      "<bound method Response.json of <Response [429]>>\n",
      "Error: 429 - {\n",
      "  \"error\" : {\n",
      "    \"status\" : 429\n",
      "  }\n",
      "}\n",
      "<bound method Response.json of <Response [429]>>\n"
     ]
    },
    {
     "name": "stderr",
     "output_type": "stream",
     "text": [
      "\r",
      "api_call...:  30%|████████                   | 329/1096 [03:19<02:10,  5.90it/s]"
     ]
    },
    {
     "name": "stdout",
     "output_type": "stream",
     "text": [
      "Error: 429 - {\n",
      "  \"error\" : {\n",
      "    \"status\" : 429\n",
      "  }\n",
      "}\n",
      "<bound method Response.json of <Response [429]>>\n"
     ]
    },
    {
     "name": "stderr",
     "output_type": "stream",
     "text": [
      "\r",
      "api_call...:  30%|████████▏                  | 330/1096 [03:19<02:20,  5.46it/s]"
     ]
    },
    {
     "name": "stdout",
     "output_type": "stream",
     "text": [
      "Error: 429 - {\n",
      "  \"error\" : {\n",
      "    \"status\" : 429\n",
      "  }\n",
      "}\n",
      "<bound method Response.json of <Response [429]>>\n"
     ]
    },
    {
     "name": "stderr",
     "output_type": "stream",
     "text": [
      "\r",
      "api_call...:  30%|████████▏                  | 331/1096 [03:19<02:26,  5.22it/s]"
     ]
    },
    {
     "name": "stdout",
     "output_type": "stream",
     "text": [
      "Error: 429 - {\n",
      "  \"error\" : {\n",
      "    \"status\" : 429\n",
      "  }\n",
      "}\n",
      "<bound method Response.json of <Response [429]>>\n"
     ]
    },
    {
     "name": "stderr",
     "output_type": "stream",
     "text": [
      "api_call...:  30%|████████▏                  | 333/1096 [03:19<02:16,  5.58it/s]"
     ]
    },
    {
     "name": "stdout",
     "output_type": "stream",
     "text": [
      "Error: 429 - {\n",
      "  \"error\" : {\n",
      "    \"status\" : 429\n",
      "  }\n",
      "}\n",
      "<bound method Response.json of <Response [429]>>\n",
      "Error: 429 - {\n",
      "  \"error\" : {\n",
      "    \"status\" : 429\n",
      "  }\n",
      "}\n",
      "<bound method Response.json of <Response [429]>>\n"
     ]
    },
    {
     "name": "stderr",
     "output_type": "stream",
     "text": [
      "api_call...:  31%|████████▎                  | 335/1096 [03:20<01:58,  6.43it/s]"
     ]
    },
    {
     "name": "stdout",
     "output_type": "stream",
     "text": [
      "Error: 429 - {\n",
      "  \"error\" : {\n",
      "    \"status\" : 429\n",
      "  }\n",
      "}\n",
      "<bound method Response.json of <Response [429]>>\n",
      "Error: 429 - {\n",
      "  \"error\" : {\n",
      "    \"status\" : 429\n",
      "  }\n",
      "}\n",
      "<bound method Response.json of <Response [429]>>\n"
     ]
    },
    {
     "name": "stderr",
     "output_type": "stream",
     "text": [
      "api_call...:  31%|████████▎                  | 337/1096 [03:20<02:09,  5.87it/s]"
     ]
    },
    {
     "name": "stdout",
     "output_type": "stream",
     "text": [
      "Error: 429 - {\n",
      "  \"error\" : {\n",
      "    \"status\" : 429\n",
      "  }\n",
      "}\n",
      "<bound method Response.json of <Response [429]>>\n",
      "Error: 429 - {\n",
      "  \"error\" : {\n",
      "    \"status\" : 429\n",
      "  }\n",
      "}\n",
      "<bound method Response.json of <Response [429]>>\n"
     ]
    },
    {
     "name": "stderr",
     "output_type": "stream",
     "text": [
      "api_call...:  31%|████████▎                  | 339/1096 [03:20<02:15,  5.57it/s]"
     ]
    },
    {
     "name": "stdout",
     "output_type": "stream",
     "text": [
      "Error: 429 - {\n",
      "  \"error\" : {\n",
      "    \"status\" : 429\n",
      "  }\n",
      "}\n",
      "<bound method Response.json of <Response [429]>>\n",
      "Error: 429 - {\n",
      "  \"error\" : {\n",
      "    \"status\" : 429\n",
      "  }\n",
      "}\n",
      "<bound method Response.json of <Response [429]>>\n"
     ]
    },
    {
     "name": "stderr",
     "output_type": "stream",
     "text": [
      "api_call...:  31%|████████▍                  | 341/1096 [03:21<01:58,  6.36it/s]"
     ]
    },
    {
     "name": "stdout",
     "output_type": "stream",
     "text": [
      "Error: 429 - {\n",
      "  \"error\" : {\n",
      "    \"status\" : 429\n",
      "  }\n",
      "}\n",
      "<bound method Response.json of <Response [429]>>\n",
      "Error: 429 - {\n",
      "  \"error\" : {\n",
      "    \"status\" : 429\n",
      "  }\n",
      "}\n",
      "<bound method Response.json of <Response [429]>>\n"
     ]
    },
    {
     "name": "stderr",
     "output_type": "stream",
     "text": [
      "api_call...:  31%|████████▍                  | 343/1096 [03:21<02:01,  6.21it/s]"
     ]
    },
    {
     "name": "stdout",
     "output_type": "stream",
     "text": [
      "Error: 429 - {\n",
      "  \"error\" : {\n",
      "    \"status\" : 429\n",
      "  }\n",
      "}\n",
      "<bound method Response.json of <Response [429]>>\n",
      "Error: 429 - {\n",
      "  \"error\" : {\n",
      "    \"status\" : 429\n",
      "  }\n",
      "}\n",
      "<bound method Response.json of <Response [429]>>\n"
     ]
    },
    {
     "name": "stderr",
     "output_type": "stream",
     "text": [
      "\r",
      "api_call...:  31%|████████▍                  | 344/1096 [03:21<02:01,  6.19it/s]"
     ]
    },
    {
     "name": "stdout",
     "output_type": "stream",
     "text": [
      "Error: 429 - {\n",
      "  \"error\" : {\n",
      "    \"status\" : 429\n",
      "  }\n",
      "}\n",
      "<bound method Response.json of <Response [429]>>\n"
     ]
    },
    {
     "name": "stderr",
     "output_type": "stream",
     "text": [
      "api_call...:  32%|████████▌                  | 346/1096 [03:22<02:01,  6.17it/s]"
     ]
    },
    {
     "name": "stdout",
     "output_type": "stream",
     "text": [
      "Error: 429 - {\n",
      "  \"error\" : {\n",
      "    \"status\" : 429\n",
      "  }\n",
      "}\n",
      "<bound method Response.json of <Response [429]>>\n",
      "Error: 429 - {\n",
      "  \"error\" : {\n",
      "    \"status\" : 429\n",
      "  }\n",
      "}\n",
      "<bound method Response.json of <Response [429]>>\n"
     ]
    },
    {
     "name": "stderr",
     "output_type": "stream",
     "text": [
      "api_call...:  32%|████████▌                  | 348/1096 [03:22<02:01,  6.18it/s]"
     ]
    },
    {
     "name": "stdout",
     "output_type": "stream",
     "text": [
      "Error: 429 - {\n",
      "  \"error\" : {\n",
      "    \"status\" : 429\n",
      "  }\n",
      "}\n",
      "<bound method Response.json of <Response [429]>>\n",
      "Error: 429 - {\n",
      "  \"error\" : {\n",
      "    \"status\" : 429\n",
      "  }\n",
      "}\n",
      "<bound method Response.json of <Response [429]>>\n"
     ]
    },
    {
     "name": "stderr",
     "output_type": "stream",
     "text": [
      "api_call...:  32%|████████▌                  | 350/1096 [03:22<01:51,  6.67it/s]"
     ]
    },
    {
     "name": "stdout",
     "output_type": "stream",
     "text": [
      "Error: 429 - {\n",
      "  \"error\" : {\n",
      "    \"status\" : 429\n",
      "  }\n",
      "}\n",
      "<bound method Response.json of <Response [429]>>\n",
      "Error: 429 - {\n",
      "  \"error\" : {\n",
      "    \"status\" : 429\n",
      "  }\n",
      "}\n",
      "<bound method Response.json of <Response [429]>>\n"
     ]
    },
    {
     "name": "stderr",
     "output_type": "stream",
     "text": [
      "api_call...:  32%|████████▋                  | 352/1096 [03:23<01:59,  6.24it/s]"
     ]
    },
    {
     "name": "stdout",
     "output_type": "stream",
     "text": [
      "Error: 429 - {\n",
      "  \"error\" : {\n",
      "    \"status\" : 429\n",
      "  }\n",
      "}\n",
      "<bound method Response.json of <Response [429]>>\n",
      "Error: 429 - {\n",
      "  \"error\" : {\n",
      "    \"status\" : 429\n",
      "  }\n",
      "}\n",
      "<bound method Response.json of <Response [429]>>\n"
     ]
    },
    {
     "name": "stderr",
     "output_type": "stream",
     "text": [
      "api_call...:  32%|████████▋                  | 354/1096 [03:23<01:49,  6.77it/s]"
     ]
    },
    {
     "name": "stdout",
     "output_type": "stream",
     "text": [
      "Error: 429 - {\n",
      "  \"error\" : {\n",
      "    \"status\" : 429\n",
      "  }\n",
      "}\n",
      "<bound method Response.json of <Response [429]>>\n",
      "Error: 429 - {\n",
      "  \"error\" : {\n",
      "    \"status\" : 429\n",
      "  }\n",
      "}\n",
      "<bound method Response.json of <Response [429]>>\n"
     ]
    },
    {
     "name": "stderr",
     "output_type": "stream",
     "text": [
      "api_call...:  32%|████████▊                  | 356/1096 [03:23<01:58,  6.23it/s]"
     ]
    },
    {
     "name": "stdout",
     "output_type": "stream",
     "text": [
      "Error: 429 - {\n",
      "  \"error\" : {\n",
      "    \"status\" : 429\n",
      "  }\n",
      "}\n",
      "<bound method Response.json of <Response [429]>>\n",
      "Error: 429 - {\n",
      "  \"error\" : {\n",
      "    \"status\" : 429\n",
      "  }\n",
      "}\n",
      "<bound method Response.json of <Response [429]>>\n"
     ]
    },
    {
     "name": "stderr",
     "output_type": "stream",
     "text": [
      "\r",
      "api_call...:  33%|████████▊                  | 357/1096 [03:23<02:05,  5.87it/s]"
     ]
    },
    {
     "name": "stdout",
     "output_type": "stream",
     "text": [
      "Error: 429 - {\n",
      "  \"error\" : {\n",
      "    \"status\" : 429\n",
      "  }\n",
      "}\n",
      "<bound method Response.json of <Response [429]>>\n"
     ]
    },
    {
     "name": "stderr",
     "output_type": "stream",
     "text": [
      "api_call...:  33%|████████▊                  | 359/1096 [03:24<02:11,  5.62it/s]"
     ]
    },
    {
     "name": "stdout",
     "output_type": "stream",
     "text": [
      "Error: 429 - {\n",
      "  \"error\" : {\n",
      "    \"status\" : 429\n",
      "  }\n",
      "}\n",
      "<bound method Response.json of <Response [429]>>\n",
      "Error: 429 - {\n",
      "  \"error\" : {\n",
      "    \"status\" : 429\n",
      "  }\n",
      "}\n",
      "<bound method Response.json of <Response [429]>>\n"
     ]
    },
    {
     "name": "stderr",
     "output_type": "stream",
     "text": [
      "\r",
      "api_call...:  33%|████████▊                  | 360/1096 [03:24<02:01,  6.07it/s]"
     ]
    },
    {
     "name": "stdout",
     "output_type": "stream",
     "text": [
      "Error: 429 - {\n",
      "  \"error\" : {\n",
      "    \"status\" : 429\n",
      "  }\n",
      "}\n",
      "<bound method Response.json of <Response [429]>>\n"
     ]
    },
    {
     "name": "stderr",
     "output_type": "stream",
     "text": [
      "api_call...:  33%|████████▉                  | 362/1096 [03:24<02:05,  5.85it/s]"
     ]
    },
    {
     "name": "stdout",
     "output_type": "stream",
     "text": [
      "Error: 429 - {\n",
      "  \"error\" : {\n",
      "    \"status\" : 429\n",
      "  }\n",
      "}\n",
      "<bound method Response.json of <Response [429]>>\n",
      "Error: 429 - {\n",
      "  \"error\" : {\n",
      "    \"status\" : 429\n",
      "  }\n",
      "}\n",
      "<bound method Response.json of <Response [429]>>\n"
     ]
    },
    {
     "name": "stderr",
     "output_type": "stream",
     "text": [
      "api_call...:  33%|████████▉                  | 365/1096 [03:25<03:02,  4.00it/s]"
     ]
    },
    {
     "name": "stdout",
     "output_type": "stream",
     "text": [
      "Error: 429 - {\n",
      "  \"error\" : {\n",
      "    \"status\" : 429\n",
      "  }\n",
      "}\n",
      "<bound method Response.json of <Response [429]>>\n",
      "Error: 429 - {\n",
      "  \"error\" : {\n",
      "    \"status\" : 429\n",
      "  }\n",
      "}\n",
      "<bound method Response.json of <Response [429]>>\n"
     ]
    },
    {
     "name": "stderr",
     "output_type": "stream",
     "text": [
      "\r",
      "api_call...:  33%|█████████                  | 366/1096 [03:26<04:38,  2.63it/s]"
     ]
    },
    {
     "name": "stdout",
     "output_type": "stream",
     "text": [
      "Error: 429 - {\n",
      "  \"error\" : {\n",
      "    \"status\" : 429\n",
      "  }\n",
      "}\n",
      "<bound method Response.json of <Response [429]>>\n"
     ]
    },
    {
     "name": "stderr",
     "output_type": "stream",
     "text": [
      "api_call...:  34%|█████████                  | 368/1096 [03:26<03:18,  3.66it/s]"
     ]
    },
    {
     "name": "stdout",
     "output_type": "stream",
     "text": [
      "Error: 429 - {\n",
      "  \"error\" : {\n",
      "    \"status\" : 429\n",
      "  }\n",
      "}\n",
      "<bound method Response.json of <Response [429]>>\n",
      "Error: 429 - {\n",
      "  \"error\" : {\n",
      "    \"status\" : 429\n",
      "  }\n",
      "}\n",
      "<bound method Response.json of <Response [429]>>\n"
     ]
    },
    {
     "name": "stderr",
     "output_type": "stream",
     "text": [
      "api_call...:  34%|█████████                  | 370/1096 [03:27<02:39,  4.54it/s]"
     ]
    },
    {
     "name": "stdout",
     "output_type": "stream",
     "text": [
      "Error: 429 - {\n",
      "  \"error\" : {\n",
      "    \"status\" : 429\n",
      "  }\n",
      "}\n",
      "<bound method Response.json of <Response [429]>>\n",
      "Error: 429 - {\n",
      "  \"error\" : {\n",
      "    \"status\" : 429\n",
      "  }\n",
      "}\n",
      "<bound method Response.json of <Response [429]>>\n"
     ]
    },
    {
     "name": "stderr",
     "output_type": "stream",
     "text": [
      "api_call...:  34%|█████████▏                 | 372/1096 [03:27<02:11,  5.49it/s]"
     ]
    },
    {
     "name": "stdout",
     "output_type": "stream",
     "text": [
      "Error: 429 - {\n",
      "  \"error\" : {\n",
      "    \"status\" : 429\n",
      "  }\n",
      "}\n",
      "<bound method Response.json of <Response [429]>>\n",
      "Error: 429 - {\n",
      "  \"error\" : {\n",
      "    \"status\" : 429\n",
      "  }\n",
      "}\n",
      "<bound method Response.json of <Response [429]>>\n"
     ]
    },
    {
     "name": "stderr",
     "output_type": "stream",
     "text": [
      "api_call...:  34%|█████████▏                 | 374/1096 [03:27<02:00,  6.00it/s]"
     ]
    },
    {
     "name": "stdout",
     "output_type": "stream",
     "text": [
      "Error: 429 - {\n",
      "  \"error\" : {\n",
      "    \"status\" : 429\n",
      "  }\n",
      "}\n",
      "<bound method Response.json of <Response [429]>>\n",
      "Error: 429 - {\n",
      "  \"error\" : {\n",
      "    \"status\" : 429\n",
      "  }\n",
      "}\n",
      "<bound method Response.json of <Response [429]>>\n"
     ]
    },
    {
     "name": "stderr",
     "output_type": "stream",
     "text": [
      "\r",
      "api_call...:  34%|█████████▏                 | 375/1096 [03:27<01:55,  6.24it/s]"
     ]
    },
    {
     "name": "stdout",
     "output_type": "stream",
     "text": [
      "Error: 429 - {\n",
      "  \"error\" : {\n",
      "    \"status\" : 429\n",
      "  }\n",
      "}\n",
      "<bound method Response.json of <Response [429]>>\n"
     ]
    },
    {
     "name": "stderr",
     "output_type": "stream",
     "text": [
      "api_call...:  34%|█████████▎                 | 377/1096 [03:28<02:01,  5.92it/s]"
     ]
    },
    {
     "name": "stdout",
     "output_type": "stream",
     "text": [
      "Error: 429 - {\n",
      "  \"error\" : {\n",
      "    \"status\" : 429\n",
      "  }\n",
      "}\n",
      "<bound method Response.json of <Response [429]>>\n",
      "Error: 429 - {\n",
      "  \"error\" : {\n",
      "    \"status\" : 429\n",
      "  }\n",
      "}\n",
      "<bound method Response.json of <Response [429]>>\n"
     ]
    },
    {
     "name": "stderr",
     "output_type": "stream",
     "text": [
      "api_call...:  35%|█████████▎                 | 379/1096 [03:28<01:49,  6.56it/s]"
     ]
    },
    {
     "name": "stdout",
     "output_type": "stream",
     "text": [
      "Error: 429 - {\n",
      "  \"error\" : {\n",
      "    \"status\" : 429\n",
      "  }\n",
      "}\n",
      "<bound method Response.json of <Response [429]>>\n",
      "Error: 429 - {\n",
      "  \"error\" : {\n",
      "    \"status\" : 429\n",
      "  }\n",
      "}\n",
      "<bound method Response.json of <Response [429]>>\n"
     ]
    },
    {
     "name": "stderr",
     "output_type": "stream",
     "text": [
      "api_call...:  35%|█████████▍                 | 381/1096 [03:28<01:58,  6.05it/s]"
     ]
    },
    {
     "name": "stdout",
     "output_type": "stream",
     "text": [
      "Error: 429 - {\n",
      "  \"error\" : {\n",
      "    \"status\" : 429\n",
      "  }\n",
      "}\n",
      "<bound method Response.json of <Response [429]>>\n",
      "Error: 429 - {\n",
      "  \"error\" : {\n",
      "    \"status\" : 429\n",
      "  }\n",
      "}\n",
      "<bound method Response.json of <Response [429]>>\n"
     ]
    },
    {
     "name": "stderr",
     "output_type": "stream",
     "text": [
      "api_call...:  35%|█████████▍                 | 383/1096 [03:29<01:47,  6.65it/s]"
     ]
    },
    {
     "name": "stdout",
     "output_type": "stream",
     "text": [
      "Error: 429 - {\n",
      "  \"error\" : {\n",
      "    \"status\" : 429\n",
      "  }\n",
      "}\n",
      "<bound method Response.json of <Response [429]>>\n",
      "Error: 429 - {\n",
      "  \"error\" : {\n",
      "    \"status\" : 429\n",
      "  }\n",
      "}\n",
      "<bound method Response.json of <Response [429]>>\n"
     ]
    },
    {
     "name": "stderr",
     "output_type": "stream",
     "text": [
      "api_call...:  35%|█████████▍                 | 385/1096 [03:29<01:40,  7.05it/s]"
     ]
    },
    {
     "name": "stdout",
     "output_type": "stream",
     "text": [
      "Error: 429 - {\n",
      "  \"error\" : {\n",
      "    \"status\" : 429\n",
      "  }\n",
      "}\n",
      "<bound method Response.json of <Response [429]>>\n",
      "Error: 429 - {\n",
      "  \"error\" : {\n",
      "    \"status\" : 429\n",
      "  }\n",
      "}\n",
      "<bound method Response.json of <Response [429]>>\n"
     ]
    },
    {
     "name": "stderr",
     "output_type": "stream",
     "text": [
      "\r",
      "api_call...:  35%|█████████▌                 | 386/1096 [03:29<01:38,  7.20it/s]"
     ]
    },
    {
     "name": "stdout",
     "output_type": "stream",
     "text": [
      "Error: 429 - {\n",
      "  \"error\" : {\n",
      "    \"status\" : 429\n",
      "  }\n",
      "}\n",
      "<bound method Response.json of <Response [429]>>\n"
     ]
    },
    {
     "name": "stderr",
     "output_type": "stream",
     "text": [
      "api_call...:  35%|█████████▌                 | 388/1096 [03:29<01:54,  6.21it/s]"
     ]
    },
    {
     "name": "stdout",
     "output_type": "stream",
     "text": [
      "Error: 429 - {\n",
      "  \"error\" : {\n",
      "    \"status\" : 429\n",
      "  }\n",
      "}\n",
      "<bound method Response.json of <Response [429]>>\n",
      "Error: 429 - {\n",
      "  \"error\" : {\n",
      "    \"status\" : 429\n",
      "  }\n",
      "}\n",
      "<bound method Response.json of <Response [429]>>\n"
     ]
    },
    {
     "name": "stderr",
     "output_type": "stream",
     "text": [
      "api_call...:  36%|█████████▌                 | 390/1096 [03:30<02:05,  5.61it/s]"
     ]
    },
    {
     "name": "stdout",
     "output_type": "stream",
     "text": [
      "Error: 429 - {\n",
      "  \"error\" : {\n",
      "    \"status\" : 429\n",
      "  }\n",
      "}\n",
      "<bound method Response.json of <Response [429]>>\n",
      "Error: 429 - {\n",
      "  \"error\" : {\n",
      "    \"status\" : 429\n",
      "  }\n",
      "}\n",
      "<bound method Response.json of <Response [429]>>\n"
     ]
    },
    {
     "name": "stderr",
     "output_type": "stream",
     "text": [
      "\r",
      "api_call...:  36%|█████████▋                 | 391/1096 [03:30<02:01,  5.79it/s]"
     ]
    },
    {
     "name": "stdout",
     "output_type": "stream",
     "text": [
      "Error: 429 - {\n",
      "  \"error\" : {\n",
      "    \"status\" : 429\n",
      "  }\n",
      "}\n",
      "<bound method Response.json of <Response [429]>>\n"
     ]
    },
    {
     "name": "stderr",
     "output_type": "stream",
     "text": [
      "api_call...:  36%|█████████▋                 | 394/1096 [03:31<02:19,  5.03it/s]"
     ]
    },
    {
     "name": "stdout",
     "output_type": "stream",
     "text": [
      "Error: 429 - {\n",
      "  \"error\" : {\n",
      "    \"status\" : 429\n",
      "  }\n",
      "}\n",
      "<bound method Response.json of <Response [429]>>\n",
      "Error: 429 - {\n",
      "  \"error\" : {\n",
      "    \"status\" : 429\n",
      "  }\n",
      "}\n",
      "<bound method Response.json of <Response [429]>>\n"
     ]
    },
    {
     "name": "stderr",
     "output_type": "stream",
     "text": [
      "api_call...:  36%|█████████▊                 | 396/1096 [03:31<02:00,  5.81it/s]"
     ]
    },
    {
     "name": "stdout",
     "output_type": "stream",
     "text": [
      "Error: 429 - {\n",
      "  \"error\" : {\n",
      "    \"status\" : 429\n",
      "  }\n",
      "}\n",
      "<bound method Response.json of <Response [429]>>\n",
      "Error: 429 - {\n",
      "  \"error\" : {\n",
      "    \"status\" : 429\n",
      "  }\n",
      "}\n",
      "<bound method Response.json of <Response [429]>>\n"
     ]
    },
    {
     "name": "stderr",
     "output_type": "stream",
     "text": [
      "\r",
      "api_call...:  36%|█████████▊                 | 397/1096 [03:31<01:53,  6.18it/s]"
     ]
    },
    {
     "name": "stdout",
     "output_type": "stream",
     "text": [
      "Error: 429 - {\n",
      "  \"error\" : {\n",
      "    \"status\" : 429\n",
      "  }\n",
      "}\n",
      "<bound method Response.json of <Response [429]>>\n"
     ]
    },
    {
     "name": "stderr",
     "output_type": "stream",
     "text": [
      "api_call...:  36%|█████████▊                 | 399/1096 [03:32<01:57,  5.91it/s]"
     ]
    },
    {
     "name": "stdout",
     "output_type": "stream",
     "text": [
      "Error: 429 - {\n",
      "  \"error\" : {\n",
      "    \"status\" : 429\n",
      "  }\n",
      "}\n",
      "<bound method Response.json of <Response [429]>>\n",
      "Error: 429 - {\n",
      "  \"error\" : {\n",
      "    \"status\" : 429\n",
      "  }\n",
      "}\n",
      "<bound method Response.json of <Response [429]>>\n"
     ]
    },
    {
     "name": "stderr",
     "output_type": "stream",
     "text": [
      "\r",
      "api_call...:  36%|█████████▊                 | 400/1096 [03:32<02:15,  5.13it/s]"
     ]
    },
    {
     "name": "stdout",
     "output_type": "stream",
     "text": [
      "Error: 429 - {\n",
      "  \"error\" : {\n",
      "    \"status\" : 429\n",
      "  }\n",
      "}\n",
      "<bound method Response.json of <Response [429]>>\n"
     ]
    },
    {
     "name": "stderr",
     "output_type": "stream",
     "text": [
      "api_call...:  37%|█████████▏               | 402/1096 [04:07<1:27:10,  7.54s/it]"
     ]
    },
    {
     "name": "stdout",
     "output_type": "stream",
     "text": [
      "Error: 429 - {\n",
      "  \"error\" : {\n",
      "    \"status\" : 429\n",
      "  }\n",
      "}\n",
      "<bound method Response.json of <Response [429]>>\n",
      "Error: 429 - {\n",
      "  \"error\" : {\n",
      "    \"status\" : 429\n",
      "  }\n",
      "}\n",
      "<bound method Response.json of <Response [429]>>\n"
     ]
    },
    {
     "name": "stderr",
     "output_type": "stream",
     "text": [
      "\r",
      "api_call...:  37%|█████████▏               | 403/1096 [04:07<1:01:24,  5.32s/it]"
     ]
    },
    {
     "name": "stdout",
     "output_type": "stream",
     "text": [
      "Error: 429 - {\n",
      "  \"error\" : {\n",
      "    \"status\" : 429\n",
      "  }\n",
      "}\n",
      "<bound method Response.json of <Response [429]>>\n"
     ]
    },
    {
     "name": "stderr",
     "output_type": "stream",
     "text": [
      "api_call...:  37%|█████████▉                 | 405/1096 [04:08<31:01,  2.69s/it]"
     ]
    },
    {
     "name": "stdout",
     "output_type": "stream",
     "text": [
      "Error: 429 - {\n",
      "  \"error\" : {\n",
      "    \"status\" : 429\n",
      "  }\n",
      "}\n",
      "<bound method Response.json of <Response [429]>>\n",
      "Error: 429 - {\n",
      "  \"error\" : {\n",
      "    \"status\" : 429\n",
      "  }\n",
      "}\n",
      "<bound method Response.json of <Response [429]>>\n"
     ]
    },
    {
     "name": "stderr",
     "output_type": "stream",
     "text": [
      "api_call...:  37%|██████████                 | 407/1096 [04:08<16:02,  1.40s/it]"
     ]
    },
    {
     "name": "stdout",
     "output_type": "stream",
     "text": [
      "Error: 429 - {\n",
      "  \"error\" : {\n",
      "    \"status\" : 429\n",
      "  }\n",
      "}\n",
      "<bound method Response.json of <Response [429]>>\n",
      "Error: 429 - {\n",
      "  \"error\" : {\n",
      "    \"status\" : 429\n",
      "  }\n",
      "}\n",
      "<bound method Response.json of <Response [429]>>\n"
     ]
    },
    {
     "name": "stderr",
     "output_type": "stream",
     "text": [
      "api_call...:  37%|██████████                 | 409/1096 [04:08<08:38,  1.33it/s]"
     ]
    },
    {
     "name": "stdout",
     "output_type": "stream",
     "text": [
      "Error: 429 - {\n",
      "  \"error\" : {\n",
      "    \"status\" : 429\n",
      "  }\n",
      "}\n",
      "<bound method Response.json of <Response [429]>>\n",
      "Error: 429 - {\n",
      "  \"error\" : {\n",
      "    \"status\" : 429\n",
      "  }\n",
      "}\n",
      "<bound method Response.json of <Response [429]>>\n"
     ]
    },
    {
     "name": "stderr",
     "output_type": "stream",
     "text": [
      "api_call...:  38%|██████████▏                | 411/1096 [04:09<05:15,  2.17it/s]"
     ]
    },
    {
     "name": "stdout",
     "output_type": "stream",
     "text": [
      "Error: 429 - {\n",
      "  \"error\" : {\n",
      "    \"status\" : 429\n",
      "  }\n",
      "}\n",
      "<bound method Response.json of <Response [429]>>\n",
      "Error: 429 - {\n",
      "  \"error\" : {\n",
      "    \"status\" : 429\n",
      "  }\n",
      "}\n",
      "<bound method Response.json of <Response [429]>>\n"
     ]
    },
    {
     "name": "stderr",
     "output_type": "stream",
     "text": [
      "api_call...:  38%|██████████▏                | 413/1096 [04:09<03:22,  3.37it/s]"
     ]
    },
    {
     "name": "stdout",
     "output_type": "stream",
     "text": [
      "Error: 429 - {\n",
      "  \"error\" : {\n",
      "    \"status\" : 429\n",
      "  }\n",
      "}\n",
      "<bound method Response.json of <Response [429]>>\n",
      "Error: 429 - {\n",
      "  \"error\" : {\n",
      "    \"status\" : 429\n",
      "  }\n",
      "}\n",
      "<bound method Response.json of <Response [429]>>\n"
     ]
    },
    {
     "name": "stderr",
     "output_type": "stream",
     "text": [
      "api_call...:  38%|██████████▏                | 415/1096 [04:09<02:39,  4.27it/s]"
     ]
    },
    {
     "name": "stdout",
     "output_type": "stream",
     "text": [
      "Error: 429 - {\n",
      "  \"error\" : {\n",
      "    \"status\" : 429\n",
      "  }\n",
      "}\n",
      "<bound method Response.json of <Response [429]>>\n",
      "Error: 429 - {\n",
      "  \"error\" : {\n",
      "    \"status\" : 429\n",
      "  }\n",
      "}\n",
      "<bound method Response.json of <Response [429]>>\n"
     ]
    },
    {
     "name": "stderr",
     "output_type": "stream",
     "text": [
      "\r",
      "api_call...:  38%|██████████▏                | 416/1096 [04:09<02:22,  4.78it/s]"
     ]
    },
    {
     "name": "stdout",
     "output_type": "stream",
     "text": [
      "Error: 429 - {\n",
      "  \"error\" : {\n",
      "    \"status\" : 429\n",
      "  }\n",
      "}\n",
      "<bound method Response.json of <Response [429]>>\n"
     ]
    },
    {
     "name": "stderr",
     "output_type": "stream",
     "text": [
      "api_call...:  38%|██████████▎                | 418/1096 [04:10<02:05,  5.38it/s]"
     ]
    },
    {
     "name": "stdout",
     "output_type": "stream",
     "text": [
      "Error: 429 - {\n",
      "  \"error\" : {\n",
      "    \"status\" : 429\n",
      "  }\n",
      "}\n",
      "<bound method Response.json of <Response [429]>>\n",
      "Error: 429 - {\n",
      "  \"error\" : {\n",
      "    \"status\" : 429\n",
      "  }\n",
      "}\n",
      "<bound method Response.json of <Response [429]>>\n"
     ]
    },
    {
     "name": "stderr",
     "output_type": "stream",
     "text": [
      "\r",
      "api_call...:  38%|██████████▎                | 419/1096 [04:10<01:53,  5.99it/s]"
     ]
    },
    {
     "name": "stdout",
     "output_type": "stream",
     "text": [
      "Error: 429 - {\n",
      "  \"error\" : {\n",
      "    \"status\" : 429\n",
      "  }\n",
      "}\n",
      "<bound method Response.json of <Response [429]>>\n"
     ]
    },
    {
     "name": "stderr",
     "output_type": "stream",
     "text": [
      "api_call...:  38%|██████████▎                | 421/1096 [04:11<02:36,  4.32it/s]"
     ]
    },
    {
     "name": "stdout",
     "output_type": "stream",
     "text": [
      "Error: 429 - {\n",
      "  \"error\" : {\n",
      "    \"status\" : 429\n",
      "  }\n",
      "}\n",
      "<bound method Response.json of <Response [429]>>\n"
     ]
    },
    {
     "name": "stderr",
     "output_type": "stream",
     "text": [
      "api_call...:  39%|██████████▍                | 423/1096 [04:11<03:13,  3.48it/s]"
     ]
    },
    {
     "name": "stdout",
     "output_type": "stream",
     "text": [
      "Error: 429 - {\n",
      "  \"error\" : {\n",
      "    \"status\" : 429\n",
      "  }\n",
      "}\n",
      "<bound method Response.json of <Response [429]>>\n",
      "Error: 429 - {\n",
      "  \"error\" : {\n",
      "    \"status\" : 429\n",
      "  }\n",
      "}\n",
      "<bound method Response.json of <Response [429]>>\n"
     ]
    },
    {
     "name": "stderr",
     "output_type": "stream",
     "text": [
      "\r",
      "api_call...:  39%|██████████▍                | 424/1096 [04:11<02:41,  4.16it/s]"
     ]
    },
    {
     "name": "stdout",
     "output_type": "stream",
     "text": [
      "Error: 429 - {\n",
      "  \"error\" : {\n",
      "    \"status\" : 429\n",
      "  }\n",
      "}\n",
      "<bound method Response.json of <Response [429]>>\n"
     ]
    },
    {
     "name": "stderr",
     "output_type": "stream",
     "text": [
      "api_call...:  39%|██████████▍                | 426/1096 [04:12<02:22,  4.70it/s]"
     ]
    },
    {
     "name": "stdout",
     "output_type": "stream",
     "text": [
      "Error: 429 - {\n",
      "  \"error\" : {\n",
      "    \"status\" : 429\n",
      "  }\n",
      "}\n",
      "<bound method Response.json of <Response [429]>>\n",
      "Error: 429 - {\n",
      "  \"error\" : {\n",
      "    \"status\" : 429\n",
      "  }\n",
      "}\n",
      "<bound method Response.json of <Response [429]>>\n"
     ]
    },
    {
     "name": "stderr",
     "output_type": "stream",
     "text": [
      "api_call...:  39%|██████████▌                | 428/1096 [04:12<01:55,  5.81it/s]"
     ]
    },
    {
     "name": "stdout",
     "output_type": "stream",
     "text": [
      "Error: 429 - {\n",
      "  \"error\" : {\n",
      "    \"status\" : 429\n",
      "  }\n",
      "}\n",
      "<bound method Response.json of <Response [429]>>\n",
      "Error: 429 - {\n",
      "  \"error\" : {\n",
      "    \"status\" : 429\n",
      "  }\n",
      "}\n",
      "<bound method Response.json of <Response [429]>>\n"
     ]
    },
    {
     "name": "stderr",
     "output_type": "stream",
     "text": [
      "api_call...:  39%|██████████▌                | 430/1096 [04:12<01:51,  5.96it/s]"
     ]
    },
    {
     "name": "stdout",
     "output_type": "stream",
     "text": [
      "Error: 429 - {\n",
      "  \"error\" : {\n",
      "    \"status\" : 429\n",
      "  }\n",
      "}\n",
      "<bound method Response.json of <Response [429]>>\n",
      "Error: 429 - {\n",
      "  \"error\" : {\n",
      "    \"status\" : 429\n",
      "  }\n",
      "}\n",
      "<bound method Response.json of <Response [429]>>\n"
     ]
    },
    {
     "name": "stderr",
     "output_type": "stream",
     "text": [
      "\r",
      "api_call...:  39%|██████████▌                | 431/1096 [04:13<01:57,  5.67it/s]"
     ]
    },
    {
     "name": "stdout",
     "output_type": "stream",
     "text": [
      "Error: 429 - {\n",
      "  \"error\" : {\n",
      "    \"status\" : 429\n",
      "  }\n",
      "}\n",
      "<bound method Response.json of <Response [429]>>\n"
     ]
    },
    {
     "name": "stderr",
     "output_type": "stream",
     "text": [
      "api_call...:  40%|██████████▋                | 433/1096 [04:13<01:55,  5.73it/s]"
     ]
    },
    {
     "name": "stdout",
     "output_type": "stream",
     "text": [
      "Error: 429 - {\n",
      "  \"error\" : {\n",
      "    \"status\" : 429\n",
      "  }\n",
      "}\n",
      "<bound method Response.json of <Response [429]>>\n",
      "Error: 429 - {\n",
      "  \"error\" : {\n",
      "    \"status\" : 429\n",
      "  }\n",
      "}\n",
      "<bound method Response.json of <Response [429]>>\n"
     ]
    },
    {
     "name": "stderr",
     "output_type": "stream",
     "text": [
      "api_call...:  40%|██████████▋                | 435/1096 [04:13<01:43,  6.38it/s]"
     ]
    },
    {
     "name": "stdout",
     "output_type": "stream",
     "text": [
      "Error: 429 - {\n",
      "  \"error\" : {\n",
      "    \"status\" : 429\n",
      "  }\n",
      "}\n",
      "<bound method Response.json of <Response [429]>>\n",
      "Error: 429 - {\n",
      "  \"error\" : {\n",
      "    \"status\" : 429\n",
      "  }\n",
      "}\n",
      "<bound method Response.json of <Response [429]>>\n"
     ]
    },
    {
     "name": "stderr",
     "output_type": "stream",
     "text": [
      "\r",
      "api_call...:  40%|██████████▋                | 436/1096 [04:13<01:46,  6.20it/s]"
     ]
    },
    {
     "name": "stdout",
     "output_type": "stream",
     "text": [
      "Error: 429 - {\n",
      "  \"error\" : {\n",
      "    \"status\" : 429\n",
      "  }\n",
      "}\n",
      "<bound method Response.json of <Response [429]>>\n"
     ]
    },
    {
     "name": "stderr",
     "output_type": "stream",
     "text": [
      "\r",
      "api_call...:  40%|██████████▊                | 437/1096 [04:14<01:56,  5.67it/s]"
     ]
    },
    {
     "name": "stdout",
     "output_type": "stream",
     "text": [
      "Error: 429 - {\n",
      "  \"error\" : {\n",
      "    \"status\" : 429\n",
      "  }\n",
      "}\n",
      "<bound method Response.json of <Response [429]>>\n"
     ]
    },
    {
     "name": "stderr",
     "output_type": "stream",
     "text": [
      "api_call...:  40%|██████████▊                | 439/1096 [04:14<02:01,  5.39it/s]"
     ]
    },
    {
     "name": "stdout",
     "output_type": "stream",
     "text": [
      "Error: 429 - {\n",
      "  \"error\" : {\n",
      "    \"status\" : 429\n",
      "  }\n",
      "}\n",
      "<bound method Response.json of <Response [429]>>\n",
      "Error: 429 - {\n",
      "  \"error\" : {\n",
      "    \"status\" : 429\n",
      "  }\n",
      "}\n",
      "<bound method Response.json of <Response [429]>>\n"
     ]
    },
    {
     "name": "stderr",
     "output_type": "stream",
     "text": [
      "\r",
      "api_call...:  40%|██████████▊                | 440/1096 [04:14<01:51,  5.90it/s]"
     ]
    },
    {
     "name": "stdout",
     "output_type": "stream",
     "text": [
      "Error: 429 - {\n",
      "  \"error\" : {\n",
      "    \"status\" : 429\n",
      "  }\n",
      "}\n",
      "<bound method Response.json of <Response [429]>>\n"
     ]
    },
    {
     "name": "stderr",
     "output_type": "stream",
     "text": [
      "api_call...:  40%|██████████▉                | 442/1096 [04:15<01:46,  6.16it/s]"
     ]
    },
    {
     "name": "stdout",
     "output_type": "stream",
     "text": [
      "Error: 429 - {\n",
      "  \"error\" : {\n",
      "    \"status\" : 429\n",
      "  }\n",
      "}\n",
      "<bound method Response.json of <Response [429]>>\n",
      "Error: 429 - {\n",
      "  \"error\" : {\n",
      "    \"status\" : 429\n",
      "  }\n",
      "}\n",
      "<bound method Response.json of <Response [429]>>\n"
     ]
    },
    {
     "name": "stderr",
     "output_type": "stream",
     "text": [
      "\r",
      "api_call...:  40%|██████████▉                | 443/1096 [04:15<01:48,  6.04it/s]"
     ]
    },
    {
     "name": "stdout",
     "output_type": "stream",
     "text": [
      "Error: 429 - {\n",
      "  \"error\" : {\n",
      "    \"status\" : 429\n",
      "  }\n",
      "}\n",
      "<bound method Response.json of <Response [429]>>\n"
     ]
    },
    {
     "name": "stderr",
     "output_type": "stream",
     "text": [
      "api_call...:  41%|██████████▉                | 445/1096 [04:15<02:00,  5.38it/s]"
     ]
    },
    {
     "name": "stdout",
     "output_type": "stream",
     "text": [
      "Error: 429 - {\n",
      "  \"error\" : {\n",
      "    \"status\" : 429\n",
      "  }\n",
      "}\n",
      "<bound method Response.json of <Response [429]>>\n",
      "Error: 429 - {\n",
      "  \"error\" : {\n",
      "    \"status\" : 429\n",
      "  }\n",
      "}\n",
      "<bound method Response.json of <Response [429]>>\n"
     ]
    },
    {
     "name": "stderr",
     "output_type": "stream",
     "text": [
      "\r",
      "api_call...:  41%|██████████▉                | 446/1096 [04:15<01:49,  5.94it/s]"
     ]
    },
    {
     "name": "stdout",
     "output_type": "stream",
     "text": [
      "Error: 429 - {\n",
      "  \"error\" : {\n",
      "    \"status\" : 429\n",
      "  }\n",
      "}\n",
      "<bound method Response.json of <Response [429]>>\n"
     ]
    },
    {
     "name": "stderr",
     "output_type": "stream",
     "text": [
      "api_call...:  41%|███████████                | 448/1096 [04:16<01:48,  5.98it/s]"
     ]
    },
    {
     "name": "stdout",
     "output_type": "stream",
     "text": [
      "Error: 429 - {\n",
      "  \"error\" : {\n",
      "    \"status\" : 429\n",
      "  }\n",
      "}\n",
      "<bound method Response.json of <Response [429]>>\n",
      "Error: 429 - {\n",
      "  \"error\" : {\n",
      "    \"status\" : 429\n",
      "  }\n",
      "}\n",
      "<bound method Response.json of <Response [429]>>\n"
     ]
    },
    {
     "name": "stderr",
     "output_type": "stream",
     "text": [
      "api_call...:  41%|███████████                | 450/1096 [04:16<02:18,  4.67it/s]"
     ]
    },
    {
     "name": "stdout",
     "output_type": "stream",
     "text": [
      "Error: 429 - {\n",
      "  \"error\" : {\n",
      "    \"status\" : 429\n",
      "  }\n",
      "}\n",
      "<bound method Response.json of <Response [429]>>\n",
      "Error: 429 - {\n",
      "  \"error\" : {\n",
      "    \"status\" : 429\n",
      "  }\n",
      "}\n",
      "<bound method Response.json of <Response [429]>>\n"
     ]
    },
    {
     "name": "stderr",
     "output_type": "stream",
     "text": [
      "api_call...:  41%|███████████▏               | 452/1096 [04:16<01:53,  5.68it/s]"
     ]
    },
    {
     "name": "stdout",
     "output_type": "stream",
     "text": [
      "Error: 429 - {\n",
      "  \"error\" : {\n",
      "    \"status\" : 429\n",
      "  }\n",
      "}\n",
      "<bound method Response.json of <Response [429]>>\n",
      "Error: 429 - {\n",
      "  \"error\" : {\n",
      "    \"status\" : 429\n",
      "  }\n",
      "}\n",
      "<bound method Response.json of <Response [429]>>\n"
     ]
    },
    {
     "name": "stderr",
     "output_type": "stream",
     "text": [
      "api_call...:  41%|███████████▏               | 454/1096 [04:17<01:37,  6.60it/s]"
     ]
    },
    {
     "name": "stdout",
     "output_type": "stream",
     "text": [
      "Error: 429 - {\n",
      "  \"error\" : {\n",
      "    \"status\" : 429\n",
      "  }\n",
      "}\n",
      "<bound method Response.json of <Response [429]>>\n",
      "Error: 429 - {\n",
      "  \"error\" : {\n",
      "    \"status\" : 429\n",
      "  }\n",
      "}\n",
      "<bound method Response.json of <Response [429]>>\n"
     ]
    },
    {
     "name": "stderr",
     "output_type": "stream",
     "text": [
      "api_call...:  42%|███████████▏               | 456/1096 [04:17<01:48,  5.88it/s]"
     ]
    },
    {
     "name": "stdout",
     "output_type": "stream",
     "text": [
      "Error: 429 - {\n",
      "  \"error\" : {\n",
      "    \"status\" : 429\n",
      "  }\n",
      "}\n",
      "<bound method Response.json of <Response [429]>>\n",
      "Error: 429 - {\n",
      "  \"error\" : {\n",
      "    \"status\" : 429\n",
      "  }\n",
      "}\n",
      "<bound method Response.json of <Response [429]>>\n"
     ]
    },
    {
     "name": "stderr",
     "output_type": "stream",
     "text": [
      "api_call...:  42%|███████████▎               | 458/1096 [04:17<01:35,  6.71it/s]"
     ]
    },
    {
     "name": "stdout",
     "output_type": "stream",
     "text": [
      "Error: 429 - {\n",
      "  \"error\" : {\n",
      "    \"status\" : 429\n",
      "  }\n",
      "}\n",
      "<bound method Response.json of <Response [429]>>\n",
      "Error: 429 - {\n",
      "  \"error\" : {\n",
      "    \"status\" : 429\n",
      "  }\n",
      "}\n",
      "<bound method Response.json of <Response [429]>>\n"
     ]
    },
    {
     "name": "stderr",
     "output_type": "stream",
     "text": [
      "api_call...:  42%|███████████▎               | 460/1096 [04:18<01:39,  6.40it/s]"
     ]
    },
    {
     "name": "stdout",
     "output_type": "stream",
     "text": [
      "Error: 429 - {\n",
      "  \"error\" : {\n",
      "    \"status\" : 429\n",
      "  }\n",
      "}\n",
      "<bound method Response.json of <Response [429]>>\n",
      "Error: 429 - {\n",
      "  \"error\" : {\n",
      "    \"status\" : 429\n",
      "  }\n",
      "}\n",
      "<bound method Response.json of <Response [429]>>\n"
     ]
    },
    {
     "name": "stderr",
     "output_type": "stream",
     "text": [
      "\r",
      "api_call...:  42%|███████████▎               | 461/1096 [04:18<01:49,  5.79it/s]"
     ]
    },
    {
     "name": "stdout",
     "output_type": "stream",
     "text": [
      "Error: 429 - {\n",
      "  \"error\" : {\n",
      "    \"status\" : 429\n",
      "  }\n",
      "}\n",
      "<bound method Response.json of <Response [429]>>\n"
     ]
    },
    {
     "name": "stderr",
     "output_type": "stream",
     "text": [
      "api_call...:  42%|███████████▍               | 463/1096 [04:18<02:16,  4.64it/s]"
     ]
    },
    {
     "name": "stdout",
     "output_type": "stream",
     "text": [
      "Error: 429 - {\n",
      "  \"error\" : {\n",
      "    \"status\" : 429\n",
      "  }\n",
      "}\n",
      "<bound method Response.json of <Response [429]>>\n",
      "Error: 429 - {\n",
      "  \"error\" : {\n",
      "    \"status\" : 429\n",
      "  }\n",
      "}\n",
      "<bound method Response.json of <Response [429]>>\n"
     ]
    },
    {
     "name": "stderr",
     "output_type": "stream",
     "text": [
      "\r",
      "api_call...:  42%|███████████▍               | 464/1096 [04:19<02:15,  4.65it/s]"
     ]
    },
    {
     "name": "stdout",
     "output_type": "stream",
     "text": [
      "Error: 429 - {\n",
      "  \"error\" : {\n",
      "    \"status\" : 429\n",
      "  }\n",
      "}\n",
      "<bound method Response.json of <Response [429]>>\n"
     ]
    },
    {
     "name": "stderr",
     "output_type": "stream",
     "text": [
      "\r",
      "api_call...:  42%|███████████▍               | 465/1096 [04:19<02:26,  4.32it/s]"
     ]
    },
    {
     "name": "stdout",
     "output_type": "stream",
     "text": [
      "Error: 429 - {\n",
      "  \"error\" : {\n",
      "    \"status\" : 429\n",
      "  }\n",
      "}\n",
      "<bound method Response.json of <Response [429]>>\n"
     ]
    },
    {
     "name": "stderr",
     "output_type": "stream",
     "text": [
      "api_call...:  43%|███████████▌               | 467/1096 [04:19<02:33,  4.11it/s]"
     ]
    },
    {
     "name": "stdout",
     "output_type": "stream",
     "text": [
      "Error: 429 - {\n",
      "  \"error\" : {\n",
      "    \"status\" : 429\n",
      "  }\n",
      "}\n",
      "<bound method Response.json of <Response [429]>>\n",
      "Error: 429 - {\n",
      "  \"error\" : {\n",
      "    \"status\" : 429\n",
      "  }\n",
      "}\n",
      "<bound method Response.json of <Response [429]>>\n"
     ]
    },
    {
     "name": "stderr",
     "output_type": "stream",
     "text": [
      "api_call...:  43%|███████████▌               | 469/1096 [04:20<02:07,  4.91it/s]"
     ]
    },
    {
     "name": "stdout",
     "output_type": "stream",
     "text": [
      "Error: 429 - {\n",
      "  \"error\" : {\n",
      "    \"status\" : 429\n",
      "  }\n",
      "}\n",
      "<bound method Response.json of <Response [429]>>\n",
      "Error: 429 - {\n",
      "  \"error\" : {\n",
      "    \"status\" : 429\n",
      "  }\n",
      "}\n",
      "<bound method Response.json of <Response [429]>>\n"
     ]
    },
    {
     "name": "stderr",
     "output_type": "stream",
     "text": [
      "\r",
      "api_call...:  43%|███████████▌               | 470/1096 [04:20<01:55,  5.40it/s]"
     ]
    },
    {
     "name": "stdout",
     "output_type": "stream",
     "text": [
      "Error: 429 - {\n",
      "  \"error\" : {\n",
      "    \"status\" : 429\n",
      "  }\n",
      "}\n",
      "<bound method Response.json of <Response [429]>>\n"
     ]
    },
    {
     "name": "stderr",
     "output_type": "stream",
     "text": [
      "api_call...:  43%|███████████▋               | 472/1096 [04:20<01:52,  5.54it/s]"
     ]
    },
    {
     "name": "stdout",
     "output_type": "stream",
     "text": [
      "Error: 429 - {\n",
      "  \"error\" : {\n",
      "    \"status\" : 429\n",
      "  }\n",
      "}\n",
      "<bound method Response.json of <Response [429]>>\n",
      "Error: 429 - {\n",
      "  \"error\" : {\n",
      "    \"status\" : 429\n",
      "  }\n",
      "}\n",
      "<bound method Response.json of <Response [429]>>\n"
     ]
    },
    {
     "name": "stderr",
     "output_type": "stream",
     "text": [
      "api_call...:  43%|███████████▋               | 474/1096 [04:21<01:41,  6.13it/s]"
     ]
    },
    {
     "name": "stdout",
     "output_type": "stream",
     "text": [
      "Error: 429 - {\n",
      "  \"error\" : {\n",
      "    \"status\" : 429\n",
      "  }\n",
      "}\n",
      "<bound method Response.json of <Response [429]>>\n",
      "Error: 429 - {\n",
      "  \"error\" : {\n",
      "    \"status\" : 429\n",
      "  }\n",
      "}\n",
      "<bound method Response.json of <Response [429]>>\n"
     ]
    },
    {
     "name": "stderr",
     "output_type": "stream",
     "text": [
      "api_call...:  43%|███████████▋               | 476/1096 [04:21<01:34,  6.55it/s]"
     ]
    },
    {
     "name": "stdout",
     "output_type": "stream",
     "text": [
      "Error: 429 - {\n",
      "  \"error\" : {\n",
      "    \"status\" : 429\n",
      "  }\n",
      "}\n",
      "<bound method Response.json of <Response [429]>>\n",
      "Error: 429 - {\n",
      "  \"error\" : {\n",
      "    \"status\" : 429\n",
      "  }\n",
      "}\n",
      "<bound method Response.json of <Response [429]>>\n"
     ]
    },
    {
     "name": "stderr",
     "output_type": "stream",
     "text": [
      "api_call...:  44%|███████████▊               | 478/1096 [04:21<01:40,  6.15it/s]"
     ]
    },
    {
     "name": "stdout",
     "output_type": "stream",
     "text": [
      "Error: 429 - {\n",
      "  \"error\" : {\n",
      "    \"status\" : 429\n",
      "  }\n",
      "}\n",
      "<bound method Response.json of <Response [429]>>\n",
      "Error: 429 - {\n",
      "  \"error\" : {\n",
      "    \"status\" : 429\n",
      "  }\n",
      "}\n",
      "<bound method Response.json of <Response [429]>>\n"
     ]
    },
    {
     "name": "stderr",
     "output_type": "stream",
     "text": [
      "api_call...:  44%|███████████▊               | 480/1096 [04:22<01:31,  6.71it/s]"
     ]
    },
    {
     "name": "stdout",
     "output_type": "stream",
     "text": [
      "Error: 429 - {\n",
      "  \"error\" : {\n",
      "    \"status\" : 429\n",
      "  }\n",
      "}\n",
      "<bound method Response.json of <Response [429]>>\n",
      "Error: 429 - {\n",
      "  \"error\" : {\n",
      "    \"status\" : 429\n",
      "  }\n",
      "}\n",
      "<bound method Response.json of <Response [429]>>\n"
     ]
    },
    {
     "name": "stderr",
     "output_type": "stream",
     "text": [
      "api_call...:  44%|███████████▊               | 482/1096 [04:22<01:36,  6.40it/s]"
     ]
    },
    {
     "name": "stdout",
     "output_type": "stream",
     "text": [
      "Error: 429 - {\n",
      "  \"error\" : {\n",
      "    \"status\" : 429\n",
      "  }\n",
      "}\n",
      "<bound method Response.json of <Response [429]>>\n",
      "Error: 429 - {\n",
      "  \"error\" : {\n",
      "    \"status\" : 429\n",
      "  }\n",
      "}\n",
      "<bound method Response.json of <Response [429]>>\n"
     ]
    },
    {
     "name": "stderr",
     "output_type": "stream",
     "text": [
      "\r",
      "api_call...:  44%|███████████▉               | 483/1096 [04:22<01:38,  6.20it/s]"
     ]
    },
    {
     "name": "stdout",
     "output_type": "stream",
     "text": [
      "Error: 429 - {\n",
      "  \"error\" : {\n",
      "    \"status\" : 429\n",
      "  }\n",
      "}\n",
      "<bound method Response.json of <Response [429]>>\n"
     ]
    },
    {
     "name": "stderr",
     "output_type": "stream",
     "text": [
      "api_call...:  44%|███████████▉               | 485/1096 [04:22<01:49,  5.60it/s]"
     ]
    },
    {
     "name": "stdout",
     "output_type": "stream",
     "text": [
      "Error: 429 - {\n",
      "  \"error\" : {\n",
      "    \"status\" : 429\n",
      "  }\n",
      "}\n",
      "<bound method Response.json of <Response [429]>>\n",
      "Error: 429 - {\n",
      "  \"error\" : {\n",
      "    \"status\" : 429\n",
      "  }\n",
      "}\n",
      "<bound method Response.json of <Response [429]>>\n"
     ]
    },
    {
     "name": "stderr",
     "output_type": "stream",
     "text": [
      "\r",
      "api_call...:  44%|███████████▉               | 486/1096 [04:23<01:40,  6.07it/s]"
     ]
    },
    {
     "name": "stdout",
     "output_type": "stream",
     "text": [
      "Error: 429 - {\n",
      "  \"error\" : {\n",
      "    \"status\" : 429\n",
      "  }\n",
      "}\n",
      "<bound method Response.json of <Response [429]>>\n"
     ]
    },
    {
     "name": "stderr",
     "output_type": "stream",
     "text": [
      "api_call...:  45%|████████████               | 488/1096 [04:23<01:44,  5.84it/s]"
     ]
    },
    {
     "name": "stdout",
     "output_type": "stream",
     "text": [
      "Error: 429 - {\n",
      "  \"error\" : {\n",
      "    \"status\" : 429\n",
      "  }\n",
      "}\n",
      "<bound method Response.json of <Response [429]>>\n",
      "Error: 429 - {\n",
      "  \"error\" : {\n",
      "    \"status\" : 429\n",
      "  }\n",
      "}\n",
      "<bound method Response.json of <Response [429]>>\n"
     ]
    },
    {
     "name": "stderr",
     "output_type": "stream",
     "text": [
      "api_call...:  45%|████████████               | 490/1096 [04:23<01:55,  5.24it/s]"
     ]
    },
    {
     "name": "stdout",
     "output_type": "stream",
     "text": [
      "Error: 429 - {\n",
      "  \"error\" : {\n",
      "    \"status\" : 429\n",
      "  }\n",
      "}\n",
      "<bound method Response.json of <Response [429]>>\n",
      "Error: 429 - {\n",
      "  \"error\" : {\n",
      "    \"status\" : 429\n",
      "  }\n",
      "}\n",
      "<bound method Response.json of <Response [429]>>\n"
     ]
    },
    {
     "name": "stderr",
     "output_type": "stream",
     "text": [
      "\r",
      "api_call...:  45%|████████████               | 491/1096 [04:24<01:45,  5.73it/s]"
     ]
    },
    {
     "name": "stdout",
     "output_type": "stream",
     "text": [
      "Error: 429 - {\n",
      "  \"error\" : {\n",
      "    \"status\" : 429\n",
      "  }\n",
      "}\n",
      "<bound method Response.json of <Response [429]>>\n"
     ]
    },
    {
     "name": "stderr",
     "output_type": "stream",
     "text": [
      "api_call...:  45%|████████████▏              | 493/1096 [04:24<01:39,  6.07it/s]"
     ]
    },
    {
     "name": "stdout",
     "output_type": "stream",
     "text": [
      "Error: 429 - {\n",
      "  \"error\" : {\n",
      "    \"status\" : 429\n",
      "  }\n",
      "}\n",
      "<bound method Response.json of <Response [429]>>\n",
      "Error: 429 - {\n",
      "  \"error\" : {\n",
      "    \"status\" : 429\n",
      "  }\n",
      "}\n",
      "<bound method Response.json of <Response [429]>>\n"
     ]
    },
    {
     "name": "stderr",
     "output_type": "stream",
     "text": [
      "api_call...:  45%|████████████▏              | 495/1096 [04:24<01:30,  6.62it/s]"
     ]
    },
    {
     "name": "stdout",
     "output_type": "stream",
     "text": [
      "Error: 429 - {\n",
      "  \"error\" : {\n",
      "    \"status\" : 429\n",
      "  }\n",
      "}\n",
      "<bound method Response.json of <Response [429]>>\n",
      "Error: 429 - {\n",
      "  \"error\" : {\n",
      "    \"status\" : 429\n",
      "  }\n",
      "}\n",
      "<bound method Response.json of <Response [429]>>\n"
     ]
    },
    {
     "name": "stderr",
     "output_type": "stream",
     "text": [
      "api_call...:  45%|████████████▏              | 497/1096 [04:24<01:24,  7.07it/s]"
     ]
    },
    {
     "name": "stdout",
     "output_type": "stream",
     "text": [
      "Error: 429 - {\n",
      "  \"error\" : {\n",
      "    \"status\" : 429\n",
      "  }\n",
      "}\n",
      "<bound method Response.json of <Response [429]>>\n",
      "Error: 429 - {\n",
      "  \"error\" : {\n",
      "    \"status\" : 429\n",
      "  }\n",
      "}\n",
      "<bound method Response.json of <Response [429]>>\n"
     ]
    },
    {
     "name": "stderr",
     "output_type": "stream",
     "text": [
      "api_call...:  46%|████████████▎              | 499/1096 [04:25<01:22,  7.23it/s]"
     ]
    },
    {
     "name": "stdout",
     "output_type": "stream",
     "text": [
      "Error: 429 - {\n",
      "  \"error\" : {\n",
      "    \"status\" : 429\n",
      "  }\n",
      "}\n",
      "<bound method Response.json of <Response [429]>>\n",
      "Error: 429 - {\n",
      "  \"error\" : {\n",
      "    \"status\" : 429\n",
      "  }\n",
      "}\n",
      "<bound method Response.json of <Response [429]>>\n"
     ]
    },
    {
     "name": "stderr",
     "output_type": "stream",
     "text": [
      "\r",
      "api_call...:  46%|████████████▎              | 500/1096 [04:25<01:35,  6.25it/s]"
     ]
    },
    {
     "name": "stdout",
     "output_type": "stream",
     "text": [
      "Error: 429 - {\n",
      "  \"error\" : {\n",
      "    \"status\" : 429\n",
      "  }\n",
      "}\n",
      "<bound method Response.json of <Response [429]>>\n"
     ]
    },
    {
     "name": "stderr",
     "output_type": "stream",
     "text": [
      "api_call...:  46%|███████████▍             | 502/1096 [05:00<1:14:16,  7.50s/it]"
     ]
    },
    {
     "name": "stdout",
     "output_type": "stream",
     "text": [
      "Error: 429 - {\n",
      "  \"error\" : {\n",
      "    \"status\" : 429\n",
      "  }\n",
      "}\n",
      "<bound method Response.json of <Response [429]>>\n",
      "Error: 429 - {\n",
      "  \"error\" : {\n",
      "    \"status\" : 429\n",
      "  }\n",
      "}\n",
      "<bound method Response.json of <Response [429]>>\n"
     ]
    },
    {
     "name": "stderr",
     "output_type": "stream",
     "text": [
      "\r",
      "api_call...:  46%|████████████▍              | 503/1096 [05:00<52:18,  5.29s/it]"
     ]
    },
    {
     "name": "stdout",
     "output_type": "stream",
     "text": [
      "Error: 429 - {\n",
      "  \"error\" : {\n",
      "    \"status\" : 429\n",
      "  }\n",
      "}\n",
      "<bound method Response.json of <Response [429]>>\n"
     ]
    },
    {
     "name": "stderr",
     "output_type": "stream",
     "text": [
      "api_call...:  46%|████████████▍              | 505/1096 [05:01<26:24,  2.68s/it]"
     ]
    },
    {
     "name": "stdout",
     "output_type": "stream",
     "text": [
      "Error: 429 - {\n",
      "  \"error\" : {\n",
      "    \"status\" : 429\n",
      "  }\n",
      "}\n",
      "<bound method Response.json of <Response [429]>>\n",
      "Error: 429 - {\n",
      "  \"error\" : {\n",
      "    \"status\" : 429\n",
      "  }\n",
      "}\n",
      "<bound method Response.json of <Response [429]>>\n"
     ]
    },
    {
     "name": "stderr",
     "output_type": "stream",
     "text": [
      "\r",
      "api_call...:  46%|████████████▍              | 506/1096 [05:01<18:57,  1.93s/it]"
     ]
    },
    {
     "name": "stdout",
     "output_type": "stream",
     "text": [
      "Error: 429 - {\n",
      "  \"error\" : {\n",
      "    \"status\" : 429\n",
      "  }\n",
      "}\n",
      "<bound method Response.json of <Response [429]>>\n"
     ]
    },
    {
     "name": "stderr",
     "output_type": "stream",
     "text": [
      "api_call...:  46%|████████████▌              | 508/1096 [05:02<11:08,  1.14s/it]"
     ]
    },
    {
     "name": "stdout",
     "output_type": "stream",
     "text": [
      "Error: 429 - {\n",
      "  \"error\" : {\n",
      "    \"status\" : 429\n",
      "  }\n",
      "}\n",
      "<bound method Response.json of <Response [429]>>\n",
      "Error: 429 - {\n",
      "  \"error\" : {\n",
      "    \"status\" : 429\n",
      "  }\n",
      "}\n",
      "<bound method Response.json of <Response [429]>>\n"
     ]
    },
    {
     "name": "stderr",
     "output_type": "stream",
     "text": [
      "\r",
      "api_call...:  46%|████████████▌              | 509/1096 [05:02<08:18,  1.18it/s]"
     ]
    },
    {
     "name": "stdout",
     "output_type": "stream",
     "text": [
      "Error: 429 - {\n",
      "  \"error\" : {\n",
      "    \"status\" : 429\n",
      "  }\n",
      "}\n",
      "<bound method Response.json of <Response [429]>>\n"
     ]
    },
    {
     "name": "stderr",
     "output_type": "stream",
     "text": [
      "api_call...:  47%|████████████▌              | 511/1096 [05:03<05:43,  1.70it/s]"
     ]
    },
    {
     "name": "stdout",
     "output_type": "stream",
     "text": [
      "Error: 429 - {\n",
      "  \"error\" : {\n",
      "    \"status\" : 429\n",
      "  }\n",
      "}\n",
      "<bound method Response.json of <Response [429]>>\n",
      "Error: 429 - {\n",
      "  \"error\" : {\n",
      "    \"status\" : 429\n",
      "  }\n",
      "}\n",
      "<bound method Response.json of <Response [429]>>\n"
     ]
    },
    {
     "name": "stderr",
     "output_type": "stream",
     "text": [
      "api_call...:  47%|████████████▋              | 513/1096 [05:03<03:36,  2.69it/s]"
     ]
    },
    {
     "name": "stdout",
     "output_type": "stream",
     "text": [
      "Error: 429 - {\n",
      "  \"error\" : {\n",
      "    \"status\" : 429\n",
      "  }\n",
      "}\n",
      "<bound method Response.json of <Response [429]>>\n",
      "Error: 429 - {\n",
      "  \"error\" : {\n",
      "    \"status\" : 429\n",
      "  }\n",
      "}\n",
      "<bound method Response.json of <Response [429]>>\n"
     ]
    },
    {
     "name": "stderr",
     "output_type": "stream",
     "text": [
      "\r",
      "api_call...:  47%|████████████▋              | 514/1096 [05:03<03:48,  2.55it/s]"
     ]
    },
    {
     "name": "stdout",
     "output_type": "stream",
     "text": [
      "Error: 429 - {\n",
      "  \"error\" : {\n",
      "    \"status\" : 429\n",
      "  }\n",
      "}\n",
      "<bound method Response.json of <Response [429]>>\n"
     ]
    },
    {
     "name": "stderr",
     "output_type": "stream",
     "text": [
      "api_call...:  47%|████████████▋              | 516/1096 [05:04<02:40,  3.62it/s]"
     ]
    },
    {
     "name": "stdout",
     "output_type": "stream",
     "text": [
      "Error: 429 - {\n",
      "  \"error\" : {\n",
      "    \"status\" : 429\n",
      "  }\n",
      "}\n",
      "<bound method Response.json of <Response [429]>>\n",
      "Error: 429 - {\n",
      "  \"error\" : {\n",
      "    \"status\" : 429\n",
      "  }\n",
      "}\n",
      "<bound method Response.json of <Response [429]>>\n"
     ]
    },
    {
     "name": "stderr",
     "output_type": "stream",
     "text": [
      "\r",
      "api_call...:  47%|████████████▋              | 517/1096 [05:04<02:15,  4.29it/s]"
     ]
    },
    {
     "name": "stdout",
     "output_type": "stream",
     "text": [
      "Error: 429 - {\n",
      "  \"error\" : {\n",
      "    \"status\" : 429\n",
      "  }\n",
      "}\n",
      "<bound method Response.json of <Response [429]>>\n"
     ]
    },
    {
     "name": "stderr",
     "output_type": "stream",
     "text": [
      "api_call...:  47%|████████████▊              | 519/1096 [05:04<01:57,  4.91it/s]"
     ]
    },
    {
     "name": "stdout",
     "output_type": "stream",
     "text": [
      "Error: 429 - {\n",
      "  \"error\" : {\n",
      "    \"status\" : 429\n",
      "  }\n",
      "}\n",
      "<bound method Response.json of <Response [429]>>\n",
      "Error: 429 - {\n",
      "  \"error\" : {\n",
      "    \"status\" : 429\n",
      "  }\n",
      "}\n",
      "<bound method Response.json of <Response [429]>>\n"
     ]
    },
    {
     "name": "stderr",
     "output_type": "stream",
     "text": [
      "api_call...:  48%|████████████▊              | 521/1096 [05:04<01:35,  5.99it/s]"
     ]
    },
    {
     "name": "stdout",
     "output_type": "stream",
     "text": [
      "Error: 429 - {\n",
      "  \"error\" : {\n",
      "    \"status\" : 429\n",
      "  }\n",
      "}\n",
      "<bound method Response.json of <Response [429]>>\n",
      "Error: 429 - {\n",
      "  \"error\" : {\n",
      "    \"status\" : 429\n",
      "  }\n",
      "}\n",
      "<bound method Response.json of <Response [429]>>\n"
     ]
    },
    {
     "name": "stderr",
     "output_type": "stream",
     "text": [
      "api_call...:  48%|████████████▉              | 523/1096 [05:05<01:27,  6.53it/s]"
     ]
    },
    {
     "name": "stdout",
     "output_type": "stream",
     "text": [
      "Error: 429 - {\n",
      "  \"error\" : {\n",
      "    \"status\" : 429\n",
      "  }\n",
      "}\n",
      "<bound method Response.json of <Response [429]>>\n",
      "Error: 429 - {\n",
      "  \"error\" : {\n",
      "    \"status\" : 429\n",
      "  }\n",
      "}\n",
      "<bound method Response.json of <Response [429]>>\n"
     ]
    },
    {
     "name": "stderr",
     "output_type": "stream",
     "text": [
      "\r",
      "api_call...:  48%|████████████▉              | 524/1096 [05:05<01:24,  6.78it/s]"
     ]
    },
    {
     "name": "stdout",
     "output_type": "stream",
     "text": [
      "Error: 429 - {\n",
      "  \"error\" : {\n",
      "    \"status\" : 429\n",
      "  }\n",
      "}\n",
      "<bound method Response.json of <Response [429]>>\n"
     ]
    },
    {
     "name": "stderr",
     "output_type": "stream",
     "text": [
      "api_call...:  48%|████████████▉              | 526/1096 [05:06<02:03,  4.61it/s]"
     ]
    },
    {
     "name": "stdout",
     "output_type": "stream",
     "text": [
      "Error: 429 - {\n",
      "  \"error\" : {\n",
      "    \"status\" : 429\n",
      "  }\n",
      "}\n",
      "<bound method Response.json of <Response [429]>>\n",
      "Error: 429 - {\n",
      "  \"error\" : {\n",
      "    \"status\" : 429\n",
      "  }\n",
      "}\n",
      "<bound method Response.json of <Response [429]>>\n"
     ]
    },
    {
     "name": "stderr",
     "output_type": "stream",
     "text": [
      "api_call...:  48%|█████████████              | 528/1096 [05:06<01:41,  5.61it/s]"
     ]
    },
    {
     "name": "stdout",
     "output_type": "stream",
     "text": [
      "Error: 429 - {\n",
      "  \"error\" : {\n",
      "    \"status\" : 429\n",
      "  }\n",
      "}\n",
      "<bound method Response.json of <Response [429]>>\n",
      "Error: 429 - {\n",
      "  \"error\" : {\n",
      "    \"status\" : 429\n",
      "  }\n",
      "}\n",
      "<bound method Response.json of <Response [429]>>\n"
     ]
    },
    {
     "name": "stderr",
     "output_type": "stream",
     "text": [
      "\r",
      "api_call...:  48%|█████████████              | 529/1096 [05:06<01:33,  6.04it/s]"
     ]
    },
    {
     "name": "stdout",
     "output_type": "stream",
     "text": [
      "Error: 429 - {\n",
      "  \"error\" : {\n",
      "    \"status\" : 429\n",
      "  }\n",
      "}\n",
      "<bound method Response.json of <Response [429]>>\n"
     ]
    },
    {
     "name": "stderr",
     "output_type": "stream",
     "text": [
      "api_call...:  48%|█████████████              | 531/1096 [05:06<01:44,  5.39it/s]"
     ]
    },
    {
     "name": "stdout",
     "output_type": "stream",
     "text": [
      "Error: 429 - {\n",
      "  \"error\" : {\n",
      "    \"status\" : 429\n",
      "  }\n",
      "}\n",
      "<bound method Response.json of <Response [429]>>\n",
      "Error: 429 - {\n",
      "  \"error\" : {\n",
      "    \"status\" : 429\n",
      "  }\n",
      "}\n",
      "<bound method Response.json of <Response [429]>>\n"
     ]
    },
    {
     "name": "stderr",
     "output_type": "stream",
     "text": [
      "\r",
      "api_call...:  49%|█████████████              | 532/1096 [05:07<01:35,  5.91it/s]"
     ]
    },
    {
     "name": "stdout",
     "output_type": "stream",
     "text": [
      "Error: 429 - {\n",
      "  \"error\" : {\n",
      "    \"status\" : 429\n",
      "  }\n",
      "}\n",
      "<bound method Response.json of <Response [429]>>\n"
     ]
    },
    {
     "name": "stderr",
     "output_type": "stream",
     "text": [
      "api_call...:  49%|█████████████▏             | 534/1096 [05:07<01:35,  5.90it/s]"
     ]
    },
    {
     "name": "stdout",
     "output_type": "stream",
     "text": [
      "Error: 429 - {\n",
      "  \"error\" : {\n",
      "    \"status\" : 429\n",
      "  }\n",
      "}\n",
      "<bound method Response.json of <Response [429]>>\n",
      "Error: 429 - {\n",
      "  \"error\" : {\n",
      "    \"status\" : 429\n",
      "  }\n",
      "}\n",
      "<bound method Response.json of <Response [429]>>\n"
     ]
    },
    {
     "name": "stderr",
     "output_type": "stream",
     "text": [
      "\r",
      "api_call...:  49%|█████████████▏             | 535/1096 [05:07<01:28,  6.35it/s]"
     ]
    },
    {
     "name": "stdout",
     "output_type": "stream",
     "text": [
      "Error: 429 - {\n",
      "  \"error\" : {\n",
      "    \"status\" : 429\n",
      "  }\n",
      "}\n",
      "<bound method Response.json of <Response [429]>>\n"
     ]
    },
    {
     "name": "stderr",
     "output_type": "stream",
     "text": [
      "api_call...:  49%|█████████████▏             | 537/1096 [05:07<01:36,  5.77it/s]"
     ]
    },
    {
     "name": "stdout",
     "output_type": "stream",
     "text": [
      "Error: 429 - {\n",
      "  \"error\" : {\n",
      "    \"status\" : 429\n",
      "  }\n",
      "}\n",
      "<bound method Response.json of <Response [429]>>\n",
      "Error: 429 - {\n",
      "  \"error\" : {\n",
      "    \"status\" : 429\n",
      "  }\n",
      "}\n",
      "<bound method Response.json of <Response [429]>>\n"
     ]
    },
    {
     "name": "stderr",
     "output_type": "stream",
     "text": [
      "api_call...:  49%|█████████████▎             | 539/1096 [05:08<01:23,  6.67it/s]"
     ]
    },
    {
     "name": "stdout",
     "output_type": "stream",
     "text": [
      "Error: 429 - {\n",
      "  \"error\" : {\n",
      "    \"status\" : 429\n",
      "  }\n",
      "}\n",
      "<bound method Response.json of <Response [429]>>\n",
      "Error: 429 - {\n",
      "  \"error\" : {\n",
      "    \"status\" : 429\n",
      "  }\n",
      "}\n",
      "<bound method Response.json of <Response [429]>>\n"
     ]
    },
    {
     "name": "stderr",
     "output_type": "stream",
     "text": [
      "api_call...:  49%|█████████████▎             | 541/1096 [05:08<01:26,  6.41it/s]"
     ]
    },
    {
     "name": "stdout",
     "output_type": "stream",
     "text": [
      "Error: 429 - {\n",
      "  \"error\" : {\n",
      "    \"status\" : 429\n",
      "  }\n",
      "}\n",
      "<bound method Response.json of <Response [429]>>\n",
      "Error: 429 - {\n",
      "  \"error\" : {\n",
      "    \"status\" : 429\n",
      "  }\n",
      "}\n",
      "<bound method Response.json of <Response [429]>>\n"
     ]
    },
    {
     "name": "stderr",
     "output_type": "stream",
     "text": [
      "\r",
      "api_call...:  49%|█████████████▎             | 542/1096 [05:08<01:29,  6.17it/s]"
     ]
    },
    {
     "name": "stdout",
     "output_type": "stream",
     "text": [
      "Error: 429 - {\n",
      "  \"error\" : {\n",
      "    \"status\" : 429\n",
      "  }\n",
      "}\n",
      "<bound method Response.json of <Response [429]>>\n"
     ]
    },
    {
     "name": "stderr",
     "output_type": "stream",
     "text": [
      "api_call...:  50%|█████████████▍             | 544/1096 [05:09<01:31,  6.03it/s]"
     ]
    },
    {
     "name": "stdout",
     "output_type": "stream",
     "text": [
      "Error: 429 - {\n",
      "  \"error\" : {\n",
      "    \"status\" : 429\n",
      "  }\n",
      "}\n",
      "<bound method Response.json of <Response [429]>>\n",
      "Error: 429 - {\n",
      "  \"error\" : {\n",
      "    \"status\" : 429\n",
      "  }\n",
      "}\n",
      "<bound method Response.json of <Response [429]>>\n"
     ]
    },
    {
     "name": "stderr",
     "output_type": "stream",
     "text": [
      "api_call...:  50%|█████████████▍             | 546/1096 [05:09<01:27,  6.26it/s]"
     ]
    },
    {
     "name": "stdout",
     "output_type": "stream",
     "text": [
      "Error: 429 - {\n",
      "  \"error\" : {\n",
      "    \"status\" : 429\n",
      "  }\n",
      "}\n",
      "<bound method Response.json of <Response [429]>>\n",
      "Error: 429 - {\n",
      "  \"error\" : {\n",
      "    \"status\" : 429\n",
      "  }\n",
      "}\n",
      "<bound method Response.json of <Response [429]>>\n"
     ]
    },
    {
     "name": "stderr",
     "output_type": "stream",
     "text": [
      "api_call...:  50%|█████████████▌             | 548/1096 [05:09<01:18,  6.98it/s]"
     ]
    },
    {
     "name": "stdout",
     "output_type": "stream",
     "text": [
      "Error: 429 - {\n",
      "  \"error\" : {\n",
      "    \"status\" : 429\n",
      "  }\n",
      "}\n",
      "<bound method Response.json of <Response [429]>>\n",
      "Error: 429 - {\n",
      "  \"error\" : {\n",
      "    \"status\" : 429\n",
      "  }\n",
      "}\n",
      "<bound method Response.json of <Response [429]>>\n"
     ]
    },
    {
     "name": "stderr",
     "output_type": "stream",
     "text": [
      "api_call...:  50%|█████████████▌             | 550/1096 [05:09<01:15,  7.22it/s]"
     ]
    },
    {
     "name": "stdout",
     "output_type": "stream",
     "text": [
      "Error: 429 - {\n",
      "  \"error\" : {\n",
      "    \"status\" : 429\n",
      "  }\n",
      "}\n",
      "<bound method Response.json of <Response [429]>>\n",
      "Error: 429 - {\n",
      "  \"error\" : {\n",
      "    \"status\" : 429\n",
      "  }\n",
      "}\n",
      "<bound method Response.json of <Response [429]>>\n"
     ]
    },
    {
     "name": "stderr",
     "output_type": "stream",
     "text": [
      "api_call...:  50%|█████████████▌             | 552/1096 [05:10<01:15,  7.22it/s]"
     ]
    },
    {
     "name": "stdout",
     "output_type": "stream",
     "text": [
      "Error: 429 - {\n",
      "  \"error\" : {\n",
      "    \"status\" : 429\n",
      "  }\n",
      "}\n",
      "<bound method Response.json of <Response [429]>>\n",
      "Error: 429 - {\n",
      "  \"error\" : {\n",
      "    \"status\" : 429\n",
      "  }\n",
      "}\n",
      "<bound method Response.json of <Response [429]>>\n"
     ]
    },
    {
     "name": "stderr",
     "output_type": "stream",
     "text": [
      "\r",
      "api_call...:  50%|█████████████▌             | 553/1096 [05:10<01:14,  7.31it/s]"
     ]
    },
    {
     "name": "stdout",
     "output_type": "stream",
     "text": [
      "Error: 429 - {\n",
      "  \"error\" : {\n",
      "    \"status\" : 429\n",
      "  }\n",
      "}\n",
      "<bound method Response.json of <Response [429]>>\n"
     ]
    },
    {
     "name": "stderr",
     "output_type": "stream",
     "text": [
      "api_call...:  51%|█████████████▋             | 555/1096 [05:10<01:26,  6.27it/s]"
     ]
    },
    {
     "name": "stdout",
     "output_type": "stream",
     "text": [
      "Error: 429 - {\n",
      "  \"error\" : {\n",
      "    \"status\" : 429\n",
      "  }\n",
      "}\n",
      "<bound method Response.json of <Response [429]>>\n",
      "Error: 429 - {\n",
      "  \"error\" : {\n",
      "    \"status\" : 429\n",
      "  }\n",
      "}\n",
      "<bound method Response.json of <Response [429]>>\n"
     ]
    },
    {
     "name": "stderr",
     "output_type": "stream",
     "text": [
      "api_call...:  51%|█████████████▋             | 557/1096 [05:11<01:29,  6.00it/s]"
     ]
    },
    {
     "name": "stdout",
     "output_type": "stream",
     "text": [
      "Error: 429 - {\n",
      "  \"error\" : {\n",
      "    \"status\" : 429\n",
      "  }\n",
      "}\n",
      "<bound method Response.json of <Response [429]>>\n",
      "Error: 429 - {\n",
      "  \"error\" : {\n",
      "    \"status\" : 429\n",
      "  }\n",
      "}\n",
      "<bound method Response.json of <Response [429]>>\n"
     ]
    },
    {
     "name": "stderr",
     "output_type": "stream",
     "text": [
      "api_call...:  51%|█████████████▊             | 559/1096 [05:11<01:19,  6.77it/s]"
     ]
    },
    {
     "name": "stdout",
     "output_type": "stream",
     "text": [
      "Error: 429 - {\n",
      "  \"error\" : {\n",
      "    \"status\" : 429\n",
      "  }\n",
      "}\n",
      "<bound method Response.json of <Response [429]>>\n",
      "Error: 429 - {\n",
      "  \"error\" : {\n",
      "    \"status\" : 429\n",
      "  }\n",
      "}\n",
      "<bound method Response.json of <Response [429]>>\n"
     ]
    },
    {
     "name": "stderr",
     "output_type": "stream",
     "text": [
      "api_call...:  51%|█████████████▊             | 561/1096 [05:11<01:16,  7.02it/s]"
     ]
    },
    {
     "name": "stdout",
     "output_type": "stream",
     "text": [
      "Error: 429 - {\n",
      "  \"error\" : {\n",
      "    \"status\" : 429\n",
      "  }\n",
      "}\n",
      "<bound method Response.json of <Response [429]>>\n",
      "Error: 429 - {\n",
      "  \"error\" : {\n",
      "    \"status\" : 429\n",
      "  }\n",
      "}\n",
      "<bound method Response.json of <Response [429]>>\n"
     ]
    },
    {
     "name": "stderr",
     "output_type": "stream",
     "text": [
      "\r",
      "api_call...:  51%|█████████████▊             | 562/1096 [05:11<01:14,  7.15it/s]"
     ]
    },
    {
     "name": "stdout",
     "output_type": "stream",
     "text": [
      "Error: 429 - {\n",
      "  \"error\" : {\n",
      "    \"status\" : 429\n",
      "  }\n",
      "}\n",
      "<bound method Response.json of <Response [429]>>\n"
     ]
    },
    {
     "name": "stderr",
     "output_type": "stream",
     "text": [
      "api_call...:  51%|█████████████▉             | 564/1096 [05:12<01:25,  6.21it/s]"
     ]
    },
    {
     "name": "stdout",
     "output_type": "stream",
     "text": [
      "Error: 429 - {\n",
      "  \"error\" : {\n",
      "    \"status\" : 429\n",
      "  }\n",
      "}\n",
      "<bound method Response.json of <Response [429]>>\n",
      "Error: 429 - {\n",
      "  \"error\" : {\n",
      "    \"status\" : 429\n",
      "  }\n",
      "}\n",
      "<bound method Response.json of <Response [429]>>\n"
     ]
    },
    {
     "name": "stderr",
     "output_type": "stream",
     "text": [
      "api_call...:  52%|█████████████▉             | 566/1096 [05:12<01:13,  7.19it/s]"
     ]
    },
    {
     "name": "stdout",
     "output_type": "stream",
     "text": [
      "Error: 429 - {\n",
      "  \"error\" : {\n",
      "    \"status\" : 429\n",
      "  }\n",
      "}\n",
      "<bound method Response.json of <Response [429]>>\n",
      "Error: 429 - {\n",
      "  \"error\" : {\n",
      "    \"status\" : 429\n",
      "  }\n",
      "}\n",
      "<bound method Response.json of <Response [429]>>\n"
     ]
    },
    {
     "name": "stderr",
     "output_type": "stream",
     "text": [
      "api_call...:  52%|█████████████▉             | 568/1096 [05:12<01:12,  7.26it/s]"
     ]
    },
    {
     "name": "stdout",
     "output_type": "stream",
     "text": [
      "Error: 429 - {\n",
      "  \"error\" : {\n",
      "    \"status\" : 429\n",
      "  }\n",
      "}\n",
      "<bound method Response.json of <Response [429]>>\n",
      "Error: 429 - {\n",
      "  \"error\" : {\n",
      "    \"status\" : 429\n",
      "  }\n",
      "}\n",
      "<bound method Response.json of <Response [429]>>\n"
     ]
    },
    {
     "name": "stderr",
     "output_type": "stream",
     "text": [
      "api_call...:  52%|██████████████             | 570/1096 [05:12<01:12,  7.25it/s]"
     ]
    },
    {
     "name": "stdout",
     "output_type": "stream",
     "text": [
      "Error: 429 - {\n",
      "  \"error\" : {\n",
      "    \"status\" : 429\n",
      "  }\n",
      "}\n",
      "<bound method Response.json of <Response [429]>>\n",
      "Error: 429 - {\n",
      "  \"error\" : {\n",
      "    \"status\" : 429\n",
      "  }\n",
      "}\n",
      "<bound method Response.json of <Response [429]>>\n"
     ]
    },
    {
     "name": "stderr",
     "output_type": "stream",
     "text": [
      "api_call...:  52%|██████████████             | 572/1096 [05:13<01:20,  6.49it/s]"
     ]
    },
    {
     "name": "stdout",
     "output_type": "stream",
     "text": [
      "Error: 429 - {\n",
      "  \"error\" : {\n",
      "    \"status\" : 429\n",
      "  }\n",
      "}\n",
      "<bound method Response.json of <Response [429]>>\n",
      "Error: 429 - {\n",
      "  \"error\" : {\n",
      "    \"status\" : 429\n",
      "  }\n",
      "}\n",
      "<bound method Response.json of <Response [429]>>\n"
     ]
    },
    {
     "name": "stderr",
     "output_type": "stream",
     "text": [
      "api_call...:  52%|██████████████▏            | 574/1096 [05:13<01:20,  6.46it/s]"
     ]
    },
    {
     "name": "stdout",
     "output_type": "stream",
     "text": [
      "Error: 429 - {\n",
      "  \"error\" : {\n",
      "    \"status\" : 429\n",
      "  }\n",
      "}\n",
      "<bound method Response.json of <Response [429]>>\n",
      "Error: 429 - {\n",
      "  \"error\" : {\n",
      "    \"status\" : 429\n",
      "  }\n",
      "}\n",
      "<bound method Response.json of <Response [429]>>\n"
     ]
    },
    {
     "name": "stderr",
     "output_type": "stream",
     "text": [
      "api_call...:  53%|██████████████▏            | 576/1096 [05:13<01:15,  6.91it/s]"
     ]
    },
    {
     "name": "stdout",
     "output_type": "stream",
     "text": [
      "Error: 429 - {\n",
      "  \"error\" : {\n",
      "    \"status\" : 429\n",
      "  }\n",
      "}\n",
      "<bound method Response.json of <Response [429]>>\n",
      "Error: 429 - {\n",
      "  \"error\" : {\n",
      "    \"status\" : 429\n",
      "  }\n",
      "}\n",
      "<bound method Response.json of <Response [429]>>\n"
     ]
    },
    {
     "name": "stderr",
     "output_type": "stream",
     "text": [
      "api_call...:  53%|██████████████▏            | 578/1096 [05:14<01:22,  6.31it/s]"
     ]
    },
    {
     "name": "stdout",
     "output_type": "stream",
     "text": [
      "Error: 429 - {\n",
      "  \"error\" : {\n",
      "    \"status\" : 429\n",
      "  }\n",
      "}\n",
      "<bound method Response.json of <Response [429]>>\n",
      "Error: 429 - {\n",
      "  \"error\" : {\n",
      "    \"status\" : 429\n",
      "  }\n",
      "}\n",
      "<bound method Response.json of <Response [429]>>\n"
     ]
    },
    {
     "name": "stderr",
     "output_type": "stream",
     "text": [
      "api_call...:  53%|██████████████▎            | 580/1096 [05:14<01:15,  6.86it/s]"
     ]
    },
    {
     "name": "stdout",
     "output_type": "stream",
     "text": [
      "Error: 429 - {\n",
      "  \"error\" : {\n",
      "    \"status\" : 429\n",
      "  }\n",
      "}\n",
      "<bound method Response.json of <Response [429]>>\n",
      "Error: 429 - {\n",
      "  \"error\" : {\n",
      "    \"status\" : 429\n",
      "  }\n",
      "}\n",
      "<bound method Response.json of <Response [429]>>\n"
     ]
    },
    {
     "name": "stderr",
     "output_type": "stream",
     "text": [
      "api_call...:  53%|██████████████▎            | 582/1096 [05:14<01:12,  7.07it/s]"
     ]
    },
    {
     "name": "stdout",
     "output_type": "stream",
     "text": [
      "Error: 429 - {\n",
      "  \"error\" : {\n",
      "    \"status\" : 429\n",
      "  }\n",
      "}\n",
      "<bound method Response.json of <Response [429]>>\n",
      "Error: 429 - {\n",
      "  \"error\" : {\n",
      "    \"status\" : 429\n",
      "  }\n",
      "}\n",
      "<bound method Response.json of <Response [429]>>\n"
     ]
    },
    {
     "name": "stderr",
     "output_type": "stream",
     "text": [
      "\r",
      "api_call...:  53%|██████████████▎            | 583/1096 [05:14<01:11,  7.21it/s]"
     ]
    },
    {
     "name": "stdout",
     "output_type": "stream",
     "text": [
      "Error: 429 - {\n",
      "  \"error\" : {\n",
      "    \"status\" : 429\n",
      "  }\n",
      "}\n",
      "<bound method Response.json of <Response [429]>>\n"
     ]
    },
    {
     "name": "stderr",
     "output_type": "stream",
     "text": [
      "api_call...:  53%|██████████████▍            | 585/1096 [05:15<01:22,  6.17it/s]"
     ]
    },
    {
     "name": "stdout",
     "output_type": "stream",
     "text": [
      "Error: 429 - {\n",
      "  \"error\" : {\n",
      "    \"status\" : 429\n",
      "  }\n",
      "}\n",
      "<bound method Response.json of <Response [429]>>\n",
      "Error: 429 - {\n",
      "  \"error\" : {\n",
      "    \"status\" : 429\n",
      "  }\n",
      "}\n",
      "<bound method Response.json of <Response [429]>>\n"
     ]
    },
    {
     "name": "stderr",
     "output_type": "stream",
     "text": [
      "api_call...:  54%|██████████████▍            | 587/1096 [05:15<01:13,  6.89it/s]"
     ]
    },
    {
     "name": "stdout",
     "output_type": "stream",
     "text": [
      "Error: 429 - {\n",
      "  \"error\" : {\n",
      "    \"status\" : 429\n",
      "  }\n",
      "}\n",
      "<bound method Response.json of <Response [429]>>\n",
      "Error: 429 - {\n",
      "  \"error\" : {\n",
      "    \"status\" : 429\n",
      "  }\n",
      "}\n",
      "<bound method Response.json of <Response [429]>>\n"
     ]
    },
    {
     "name": "stderr",
     "output_type": "stream",
     "text": [
      "api_call...:  54%|██████████████▌            | 589/1096 [05:15<01:10,  7.19it/s]"
     ]
    },
    {
     "name": "stdout",
     "output_type": "stream",
     "text": [
      "Error: 429 - {\n",
      "  \"error\" : {\n",
      "    \"status\" : 429\n",
      "  }\n",
      "}\n",
      "<bound method Response.json of <Response [429]>>\n",
      "Error: 429 - {\n",
      "  \"error\" : {\n",
      "    \"status\" : 429\n",
      "  }\n",
      "}\n",
      "<bound method Response.json of <Response [429]>>\n"
     ]
    },
    {
     "name": "stderr",
     "output_type": "stream",
     "text": [
      "\r",
      "api_call...:  54%|██████████████▌            | 590/1096 [05:15<01:09,  7.30it/s]"
     ]
    },
    {
     "name": "stdout",
     "output_type": "stream",
     "text": [
      "Error: 429 - {\n",
      "  \"error\" : {\n",
      "    \"status\" : 429\n",
      "  }\n",
      "}\n",
      "<bound method Response.json of <Response [429]>>\n"
     ]
    },
    {
     "name": "stderr",
     "output_type": "stream",
     "text": [
      "api_call...:  54%|██████████████▌            | 592/1096 [05:16<01:20,  6.25it/s]"
     ]
    },
    {
     "name": "stdout",
     "output_type": "stream",
     "text": [
      "Error: 429 - {\n",
      "  \"error\" : {\n",
      "    \"status\" : 429\n",
      "  }\n",
      "}\n",
      "<bound method Response.json of <Response [429]>>\n",
      "Error: 429 - {\n",
      "  \"error\" : {\n",
      "    \"status\" : 429\n",
      "  }\n",
      "}\n",
      "<bound method Response.json of <Response [429]>>\n"
     ]
    },
    {
     "name": "stderr",
     "output_type": "stream",
     "text": [
      "api_call...:  54%|██████████████▋            | 594/1096 [05:16<01:14,  6.71it/s]"
     ]
    },
    {
     "name": "stdout",
     "output_type": "stream",
     "text": [
      "Error: 429 - {\n",
      "  \"error\" : {\n",
      "    \"status\" : 429\n",
      "  }\n",
      "}\n",
      "<bound method Response.json of <Response [429]>>\n",
      "Error: 429 - {\n",
      "  \"error\" : {\n",
      "    \"status\" : 429\n",
      "  }\n",
      "}\n",
      "<bound method Response.json of <Response [429]>>\n"
     ]
    },
    {
     "name": "stderr",
     "output_type": "stream",
     "text": [
      "api_call...:  54%|██████████████▋            | 596/1096 [05:16<01:24,  5.94it/s]"
     ]
    },
    {
     "name": "stdout",
     "output_type": "stream",
     "text": [
      "Error: 429 - {\n",
      "  \"error\" : {\n",
      "    \"status\" : 429\n",
      "  }\n",
      "}\n",
      "<bound method Response.json of <Response [429]>>\n",
      "Error: 429 - {\n",
      "  \"error\" : {\n",
      "    \"status\" : 429\n",
      "  }\n",
      "}\n",
      "<bound method Response.json of <Response [429]>>\n"
     ]
    },
    {
     "name": "stderr",
     "output_type": "stream",
     "text": [
      "api_call...:  55%|██████████████▋            | 598/1096 [05:17<01:26,  5.73it/s]"
     ]
    },
    {
     "name": "stdout",
     "output_type": "stream",
     "text": [
      "Error: 429 - {\n",
      "  \"error\" : {\n",
      "    \"status\" : 429\n",
      "  }\n",
      "}\n",
      "<bound method Response.json of <Response [429]>>\n",
      "Error: 429 - {\n",
      "  \"error\" : {\n",
      "    \"status\" : 429\n",
      "  }\n",
      "}\n",
      "<bound method Response.json of <Response [429]>>\n"
     ]
    },
    {
     "name": "stderr",
     "output_type": "stream",
     "text": [
      "\r",
      "api_call...:  55%|██████████████▊            | 599/1096 [05:17<01:21,  6.07it/s]"
     ]
    },
    {
     "name": "stdout",
     "output_type": "stream",
     "text": [
      "Error: 429 - {\n",
      "  \"error\" : {\n",
      "    \"status\" : 429\n",
      "  }\n",
      "}\n",
      "<bound method Response.json of <Response [429]>>\n"
     ]
    },
    {
     "name": "stderr",
     "output_type": "stream",
     "text": [
      "\r",
      "api_call...:  55%|██████████████▊            | 600/1096 [05:17<01:35,  5.21it/s]"
     ]
    },
    {
     "name": "stdout",
     "output_type": "stream",
     "text": [
      "Error: 429 - {\n",
      "  \"error\" : {\n",
      "    \"status\" : 429\n",
      "  }\n",
      "}\n",
      "<bound method Response.json of <Response [429]>>\n"
     ]
    },
    {
     "name": "stderr",
     "output_type": "stream",
     "text": [
      "api_call...:  55%|█████████████▋           | 602/1096 [05:53<1:01:59,  7.53s/it]"
     ]
    },
    {
     "name": "stdout",
     "output_type": "stream",
     "text": [
      "Error: 429 - {\n",
      "  \"error\" : {\n",
      "    \"status\" : 429\n",
      "  }\n",
      "}\n",
      "<bound method Response.json of <Response [429]>>\n",
      "Error: 429 - {\n",
      "  \"error\" : {\n",
      "    \"status\" : 429\n",
      "  }\n",
      "}\n",
      "<bound method Response.json of <Response [429]>>\n"
     ]
    },
    {
     "name": "stderr",
     "output_type": "stream",
     "text": [
      "api_call...:  55%|██████████████▉            | 604/1096 [05:53<30:55,  3.77s/it]"
     ]
    },
    {
     "name": "stdout",
     "output_type": "stream",
     "text": [
      "Error: 429 - {\n",
      "  \"error\" : {\n",
      "    \"status\" : 429\n",
      "  }\n",
      "}\n",
      "<bound method Response.json of <Response [429]>>\n",
      "Error: 429 - {\n",
      "  \"error\" : {\n",
      "    \"status\" : 429\n",
      "  }\n",
      "}\n",
      "<bound method Response.json of <Response [429]>>\n"
     ]
    },
    {
     "name": "stderr",
     "output_type": "stream",
     "text": [
      "api_call...:  55%|██████████████▉            | 606/1096 [05:53<15:38,  1.91s/it]"
     ]
    },
    {
     "name": "stdout",
     "output_type": "stream",
     "text": [
      "Error: 429 - {\n",
      "  \"error\" : {\n",
      "    \"status\" : 429\n",
      "  }\n",
      "}\n",
      "<bound method Response.json of <Response [429]>>\n",
      "Error: 429 - {\n",
      "  \"error\" : {\n",
      "    \"status\" : 429\n",
      "  }\n",
      "}\n",
      "<bound method Response.json of <Response [429]>>\n"
     ]
    },
    {
     "name": "stderr",
     "output_type": "stream",
     "text": [
      "\r",
      "api_call...:  55%|██████████████▉            | 607/1096 [05:53<11:35,  1.42s/it]"
     ]
    },
    {
     "name": "stdout",
     "output_type": "stream",
     "text": [
      "Error: 429 - {\n",
      "  \"error\" : {\n",
      "    \"status\" : 429\n",
      "  }\n",
      "}\n",
      "<bound method Response.json of <Response [429]>>\n"
     ]
    },
    {
     "name": "stderr",
     "output_type": "stream",
     "text": [
      "api_call...:  56%|███████████████            | 609/1096 [05:54<06:22,  1.27it/s]"
     ]
    },
    {
     "name": "stdout",
     "output_type": "stream",
     "text": [
      "Error: 429 - {\n",
      "  \"error\" : {\n",
      "    \"status\" : 429\n",
      "  }\n",
      "}\n",
      "<bound method Response.json of <Response [429]>>\n",
      "Error: 429 - {\n",
      "  \"error\" : {\n",
      "    \"status\" : 429\n",
      "  }\n",
      "}\n",
      "<bound method Response.json of <Response [429]>>\n"
     ]
    },
    {
     "name": "stderr",
     "output_type": "stream",
     "text": [
      "api_call...:  56%|███████████████            | 611/1096 [05:54<03:39,  2.21it/s]"
     ]
    },
    {
     "name": "stdout",
     "output_type": "stream",
     "text": [
      "Error: 429 - {\n",
      "  \"error\" : {\n",
      "    \"status\" : 429\n",
      "  }\n",
      "}\n",
      "<bound method Response.json of <Response [429]>>\n",
      "Error: 429 - {\n",
      "  \"error\" : {\n",
      "    \"status\" : 429\n",
      "  }\n",
      "}\n",
      "<bound method Response.json of <Response [429]>>\n"
     ]
    },
    {
     "name": "stderr",
     "output_type": "stream",
     "text": [
      "api_call...:  56%|███████████████            | 613/1096 [05:54<02:20,  3.44it/s]"
     ]
    },
    {
     "name": "stdout",
     "output_type": "stream",
     "text": [
      "Error: 429 - {\n",
      "  \"error\" : {\n",
      "    \"status\" : 429\n",
      "  }\n",
      "}\n",
      "<bound method Response.json of <Response [429]>>\n",
      "Error: 429 - {\n",
      "  \"error\" : {\n",
      "    \"status\" : 429\n",
      "  }\n",
      "}\n",
      "<bound method Response.json of <Response [429]>>\n"
     ]
    },
    {
     "name": "stderr",
     "output_type": "stream",
     "text": [
      "api_call...:  56%|███████████████▏           | 615/1096 [05:55<01:51,  4.32it/s]"
     ]
    },
    {
     "name": "stdout",
     "output_type": "stream",
     "text": [
      "Error: 429 - {\n",
      "  \"error\" : {\n",
      "    \"status\" : 429\n",
      "  }\n",
      "}\n",
      "<bound method Response.json of <Response [429]>>\n",
      "Error: 429 - {\n",
      "  \"error\" : {\n",
      "    \"status\" : 429\n",
      "  }\n",
      "}\n",
      "<bound method Response.json of <Response [429]>>\n"
     ]
    },
    {
     "name": "stderr",
     "output_type": "stream",
     "text": [
      "api_call...:  56%|███████████████▏           | 617/1096 [05:55<01:30,  5.30it/s]"
     ]
    },
    {
     "name": "stdout",
     "output_type": "stream",
     "text": [
      "Error: 429 - {\n",
      "  \"error\" : {\n",
      "    \"status\" : 429\n",
      "  }\n",
      "}\n",
      "<bound method Response.json of <Response [429]>>\n",
      "Error: 429 - {\n",
      "  \"error\" : {\n",
      "    \"status\" : 429\n",
      "  }\n",
      "}\n",
      "<bound method Response.json of <Response [429]>>\n"
     ]
    },
    {
     "name": "stderr",
     "output_type": "stream",
     "text": [
      "api_call...:  56%|███████████████▏           | 619/1096 [05:55<01:15,  6.28it/s]"
     ]
    },
    {
     "name": "stdout",
     "output_type": "stream",
     "text": [
      "Error: 429 - {\n",
      "  \"error\" : {\n",
      "    \"status\" : 429\n",
      "  }\n",
      "}\n",
      "<bound method Response.json of <Response [429]>>\n",
      "Error: 429 - {\n",
      "  \"error\" : {\n",
      "    \"status\" : 429\n",
      "  }\n",
      "}\n",
      "<bound method Response.json of <Response [429]>>\n"
     ]
    },
    {
     "name": "stderr",
     "output_type": "stream",
     "text": [
      "api_call...:  57%|███████████████▎           | 621/1096 [05:56<01:21,  5.86it/s]"
     ]
    },
    {
     "name": "stdout",
     "output_type": "stream",
     "text": [
      "Error: 429 - {\n",
      "  \"error\" : {\n",
      "    \"status\" : 429\n",
      "  }\n",
      "}\n",
      "<bound method Response.json of <Response [429]>>\n",
      "Error: 429 - {\n",
      "  \"error\" : {\n",
      "    \"status\" : 429\n",
      "  }\n",
      "}\n",
      "<bound method Response.json of <Response [429]>>\n"
     ]
    },
    {
     "name": "stderr",
     "output_type": "stream",
     "text": [
      "api_call...:  57%|███████████████▎           | 623/1096 [05:56<01:11,  6.62it/s]"
     ]
    },
    {
     "name": "stdout",
     "output_type": "stream",
     "text": [
      "Error: 429 - {\n",
      "  \"error\" : {\n",
      "    \"status\" : 429\n",
      "  }\n",
      "}\n",
      "<bound method Response.json of <Response [429]>>\n",
      "Error: 429 - {\n",
      "  \"error\" : {\n",
      "    \"status\" : 429\n",
      "  }\n",
      "}\n",
      "<bound method Response.json of <Response [429]>>\n"
     ]
    },
    {
     "name": "stderr",
     "output_type": "stream",
     "text": [
      "api_call...:  57%|███████████████▍           | 625/1096 [05:56<01:13,  6.41it/s]"
     ]
    },
    {
     "name": "stdout",
     "output_type": "stream",
     "text": [
      "Error: 429 - {\n",
      "  \"error\" : {\n",
      "    \"status\" : 429\n",
      "  }\n",
      "}\n",
      "<bound method Response.json of <Response [429]>>\n",
      "Error: 429 - {\n",
      "  \"error\" : {\n",
      "    \"status\" : 429\n",
      "  }\n",
      "}\n",
      "<bound method Response.json of <Response [429]>>\n"
     ]
    },
    {
     "name": "stderr",
     "output_type": "stream",
     "text": [
      "\r",
      "api_call...:  57%|███████████████▍           | 626/1096 [05:56<01:17,  6.09it/s]"
     ]
    },
    {
     "name": "stdout",
     "output_type": "stream",
     "text": [
      "Error: 429 - {\n",
      "  \"error\" : {\n",
      "    \"status\" : 429\n",
      "  }\n",
      "}\n",
      "<bound method Response.json of <Response [429]>>\n"
     ]
    },
    {
     "name": "stderr",
     "output_type": "stream",
     "text": [
      "\r",
      "api_call...:  57%|███████████████▍           | 627/1096 [05:57<01:55,  4.06it/s]"
     ]
    },
    {
     "name": "stdout",
     "output_type": "stream",
     "text": [
      "Error: 429 - {\n",
      "  \"error\" : {\n",
      "    \"status\" : 429\n",
      "  }\n",
      "}\n",
      "<bound method Response.json of <Response [429]>>\n"
     ]
    },
    {
     "name": "stderr",
     "output_type": "stream",
     "text": [
      "\r",
      "api_call...:  57%|███████████████▍           | 628/1096 [05:57<01:51,  4.21it/s]"
     ]
    },
    {
     "name": "stdout",
     "output_type": "stream",
     "text": [
      "Error: 429 - {\n",
      "  \"error\" : {\n",
      "    \"status\" : 429\n",
      "  }\n",
      "}\n",
      "<bound method Response.json of <Response [429]>>\n"
     ]
    },
    {
     "name": "stderr",
     "output_type": "stream",
     "text": [
      "api_call...:  57%|███████████████▌           | 630/1096 [05:58<02:06,  3.67it/s]"
     ]
    },
    {
     "name": "stdout",
     "output_type": "stream",
     "text": [
      "Error: 429 - {\n",
      "  \"error\" : {\n",
      "    \"status\" : 429\n",
      "  }\n",
      "}\n",
      "<bound method Response.json of <Response [429]>>\n",
      "Error: 429 - {\n",
      "  \"error\" : {\n",
      "    \"status\" : 429\n",
      "  }\n",
      "}\n",
      "<bound method Response.json of <Response [429]>>\n"
     ]
    },
    {
     "name": "stderr",
     "output_type": "stream",
     "text": [
      "api_call...:  58%|███████████████▌           | 632/1096 [05:58<01:30,  5.10it/s]"
     ]
    },
    {
     "name": "stdout",
     "output_type": "stream",
     "text": [
      "Error: 429 - {\n",
      "  \"error\" : {\n",
      "    \"status\" : 429\n",
      "  }\n",
      "}\n",
      "<bound method Response.json of <Response [429]>>\n",
      "Error: 429 - {\n",
      "  \"error\" : {\n",
      "    \"status\" : 429\n",
      "  }\n",
      "}\n",
      "<bound method Response.json of <Response [429]>>\n"
     ]
    },
    {
     "name": "stderr",
     "output_type": "stream",
     "text": [
      "api_call...:  58%|███████████████▌           | 634/1096 [05:58<01:21,  5.68it/s]"
     ]
    },
    {
     "name": "stdout",
     "output_type": "stream",
     "text": [
      "Error: 429 - {\n",
      "  \"error\" : {\n",
      "    \"status\" : 429\n",
      "  }\n",
      "}\n",
      "<bound method Response.json of <Response [429]>>\n",
      "Error: 429 - {\n",
      "  \"error\" : {\n",
      "    \"status\" : 429\n",
      "  }\n",
      "}\n",
      "<bound method Response.json of <Response [429]>>\n"
     ]
    },
    {
     "name": "stderr",
     "output_type": "stream",
     "text": [
      "\r",
      "api_call...:  58%|███████████████▋           | 635/1096 [05:59<01:22,  5.60it/s]"
     ]
    },
    {
     "name": "stdout",
     "output_type": "stream",
     "text": [
      "Error: 429 - {\n",
      "  \"error\" : {\n",
      "    \"status\" : 429\n",
      "  }\n",
      "}\n",
      "<bound method Response.json of <Response [429]>>\n"
     ]
    },
    {
     "name": "stderr",
     "output_type": "stream",
     "text": [
      "\r",
      "api_call...:  58%|███████████████▋           | 636/1096 [05:59<01:28,  5.22it/s]"
     ]
    },
    {
     "name": "stdout",
     "output_type": "stream",
     "text": [
      "Error: 429 - {\n",
      "  \"error\" : {\n",
      "    \"status\" : 429\n",
      "  }\n",
      "}\n",
      "<bound method Response.json of <Response [429]>>\n"
     ]
    },
    {
     "name": "stderr",
     "output_type": "stream",
     "text": [
      "api_call...:  58%|███████████████▋           | 638/1096 [05:59<01:46,  4.29it/s]"
     ]
    },
    {
     "name": "stdout",
     "output_type": "stream",
     "text": [
      "Error: 429 - {\n",
      "  \"error\" : {\n",
      "    \"status\" : 429\n",
      "  }\n",
      "}\n",
      "<bound method Response.json of <Response [429]>>\n",
      "Error: 429 - {\n",
      "  \"error\" : {\n",
      "    \"status\" : 429\n",
      "  }\n",
      "}\n",
      "<bound method Response.json of <Response [429]>>\n"
     ]
    },
    {
     "name": "stderr",
     "output_type": "stream",
     "text": [
      "\r",
      "api_call...:  58%|███████████████▋           | 639/1096 [06:00<01:46,  4.29it/s]"
     ]
    },
    {
     "name": "stdout",
     "output_type": "stream",
     "text": [
      "Error: 429 - {\n",
      "  \"error\" : {\n",
      "    \"status\" : 429\n",
      "  }\n",
      "}\n",
      "<bound method Response.json of <Response [429]>>\n"
     ]
    },
    {
     "name": "stderr",
     "output_type": "stream",
     "text": [
      "api_call...:  58%|███████████████▊           | 641/1096 [06:00<01:33,  4.88it/s]"
     ]
    },
    {
     "name": "stdout",
     "output_type": "stream",
     "text": [
      "Error: 429 - {\n",
      "  \"error\" : {\n",
      "    \"status\" : 429\n",
      "  }\n",
      "}\n",
      "<bound method Response.json of <Response [429]>>\n",
      "Error: 429 - {\n",
      "  \"error\" : {\n",
      "    \"status\" : 429\n",
      "  }\n",
      "}\n",
      "<bound method Response.json of <Response [429]>>\n"
     ]
    },
    {
     "name": "stderr",
     "output_type": "stream",
     "text": [
      "api_call...:  59%|███████████████▊           | 643/1096 [06:00<01:18,  5.78it/s]"
     ]
    },
    {
     "name": "stdout",
     "output_type": "stream",
     "text": [
      "Error: 429 - {\n",
      "  \"error\" : {\n",
      "    \"status\" : 429\n",
      "  }\n",
      "}\n",
      "<bound method Response.json of <Response [429]>>\n",
      "Error: 429 - {\n",
      "  \"error\" : {\n",
      "    \"status\" : 429\n",
      "  }\n",
      "}\n",
      "<bound method Response.json of <Response [429]>>\n"
     ]
    },
    {
     "name": "stderr",
     "output_type": "stream",
     "text": [
      "api_call...:  59%|███████████████▉           | 645/1096 [06:00<01:06,  6.78it/s]"
     ]
    },
    {
     "name": "stdout",
     "output_type": "stream",
     "text": [
      "Error: 429 - {\n",
      "  \"error\" : {\n",
      "    \"status\" : 429\n",
      "  }\n",
      "}\n",
      "<bound method Response.json of <Response [429]>>\n",
      "Error: 429 - {\n",
      "  \"error\" : {\n",
      "    \"status\" : 429\n",
      "  }\n",
      "}\n",
      "<bound method Response.json of <Response [429]>>\n"
     ]
    },
    {
     "name": "stderr",
     "output_type": "stream",
     "text": [
      "\r",
      "api_call...:  59%|███████████████▉           | 646/1096 [06:01<01:05,  6.85it/s]"
     ]
    },
    {
     "name": "stdout",
     "output_type": "stream",
     "text": [
      "Error: 429 - {\n",
      "  \"error\" : {\n",
      "    \"status\" : 429\n",
      "  }\n",
      "}\n",
      "<bound method Response.json of <Response [429]>>\n"
     ]
    },
    {
     "name": "stderr",
     "output_type": "stream",
     "text": [
      "api_call...:  59%|███████████████▉           | 648/1096 [06:01<01:17,  5.76it/s]"
     ]
    },
    {
     "name": "stdout",
     "output_type": "stream",
     "text": [
      "Error: 429 - {\n",
      "  \"error\" : {\n",
      "    \"status\" : 429\n",
      "  }\n",
      "}\n",
      "<bound method Response.json of <Response [429]>>\n",
      "Error: 429 - {\n",
      "  \"error\" : {\n",
      "    \"status\" : 429\n",
      "  }\n",
      "}\n",
      "<bound method Response.json of <Response [429]>>\n"
     ]
    },
    {
     "name": "stderr",
     "output_type": "stream",
     "text": [
      "\r",
      "api_call...:  59%|███████████████▉           | 649/1096 [06:01<01:11,  6.24it/s]"
     ]
    },
    {
     "name": "stdout",
     "output_type": "stream",
     "text": [
      "Error: 429 - {\n",
      "  \"error\" : {\n",
      "    \"status\" : 429\n",
      "  }\n",
      "}\n",
      "<bound method Response.json of <Response [429]>>\n"
     ]
    },
    {
     "name": "stderr",
     "output_type": "stream",
     "text": [
      "api_call...:  59%|████████████████           | 651/1096 [06:02<01:16,  5.83it/s]"
     ]
    },
    {
     "name": "stdout",
     "output_type": "stream",
     "text": [
      "Error: 429 - {\n",
      "  \"error\" : {\n",
      "    \"status\" : 429\n",
      "  }\n",
      "}\n",
      "<bound method Response.json of <Response [429]>>\n",
      "Error: 429 - {\n",
      "  \"error\" : {\n",
      "    \"status\" : 429\n",
      "  }\n",
      "}\n",
      "<bound method Response.json of <Response [429]>>\n"
     ]
    },
    {
     "name": "stderr",
     "output_type": "stream",
     "text": [
      "\r",
      "api_call...:  59%|████████████████           | 652/1096 [06:02<01:11,  6.21it/s]"
     ]
    },
    {
     "name": "stdout",
     "output_type": "stream",
     "text": [
      "Error: 429 - {\n",
      "  \"error\" : {\n",
      "    \"status\" : 429\n",
      "  }\n",
      "}\n",
      "<bound method Response.json of <Response [429]>>\n"
     ]
    },
    {
     "name": "stderr",
     "output_type": "stream",
     "text": [
      "api_call...:  60%|████████████████           | 654/1096 [06:02<01:12,  6.08it/s]"
     ]
    },
    {
     "name": "stdout",
     "output_type": "stream",
     "text": [
      "Error: 429 - {\n",
      "  \"error\" : {\n",
      "    \"status\" : 429\n",
      "  }\n",
      "}\n",
      "<bound method Response.json of <Response [429]>>\n",
      "Error: 429 - {\n",
      "  \"error\" : {\n",
      "    \"status\" : 429\n",
      "  }\n",
      "}\n",
      "<bound method Response.json of <Response [429]>>\n"
     ]
    },
    {
     "name": "stderr",
     "output_type": "stream",
     "text": [
      "api_call...:  60%|████████████████▏          | 656/1096 [06:02<01:11,  6.13it/s]"
     ]
    },
    {
     "name": "stdout",
     "output_type": "stream",
     "text": [
      "Error: 429 - {\n",
      "  \"error\" : {\n",
      "    \"status\" : 429\n",
      "  }\n",
      "}\n",
      "<bound method Response.json of <Response [429]>>\n",
      "Error: 429 - {\n",
      "  \"error\" : {\n",
      "    \"status\" : 429\n",
      "  }\n",
      "}\n",
      "<bound method Response.json of <Response [429]>>\n"
     ]
    },
    {
     "name": "stderr",
     "output_type": "stream",
     "text": [
      "api_call...:  60%|████████████████▏          | 658/1096 [06:03<01:04,  6.80it/s]"
     ]
    },
    {
     "name": "stdout",
     "output_type": "stream",
     "text": [
      "Error: 429 - {\n",
      "  \"error\" : {\n",
      "    \"status\" : 429\n",
      "  }\n",
      "}\n",
      "<bound method Response.json of <Response [429]>>\n",
      "Error: 429 - {\n",
      "  \"error\" : {\n",
      "    \"status\" : 429\n",
      "  }\n",
      "}\n",
      "<bound method Response.json of <Response [429]>>\n"
     ]
    },
    {
     "name": "stderr",
     "output_type": "stream",
     "text": [
      "api_call...:  60%|████████████████▎          | 660/1096 [06:03<01:11,  6.08it/s]"
     ]
    },
    {
     "name": "stdout",
     "output_type": "stream",
     "text": [
      "Error: 429 - {\n",
      "  \"error\" : {\n",
      "    \"status\" : 429\n",
      "  }\n",
      "}\n",
      "<bound method Response.json of <Response [429]>>\n",
      "Error: 429 - {\n",
      "  \"error\" : {\n",
      "    \"status\" : 429\n",
      "  }\n",
      "}\n",
      "<bound method Response.json of <Response [429]>>\n"
     ]
    },
    {
     "name": "stderr",
     "output_type": "stream",
     "text": [
      "api_call...:  60%|████████████████▎          | 662/1096 [06:03<01:04,  6.69it/s]"
     ]
    },
    {
     "name": "stdout",
     "output_type": "stream",
     "text": [
      "Error: 429 - {\n",
      "  \"error\" : {\n",
      "    \"status\" : 429\n",
      "  }\n",
      "}\n",
      "<bound method Response.json of <Response [429]>>\n",
      "Error: 429 - {\n",
      "  \"error\" : {\n",
      "    \"status\" : 429\n",
      "  }\n",
      "}\n",
      "<bound method Response.json of <Response [429]>>\n"
     ]
    },
    {
     "name": "stderr",
     "output_type": "stream",
     "text": [
      "api_call...:  61%|████████████████▎          | 664/1096 [06:04<01:09,  6.17it/s]"
     ]
    },
    {
     "name": "stdout",
     "output_type": "stream",
     "text": [
      "Error: 429 - {\n",
      "  \"error\" : {\n",
      "    \"status\" : 429\n",
      "  }\n",
      "}\n",
      "<bound method Response.json of <Response [429]>>\n",
      "Error: 429 - {\n",
      "  \"error\" : {\n",
      "    \"status\" : 429\n",
      "  }\n",
      "}\n",
      "<bound method Response.json of <Response [429]>>\n"
     ]
    },
    {
     "name": "stderr",
     "output_type": "stream",
     "text": [
      "api_call...:  61%|████████████████▍          | 666/1096 [06:04<01:05,  6.55it/s]"
     ]
    },
    {
     "name": "stdout",
     "output_type": "stream",
     "text": [
      "Error: 429 - {\n",
      "  \"error\" : {\n",
      "    \"status\" : 429\n",
      "  }\n",
      "}\n",
      "<bound method Response.json of <Response [429]>>\n",
      "Error: 429 - {\n",
      "  \"error\" : {\n",
      "    \"status\" : 429\n",
      "  }\n",
      "}\n",
      "<bound method Response.json of <Response [429]>>\n"
     ]
    },
    {
     "name": "stderr",
     "output_type": "stream",
     "text": [
      "api_call...:  61%|████████████████▍          | 668/1096 [06:04<00:59,  7.17it/s]"
     ]
    },
    {
     "name": "stdout",
     "output_type": "stream",
     "text": [
      "Error: 429 - {\n",
      "  \"error\" : {\n",
      "    \"status\" : 429\n",
      "  }\n",
      "}\n",
      "<bound method Response.json of <Response [429]>>\n",
      "Error: 429 - {\n",
      "  \"error\" : {\n",
      "    \"status\" : 429\n",
      "  }\n",
      "}\n",
      "<bound method Response.json of <Response [429]>>\n"
     ]
    },
    {
     "name": "stderr",
     "output_type": "stream",
     "text": [
      "\r",
      "api_call...:  61%|████████████████▍          | 669/1096 [06:04<01:01,  6.93it/s]"
     ]
    },
    {
     "name": "stdout",
     "output_type": "stream",
     "text": [
      "Error: 429 - {\n",
      "  \"error\" : {\n",
      "    \"status\" : 429\n",
      "  }\n",
      "}\n",
      "<bound method Response.json of <Response [429]>>\n"
     ]
    },
    {
     "name": "stderr",
     "output_type": "stream",
     "text": [
      "api_call...:  61%|████████████████▌          | 671/1096 [06:05<01:08,  6.21it/s]"
     ]
    },
    {
     "name": "stdout",
     "output_type": "stream",
     "text": [
      "Error: 429 - {\n",
      "  \"error\" : {\n",
      "    \"status\" : 429\n",
      "  }\n",
      "}\n",
      "<bound method Response.json of <Response [429]>>\n",
      "Error: 429 - {\n",
      "  \"error\" : {\n",
      "    \"status\" : 429\n",
      "  }\n",
      "}\n",
      "<bound method Response.json of <Response [429]>>\n"
     ]
    },
    {
     "name": "stderr",
     "output_type": "stream",
     "text": [
      "\r",
      "api_call...:  61%|████████████████▌          | 672/1096 [06:05<01:05,  6.50it/s]"
     ]
    },
    {
     "name": "stdout",
     "output_type": "stream",
     "text": [
      "Error: 429 - {\n",
      "  \"error\" : {\n",
      "    \"status\" : 429\n",
      "  }\n",
      "}\n",
      "<bound method Response.json of <Response [429]>>\n"
     ]
    },
    {
     "name": "stderr",
     "output_type": "stream",
     "text": [
      "api_call...:  61%|████████████████▌          | 674/1096 [06:05<01:07,  6.29it/s]"
     ]
    },
    {
     "name": "stdout",
     "output_type": "stream",
     "text": [
      "Error: 429 - {\n",
      "  \"error\" : {\n",
      "    \"status\" : 429\n",
      "  }\n",
      "}\n",
      "<bound method Response.json of <Response [429]>>\n",
      "Error: 429 - {\n",
      "  \"error\" : {\n",
      "    \"status\" : 429\n",
      "  }\n",
      "}\n",
      "<bound method Response.json of <Response [429]>>\n"
     ]
    },
    {
     "name": "stderr",
     "output_type": "stream",
     "text": [
      "api_call...:  62%|████████████████▋          | 676/1096 [06:05<01:08,  6.17it/s]"
     ]
    },
    {
     "name": "stdout",
     "output_type": "stream",
     "text": [
      "Error: 429 - {\n",
      "  \"error\" : {\n",
      "    \"status\" : 429\n",
      "  }\n",
      "}\n",
      "<bound method Response.json of <Response [429]>>\n",
      "Error: 429 - {\n",
      "  \"error\" : {\n",
      "    \"status\" : 429\n",
      "  }\n",
      "}\n",
      "<bound method Response.json of <Response [429]>>\n"
     ]
    },
    {
     "name": "stderr",
     "output_type": "stream",
     "text": [
      "api_call...:  62%|████████████████▋          | 678/1096 [06:06<01:01,  6.83it/s]"
     ]
    },
    {
     "name": "stdout",
     "output_type": "stream",
     "text": [
      "Error: 429 - {\n",
      "  \"error\" : {\n",
      "    \"status\" : 429\n",
      "  }\n",
      "}\n",
      "<bound method Response.json of <Response [429]>>\n",
      "Error: 429 - {\n",
      "  \"error\" : {\n",
      "    \"status\" : 429\n",
      "  }\n",
      "}\n",
      "<bound method Response.json of <Response [429]>>\n"
     ]
    },
    {
     "name": "stderr",
     "output_type": "stream",
     "text": [
      "api_call...:  62%|████████████████▊          | 680/1096 [06:06<01:09,  6.00it/s]"
     ]
    },
    {
     "name": "stdout",
     "output_type": "stream",
     "text": [
      "Error: 429 - {\n",
      "  \"error\" : {\n",
      "    \"status\" : 429\n",
      "  }\n",
      "}\n",
      "<bound method Response.json of <Response [429]>>\n",
      "Error: 429 - {\n",
      "  \"error\" : {\n",
      "    \"status\" : 429\n",
      "  }\n",
      "}\n",
      "<bound method Response.json of <Response [429]>>\n"
     ]
    },
    {
     "name": "stderr",
     "output_type": "stream",
     "text": [
      "api_call...:  62%|████████████████▊          | 682/1096 [06:06<01:01,  6.76it/s]"
     ]
    },
    {
     "name": "stdout",
     "output_type": "stream",
     "text": [
      "Error: 429 - {\n",
      "  \"error\" : {\n",
      "    \"status\" : 429\n",
      "  }\n",
      "}\n",
      "<bound method Response.json of <Response [429]>>\n",
      "Error: 429 - {\n",
      "  \"error\" : {\n",
      "    \"status\" : 429\n",
      "  }\n",
      "}\n",
      "<bound method Response.json of <Response [429]>>\n"
     ]
    },
    {
     "name": "stderr",
     "output_type": "stream",
     "text": [
      "api_call...:  62%|████████████████▊          | 684/1096 [06:07<01:44,  3.94it/s]"
     ]
    },
    {
     "name": "stdout",
     "output_type": "stream",
     "text": [
      "Error: 429 - {\n",
      "  \"error\" : {\n",
      "    \"status\" : 429\n",
      "  }\n",
      "}\n",
      "<bound method Response.json of <Response [429]>>\n",
      "Error: 429 - {\n",
      "  \"error\" : {\n",
      "    \"status\" : 429\n",
      "  }\n",
      "}\n",
      "<bound method Response.json of <Response [429]>>\n"
     ]
    },
    {
     "name": "stderr",
     "output_type": "stream",
     "text": [
      "api_call...:  63%|████████████████▉          | 686/1096 [06:07<01:18,  5.23it/s]"
     ]
    },
    {
     "name": "stdout",
     "output_type": "stream",
     "text": [
      "Error: 429 - {\n",
      "  \"error\" : {\n",
      "    \"status\" : 429\n",
      "  }\n",
      "}\n",
      "<bound method Response.json of <Response [429]>>\n",
      "Error: 429 - {\n",
      "  \"error\" : {\n",
      "    \"status\" : 429\n",
      "  }\n",
      "}\n",
      "<bound method Response.json of <Response [429]>>\n"
     ]
    },
    {
     "name": "stderr",
     "output_type": "stream",
     "text": [
      "api_call...:  63%|████████████████▉          | 688/1096 [06:08<01:13,  5.52it/s]"
     ]
    },
    {
     "name": "stdout",
     "output_type": "stream",
     "text": [
      "Error: 429 - {\n",
      "  \"error\" : {\n",
      "    \"status\" : 429\n",
      "  }\n",
      "}\n",
      "<bound method Response.json of <Response [429]>>\n",
      "Error: 429 - {\n",
      "  \"error\" : {\n",
      "    \"status\" : 429\n",
      "  }\n",
      "}\n",
      "<bound method Response.json of <Response [429]>>\n"
     ]
    },
    {
     "name": "stderr",
     "output_type": "stream",
     "text": [
      "\r",
      "api_call...:  63%|████████████████▉          | 689/1096 [06:08<01:09,  5.82it/s]"
     ]
    },
    {
     "name": "stdout",
     "output_type": "stream",
     "text": [
      "Error: 429 - {\n",
      "  \"error\" : {\n",
      "    \"status\" : 429\n",
      "  }\n",
      "}\n",
      "<bound method Response.json of <Response [429]>>\n"
     ]
    },
    {
     "name": "stderr",
     "output_type": "stream",
     "text": [
      "\r",
      "api_call...:  63%|████████████████▉          | 690/1096 [06:08<01:53,  3.56it/s]"
     ]
    },
    {
     "name": "stdout",
     "output_type": "stream",
     "text": [
      "Error: 429 - {\n",
      "  \"error\" : {\n",
      "    \"status\" : 429\n",
      "  }\n",
      "}\n",
      "<bound method Response.json of <Response [429]>>\n"
     ]
    },
    {
     "name": "stderr",
     "output_type": "stream",
     "text": [
      "api_call...:  63%|█████████████████          | 692/1096 [06:09<01:28,  4.58it/s]"
     ]
    },
    {
     "name": "stdout",
     "output_type": "stream",
     "text": [
      "Error: 429 - {\n",
      "  \"error\" : {\n",
      "    \"status\" : 429\n",
      "  }\n",
      "}\n",
      "<bound method Response.json of <Response [429]>>\n",
      "Error: 429 - {\n",
      "  \"error\" : {\n",
      "    \"status\" : 429\n",
      "  }\n",
      "}\n",
      "<bound method Response.json of <Response [429]>>\n"
     ]
    },
    {
     "name": "stderr",
     "output_type": "stream",
     "text": [
      "api_call...:  63%|█████████████████          | 694/1096 [06:09<01:14,  5.41it/s]"
     ]
    },
    {
     "name": "stdout",
     "output_type": "stream",
     "text": [
      "Error: 429 - {\n",
      "  \"error\" : {\n",
      "    \"status\" : 429\n",
      "  }\n",
      "}\n",
      "<bound method Response.json of <Response [429]>>\n",
      "Error: 429 - {\n",
      "  \"error\" : {\n",
      "    \"status\" : 429\n",
      "  }\n",
      "}\n",
      "<bound method Response.json of <Response [429]>>\n"
     ]
    },
    {
     "name": "stderr",
     "output_type": "stream",
     "text": [
      "api_call...:  64%|█████████████████▏         | 696/1096 [06:09<01:02,  6.37it/s]"
     ]
    },
    {
     "name": "stdout",
     "output_type": "stream",
     "text": [
      "Error: 429 - {\n",
      "  \"error\" : {\n",
      "    \"status\" : 429\n",
      "  }\n",
      "}\n",
      "<bound method Response.json of <Response [429]>>\n",
      "Error: 429 - {\n",
      "  \"error\" : {\n",
      "    \"status\" : 429\n",
      "  }\n",
      "}\n",
      "<bound method Response.json of <Response [429]>>\n"
     ]
    },
    {
     "name": "stderr",
     "output_type": "stream",
     "text": [
      "\r",
      "api_call...:  64%|█████████████████▏         | 697/1096 [06:10<00:59,  6.69it/s]"
     ]
    },
    {
     "name": "stdout",
     "output_type": "stream",
     "text": [
      "Error: 429 - {\n",
      "  \"error\" : {\n",
      "    \"status\" : 429\n",
      "  }\n",
      "}\n",
      "<bound method Response.json of <Response [429]>>\n"
     ]
    },
    {
     "name": "stderr",
     "output_type": "stream",
     "text": [
      "api_call...:  64%|█████████████████▏         | 699/1096 [06:10<01:02,  6.30it/s]"
     ]
    },
    {
     "name": "stdout",
     "output_type": "stream",
     "text": [
      "Error: 429 - {\n",
      "  \"error\" : {\n",
      "    \"status\" : 429\n",
      "  }\n",
      "}\n",
      "<bound method Response.json of <Response [429]>>\n",
      "Error: 429 - {\n",
      "  \"error\" : {\n",
      "    \"status\" : 429\n",
      "  }\n",
      "}\n",
      "<bound method Response.json of <Response [429]>>\n"
     ]
    },
    {
     "name": "stderr",
     "output_type": "stream",
     "text": [
      "\r",
      "api_call...:  64%|█████████████████▏         | 700/1096 [06:10<01:04,  6.18it/s]"
     ]
    },
    {
     "name": "stdout",
     "output_type": "stream",
     "text": [
      "Error: 429 - {\n",
      "  \"error\" : {\n",
      "    \"status\" : 429\n",
      "  }\n",
      "}\n",
      "<bound method Response.json of <Response [429]>>\n"
     ]
    },
    {
     "name": "stderr",
     "output_type": "stream",
     "text": [
      "\r",
      "api_call...:  64%|███████████████▉         | 701/1096 [06:45<1:10:10, 10.66s/it]"
     ]
    },
    {
     "name": "stdout",
     "output_type": "stream",
     "text": [
      "Error: 429 - {\n",
      "  \"error\" : {\n",
      "    \"status\" : 429\n",
      "  }\n",
      "}\n",
      "<bound method Response.json of <Response [429]>>\n"
     ]
    },
    {
     "name": "stderr",
     "output_type": "stream",
     "text": [
      "api_call...:  64%|█████████████████▎         | 703/1096 [06:46<34:46,  5.31s/it]"
     ]
    },
    {
     "name": "stdout",
     "output_type": "stream",
     "text": [
      "Error: 429 - {\n",
      "  \"error\" : {\n",
      "    \"status\" : 429\n",
      "  }\n",
      "}\n",
      "<bound method Response.json of <Response [429]>>\n",
      "Error: 429 - {\n",
      "  \"error\" : {\n",
      "    \"status\" : 429\n",
      "  }\n",
      "}\n",
      "<bound method Response.json of <Response [429]>>\n"
     ]
    },
    {
     "name": "stderr",
     "output_type": "stream",
     "text": [
      "api_call...:  64%|█████████████████▎         | 705/1096 [06:46<17:24,  2.67s/it]"
     ]
    },
    {
     "name": "stdout",
     "output_type": "stream",
     "text": [
      "Error: 429 - {\n",
      "  \"error\" : {\n",
      "    \"status\" : 429\n",
      "  }\n",
      "}\n",
      "<bound method Response.json of <Response [429]>>\n",
      "Error: 429 - {\n",
      "  \"error\" : {\n",
      "    \"status\" : 429\n",
      "  }\n",
      "}\n",
      "<bound method Response.json of <Response [429]>>\n"
     ]
    },
    {
     "name": "stderr",
     "output_type": "stream",
     "text": [
      "api_call...:  65%|█████████████████▍         | 707/1096 [06:46<08:54,  1.37s/it]"
     ]
    },
    {
     "name": "stdout",
     "output_type": "stream",
     "text": [
      "Error: 429 - {\n",
      "  \"error\" : {\n",
      "    \"status\" : 429\n",
      "  }\n",
      "}\n",
      "<bound method Response.json of <Response [429]>>\n",
      "Error: 429 - {\n",
      "  \"error\" : {\n",
      "    \"status\" : 429\n",
      "  }\n",
      "}\n",
      "<bound method Response.json of <Response [429]>>\n"
     ]
    },
    {
     "name": "stderr",
     "output_type": "stream",
     "text": [
      "api_call...:  65%|█████████████████▍         | 709/1096 [06:46<04:47,  1.34it/s]"
     ]
    },
    {
     "name": "stdout",
     "output_type": "stream",
     "text": [
      "Error: 429 - {\n",
      "  \"error\" : {\n",
      "    \"status\" : 429\n",
      "  }\n",
      "}\n",
      "<bound method Response.json of <Response [429]>>\n",
      "Error: 429 - {\n",
      "  \"error\" : {\n",
      "    \"status\" : 429\n",
      "  }\n",
      "}\n",
      "<bound method Response.json of <Response [429]>>\n"
     ]
    },
    {
     "name": "stderr",
     "output_type": "stream",
     "text": [
      "api_call...:  65%|█████████████████▌         | 711/1096 [06:47<02:45,  2.33it/s]"
     ]
    },
    {
     "name": "stdout",
     "output_type": "stream",
     "text": [
      "Error: 429 - {\n",
      "  \"error\" : {\n",
      "    \"status\" : 429\n",
      "  }\n",
      "}\n",
      "<bound method Response.json of <Response [429]>>\n",
      "Error: 429 - {\n",
      "  \"error\" : {\n",
      "    \"status\" : 429\n",
      "  }\n",
      "}\n",
      "<bound method Response.json of <Response [429]>>\n"
     ]
    },
    {
     "name": "stderr",
     "output_type": "stream",
     "text": [
      "\r",
      "api_call...:  65%|█████████████████▌         | 712/1096 [06:47<02:11,  2.93it/s]"
     ]
    },
    {
     "name": "stdout",
     "output_type": "stream",
     "text": [
      "Error: 429 - {\n",
      "  \"error\" : {\n",
      "    \"status\" : 429\n",
      "  }\n",
      "}\n",
      "<bound method Response.json of <Response [429]>>\n"
     ]
    },
    {
     "name": "stderr",
     "output_type": "stream",
     "text": [
      "api_call...:  65%|█████████████████▌         | 714/1096 [06:47<01:35,  4.00it/s]"
     ]
    },
    {
     "name": "stdout",
     "output_type": "stream",
     "text": [
      "Error: 429 - {\n",
      "  \"error\" : {\n",
      "    \"status\" : 429\n",
      "  }\n",
      "}\n",
      "<bound method Response.json of <Response [429]>>\n",
      "Error: 429 - {\n",
      "  \"error\" : {\n",
      "    \"status\" : 429\n",
      "  }\n",
      "}\n",
      "<bound method Response.json of <Response [429]>>\n"
     ]
    },
    {
     "name": "stderr",
     "output_type": "stream",
     "text": [
      "\r",
      "api_call...:  65%|█████████████████▌         | 715/1096 [06:47<01:19,  4.79it/s]"
     ]
    },
    {
     "name": "stdout",
     "output_type": "stream",
     "text": [
      "Error: 429 - {\n",
      "  \"error\" : {\n",
      "    \"status\" : 429\n",
      "  }\n",
      "}\n",
      "<bound method Response.json of <Response [429]>>\n"
     ]
    },
    {
     "name": "stderr",
     "output_type": "stream",
     "text": [
      "api_call...:  65%|█████████████████▋         | 717/1096 [06:48<01:10,  5.36it/s]"
     ]
    },
    {
     "name": "stdout",
     "output_type": "stream",
     "text": [
      "Error: 429 - {\n",
      "  \"error\" : {\n",
      "    \"status\" : 429\n",
      "  }\n",
      "}\n",
      "<bound method Response.json of <Response [429]>>\n",
      "Error: 429 - {\n",
      "  \"error\" : {\n",
      "    \"status\" : 429\n",
      "  }\n",
      "}\n",
      "<bound method Response.json of <Response [429]>>\n"
     ]
    },
    {
     "name": "stderr",
     "output_type": "stream",
     "text": [
      "\r",
      "api_call...:  66%|█████████████████▋         | 718/1096 [06:48<01:04,  5.88it/s]"
     ]
    },
    {
     "name": "stdout",
     "output_type": "stream",
     "text": [
      "Error: 429 - {\n",
      "  \"error\" : {\n",
      "    \"status\" : 429\n",
      "  }\n",
      "}\n",
      "<bound method Response.json of <Response [429]>>\n"
     ]
    },
    {
     "name": "stderr",
     "output_type": "stream",
     "text": [
      "api_call...:  66%|█████████████████▋         | 720/1096 [06:48<01:04,  5.83it/s]"
     ]
    },
    {
     "name": "stdout",
     "output_type": "stream",
     "text": [
      "Error: 429 - {\n",
      "  \"error\" : {\n",
      "    \"status\" : 429\n",
      "  }\n",
      "}\n",
      "<bound method Response.json of <Response [429]>>\n",
      "Error: 429 - {\n",
      "  \"error\" : {\n",
      "    \"status\" : 429\n",
      "  }\n",
      "}\n",
      "<bound method Response.json of <Response [429]>>\n"
     ]
    },
    {
     "name": "stderr",
     "output_type": "stream",
     "text": [
      "api_call...:  66%|█████████████████▊         | 722/1096 [06:48<00:54,  6.88it/s]"
     ]
    },
    {
     "name": "stdout",
     "output_type": "stream",
     "text": [
      "Error: 429 - {\n",
      "  \"error\" : {\n",
      "    \"status\" : 429\n",
      "  }\n",
      "}\n",
      "<bound method Response.json of <Response [429]>>\n",
      "Error: 429 - {\n",
      "  \"error\" : {\n",
      "    \"status\" : 429\n",
      "  }\n",
      "}\n",
      "<bound method Response.json of <Response [429]>>\n"
     ]
    },
    {
     "name": "stderr",
     "output_type": "stream",
     "text": [
      "api_call...:  66%|█████████████████▊         | 724/1096 [06:49<00:54,  6.84it/s]"
     ]
    },
    {
     "name": "stdout",
     "output_type": "stream",
     "text": [
      "Error: 429 - {\n",
      "  \"error\" : {\n",
      "    \"status\" : 429\n",
      "  }\n",
      "}\n",
      "<bound method Response.json of <Response [429]>>\n",
      "Error: 429 - {\n",
      "  \"error\" : {\n",
      "    \"status\" : 429\n",
      "  }\n",
      "}\n",
      "<bound method Response.json of <Response [429]>>\n"
     ]
    },
    {
     "name": "stderr",
     "output_type": "stream",
     "text": [
      "api_call...:  66%|█████████████████▉         | 726/1096 [06:49<00:51,  7.22it/s]"
     ]
    },
    {
     "name": "stdout",
     "output_type": "stream",
     "text": [
      "Error: 429 - {\n",
      "  \"error\" : {\n",
      "    \"status\" : 429\n",
      "  }\n",
      "}\n",
      "<bound method Response.json of <Response [429]>>\n",
      "Error: 429 - {\n",
      "  \"error\" : {\n",
      "    \"status\" : 429\n",
      "  }\n",
      "}\n",
      "<bound method Response.json of <Response [429]>>\n"
     ]
    },
    {
     "name": "stderr",
     "output_type": "stream",
     "text": [
      "api_call...:  66%|█████████████████▉         | 728/1096 [06:49<00:48,  7.59it/s]"
     ]
    },
    {
     "name": "stdout",
     "output_type": "stream",
     "text": [
      "Error: 429 - {\n",
      "  \"error\" : {\n",
      "    \"status\" : 429\n",
      "  }\n",
      "}\n",
      "<bound method Response.json of <Response [429]>>\n",
      "Error: 429 - {\n",
      "  \"error\" : {\n",
      "    \"status\" : 429\n",
      "  }\n",
      "}\n",
      "<bound method Response.json of <Response [429]>>\n"
     ]
    },
    {
     "name": "stderr",
     "output_type": "stream",
     "text": [
      "api_call...:  67%|█████████████████▉         | 730/1096 [06:49<00:48,  7.59it/s]"
     ]
    },
    {
     "name": "stdout",
     "output_type": "stream",
     "text": [
      "Error: 429 - {\n",
      "  \"error\" : {\n",
      "    \"status\" : 429\n",
      "  }\n",
      "}\n",
      "<bound method Response.json of <Response [429]>>\n",
      "Error: 429 - {\n",
      "  \"error\" : {\n",
      "    \"status\" : 429\n",
      "  }\n",
      "}\n",
      "<bound method Response.json of <Response [429]>>\n"
     ]
    },
    {
     "name": "stderr",
     "output_type": "stream",
     "text": [
      "api_call...:  67%|██████████████████         | 732/1096 [06:50<00:47,  7.64it/s]"
     ]
    },
    {
     "name": "stdout",
     "output_type": "stream",
     "text": [
      "Error: 429 - {\n",
      "  \"error\" : {\n",
      "    \"status\" : 429\n",
      "  }\n",
      "}\n",
      "<bound method Response.json of <Response [429]>>\n",
      "Error: 429 - {\n",
      "  \"error\" : {\n",
      "    \"status\" : 429\n",
      "  }\n",
      "}\n",
      "<bound method Response.json of <Response [429]>>\n"
     ]
    },
    {
     "name": "stderr",
     "output_type": "stream",
     "text": [
      "\r",
      "api_call...:  67%|██████████████████         | 733/1096 [06:50<00:48,  7.46it/s]"
     ]
    },
    {
     "name": "stdout",
     "output_type": "stream",
     "text": [
      "Error: 429 - {\n",
      "  \"error\" : {\n",
      "    \"status\" : 429\n",
      "  }\n",
      "}\n",
      "<bound method Response.json of <Response [429]>>\n"
     ]
    },
    {
     "name": "stderr",
     "output_type": "stream",
     "text": [
      "api_call...:  67%|██████████████████         | 735/1096 [06:50<00:58,  6.15it/s]"
     ]
    },
    {
     "name": "stdout",
     "output_type": "stream",
     "text": [
      "Error: 429 - {\n",
      "  \"error\" : {\n",
      "    \"status\" : 429\n",
      "  }\n",
      "}\n",
      "<bound method Response.json of <Response [429]>>\n",
      "Error: 429 - {\n",
      "  \"error\" : {\n",
      "    \"status\" : 429\n",
      "  }\n",
      "}\n",
      "<bound method Response.json of <Response [429]>>\n"
     ]
    },
    {
     "name": "stderr",
     "output_type": "stream",
     "text": [
      "api_call...:  67%|██████████████████▏        | 737/1096 [06:51<01:03,  5.63it/s]"
     ]
    },
    {
     "name": "stdout",
     "output_type": "stream",
     "text": [
      "Error: 429 - {\n",
      "  \"error\" : {\n",
      "    \"status\" : 429\n",
      "  }\n",
      "}\n",
      "<bound method Response.json of <Response [429]>>\n",
      "Error: 429 - {\n",
      "  \"error\" : {\n",
      "    \"status\" : 429\n",
      "  }\n",
      "}\n",
      "<bound method Response.json of <Response [429]>>\n"
     ]
    },
    {
     "name": "stderr",
     "output_type": "stream",
     "text": [
      "api_call...:  67%|██████████████████▏        | 739/1096 [06:51<00:56,  6.26it/s]"
     ]
    },
    {
     "name": "stdout",
     "output_type": "stream",
     "text": [
      "Error: 429 - {\n",
      "  \"error\" : {\n",
      "    \"status\" : 429\n",
      "  }\n",
      "}\n",
      "<bound method Response.json of <Response [429]>>\n",
      "Error: 429 - {\n",
      "  \"error\" : {\n",
      "    \"status\" : 429\n",
      "  }\n",
      "}\n",
      "<bound method Response.json of <Response [429]>>\n"
     ]
    },
    {
     "name": "stderr",
     "output_type": "stream",
     "text": [
      "api_call...:  68%|██████████████████▎        | 741/1096 [06:51<00:59,  5.93it/s]"
     ]
    },
    {
     "name": "stdout",
     "output_type": "stream",
     "text": [
      "Error: 429 - {\n",
      "  \"error\" : {\n",
      "    \"status\" : 429\n",
      "  }\n",
      "}\n",
      "<bound method Response.json of <Response [429]>>\n",
      "Error: 429 - {\n",
      "  \"error\" : {\n",
      "    \"status\" : 429\n",
      "  }\n",
      "}\n",
      "<bound method Response.json of <Response [429]>>\n"
     ]
    },
    {
     "name": "stderr",
     "output_type": "stream",
     "text": [
      "api_call...:  68%|██████████████████▎        | 743/1096 [06:51<00:53,  6.56it/s]"
     ]
    },
    {
     "name": "stdout",
     "output_type": "stream",
     "text": [
      "Error: 429 - {\n",
      "  \"error\" : {\n",
      "    \"status\" : 429\n",
      "  }\n",
      "}\n",
      "<bound method Response.json of <Response [429]>>\n",
      "Error: 429 - {\n",
      "  \"error\" : {\n",
      "    \"status\" : 429\n",
      "  }\n",
      "}\n",
      "<bound method Response.json of <Response [429]>>\n"
     ]
    },
    {
     "name": "stderr",
     "output_type": "stream",
     "text": [
      "api_call...:  68%|██████████████████▎        | 745/1096 [06:52<01:34,  3.70it/s]"
     ]
    },
    {
     "name": "stdout",
     "output_type": "stream",
     "text": [
      "Error: 429 - {\n",
      "  \"error\" : {\n",
      "    \"status\" : 429\n",
      "  }\n",
      "}\n",
      "<bound method Response.json of <Response [429]>>\n",
      "Error: 429 - {\n",
      "  \"error\" : {\n",
      "    \"status\" : 429\n",
      "  }\n",
      "}\n",
      "<bound method Response.json of <Response [429]>>\n"
     ]
    },
    {
     "name": "stderr",
     "output_type": "stream",
     "text": [
      "api_call...:  68%|██████████████████▍        | 747/1096 [06:53<01:13,  4.77it/s]"
     ]
    },
    {
     "name": "stdout",
     "output_type": "stream",
     "text": [
      "Error: 429 - {\n",
      "  \"error\" : {\n",
      "    \"status\" : 429\n",
      "  }\n",
      "}\n",
      "<bound method Response.json of <Response [429]>>\n",
      "Error: 429 - {\n",
      "  \"error\" : {\n",
      "    \"status\" : 429\n",
      "  }\n",
      "}\n",
      "<bound method Response.json of <Response [429]>>\n"
     ]
    },
    {
     "name": "stderr",
     "output_type": "stream",
     "text": [
      "api_call...:  68%|██████████████████▍        | 749/1096 [06:53<00:59,  5.87it/s]"
     ]
    },
    {
     "name": "stdout",
     "output_type": "stream",
     "text": [
      "Error: 429 - {\n",
      "  \"error\" : {\n",
      "    \"status\" : 429\n",
      "  }\n",
      "}\n",
      "<bound method Response.json of <Response [429]>>\n",
      "Error: 429 - {\n",
      "  \"error\" : {\n",
      "    \"status\" : 429\n",
      "  }\n",
      "}\n",
      "<bound method Response.json of <Response [429]>>\n"
     ]
    },
    {
     "name": "stderr",
     "output_type": "stream",
     "text": [
      "api_call...:  69%|██████████████████▌        | 751/1096 [06:53<01:13,  4.70it/s]"
     ]
    },
    {
     "name": "stdout",
     "output_type": "stream",
     "text": [
      "Error: 429 - {\n",
      "  \"error\" : {\n",
      "    \"status\" : 429\n",
      "  }\n",
      "}\n",
      "<bound method Response.json of <Response [429]>>\n",
      "Error: 429 - {\n",
      "  \"error\" : {\n",
      "    \"status\" : 429\n",
      "  }\n",
      "}\n",
      "<bound method Response.json of <Response [429]>>\n"
     ]
    },
    {
     "name": "stderr",
     "output_type": "stream",
     "text": [
      "api_call...:  69%|██████████████████▌        | 753/1096 [06:54<01:03,  5.41it/s]"
     ]
    },
    {
     "name": "stdout",
     "output_type": "stream",
     "text": [
      "Error: 429 - {\n",
      "  \"error\" : {\n",
      "    \"status\" : 429\n",
      "  }\n",
      "}\n",
      "<bound method Response.json of <Response [429]>>\n",
      "Error: 429 - {\n",
      "  \"error\" : {\n",
      "    \"status\" : 429\n",
      "  }\n",
      "}\n",
      "<bound method Response.json of <Response [429]>>\n"
     ]
    },
    {
     "name": "stderr",
     "output_type": "stream",
     "text": [
      "api_call...:  69%|██████████████████▌        | 755/1096 [06:54<00:55,  6.16it/s]"
     ]
    },
    {
     "name": "stdout",
     "output_type": "stream",
     "text": [
      "Error: 429 - {\n",
      "  \"error\" : {\n",
      "    \"status\" : 429\n",
      "  }\n",
      "}\n",
      "<bound method Response.json of <Response [429]>>\n",
      "Error: 429 - {\n",
      "  \"error\" : {\n",
      "    \"status\" : 429\n",
      "  }\n",
      "}\n",
      "<bound method Response.json of <Response [429]>>\n"
     ]
    },
    {
     "name": "stderr",
     "output_type": "stream",
     "text": [
      "api_call...:  69%|██████████████████▋        | 757/1096 [06:54<00:53,  6.32it/s]"
     ]
    },
    {
     "name": "stdout",
     "output_type": "stream",
     "text": [
      "Error: 429 - {\n",
      "  \"error\" : {\n",
      "    \"status\" : 429\n",
      "  }\n",
      "}\n",
      "<bound method Response.json of <Response [429]>>\n",
      "Error: 429 - {\n",
      "  \"error\" : {\n",
      "    \"status\" : 429\n",
      "  }\n",
      "}\n",
      "<bound method Response.json of <Response [429]>>\n"
     ]
    },
    {
     "name": "stderr",
     "output_type": "stream",
     "text": [
      "\r",
      "api_call...:  69%|██████████████████▋        | 758/1096 [06:55<00:49,  6.81it/s]"
     ]
    },
    {
     "name": "stdout",
     "output_type": "stream",
     "text": [
      "Error: 429 - {\n",
      "  \"error\" : {\n",
      "    \"status\" : 429\n",
      "  }\n",
      "}\n",
      "<bound method Response.json of <Response [429]>>\n"
     ]
    },
    {
     "name": "stderr",
     "output_type": "stream",
     "text": [
      "api_call...:  69%|██████████████████▋        | 760/1096 [06:55<00:52,  6.36it/s]"
     ]
    },
    {
     "name": "stdout",
     "output_type": "stream",
     "text": [
      "Error: 429 - {\n",
      "  \"error\" : {\n",
      "    \"status\" : 429\n",
      "  }\n",
      "}\n",
      "<bound method Response.json of <Response [429]>>\n",
      "Error: 429 - {\n",
      "  \"error\" : {\n",
      "    \"status\" : 429\n",
      "  }\n",
      "}\n",
      "<bound method Response.json of <Response [429]>>\n"
     ]
    },
    {
     "name": "stderr",
     "output_type": "stream",
     "text": [
      "\r",
      "api_call...:  69%|██████████████████▋        | 761/1096 [06:55<00:51,  6.50it/s]"
     ]
    },
    {
     "name": "stdout",
     "output_type": "stream",
     "text": [
      "Error: 429 - {\n",
      "  \"error\" : {\n",
      "    \"status\" : 429\n",
      "  }\n",
      "}\n",
      "<bound method Response.json of <Response [429]>>\n"
     ]
    },
    {
     "name": "stderr",
     "output_type": "stream",
     "text": [
      "api_call...:  70%|██████████████████▊        | 763/1096 [06:55<00:54,  6.09it/s]"
     ]
    },
    {
     "name": "stdout",
     "output_type": "stream",
     "text": [
      "Error: 429 - {\n",
      "  \"error\" : {\n",
      "    \"status\" : 429\n",
      "  }\n",
      "}\n",
      "<bound method Response.json of <Response [429]>>\n",
      "Error: 429 - {\n",
      "  \"error\" : {\n",
      "    \"status\" : 429\n",
      "  }\n",
      "}\n",
      "<bound method Response.json of <Response [429]>>\n"
     ]
    },
    {
     "name": "stderr",
     "output_type": "stream",
     "text": [
      "api_call...:  70%|██████████████████▊        | 765/1096 [06:56<00:46,  7.07it/s]"
     ]
    },
    {
     "name": "stdout",
     "output_type": "stream",
     "text": [
      "Error: 429 - {\n",
      "  \"error\" : {\n",
      "    \"status\" : 429\n",
      "  }\n",
      "}\n",
      "<bound method Response.json of <Response [429]>>\n",
      "Error: 429 - {\n",
      "  \"error\" : {\n",
      "    \"status\" : 429\n",
      "  }\n",
      "}\n",
      "<bound method Response.json of <Response [429]>>\n"
     ]
    },
    {
     "name": "stderr",
     "output_type": "stream",
     "text": [
      "api_call...:  70%|██████████████████▉        | 767/1096 [06:56<00:47,  6.99it/s]"
     ]
    },
    {
     "name": "stdout",
     "output_type": "stream",
     "text": [
      "Error: 429 - {\n",
      "  \"error\" : {\n",
      "    \"status\" : 429\n",
      "  }\n",
      "}\n",
      "<bound method Response.json of <Response [429]>>\n",
      "Error: 429 - {\n",
      "  \"error\" : {\n",
      "    \"status\" : 429\n",
      "  }\n",
      "}\n",
      "<bound method Response.json of <Response [429]>>\n"
     ]
    },
    {
     "name": "stderr",
     "output_type": "stream",
     "text": [
      "api_call...:  70%|██████████████████▉        | 769/1096 [06:56<00:44,  7.34it/s]"
     ]
    },
    {
     "name": "stdout",
     "output_type": "stream",
     "text": [
      "Error: 429 - {\n",
      "  \"error\" : {\n",
      "    \"status\" : 429\n",
      "  }\n",
      "}\n",
      "<bound method Response.json of <Response [429]>>\n",
      "Error: 429 - {\n",
      "  \"error\" : {\n",
      "    \"status\" : 429\n",
      "  }\n",
      "}\n",
      "<bound method Response.json of <Response [429]>>\n"
     ]
    },
    {
     "name": "stderr",
     "output_type": "stream",
     "text": [
      "api_call...:  70%|██████████████████▉        | 771/1096 [06:56<00:43,  7.51it/s]"
     ]
    },
    {
     "name": "stdout",
     "output_type": "stream",
     "text": [
      "Error: 429 - {\n",
      "  \"error\" : {\n",
      "    \"status\" : 429\n",
      "  }\n",
      "}\n",
      "<bound method Response.json of <Response [429]>>\n",
      "Error: 429 - {\n",
      "  \"error\" : {\n",
      "    \"status\" : 429\n",
      "  }\n",
      "}\n",
      "<bound method Response.json of <Response [429]>>\n"
     ]
    },
    {
     "name": "stderr",
     "output_type": "stream",
     "text": [
      "api_call...:  71%|███████████████████        | 773/1096 [06:57<00:43,  7.50it/s]"
     ]
    },
    {
     "name": "stdout",
     "output_type": "stream",
     "text": [
      "Error: 429 - {\n",
      "  \"error\" : {\n",
      "    \"status\" : 429\n",
      "  }\n",
      "}\n",
      "<bound method Response.json of <Response [429]>>\n",
      "Error: 429 - {\n",
      "  \"error\" : {\n",
      "    \"status\" : 429\n",
      "  }\n",
      "}\n",
      "<bound method Response.json of <Response [429]>>\n"
     ]
    },
    {
     "name": "stderr",
     "output_type": "stream",
     "text": [
      "api_call...:  71%|███████████████████        | 775/1096 [06:57<00:48,  6.59it/s]"
     ]
    },
    {
     "name": "stdout",
     "output_type": "stream",
     "text": [
      "Error: 429 - {\n",
      "  \"error\" : {\n",
      "    \"status\" : 429\n",
      "  }\n",
      "}\n",
      "<bound method Response.json of <Response [429]>>\n",
      "Error: 429 - {\n",
      "  \"error\" : {\n",
      "    \"status\" : 429\n",
      "  }\n",
      "}\n",
      "<bound method Response.json of <Response [429]>>\n"
     ]
    },
    {
     "name": "stderr",
     "output_type": "stream",
     "text": [
      "\r",
      "api_call...:  71%|███████████████████        | 776/1096 [06:57<00:50,  6.38it/s]"
     ]
    },
    {
     "name": "stdout",
     "output_type": "stream",
     "text": [
      "Error: 429 - {\n",
      "  \"error\" : {\n",
      "    \"status\" : 429\n",
      "  }\n",
      "}\n",
      "<bound method Response.json of <Response [429]>>\n"
     ]
    },
    {
     "name": "stderr",
     "output_type": "stream",
     "text": [
      "api_call...:  71%|███████████████████▏       | 778/1096 [06:58<00:52,  6.05it/s]"
     ]
    },
    {
     "name": "stdout",
     "output_type": "stream",
     "text": [
      "Error: 429 - {\n",
      "  \"error\" : {\n",
      "    \"status\" : 429\n",
      "  }\n",
      "}\n",
      "<bound method Response.json of <Response [429]>>\n",
      "Error: 429 - {\n",
      "  \"error\" : {\n",
      "    \"status\" : 429\n",
      "  }\n",
      "}\n",
      "<bound method Response.json of <Response [429]>>\n"
     ]
    },
    {
     "name": "stderr",
     "output_type": "stream",
     "text": [
      "api_call...:  71%|███████████████████▏       | 780/1096 [06:58<00:49,  6.42it/s]"
     ]
    },
    {
     "name": "stdout",
     "output_type": "stream",
     "text": [
      "Error: 429 - {\n",
      "  \"error\" : {\n",
      "    \"status\" : 429\n",
      "  }\n",
      "}\n",
      "<bound method Response.json of <Response [429]>>\n",
      "Error: 429 - {\n",
      "  \"error\" : {\n",
      "    \"status\" : 429\n",
      "  }\n",
      "}\n",
      "<bound method Response.json of <Response [429]>>\n"
     ]
    },
    {
     "name": "stderr",
     "output_type": "stream",
     "text": [
      "api_call...:  71%|███████████████████▎       | 782/1096 [06:58<00:44,  7.00it/s]"
     ]
    },
    {
     "name": "stdout",
     "output_type": "stream",
     "text": [
      "Error: 429 - {\n",
      "  \"error\" : {\n",
      "    \"status\" : 429\n",
      "  }\n",
      "}\n",
      "<bound method Response.json of <Response [429]>>\n",
      "Error: 429 - {\n",
      "  \"error\" : {\n",
      "    \"status\" : 429\n",
      "  }\n",
      "}\n",
      "<bound method Response.json of <Response [429]>>\n"
     ]
    },
    {
     "name": "stderr",
     "output_type": "stream",
     "text": [
      "api_call...:  72%|███████████████████▎       | 784/1096 [06:59<01:09,  4.49it/s]"
     ]
    },
    {
     "name": "stdout",
     "output_type": "stream",
     "text": [
      "Error: 429 - {\n",
      "  \"error\" : {\n",
      "    \"status\" : 429\n",
      "  }\n",
      "}\n",
      "<bound method Response.json of <Response [429]>>\n",
      "Error: 429 - {\n",
      "  \"error\" : {\n",
      "    \"status\" : 429\n",
      "  }\n",
      "}\n",
      "<bound method Response.json of <Response [429]>>\n"
     ]
    },
    {
     "name": "stderr",
     "output_type": "stream",
     "text": [
      "api_call...:  72%|███████████████████▎       | 786/1096 [06:59<01:00,  5.14it/s]"
     ]
    },
    {
     "name": "stdout",
     "output_type": "stream",
     "text": [
      "Error: 429 - {\n",
      "  \"error\" : {\n",
      "    \"status\" : 429\n",
      "  }\n",
      "}\n",
      "<bound method Response.json of <Response [429]>>\n",
      "Error: 429 - {\n",
      "  \"error\" : {\n",
      "    \"status\" : 429\n",
      "  }\n",
      "}\n",
      "<bound method Response.json of <Response [429]>>\n"
     ]
    },
    {
     "name": "stderr",
     "output_type": "stream",
     "text": [
      "\r",
      "api_call...:  72%|███████████████████▍       | 787/1096 [06:59<00:56,  5.43it/s]"
     ]
    },
    {
     "name": "stdout",
     "output_type": "stream",
     "text": [
      "Error: 429 - {\n",
      "  \"error\" : {\n",
      "    \"status\" : 429\n",
      "  }\n",
      "}\n",
      "<bound method Response.json of <Response [429]>>\n"
     ]
    },
    {
     "name": "stderr",
     "output_type": "stream",
     "text": [
      "api_call...:  72%|███████████████████▍       | 789/1096 [07:00<00:53,  5.73it/s]"
     ]
    },
    {
     "name": "stdout",
     "output_type": "stream",
     "text": [
      "Error: 429 - {\n",
      "  \"error\" : {\n",
      "    \"status\" : 429\n",
      "  }\n",
      "}\n",
      "<bound method Response.json of <Response [429]>>\n",
      "Error: 429 - {\n",
      "  \"error\" : {\n",
      "    \"status\" : 429\n",
      "  }\n",
      "}\n",
      "<bound method Response.json of <Response [429]>>\n"
     ]
    },
    {
     "name": "stderr",
     "output_type": "stream",
     "text": [
      "api_call...:  72%|███████████████████▍       | 791/1096 [07:00<00:51,  5.92it/s]"
     ]
    },
    {
     "name": "stdout",
     "output_type": "stream",
     "text": [
      "Error: 429 - {\n",
      "  \"error\" : {\n",
      "    \"status\" : 429\n",
      "  }\n",
      "}\n",
      "<bound method Response.json of <Response [429]>>\n",
      "Error: 429 - {\n",
      "  \"error\" : {\n",
      "    \"status\" : 429\n",
      "  }\n",
      "}\n",
      "<bound method Response.json of <Response [429]>>\n"
     ]
    },
    {
     "name": "stderr",
     "output_type": "stream",
     "text": [
      "api_call...:  72%|███████████████████▌       | 793/1096 [07:00<00:46,  6.57it/s]"
     ]
    },
    {
     "name": "stdout",
     "output_type": "stream",
     "text": [
      "Error: 429 - {\n",
      "  \"error\" : {\n",
      "    \"status\" : 429\n",
      "  }\n",
      "}\n",
      "<bound method Response.json of <Response [429]>>\n",
      "Error: 429 - {\n",
      "  \"error\" : {\n",
      "    \"status\" : 429\n",
      "  }\n",
      "}\n",
      "<bound method Response.json of <Response [429]>>\n"
     ]
    },
    {
     "name": "stderr",
     "output_type": "stream",
     "text": [
      "api_call...:  73%|███████████████████▌       | 795/1096 [07:01<00:50,  6.01it/s]"
     ]
    },
    {
     "name": "stdout",
     "output_type": "stream",
     "text": [
      "Error: 429 - {\n",
      "  \"error\" : {\n",
      "    \"status\" : 429\n",
      "  }\n",
      "}\n",
      "<bound method Response.json of <Response [429]>>\n",
      "Error: 429 - {\n",
      "  \"error\" : {\n",
      "    \"status\" : 429\n",
      "  }\n",
      "}\n",
      "<bound method Response.json of <Response [429]>>\n"
     ]
    },
    {
     "name": "stderr",
     "output_type": "stream",
     "text": [
      "api_call...:  73%|███████████████████▋       | 797/1096 [07:01<00:44,  6.79it/s]"
     ]
    },
    {
     "name": "stdout",
     "output_type": "stream",
     "text": [
      "Error: 429 - {\n",
      "  \"error\" : {\n",
      "    \"status\" : 429\n",
      "  }\n",
      "}\n",
      "<bound method Response.json of <Response [429]>>\n",
      "Error: 429 - {\n",
      "  \"error\" : {\n",
      "    \"status\" : 429\n",
      "  }\n",
      "}\n",
      "<bound method Response.json of <Response [429]>>\n"
     ]
    },
    {
     "name": "stderr",
     "output_type": "stream",
     "text": [
      "api_call...:  73%|███████████████████▋       | 799/1096 [07:01<00:47,  6.29it/s]"
     ]
    },
    {
     "name": "stdout",
     "output_type": "stream",
     "text": [
      "Error: 429 - {\n",
      "  \"error\" : {\n",
      "    \"status\" : 429\n",
      "  }\n",
      "}\n",
      "<bound method Response.json of <Response [429]>>\n",
      "Error: 429 - {\n",
      "  \"error\" : {\n",
      "    \"status\" : 429\n",
      "  }\n",
      "}\n",
      "<bound method Response.json of <Response [429]>>\n"
     ]
    },
    {
     "name": "stderr",
     "output_type": "stream",
     "text": [
      "\r",
      "api_call...:  73%|███████████████████▋       | 800/1096 [07:01<00:48,  6.16it/s]"
     ]
    },
    {
     "name": "stdout",
     "output_type": "stream",
     "text": [
      "Error: 429 - {\n",
      "  \"error\" : {\n",
      "    \"status\" : 429\n",
      "  }\n",
      "}\n",
      "<bound method Response.json of <Response [429]>>\n"
     ]
    },
    {
     "name": "stderr",
     "output_type": "stream",
     "text": [
      "\r",
      "api_call...:  73%|███████████████████▋       | 801/1096 [07:37<52:23, 10.66s/it]"
     ]
    },
    {
     "name": "stdout",
     "output_type": "stream",
     "text": [
      "Error: 429 - {\n",
      "  \"error\" : {\n",
      "    \"status\" : 429\n",
      "  }\n",
      "}\n",
      "<bound method Response.json of <Response [429]>>\n"
     ]
    },
    {
     "name": "stderr",
     "output_type": "stream",
     "text": [
      "api_call...:  73%|███████████████████▊       | 803/1096 [07:37<25:55,  5.31s/it]"
     ]
    },
    {
     "name": "stdout",
     "output_type": "stream",
     "text": [
      "Error: 429 - {\n",
      "  \"error\" : {\n",
      "    \"status\" : 429\n",
      "  }\n",
      "}\n",
      "<bound method Response.json of <Response [429]>>\n",
      "Error: 429 - {\n",
      "  \"error\" : {\n",
      "    \"status\" : 429\n",
      "  }\n",
      "}\n",
      "<bound method Response.json of <Response [429]>>\n"
     ]
    },
    {
     "name": "stderr",
     "output_type": "stream",
     "text": [
      "api_call...:  73%|███████████████████▊       | 805/1096 [07:37<13:05,  2.70s/it]"
     ]
    },
    {
     "name": "stdout",
     "output_type": "stream",
     "text": [
      "Error: 429 - {\n",
      "  \"error\" : {\n",
      "    \"status\" : 429\n",
      "  }\n",
      "}\n",
      "<bound method Response.json of <Response [429]>>\n",
      "Error: 429 - {\n",
      "  \"error\" : {\n",
      "    \"status\" : 429\n",
      "  }\n",
      "}\n",
      "<bound method Response.json of <Response [429]>>\n"
     ]
    },
    {
     "name": "stderr",
     "output_type": "stream",
     "text": [
      "\r",
      "api_call...:  74%|███████████████████▊       | 806/1096 [07:37<09:19,  1.93s/it]"
     ]
    },
    {
     "name": "stdout",
     "output_type": "stream",
     "text": [
      "Error: 429 - {\n",
      "  \"error\" : {\n",
      "    \"status\" : 429\n",
      "  }\n",
      "}\n",
      "<bound method Response.json of <Response [429]>>\n"
     ]
    },
    {
     "name": "stderr",
     "output_type": "stream",
     "text": [
      "api_call...:  74%|███████████████████▉       | 808/1096 [07:38<04:58,  1.04s/it]"
     ]
    },
    {
     "name": "stdout",
     "output_type": "stream",
     "text": [
      "Error: 429 - {\n",
      "  \"error\" : {\n",
      "    \"status\" : 429\n",
      "  }\n",
      "}\n",
      "<bound method Response.json of <Response [429]>>\n",
      "Error: 429 - {\n",
      "  \"error\" : {\n",
      "    \"status\" : 429\n",
      "  }\n",
      "}\n",
      "<bound method Response.json of <Response [429]>>\n"
     ]
    },
    {
     "name": "stderr",
     "output_type": "stream",
     "text": [
      "api_call...:  74%|███████████████████▉       | 810/1096 [07:38<02:45,  1.73it/s]"
     ]
    },
    {
     "name": "stdout",
     "output_type": "stream",
     "text": [
      "Error: 429 - {\n",
      "  \"error\" : {\n",
      "    \"status\" : 429\n",
      "  }\n",
      "}\n",
      "<bound method Response.json of <Response [429]>>\n",
      "Error: 429 - {\n",
      "  \"error\" : {\n",
      "    \"status\" : 429\n",
      "  }\n",
      "}\n",
      "<bound method Response.json of <Response [429]>>\n"
     ]
    },
    {
     "name": "stderr",
     "output_type": "stream",
     "text": [
      "api_call...:  74%|████████████████████       | 812/1096 [07:38<01:38,  2.87it/s]"
     ]
    },
    {
     "name": "stdout",
     "output_type": "stream",
     "text": [
      "Error: 429 - {\n",
      "  \"error\" : {\n",
      "    \"status\" : 429\n",
      "  }\n",
      "}\n",
      "<bound method Response.json of <Response [429]>>\n",
      "Error: 429 - {\n",
      "  \"error\" : {\n",
      "    \"status\" : 429\n",
      "  }\n",
      "}\n",
      "<bound method Response.json of <Response [429]>>\n"
     ]
    },
    {
     "name": "stderr",
     "output_type": "stream",
     "text": [
      "api_call...:  74%|████████████████████       | 814/1096 [07:39<01:06,  4.22it/s]"
     ]
    },
    {
     "name": "stdout",
     "output_type": "stream",
     "text": [
      "Error: 429 - {\n",
      "  \"error\" : {\n",
      "    \"status\" : 429\n",
      "  }\n",
      "}\n",
      "<bound method Response.json of <Response [429]>>\n",
      "Error: 429 - {\n",
      "  \"error\" : {\n",
      "    \"status\" : 429\n",
      "  }\n",
      "}\n",
      "<bound method Response.json of <Response [429]>>\n"
     ]
    },
    {
     "name": "stderr",
     "output_type": "stream",
     "text": [
      "api_call...:  74%|████████████████████       | 816/1096 [07:39<00:51,  5.43it/s]"
     ]
    },
    {
     "name": "stdout",
     "output_type": "stream",
     "text": [
      "Error: 429 - {\n",
      "  \"error\" : {\n",
      "    \"status\" : 429\n",
      "  }\n",
      "}\n",
      "<bound method Response.json of <Response [429]>>\n",
      "Error: 429 - {\n",
      "  \"error\" : {\n",
      "    \"status\" : 429\n",
      "  }\n",
      "}\n",
      "<bound method Response.json of <Response [429]>>\n"
     ]
    },
    {
     "name": "stderr",
     "output_type": "stream",
     "text": [
      "\r",
      "api_call...:  75%|████████████████████▏      | 817/1096 [07:39<00:50,  5.58it/s]"
     ]
    },
    {
     "name": "stdout",
     "output_type": "stream",
     "text": [
      "Error: 429 - {\n",
      "  \"error\" : {\n",
      "    \"status\" : 429\n",
      "  }\n",
      "}\n",
      "<bound method Response.json of <Response [429]>>\n"
     ]
    },
    {
     "name": "stderr",
     "output_type": "stream",
     "text": [
      "api_call...:  75%|████████████████████▏      | 819/1096 [07:39<00:49,  5.57it/s]"
     ]
    },
    {
     "name": "stdout",
     "output_type": "stream",
     "text": [
      "Error: 429 - {\n",
      "  \"error\" : {\n",
      "    \"status\" : 429\n",
      "  }\n",
      "}\n",
      "<bound method Response.json of <Response [429]>>\n",
      "Error: 429 - {\n",
      "  \"error\" : {\n",
      "    \"status\" : 429\n",
      "  }\n",
      "}\n",
      "<bound method Response.json of <Response [429]>>\n"
     ]
    },
    {
     "name": "stderr",
     "output_type": "stream",
     "text": [
      "api_call...:  75%|████████████████████▏      | 821/1096 [07:40<00:50,  5.41it/s]"
     ]
    },
    {
     "name": "stdout",
     "output_type": "stream",
     "text": [
      "Error: 429 - {\n",
      "  \"error\" : {\n",
      "    \"status\" : 429\n",
      "  }\n",
      "}\n",
      "<bound method Response.json of <Response [429]>>\n",
      "Error: 429 - {\n",
      "  \"error\" : {\n",
      "    \"status\" : 429\n",
      "  }\n",
      "}\n",
      "<bound method Response.json of <Response [429]>>\n"
     ]
    },
    {
     "name": "stderr",
     "output_type": "stream",
     "text": [
      "api_call...:  75%|████████████████████▎      | 823/1096 [07:40<00:42,  6.49it/s]"
     ]
    },
    {
     "name": "stdout",
     "output_type": "stream",
     "text": [
      "Error: 429 - {\n",
      "  \"error\" : {\n",
      "    \"status\" : 429\n",
      "  }\n",
      "}\n",
      "<bound method Response.json of <Response [429]>>\n",
      "Error: 429 - {\n",
      "  \"error\" : {\n",
      "    \"status\" : 429\n",
      "  }\n",
      "}\n",
      "<bound method Response.json of <Response [429]>>\n"
     ]
    },
    {
     "name": "stderr",
     "output_type": "stream",
     "text": [
      "\r",
      "api_call...:  75%|████████████████████▎      | 824/1096 [07:40<00:40,  6.64it/s]"
     ]
    },
    {
     "name": "stdout",
     "output_type": "stream",
     "text": [
      "Error: 429 - {\n",
      "  \"error\" : {\n",
      "    \"status\" : 429\n",
      "  }\n",
      "}\n",
      "<bound method Response.json of <Response [429]>>\n"
     ]
    },
    {
     "name": "stderr",
     "output_type": "stream",
     "text": [
      "api_call...:  75%|████████████████████▎      | 826/1096 [07:41<00:42,  6.37it/s]"
     ]
    },
    {
     "name": "stdout",
     "output_type": "stream",
     "text": [
      "Error: 429 - {\n",
      "  \"error\" : {\n",
      "    \"status\" : 429\n",
      "  }\n",
      "}\n",
      "<bound method Response.json of <Response [429]>>\n",
      "Error: 429 - {\n",
      "  \"error\" : {\n",
      "    \"status\" : 429\n",
      "  }\n",
      "}\n",
      "<bound method Response.json of <Response [429]>>\n"
     ]
    },
    {
     "name": "stderr",
     "output_type": "stream",
     "text": [
      "api_call...:  76%|████████████████████▍      | 828/1096 [07:41<00:41,  6.44it/s]"
     ]
    },
    {
     "name": "stdout",
     "output_type": "stream",
     "text": [
      "Error: 429 - {\n",
      "  \"error\" : {\n",
      "    \"status\" : 429\n",
      "  }\n",
      "}\n",
      "<bound method Response.json of <Response [429]>>\n",
      "Error: 429 - {\n",
      "  \"error\" : {\n",
      "    \"status\" : 429\n",
      "  }\n",
      "}\n",
      "<bound method Response.json of <Response [429]>>\n"
     ]
    },
    {
     "name": "stderr",
     "output_type": "stream",
     "text": [
      "\r",
      "api_call...:  76%|████████████████████▍      | 829/1096 [07:41<00:40,  6.64it/s]"
     ]
    },
    {
     "name": "stdout",
     "output_type": "stream",
     "text": [
      "Error: 429 - {\n",
      "  \"error\" : {\n",
      "    \"status\" : 429\n",
      "  }\n",
      "}\n",
      "<bound method Response.json of <Response [429]>>\n"
     ]
    },
    {
     "name": "stderr",
     "output_type": "stream",
     "text": [
      "api_call...:  76%|████████████████████▍      | 831/1096 [07:42<00:51,  5.13it/s]"
     ]
    },
    {
     "name": "stdout",
     "output_type": "stream",
     "text": [
      "Error: 429 - {\n",
      "  \"error\" : {\n",
      "    \"status\" : 429\n",
      "  }\n",
      "}\n",
      "<bound method Response.json of <Response [429]>>\n",
      "Error: 429 - {\n",
      "  \"error\" : {\n",
      "    \"status\" : 429\n",
      "  }\n",
      "}\n",
      "<bound method Response.json of <Response [429]>>\n"
     ]
    },
    {
     "name": "stderr",
     "output_type": "stream",
     "text": [
      "api_call...:  76%|████████████████████▌      | 833/1096 [07:42<00:43,  6.05it/s]"
     ]
    },
    {
     "name": "stdout",
     "output_type": "stream",
     "text": [
      "Error: 429 - {\n",
      "  \"error\" : {\n",
      "    \"status\" : 429\n",
      "  }\n",
      "}\n",
      "<bound method Response.json of <Response [429]>>\n",
      "Error: 429 - {\n",
      "  \"error\" : {\n",
      "    \"status\" : 429\n",
      "  }\n",
      "}\n",
      "<bound method Response.json of <Response [429]>>\n"
     ]
    },
    {
     "name": "stderr",
     "output_type": "stream",
     "text": [
      "api_call...:  76%|████████████████████▌      | 835/1096 [07:42<00:45,  5.76it/s]"
     ]
    },
    {
     "name": "stdout",
     "output_type": "stream",
     "text": [
      "Error: 429 - {\n",
      "  \"error\" : {\n",
      "    \"status\" : 429\n",
      "  }\n",
      "}\n",
      "<bound method Response.json of <Response [429]>>\n",
      "Error: 429 - {\n",
      "  \"error\" : {\n",
      "    \"status\" : 429\n",
      "  }\n",
      "}\n",
      "<bound method Response.json of <Response [429]>>\n"
     ]
    },
    {
     "name": "stderr",
     "output_type": "stream",
     "text": [
      "api_call...:  76%|████████████████████▌      | 837/1096 [07:43<00:46,  5.60it/s]"
     ]
    },
    {
     "name": "stdout",
     "output_type": "stream",
     "text": [
      "Error: 429 - {\n",
      "  \"error\" : {\n",
      "    \"status\" : 429\n",
      "  }\n",
      "}\n",
      "<bound method Response.json of <Response [429]>>\n",
      "Error: 429 - {\n",
      "  \"error\" : {\n",
      "    \"status\" : 429\n",
      "  }\n",
      "}\n",
      "<bound method Response.json of <Response [429]>>\n"
     ]
    },
    {
     "name": "stderr",
     "output_type": "stream",
     "text": [
      "api_call...:  77%|████████████████████▋      | 839/1096 [07:43<00:39,  6.43it/s]"
     ]
    },
    {
     "name": "stdout",
     "output_type": "stream",
     "text": [
      "Error: 429 - {\n",
      "  \"error\" : {\n",
      "    \"status\" : 429\n",
      "  }\n",
      "}\n",
      "<bound method Response.json of <Response [429]>>\n",
      "Error: 429 - {\n",
      "  \"error\" : {\n",
      "    \"status\" : 429\n",
      "  }\n",
      "}\n",
      "<bound method Response.json of <Response [429]>>\n"
     ]
    },
    {
     "name": "stderr",
     "output_type": "stream",
     "text": [
      "api_call...:  77%|████████████████████▋      | 841/1096 [07:43<00:41,  6.19it/s]"
     ]
    },
    {
     "name": "stdout",
     "output_type": "stream",
     "text": [
      "Error: 429 - {\n",
      "  \"error\" : {\n",
      "    \"status\" : 429\n",
      "  }\n",
      "}\n",
      "<bound method Response.json of <Response [429]>>\n",
      "Error: 429 - {\n",
      "  \"error\" : {\n",
      "    \"status\" : 429\n",
      "  }\n",
      "}\n",
      "<bound method Response.json of <Response [429]>>\n"
     ]
    },
    {
     "name": "stderr",
     "output_type": "stream",
     "text": [
      "api_call...:  77%|████████████████████▊      | 843/1096 [07:43<00:38,  6.50it/s]"
     ]
    },
    {
     "name": "stdout",
     "output_type": "stream",
     "text": [
      "Error: 429 - {\n",
      "  \"error\" : {\n",
      "    \"status\" : 429\n",
      "  }\n",
      "}\n",
      "<bound method Response.json of <Response [429]>>\n",
      "Error: 429 - {\n",
      "  \"error\" : {\n",
      "    \"status\" : 429\n",
      "  }\n",
      "}\n",
      "<bound method Response.json of <Response [429]>>\n"
     ]
    },
    {
     "name": "stderr",
     "output_type": "stream",
     "text": [
      "api_call...:  77%|████████████████████▊      | 845/1096 [07:44<00:35,  7.05it/s]"
     ]
    },
    {
     "name": "stdout",
     "output_type": "stream",
     "text": [
      "Error: 429 - {\n",
      "  \"error\" : {\n",
      "    \"status\" : 429\n",
      "  }\n",
      "}\n",
      "<bound method Response.json of <Response [429]>>\n",
      "Error: 429 - {\n",
      "  \"error\" : {\n",
      "    \"status\" : 429\n",
      "  }\n",
      "}\n",
      "<bound method Response.json of <Response [429]>>\n"
     ]
    },
    {
     "name": "stderr",
     "output_type": "stream",
     "text": [
      "api_call...:  77%|████████████████████▊      | 847/1096 [07:44<00:34,  7.22it/s]"
     ]
    },
    {
     "name": "stdout",
     "output_type": "stream",
     "text": [
      "Error: 429 - {\n",
      "  \"error\" : {\n",
      "    \"status\" : 429\n",
      "  }\n",
      "}\n",
      "<bound method Response.json of <Response [429]>>\n",
      "Error: 429 - {\n",
      "  \"error\" : {\n",
      "    \"status\" : 429\n",
      "  }\n",
      "}\n",
      "<bound method Response.json of <Response [429]>>\n"
     ]
    },
    {
     "name": "stderr",
     "output_type": "stream",
     "text": [
      "api_call...:  77%|████████████████████▉      | 849/1096 [07:44<00:32,  7.71it/s]"
     ]
    },
    {
     "name": "stdout",
     "output_type": "stream",
     "text": [
      "Error: 429 - {\n",
      "  \"error\" : {\n",
      "    \"status\" : 429\n",
      "  }\n",
      "}\n",
      "<bound method Response.json of <Response [429]>>\n",
      "Error: 429 - {\n",
      "  \"error\" : {\n",
      "    \"status\" : 429\n",
      "  }\n",
      "}\n",
      "<bound method Response.json of <Response [429]>>\n"
     ]
    },
    {
     "name": "stderr",
     "output_type": "stream",
     "text": [
      "\r",
      "api_call...:  78%|████████████████████▉      | 850/1096 [07:44<00:32,  7.48it/s]"
     ]
    },
    {
     "name": "stdout",
     "output_type": "stream",
     "text": [
      "Error: 429 - {\n",
      "  \"error\" : {\n",
      "    \"status\" : 429\n",
      "  }\n",
      "}\n",
      "<bound method Response.json of <Response [429]>>\n"
     ]
    },
    {
     "name": "stderr",
     "output_type": "stream",
     "text": [
      "api_call...:  78%|████████████████████▉      | 852/1096 [07:45<00:36,  6.67it/s]"
     ]
    },
    {
     "name": "stdout",
     "output_type": "stream",
     "text": [
      "Error: 429 - {\n",
      "  \"error\" : {\n",
      "    \"status\" : 429\n",
      "  }\n",
      "}\n",
      "<bound method Response.json of <Response [429]>>\n",
      "Error: 429 - {\n",
      "  \"error\" : {\n",
      "    \"status\" : 429\n",
      "  }\n",
      "}\n",
      "<bound method Response.json of <Response [429]>>\n"
     ]
    },
    {
     "name": "stderr",
     "output_type": "stream",
     "text": [
      "api_call...:  78%|█████████████████████      | 854/1096 [07:45<00:37,  6.48it/s]"
     ]
    },
    {
     "name": "stdout",
     "output_type": "stream",
     "text": [
      "Error: 429 - {\n",
      "  \"error\" : {\n",
      "    \"status\" : 429\n",
      "  }\n",
      "}\n",
      "<bound method Response.json of <Response [429]>>\n",
      "Error: 429 - {\n",
      "  \"error\" : {\n",
      "    \"status\" : 429\n",
      "  }\n",
      "}\n",
      "<bound method Response.json of <Response [429]>>\n"
     ]
    },
    {
     "name": "stderr",
     "output_type": "stream",
     "text": [
      "api_call...:  78%|█████████████████████      | 856/1096 [07:45<00:33,  7.07it/s]"
     ]
    },
    {
     "name": "stdout",
     "output_type": "stream",
     "text": [
      "Error: 429 - {\n",
      "  \"error\" : {\n",
      "    \"status\" : 429\n",
      "  }\n",
      "}\n",
      "<bound method Response.json of <Response [429]>>\n",
      "Error: 429 - {\n",
      "  \"error\" : {\n",
      "    \"status\" : 429\n",
      "  }\n",
      "}\n",
      "<bound method Response.json of <Response [429]>>\n"
     ]
    },
    {
     "name": "stderr",
     "output_type": "stream",
     "text": [
      "api_call...:  78%|█████████████████████▏     | 858/1096 [07:46<00:39,  5.97it/s]"
     ]
    },
    {
     "name": "stdout",
     "output_type": "stream",
     "text": [
      "Error: 429 - {\n",
      "  \"error\" : {\n",
      "    \"status\" : 429\n",
      "  }\n",
      "}\n",
      "<bound method Response.json of <Response [429]>>\n",
      "Error: 429 - {\n",
      "  \"error\" : {\n",
      "    \"status\" : 429\n",
      "  }\n",
      "}\n",
      "<bound method Response.json of <Response [429]>>\n"
     ]
    },
    {
     "name": "stderr",
     "output_type": "stream",
     "text": [
      "api_call...:  78%|█████████████████████▏     | 860/1096 [07:46<00:35,  6.65it/s]"
     ]
    },
    {
     "name": "stdout",
     "output_type": "stream",
     "text": [
      "Error: 429 - {\n",
      "  \"error\" : {\n",
      "    \"status\" : 429\n",
      "  }\n",
      "}\n",
      "<bound method Response.json of <Response [429]>>\n",
      "Error: 429 - {\n",
      "  \"error\" : {\n",
      "    \"status\" : 429\n",
      "  }\n",
      "}\n",
      "<bound method Response.json of <Response [429]>>\n"
     ]
    },
    {
     "name": "stderr",
     "output_type": "stream",
     "text": [
      "api_call...:  79%|█████████████████████▏     | 862/1096 [07:46<00:36,  6.49it/s]"
     ]
    },
    {
     "name": "stdout",
     "output_type": "stream",
     "text": [
      "Error: 429 - {\n",
      "  \"error\" : {\n",
      "    \"status\" : 429\n",
      "  }\n",
      "}\n",
      "<bound method Response.json of <Response [429]>>\n",
      "Error: 429 - {\n",
      "  \"error\" : {\n",
      "    \"status\" : 429\n",
      "  }\n",
      "}\n",
      "<bound method Response.json of <Response [429]>>\n"
     ]
    },
    {
     "name": "stderr",
     "output_type": "stream",
     "text": [
      "api_call...:  79%|█████████████████████▎     | 864/1096 [07:47<00:35,  6.60it/s]"
     ]
    },
    {
     "name": "stdout",
     "output_type": "stream",
     "text": [
      "Error: 429 - {\n",
      "  \"error\" : {\n",
      "    \"status\" : 429\n",
      "  }\n",
      "}\n",
      "<bound method Response.json of <Response [429]>>\n",
      "Error: 429 - {\n",
      "  \"error\" : {\n",
      "    \"status\" : 429\n",
      "  }\n",
      "}\n",
      "<bound method Response.json of <Response [429]>>\n"
     ]
    },
    {
     "name": "stderr",
     "output_type": "stream",
     "text": [
      "api_call...:  79%|█████████████████████▎     | 866/1096 [07:47<00:33,  6.80it/s]"
     ]
    },
    {
     "name": "stdout",
     "output_type": "stream",
     "text": [
      "Error: 429 - {\n",
      "  \"error\" : {\n",
      "    \"status\" : 429\n",
      "  }\n",
      "}\n",
      "<bound method Response.json of <Response [429]>>\n",
      "Error: 429 - {\n",
      "  \"error\" : {\n",
      "    \"status\" : 429\n",
      "  }\n",
      "}\n",
      "<bound method Response.json of <Response [429]>>\n"
     ]
    },
    {
     "name": "stderr",
     "output_type": "stream",
     "text": [
      "\r",
      "api_call...:  79%|█████████████████████▎     | 867/1096 [07:47<00:32,  6.97it/s]"
     ]
    },
    {
     "name": "stdout",
     "output_type": "stream",
     "text": [
      "Error: 429 - {\n",
      "  \"error\" : {\n",
      "    \"status\" : 429\n",
      "  }\n",
      "}\n",
      "<bound method Response.json of <Response [429]>>\n"
     ]
    },
    {
     "name": "stderr",
     "output_type": "stream",
     "text": [
      "api_call...:  79%|█████████████████████▍     | 869/1096 [07:47<00:35,  6.37it/s]"
     ]
    },
    {
     "name": "stdout",
     "output_type": "stream",
     "text": [
      "Error: 429 - {\n",
      "  \"error\" : {\n",
      "    \"status\" : 429\n",
      "  }\n",
      "}\n",
      "<bound method Response.json of <Response [429]>>\n",
      "Error: 429 - {\n",
      "  \"error\" : {\n",
      "    \"status\" : 429\n",
      "  }\n",
      "}\n",
      "<bound method Response.json of <Response [429]>>\n"
     ]
    },
    {
     "name": "stderr",
     "output_type": "stream",
     "text": [
      "\r",
      "api_call...:  79%|█████████████████████▍     | 870/1096 [07:48<00:34,  6.64it/s]"
     ]
    },
    {
     "name": "stdout",
     "output_type": "stream",
     "text": [
      "Error: 429 - {\n",
      "  \"error\" : {\n",
      "    \"status\" : 429\n",
      "  }\n",
      "}\n",
      "<bound method Response.json of <Response [429]>>\n"
     ]
    },
    {
     "name": "stderr",
     "output_type": "stream",
     "text": [
      "api_call...:  80%|█████████████████████▍     | 872/1096 [07:48<00:34,  6.44it/s]"
     ]
    },
    {
     "name": "stdout",
     "output_type": "stream",
     "text": [
      "Error: 429 - {\n",
      "  \"error\" : {\n",
      "    \"status\" : 429\n",
      "  }\n",
      "}\n",
      "<bound method Response.json of <Response [429]>>\n",
      "Error: 429 - {\n",
      "  \"error\" : {\n",
      "    \"status\" : 429\n",
      "  }\n",
      "}\n",
      "<bound method Response.json of <Response [429]>>\n"
     ]
    },
    {
     "name": "stderr",
     "output_type": "stream",
     "text": [
      "api_call...:  80%|█████████████████████▌     | 874/1096 [07:48<00:35,  6.20it/s]"
     ]
    },
    {
     "name": "stdout",
     "output_type": "stream",
     "text": [
      "Error: 429 - {\n",
      "  \"error\" : {\n",
      "    \"status\" : 429\n",
      "  }\n",
      "}\n",
      "<bound method Response.json of <Response [429]>>\n",
      "Error: 429 - {\n",
      "  \"error\" : {\n",
      "    \"status\" : 429\n",
      "  }\n",
      "}\n",
      "<bound method Response.json of <Response [429]>>\n"
     ]
    },
    {
     "name": "stderr",
     "output_type": "stream",
     "text": [
      "api_call...:  80%|█████████████████████▌     | 876/1096 [07:48<00:32,  6.87it/s]"
     ]
    },
    {
     "name": "stdout",
     "output_type": "stream",
     "text": [
      "Error: 429 - {\n",
      "  \"error\" : {\n",
      "    \"status\" : 429\n",
      "  }\n",
      "}\n",
      "<bound method Response.json of <Response [429]>>\n",
      "Error: 429 - {\n",
      "  \"error\" : {\n",
      "    \"status\" : 429\n",
      "  }\n",
      "}\n",
      "<bound method Response.json of <Response [429]>>\n"
     ]
    },
    {
     "name": "stderr",
     "output_type": "stream",
     "text": [
      "api_call...:  80%|█████████████████████▋     | 878/1096 [07:49<00:35,  6.15it/s]"
     ]
    },
    {
     "name": "stdout",
     "output_type": "stream",
     "text": [
      "Error: 429 - {\n",
      "  \"error\" : {\n",
      "    \"status\" : 429\n",
      "  }\n",
      "}\n",
      "<bound method Response.json of <Response [429]>>\n",
      "Error: 429 - {\n",
      "  \"error\" : {\n",
      "    \"status\" : 429\n",
      "  }\n",
      "}\n",
      "<bound method Response.json of <Response [429]>>\n"
     ]
    },
    {
     "name": "stderr",
     "output_type": "stream",
     "text": [
      "api_call...:  80%|█████████████████████▋     | 880/1096 [07:49<00:32,  6.74it/s]"
     ]
    },
    {
     "name": "stdout",
     "output_type": "stream",
     "text": [
      "Error: 429 - {\n",
      "  \"error\" : {\n",
      "    \"status\" : 429\n",
      "  }\n",
      "}\n",
      "<bound method Response.json of <Response [429]>>\n",
      "Error: 429 - {\n",
      "  \"error\" : {\n",
      "    \"status\" : 429\n",
      "  }\n",
      "}\n",
      "<bound method Response.json of <Response [429]>>\n"
     ]
    },
    {
     "name": "stderr",
     "output_type": "stream",
     "text": [
      "api_call...:  80%|█████████████████████▋     | 882/1096 [07:49<00:32,  6.64it/s]"
     ]
    },
    {
     "name": "stdout",
     "output_type": "stream",
     "text": [
      "Error: 429 - {\n",
      "  \"error\" : {\n",
      "    \"status\" : 429\n",
      "  }\n",
      "}\n",
      "<bound method Response.json of <Response [429]>>\n",
      "Error: 429 - {\n",
      "  \"error\" : {\n",
      "    \"status\" : 429\n",
      "  }\n",
      "}\n",
      "<bound method Response.json of <Response [429]>>\n"
     ]
    },
    {
     "name": "stderr",
     "output_type": "stream",
     "text": [
      "\r",
      "api_call...:  81%|█████████████████████▊     | 883/1096 [07:50<00:30,  6.88it/s]"
     ]
    },
    {
     "name": "stdout",
     "output_type": "stream",
     "text": [
      "Error: 429 - {\n",
      "  \"error\" : {\n",
      "    \"status\" : 429\n",
      "  }\n",
      "}\n",
      "<bound method Response.json of <Response [429]>>\n"
     ]
    },
    {
     "name": "stderr",
     "output_type": "stream",
     "text": [
      "api_call...:  81%|█████████████████████▊     | 885/1096 [07:50<00:33,  6.32it/s]"
     ]
    },
    {
     "name": "stdout",
     "output_type": "stream",
     "text": [
      "Error: 429 - {\n",
      "  \"error\" : {\n",
      "    \"status\" : 429\n",
      "  }\n",
      "}\n",
      "<bound method Response.json of <Response [429]>>\n",
      "Error: 429 - {\n",
      "  \"error\" : {\n",
      "    \"status\" : 429\n",
      "  }\n",
      "}\n",
      "<bound method Response.json of <Response [429]>>\n"
     ]
    },
    {
     "name": "stderr",
     "output_type": "stream",
     "text": [
      "api_call...:  81%|█████████████████████▊     | 887/1096 [07:50<00:31,  6.57it/s]"
     ]
    },
    {
     "name": "stdout",
     "output_type": "stream",
     "text": [
      "Error: 429 - {\n",
      "  \"error\" : {\n",
      "    \"status\" : 429\n",
      "  }\n",
      "}\n",
      "<bound method Response.json of <Response [429]>>\n",
      "Error: 429 - {\n",
      "  \"error\" : {\n",
      "    \"status\" : 429\n",
      "  }\n",
      "}\n",
      "<bound method Response.json of <Response [429]>>\n"
     ]
    },
    {
     "name": "stderr",
     "output_type": "stream",
     "text": [
      "api_call...:  81%|█████████████████████▉     | 889/1096 [07:51<00:34,  6.00it/s]"
     ]
    },
    {
     "name": "stdout",
     "output_type": "stream",
     "text": [
      "Error: 429 - {\n",
      "  \"error\" : {\n",
      "    \"status\" : 429\n",
      "  }\n",
      "}\n",
      "<bound method Response.json of <Response [429]>>\n",
      "Error: 429 - {\n",
      "  \"error\" : {\n",
      "    \"status\" : 429\n",
      "  }\n",
      "}\n",
      "<bound method Response.json of <Response [429]>>\n"
     ]
    },
    {
     "name": "stderr",
     "output_type": "stream",
     "text": [
      "api_call...:  81%|█████████████████████▉     | 891/1096 [07:51<00:38,  5.35it/s]"
     ]
    },
    {
     "name": "stdout",
     "output_type": "stream",
     "text": [
      "Error: 429 - {\n",
      "  \"error\" : {\n",
      "    \"status\" : 429\n",
      "  }\n",
      "}\n",
      "<bound method Response.json of <Response [429]>>\n",
      "Error: 429 - {\n",
      "  \"error\" : {\n",
      "    \"status\" : 429\n",
      "  }\n",
      "}\n",
      "<bound method Response.json of <Response [429]>>\n"
     ]
    },
    {
     "name": "stderr",
     "output_type": "stream",
     "text": [
      "\r",
      "api_call...:  81%|█████████████████████▉     | 892/1096 [07:51<00:34,  5.90it/s]"
     ]
    },
    {
     "name": "stdout",
     "output_type": "stream",
     "text": [
      "Error: 429 - {\n",
      "  \"error\" : {\n",
      "    \"status\" : 429\n",
      "  }\n",
      "}\n",
      "<bound method Response.json of <Response [429]>>\n"
     ]
    },
    {
     "name": "stderr",
     "output_type": "stream",
     "text": [
      "api_call...:  82%|██████████████████████     | 894/1096 [07:52<00:50,  4.02it/s]"
     ]
    },
    {
     "name": "stdout",
     "output_type": "stream",
     "text": [
      "Error: 429 - {\n",
      "  \"error\" : {\n",
      "    \"status\" : 429\n",
      "  }\n",
      "}\n",
      "<bound method Response.json of <Response [429]>>\n",
      "Error: 429 - {\n",
      "  \"error\" : {\n",
      "    \"status\" : 429\n",
      "  }\n",
      "}\n",
      "<bound method Response.json of <Response [429]>>\n"
     ]
    },
    {
     "name": "stderr",
     "output_type": "stream",
     "text": [
      "api_call...:  82%|██████████████████████     | 896/1096 [07:52<00:38,  5.25it/s]"
     ]
    },
    {
     "name": "stdout",
     "output_type": "stream",
     "text": [
      "Error: 429 - {\n",
      "  \"error\" : {\n",
      "    \"status\" : 429\n",
      "  }\n",
      "}\n",
      "<bound method Response.json of <Response [429]>>\n",
      "Error: 429 - {\n",
      "  \"error\" : {\n",
      "    \"status\" : 429\n",
      "  }\n",
      "}\n",
      "<bound method Response.json of <Response [429]>>\n"
     ]
    },
    {
     "name": "stderr",
     "output_type": "stream",
     "text": [
      "\r",
      "api_call...:  82%|██████████████████████     | 897/1096 [07:52<00:34,  5.79it/s]"
     ]
    },
    {
     "name": "stdout",
     "output_type": "stream",
     "text": [
      "Error: 429 - {\n",
      "  \"error\" : {\n",
      "    \"status\" : 429\n",
      "  }\n",
      "}\n",
      "<bound method Response.json of <Response [429]>>\n"
     ]
    },
    {
     "name": "stderr",
     "output_type": "stream",
     "text": [
      "api_call...:  82%|██████████████████████▏    | 899/1096 [07:53<00:32,  5.98it/s]"
     ]
    },
    {
     "name": "stdout",
     "output_type": "stream",
     "text": [
      "Error: 429 - {\n",
      "  \"error\" : {\n",
      "    \"status\" : 429\n",
      "  }\n",
      "}\n",
      "<bound method Response.json of <Response [429]>>\n",
      "Error: 429 - {\n",
      "  \"error\" : {\n",
      "    \"status\" : 429\n",
      "  }\n",
      "}\n",
      "<bound method Response.json of <Response [429]>>\n"
     ]
    },
    {
     "name": "stderr",
     "output_type": "stream",
     "text": [
      "\r",
      "api_call...:  82%|██████████████████████▏    | 900/1096 [07:53<00:33,  5.86it/s]"
     ]
    },
    {
     "name": "stdout",
     "output_type": "stream",
     "text": [
      "Error: 429 - {\n",
      "  \"error\" : {\n",
      "    \"status\" : 429\n",
      "  }\n",
      "}\n",
      "<bound method Response.json of <Response [429]>>\n"
     ]
    },
    {
     "name": "stderr",
     "output_type": "stream",
     "text": [
      "api_call...:  82%|██████████████████████▏    | 902/1096 [08:28<24:15,  7.50s/it]"
     ]
    },
    {
     "name": "stdout",
     "output_type": "stream",
     "text": [
      "Error: 429 - {\n",
      "  \"error\" : {\n",
      "    \"status\" : 429\n",
      "  }\n",
      "}\n",
      "<bound method Response.json of <Response [429]>>\n",
      "Error: 429 - {\n",
      "  \"error\" : {\n",
      "    \"status\" : 429\n",
      "  }\n",
      "}\n",
      "<bound method Response.json of <Response [429]>>\n"
     ]
    },
    {
     "name": "stderr",
     "output_type": "stream",
     "text": [
      "api_call...:  82%|██████████████████████▎    | 904/1096 [08:28<11:58,  3.74s/it]"
     ]
    },
    {
     "name": "stdout",
     "output_type": "stream",
     "text": [
      "Error: 429 - {\n",
      "  \"error\" : {\n",
      "    \"status\" : 429\n",
      "  }\n",
      "}\n",
      "<bound method Response.json of <Response [429]>>\n",
      "Error: 429 - {\n",
      "  \"error\" : {\n",
      "    \"status\" : 429\n",
      "  }\n",
      "}\n",
      "<bound method Response.json of <Response [429]>>\n"
     ]
    },
    {
     "name": "stderr",
     "output_type": "stream",
     "text": [
      "api_call...:  83%|██████████████████████▎    | 906/1096 [08:29<06:06,  1.93s/it]"
     ]
    },
    {
     "name": "stdout",
     "output_type": "stream",
     "text": [
      "Error: 429 - {\n",
      "  \"error\" : {\n",
      "    \"status\" : 429\n",
      "  }\n",
      "}\n",
      "<bound method Response.json of <Response [429]>>\n",
      "Error: 429 - {\n",
      "  \"error\" : {\n",
      "    \"status\" : 429\n",
      "  }\n",
      "}\n",
      "<bound method Response.json of <Response [429]>>\n"
     ]
    },
    {
     "name": "stderr",
     "output_type": "stream",
     "text": [
      "api_call...:  83%|██████████████████████▎    | 908/1096 [08:29<03:11,  1.02s/it]"
     ]
    },
    {
     "name": "stdout",
     "output_type": "stream",
     "text": [
      "Error: 429 - {\n",
      "  \"error\" : {\n",
      "    \"status\" : 429\n",
      "  }\n",
      "}\n",
      "<bound method Response.json of <Response [429]>>\n",
      "Error: 429 - {\n",
      "  \"error\" : {\n",
      "    \"status\" : 429\n",
      "  }\n",
      "}\n",
      "<bound method Response.json of <Response [429]>>\n"
     ]
    },
    {
     "name": "stderr",
     "output_type": "stream",
     "text": [
      "\r",
      "api_call...:  83%|██████████████████████▍    | 909/1096 [08:29<02:26,  1.28it/s]"
     ]
    },
    {
     "name": "stdout",
     "output_type": "stream",
     "text": [
      "Error: 429 - {\n",
      "  \"error\" : {\n",
      "    \"status\" : 429\n",
      "  }\n",
      "}\n",
      "<bound method Response.json of <Response [429]>>\n"
     ]
    },
    {
     "name": "stderr",
     "output_type": "stream",
     "text": [
      "api_call...:  83%|██████████████████████▍    | 911/1096 [08:30<01:28,  2.09it/s]"
     ]
    },
    {
     "name": "stdout",
     "output_type": "stream",
     "text": [
      "Error: 429 - {\n",
      "  \"error\" : {\n",
      "    \"status\" : 429\n",
      "  }\n",
      "}\n",
      "<bound method Response.json of <Response [429]>>\n",
      "Error: 429 - {\n",
      "  \"error\" : {\n",
      "    \"status\" : 429\n",
      "  }\n",
      "}\n",
      "<bound method Response.json of <Response [429]>>\n"
     ]
    },
    {
     "name": "stderr",
     "output_type": "stream",
     "text": [
      "api_call...:  83%|██████████████████████▍    | 913/1096 [08:30<00:55,  3.28it/s]"
     ]
    },
    {
     "name": "stdout",
     "output_type": "stream",
     "text": [
      "Error: 429 - {\n",
      "  \"error\" : {\n",
      "    \"status\" : 429\n",
      "  }\n",
      "}\n",
      "<bound method Response.json of <Response [429]>>\n",
      "Error: 429 - {\n",
      "  \"error\" : {\n",
      "    \"status\" : 429\n",
      "  }\n",
      "}\n",
      "<bound method Response.json of <Response [429]>>\n"
     ]
    },
    {
     "name": "stderr",
     "output_type": "stream",
     "text": [
      "\r",
      "api_call...:  83%|██████████████████████▌    | 914/1096 [08:30<00:46,  3.94it/s]"
     ]
    },
    {
     "name": "stdout",
     "output_type": "stream",
     "text": [
      "Error: 429 - {\n",
      "  \"error\" : {\n",
      "    \"status\" : 429\n",
      "  }\n",
      "}\n",
      "<bound method Response.json of <Response [429]>>\n"
     ]
    },
    {
     "name": "stderr",
     "output_type": "stream",
     "text": [
      "api_call...:  84%|██████████████████████▌    | 916/1096 [08:30<00:38,  4.71it/s]"
     ]
    },
    {
     "name": "stdout",
     "output_type": "stream",
     "text": [
      "Error: 429 - {\n",
      "  \"error\" : {\n",
      "    \"status\" : 429\n",
      "  }\n",
      "}\n",
      "<bound method Response.json of <Response [429]>>\n",
      "Error: 429 - {\n",
      "  \"error\" : {\n",
      "    \"status\" : 429\n",
      "  }\n",
      "}\n",
      "<bound method Response.json of <Response [429]>>\n"
     ]
    },
    {
     "name": "stderr",
     "output_type": "stream",
     "text": [
      "api_call...:  84%|██████████████████████▌    | 918/1096 [08:31<00:31,  5.70it/s]"
     ]
    },
    {
     "name": "stdout",
     "output_type": "stream",
     "text": [
      "Error: 429 - {\n",
      "  \"error\" : {\n",
      "    \"status\" : 429\n",
      "  }\n",
      "}\n",
      "<bound method Response.json of <Response [429]>>\n",
      "Error: 429 - {\n",
      "  \"error\" : {\n",
      "    \"status\" : 429\n",
      "  }\n",
      "}\n",
      "<bound method Response.json of <Response [429]>>\n"
     ]
    },
    {
     "name": "stderr",
     "output_type": "stream",
     "text": [
      "api_call...:  84%|██████████████████████▋    | 920/1096 [08:31<00:29,  5.94it/s]"
     ]
    },
    {
     "name": "stdout",
     "output_type": "stream",
     "text": [
      "Error: 429 - {\n",
      "  \"error\" : {\n",
      "    \"status\" : 429\n",
      "  }\n",
      "}\n",
      "<bound method Response.json of <Response [429]>>\n",
      "Error: 429 - {\n",
      "  \"error\" : {\n",
      "    \"status\" : 429\n",
      "  }\n",
      "}\n",
      "<bound method Response.json of <Response [429]>>\n"
     ]
    },
    {
     "name": "stderr",
     "output_type": "stream",
     "text": [
      "\r",
      "api_call...:  84%|██████████████████████▋    | 921/1096 [08:31<00:31,  5.54it/s]"
     ]
    },
    {
     "name": "stdout",
     "output_type": "stream",
     "text": [
      "Error: 429 - {\n",
      "  \"error\" : {\n",
      "    \"status\" : 429\n",
      "  }\n",
      "}\n",
      "<bound method Response.json of <Response [429]>>\n"
     ]
    },
    {
     "name": "stderr",
     "output_type": "stream",
     "text": [
      "api_call...:  84%|██████████████████████▋    | 923/1096 [08:32<00:41,  4.21it/s]"
     ]
    },
    {
     "name": "stdout",
     "output_type": "stream",
     "text": [
      "Error: 429 - {\n",
      "  \"error\" : {\n",
      "    \"status\" : 429\n",
      "  }\n",
      "}\n",
      "<bound method Response.json of <Response [429]>>\n",
      "Error: 429 - {\n",
      "  \"error\" : {\n",
      "    \"status\" : 429\n",
      "  }\n",
      "}\n",
      "<bound method Response.json of <Response [429]>>\n"
     ]
    },
    {
     "name": "stderr",
     "output_type": "stream",
     "text": [
      "api_call...:  84%|██████████████████████▊    | 925/1096 [08:32<00:31,  5.44it/s]"
     ]
    },
    {
     "name": "stdout",
     "output_type": "stream",
     "text": [
      "Error: 429 - {\n",
      "  \"error\" : {\n",
      "    \"status\" : 429\n",
      "  }\n",
      "}\n",
      "<bound method Response.json of <Response [429]>>\n",
      "Error: 429 - {\n",
      "  \"error\" : {\n",
      "    \"status\" : 429\n",
      "  }\n",
      "}\n",
      "<bound method Response.json of <Response [429]>>\n"
     ]
    },
    {
     "name": "stderr",
     "output_type": "stream",
     "text": [
      "api_call...:  85%|██████████████████████▊    | 927/1096 [08:32<00:29,  5.75it/s]"
     ]
    },
    {
     "name": "stdout",
     "output_type": "stream",
     "text": [
      "Error: 429 - {\n",
      "  \"error\" : {\n",
      "    \"status\" : 429\n",
      "  }\n",
      "}\n",
      "<bound method Response.json of <Response [429]>>\n",
      "Error: 429 - {\n",
      "  \"error\" : {\n",
      "    \"status\" : 429\n",
      "  }\n",
      "}\n",
      "<bound method Response.json of <Response [429]>>\n"
     ]
    },
    {
     "name": "stderr",
     "output_type": "stream",
     "text": [
      "\r",
      "api_call...:  85%|██████████████████████▊    | 928/1096 [08:33<00:29,  5.75it/s]"
     ]
    },
    {
     "name": "stdout",
     "output_type": "stream",
     "text": [
      "Error: 429 - {\n",
      "  \"error\" : {\n",
      "    \"status\" : 429\n",
      "  }\n",
      "}\n",
      "<bound method Response.json of <Response [429]>>\n"
     ]
    },
    {
     "name": "stderr",
     "output_type": "stream",
     "text": [
      "api_call...:  85%|██████████████████████▉    | 930/1096 [08:33<00:31,  5.27it/s]"
     ]
    },
    {
     "name": "stdout",
     "output_type": "stream",
     "text": [
      "Error: 429 - {\n",
      "  \"error\" : {\n",
      "    \"status\" : 429\n",
      "  }\n",
      "}\n",
      "<bound method Response.json of <Response [429]>>\n",
      "Error: 429 - {\n",
      "  \"error\" : {\n",
      "    \"status\" : 429\n",
      "  }\n",
      "}\n",
      "<bound method Response.json of <Response [429]>>\n"
     ]
    },
    {
     "name": "stderr",
     "output_type": "stream",
     "text": [
      "api_call...:  85%|██████████████████████▉    | 932/1096 [08:33<00:29,  5.50it/s]"
     ]
    },
    {
     "name": "stdout",
     "output_type": "stream",
     "text": [
      "Error: 429 - {\n",
      "  \"error\" : {\n",
      "    \"status\" : 429\n",
      "  }\n",
      "}\n",
      "<bound method Response.json of <Response [429]>>\n",
      "Error: 429 - {\n",
      "  \"error\" : {\n",
      "    \"status\" : 429\n",
      "  }\n",
      "}\n",
      "<bound method Response.json of <Response [429]>>\n"
     ]
    },
    {
     "name": "stderr",
     "output_type": "stream",
     "text": [
      "\r",
      "api_call...:  85%|██████████████████████▉    | 933/1096 [08:34<00:27,  5.90it/s]"
     ]
    },
    {
     "name": "stdout",
     "output_type": "stream",
     "text": [
      "Error: 429 - {\n",
      "  \"error\" : {\n",
      "    \"status\" : 429\n",
      "  }\n",
      "}\n",
      "<bound method Response.json of <Response [429]>>\n"
     ]
    },
    {
     "name": "stderr",
     "output_type": "stream",
     "text": [
      "api_call...:  85%|███████████████████████    | 935/1096 [08:34<00:28,  5.73it/s]"
     ]
    },
    {
     "name": "stdout",
     "output_type": "stream",
     "text": [
      "Error: 429 - {\n",
      "  \"error\" : {\n",
      "    \"status\" : 429\n",
      "  }\n",
      "}\n",
      "<bound method Response.json of <Response [429]>>\n",
      "Error: 429 - {\n",
      "  \"error\" : {\n",
      "    \"status\" : 429\n",
      "  }\n",
      "}\n",
      "<bound method Response.json of <Response [429]>>\n"
     ]
    },
    {
     "name": "stderr",
     "output_type": "stream",
     "text": [
      "api_call...:  85%|███████████████████████    | 937/1096 [08:34<00:24,  6.57it/s]"
     ]
    },
    {
     "name": "stdout",
     "output_type": "stream",
     "text": [
      "Error: 429 - {\n",
      "  \"error\" : {\n",
      "    \"status\" : 429\n",
      "  }\n",
      "}\n",
      "<bound method Response.json of <Response [429]>>\n",
      "Error: 429 - {\n",
      "  \"error\" : {\n",
      "    \"status\" : 429\n",
      "  }\n",
      "}\n",
      "<bound method Response.json of <Response [429]>>\n"
     ]
    },
    {
     "name": "stderr",
     "output_type": "stream",
     "text": [
      "api_call...:  86%|███████████████████████▏   | 939/1096 [08:34<00:21,  7.25it/s]"
     ]
    },
    {
     "name": "stdout",
     "output_type": "stream",
     "text": [
      "Error: 429 - {\n",
      "  \"error\" : {\n",
      "    \"status\" : 429\n",
      "  }\n",
      "}\n",
      "<bound method Response.json of <Response [429]>>\n",
      "Error: 429 - {\n",
      "  \"error\" : {\n",
      "    \"status\" : 429\n",
      "  }\n",
      "}\n",
      "<bound method Response.json of <Response [429]>>\n"
     ]
    },
    {
     "name": "stderr",
     "output_type": "stream",
     "text": [
      "\r",
      "api_call...:  86%|███████████████████████▏   | 940/1096 [08:35<00:27,  5.60it/s]"
     ]
    },
    {
     "name": "stdout",
     "output_type": "stream",
     "text": [
      "Error: 429 - {\n",
      "  \"error\" : {\n",
      "    \"status\" : 429\n",
      "  }\n",
      "}\n",
      "<bound method Response.json of <Response [429]>>\n"
     ]
    },
    {
     "name": "stderr",
     "output_type": "stream",
     "text": [
      "api_call...:  86%|███████████████████████▏   | 942/1096 [08:35<00:28,  5.40it/s]"
     ]
    },
    {
     "name": "stdout",
     "output_type": "stream",
     "text": [
      "Error: 429 - {\n",
      "  \"error\" : {\n",
      "    \"status\" : 429\n",
      "  }\n",
      "}\n",
      "<bound method Response.json of <Response [429]>>\n",
      "Error: 429 - {\n",
      "  \"error\" : {\n",
      "    \"status\" : 429\n",
      "  }\n",
      "}\n",
      "<bound method Response.json of <Response [429]>>\n"
     ]
    },
    {
     "name": "stderr",
     "output_type": "stream",
     "text": [
      "\r",
      "api_call...:  86%|███████████████████████▏   | 943/1096 [08:35<00:25,  5.97it/s]"
     ]
    },
    {
     "name": "stdout",
     "output_type": "stream",
     "text": [
      "Error: 429 - {\n",
      "  \"error\" : {\n",
      "    \"status\" : 429\n",
      "  }\n",
      "}\n",
      "<bound method Response.json of <Response [429]>>\n"
     ]
    },
    {
     "name": "stderr",
     "output_type": "stream",
     "text": [
      "api_call...:  86%|███████████████████████▎   | 945/1096 [08:36<00:25,  5.91it/s]"
     ]
    },
    {
     "name": "stdout",
     "output_type": "stream",
     "text": [
      "Error: 429 - {\n",
      "  \"error\" : {\n",
      "    \"status\" : 429\n",
      "  }\n",
      "}\n",
      "<bound method Response.json of <Response [429]>>\n",
      "Error: 429 - {\n",
      "  \"error\" : {\n",
      "    \"status\" : 429\n",
      "  }\n",
      "}\n",
      "<bound method Response.json of <Response [429]>>\n"
     ]
    },
    {
     "name": "stderr",
     "output_type": "stream",
     "text": [
      "\r",
      "api_call...:  86%|███████████████████████▎   | 946/1096 [08:36<00:25,  5.99it/s]"
     ]
    },
    {
     "name": "stdout",
     "output_type": "stream",
     "text": [
      "Error: 429 - {\n",
      "  \"error\" : {\n",
      "    \"status\" : 429\n",
      "  }\n",
      "}\n",
      "<bound method Response.json of <Response [429]>>\n"
     ]
    },
    {
     "name": "stderr",
     "output_type": "stream",
     "text": [
      "api_call...:  86%|███████████████████████▎   | 948/1096 [08:36<00:24,  6.10it/s]"
     ]
    },
    {
     "name": "stdout",
     "output_type": "stream",
     "text": [
      "Error: 429 - {\n",
      "  \"error\" : {\n",
      "    \"status\" : 429\n",
      "  }\n",
      "}\n",
      "<bound method Response.json of <Response [429]>>\n",
      "Error: 429 - {\n",
      "  \"error\" : {\n",
      "    \"status\" : 429\n",
      "  }\n",
      "}\n",
      "<bound method Response.json of <Response [429]>>\n"
     ]
    },
    {
     "name": "stderr",
     "output_type": "stream",
     "text": [
      "\r",
      "api_call...:  87%|███████████████████████▍   | 949/1096 [08:36<00:22,  6.43it/s]"
     ]
    },
    {
     "name": "stdout",
     "output_type": "stream",
     "text": [
      "Error: 429 - {\n",
      "  \"error\" : {\n",
      "    \"status\" : 429\n",
      "  }\n",
      "}\n",
      "<bound method Response.json of <Response [429]>>\n"
     ]
    },
    {
     "name": "stderr",
     "output_type": "stream",
     "text": [
      "api_call...:  87%|███████████████████████▍   | 951/1096 [08:37<00:25,  5.64it/s]"
     ]
    },
    {
     "name": "stdout",
     "output_type": "stream",
     "text": [
      "Error: 429 - {\n",
      "  \"error\" : {\n",
      "    \"status\" : 429\n",
      "  }\n",
      "}\n",
      "<bound method Response.json of <Response [429]>>\n",
      "Error: 429 - {\n",
      "  \"error\" : {\n",
      "    \"status\" : 429\n",
      "  }\n",
      "}\n",
      "<bound method Response.json of <Response [429]>>\n"
     ]
    },
    {
     "name": "stderr",
     "output_type": "stream",
     "text": [
      "\r",
      "api_call...:  87%|███████████████████████▍   | 952/1096 [08:37<00:24,  5.87it/s]"
     ]
    },
    {
     "name": "stdout",
     "output_type": "stream",
     "text": [
      "Error: 429 - {\n",
      "  \"error\" : {\n",
      "    \"status\" : 429\n",
      "  }\n",
      "}\n",
      "<bound method Response.json of <Response [429]>>\n"
     ]
    },
    {
     "name": "stderr",
     "output_type": "stream",
     "text": [
      "api_call...:  87%|███████████████████████▌   | 954/1096 [08:37<00:25,  5.59it/s]"
     ]
    },
    {
     "name": "stdout",
     "output_type": "stream",
     "text": [
      "Error: 429 - {\n",
      "  \"error\" : {\n",
      "    \"status\" : 429\n",
      "  }\n",
      "}\n",
      "<bound method Response.json of <Response [429]>>\n",
      "Error: 429 - {\n",
      "  \"error\" : {\n",
      "    \"status\" : 429\n",
      "  }\n",
      "}\n",
      "<bound method Response.json of <Response [429]>>\n"
     ]
    },
    {
     "name": "stderr",
     "output_type": "stream",
     "text": [
      "\r",
      "api_call...:  87%|███████████████████████▌   | 955/1096 [08:37<00:23,  6.01it/s]"
     ]
    },
    {
     "name": "stdout",
     "output_type": "stream",
     "text": [
      "Error: 429 - {\n",
      "  \"error\" : {\n",
      "    \"status\" : 429\n",
      "  }\n",
      "}\n",
      "<bound method Response.json of <Response [429]>>\n"
     ]
    },
    {
     "name": "stderr",
     "output_type": "stream",
     "text": [
      "api_call...:  87%|███████████████████████▌   | 957/1096 [08:38<00:23,  6.02it/s]"
     ]
    },
    {
     "name": "stdout",
     "output_type": "stream",
     "text": [
      "Error: 429 - {\n",
      "  \"error\" : {\n",
      "    \"status\" : 429\n",
      "  }\n",
      "}\n",
      "<bound method Response.json of <Response [429]>>\n",
      "Error: 429 - {\n",
      "  \"error\" : {\n",
      "    \"status\" : 429\n",
      "  }\n",
      "}\n",
      "<bound method Response.json of <Response [429]>>\n"
     ]
    },
    {
     "name": "stderr",
     "output_type": "stream",
     "text": [
      "\r",
      "api_call...:  87%|███████████████████████▌   | 958/1096 [08:38<00:23,  5.96it/s]"
     ]
    },
    {
     "name": "stdout",
     "output_type": "stream",
     "text": [
      "Error: 429 - {\n",
      "  \"error\" : {\n",
      "    \"status\" : 429\n",
      "  }\n",
      "}\n",
      "<bound method Response.json of <Response [429]>>\n"
     ]
    },
    {
     "name": "stderr",
     "output_type": "stream",
     "text": [
      "\r",
      "api_call...:  88%|███████████████████████▋   | 959/1096 [08:38<00:37,  3.64it/s]"
     ]
    },
    {
     "name": "stdout",
     "output_type": "stream",
     "text": [
      "Error: 429 - {\n",
      "  \"error\" : {\n",
      "    \"status\" : 429\n",
      "  }\n",
      "}\n",
      "<bound method Response.json of <Response [429]>>\n"
     ]
    },
    {
     "name": "stderr",
     "output_type": "stream",
     "text": [
      "api_call...:  88%|███████████████████████▋   | 961/1096 [08:39<00:44,  3.01it/s]"
     ]
    },
    {
     "name": "stdout",
     "output_type": "stream",
     "text": [
      "Error: 429 - {\n",
      "  \"error\" : {\n",
      "    \"status\" : 429\n",
      "  }\n",
      "}\n",
      "<bound method Response.json of <Response [429]>>\n",
      "Error: 429 - {\n",
      "  \"error\" : {\n",
      "    \"status\" : 429\n",
      "  }\n",
      "}\n",
      "<bound method Response.json of <Response [429]>>\n"
     ]
    },
    {
     "name": "stderr",
     "output_type": "stream",
     "text": [
      "api_call...:  88%|███████████████████████▋   | 963/1096 [08:40<00:31,  4.18it/s]"
     ]
    },
    {
     "name": "stdout",
     "output_type": "stream",
     "text": [
      "Error: 429 - {\n",
      "  \"error\" : {\n",
      "    \"status\" : 429\n",
      "  }\n",
      "}\n",
      "<bound method Response.json of <Response [429]>>\n",
      "Error: 429 - {\n",
      "  \"error\" : {\n",
      "    \"status\" : 429\n",
      "  }\n",
      "}\n",
      "<bound method Response.json of <Response [429]>>\n"
     ]
    },
    {
     "name": "stderr",
     "output_type": "stream",
     "text": [
      "api_call...:  88%|███████████████████████▊   | 965/1096 [08:40<00:24,  5.43it/s]"
     ]
    },
    {
     "name": "stdout",
     "output_type": "stream",
     "text": [
      "Error: 429 - {\n",
      "  \"error\" : {\n",
      "    \"status\" : 429\n",
      "  }\n",
      "}\n",
      "<bound method Response.json of <Response [429]>>\n",
      "Error: 429 - {\n",
      "  \"error\" : {\n",
      "    \"status\" : 429\n",
      "  }\n",
      "}\n",
      "<bound method Response.json of <Response [429]>>\n"
     ]
    },
    {
     "name": "stderr",
     "output_type": "stream",
     "text": [
      "api_call...:  88%|███████████████████████▊   | 967/1096 [08:40<00:24,  5.35it/s]"
     ]
    },
    {
     "name": "stdout",
     "output_type": "stream",
     "text": [
      "Error: 429 - {\n",
      "  \"error\" : {\n",
      "    \"status\" : 429\n",
      "  }\n",
      "}\n",
      "<bound method Response.json of <Response [429]>>\n",
      "Error: 429 - {\n",
      "  \"error\" : {\n",
      "    \"status\" : 429\n",
      "  }\n",
      "}\n",
      "<bound method Response.json of <Response [429]>>\n"
     ]
    },
    {
     "name": "stderr",
     "output_type": "stream",
     "text": [
      "api_call...:  88%|███████████████████████▊   | 969/1096 [08:41<00:19,  6.45it/s]"
     ]
    },
    {
     "name": "stdout",
     "output_type": "stream",
     "text": [
      "Error: 429 - {\n",
      "  \"error\" : {\n",
      "    \"status\" : 429\n",
      "  }\n",
      "}\n",
      "<bound method Response.json of <Response [429]>>\n",
      "Error: 429 - {\n",
      "  \"error\" : {\n",
      "    \"status\" : 429\n",
      "  }\n",
      "}\n",
      "<bound method Response.json of <Response [429]>>\n"
     ]
    },
    {
     "name": "stderr",
     "output_type": "stream",
     "text": [
      "\r",
      "api_call...:  89%|███████████████████████▉   | 970/1096 [08:41<00:30,  4.08it/s]"
     ]
    },
    {
     "name": "stdout",
     "output_type": "stream",
     "text": [
      "Error: 429 - {\n",
      "  \"error\" : {\n",
      "    \"status\" : 429\n",
      "  }\n",
      "}\n",
      "<bound method Response.json of <Response [429]>>\n"
     ]
    },
    {
     "name": "stderr",
     "output_type": "stream",
     "text": [
      "\r",
      "api_call...:  89%|███████████████████████▉   | 971/1096 [08:41<00:29,  4.26it/s]"
     ]
    },
    {
     "name": "stdout",
     "output_type": "stream",
     "text": [
      "Error: 429 - {\n",
      "  \"error\" : {\n",
      "    \"status\" : 429\n",
      "  }\n",
      "}\n",
      "<bound method Response.json of <Response [429]>>\n"
     ]
    },
    {
     "name": "stderr",
     "output_type": "stream",
     "text": [
      "api_call...:  89%|███████████████████████▉   | 973/1096 [08:42<00:31,  3.85it/s]"
     ]
    },
    {
     "name": "stdout",
     "output_type": "stream",
     "text": [
      "Error: 429 - {\n",
      "  \"error\" : {\n",
      "    \"status\" : 429\n",
      "  }\n",
      "}\n",
      "<bound method Response.json of <Response [429]>>\n",
      "Error: 429 - {\n",
      "  \"error\" : {\n",
      "    \"status\" : 429\n",
      "  }\n",
      "}\n",
      "<bound method Response.json of <Response [429]>>\n"
     ]
    },
    {
     "name": "stderr",
     "output_type": "stream",
     "text": [
      "\r",
      "api_call...:  89%|███████████████████████▉   | 974/1096 [08:42<00:28,  4.29it/s]"
     ]
    },
    {
     "name": "stdout",
     "output_type": "stream",
     "text": [
      "Error: 429 - {\n",
      "  \"error\" : {\n",
      "    \"status\" : 429\n",
      "  }\n",
      "}\n",
      "<bound method Response.json of <Response [429]>>\n"
     ]
    },
    {
     "name": "stderr",
     "output_type": "stream",
     "text": [
      "api_call...:  89%|████████████████████████   | 976/1096 [08:42<00:24,  4.92it/s]"
     ]
    },
    {
     "name": "stdout",
     "output_type": "stream",
     "text": [
      "Error: 429 - {\n",
      "  \"error\" : {\n",
      "    \"status\" : 429\n",
      "  }\n",
      "}\n",
      "<bound method Response.json of <Response [429]>>\n",
      "Error: 429 - {\n",
      "  \"error\" : {\n",
      "    \"status\" : 429\n",
      "  }\n",
      "}\n",
      "<bound method Response.json of <Response [429]>>\n"
     ]
    },
    {
     "name": "stderr",
     "output_type": "stream",
     "text": [
      "\r",
      "api_call...:  89%|████████████████████████   | 977/1096 [08:42<00:21,  5.42it/s]"
     ]
    },
    {
     "name": "stdout",
     "output_type": "stream",
     "text": [
      "Error: 429 - {\n",
      "  \"error\" : {\n",
      "    \"status\" : 429\n",
      "  }\n",
      "}\n",
      "<bound method Response.json of <Response [429]>>\n"
     ]
    },
    {
     "name": "stderr",
     "output_type": "stream",
     "text": [
      "\r",
      "api_call...:  89%|████████████████████████   | 978/1096 [08:43<00:37,  3.11it/s]"
     ]
    },
    {
     "name": "stdout",
     "output_type": "stream",
     "text": [
      "Error: 429 - {\n",
      "  \"error\" : {\n",
      "    \"status\" : 429\n",
      "  }\n",
      "}\n",
      "<bound method Response.json of <Response [429]>>\n"
     ]
    },
    {
     "name": "stderr",
     "output_type": "stream",
     "text": [
      "api_call...:  89%|████████████████████████▏  | 980/1096 [08:43<00:28,  4.13it/s]"
     ]
    },
    {
     "name": "stdout",
     "output_type": "stream",
     "text": [
      "Error: 429 - {\n",
      "  \"error\" : {\n",
      "    \"status\" : 429\n",
      "  }\n",
      "}\n",
      "<bound method Response.json of <Response [429]>>\n",
      "Error: 429 - {\n",
      "  \"error\" : {\n",
      "    \"status\" : 429\n",
      "  }\n",
      "}\n",
      "<bound method Response.json of <Response [429]>>\n"
     ]
    },
    {
     "name": "stderr",
     "output_type": "stream",
     "text": [
      "api_call...:  90%|████████████████████████▏  | 982/1096 [08:44<00:22,  5.01it/s]"
     ]
    },
    {
     "name": "stdout",
     "output_type": "stream",
     "text": [
      "Error: 429 - {\n",
      "  \"error\" : {\n",
      "    \"status\" : 429\n",
      "  }\n",
      "}\n",
      "<bound method Response.json of <Response [429]>>\n",
      "Error: 429 - {\n",
      "  \"error\" : {\n",
      "    \"status\" : 429\n",
      "  }\n",
      "}\n",
      "<bound method Response.json of <Response [429]>>\n"
     ]
    },
    {
     "name": "stderr",
     "output_type": "stream",
     "text": [
      "\r",
      "api_call...:  90%|████████████████████████▏  | 983/1096 [08:44<00:20,  5.64it/s]"
     ]
    },
    {
     "name": "stdout",
     "output_type": "stream",
     "text": [
      "Error: 429 - {\n",
      "  \"error\" : {\n",
      "    \"status\" : 429\n",
      "  }\n",
      "}\n",
      "<bound method Response.json of <Response [429]>>\n"
     ]
    },
    {
     "name": "stderr",
     "output_type": "stream",
     "text": [
      "\r",
      "api_call...:  90%|████████████████████████▏  | 984/1096 [08:44<00:22,  4.88it/s]"
     ]
    },
    {
     "name": "stdout",
     "output_type": "stream",
     "text": [
      "Error: 429 - {\n",
      "  \"error\" : {\n",
      "    \"status\" : 429\n",
      "  }\n",
      "}\n",
      "<bound method Response.json of <Response [429]>>\n"
     ]
    },
    {
     "name": "stderr",
     "output_type": "stream",
     "text": [
      "api_call...:  90%|████████████████████████▎  | 986/1096 [08:45<00:22,  4.84it/s]"
     ]
    },
    {
     "name": "stdout",
     "output_type": "stream",
     "text": [
      "Error: 429 - {\n",
      "  \"error\" : {\n",
      "    \"status\" : 429\n",
      "  }\n",
      "}\n",
      "<bound method Response.json of <Response [429]>>\n",
      "Error: 429 - {\n",
      "  \"error\" : {\n",
      "    \"status\" : 429\n",
      "  }\n",
      "}\n",
      "<bound method Response.json of <Response [429]>>\n"
     ]
    },
    {
     "name": "stderr",
     "output_type": "stream",
     "text": [
      "api_call...:  90%|████████████████████████▎  | 988/1096 [08:45<00:20,  5.18it/s]"
     ]
    },
    {
     "name": "stdout",
     "output_type": "stream",
     "text": [
      "Error: 429 - {\n",
      "  \"error\" : {\n",
      "    \"status\" : 429\n",
      "  }\n",
      "}\n",
      "<bound method Response.json of <Response [429]>>\n",
      "Error: 429 - {\n",
      "  \"error\" : {\n",
      "    \"status\" : 429\n",
      "  }\n",
      "}\n",
      "<bound method Response.json of <Response [429]>>\n"
     ]
    },
    {
     "name": "stderr",
     "output_type": "stream",
     "text": [
      "\r",
      "api_call...:  90%|████████████████████████▎  | 989/1096 [08:45<00:22,  4.75it/s]"
     ]
    },
    {
     "name": "stdout",
     "output_type": "stream",
     "text": [
      "Error: 429 - {\n",
      "  \"error\" : {\n",
      "    \"status\" : 429\n",
      "  }\n",
      "}\n",
      "<bound method Response.json of <Response [429]>>\n"
     ]
    },
    {
     "name": "stderr",
     "output_type": "stream",
     "text": [
      "api_call...:  90%|████████████████████████▍  | 991/1096 [08:46<00:23,  4.39it/s]"
     ]
    },
    {
     "name": "stdout",
     "output_type": "stream",
     "text": [
      "Error: 429 - {\n",
      "  \"error\" : {\n",
      "    \"status\" : 429\n",
      "  }\n",
      "}\n",
      "<bound method Response.json of <Response [429]>>\n",
      "Error: 429 - {\n",
      "  \"error\" : {\n",
      "    \"status\" : 429\n",
      "  }\n",
      "}\n",
      "<bound method Response.json of <Response [429]>>\n"
     ]
    },
    {
     "name": "stderr",
     "output_type": "stream",
     "text": [
      "\r",
      "api_call...:  91%|████████████████████████▍  | 992/1096 [08:46<00:24,  4.19it/s]"
     ]
    },
    {
     "name": "stdout",
     "output_type": "stream",
     "text": [
      "Error: 429 - {\n",
      "  \"error\" : {\n",
      "    \"status\" : 429\n",
      "  }\n",
      "}\n",
      "<bound method Response.json of <Response [429]>>\n"
     ]
    },
    {
     "name": "stderr",
     "output_type": "stream",
     "text": [
      "\r",
      "api_call...:  91%|████████████████████████▍  | 993/1096 [08:46<00:24,  4.14it/s]"
     ]
    },
    {
     "name": "stdout",
     "output_type": "stream",
     "text": [
      "Error: 429 - {\n",
      "  \"error\" : {\n",
      "    \"status\" : 429\n",
      "  }\n",
      "}\n",
      "<bound method Response.json of <Response [429]>>\n"
     ]
    },
    {
     "name": "stderr",
     "output_type": "stream",
     "text": [
      "api_call...:  91%|████████████████████████▌  | 995/1096 [08:47<00:33,  3.04it/s]"
     ]
    },
    {
     "name": "stdout",
     "output_type": "stream",
     "text": [
      "Error: 429 - {\n",
      "  \"error\" : {\n",
      "    \"status\" : 429\n",
      "  }\n",
      "}\n",
      "<bound method Response.json of <Response [429]>>\n",
      "Error: 429 - {\n",
      "  \"error\" : {\n",
      "    \"status\" : 429\n",
      "  }\n",
      "}\n",
      "<bound method Response.json of <Response [429]>>\n"
     ]
    },
    {
     "name": "stderr",
     "output_type": "stream",
     "text": [
      "api_call...:  91%|████████████████████████▌  | 997/1096 [08:48<00:25,  3.83it/s]"
     ]
    },
    {
     "name": "stdout",
     "output_type": "stream",
     "text": [
      "Error: 429 - {\n",
      "  \"error\" : {\n",
      "    \"status\" : 429\n",
      "  }\n",
      "}\n",
      "<bound method Response.json of <Response [429]>>\n",
      "Error: 429 - {\n",
      "  \"error\" : {\n",
      "    \"status\" : 429\n",
      "  }\n",
      "}\n",
      "<bound method Response.json of <Response [429]>>\n"
     ]
    },
    {
     "name": "stderr",
     "output_type": "stream",
     "text": [
      "api_call...:  91%|████████████████████████▌  | 999/1096 [08:48<00:18,  5.17it/s]"
     ]
    },
    {
     "name": "stdout",
     "output_type": "stream",
     "text": [
      "Error: 429 - {\n",
      "  \"error\" : {\n",
      "    \"status\" : 429\n",
      "  }\n",
      "}\n",
      "<bound method Response.json of <Response [429]>>\n",
      "Error: 429 - {\n",
      "  \"error\" : {\n",
      "    \"status\" : 429\n",
      "  }\n",
      "}\n",
      "<bound method Response.json of <Response [429]>>\n"
     ]
    },
    {
     "name": "stderr",
     "output_type": "stream",
     "text": [
      "\r",
      "api_call...:  91%|███████████████████████▋  | 1000/1096 [08:48<00:19,  4.82it/s]"
     ]
    },
    {
     "name": "stdout",
     "output_type": "stream",
     "text": [
      "Error: 429 - {\n",
      "  \"error\" : {\n",
      "    \"status\" : 429\n",
      "  }\n",
      "}\n",
      "<bound method Response.json of <Response [429]>>\n"
     ]
    },
    {
     "name": "stderr",
     "output_type": "stream",
     "text": [
      "api_call...:  91%|███████████████████████▊  | 1002/1096 [09:23<11:47,  7.53s/it]"
     ]
    },
    {
     "name": "stdout",
     "output_type": "stream",
     "text": [
      "Error: 429 - {\n",
      "  \"error\" : {\n",
      "    \"status\" : 429\n",
      "  }\n",
      "}\n",
      "<bound method Response.json of <Response [429]>>\n",
      "Error: 429 - {\n",
      "  \"error\" : {\n",
      "    \"status\" : 429\n",
      "  }\n",
      "}\n",
      "<bound method Response.json of <Response [429]>>\n"
     ]
    },
    {
     "name": "stderr",
     "output_type": "stream",
     "text": [
      "\r",
      "api_call...:  92%|███████████████████████▊  | 1003/1096 [09:24<08:13,  5.31s/it]"
     ]
    },
    {
     "name": "stdout",
     "output_type": "stream",
     "text": [
      "Error: 429 - {\n",
      "  \"error\" : {\n",
      "    \"status\" : 429\n",
      "  }\n",
      "}\n",
      "<bound method Response.json of <Response [429]>>\n"
     ]
    },
    {
     "name": "stderr",
     "output_type": "stream",
     "text": [
      "api_call...:  92%|███████████████████████▊  | 1005/1096 [09:24<04:04,  2.69s/it]"
     ]
    },
    {
     "name": "stdout",
     "output_type": "stream",
     "text": [
      "Error: 429 - {\n",
      "  \"error\" : {\n",
      "    \"status\" : 429\n",
      "  }\n",
      "}\n",
      "<bound method Response.json of <Response [429]>>\n",
      "Error: 429 - {\n",
      "  \"error\" : {\n",
      "    \"status\" : 429\n",
      "  }\n",
      "}\n",
      "<bound method Response.json of <Response [429]>>\n"
     ]
    },
    {
     "name": "stderr",
     "output_type": "stream",
     "text": [
      "\r",
      "api_call...:  92%|███████████████████████▊  | 1006/1096 [09:24<02:52,  1.92s/it]"
     ]
    },
    {
     "name": "stdout",
     "output_type": "stream",
     "text": [
      "Error: 429 - {\n",
      "  \"error\" : {\n",
      "    \"status\" : 429\n",
      "  }\n",
      "}\n",
      "<bound method Response.json of <Response [429]>>\n"
     ]
    },
    {
     "name": "stderr",
     "output_type": "stream",
     "text": [
      "api_call...:  92%|███████████████████████▉  | 1009/1096 [09:25<01:10,  1.23it/s]"
     ]
    },
    {
     "name": "stdout",
     "output_type": "stream",
     "text": [
      "Error: 429 - {\n",
      "  \"error\" : {\n",
      "    \"status\" : 429\n",
      "  }\n",
      "}\n",
      "<bound method Response.json of <Response [429]>>\n",
      "Error: 429 - {\n",
      "  \"error\" : {\n",
      "    \"status\" : 429\n",
      "  }\n",
      "}\n",
      "<bound method Response.json of <Response [429]>>\n"
     ]
    },
    {
     "name": "stderr",
     "output_type": "stream",
     "text": [
      "\r",
      "api_call...:  92%|███████████████████████▉  | 1010/1096 [09:25<00:55,  1.55it/s]"
     ]
    },
    {
     "name": "stdout",
     "output_type": "stream",
     "text": [
      "Error: 429 - {\n",
      "  \"error\" : {\n",
      "    \"status\" : 429\n",
      "  }\n",
      "}\n",
      "<bound method Response.json of <Response [429]>>\n"
     ]
    },
    {
     "name": "stderr",
     "output_type": "stream",
     "text": [
      "\r",
      "api_call...:  92%|███████████████████████▉  | 1011/1096 [09:25<00:44,  1.91it/s]"
     ]
    },
    {
     "name": "stdout",
     "output_type": "stream",
     "text": [
      "Error: 429 - {\n",
      "  \"error\" : {\n",
      "    \"status\" : 429\n",
      "  }\n",
      "}\n",
      "<bound method Response.json of <Response [429]>>\n"
     ]
    },
    {
     "name": "stderr",
     "output_type": "stream",
     "text": [
      "api_call...:  93%|████████████████████████  | 1014/1096 [09:26<00:27,  2.99it/s]"
     ]
    },
    {
     "name": "stdout",
     "output_type": "stream",
     "text": [
      "Error: 429 - {\n",
      "  \"error\" : {\n",
      "    \"status\" : 429\n",
      "  }\n",
      "}\n",
      "<bound method Response.json of <Response [429]>>\n",
      "Error: 429 - {\n",
      "  \"error\" : {\n",
      "    \"status\" : 429\n",
      "  }\n",
      "}\n",
      "<bound method Response.json of <Response [429]>>\n"
     ]
    },
    {
     "name": "stderr",
     "output_type": "stream",
     "text": [
      "api_call...:  93%|████████████████████████  | 1016/1096 [09:26<00:19,  4.08it/s]"
     ]
    },
    {
     "name": "stdout",
     "output_type": "stream",
     "text": [
      "Error: 429 - {\n",
      "  \"error\" : {\n",
      "    \"status\" : 429\n",
      "  }\n",
      "}\n",
      "<bound method Response.json of <Response [429]>>\n",
      "Error: 429 - {\n",
      "  \"error\" : {\n",
      "    \"status\" : 429\n",
      "  }\n",
      "}\n",
      "<bound method Response.json of <Response [429]>>\n"
     ]
    },
    {
     "name": "stderr",
     "output_type": "stream",
     "text": [
      "api_call...:  93%|████████████████████████▏ | 1018/1096 [09:27<00:20,  3.87it/s]"
     ]
    },
    {
     "name": "stdout",
     "output_type": "stream",
     "text": [
      "Error: 429 - {\n",
      "  \"error\" : {\n",
      "    \"status\" : 429\n",
      "  }\n",
      "}\n",
      "<bound method Response.json of <Response [429]>>\n"
     ]
    },
    {
     "name": "stderr",
     "output_type": "stream",
     "text": [
      "api_call...:  93%|████████████████████████▏ | 1020/1096 [09:27<00:16,  4.49it/s]"
     ]
    },
    {
     "name": "stdout",
     "output_type": "stream",
     "text": [
      "Error: 429 - {\n",
      "  \"error\" : {\n",
      "    \"status\" : 429\n",
      "  }\n",
      "}\n",
      "<bound method Response.json of <Response [429]>>\n",
      "Error: 429 - {\n",
      "  \"error\" : {\n",
      "    \"status\" : 429\n",
      "  }\n",
      "}\n",
      "<bound method Response.json of <Response [429]>>\n"
     ]
    },
    {
     "name": "stderr",
     "output_type": "stream",
     "text": [
      "api_call...:  93%|████████████████████████▏ | 1022/1096 [09:28<00:13,  5.48it/s]"
     ]
    },
    {
     "name": "stdout",
     "output_type": "stream",
     "text": [
      "Error: 429 - {\n",
      "  \"error\" : {\n",
      "    \"status\" : 429\n",
      "  }\n",
      "}\n",
      "<bound method Response.json of <Response [429]>>\n",
      "Error: 429 - {\n",
      "  \"error\" : {\n",
      "    \"status\" : 429\n",
      "  }\n",
      "}\n",
      "<bound method Response.json of <Response [429]>>\n"
     ]
    },
    {
     "name": "stderr",
     "output_type": "stream",
     "text": [
      "api_call...:  93%|████████████████████████▎ | 1024/1096 [09:28<00:12,  5.82it/s]"
     ]
    },
    {
     "name": "stdout",
     "output_type": "stream",
     "text": [
      "Error: 429 - {\n",
      "  \"error\" : {\n",
      "    \"status\" : 429\n",
      "  }\n",
      "}\n",
      "<bound method Response.json of <Response [429]>>\n",
      "Error: 429 - {\n",
      "  \"error\" : {\n",
      "    \"status\" : 429\n",
      "  }\n",
      "}\n",
      "<bound method Response.json of <Response [429]>>\n"
     ]
    },
    {
     "name": "stderr",
     "output_type": "stream",
     "text": [
      "\r",
      "api_call...:  94%|████████████████████████▎ | 1025/1096 [09:28<00:11,  6.04it/s]"
     ]
    },
    {
     "name": "stdout",
     "output_type": "stream",
     "text": [
      "Error: 429 - {\n",
      "  \"error\" : {\n",
      "    \"status\" : 429\n",
      "  }\n",
      "}\n",
      "<bound method Response.json of <Response [429]>>\n"
     ]
    },
    {
     "name": "stderr",
     "output_type": "stream",
     "text": [
      "api_call...:  94%|████████████████████████▎ | 1027/1096 [09:29<00:11,  5.97it/s]"
     ]
    },
    {
     "name": "stdout",
     "output_type": "stream",
     "text": [
      "Error: 429 - {\n",
      "  \"error\" : {\n",
      "    \"status\" : 429\n",
      "  }\n",
      "}\n",
      "<bound method Response.json of <Response [429]>>\n",
      "Error: 429 - {\n",
      "  \"error\" : {\n",
      "    \"status\" : 429\n",
      "  }\n",
      "}\n",
      "<bound method Response.json of <Response [429]>>\n"
     ]
    },
    {
     "name": "stderr",
     "output_type": "stream",
     "text": [
      "api_call...:  94%|████████████████████████▍ | 1029/1096 [09:29<00:10,  6.24it/s]"
     ]
    },
    {
     "name": "stdout",
     "output_type": "stream",
     "text": [
      "Error: 429 - {\n",
      "  \"error\" : {\n",
      "    \"status\" : 429\n",
      "  }\n",
      "}\n",
      "<bound method Response.json of <Response [429]>>\n",
      "Error: 429 - {\n",
      "  \"error\" : {\n",
      "    \"status\" : 429\n",
      "  }\n",
      "}\n",
      "<bound method Response.json of <Response [429]>>\n"
     ]
    },
    {
     "name": "stderr",
     "output_type": "stream",
     "text": [
      "api_call...:  94%|████████████████████████▍ | 1031/1096 [09:29<00:09,  6.60it/s]"
     ]
    },
    {
     "name": "stdout",
     "output_type": "stream",
     "text": [
      "Error: 429 - {\n",
      "  \"error\" : {\n",
      "    \"status\" : 429\n",
      "  }\n",
      "}\n",
      "<bound method Response.json of <Response [429]>>\n",
      "Error: 429 - {\n",
      "  \"error\" : {\n",
      "    \"status\" : 429\n",
      "  }\n",
      "}\n",
      "<bound method Response.json of <Response [429]>>\n"
     ]
    },
    {
     "name": "stderr",
     "output_type": "stream",
     "text": [
      "api_call...:  94%|████████████████████████▌ | 1033/1096 [09:30<00:10,  6.17it/s]"
     ]
    },
    {
     "name": "stdout",
     "output_type": "stream",
     "text": [
      "Error: 429 - {\n",
      "  \"error\" : {\n",
      "    \"status\" : 429\n",
      "  }\n",
      "}\n",
      "<bound method Response.json of <Response [429]>>\n",
      "Error: 429 - {\n",
      "  \"error\" : {\n",
      "    \"status\" : 429\n",
      "  }\n",
      "}\n",
      "<bound method Response.json of <Response [429]>>\n"
     ]
    },
    {
     "name": "stderr",
     "output_type": "stream",
     "text": [
      "api_call...:  94%|████████████████████████▌ | 1035/1096 [09:30<00:08,  6.80it/s]"
     ]
    },
    {
     "name": "stdout",
     "output_type": "stream",
     "text": [
      "Error: 429 - {\n",
      "  \"error\" : {\n",
      "    \"status\" : 429\n",
      "  }\n",
      "}\n",
      "<bound method Response.json of <Response [429]>>\n",
      "Error: 429 - {\n",
      "  \"error\" : {\n",
      "    \"status\" : 429\n",
      "  }\n",
      "}\n",
      "<bound method Response.json of <Response [429]>>\n"
     ]
    },
    {
     "name": "stderr",
     "output_type": "stream",
     "text": [
      "api_call...:  95%|████████████████████████▌ | 1037/1096 [09:30<00:09,  6.53it/s]"
     ]
    },
    {
     "name": "stdout",
     "output_type": "stream",
     "text": [
      "Error: 429 - {\n",
      "  \"error\" : {\n",
      "    \"status\" : 429\n",
      "  }\n",
      "}\n",
      "<bound method Response.json of <Response [429]>>\n",
      "Error: 429 - {\n",
      "  \"error\" : {\n",
      "    \"status\" : 429\n",
      "  }\n",
      "}\n",
      "<bound method Response.json of <Response [429]>>\n"
     ]
    },
    {
     "name": "stderr",
     "output_type": "stream",
     "text": [
      "api_call...:  95%|████████████████████████▋ | 1039/1096 [09:30<00:08,  6.53it/s]"
     ]
    },
    {
     "name": "stdout",
     "output_type": "stream",
     "text": [
      "Error: 429 - {\n",
      "  \"error\" : {\n",
      "    \"status\" : 429\n",
      "  }\n",
      "}\n",
      "<bound method Response.json of <Response [429]>>\n",
      "Error: 429 - {\n",
      "  \"error\" : {\n",
      "    \"status\" : 429\n",
      "  }\n",
      "}\n",
      "<bound method Response.json of <Response [429]>>\n"
     ]
    },
    {
     "name": "stderr",
     "output_type": "stream",
     "text": [
      "api_call...:  95%|████████████████████████▋ | 1041/1096 [09:31<00:08,  6.30it/s]"
     ]
    },
    {
     "name": "stdout",
     "output_type": "stream",
     "text": [
      "Error: 429 - {\n",
      "  \"error\" : {\n",
      "    \"status\" : 429\n",
      "  }\n",
      "}\n",
      "<bound method Response.json of <Response [429]>>\n",
      "Error: 429 - {\n",
      "  \"error\" : {\n",
      "    \"status\" : 429\n",
      "  }\n",
      "}\n",
      "<bound method Response.json of <Response [429]>>\n"
     ]
    },
    {
     "name": "stderr",
     "output_type": "stream",
     "text": [
      "api_call...:  95%|████████████████████████▋ | 1043/1096 [09:31<00:08,  6.33it/s]"
     ]
    },
    {
     "name": "stdout",
     "output_type": "stream",
     "text": [
      "Error: 429 - {\n",
      "  \"error\" : {\n",
      "    \"status\" : 429\n",
      "  }\n",
      "}\n",
      "<bound method Response.json of <Response [429]>>\n",
      "Error: 429 - {\n",
      "  \"error\" : {\n",
      "    \"status\" : 429\n",
      "  }\n",
      "}\n",
      "<bound method Response.json of <Response [429]>>\n"
     ]
    },
    {
     "name": "stderr",
     "output_type": "stream",
     "text": [
      "\r",
      "api_call...:  95%|████████████████████████▊ | 1044/1096 [09:31<00:07,  6.62it/s]"
     ]
    },
    {
     "name": "stdout",
     "output_type": "stream",
     "text": [
      "Error: 429 - {\n",
      "  \"error\" : {\n",
      "    \"status\" : 429\n",
      "  }\n",
      "}\n",
      "<bound method Response.json of <Response [429]>>\n"
     ]
    },
    {
     "name": "stderr",
     "output_type": "stream",
     "text": [
      "api_call...:  95%|████████████████████████▊ | 1046/1096 [09:32<00:08,  5.84it/s]"
     ]
    },
    {
     "name": "stdout",
     "output_type": "stream",
     "text": [
      "Error: 429 - {\n",
      "  \"error\" : {\n",
      "    \"status\" : 429\n",
      "  }\n",
      "}\n",
      "<bound method Response.json of <Response [429]>>\n",
      "Error: 429 - {\n",
      "  \"error\" : {\n",
      "    \"status\" : 429\n",
      "  }\n",
      "}\n",
      "<bound method Response.json of <Response [429]>>\n"
     ]
    },
    {
     "name": "stderr",
     "output_type": "stream",
     "text": [
      "api_call...:  96%|████████████████████████▊ | 1048/1096 [09:32<00:07,  6.56it/s]"
     ]
    },
    {
     "name": "stdout",
     "output_type": "stream",
     "text": [
      "Error: 429 - {\n",
      "  \"error\" : {\n",
      "    \"status\" : 429\n",
      "  }\n",
      "}\n",
      "<bound method Response.json of <Response [429]>>\n",
      "Error: 429 - {\n",
      "  \"error\" : {\n",
      "    \"status\" : 429\n",
      "  }\n",
      "}\n",
      "<bound method Response.json of <Response [429]>>\n"
     ]
    },
    {
     "name": "stderr",
     "output_type": "stream",
     "text": [
      "api_call...:  96%|████████████████████████▉ | 1050/1096 [09:32<00:07,  6.30it/s]"
     ]
    },
    {
     "name": "stdout",
     "output_type": "stream",
     "text": [
      "Error: 429 - {\n",
      "  \"error\" : {\n",
      "    \"status\" : 429\n",
      "  }\n",
      "}\n",
      "<bound method Response.json of <Response [429]>>\n",
      "Error: 429 - {\n",
      "  \"error\" : {\n",
      "    \"status\" : 429\n",
      "  }\n",
      "}\n",
      "<bound method Response.json of <Response [429]>>\n"
     ]
    },
    {
     "name": "stderr",
     "output_type": "stream",
     "text": [
      "api_call...:  96%|████████████████████████▉ | 1052/1096 [09:33<00:06,  6.57it/s]"
     ]
    },
    {
     "name": "stdout",
     "output_type": "stream",
     "text": [
      "Error: 429 - {\n",
      "  \"error\" : {\n",
      "    \"status\" : 429\n",
      "  }\n",
      "}\n",
      "<bound method Response.json of <Response [429]>>\n",
      "Error: 429 - {\n",
      "  \"error\" : {\n",
      "    \"status\" : 429\n",
      "  }\n",
      "}\n",
      "<bound method Response.json of <Response [429]>>\n"
     ]
    },
    {
     "name": "stderr",
     "output_type": "stream",
     "text": [
      "api_call...:  96%|█████████████████████████ | 1054/1096 [09:33<00:06,  6.75it/s]"
     ]
    },
    {
     "name": "stdout",
     "output_type": "stream",
     "text": [
      "Error: 429 - {\n",
      "  \"error\" : {\n",
      "    \"status\" : 429\n",
      "  }\n",
      "}\n",
      "<bound method Response.json of <Response [429]>>\n",
      "Error: 429 - {\n",
      "  \"error\" : {\n",
      "    \"status\" : 429\n",
      "  }\n",
      "}\n",
      "<bound method Response.json of <Response [429]>>\n"
     ]
    },
    {
     "name": "stderr",
     "output_type": "stream",
     "text": [
      "\r",
      "api_call...:  96%|█████████████████████████ | 1055/1096 [09:33<00:06,  6.80it/s]"
     ]
    },
    {
     "name": "stdout",
     "output_type": "stream",
     "text": [
      "Error: 429 - {\n",
      "  \"error\" : {\n",
      "    \"status\" : 429\n",
      "  }\n",
      "}\n",
      "<bound method Response.json of <Response [429]>>\n"
     ]
    },
    {
     "name": "stderr",
     "output_type": "stream",
     "text": [
      "api_call...:  96%|█████████████████████████ | 1057/1096 [09:33<00:06,  6.21it/s]"
     ]
    },
    {
     "name": "stdout",
     "output_type": "stream",
     "text": [
      "Error: 429 - {\n",
      "  \"error\" : {\n",
      "    \"status\" : 429\n",
      "  }\n",
      "}\n",
      "<bound method Response.json of <Response [429]>>\n",
      "Error: 429 - {\n",
      "  \"error\" : {\n",
      "    \"status\" : 429\n",
      "  }\n",
      "}\n",
      "<bound method Response.json of <Response [429]>>\n"
     ]
    },
    {
     "name": "stderr",
     "output_type": "stream",
     "text": [
      "api_call...:  97%|█████████████████████████ | 1059/1096 [09:34<00:06,  5.35it/s]"
     ]
    },
    {
     "name": "stdout",
     "output_type": "stream",
     "text": [
      "Error: 429 - {\n",
      "  \"error\" : {\n",
      "    \"status\" : 429\n",
      "  }\n",
      "}\n",
      "<bound method Response.json of <Response [429]>>\n",
      "Error: 429 - {\n",
      "  \"error\" : {\n",
      "    \"status\" : 429\n",
      "  }\n",
      "}\n",
      "<bound method Response.json of <Response [429]>>\n"
     ]
    },
    {
     "name": "stderr",
     "output_type": "stream",
     "text": [
      "\r",
      "api_call...:  97%|█████████████████████████▏| 1060/1096 [09:34<00:06,  5.88it/s]"
     ]
    },
    {
     "name": "stdout",
     "output_type": "stream",
     "text": [
      "Error: 429 - {\n",
      "  \"error\" : {\n",
      "    \"status\" : 429\n",
      "  }\n",
      "}\n",
      "<bound method Response.json of <Response [429]>>\n"
     ]
    },
    {
     "name": "stderr",
     "output_type": "stream",
     "text": [
      "api_call...:  97%|█████████████████████████▏| 1062/1096 [09:34<00:05,  5.87it/s]"
     ]
    },
    {
     "name": "stdout",
     "output_type": "stream",
     "text": [
      "Error: 429 - {\n",
      "  \"error\" : {\n",
      "    \"status\" : 429\n",
      "  }\n",
      "}\n",
      "<bound method Response.json of <Response [429]>>\n",
      "Error: 429 - {\n",
      "  \"error\" : {\n",
      "    \"status\" : 429\n",
      "  }\n",
      "}\n",
      "<bound method Response.json of <Response [429]>>\n"
     ]
    },
    {
     "name": "stderr",
     "output_type": "stream",
     "text": [
      "\r",
      "api_call...:  97%|█████████████████████████▏| 1063/1096 [09:34<00:05,  6.30it/s]"
     ]
    },
    {
     "name": "stdout",
     "output_type": "stream",
     "text": [
      "Error: 429 - {\n",
      "  \"error\" : {\n",
      "    \"status\" : 429\n",
      "  }\n",
      "}\n",
      "<bound method Response.json of <Response [429]>>\n"
     ]
    },
    {
     "name": "stderr",
     "output_type": "stream",
     "text": [
      "api_call...:  97%|█████████████████████████▎| 1065/1096 [09:35<00:05,  6.00it/s]"
     ]
    },
    {
     "name": "stdout",
     "output_type": "stream",
     "text": [
      "Error: 429 - {\n",
      "  \"error\" : {\n",
      "    \"status\" : 429\n",
      "  }\n",
      "}\n",
      "<bound method Response.json of <Response [429]>>\n",
      "Error: 429 - {\n",
      "  \"error\" : {\n",
      "    \"status\" : 429\n",
      "  }\n",
      "}\n",
      "<bound method Response.json of <Response [429]>>\n"
     ]
    },
    {
     "name": "stderr",
     "output_type": "stream",
     "text": [
      "api_call...:  97%|█████████████████████████▎| 1067/1096 [09:35<00:04,  6.45it/s]"
     ]
    },
    {
     "name": "stdout",
     "output_type": "stream",
     "text": [
      "Error: 429 - {\n",
      "  \"error\" : {\n",
      "    \"status\" : 429\n",
      "  }\n",
      "}\n",
      "<bound method Response.json of <Response [429]>>\n",
      "Error: 429 - {\n",
      "  \"error\" : {\n",
      "    \"status\" : 429\n",
      "  }\n",
      "}\n",
      "<bound method Response.json of <Response [429]>>\n"
     ]
    },
    {
     "name": "stderr",
     "output_type": "stream",
     "text": [
      "api_call...:  98%|█████████████████████████▎| 1069/1096 [09:35<00:04,  5.78it/s]"
     ]
    },
    {
     "name": "stdout",
     "output_type": "stream",
     "text": [
      "Error: 429 - {\n",
      "  \"error\" : {\n",
      "    \"status\" : 429\n",
      "  }\n",
      "}\n",
      "<bound method Response.json of <Response [429]>>\n",
      "Error: 429 - {\n",
      "  \"error\" : {\n",
      "    \"status\" : 429\n",
      "  }\n",
      "}\n",
      "<bound method Response.json of <Response [429]>>\n"
     ]
    },
    {
     "name": "stderr",
     "output_type": "stream",
     "text": [
      "api_call...:  98%|█████████████████████████▍| 1071/1096 [09:36<00:04,  5.78it/s]"
     ]
    },
    {
     "name": "stdout",
     "output_type": "stream",
     "text": [
      "Error: 429 - {\n",
      "  \"error\" : {\n",
      "    \"status\" : 429\n",
      "  }\n",
      "}\n",
      "<bound method Response.json of <Response [429]>>\n",
      "Error: 429 - {\n",
      "  \"error\" : {\n",
      "    \"status\" : 429\n",
      "  }\n",
      "}\n",
      "<bound method Response.json of <Response [429]>>\n"
     ]
    },
    {
     "name": "stderr",
     "output_type": "stream",
     "text": [
      "api_call...:  98%|█████████████████████████▍| 1073/1096 [09:36<00:03,  6.82it/s]"
     ]
    },
    {
     "name": "stdout",
     "output_type": "stream",
     "text": [
      "Error: 429 - {\n",
      "  \"error\" : {\n",
      "    \"status\" : 429\n",
      "  }\n",
      "}\n",
      "<bound method Response.json of <Response [429]>>\n",
      "Error: 429 - {\n",
      "  \"error\" : {\n",
      "    \"status\" : 429\n",
      "  }\n",
      "}\n",
      "<bound method Response.json of <Response [429]>>\n"
     ]
    },
    {
     "name": "stderr",
     "output_type": "stream",
     "text": [
      "api_call...:  98%|█████████████████████████▌| 1075/1096 [09:36<00:02,  7.15it/s]"
     ]
    },
    {
     "name": "stdout",
     "output_type": "stream",
     "text": [
      "Error: 429 - {\n",
      "  \"error\" : {\n",
      "    \"status\" : 429\n",
      "  }\n",
      "}\n",
      "<bound method Response.json of <Response [429]>>\n",
      "Error: 429 - {\n",
      "  \"error\" : {\n",
      "    \"status\" : 429\n",
      "  }\n",
      "}\n",
      "<bound method Response.json of <Response [429]>>\n"
     ]
    },
    {
     "name": "stderr",
     "output_type": "stream",
     "text": [
      "\r",
      "api_call...:  98%|█████████████████████████▌| 1076/1096 [09:36<00:02,  7.36it/s]"
     ]
    },
    {
     "name": "stdout",
     "output_type": "stream",
     "text": [
      "Error: 429 - {\n",
      "  \"error\" : {\n",
      "    \"status\" : 429\n",
      "  }\n",
      "}\n",
      "<bound method Response.json of <Response [429]>>\n"
     ]
    },
    {
     "name": "stderr",
     "output_type": "stream",
     "text": [
      "api_call...:  98%|█████████████████████████▌| 1078/1096 [09:37<00:02,  6.10it/s]"
     ]
    },
    {
     "name": "stdout",
     "output_type": "stream",
     "text": [
      "Error: 429 - {\n",
      "  \"error\" : {\n",
      "    \"status\" : 429\n",
      "  }\n",
      "}\n",
      "<bound method Response.json of <Response [429]>>\n",
      "Error: 429 - {\n",
      "  \"error\" : {\n",
      "    \"status\" : 429\n",
      "  }\n",
      "}\n",
      "<bound method Response.json of <Response [429]>>\n"
     ]
    },
    {
     "name": "stderr",
     "output_type": "stream",
     "text": [
      "\r",
      "api_call...:  98%|█████████████████████████▌| 1079/1096 [09:37<00:02,  6.03it/s]"
     ]
    },
    {
     "name": "stdout",
     "output_type": "stream",
     "text": [
      "Error: 429 - {\n",
      "  \"error\" : {\n",
      "    \"status\" : 429\n",
      "  }\n",
      "}\n",
      "<bound method Response.json of <Response [429]>>\n"
     ]
    },
    {
     "name": "stderr",
     "output_type": "stream",
     "text": [
      "api_call...:  99%|█████████████████████████▋| 1081/1096 [09:37<00:02,  6.02it/s]"
     ]
    },
    {
     "name": "stdout",
     "output_type": "stream",
     "text": [
      "Error: 429 - {\n",
      "  \"error\" : {\n",
      "    \"status\" : 429\n",
      "  }\n",
      "}\n",
      "<bound method Response.json of <Response [429]>>\n",
      "Error: 429 - {\n",
      "  \"error\" : {\n",
      "    \"status\" : 429\n",
      "  }\n",
      "}\n",
      "<bound method Response.json of <Response [429]>>\n"
     ]
    },
    {
     "name": "stderr",
     "output_type": "stream",
     "text": [
      "api_call...:  99%|█████████████████████████▋| 1083/1096 [09:38<00:01,  6.67it/s]"
     ]
    },
    {
     "name": "stdout",
     "output_type": "stream",
     "text": [
      "Error: 429 - {\n",
      "  \"error\" : {\n",
      "    \"status\" : 429\n",
      "  }\n",
      "}\n",
      "<bound method Response.json of <Response [429]>>\n",
      "Error: 429 - {\n",
      "  \"error\" : {\n",
      "    \"status\" : 429\n",
      "  }\n",
      "}\n",
      "<bound method Response.json of <Response [429]>>\n"
     ]
    },
    {
     "name": "stderr",
     "output_type": "stream",
     "text": [
      "api_call...:  99%|█████████████████████████▋| 1085/1096 [09:38<00:01,  7.07it/s]"
     ]
    },
    {
     "name": "stdout",
     "output_type": "stream",
     "text": [
      "Error: 429 - {\n",
      "  \"error\" : {\n",
      "    \"status\" : 429\n",
      "  }\n",
      "}\n",
      "<bound method Response.json of <Response [429]>>\n",
      "Error: 429 - {\n",
      "  \"error\" : {\n",
      "    \"status\" : 429\n",
      "  }\n",
      "}\n",
      "<bound method Response.json of <Response [429]>>\n"
     ]
    },
    {
     "name": "stderr",
     "output_type": "stream",
     "text": [
      "api_call...:  99%|█████████████████████████▊| 1087/1096 [09:38<00:01,  7.42it/s]"
     ]
    },
    {
     "name": "stdout",
     "output_type": "stream",
     "text": [
      "Error: 429 - {\n",
      "  \"error\" : {\n",
      "    \"status\" : 429\n",
      "  }\n",
      "}\n",
      "<bound method Response.json of <Response [429]>>\n",
      "Error: 429 - {\n",
      "  \"error\" : {\n",
      "    \"status\" : 429\n",
      "  }\n",
      "}\n",
      "<bound method Response.json of <Response [429]>>\n"
     ]
    },
    {
     "name": "stderr",
     "output_type": "stream",
     "text": [
      "api_call...:  99%|█████████████████████████▊| 1089/1096 [09:38<00:00,  7.56it/s]"
     ]
    },
    {
     "name": "stdout",
     "output_type": "stream",
     "text": [
      "Error: 429 - {\n",
      "  \"error\" : {\n",
      "    \"status\" : 429\n",
      "  }\n",
      "}\n",
      "<bound method Response.json of <Response [429]>>\n",
      "Error: 429 - {\n",
      "  \"error\" : {\n",
      "    \"status\" : 429\n",
      "  }\n",
      "}\n",
      "<bound method Response.json of <Response [429]>>\n"
     ]
    },
    {
     "name": "stderr",
     "output_type": "stream",
     "text": [
      "api_call...: 100%|█████████████████████████▉| 1091/1096 [09:39<00:00,  7.52it/s]"
     ]
    },
    {
     "name": "stdout",
     "output_type": "stream",
     "text": [
      "Error: 429 - {\n",
      "  \"error\" : {\n",
      "    \"status\" : 429\n",
      "  }\n",
      "}\n",
      "<bound method Response.json of <Response [429]>>\n",
      "Error: 429 - {\n",
      "  \"error\" : {\n",
      "    \"status\" : 429\n",
      "  }\n",
      "}\n",
      "<bound method Response.json of <Response [429]>>\n"
     ]
    },
    {
     "name": "stderr",
     "output_type": "stream",
     "text": [
      "api_call...: 100%|█████████████████████████▉| 1093/1096 [09:39<00:00,  6.49it/s]"
     ]
    },
    {
     "name": "stdout",
     "output_type": "stream",
     "text": [
      "Error: 429 - {\n",
      "  \"error\" : {\n",
      "    \"status\" : 429\n",
      "  }\n",
      "}\n",
      "<bound method Response.json of <Response [429]>>\n",
      "Error: 429 - {\n",
      "  \"error\" : {\n",
      "    \"status\" : 429\n",
      "  }\n",
      "}\n",
      "<bound method Response.json of <Response [429]>>\n"
     ]
    },
    {
     "name": "stderr",
     "output_type": "stream",
     "text": [
      "api_call...: 100%|█████████████████████████▉| 1095/1096 [09:39<00:00,  6.60it/s]"
     ]
    },
    {
     "name": "stdout",
     "output_type": "stream",
     "text": [
      "Error: 429 - {\n",
      "  \"error\" : {\n",
      "    \"status\" : 429\n",
      "  }\n",
      "}\n",
      "<bound method Response.json of <Response [429]>>\n",
      "Error: 429 - {\n",
      "  \"error\" : {\n",
      "    \"status\" : 429\n",
      "  }\n",
      "}\n",
      "<bound method Response.json of <Response [429]>>\n"
     ]
    },
    {
     "name": "stderr",
     "output_type": "stream",
     "text": [
      "api_call...: 100%|██████████████████████████| 1096/1096 [09:39<00:00,  1.89it/s]\n"
     ]
    },
    {
     "name": "stdout",
     "output_type": "stream",
     "text": [
      "Error: 429 - {\n",
      "  \"error\" : {\n",
      "    \"status\" : 429\n",
      "  }\n",
      "}\n",
      "<bound method Response.json of <Response [429]>>\n"
     ]
    },
    {
     "name": "stderr",
     "output_type": "stream",
     "text": [
      "creating attribute dataframe: 100%|████████████| 11/11 [00:00<00:00, 575.86it/s]\n",
      "100%|█████████████████████████████████████████████| 5/5 [00:02<00:00,  2.21it/s]\n",
      "api_call...:   0%|                           | 2/1098 [00:35<4:25:43, 14.55s/it]"
     ]
    },
    {
     "name": "stdout",
     "output_type": "stream",
     "text": [
      "Error: 429 - {\n",
      "  \"error\" : {\n",
      "    \"status\" : 429\n",
      "  }\n",
      "}\n",
      "<bound method Response.json of <Response [429]>>\n",
      "Error: 429 - {\n",
      "  \"error\" : {\n",
      "    \"status\" : 429\n",
      "  }\n",
      "}\n",
      "<bound method Response.json of <Response [429]>>\n"
     ]
    },
    {
     "name": "stderr",
     "output_type": "stream",
     "text": [
      "\r",
      "api_call...:   0%|                           | 3/1098 [00:35<2:25:16,  7.96s/it]"
     ]
    },
    {
     "name": "stdout",
     "output_type": "stream",
     "text": [
      "Error: 429 - {\n",
      "  \"error\" : {\n",
      "    \"status\" : 429\n",
      "  }\n",
      "}\n",
      "<bound method Response.json of <Response [429]>>\n"
     ]
    },
    {
     "name": "stderr",
     "output_type": "stream",
     "text": [
      "api_call...:   0%|▏                            | 5/1098 [00:35<58:10,  3.19s/it]"
     ]
    },
    {
     "name": "stdout",
     "output_type": "stream",
     "text": [
      "Error: 429 - {\n",
      "  \"error\" : {\n",
      "    \"status\" : 429\n",
      "  }\n",
      "}\n",
      "<bound method Response.json of <Response [429]>>\n",
      "Error: 429 - {\n",
      "  \"error\" : {\n",
      "    \"status\" : 429\n",
      "  }\n",
      "}\n",
      "<bound method Response.json of <Response [429]>>\n"
     ]
    },
    {
     "name": "stderr",
     "output_type": "stream",
     "text": [
      "api_call...:   1%|▏                            | 7/1098 [00:36<27:50,  1.53s/it]"
     ]
    },
    {
     "name": "stdout",
     "output_type": "stream",
     "text": [
      "Error: 429 - {\n",
      "  \"error\" : {\n",
      "    \"status\" : 429\n",
      "  }\n",
      "}\n",
      "<bound method Response.json of <Response [429]>>\n",
      "Error: 429 - {\n",
      "  \"error\" : {\n",
      "    \"status\" : 429\n",
      "  }\n",
      "}\n",
      "<bound method Response.json of <Response [429]>>\n"
     ]
    },
    {
     "name": "stderr",
     "output_type": "stream",
     "text": [
      "api_call...:   1%|▏                            | 9/1098 [00:36<14:18,  1.27it/s]"
     ]
    },
    {
     "name": "stdout",
     "output_type": "stream",
     "text": [
      "Error: 429 - {\n",
      "  \"error\" : {\n",
      "    \"status\" : 429\n",
      "  }\n",
      "}\n",
      "<bound method Response.json of <Response [429]>>\n",
      "Error: 429 - {\n",
      "  \"error\" : {\n",
      "    \"status\" : 429\n",
      "  }\n",
      "}\n",
      "<bound method Response.json of <Response [429]>>\n"
     ]
    },
    {
     "name": "stderr",
     "output_type": "stream",
     "text": [
      "api_call...:   1%|▎                           | 11/1098 [00:36<08:22,  2.16it/s]"
     ]
    },
    {
     "name": "stdout",
     "output_type": "stream",
     "text": [
      "Error: 429 - {\n",
      "  \"error\" : {\n",
      "    \"status\" : 429\n",
      "  }\n",
      "}\n",
      "<bound method Response.json of <Response [429]>>\n",
      "Error: 429 - {\n",
      "  \"error\" : {\n",
      "    \"status\" : 429\n",
      "  }\n",
      "}\n",
      "<bound method Response.json of <Response [429]>>\n"
     ]
    },
    {
     "name": "stderr",
     "output_type": "stream",
     "text": [
      "\r",
      "api_call...:   1%|▎                           | 12/1098 [00:36<06:42,  2.70it/s]"
     ]
    },
    {
     "name": "stdout",
     "output_type": "stream",
     "text": [
      "Error: 429 - {\n",
      "  \"error\" : {\n",
      "    \"status\" : 429\n",
      "  }\n",
      "}\n",
      "<bound method Response.json of <Response [429]>>\n"
     ]
    },
    {
     "name": "stderr",
     "output_type": "stream",
     "text": [
      "api_call...:   1%|▎                           | 14/1098 [00:37<04:50,  3.73it/s]"
     ]
    },
    {
     "name": "stdout",
     "output_type": "stream",
     "text": [
      "Error: 429 - {\n",
      "  \"error\" : {\n",
      "    \"status\" : 429\n",
      "  }\n",
      "}\n",
      "<bound method Response.json of <Response [429]>>\n",
      "Error: 429 - {\n",
      "  \"error\" : {\n",
      "    \"status\" : 429\n",
      "  }\n",
      "}\n",
      "<bound method Response.json of <Response [429]>>\n"
     ]
    },
    {
     "name": "stderr",
     "output_type": "stream",
     "text": [
      "api_call...:   1%|▍                           | 16/1098 [00:37<03:46,  4.78it/s]"
     ]
    },
    {
     "name": "stdout",
     "output_type": "stream",
     "text": [
      "Error: 429 - {\n",
      "  \"error\" : {\n",
      "    \"status\" : 429\n",
      "  }\n",
      "}\n",
      "<bound method Response.json of <Response [429]>>\n",
      "Error: 429 - {\n",
      "  \"error\" : {\n",
      "    \"status\" : 429\n",
      "  }\n",
      "}\n",
      "<bound method Response.json of <Response [429]>>\n"
     ]
    },
    {
     "name": "stderr",
     "output_type": "stream",
     "text": [
      "api_call...:   2%|▍                           | 18/1098 [00:37<03:03,  5.89it/s]"
     ]
    },
    {
     "name": "stdout",
     "output_type": "stream",
     "text": [
      "Error: 429 - {\n",
      "  \"error\" : {\n",
      "    \"status\" : 429\n",
      "  }\n",
      "}\n",
      "<bound method Response.json of <Response [429]>>\n",
      "Error: 429 - {\n",
      "  \"error\" : {\n",
      "    \"status\" : 429\n",
      "  }\n",
      "}\n",
      "<bound method Response.json of <Response [429]>>\n"
     ]
    },
    {
     "name": "stderr",
     "output_type": "stream",
     "text": [
      "api_call...:   2%|▌                           | 20/1098 [00:38<02:43,  6.58it/s]"
     ]
    },
    {
     "name": "stdout",
     "output_type": "stream",
     "text": [
      "Error: 429 - {\n",
      "  \"error\" : {\n",
      "    \"status\" : 429\n",
      "  }\n",
      "}\n",
      "<bound method Response.json of <Response [429]>>\n",
      "Error: 429 - {\n",
      "  \"error\" : {\n",
      "    \"status\" : 429\n",
      "  }\n",
      "}\n",
      "<bound method Response.json of <Response [429]>>\n"
     ]
    },
    {
     "name": "stderr",
     "output_type": "stream",
     "text": [
      "api_call...:   2%|▌                           | 22/1098 [00:38<02:30,  7.15it/s]"
     ]
    },
    {
     "name": "stdout",
     "output_type": "stream",
     "text": [
      "Error: 429 - {\n",
      "  \"error\" : {\n",
      "    \"status\" : 429\n",
      "  }\n",
      "}\n",
      "<bound method Response.json of <Response [429]>>\n",
      "Error: 429 - {\n",
      "  \"error\" : {\n",
      "    \"status\" : 429\n",
      "  }\n",
      "}\n",
      "<bound method Response.json of <Response [429]>>\n"
     ]
    },
    {
     "name": "stderr",
     "output_type": "stream",
     "text": [
      "api_call...:   2%|▌                           | 24/1098 [00:38<02:26,  7.31it/s]"
     ]
    },
    {
     "name": "stdout",
     "output_type": "stream",
     "text": [
      "Error: 429 - {\n",
      "  \"error\" : {\n",
      "    \"status\" : 429\n",
      "  }\n",
      "}\n",
      "<bound method Response.json of <Response [429]>>\n",
      "Error: 429 - {\n",
      "  \"error\" : {\n",
      "    \"status\" : 429\n",
      "  }\n",
      "}\n",
      "<bound method Response.json of <Response [429]>>\n"
     ]
    },
    {
     "name": "stderr",
     "output_type": "stream",
     "text": [
      "api_call...:   2%|▋                           | 26/1098 [00:38<02:25,  7.39it/s]"
     ]
    },
    {
     "name": "stdout",
     "output_type": "stream",
     "text": [
      "Error: 429 - {\n",
      "  \"error\" : {\n",
      "    \"status\" : 429\n",
      "  }\n",
      "}\n",
      "<bound method Response.json of <Response [429]>>\n",
      "Error: 429 - {\n",
      "  \"error\" : {\n",
      "    \"status\" : 429\n",
      "  }\n",
      "}\n",
      "<bound method Response.json of <Response [429]>>\n"
     ]
    },
    {
     "name": "stderr",
     "output_type": "stream",
     "text": [
      "api_call...:   3%|▋                           | 28/1098 [00:39<03:01,  5.88it/s]"
     ]
    },
    {
     "name": "stdout",
     "output_type": "stream",
     "text": [
      "Error: 429 - {\n",
      "  \"error\" : {\n",
      "    \"status\" : 429\n",
      "  }\n",
      "}\n",
      "<bound method Response.json of <Response [429]>>\n",
      "Error: 429 - {\n",
      "  \"error\" : {\n",
      "    \"status\" : 429\n",
      "  }\n",
      "}\n",
      "<bound method Response.json of <Response [429]>>\n"
     ]
    },
    {
     "name": "stderr",
     "output_type": "stream",
     "text": [
      "\r",
      "api_call...:   3%|▋                           | 29/1098 [00:39<02:52,  6.19it/s]"
     ]
    },
    {
     "name": "stdout",
     "output_type": "stream",
     "text": [
      "Error: 429 - {\n",
      "  \"error\" : {\n",
      "    \"status\" : 429\n",
      "  }\n",
      "}\n",
      "<bound method Response.json of <Response [429]>>\n"
     ]
    },
    {
     "name": "stderr",
     "output_type": "stream",
     "text": [
      "api_call...:   3%|▊                           | 31/1098 [00:39<02:53,  6.16it/s]"
     ]
    },
    {
     "name": "stdout",
     "output_type": "stream",
     "text": [
      "Error: 429 - {\n",
      "  \"error\" : {\n",
      "    \"status\" : 429\n",
      "  }\n",
      "}\n",
      "<bound method Response.json of <Response [429]>>\n",
      "Error: 429 - {\n",
      "  \"error\" : {\n",
      "    \"status\" : 429\n",
      "  }\n",
      "}\n",
      "<bound method Response.json of <Response [429]>>\n"
     ]
    },
    {
     "name": "stderr",
     "output_type": "stream",
     "text": [
      "\r",
      "api_call...:   3%|▊                           | 32/1098 [00:40<02:49,  6.29it/s]"
     ]
    },
    {
     "name": "stdout",
     "output_type": "stream",
     "text": [
      "Error: 429 - {\n",
      "  \"error\" : {\n",
      "    \"status\" : 429\n",
      "  }\n",
      "}\n",
      "<bound method Response.json of <Response [429]>>\n"
     ]
    },
    {
     "name": "stderr",
     "output_type": "stream",
     "text": [
      "api_call...:   3%|▊                           | 34/1098 [00:40<02:57,  6.01it/s]"
     ]
    },
    {
     "name": "stdout",
     "output_type": "stream",
     "text": [
      "Error: 429 - {\n",
      "  \"error\" : {\n",
      "    \"status\" : 429\n",
      "  }\n",
      "}\n",
      "<bound method Response.json of <Response [429]>>\n",
      "Error: 429 - {\n",
      "  \"error\" : {\n",
      "    \"status\" : 429\n",
      "  }\n",
      "}\n",
      "<bound method Response.json of <Response [429]>>\n"
     ]
    },
    {
     "name": "stderr",
     "output_type": "stream",
     "text": [
      "api_call...:   3%|▉                           | 36/1098 [00:40<02:36,  6.78it/s]"
     ]
    },
    {
     "name": "stdout",
     "output_type": "stream",
     "text": [
      "Error: 429 - {\n",
      "  \"error\" : {\n",
      "    \"status\" : 429\n",
      "  }\n",
      "}\n",
      "<bound method Response.json of <Response [429]>>\n",
      "Error: 429 - {\n",
      "  \"error\" : {\n",
      "    \"status\" : 429\n",
      "  }\n",
      "}\n",
      "<bound method Response.json of <Response [429]>>\n"
     ]
    },
    {
     "name": "stderr",
     "output_type": "stream",
     "text": [
      "api_call...:   3%|▉                           | 38/1098 [00:40<02:33,  6.90it/s]"
     ]
    },
    {
     "name": "stdout",
     "output_type": "stream",
     "text": [
      "Error: 429 - {\n",
      "  \"error\" : {\n",
      "    \"status\" : 429\n",
      "  }\n",
      "}\n",
      "<bound method Response.json of <Response [429]>>\n",
      "Error: 429 - {\n",
      "  \"error\" : {\n",
      "    \"status\" : 429\n",
      "  }\n",
      "}\n",
      "<bound method Response.json of <Response [429]>>\n"
     ]
    },
    {
     "name": "stderr",
     "output_type": "stream",
     "text": [
      "\r",
      "api_call...:   4%|▉                           | 39/1098 [00:41<02:24,  7.31it/s]"
     ]
    },
    {
     "name": "stdout",
     "output_type": "stream",
     "text": [
      "Error: 429 - {\n",
      "  \"error\" : {\n",
      "    \"status\" : 429\n",
      "  }\n",
      "}\n",
      "<bound method Response.json of <Response [429]>>\n"
     ]
    },
    {
     "name": "stderr",
     "output_type": "stream",
     "text": [
      "api_call...:   4%|█                           | 41/1098 [00:41<02:53,  6.08it/s]"
     ]
    },
    {
     "name": "stdout",
     "output_type": "stream",
     "text": [
      "Error: 429 - {\n",
      "  \"error\" : {\n",
      "    \"status\" : 429\n",
      "  }\n",
      "}\n",
      "<bound method Response.json of <Response [429]>>\n",
      "Error: 429 - {\n",
      "  \"error\" : {\n",
      "    \"status\" : 429\n",
      "  }\n",
      "}\n",
      "<bound method Response.json of <Response [429]>>\n"
     ]
    },
    {
     "name": "stderr",
     "output_type": "stream",
     "text": [
      "api_call...:   4%|█                           | 43/1098 [00:41<02:40,  6.56it/s]"
     ]
    },
    {
     "name": "stdout",
     "output_type": "stream",
     "text": [
      "Error: 429 - {\n",
      "  \"error\" : {\n",
      "    \"status\" : 429\n",
      "  }\n",
      "}\n",
      "<bound method Response.json of <Response [429]>>\n",
      "Error: 429 - {\n",
      "  \"error\" : {\n",
      "    \"status\" : 429\n",
      "  }\n",
      "}\n",
      "<bound method Response.json of <Response [429]>>\n"
     ]
    },
    {
     "name": "stderr",
     "output_type": "stream",
     "text": [
      "api_call...:   4%|█▏                          | 45/1098 [00:42<02:55,  6.01it/s]"
     ]
    },
    {
     "name": "stdout",
     "output_type": "stream",
     "text": [
      "Error: 429 - {\n",
      "  \"error\" : {\n",
      "    \"status\" : 429\n",
      "  }\n",
      "}\n",
      "<bound method Response.json of <Response [429]>>\n",
      "Error: 429 - {\n",
      "  \"error\" : {\n",
      "    \"status\" : 429\n",
      "  }\n",
      "}\n",
      "<bound method Response.json of <Response [429]>>\n"
     ]
    },
    {
     "name": "stderr",
     "output_type": "stream",
     "text": [
      "api_call...:   4%|█▏                          | 47/1098 [00:42<04:04,  4.30it/s]"
     ]
    },
    {
     "name": "stdout",
     "output_type": "stream",
     "text": [
      "Error: 429 - {\n",
      "  \"error\" : {\n",
      "    \"status\" : 429\n",
      "  }\n",
      "}\n",
      "<bound method Response.json of <Response [429]>>\n",
      "Error: 429 - {\n",
      "  \"error\" : {\n",
      "    \"status\" : 429\n",
      "  }\n",
      "}\n",
      "<bound method Response.json of <Response [429]>>\n"
     ]
    },
    {
     "name": "stderr",
     "output_type": "stream",
     "text": [
      "api_call...:   4%|█▏                          | 49/1098 [00:43<03:29,  5.00it/s]"
     ]
    },
    {
     "name": "stdout",
     "output_type": "stream",
     "text": [
      "Error: 429 - {\n",
      "  \"error\" : {\n",
      "    \"status\" : 429\n",
      "  }\n",
      "}\n",
      "<bound method Response.json of <Response [429]>>\n",
      "Error: 429 - {\n",
      "  \"error\" : {\n",
      "    \"status\" : 429\n",
      "  }\n",
      "}\n",
      "<bound method Response.json of <Response [429]>>\n"
     ]
    },
    {
     "name": "stderr",
     "output_type": "stream",
     "text": [
      "api_call...:   5%|█▎                          | 51/1098 [00:43<03:29,  4.99it/s]"
     ]
    },
    {
     "name": "stdout",
     "output_type": "stream",
     "text": [
      "Error: 429 - {\n",
      "  \"error\" : {\n",
      "    \"status\" : 429\n",
      "  }\n",
      "}\n",
      "<bound method Response.json of <Response [429]>>\n",
      "Error: 429 - {\n",
      "  \"error\" : {\n",
      "    \"status\" : 429\n",
      "  }\n",
      "}\n",
      "<bound method Response.json of <Response [429]>>\n"
     ]
    },
    {
     "name": "stderr",
     "output_type": "stream",
     "text": [
      "api_call...:   5%|█▎                          | 53/1098 [00:43<02:54,  6.00it/s]"
     ]
    },
    {
     "name": "stdout",
     "output_type": "stream",
     "text": [
      "Error: 429 - {\n",
      "  \"error\" : {\n",
      "    \"status\" : 429\n",
      "  }\n",
      "}\n",
      "<bound method Response.json of <Response [429]>>\n",
      "Error: 429 - {\n",
      "  \"error\" : {\n",
      "    \"status\" : 429\n",
      "  }\n",
      "}\n",
      "<bound method Response.json of <Response [429]>>\n"
     ]
    },
    {
     "name": "stderr",
     "output_type": "stream",
     "text": [
      "api_call...:   5%|█▍                          | 55/1098 [00:44<02:53,  6.02it/s]"
     ]
    },
    {
     "name": "stdout",
     "output_type": "stream",
     "text": [
      "Error: 429 - {\n",
      "  \"error\" : {\n",
      "    \"status\" : 429\n",
      "  }\n",
      "}\n",
      "<bound method Response.json of <Response [429]>>\n",
      "Error: 429 - {\n",
      "  \"error\" : {\n",
      "    \"status\" : 429\n",
      "  }\n",
      "}\n",
      "<bound method Response.json of <Response [429]>>\n"
     ]
    },
    {
     "name": "stderr",
     "output_type": "stream",
     "text": [
      "\r",
      "api_call...:   5%|█▍                          | 56/1098 [00:44<02:51,  6.08it/s]"
     ]
    },
    {
     "name": "stdout",
     "output_type": "stream",
     "text": [
      "Error: 429 - {\n",
      "  \"error\" : {\n",
      "    \"status\" : 429\n",
      "  }\n",
      "}\n",
      "<bound method Response.json of <Response [429]>>\n"
     ]
    },
    {
     "name": "stderr",
     "output_type": "stream",
     "text": [
      "api_call...:   5%|█▍                          | 58/1098 [00:44<03:39,  4.74it/s]"
     ]
    },
    {
     "name": "stdout",
     "output_type": "stream",
     "text": [
      "Error: 429 - {\n",
      "  \"error\" : {\n",
      "    \"status\" : 429\n",
      "  }\n",
      "}\n",
      "<bound method Response.json of <Response [429]>>\n",
      "Error: 429 - {\n",
      "  \"error\" : {\n",
      "    \"status\" : 429\n",
      "  }\n",
      "}\n",
      "<bound method Response.json of <Response [429]>>\n"
     ]
    },
    {
     "name": "stderr",
     "output_type": "stream",
     "text": [
      "api_call...:   5%|█▌                          | 60/1098 [00:45<03:18,  5.24it/s]"
     ]
    },
    {
     "name": "stdout",
     "output_type": "stream",
     "text": [
      "Error: 429 - {\n",
      "  \"error\" : {\n",
      "    \"status\" : 429\n",
      "  }\n",
      "}\n",
      "<bound method Response.json of <Response [429]>>\n",
      "Error: 429 - {\n",
      "  \"error\" : {\n",
      "    \"status\" : 429\n",
      "  }\n",
      "}\n",
      "<bound method Response.json of <Response [429]>>\n"
     ]
    },
    {
     "name": "stderr",
     "output_type": "stream",
     "text": [
      "api_call...:   6%|█▌                          | 62/1098 [00:45<03:10,  5.45it/s]"
     ]
    },
    {
     "name": "stdout",
     "output_type": "stream",
     "text": [
      "Error: 429 - {\n",
      "  \"error\" : {\n",
      "    \"status\" : 429\n",
      "  }\n",
      "}\n",
      "<bound method Response.json of <Response [429]>>\n",
      "Error: 429 - {\n",
      "  \"error\" : {\n",
      "    \"status\" : 429\n",
      "  }\n",
      "}\n",
      "<bound method Response.json of <Response [429]>>\n"
     ]
    },
    {
     "name": "stderr",
     "output_type": "stream",
     "text": [
      "api_call...:   6%|█▋                          | 64/1098 [00:45<02:49,  6.10it/s]"
     ]
    },
    {
     "name": "stdout",
     "output_type": "stream",
     "text": [
      "Error: 429 - {\n",
      "  \"error\" : {\n",
      "    \"status\" : 429\n",
      "  }\n",
      "}\n",
      "<bound method Response.json of <Response [429]>>\n",
      "Error: 429 - {\n",
      "  \"error\" : {\n",
      "    \"status\" : 429\n",
      "  }\n",
      "}\n",
      "<bound method Response.json of <Response [429]>>\n"
     ]
    },
    {
     "name": "stderr",
     "output_type": "stream",
     "text": [
      "api_call...:   6%|█▋                          | 66/1098 [00:46<02:52,  5.97it/s]"
     ]
    },
    {
     "name": "stdout",
     "output_type": "stream",
     "text": [
      "Error: 429 - {\n",
      "  \"error\" : {\n",
      "    \"status\" : 429\n",
      "  }\n",
      "}\n",
      "<bound method Response.json of <Response [429]>>\n",
      "Error: 429 - {\n",
      "  \"error\" : {\n",
      "    \"status\" : 429\n",
      "  }\n",
      "}\n",
      "<bound method Response.json of <Response [429]>>\n"
     ]
    },
    {
     "name": "stderr",
     "output_type": "stream",
     "text": [
      "\r",
      "api_call...:   6%|█▋                          | 67/1098 [00:46<02:50,  6.06it/s]"
     ]
    },
    {
     "name": "stdout",
     "output_type": "stream",
     "text": [
      "Error: 429 - {\n",
      "  \"error\" : {\n",
      "    \"status\" : 429\n",
      "  }\n",
      "}\n",
      "<bound method Response.json of <Response [429]>>\n"
     ]
    },
    {
     "name": "stderr",
     "output_type": "stream",
     "text": [
      "api_call...:   6%|█▊                          | 69/1098 [00:46<02:55,  5.86it/s]"
     ]
    },
    {
     "name": "stdout",
     "output_type": "stream",
     "text": [
      "Error: 429 - {\n",
      "  \"error\" : {\n",
      "    \"status\" : 429\n",
      "  }\n",
      "}\n",
      "<bound method Response.json of <Response [429]>>\n",
      "Error: 429 - {\n",
      "  \"error\" : {\n",
      "    \"status\" : 429\n",
      "  }\n",
      "}\n",
      "<bound method Response.json of <Response [429]>>\n"
     ]
    },
    {
     "name": "stderr",
     "output_type": "stream",
     "text": [
      "api_call...:   6%|█▊                          | 71/1098 [00:47<02:42,  6.30it/s]"
     ]
    },
    {
     "name": "stdout",
     "output_type": "stream",
     "text": [
      "Error: 429 - {\n",
      "  \"error\" : {\n",
      "    \"status\" : 429\n",
      "  }\n",
      "}\n",
      "<bound method Response.json of <Response [429]>>\n",
      "Error: 429 - {\n",
      "  \"error\" : {\n",
      "    \"status\" : 429\n",
      "  }\n",
      "}\n",
      "<bound method Response.json of <Response [429]>>\n"
     ]
    },
    {
     "name": "stderr",
     "output_type": "stream",
     "text": [
      "api_call...:   7%|█▊                          | 73/1098 [00:47<02:31,  6.78it/s]"
     ]
    },
    {
     "name": "stdout",
     "output_type": "stream",
     "text": [
      "Error: 429 - {\n",
      "  \"error\" : {\n",
      "    \"status\" : 429\n",
      "  }\n",
      "}\n",
      "<bound method Response.json of <Response [429]>>\n",
      "Error: 429 - {\n",
      "  \"error\" : {\n",
      "    \"status\" : 429\n",
      "  }\n",
      "}\n",
      "<bound method Response.json of <Response [429]>>\n"
     ]
    },
    {
     "name": "stderr",
     "output_type": "stream",
     "text": [
      "api_call...:   7%|█▉                          | 75/1098 [00:47<02:47,  6.11it/s]"
     ]
    },
    {
     "name": "stdout",
     "output_type": "stream",
     "text": [
      "Error: 429 - {\n",
      "  \"error\" : {\n",
      "    \"status\" : 429\n",
      "  }\n",
      "}\n",
      "<bound method Response.json of <Response [429]>>\n",
      "Error: 429 - {\n",
      "  \"error\" : {\n",
      "    \"status\" : 429\n",
      "  }\n",
      "}\n",
      "<bound method Response.json of <Response [429]>>\n"
     ]
    },
    {
     "name": "stderr",
     "output_type": "stream",
     "text": [
      "api_call...:   7%|█▉                          | 77/1098 [00:47<02:25,  7.02it/s]"
     ]
    },
    {
     "name": "stdout",
     "output_type": "stream",
     "text": [
      "Error: 429 - {\n",
      "  \"error\" : {\n",
      "    \"status\" : 429\n",
      "  }\n",
      "}\n",
      "<bound method Response.json of <Response [429]>>\n",
      "Error: 429 - {\n",
      "  \"error\" : {\n",
      "    \"status\" : 429\n",
      "  }\n",
      "}\n",
      "<bound method Response.json of <Response [429]>>\n"
     ]
    },
    {
     "name": "stderr",
     "output_type": "stream",
     "text": [
      "api_call...:   7%|██                          | 79/1098 [00:48<02:23,  7.08it/s]"
     ]
    },
    {
     "name": "stdout",
     "output_type": "stream",
     "text": [
      "Error: 429 - {\n",
      "  \"error\" : {\n",
      "    \"status\" : 429\n",
      "  }\n",
      "}\n",
      "<bound method Response.json of <Response [429]>>\n",
      "Error: 429 - {\n",
      "  \"error\" : {\n",
      "    \"status\" : 429\n",
      "  }\n",
      "}\n",
      "<bound method Response.json of <Response [429]>>\n"
     ]
    },
    {
     "name": "stderr",
     "output_type": "stream",
     "text": [
      "\r",
      "api_call...:   7%|██                          | 80/1098 [00:48<02:29,  6.83it/s]"
     ]
    },
    {
     "name": "stdout",
     "output_type": "stream",
     "text": [
      "Error: 429 - {\n",
      "  \"error\" : {\n",
      "    \"status\" : 429\n",
      "  }\n",
      "}\n",
      "<bound method Response.json of <Response [429]>>\n"
     ]
    },
    {
     "name": "stderr",
     "output_type": "stream",
     "text": [
      "api_call...:   7%|██                          | 82/1098 [00:48<02:42,  6.26it/s]"
     ]
    },
    {
     "name": "stdout",
     "output_type": "stream",
     "text": [
      "Error: 429 - {\n",
      "  \"error\" : {\n",
      "    \"status\" : 429\n",
      "  }\n",
      "}\n",
      "<bound method Response.json of <Response [429]>>\n",
      "Error: 429 - {\n",
      "  \"error\" : {\n",
      "    \"status\" : 429\n",
      "  }\n",
      "}\n",
      "<bound method Response.json of <Response [429]>>\n"
     ]
    },
    {
     "name": "stderr",
     "output_type": "stream",
     "text": [
      "api_call...:   8%|██▏                         | 84/1098 [00:49<02:26,  6.93it/s]"
     ]
    },
    {
     "name": "stdout",
     "output_type": "stream",
     "text": [
      "Error: 429 - {\n",
      "  \"error\" : {\n",
      "    \"status\" : 429\n",
      "  }\n",
      "}\n",
      "<bound method Response.json of <Response [429]>>\n",
      "Error: 429 - {\n",
      "  \"error\" : {\n",
      "    \"status\" : 429\n",
      "  }\n",
      "}\n",
      "<bound method Response.json of <Response [429]>>\n"
     ]
    },
    {
     "name": "stderr",
     "output_type": "stream",
     "text": [
      "api_call...:   8%|██▏                         | 86/1098 [00:49<02:21,  7.14it/s]"
     ]
    },
    {
     "name": "stdout",
     "output_type": "stream",
     "text": [
      "Error: 429 - {\n",
      "  \"error\" : {\n",
      "    \"status\" : 429\n",
      "  }\n",
      "}\n",
      "<bound method Response.json of <Response [429]>>\n",
      "Error: 429 - {\n",
      "  \"error\" : {\n",
      "    \"status\" : 429\n",
      "  }\n",
      "}\n",
      "<bound method Response.json of <Response [429]>>\n"
     ]
    },
    {
     "name": "stderr",
     "output_type": "stream",
     "text": [
      "api_call...:   8%|██▏                         | 88/1098 [00:49<02:15,  7.43it/s]"
     ]
    },
    {
     "name": "stdout",
     "output_type": "stream",
     "text": [
      "Error: 429 - {\n",
      "  \"error\" : {\n",
      "    \"status\" : 429\n",
      "  }\n",
      "}\n",
      "<bound method Response.json of <Response [429]>>\n",
      "Error: 429 - {\n",
      "  \"error\" : {\n",
      "    \"status\" : 429\n",
      "  }\n",
      "}\n",
      "<bound method Response.json of <Response [429]>>\n"
     ]
    },
    {
     "name": "stderr",
     "output_type": "stream",
     "text": [
      "api_call...:   8%|██▎                         | 90/1098 [00:49<02:34,  6.53it/s]"
     ]
    },
    {
     "name": "stdout",
     "output_type": "stream",
     "text": [
      "Error: 429 - {\n",
      "  \"error\" : {\n",
      "    \"status\" : 429\n",
      "  }\n",
      "}\n",
      "<bound method Response.json of <Response [429]>>\n",
      "Error: 429 - {\n",
      "  \"error\" : {\n",
      "    \"status\" : 429\n",
      "  }\n",
      "}\n",
      "<bound method Response.json of <Response [429]>>\n"
     ]
    },
    {
     "name": "stderr",
     "output_type": "stream",
     "text": [
      "api_call...:   8%|██▎                         | 92/1098 [00:50<02:33,  6.54it/s]"
     ]
    },
    {
     "name": "stdout",
     "output_type": "stream",
     "text": [
      "Error: 429 - {\n",
      "  \"error\" : {\n",
      "    \"status\" : 429\n",
      "  }\n",
      "}\n",
      "<bound method Response.json of <Response [429]>>\n",
      "Error: 429 - {\n",
      "  \"error\" : {\n",
      "    \"status\" : 429\n",
      "  }\n",
      "}\n",
      "<bound method Response.json of <Response [429]>>\n"
     ]
    },
    {
     "name": "stderr",
     "output_type": "stream",
     "text": [
      "api_call...:   9%|██▍                         | 94/1098 [00:50<02:22,  7.06it/s]"
     ]
    },
    {
     "name": "stdout",
     "output_type": "stream",
     "text": [
      "Error: 429 - {\n",
      "  \"error\" : {\n",
      "    \"status\" : 429\n",
      "  }\n",
      "}\n",
      "<bound method Response.json of <Response [429]>>\n",
      "Error: 429 - {\n",
      "  \"error\" : {\n",
      "    \"status\" : 429\n",
      "  }\n",
      "}\n",
      "<bound method Response.json of <Response [429]>>\n"
     ]
    },
    {
     "name": "stderr",
     "output_type": "stream",
     "text": [
      "\r",
      "api_call...:   9%|██▍                         | 95/1098 [00:50<02:19,  7.19it/s]"
     ]
    },
    {
     "name": "stdout",
     "output_type": "stream",
     "text": [
      "Error: 429 - {\n",
      "  \"error\" : {\n",
      "    \"status\" : 429\n",
      "  }\n",
      "}\n",
      "<bound method Response.json of <Response [429]>>\n"
     ]
    },
    {
     "name": "stderr",
     "output_type": "stream",
     "text": [
      "api_call...:   9%|██▍                         | 97/1098 [00:50<02:35,  6.42it/s]"
     ]
    },
    {
     "name": "stdout",
     "output_type": "stream",
     "text": [
      "Error: 429 - {\n",
      "  \"error\" : {\n",
      "    \"status\" : 429\n",
      "  }\n",
      "}\n",
      "<bound method Response.json of <Response [429]>>\n",
      "Error: 429 - {\n",
      "  \"error\" : {\n",
      "    \"status\" : 429\n",
      "  }\n",
      "}\n",
      "<bound method Response.json of <Response [429]>>\n"
     ]
    },
    {
     "name": "stderr",
     "output_type": "stream",
     "text": [
      "api_call...:   9%|██▌                         | 99/1098 [00:51<02:33,  6.51it/s]"
     ]
    },
    {
     "name": "stdout",
     "output_type": "stream",
     "text": [
      "Error: 429 - {\n",
      "  \"error\" : {\n",
      "    \"status\" : 429\n",
      "  }\n",
      "}\n",
      "<bound method Response.json of <Response [429]>>\n",
      "Error: 429 - {\n",
      "  \"error\" : {\n",
      "    \"status\" : 429\n",
      "  }\n",
      "}\n",
      "<bound method Response.json of <Response [429]>>\n"
     ]
    },
    {
     "name": "stderr",
     "output_type": "stream",
     "text": [
      "\r",
      "api_call...:   9%|██▍                        | 100/1098 [00:51<02:25,  6.84it/s]"
     ]
    },
    {
     "name": "stdout",
     "output_type": "stream",
     "text": [
      "Error: 429 - {\n",
      "  \"error\" : {\n",
      "    \"status\" : 429\n",
      "  }\n",
      "}\n",
      "<bound method Response.json of <Response [429]>>\n"
     ]
    },
    {
     "name": "stderr",
     "output_type": "stream",
     "text": [
      "\r",
      "api_call...:   9%|██▎                      | 101/1098 [01:26<2:56:55, 10.65s/it]"
     ]
    },
    {
     "name": "stdout",
     "output_type": "stream",
     "text": [
      "Error: 429 - {\n",
      "  \"error\" : {\n",
      "    \"status\" : 429\n",
      "  }\n",
      "}\n",
      "<bound method Response.json of <Response [429]>>\n",
      "Error: 429 - {\n",
      "  \"error\" : {\n",
      "    \"status\" : 429\n",
      "  }\n",
      "}\n",
      "<bound method Response.json of <Response [429]>>\n"
     ]
    },
    {
     "name": "stderr",
     "output_type": "stream",
     "text": [
      "api_call...:   9%|██▎                      | 104/1098 [01:27<1:02:14,  3.76s/it]"
     ]
    },
    {
     "name": "stdout",
     "output_type": "stream",
     "text": [
      "Error: 429 - {\n",
      "  \"error\" : {\n",
      "    \"status\" : 429\n",
      "  }\n",
      "}\n",
      "<bound method Response.json of <Response [429]>>\n",
      "Error: 429 - {\n",
      "  \"error\" : {\n",
      "    \"status\" : 429\n",
      "  }\n",
      "}\n",
      "<bound method Response.json of <Response [429]>>\n"
     ]
    },
    {
     "name": "stderr",
     "output_type": "stream",
     "text": [
      "\r",
      "api_call...:  10%|██▌                        | 105/1098 [01:27<44:12,  2.67s/it]"
     ]
    },
    {
     "name": "stdout",
     "output_type": "stream",
     "text": [
      "Error: 429 - {\n",
      "  \"error\" : {\n",
      "    \"status\" : 429\n",
      "  }\n",
      "}\n",
      "<bound method Response.json of <Response [429]>>\n"
     ]
    },
    {
     "name": "stderr",
     "output_type": "stream",
     "text": [
      "api_call...:  10%|██▋                        | 107/1098 [01:27<23:13,  1.41s/it]"
     ]
    },
    {
     "name": "stdout",
     "output_type": "stream",
     "text": [
      "Error: 429 - {\n",
      "  \"error\" : {\n",
      "    \"status\" : 429\n",
      "  }\n",
      "}\n",
      "<bound method Response.json of <Response [429]>>\n",
      "Error: 429 - {\n",
      "  \"error\" : {\n",
      "    \"status\" : 429\n",
      "  }\n",
      "}\n",
      "<bound method Response.json of <Response [429]>>\n"
     ]
    },
    {
     "name": "stderr",
     "output_type": "stream",
     "text": [
      "api_call...:  10%|██▋                        | 109/1098 [01:27<12:29,  1.32it/s]"
     ]
    },
    {
     "name": "stdout",
     "output_type": "stream",
     "text": [
      "Error: 429 - {\n",
      "  \"error\" : {\n",
      "    \"status\" : 429\n",
      "  }\n",
      "}\n",
      "<bound method Response.json of <Response [429]>>\n",
      "Error: 429 - {\n",
      "  \"error\" : {\n",
      "    \"status\" : 429\n",
      "  }\n",
      "}\n",
      "<bound method Response.json of <Response [429]>>\n"
     ]
    },
    {
     "name": "stderr",
     "output_type": "stream",
     "text": [
      "api_call...:  10%|██▋                        | 111/1098 [01:28<07:29,  2.19it/s]"
     ]
    },
    {
     "name": "stdout",
     "output_type": "stream",
     "text": [
      "Error: 429 - {\n",
      "  \"error\" : {\n",
      "    \"status\" : 429\n",
      "  }\n",
      "}\n",
      "<bound method Response.json of <Response [429]>>\n",
      "Error: 429 - {\n",
      "  \"error\" : {\n",
      "    \"status\" : 429\n",
      "  }\n",
      "}\n",
      "<bound method Response.json of <Response [429]>>\n"
     ]
    },
    {
     "name": "stderr",
     "output_type": "stream",
     "text": [
      "api_call...:  10%|██▊                        | 113/1098 [01:28<04:50,  3.39it/s]"
     ]
    },
    {
     "name": "stdout",
     "output_type": "stream",
     "text": [
      "Error: 429 - {\n",
      "  \"error\" : {\n",
      "    \"status\" : 429\n",
      "  }\n",
      "}\n",
      "<bound method Response.json of <Response [429]>>\n",
      "Error: 429 - {\n",
      "  \"error\" : {\n",
      "    \"status\" : 429\n",
      "  }\n",
      "}\n",
      "<bound method Response.json of <Response [429]>>\n"
     ]
    },
    {
     "name": "stderr",
     "output_type": "stream",
     "text": [
      "\r",
      "api_call...:  10%|██▊                        | 114/1098 [01:28<04:01,  4.07it/s]"
     ]
    },
    {
     "name": "stdout",
     "output_type": "stream",
     "text": [
      "Error: 429 - {\n",
      "  \"error\" : {\n",
      "    \"status\" : 429\n",
      "  }\n",
      "}\n",
      "<bound method Response.json of <Response [429]>>\n"
     ]
    },
    {
     "name": "stderr",
     "output_type": "stream",
     "text": [
      "api_call...:  11%|██▊                        | 116/1098 [01:29<04:23,  3.73it/s]"
     ]
    },
    {
     "name": "stdout",
     "output_type": "stream",
     "text": [
      "Error: 429 - {\n",
      "  \"error\" : {\n",
      "    \"status\" : 429\n",
      "  }\n",
      "}\n",
      "<bound method Response.json of <Response [429]>>\n",
      "Error: 429 - {\n",
      "  \"error\" : {\n",
      "    \"status\" : 429\n",
      "  }\n",
      "}\n",
      "<bound method Response.json of <Response [429]>>\n"
     ]
    },
    {
     "name": "stderr",
     "output_type": "stream",
     "text": [
      "\r",
      "api_call...:  11%|██▉                        | 117/1098 [01:29<03:43,  4.39it/s]"
     ]
    },
    {
     "name": "stdout",
     "output_type": "stream",
     "text": [
      "Error: 429 - {\n",
      "  \"error\" : {\n",
      "    \"status\" : 429\n",
      "  }\n",
      "}\n",
      "<bound method Response.json of <Response [429]>>\n"
     ]
    },
    {
     "name": "stderr",
     "output_type": "stream",
     "text": [
      "api_call...:  11%|██▉                        | 119/1098 [01:29<03:15,  5.01it/s]"
     ]
    },
    {
     "name": "stdout",
     "output_type": "stream",
     "text": [
      "Error: 429 - {\n",
      "  \"error\" : {\n",
      "    \"status\" : 429\n",
      "  }\n",
      "}\n",
      "<bound method Response.json of <Response [429]>>\n",
      "Error: 429 - {\n",
      "  \"error\" : {\n",
      "    \"status\" : 429\n",
      "  }\n",
      "}\n",
      "<bound method Response.json of <Response [429]>>\n"
     ]
    },
    {
     "name": "stderr",
     "output_type": "stream",
     "text": [
      "\r",
      "api_call...:  11%|██▉                        | 120/1098 [01:29<03:08,  5.18it/s]"
     ]
    },
    {
     "name": "stdout",
     "output_type": "stream",
     "text": [
      "Error: 429 - {\n",
      "  \"error\" : {\n",
      "    \"status\" : 429\n",
      "  }\n",
      "}\n",
      "<bound method Response.json of <Response [429]>>\n"
     ]
    },
    {
     "name": "stderr",
     "output_type": "stream",
     "text": [
      "api_call...:  11%|███                        | 123/1098 [01:30<03:42,  4.38it/s]"
     ]
    },
    {
     "name": "stdout",
     "output_type": "stream",
     "text": [
      "Error: 429 - {\n",
      "  \"error\" : {\n",
      "    \"status\" : 429\n",
      "  }\n",
      "}\n",
      "<bound method Response.json of <Response [429]>>\n",
      "Error: 429 - {\n",
      "  \"error\" : {\n",
      "    \"status\" : 429\n",
      "  }\n",
      "}\n",
      "<bound method Response.json of <Response [429]>>\n"
     ]
    },
    {
     "name": "stderr",
     "output_type": "stream",
     "text": [
      "api_call...:  11%|███                        | 125/1098 [01:31<03:31,  4.61it/s]"
     ]
    },
    {
     "name": "stdout",
     "output_type": "stream",
     "text": [
      "Error: 429 - {\n",
      "  \"error\" : {\n",
      "    \"status\" : 429\n",
      "  }\n",
      "}\n",
      "<bound method Response.json of <Response [429]>>\n",
      "Error: 429 - {\n",
      "  \"error\" : {\n",
      "    \"status\" : 429\n",
      "  }\n",
      "}\n",
      "<bound method Response.json of <Response [429]>>\n"
     ]
    },
    {
     "name": "stderr",
     "output_type": "stream",
     "text": [
      "\r",
      "api_call...:  11%|███                        | 126/1098 [01:31<03:05,  5.24it/s]"
     ]
    },
    {
     "name": "stdout",
     "output_type": "stream",
     "text": [
      "Error: 429 - {\n",
      "  \"error\" : {\n",
      "    \"status\" : 429\n",
      "  }\n",
      "}\n",
      "<bound method Response.json of <Response [429]>>\n"
     ]
    },
    {
     "name": "stderr",
     "output_type": "stream",
     "text": [
      "api_call...:  12%|███▏                       | 128/1098 [01:31<02:59,  5.41it/s]"
     ]
    },
    {
     "name": "stdout",
     "output_type": "stream",
     "text": [
      "Error: 429 - {\n",
      "  \"error\" : {\n",
      "    \"status\" : 429\n",
      "  }\n",
      "}\n",
      "<bound method Response.json of <Response [429]>>\n",
      "Error: 429 - {\n",
      "  \"error\" : {\n",
      "    \"status\" : 429\n",
      "  }\n",
      "}\n",
      "<bound method Response.json of <Response [429]>>\n"
     ]
    },
    {
     "name": "stderr",
     "output_type": "stream",
     "text": [
      "api_call...:  12%|███▏                       | 130/1098 [01:32<02:39,  6.06it/s]"
     ]
    },
    {
     "name": "stdout",
     "output_type": "stream",
     "text": [
      "Error: 429 - {\n",
      "  \"error\" : {\n",
      "    \"status\" : 429\n",
      "  }\n",
      "}\n",
      "<bound method Response.json of <Response [429]>>\n",
      "Error: 429 - {\n",
      "  \"error\" : {\n",
      "    \"status\" : 429\n",
      "  }\n",
      "}\n",
      "<bound method Response.json of <Response [429]>>\n"
     ]
    },
    {
     "name": "stderr",
     "output_type": "stream",
     "text": [
      "api_call...:  12%|███▏                       | 132/1098 [01:32<02:41,  5.97it/s]"
     ]
    },
    {
     "name": "stdout",
     "output_type": "stream",
     "text": [
      "Error: 429 - {\n",
      "  \"error\" : {\n",
      "    \"status\" : 429\n",
      "  }\n",
      "}\n",
      "<bound method Response.json of <Response [429]>>\n",
      "Error: 429 - {\n",
      "  \"error\" : {\n",
      "    \"status\" : 429\n",
      "  }\n",
      "}\n",
      "<bound method Response.json of <Response [429]>>\n"
     ]
    },
    {
     "name": "stderr",
     "output_type": "stream",
     "text": [
      "\r",
      "api_call...:  12%|███▎                       | 133/1098 [01:32<02:34,  6.24it/s]"
     ]
    },
    {
     "name": "stdout",
     "output_type": "stream",
     "text": [
      "Error: 429 - {\n",
      "  \"error\" : {\n",
      "    \"status\" : 429\n",
      "  }\n",
      "}\n",
      "<bound method Response.json of <Response [429]>>\n"
     ]
    },
    {
     "name": "stderr",
     "output_type": "stream",
     "text": [
      "api_call...:  12%|███▎                       | 135/1098 [01:32<02:43,  5.89it/s]"
     ]
    },
    {
     "name": "stdout",
     "output_type": "stream",
     "text": [
      "Error: 429 - {\n",
      "  \"error\" : {\n",
      "    \"status\" : 429\n",
      "  }\n",
      "}\n",
      "<bound method Response.json of <Response [429]>>\n",
      "Error: 429 - {\n",
      "  \"error\" : {\n",
      "    \"status\" : 429\n",
      "  }\n",
      "}\n",
      "<bound method Response.json of <Response [429]>>\n"
     ]
    },
    {
     "name": "stderr",
     "output_type": "stream",
     "text": [
      "api_call...:  12%|███▎                       | 137/1098 [01:33<02:31,  6.36it/s]"
     ]
    },
    {
     "name": "stdout",
     "output_type": "stream",
     "text": [
      "Error: 429 - {\n",
      "  \"error\" : {\n",
      "    \"status\" : 429\n",
      "  }\n",
      "}\n",
      "<bound method Response.json of <Response [429]>>\n",
      "Error: 429 - {\n",
      "  \"error\" : {\n",
      "    \"status\" : 429\n",
      "  }\n",
      "}\n",
      "<bound method Response.json of <Response [429]>>\n"
     ]
    },
    {
     "name": "stderr",
     "output_type": "stream",
     "text": [
      "\r",
      "api_call...:  13%|███▍                       | 138/1098 [01:33<02:33,  6.24it/s]"
     ]
    },
    {
     "name": "stdout",
     "output_type": "stream",
     "text": [
      "Error: 429 - {\n",
      "  \"error\" : {\n",
      "    \"status\" : 429\n",
      "  }\n",
      "}\n",
      "<bound method Response.json of <Response [429]>>\n"
     ]
    },
    {
     "name": "stderr",
     "output_type": "stream",
     "text": [
      "api_call...:  13%|███▍                       | 140/1098 [01:33<02:40,  5.95it/s]"
     ]
    },
    {
     "name": "stdout",
     "output_type": "stream",
     "text": [
      "Error: 429 - {\n",
      "  \"error\" : {\n",
      "    \"status\" : 429\n",
      "  }\n",
      "}\n",
      "<bound method Response.json of <Response [429]>>\n",
      "Error: 429 - {\n",
      "  \"error\" : {\n",
      "    \"status\" : 429\n",
      "  }\n",
      "}\n",
      "<bound method Response.json of <Response [429]>>\n"
     ]
    },
    {
     "name": "stderr",
     "output_type": "stream",
     "text": [
      "api_call...:  13%|███▍                       | 142/1098 [01:34<02:22,  6.70it/s]"
     ]
    },
    {
     "name": "stdout",
     "output_type": "stream",
     "text": [
      "Error: 429 - {\n",
      "  \"error\" : {\n",
      "    \"status\" : 429\n",
      "  }\n",
      "}\n",
      "<bound method Response.json of <Response [429]>>\n",
      "Error: 429 - {\n",
      "  \"error\" : {\n",
      "    \"status\" : 429\n",
      "  }\n",
      "}\n",
      "<bound method Response.json of <Response [429]>>\n"
     ]
    },
    {
     "name": "stderr",
     "output_type": "stream",
     "text": [
      "api_call...:  13%|███▌                       | 144/1098 [01:34<02:57,  5.38it/s]"
     ]
    },
    {
     "name": "stdout",
     "output_type": "stream",
     "text": [
      "Error: 429 - {\n",
      "  \"error\" : {\n",
      "    \"status\" : 429\n",
      "  }\n",
      "}\n",
      "<bound method Response.json of <Response [429]>>\n",
      "Error: 429 - {\n",
      "  \"error\" : {\n",
      "    \"status\" : 429\n",
      "  }\n",
      "}\n",
      "<bound method Response.json of <Response [429]>>\n"
     ]
    },
    {
     "name": "stderr",
     "output_type": "stream",
     "text": [
      "api_call...:  13%|███▌                       | 146/1098 [01:35<03:53,  4.07it/s]"
     ]
    },
    {
     "name": "stdout",
     "output_type": "stream",
     "text": [
      "Error: 429 - {\n",
      "  \"error\" : {\n",
      "    \"status\" : 429\n",
      "  }\n",
      "}\n",
      "<bound method Response.json of <Response [429]>>\n",
      "Error: 429 - {\n",
      "  \"error\" : {\n",
      "    \"status\" : 429\n",
      "  }\n",
      "}\n",
      "<bound method Response.json of <Response [429]>>\n"
     ]
    },
    {
     "name": "stderr",
     "output_type": "stream",
     "text": [
      "api_call...:  13%|███▋                       | 148/1098 [01:35<03:09,  5.01it/s]"
     ]
    },
    {
     "name": "stdout",
     "output_type": "stream",
     "text": [
      "Error: 429 - {\n",
      "  \"error\" : {\n",
      "    \"status\" : 429\n",
      "  }\n",
      "}\n",
      "<bound method Response.json of <Response [429]>>\n",
      "Error: 429 - {\n",
      "  \"error\" : {\n",
      "    \"status\" : 429\n",
      "  }\n",
      "}\n",
      "<bound method Response.json of <Response [429]>>\n"
     ]
    },
    {
     "name": "stderr",
     "output_type": "stream",
     "text": [
      "\r",
      "api_call...:  14%|███▋                       | 149/1098 [01:35<02:51,  5.54it/s]"
     ]
    },
    {
     "name": "stdout",
     "output_type": "stream",
     "text": [
      "Error: 429 - {\n",
      "  \"error\" : {\n",
      "    \"status\" : 429\n",
      "  }\n",
      "}\n",
      "<bound method Response.json of <Response [429]>>\n"
     ]
    },
    {
     "name": "stderr",
     "output_type": "stream",
     "text": [
      "api_call...:  14%|███▋                       | 151/1098 [01:35<02:48,  5.63it/s]"
     ]
    },
    {
     "name": "stdout",
     "output_type": "stream",
     "text": [
      "Error: 429 - {\n",
      "  \"error\" : {\n",
      "    \"status\" : 429\n",
      "  }\n",
      "}\n",
      "<bound method Response.json of <Response [429]>>\n",
      "Error: 429 - {\n",
      "  \"error\" : {\n",
      "    \"status\" : 429\n",
      "  }\n",
      "}\n",
      "<bound method Response.json of <Response [429]>>\n"
     ]
    },
    {
     "name": "stderr",
     "output_type": "stream",
     "text": [
      "api_call...:  14%|███▊                       | 153/1098 [01:36<02:29,  6.30it/s]"
     ]
    },
    {
     "name": "stdout",
     "output_type": "stream",
     "text": [
      "Error: 429 - {\n",
      "  \"error\" : {\n",
      "    \"status\" : 429\n",
      "  }\n",
      "}\n",
      "<bound method Response.json of <Response [429]>>\n",
      "Error: 429 - {\n",
      "  \"error\" : {\n",
      "    \"status\" : 429\n",
      "  }\n",
      "}\n",
      "<bound method Response.json of <Response [429]>>\n"
     ]
    },
    {
     "name": "stderr",
     "output_type": "stream",
     "text": [
      "api_call...:  14%|███▊                       | 155/1098 [01:36<02:35,  6.05it/s]"
     ]
    },
    {
     "name": "stdout",
     "output_type": "stream",
     "text": [
      "Error: 429 - {\n",
      "  \"error\" : {\n",
      "    \"status\" : 429\n",
      "  }\n",
      "}\n",
      "<bound method Response.json of <Response [429]>>\n",
      "Error: 429 - {\n",
      "  \"error\" : {\n",
      "    \"status\" : 429\n",
      "  }\n",
      "}\n",
      "<bound method Response.json of <Response [429]>>\n"
     ]
    },
    {
     "name": "stderr",
     "output_type": "stream",
     "text": [
      "\r",
      "api_call...:  14%|███▊                       | 156/1098 [01:36<02:27,  6.38it/s]"
     ]
    },
    {
     "name": "stdout",
     "output_type": "stream",
     "text": [
      "Error: 429 - {\n",
      "  \"error\" : {\n",
      "    \"status\" : 429\n",
      "  }\n",
      "}\n",
      "<bound method Response.json of <Response [429]>>\n"
     ]
    },
    {
     "name": "stderr",
     "output_type": "stream",
     "text": [
      "api_call...:  14%|███▉                       | 158/1098 [01:37<02:28,  6.32it/s]"
     ]
    },
    {
     "name": "stdout",
     "output_type": "stream",
     "text": [
      "Error: 429 - {\n",
      "  \"error\" : {\n",
      "    \"status\" : 429\n",
      "  }\n",
      "}\n",
      "<bound method Response.json of <Response [429]>>\n",
      "Error: 429 - {\n",
      "  \"error\" : {\n",
      "    \"status\" : 429\n",
      "  }\n",
      "}\n",
      "<bound method Response.json of <Response [429]>>\n"
     ]
    },
    {
     "name": "stderr",
     "output_type": "stream",
     "text": [
      "api_call...:  15%|███▉                       | 160/1098 [01:37<02:32,  6.14it/s]"
     ]
    },
    {
     "name": "stdout",
     "output_type": "stream",
     "text": [
      "Error: 429 - {\n",
      "  \"error\" : {\n",
      "    \"status\" : 429\n",
      "  }\n",
      "}\n",
      "<bound method Response.json of <Response [429]>>\n",
      "Error: 429 - {\n",
      "  \"error\" : {\n",
      "    \"status\" : 429\n",
      "  }\n",
      "}\n",
      "<bound method Response.json of <Response [429]>>\n"
     ]
    },
    {
     "name": "stderr",
     "output_type": "stream",
     "text": [
      "api_call...:  15%|███▉                       | 162/1098 [01:37<02:15,  6.89it/s]"
     ]
    },
    {
     "name": "stdout",
     "output_type": "stream",
     "text": [
      "Error: 429 - {\n",
      "  \"error\" : {\n",
      "    \"status\" : 429\n",
      "  }\n",
      "}\n",
      "<bound method Response.json of <Response [429]>>\n",
      "Error: 429 - {\n",
      "  \"error\" : {\n",
      "    \"status\" : 429\n",
      "  }\n",
      "}\n",
      "<bound method Response.json of <Response [429]>>\n"
     ]
    },
    {
     "name": "stderr",
     "output_type": "stream",
     "text": [
      "\r",
      "api_call...:  15%|████                       | 163/1098 [01:37<02:13,  7.02it/s]"
     ]
    },
    {
     "name": "stdout",
     "output_type": "stream",
     "text": [
      "Error: 429 - {\n",
      "  \"error\" : {\n",
      "    \"status\" : 429\n",
      "  }\n",
      "}\n",
      "<bound method Response.json of <Response [429]>>\n"
     ]
    },
    {
     "name": "stderr",
     "output_type": "stream",
     "text": [
      "api_call...:  15%|████                       | 165/1098 [01:38<02:23,  6.48it/s]"
     ]
    },
    {
     "name": "stdout",
     "output_type": "stream",
     "text": [
      "Error: 429 - {\n",
      "  \"error\" : {\n",
      "    \"status\" : 429\n",
      "  }\n",
      "}\n",
      "<bound method Response.json of <Response [429]>>\n",
      "Error: 429 - {\n",
      "  \"error\" : {\n",
      "    \"status\" : 429\n",
      "  }\n",
      "}\n",
      "<bound method Response.json of <Response [429]>>\n"
     ]
    },
    {
     "name": "stderr",
     "output_type": "stream",
     "text": [
      "api_call...:  15%|████                       | 167/1098 [01:38<02:24,  6.43it/s]"
     ]
    },
    {
     "name": "stdout",
     "output_type": "stream",
     "text": [
      "Error: 429 - {\n",
      "  \"error\" : {\n",
      "    \"status\" : 429\n",
      "  }\n",
      "}\n",
      "<bound method Response.json of <Response [429]>>\n",
      "Error: 429 - {\n",
      "  \"error\" : {\n",
      "    \"status\" : 429\n",
      "  }\n",
      "}\n",
      "<bound method Response.json of <Response [429]>>\n"
     ]
    },
    {
     "name": "stderr",
     "output_type": "stream",
     "text": [
      "api_call...:  15%|████▏                      | 169/1098 [01:38<02:20,  6.62it/s]"
     ]
    },
    {
     "name": "stdout",
     "output_type": "stream",
     "text": [
      "Error: 429 - {\n",
      "  \"error\" : {\n",
      "    \"status\" : 429\n",
      "  }\n",
      "}\n",
      "<bound method Response.json of <Response [429]>>\n",
      "Error: 429 - {\n",
      "  \"error\" : {\n",
      "    \"status\" : 429\n",
      "  }\n",
      "}\n",
      "<bound method Response.json of <Response [429]>>\n"
     ]
    },
    {
     "name": "stderr",
     "output_type": "stream",
     "text": [
      "api_call...:  16%|████▏                      | 171/1098 [01:39<02:30,  6.15it/s]"
     ]
    },
    {
     "name": "stdout",
     "output_type": "stream",
     "text": [
      "Error: 429 - {\n",
      "  \"error\" : {\n",
      "    \"status\" : 429\n",
      "  }\n",
      "}\n",
      "<bound method Response.json of <Response [429]>>\n",
      "Error: 429 - {\n",
      "  \"error\" : {\n",
      "    \"status\" : 429\n",
      "  }\n",
      "}\n",
      "<bound method Response.json of <Response [429]>>\n"
     ]
    },
    {
     "name": "stderr",
     "output_type": "stream",
     "text": [
      "api_call...:  16%|████▎                      | 173/1098 [01:39<02:43,  5.65it/s]"
     ]
    },
    {
     "name": "stdout",
     "output_type": "stream",
     "text": [
      "Error: 429 - {\n",
      "  \"error\" : {\n",
      "    \"status\" : 429\n",
      "  }\n",
      "}\n",
      "<bound method Response.json of <Response [429]>>\n",
      "Error: 429 - {\n",
      "  \"error\" : {\n",
      "    \"status\" : 429\n",
      "  }\n",
      "}\n",
      "<bound method Response.json of <Response [429]>>\n"
     ]
    },
    {
     "name": "stderr",
     "output_type": "stream",
     "text": [
      "api_call...:  16%|████▎                      | 175/1098 [01:39<02:23,  6.45it/s]"
     ]
    },
    {
     "name": "stdout",
     "output_type": "stream",
     "text": [
      "Error: 429 - {\n",
      "  \"error\" : {\n",
      "    \"status\" : 429\n",
      "  }\n",
      "}\n",
      "<bound method Response.json of <Response [429]>>\n",
      "Error: 429 - {\n",
      "  \"error\" : {\n",
      "    \"status\" : 429\n",
      "  }\n",
      "}\n",
      "<bound method Response.json of <Response [429]>>\n"
     ]
    },
    {
     "name": "stderr",
     "output_type": "stream",
     "text": [
      "\r",
      "api_call...:  16%|████▎                      | 176/1098 [01:40<04:46,  3.21it/s]"
     ]
    },
    {
     "name": "stdout",
     "output_type": "stream",
     "text": [
      "Error: 429 - {\n",
      "  \"error\" : {\n",
      "    \"status\" : 429\n",
      "  }\n",
      "}\n",
      "<bound method Response.json of <Response [429]>>\n"
     ]
    },
    {
     "name": "stderr",
     "output_type": "stream",
     "text": [
      "api_call...:  16%|████▍                      | 178/1098 [01:40<03:37,  4.24it/s]"
     ]
    },
    {
     "name": "stdout",
     "output_type": "stream",
     "text": [
      "Error: 429 - {\n",
      "  \"error\" : {\n",
      "    \"status\" : 429\n",
      "  }\n",
      "}\n",
      "<bound method Response.json of <Response [429]>>\n",
      "Error: 429 - {\n",
      "  \"error\" : {\n",
      "    \"status\" : 429\n",
      "  }\n",
      "}\n",
      "<bound method Response.json of <Response [429]>>\n"
     ]
    },
    {
     "name": "stderr",
     "output_type": "stream",
     "text": [
      "api_call...:  16%|████▍                      | 180/1098 [01:41<02:53,  5.30it/s]"
     ]
    },
    {
     "name": "stdout",
     "output_type": "stream",
     "text": [
      "Error: 429 - {\n",
      "  \"error\" : {\n",
      "    \"status\" : 429\n",
      "  }\n",
      "}\n",
      "<bound method Response.json of <Response [429]>>\n",
      "Error: 429 - {\n",
      "  \"error\" : {\n",
      "    \"status\" : 429\n",
      "  }\n",
      "}\n",
      "<bound method Response.json of <Response [429]>>\n"
     ]
    },
    {
     "name": "stderr",
     "output_type": "stream",
     "text": [
      "api_call...:  17%|████▍                      | 182/1098 [01:41<02:30,  6.10it/s]"
     ]
    },
    {
     "name": "stdout",
     "output_type": "stream",
     "text": [
      "Error: 429 - {\n",
      "  \"error\" : {\n",
      "    \"status\" : 429\n",
      "  }\n",
      "}\n",
      "<bound method Response.json of <Response [429]>>\n",
      "Error: 429 - {\n",
      "  \"error\" : {\n",
      "    \"status\" : 429\n",
      "  }\n",
      "}\n",
      "<bound method Response.json of <Response [429]>>\n"
     ]
    },
    {
     "name": "stderr",
     "output_type": "stream",
     "text": [
      "\r",
      "api_call...:  17%|████▌                      | 183/1098 [01:41<02:24,  6.35it/s]"
     ]
    },
    {
     "name": "stdout",
     "output_type": "stream",
     "text": [
      "Error: 429 - {\n",
      "  \"error\" : {\n",
      "    \"status\" : 429\n",
      "  }\n",
      "}\n",
      "<bound method Response.json of <Response [429]>>\n"
     ]
    },
    {
     "name": "stderr",
     "output_type": "stream",
     "text": [
      "api_call...:  17%|████▌                      | 185/1098 [01:41<02:28,  6.16it/s]"
     ]
    },
    {
     "name": "stdout",
     "output_type": "stream",
     "text": [
      "Error: 429 - {\n",
      "  \"error\" : {\n",
      "    \"status\" : 429\n",
      "  }\n",
      "}\n",
      "<bound method Response.json of <Response [429]>>\n",
      "Error: 429 - {\n",
      "  \"error\" : {\n",
      "    \"status\" : 429\n",
      "  }\n",
      "}\n",
      "<bound method Response.json of <Response [429]>>\n"
     ]
    },
    {
     "name": "stderr",
     "output_type": "stream",
     "text": [
      "api_call...:  17%|████▌                      | 187/1098 [01:42<02:16,  6.70it/s]"
     ]
    },
    {
     "name": "stdout",
     "output_type": "stream",
     "text": [
      "Error: 429 - {\n",
      "  \"error\" : {\n",
      "    \"status\" : 429\n",
      "  }\n",
      "}\n",
      "<bound method Response.json of <Response [429]>>\n",
      "Error: 429 - {\n",
      "  \"error\" : {\n",
      "    \"status\" : 429\n",
      "  }\n",
      "}\n",
      "<bound method Response.json of <Response [429]>>\n"
     ]
    },
    {
     "name": "stderr",
     "output_type": "stream",
     "text": [
      "api_call...:  17%|████▋                      | 189/1098 [01:42<02:04,  7.32it/s]"
     ]
    },
    {
     "name": "stdout",
     "output_type": "stream",
     "text": [
      "Error: 429 - {\n",
      "  \"error\" : {\n",
      "    \"status\" : 429\n",
      "  }\n",
      "}\n",
      "<bound method Response.json of <Response [429]>>\n",
      "Error: 429 - {\n",
      "  \"error\" : {\n",
      "    \"status\" : 429\n",
      "  }\n",
      "}\n",
      "<bound method Response.json of <Response [429]>>\n"
     ]
    },
    {
     "name": "stderr",
     "output_type": "stream",
     "text": [
      "api_call...:  17%|████▋                      | 191/1098 [01:42<02:04,  7.28it/s]"
     ]
    },
    {
     "name": "stdout",
     "output_type": "stream",
     "text": [
      "Error: 429 - {\n",
      "  \"error\" : {\n",
      "    \"status\" : 429\n",
      "  }\n",
      "}\n",
      "<bound method Response.json of <Response [429]>>\n",
      "Error: 429 - {\n",
      "  \"error\" : {\n",
      "    \"status\" : 429\n",
      "  }\n",
      "}\n",
      "<bound method Response.json of <Response [429]>>\n"
     ]
    },
    {
     "name": "stderr",
     "output_type": "stream",
     "text": [
      "api_call...:  18%|████▋                      | 193/1098 [01:42<01:59,  7.57it/s]"
     ]
    },
    {
     "name": "stdout",
     "output_type": "stream",
     "text": [
      "Error: 429 - {\n",
      "  \"error\" : {\n",
      "    \"status\" : 429\n",
      "  }\n",
      "}\n",
      "<bound method Response.json of <Response [429]>>\n",
      "Error: 429 - {\n",
      "  \"error\" : {\n",
      "    \"status\" : 429\n",
      "  }\n",
      "}\n",
      "<bound method Response.json of <Response [429]>>\n"
     ]
    },
    {
     "name": "stderr",
     "output_type": "stream",
     "text": [
      "\r",
      "api_call...:  18%|████▊                      | 194/1098 [01:43<02:09,  6.98it/s]"
     ]
    },
    {
     "name": "stdout",
     "output_type": "stream",
     "text": [
      "Error: 429 - {\n",
      "  \"error\" : {\n",
      "    \"status\" : 429\n",
      "  }\n",
      "}\n",
      "<bound method Response.json of <Response [429]>>\n"
     ]
    },
    {
     "name": "stderr",
     "output_type": "stream",
     "text": [
      "api_call...:  18%|████▊                      | 196/1098 [01:43<02:19,  6.47it/s]"
     ]
    },
    {
     "name": "stdout",
     "output_type": "stream",
     "text": [
      "Error: 429 - {\n",
      "  \"error\" : {\n",
      "    \"status\" : 429\n",
      "  }\n",
      "}\n",
      "<bound method Response.json of <Response [429]>>\n",
      "Error: 429 - {\n",
      "  \"error\" : {\n",
      "    \"status\" : 429\n",
      "  }\n",
      "}\n",
      "<bound method Response.json of <Response [429]>>\n"
     ]
    },
    {
     "name": "stderr",
     "output_type": "stream",
     "text": [
      "api_call...:  18%|████▊                      | 198/1098 [01:43<02:31,  5.95it/s]"
     ]
    },
    {
     "name": "stdout",
     "output_type": "stream",
     "text": [
      "Error: 429 - {\n",
      "  \"error\" : {\n",
      "    \"status\" : 429\n",
      "  }\n",
      "}\n",
      "<bound method Response.json of <Response [429]>>\n",
      "Error: 429 - {\n",
      "  \"error\" : {\n",
      "    \"status\" : 429\n",
      "  }\n",
      "}\n",
      "<bound method Response.json of <Response [429]>>\n"
     ]
    },
    {
     "name": "stderr",
     "output_type": "stream",
     "text": [
      "api_call...:  18%|████▉                      | 200/1098 [01:44<02:29,  6.02it/s]"
     ]
    },
    {
     "name": "stdout",
     "output_type": "stream",
     "text": [
      "Error: 429 - {\n",
      "  \"error\" : {\n",
      "    \"status\" : 429\n",
      "  }\n",
      "}\n",
      "<bound method Response.json of <Response [429]>>\n",
      "Error: 429 - {\n",
      "  \"error\" : {\n",
      "    \"status\" : 429\n",
      "  }\n",
      "}\n",
      "<bound method Response.json of <Response [429]>>\n"
     ]
    },
    {
     "name": "stderr",
     "output_type": "stream",
     "text": [
      "\r",
      "api_call...:  18%|████▌                    | 201/1098 [02:19<2:39:19, 10.66s/it]"
     ]
    },
    {
     "name": "stdout",
     "output_type": "stream",
     "text": [
      "Error: 429 - {\n",
      "  \"error\" : {\n",
      "    \"status\" : 429\n",
      "  }\n",
      "}\n",
      "<bound method Response.json of <Response [429]>>\n"
     ]
    },
    {
     "name": "stderr",
     "output_type": "stream",
     "text": [
      "api_call...:  18%|████▌                    | 203/1098 [02:19<1:19:06,  5.30s/it]"
     ]
    },
    {
     "name": "stdout",
     "output_type": "stream",
     "text": [
      "Error: 429 - {\n",
      "  \"error\" : {\n",
      "    \"status\" : 429\n",
      "  }\n",
      "}\n",
      "<bound method Response.json of <Response [429]>>\n",
      "Error: 429 - {\n",
      "  \"error\" : {\n",
      "    \"status\" : 429\n",
      "  }\n",
      "}\n",
      "<bound method Response.json of <Response [429]>>\n"
     ]
    },
    {
     "name": "stderr",
     "output_type": "stream",
     "text": [
      "\r",
      "api_call...:  19%|█████                      | 204/1098 [02:19<56:11,  3.77s/it]"
     ]
    },
    {
     "name": "stdout",
     "output_type": "stream",
     "text": [
      "Error: 429 - {\n",
      "  \"error\" : {\n",
      "    \"status\" : 429\n",
      "  }\n",
      "}\n",
      "<bound method Response.json of <Response [429]>>\n"
     ]
    },
    {
     "name": "stderr",
     "output_type": "stream",
     "text": [
      "api_call...:  19%|█████                      | 206/1098 [02:20<28:44,  1.93s/it]"
     ]
    },
    {
     "name": "stdout",
     "output_type": "stream",
     "text": [
      "Error: 429 - {\n",
      "  \"error\" : {\n",
      "    \"status\" : 429\n",
      "  }\n",
      "}\n",
      "<bound method Response.json of <Response [429]>>\n",
      "Error: 429 - {\n",
      "  \"error\" : {\n",
      "    \"status\" : 429\n",
      "  }\n",
      "}\n",
      "<bound method Response.json of <Response [429]>>\n"
     ]
    },
    {
     "name": "stderr",
     "output_type": "stream",
     "text": [
      "api_call...:  19%|█████                      | 208/1098 [02:20<15:10,  1.02s/it]"
     ]
    },
    {
     "name": "stdout",
     "output_type": "stream",
     "text": [
      "Error: 429 - {\n",
      "  \"error\" : {\n",
      "    \"status\" : 429\n",
      "  }\n",
      "}\n",
      "<bound method Response.json of <Response [429]>>\n",
      "Error: 429 - {\n",
      "  \"error\" : {\n",
      "    \"status\" : 429\n",
      "  }\n",
      "}\n",
      "<bound method Response.json of <Response [429]>>\n"
     ]
    },
    {
     "name": "stderr",
     "output_type": "stream",
     "text": [
      "api_call...:  19%|█████▏                     | 210/1098 [02:20<08:24,  1.76it/s]"
     ]
    },
    {
     "name": "stdout",
     "output_type": "stream",
     "text": [
      "Error: 429 - {\n",
      "  \"error\" : {\n",
      "    \"status\" : 429\n",
      "  }\n",
      "}\n",
      "<bound method Response.json of <Response [429]>>\n",
      "Error: 429 - {\n",
      "  \"error\" : {\n",
      "    \"status\" : 429\n",
      "  }\n",
      "}\n",
      "<bound method Response.json of <Response [429]>>\n"
     ]
    },
    {
     "name": "stderr",
     "output_type": "stream",
     "text": [
      "api_call...:  19%|█████▏                     | 212/1098 [02:21<05:28,  2.70it/s]"
     ]
    },
    {
     "name": "stdout",
     "output_type": "stream",
     "text": [
      "Error: 429 - {\n",
      "  \"error\" : {\n",
      "    \"status\" : 429\n",
      "  }\n",
      "}\n",
      "<bound method Response.json of <Response [429]>>\n",
      "Error: 429 - {\n",
      "  \"error\" : {\n",
      "    \"status\" : 429\n",
      "  }\n",
      "}\n",
      "<bound method Response.json of <Response [429]>>\n"
     ]
    },
    {
     "name": "stderr",
     "output_type": "stream",
     "text": [
      "api_call...:  19%|█████▎                     | 214/1098 [02:21<03:35,  4.10it/s]"
     ]
    },
    {
     "name": "stdout",
     "output_type": "stream",
     "text": [
      "Error: 429 - {\n",
      "  \"error\" : {\n",
      "    \"status\" : 429\n",
      "  }\n",
      "}\n",
      "<bound method Response.json of <Response [429]>>\n",
      "Error: 429 - {\n",
      "  \"error\" : {\n",
      "    \"status\" : 429\n",
      "  }\n",
      "}\n",
      "<bound method Response.json of <Response [429]>>\n"
     ]
    },
    {
     "name": "stderr",
     "output_type": "stream",
     "text": [
      "api_call...:  20%|█████▎                     | 216/1098 [02:21<02:47,  5.27it/s]"
     ]
    },
    {
     "name": "stdout",
     "output_type": "stream",
     "text": [
      "Error: 429 - {\n",
      "  \"error\" : {\n",
      "    \"status\" : 429\n",
      "  }\n",
      "}\n",
      "<bound method Response.json of <Response [429]>>\n",
      "Error: 429 - {\n",
      "  \"error\" : {\n",
      "    \"status\" : 429\n",
      "  }\n",
      "}\n",
      "<bound method Response.json of <Response [429]>>\n"
     ]
    },
    {
     "name": "stderr",
     "output_type": "stream",
     "text": [
      "api_call...:  20%|█████▎                     | 218/1098 [02:21<02:22,  6.20it/s]"
     ]
    },
    {
     "name": "stdout",
     "output_type": "stream",
     "text": [
      "Error: 429 - {\n",
      "  \"error\" : {\n",
      "    \"status\" : 429\n",
      "  }\n",
      "}\n",
      "<bound method Response.json of <Response [429]>>\n",
      "Error: 429 - {\n",
      "  \"error\" : {\n",
      "    \"status\" : 429\n",
      "  }\n",
      "}\n",
      "<bound method Response.json of <Response [429]>>\n"
     ]
    },
    {
     "name": "stderr",
     "output_type": "stream",
     "text": [
      "api_call...:  20%|█████▍                     | 220/1098 [02:22<02:08,  6.83it/s]"
     ]
    },
    {
     "name": "stdout",
     "output_type": "stream",
     "text": [
      "Error: 429 - {\n",
      "  \"error\" : {\n",
      "    \"status\" : 429\n",
      "  }\n",
      "}\n",
      "<bound method Response.json of <Response [429]>>\n",
      "Error: 429 - {\n",
      "  \"error\" : {\n",
      "    \"status\" : 429\n",
      "  }\n",
      "}\n",
      "<bound method Response.json of <Response [429]>>\n"
     ]
    },
    {
     "name": "stderr",
     "output_type": "stream",
     "text": [
      "api_call...:  20%|█████▍                     | 222/1098 [02:22<02:01,  7.23it/s]"
     ]
    },
    {
     "name": "stdout",
     "output_type": "stream",
     "text": [
      "Error: 429 - {\n",
      "  \"error\" : {\n",
      "    \"status\" : 429\n",
      "  }\n",
      "}\n",
      "<bound method Response.json of <Response [429]>>\n",
      "Error: 429 - {\n",
      "  \"error\" : {\n",
      "    \"status\" : 429\n",
      "  }\n",
      "}\n",
      "<bound method Response.json of <Response [429]>>\n"
     ]
    },
    {
     "name": "stderr",
     "output_type": "stream",
     "text": [
      "api_call...:  20%|█████▌                     | 224/1098 [02:22<02:15,  6.45it/s]"
     ]
    },
    {
     "name": "stdout",
     "output_type": "stream",
     "text": [
      "Error: 429 - {\n",
      "  \"error\" : {\n",
      "    \"status\" : 429\n",
      "  }\n",
      "}\n",
      "<bound method Response.json of <Response [429]>>\n",
      "Error: 429 - {\n",
      "  \"error\" : {\n",
      "    \"status\" : 429\n",
      "  }\n",
      "}\n",
      "<bound method Response.json of <Response [429]>>\n"
     ]
    },
    {
     "name": "stderr",
     "output_type": "stream",
     "text": [
      "\r",
      "api_call...:  20%|█████▌                     | 225/1098 [02:22<02:17,  6.34it/s]"
     ]
    },
    {
     "name": "stdout",
     "output_type": "stream",
     "text": [
      "Error: 429 - {\n",
      "  \"error\" : {\n",
      "    \"status\" : 429\n",
      "  }\n",
      "}\n",
      "<bound method Response.json of <Response [429]>>\n"
     ]
    },
    {
     "name": "stderr",
     "output_type": "stream",
     "text": [
      "api_call...:  21%|█████▌                     | 227/1098 [02:23<02:21,  6.17it/s]"
     ]
    },
    {
     "name": "stdout",
     "output_type": "stream",
     "text": [
      "Error: 429 - {\n",
      "  \"error\" : {\n",
      "    \"status\" : 429\n",
      "  }\n",
      "}\n",
      "<bound method Response.json of <Response [429]>>\n",
      "Error: 429 - {\n",
      "  \"error\" : {\n",
      "    \"status\" : 429\n",
      "  }\n",
      "}\n",
      "<bound method Response.json of <Response [429]>>\n"
     ]
    },
    {
     "name": "stderr",
     "output_type": "stream",
     "text": [
      "api_call...:  21%|█████▋                     | 229/1098 [02:23<02:18,  6.28it/s]"
     ]
    },
    {
     "name": "stdout",
     "output_type": "stream",
     "text": [
      "Error: 429 - {\n",
      "  \"error\" : {\n",
      "    \"status\" : 429\n",
      "  }\n",
      "}\n",
      "<bound method Response.json of <Response [429]>>\n",
      "Error: 429 - {\n",
      "  \"error\" : {\n",
      "    \"status\" : 429\n",
      "  }\n",
      "}\n",
      "<bound method Response.json of <Response [429]>>\n"
     ]
    },
    {
     "name": "stderr",
     "output_type": "stream",
     "text": [
      "api_call...:  21%|█████▋                     | 231/1098 [02:23<02:13,  6.51it/s]"
     ]
    },
    {
     "name": "stdout",
     "output_type": "stream",
     "text": [
      "Error: 429 - {\n",
      "  \"error\" : {\n",
      "    \"status\" : 429\n",
      "  }\n",
      "}\n",
      "<bound method Response.json of <Response [429]>>\n",
      "Error: 429 - {\n",
      "  \"error\" : {\n",
      "    \"status\" : 429\n",
      "  }\n",
      "}\n",
      "<bound method Response.json of <Response [429]>>\n"
     ]
    },
    {
     "name": "stderr",
     "output_type": "stream",
     "text": [
      "api_call...:  21%|█████▋                     | 233/1098 [02:24<02:20,  6.17it/s]"
     ]
    },
    {
     "name": "stdout",
     "output_type": "stream",
     "text": [
      "Error: 429 - {\n",
      "  \"error\" : {\n",
      "    \"status\" : 429\n",
      "  }\n",
      "}\n",
      "<bound method Response.json of <Response [429]>>\n",
      "Error: 429 - {\n",
      "  \"error\" : {\n",
      "    \"status\" : 429\n",
      "  }\n",
      "}\n",
      "<bound method Response.json of <Response [429]>>\n"
     ]
    },
    {
     "name": "stderr",
     "output_type": "stream",
     "text": [
      "api_call...:  21%|█████▊                     | 235/1098 [02:24<02:06,  6.84it/s]"
     ]
    },
    {
     "name": "stdout",
     "output_type": "stream",
     "text": [
      "Error: 429 - {\n",
      "  \"error\" : {\n",
      "    \"status\" : 429\n",
      "  }\n",
      "}\n",
      "<bound method Response.json of <Response [429]>>\n",
      "Error: 429 - {\n",
      "  \"error\" : {\n",
      "    \"status\" : 429\n",
      "  }\n",
      "}\n",
      "<bound method Response.json of <Response [429]>>\n"
     ]
    },
    {
     "name": "stderr",
     "output_type": "stream",
     "text": [
      "api_call...:  22%|█████▊                     | 237/1098 [02:24<02:14,  6.38it/s]"
     ]
    },
    {
     "name": "stdout",
     "output_type": "stream",
     "text": [
      "Error: 429 - {\n",
      "  \"error\" : {\n",
      "    \"status\" : 429\n",
      "  }\n",
      "}\n",
      "<bound method Response.json of <Response [429]>>\n",
      "Error: 429 - {\n",
      "  \"error\" : {\n",
      "    \"status\" : 429\n",
      "  }\n",
      "}\n",
      "<bound method Response.json of <Response [429]>>\n"
     ]
    },
    {
     "name": "stderr",
     "output_type": "stream",
     "text": [
      "\r",
      "api_call...:  22%|█████▊                     | 238/1098 [02:24<02:18,  6.21it/s]"
     ]
    },
    {
     "name": "stdout",
     "output_type": "stream",
     "text": [
      "Error: 429 - {\n",
      "  \"error\" : {\n",
      "    \"status\" : 429\n",
      "  }\n",
      "}\n",
      "<bound method Response.json of <Response [429]>>\n"
     ]
    },
    {
     "name": "stderr",
     "output_type": "stream",
     "text": [
      "api_call...:  22%|█████▉                     | 240/1098 [02:25<02:21,  6.08it/s]"
     ]
    },
    {
     "name": "stdout",
     "output_type": "stream",
     "text": [
      "Error: 429 - {\n",
      "  \"error\" : {\n",
      "    \"status\" : 429\n",
      "  }\n",
      "}\n",
      "<bound method Response.json of <Response [429]>>\n",
      "Error: 429 - {\n",
      "  \"error\" : {\n",
      "    \"status\" : 429\n",
      "  }\n",
      "}\n",
      "<bound method Response.json of <Response [429]>>\n"
     ]
    },
    {
     "name": "stderr",
     "output_type": "stream",
     "text": [
      "api_call...:  22%|█████▉                     | 242/1098 [02:25<02:17,  6.23it/s]"
     ]
    },
    {
     "name": "stdout",
     "output_type": "stream",
     "text": [
      "Error: 429 - {\n",
      "  \"error\" : {\n",
      "    \"status\" : 429\n",
      "  }\n",
      "}\n",
      "<bound method Response.json of <Response [429]>>\n",
      "Error: 429 - {\n",
      "  \"error\" : {\n",
      "    \"status\" : 429\n",
      "  }\n",
      "}\n",
      "<bound method Response.json of <Response [429]>>\n"
     ]
    },
    {
     "name": "stderr",
     "output_type": "stream",
     "text": [
      "\r",
      "api_call...:  22%|█████▉                     | 243/1098 [02:25<02:13,  6.38it/s]"
     ]
    },
    {
     "name": "stdout",
     "output_type": "stream",
     "text": [
      "Error: 429 - {\n",
      "  \"error\" : {\n",
      "    \"status\" : 429\n",
      "  }\n",
      "}\n",
      "<bound method Response.json of <Response [429]>>\n"
     ]
    },
    {
     "name": "stderr",
     "output_type": "stream",
     "text": [
      "\r",
      "api_call...:  22%|██████                     | 244/1098 [02:26<02:36,  5.44it/s]"
     ]
    },
    {
     "name": "stdout",
     "output_type": "stream",
     "text": [
      "Error: 429 - {\n",
      "  \"error\" : {\n",
      "    \"status\" : 429\n",
      "  }\n",
      "}\n",
      "<bound method Response.json of <Response [429]>>\n"
     ]
    },
    {
     "name": "stderr",
     "output_type": "stream",
     "text": [
      "api_call...:  22%|██████                     | 246/1098 [02:26<02:30,  5.68it/s]"
     ]
    },
    {
     "name": "stdout",
     "output_type": "stream",
     "text": [
      "Error: 429 - {\n",
      "  \"error\" : {\n",
      "    \"status\" : 429\n",
      "  }\n",
      "}\n",
      "<bound method Response.json of <Response [429]>>\n",
      "Error: 429 - {\n",
      "  \"error\" : {\n",
      "    \"status\" : 429\n",
      "  }\n",
      "}\n",
      "<bound method Response.json of <Response [429]>>\n"
     ]
    },
    {
     "name": "stderr",
     "output_type": "stream",
     "text": [
      "api_call...:  23%|██████                     | 248/1098 [02:26<02:16,  6.21it/s]"
     ]
    },
    {
     "name": "stdout",
     "output_type": "stream",
     "text": [
      "Error: 429 - {\n",
      "  \"error\" : {\n",
      "    \"status\" : 429\n",
      "  }\n",
      "}\n",
      "<bound method Response.json of <Response [429]>>\n",
      "Error: 429 - {\n",
      "  \"error\" : {\n",
      "    \"status\" : 429\n",
      "  }\n",
      "}\n",
      "<bound method Response.json of <Response [429]>>\n"
     ]
    },
    {
     "name": "stderr",
     "output_type": "stream",
     "text": [
      "api_call...:  23%|██████▏                    | 250/1098 [02:26<02:02,  6.90it/s]"
     ]
    },
    {
     "name": "stdout",
     "output_type": "stream",
     "text": [
      "Error: 429 - {\n",
      "  \"error\" : {\n",
      "    \"status\" : 429\n",
      "  }\n",
      "}\n",
      "<bound method Response.json of <Response [429]>>\n",
      "Error: 429 - {\n",
      "  \"error\" : {\n",
      "    \"status\" : 429\n",
      "  }\n",
      "}\n",
      "<bound method Response.json of <Response [429]>>\n"
     ]
    },
    {
     "name": "stderr",
     "output_type": "stream",
     "text": [
      "\r",
      "api_call...:  23%|██████▏                    | 251/1098 [02:27<02:00,  7.00it/s]"
     ]
    },
    {
     "name": "stdout",
     "output_type": "stream",
     "text": [
      "Error: 429 - {\n",
      "  \"error\" : {\n",
      "    \"status\" : 429\n",
      "  }\n",
      "}\n",
      "<bound method Response.json of <Response [429]>>\n"
     ]
    },
    {
     "name": "stderr",
     "output_type": "stream",
     "text": [
      "api_call...:  23%|██████▏                    | 253/1098 [02:27<02:11,  6.40it/s]"
     ]
    },
    {
     "name": "stdout",
     "output_type": "stream",
     "text": [
      "Error: 429 - {\n",
      "  \"error\" : {\n",
      "    \"status\" : 429\n",
      "  }\n",
      "}\n",
      "<bound method Response.json of <Response [429]>>\n",
      "Error: 429 - {\n",
      "  \"error\" : {\n",
      "    \"status\" : 429\n",
      "  }\n",
      "}\n",
      "<bound method Response.json of <Response [429]>>\n"
     ]
    },
    {
     "name": "stderr",
     "output_type": "stream",
     "text": [
      "api_call...:  23%|██████▎                    | 255/1098 [02:27<02:10,  6.45it/s]"
     ]
    },
    {
     "name": "stdout",
     "output_type": "stream",
     "text": [
      "Error: 429 - {\n",
      "  \"error\" : {\n",
      "    \"status\" : 429\n",
      "  }\n",
      "}\n",
      "<bound method Response.json of <Response [429]>>\n",
      "Error: 429 - {\n",
      "  \"error\" : {\n",
      "    \"status\" : 429\n",
      "  }\n",
      "}\n",
      "<bound method Response.json of <Response [429]>>\n"
     ]
    },
    {
     "name": "stderr",
     "output_type": "stream",
     "text": [
      "api_call...:  23%|██████▎                    | 257/1098 [02:27<01:57,  7.16it/s]"
     ]
    },
    {
     "name": "stdout",
     "output_type": "stream",
     "text": [
      "Error: 429 - {\n",
      "  \"error\" : {\n",
      "    \"status\" : 429\n",
      "  }\n",
      "}\n",
      "<bound method Response.json of <Response [429]>>\n",
      "Error: 429 - {\n",
      "  \"error\" : {\n",
      "    \"status\" : 429\n",
      "  }\n",
      "}\n",
      "<bound method Response.json of <Response [429]>>\n"
     ]
    },
    {
     "name": "stderr",
     "output_type": "stream",
     "text": [
      "\r",
      "api_call...:  23%|██████▎                    | 258/1098 [02:28<02:06,  6.65it/s]"
     ]
    },
    {
     "name": "stdout",
     "output_type": "stream",
     "text": [
      "Error: 429 - {\n",
      "  \"error\" : {\n",
      "    \"status\" : 429\n",
      "  }\n",
      "}\n",
      "<bound method Response.json of <Response [429]>>\n"
     ]
    },
    {
     "name": "stderr",
     "output_type": "stream",
     "text": [
      "api_call...:  24%|██████▍                    | 260/1098 [02:28<02:12,  6.31it/s]"
     ]
    },
    {
     "name": "stdout",
     "output_type": "stream",
     "text": [
      "Error: 429 - {\n",
      "  \"error\" : {\n",
      "    \"status\" : 429\n",
      "  }\n",
      "}\n",
      "<bound method Response.json of <Response [429]>>\n",
      "Error: 429 - {\n",
      "  \"error\" : {\n",
      "    \"status\" : 429\n",
      "  }\n",
      "}\n",
      "<bound method Response.json of <Response [429]>>\n"
     ]
    },
    {
     "name": "stderr",
     "output_type": "stream",
     "text": [
      "api_call...:  24%|██████▍                    | 262/1098 [02:28<02:04,  6.72it/s]"
     ]
    },
    {
     "name": "stdout",
     "output_type": "stream",
     "text": [
      "Error: 429 - {\n",
      "  \"error\" : {\n",
      "    \"status\" : 429\n",
      "  }\n",
      "}\n",
      "<bound method Response.json of <Response [429]>>\n",
      "Error: 429 - {\n",
      "  \"error\" : {\n",
      "    \"status\" : 429\n",
      "  }\n",
      "}\n",
      "<bound method Response.json of <Response [429]>>\n"
     ]
    },
    {
     "name": "stderr",
     "output_type": "stream",
     "text": [
      "api_call...:  24%|██████▍                    | 264/1098 [02:29<01:56,  7.18it/s]"
     ]
    },
    {
     "name": "stdout",
     "output_type": "stream",
     "text": [
      "Error: 429 - {\n",
      "  \"error\" : {\n",
      "    \"status\" : 429\n",
      "  }\n",
      "}\n",
      "<bound method Response.json of <Response [429]>>\n",
      "Error: 429 - {\n",
      "  \"error\" : {\n",
      "    \"status\" : 429\n",
      "  }\n",
      "}\n",
      "<bound method Response.json of <Response [429]>>\n"
     ]
    },
    {
     "name": "stderr",
     "output_type": "stream",
     "text": [
      "\r",
      "api_call...:  24%|██████▌                    | 265/1098 [02:29<01:53,  7.33it/s]"
     ]
    },
    {
     "name": "stdout",
     "output_type": "stream",
     "text": [
      "Error: 429 - {\n",
      "  \"error\" : {\n",
      "    \"status\" : 429\n",
      "  }\n",
      "}\n",
      "<bound method Response.json of <Response [429]>>\n"
     ]
    },
    {
     "name": "stderr",
     "output_type": "stream",
     "text": [
      "api_call...:  24%|██████▌                    | 267/1098 [02:29<02:08,  6.48it/s]"
     ]
    },
    {
     "name": "stdout",
     "output_type": "stream",
     "text": [
      "Error: 429 - {\n",
      "  \"error\" : {\n",
      "    \"status\" : 429\n",
      "  }\n",
      "}\n",
      "<bound method Response.json of <Response [429]>>\n",
      "Error: 429 - {\n",
      "  \"error\" : {\n",
      "    \"status\" : 429\n",
      "  }\n",
      "}\n",
      "<bound method Response.json of <Response [429]>>\n"
     ]
    },
    {
     "name": "stderr",
     "output_type": "stream",
     "text": [
      "api_call...:  24%|██████▌                    | 269/1098 [02:29<02:06,  6.55it/s]"
     ]
    },
    {
     "name": "stdout",
     "output_type": "stream",
     "text": [
      "Error: 429 - {\n",
      "  \"error\" : {\n",
      "    \"status\" : 429\n",
      "  }\n",
      "}\n",
      "<bound method Response.json of <Response [429]>>\n",
      "Error: 429 - {\n",
      "  \"error\" : {\n",
      "    \"status\" : 429\n",
      "  }\n",
      "}\n",
      "<bound method Response.json of <Response [429]>>\n"
     ]
    },
    {
     "name": "stderr",
     "output_type": "stream",
     "text": [
      "api_call...:  25%|██████▋                    | 271/1098 [02:30<01:58,  7.01it/s]"
     ]
    },
    {
     "name": "stdout",
     "output_type": "stream",
     "text": [
      "Error: 429 - {\n",
      "  \"error\" : {\n",
      "    \"status\" : 429\n",
      "  }\n",
      "}\n",
      "<bound method Response.json of <Response [429]>>\n",
      "Error: 429 - {\n",
      "  \"error\" : {\n",
      "    \"status\" : 429\n",
      "  }\n",
      "}\n",
      "<bound method Response.json of <Response [429]>>\n"
     ]
    },
    {
     "name": "stderr",
     "output_type": "stream",
     "text": [
      "api_call...:  25%|██████▋                    | 273/1098 [02:31<03:45,  3.66it/s]"
     ]
    },
    {
     "name": "stdout",
     "output_type": "stream",
     "text": [
      "Error: 429 - {\n",
      "  \"error\" : {\n",
      "    \"status\" : 429\n",
      "  }\n",
      "}\n",
      "<bound method Response.json of <Response [429]>>\n",
      "Error: 429 - {\n",
      "  \"error\" : {\n",
      "    \"status\" : 429\n",
      "  }\n",
      "}\n",
      "<bound method Response.json of <Response [429]>>\n"
     ]
    },
    {
     "name": "stderr",
     "output_type": "stream",
     "text": [
      "\r",
      "api_call...:  25%|██████▋                    | 274/1098 [02:31<03:10,  4.34it/s]"
     ]
    },
    {
     "name": "stdout",
     "output_type": "stream",
     "text": [
      "Error: 429 - {\n",
      "  \"error\" : {\n",
      "    \"status\" : 429\n",
      "  }\n",
      "}\n",
      "<bound method Response.json of <Response [429]>>\n"
     ]
    },
    {
     "name": "stderr",
     "output_type": "stream",
     "text": [
      "api_call...:  25%|██████▊                    | 276/1098 [02:31<02:50,  4.83it/s]"
     ]
    },
    {
     "name": "stdout",
     "output_type": "stream",
     "text": [
      "Error: 429 - {\n",
      "  \"error\" : {\n",
      "    \"status\" : 429\n",
      "  }\n",
      "}\n",
      "<bound method Response.json of <Response [429]>>\n",
      "Error: 429 - {\n",
      "  \"error\" : {\n",
      "    \"status\" : 429\n",
      "  }\n",
      "}\n",
      "<bound method Response.json of <Response [429]>>\n"
     ]
    },
    {
     "name": "stderr",
     "output_type": "stream",
     "text": [
      "api_call...:  25%|██████▊                    | 278/1098 [02:31<02:17,  5.98it/s]"
     ]
    },
    {
     "name": "stdout",
     "output_type": "stream",
     "text": [
      "Error: 429 - {\n",
      "  \"error\" : {\n",
      "    \"status\" : 429\n",
      "  }\n",
      "}\n",
      "<bound method Response.json of <Response [429]>>\n",
      "Error: 429 - {\n",
      "  \"error\" : {\n",
      "    \"status\" : 429\n",
      "  }\n",
      "}\n",
      "<bound method Response.json of <Response [429]>>\n"
     ]
    },
    {
     "name": "stderr",
     "output_type": "stream",
     "text": [
      "api_call...:  26%|██████▉                    | 280/1098 [02:32<02:01,  6.75it/s]"
     ]
    },
    {
     "name": "stdout",
     "output_type": "stream",
     "text": [
      "Error: 429 - {\n",
      "  \"error\" : {\n",
      "    \"status\" : 429\n",
      "  }\n",
      "}\n",
      "<bound method Response.json of <Response [429]>>\n",
      "Error: 429 - {\n",
      "  \"error\" : {\n",
      "    \"status\" : 429\n",
      "  }\n",
      "}\n",
      "<bound method Response.json of <Response [429]>>\n"
     ]
    },
    {
     "name": "stderr",
     "output_type": "stream",
     "text": [
      "\r",
      "api_call...:  26%|██████▉                    | 281/1098 [02:32<01:57,  6.97it/s]"
     ]
    },
    {
     "name": "stdout",
     "output_type": "stream",
     "text": [
      "Error: 429 - {\n",
      "  \"error\" : {\n",
      "    \"status\" : 429\n",
      "  }\n",
      "}\n",
      "<bound method Response.json of <Response [429]>>\n"
     ]
    },
    {
     "name": "stderr",
     "output_type": "stream",
     "text": [
      "api_call...:  26%|██████▉                    | 283/1098 [02:32<02:44,  4.94it/s]"
     ]
    },
    {
     "name": "stdout",
     "output_type": "stream",
     "text": [
      "Error: 429 - {\n",
      "  \"error\" : {\n",
      "    \"status\" : 429\n",
      "  }\n",
      "}\n",
      "<bound method Response.json of <Response [429]>>\n",
      "Error: 429 - {\n",
      "  \"error\" : {\n",
      "    \"status\" : 429\n",
      "  }\n",
      "}\n",
      "<bound method Response.json of <Response [429]>>\n"
     ]
    },
    {
     "name": "stderr",
     "output_type": "stream",
     "text": [
      "api_call...:  26%|███████                    | 285/1098 [02:33<02:30,  5.41it/s]"
     ]
    },
    {
     "name": "stdout",
     "output_type": "stream",
     "text": [
      "Error: 429 - {\n",
      "  \"error\" : {\n",
      "    \"status\" : 429\n",
      "  }\n",
      "}\n",
      "<bound method Response.json of <Response [429]>>\n",
      "Error: 429 - {\n",
      "  \"error\" : {\n",
      "    \"status\" : 429\n",
      "  }\n",
      "}\n",
      "<bound method Response.json of <Response [429]>>\n"
     ]
    },
    {
     "name": "stderr",
     "output_type": "stream",
     "text": [
      "\r",
      "api_call...:  26%|███████                    | 286/1098 [02:33<02:16,  5.93it/s]"
     ]
    },
    {
     "name": "stdout",
     "output_type": "stream",
     "text": [
      "Error: 429 - {\n",
      "  \"error\" : {\n",
      "    \"status\" : 429\n",
      "  }\n",
      "}\n",
      "<bound method Response.json of <Response [429]>>\n"
     ]
    },
    {
     "name": "stderr",
     "output_type": "stream",
     "text": [
      "api_call...:  26%|███████                    | 288/1098 [02:33<02:22,  5.68it/s]"
     ]
    },
    {
     "name": "stdout",
     "output_type": "stream",
     "text": [
      "Error: 429 - {\n",
      "  \"error\" : {\n",
      "    \"status\" : 429\n",
      "  }\n",
      "}\n",
      "<bound method Response.json of <Response [429]>>\n",
      "Error: 429 - {\n",
      "  \"error\" : {\n",
      "    \"status\" : 429\n",
      "  }\n",
      "}\n",
      "<bound method Response.json of <Response [429]>>\n"
     ]
    },
    {
     "name": "stderr",
     "output_type": "stream",
     "text": [
      "api_call...:  26%|███████▏                   | 290/1098 [02:33<02:00,  6.69it/s]"
     ]
    },
    {
     "name": "stdout",
     "output_type": "stream",
     "text": [
      "Error: 429 - {\n",
      "  \"error\" : {\n",
      "    \"status\" : 429\n",
      "  }\n",
      "}\n",
      "<bound method Response.json of <Response [429]>>\n",
      "Error: 429 - {\n",
      "  \"error\" : {\n",
      "    \"status\" : 429\n",
      "  }\n",
      "}\n",
      "<bound method Response.json of <Response [429]>>\n"
     ]
    },
    {
     "name": "stderr",
     "output_type": "stream",
     "text": [
      "api_call...:  27%|███████▏                   | 292/1098 [02:34<01:58,  6.82it/s]"
     ]
    },
    {
     "name": "stdout",
     "output_type": "stream",
     "text": [
      "Error: 429 - {\n",
      "  \"error\" : {\n",
      "    \"status\" : 429\n",
      "  }\n",
      "}\n",
      "<bound method Response.json of <Response [429]>>\n",
      "Error: 429 - {\n",
      "  \"error\" : {\n",
      "    \"status\" : 429\n",
      "  }\n",
      "}\n",
      "<bound method Response.json of <Response [429]>>\n"
     ]
    },
    {
     "name": "stderr",
     "output_type": "stream",
     "text": [
      "\r",
      "api_call...:  27%|███████▏                   | 293/1098 [02:34<01:54,  7.04it/s]"
     ]
    },
    {
     "name": "stdout",
     "output_type": "stream",
     "text": [
      "Error: 429 - {\n",
      "  \"error\" : {\n",
      "    \"status\" : 429\n",
      "  }\n",
      "}\n",
      "<bound method Response.json of <Response [429]>>\n"
     ]
    },
    {
     "name": "stderr",
     "output_type": "stream",
     "text": [
      "api_call...:  27%|███████▎                   | 295/1098 [02:34<02:08,  6.23it/s]"
     ]
    },
    {
     "name": "stdout",
     "output_type": "stream",
     "text": [
      "Error: 429 - {\n",
      "  \"error\" : {\n",
      "    \"status\" : 429\n",
      "  }\n",
      "}\n",
      "<bound method Response.json of <Response [429]>>\n",
      "Error: 429 - {\n",
      "  \"error\" : {\n",
      "    \"status\" : 429\n",
      "  }\n",
      "}\n",
      "<bound method Response.json of <Response [429]>>\n"
     ]
    },
    {
     "name": "stderr",
     "output_type": "stream",
     "text": [
      "api_call...:  27%|███████▎                   | 297/1098 [02:34<01:56,  6.85it/s]"
     ]
    },
    {
     "name": "stdout",
     "output_type": "stream",
     "text": [
      "Error: 429 - {\n",
      "  \"error\" : {\n",
      "    \"status\" : 429\n",
      "  }\n",
      "}\n",
      "<bound method Response.json of <Response [429]>>\n",
      "Error: 429 - {\n",
      "  \"error\" : {\n",
      "    \"status\" : 429\n",
      "  }\n",
      "}\n",
      "<bound method Response.json of <Response [429]>>\n"
     ]
    },
    {
     "name": "stderr",
     "output_type": "stream",
     "text": [
      "api_call...:  27%|███████▎                   | 299/1098 [02:35<02:04,  6.43it/s]"
     ]
    },
    {
     "name": "stdout",
     "output_type": "stream",
     "text": [
      "Error: 429 - {\n",
      "  \"error\" : {\n",
      "    \"status\" : 429\n",
      "  }\n",
      "}\n",
      "<bound method Response.json of <Response [429]>>\n",
      "Error: 429 - {\n",
      "  \"error\" : {\n",
      "    \"status\" : 429\n",
      "  }\n",
      "}\n",
      "<bound method Response.json of <Response [429]>>\n"
     ]
    },
    {
     "name": "stderr",
     "output_type": "stream",
     "text": [
      "\r",
      "api_call...:  27%|███████▍                   | 300/1098 [02:35<02:10,  6.10it/s]"
     ]
    },
    {
     "name": "stdout",
     "output_type": "stream",
     "text": [
      "Error: 429 - {\n",
      "  \"error\" : {\n",
      "    \"status\" : 429\n",
      "  }\n",
      "}\n",
      "<bound method Response.json of <Response [429]>>\n"
     ]
    },
    {
     "name": "stderr",
     "output_type": "stream",
     "text": [
      "api_call...:  27%|███████▍                   | 300/1098 [02:38<07:02,  1.89it/s]\n"
     ]
    },
    {
     "ename": "KeyboardInterrupt",
     "evalue": "",
     "output_type": "error",
     "traceback": [
      "\u001b[0;31m---------------------------------------------------------------------------\u001b[0m",
      "\u001b[0;31mKeyboardInterrupt\u001b[0m                         Traceback (most recent call last)",
      "\u001b[0;32m/var/folders/06/m0cn9grx5y326z9dy_zw0pvh0000gn/T/ipykernel_3993/2302853395.py\u001b[0m in \u001b[0;36m<module>\u001b[0;34m\u001b[0m\n\u001b[1;32m     44\u001b[0m \u001b[0;34m\u001b[0m\u001b[0m\n\u001b[1;32m     45\u001b[0m     \u001b[0;31m#call api with list of strings\u001b[0m\u001b[0;34m\u001b[0m\u001b[0;34m\u001b[0m\u001b[0m\n\u001b[0;32m---> 46\u001b[0;31m     \u001b[0mapi_response\u001b[0m \u001b[0;34m=\u001b[0m \u001b[0mget_attributes\u001b[0m\u001b[0;34m(\u001b[0m\u001b[0mlist_string_chunks\u001b[0m\u001b[0;34m,\u001b[0m \u001b[0maccess_token\u001b[0m\u001b[0;34m)\u001b[0m\u001b[0;34m\u001b[0m\u001b[0;34m\u001b[0m\u001b[0m\n\u001b[0m\u001b[1;32m     47\u001b[0m     \u001b[0;31m#turn json response into a dataframe\u001b[0m\u001b[0;34m\u001b[0m\u001b[0;34m\u001b[0m\u001b[0m\n\u001b[1;32m     48\u001b[0m     \u001b[0mattribute_df\u001b[0m \u001b[0;34m=\u001b[0m \u001b[0mcreate_df_attributes\u001b[0m\u001b[0;34m(\u001b[0m\u001b[0mapi_response\u001b[0m\u001b[0;34m)\u001b[0m\u001b[0;34m\u001b[0m\u001b[0;34m\u001b[0m\u001b[0m\n",
      "\u001b[0;32m/var/folders/06/m0cn9grx5y326z9dy_zw0pvh0000gn/T/ipykernel_3993/2910772869.py\u001b[0m in \u001b[0;36mget_attributes\u001b[0;34m(list_string_chunks, access_token)\u001b[0m\n\u001b[1;32m     16\u001b[0m     \u001b[0;32mfor\u001b[0m \u001b[0mchunk_string\u001b[0m \u001b[0;32min\u001b[0m \u001b[0mtqdm\u001b[0m\u001b[0;34m(\u001b[0m\u001b[0mlist_string_chunks\u001b[0m\u001b[0;34m,\u001b[0m \u001b[0mdesc\u001b[0m\u001b[0;34m=\u001b[0m\u001b[0;34m'api_call...'\u001b[0m\u001b[0;34m)\u001b[0m\u001b[0;34m:\u001b[0m\u001b[0;34m\u001b[0m\u001b[0;34m\u001b[0m\u001b[0m\n\u001b[1;32m     17\u001b[0m         \u001b[0;32mif\u001b[0m \u001b[0mcounter\u001b[0m \u001b[0;34m%\u001b[0m \u001b[0;36m100\u001b[0m \u001b[0;34m==\u001b[0m \u001b[0;36m0\u001b[0m\u001b[0;34m:\u001b[0m\u001b[0;34m\u001b[0m\u001b[0;34m\u001b[0m\u001b[0m\n\u001b[0;32m---> 18\u001b[0;31m             \u001b[0mtime\u001b[0m\u001b[0;34m.\u001b[0m\u001b[0msleep\u001b[0m\u001b[0;34m(\u001b[0m\u001b[0;36m35\u001b[0m\u001b[0;34m)\u001b[0m\u001b[0;34m\u001b[0m\u001b[0;34m\u001b[0m\u001b[0m\n\u001b[0m\u001b[1;32m     19\u001b[0m         \u001b[0;31m#cusotmized url\u001b[0m\u001b[0;34m\u001b[0m\u001b[0;34m\u001b[0m\u001b[0m\n\u001b[1;32m     20\u001b[0m         \u001b[0mto_send_url\u001b[0m \u001b[0;34m=\u001b[0m \u001b[0mtest_url\u001b[0m \u001b[0;34m+\u001b[0m \u001b[0mchunk_string\u001b[0m\u001b[0;34m\u001b[0m\u001b[0;34m\u001b[0m\u001b[0m\n",
      "\u001b[0;31mKeyboardInterrupt\u001b[0m: "
     ]
    }
   ],
   "source": [
    "#move files into dataframe in sets of 5 uptil 100\n",
    "\n",
    "#default\n",
    "#file_slice_start = 0\n",
    "#file_slice_end = 5\n",
    "#file_counter = 0\n",
    "\n",
    "\n",
    "#added in because I messed up and did the first two sets of 5 differently\n",
    "file_slice_start = 10\n",
    "file_slice_end = 15\n",
    "file_counter = 1\n",
    "\n",
    "while file_slice_end <= 100:   \n",
    "    df = pd.DataFrame()\n",
    "    batch_of_files = files[file_slice_start:file_slice_end]\n",
    "    for file in tqdm(batch_of_files):\n",
    "        rows = []\n",
    "        filename = \"spotify_million_playlist_dataset/data/\" + file\n",
    "        f = open(filename)\n",
    "        data = json.load(f)\n",
    "        for playlist in data['playlists']:\n",
    "            for track in playlist['tracks']:\n",
    "                track.pop('artist_uri', None)\n",
    "                track.pop('album_uri', None)\n",
    "                track.pop('duration_ms', None)\n",
    "                track.pop('album_name', None)\n",
    "                track['playlist_pid'] = playlist['pid']\n",
    "                rows.append(track)\n",
    "\n",
    "        df = pd.concat([df, pd.DataFrame.from_dict(rows, orient='columns')])\n",
    "    \n",
    "    #for each batch run api call:\n",
    "    \n",
    "    #get new access token \n",
    "    access_token = get_token()\n",
    "    \n",
    "    #get song ids\n",
    "    ids = list(df['track_uri'].str.replace('spotify:track:', '').unique())\n",
    "    #turn into chunks of 100 ids each\n",
    "    list_chunks = generate_chunks(ids)\n",
    "    #turn each chunk into a string\n",
    "    list_string_chunks = generate_strings(list_chunks)\n",
    "    \n",
    "    #call api with list of strings\n",
    "    api_response = get_attributes(list_string_chunks, access_token)\n",
    "    #turn json response into a dataframe\n",
    "    attribute_df = create_df_attributes(api_response)\n",
    "    #join onto original dataframe, export\n",
    "    format_and_export(df, attribute_df, file_counter)\n",
    "    \n",
    "    file_slice_start = file_slice_start + 5\n",
    "    file_slice_end = file_slice_end + 5\n",
    "    file_counter = file_counter + 1"
   ]
  },
  {
   "cell_type": "code",
   "execution_count": null,
   "id": "ecebc1e3",
   "metadata": {
    "scrolled": false
   },
   "outputs": [],
   "source": [
    "df"
   ]
  },
  {
   "cell_type": "code",
   "execution_count": 4,
   "id": "2fc1c477",
   "metadata": {},
   "outputs": [],
   "source": [
    "### CHUNK CREATOR FUNCTION###\n",
    "## given list of song ids, returns list of 100id lists\n",
    "\n",
    "#counter for # of chunks\n",
    "def generate_chunks(ids):\n",
    "    counter = 0\n",
    "\n",
    "    final_chunk_count = len(ids) % 100\n",
    "\n",
    "    #chunk # to stop at because next chunk will not have 100 entries\n",
    "    #will be 6829 in this case\n",
    "    stop_num = (int)((len(ids) - final_chunk_count) / 100)\n",
    "\n",
    "    #list to hold chunks\n",
    "    list_chunks = []\n",
    "\n",
    "    #chunks\n",
    "    slice_start = 0\n",
    "    slice_end = 100\n",
    "\n",
    "    #iteration over total ids\n",
    "    while counter < stop_num:\n",
    "        #temp list to be added to main chunk list\n",
    "        temp_list = ids[slice_start:slice_end]\n",
    "        list_chunks.append(temp_list)\n",
    "        #move indeces to alter slice\n",
    "        slice_start = slice_start + 100\n",
    "        slice_end = slice_end + 100\n",
    "        counter = counter + 1\n",
    "    list_chunks\n",
    "\n",
    "    final_chunk = ids[slice_end:slice_end+final_chunk_count]\n",
    "    list_chunks.append(final_chunk)\n",
    "    \n",
    "    return list_chunks"
   ]
  },
  {
   "cell_type": "code",
   "execution_count": 5,
   "id": "763c6acb",
   "metadata": {
    "scrolled": true
   },
   "outputs": [],
   "source": [
    "### CHUNK STRING CREATOR FUNCTION ###\n",
    "### given list of 100id lists, returns list of *comma seperated 100songs strings*###\n",
    "\n",
    "def generate_strings(list_chunks):\n",
    "    list_string_chunks =[]\n",
    "\n",
    "    for chunk in list_chunks:\n",
    "        temp_string = ''\n",
    "        for song_id in chunk:\n",
    "            if song_id == chunk[0]:\n",
    "                temp_string = song_id\n",
    "            else:\n",
    "                temp_string = temp_string + ',' + song_id\n",
    "        list_string_chunks.append(temp_string)\n",
    "\n",
    "    return list_string_chunks"
   ]
  },
  {
   "cell_type": "markdown",
   "id": "8df5f1b7",
   "metadata": {},
   "source": [
    "# API CALL : 20 Min each"
   ]
  },
  {
   "cell_type": "code",
   "execution_count": 37,
   "id": "632ac221",
   "metadata": {},
   "outputs": [],
   "source": [
    "###CALL TO WEB API###\n",
    "##given list of strings where each string is 100 song ids seperated by commas\n",
    "##returns responses in json format\n",
    "def get_attributes(list_string_chunks, access_token):\n",
    "    responses = []\n",
    "\n",
    "    counter = 0\n",
    "\n",
    "    #constant parts of the 'get' message\n",
    "    test_url = \"https://api.spotify.com/v1/audio-features/?ids=\"\n",
    "    test_header = {\n",
    "            'Authorization': 'Bearer ' + access_token\n",
    "        }\n",
    "\n",
    "    #iteration over chunks\n",
    "    for chunk_string in tqdm(list_string_chunks, desc='api_call...'):\n",
    "        if counter % 100 == 0:\n",
    "            time.sleep(35) \n",
    "        #cusotmized url\n",
    "        to_send_url = test_url + chunk_string\n",
    "\n",
    "        #get request\n",
    "        response = requests.get(to_send_url, headers=test_header)\n",
    "        if response.status_code == 200:\n",
    "            # Process the response data (in JSON format)\n",
    "            responses.append(response.json())\n",
    "        else:\n",
    "            print(f\"Error: {response.status_code} - {response.text}\")\n",
    "            print(response.json)\n",
    "\n",
    "        counter = counter + 1\n",
    "\n",
    "    return responses"
   ]
  },
  {
   "cell_type": "markdown",
   "id": "a1657f66",
   "metadata": {},
   "source": [
    "# FORMATTING RESPONSE and Making Dataframe"
   ]
  },
  {
   "cell_type": "code",
   "execution_count": 26,
   "id": "2d7bfbe0",
   "metadata": {},
   "outputs": [],
   "source": [
    "###CREATES DATAFRAME OF SONG ATTRIBUTES###\n",
    "\n",
    "def create_df_attributes(responses):\n",
    "    audio_feature_df = pd.DataFrame()\n",
    "    for response in tqdm(responses, desc='creating attribute dataframe'):\n",
    "        audio_for_chunk = response['audio_features']\n",
    "        rows = []\n",
    "        for entry in range(len(audio_for_chunk)):\n",
    "            if audio_for_chunk[entry] is not None:\n",
    "                rows.append(audio_for_chunk[entry])\n",
    "\n",
    "        audio_feature_df = pd.concat([audio_feature_df, pd.DataFrame.from_dict(rows, orient='columns')])\n",
    "\n",
    "    return audio_feature_df"
   ]
  },
  {
   "cell_type": "code",
   "execution_count": 27,
   "id": "305583ea",
   "metadata": {},
   "outputs": [],
   "source": [
    "### format and export ###\n",
    "def format_and_export(df, attribute_df,file_counter):\n",
    "    #join on key=track_uri\n",
    "    joined = df.join(attribute_df.set_index('uri'), on='track_uri')\n",
    "    joined.to_csv(\"generated_json/full_dataframe_pt\" + str(file_counter))"
   ]
  },
  {
   "cell_type": "code",
   "execution_count": 43,
   "id": "03a40af8",
   "metadata": {
    "scrolled": false
   },
   "outputs": [
    {
     "data": {
      "text/html": [
       "<div>\n",
       "<style scoped>\n",
       "    .dataframe tbody tr th:only-of-type {\n",
       "        vertical-align: middle;\n",
       "    }\n",
       "\n",
       "    .dataframe tbody tr th {\n",
       "        vertical-align: top;\n",
       "    }\n",
       "\n",
       "    .dataframe thead th {\n",
       "        text-align: right;\n",
       "    }\n",
       "</style>\n",
       "<table border=\"1\" class=\"dataframe\">\n",
       "  <thead>\n",
       "    <tr style=\"text-align: right;\">\n",
       "      <th></th>\n",
       "      <th>Unnamed: 0</th>\n",
       "      <th>pos</th>\n",
       "      <th>artist_name</th>\n",
       "      <th>track_uri</th>\n",
       "      <th>track_name</th>\n",
       "      <th>playlist_pid</th>\n",
       "      <th>danceability</th>\n",
       "      <th>energy</th>\n",
       "      <th>key</th>\n",
       "      <th>loudness</th>\n",
       "      <th>...</th>\n",
       "      <th>instrumentalness</th>\n",
       "      <th>liveness</th>\n",
       "      <th>valence</th>\n",
       "      <th>tempo</th>\n",
       "      <th>type</th>\n",
       "      <th>id</th>\n",
       "      <th>track_href</th>\n",
       "      <th>analysis_url</th>\n",
       "      <th>duration_ms</th>\n",
       "      <th>time_signature</th>\n",
       "    </tr>\n",
       "  </thead>\n",
       "  <tbody>\n",
       "    <tr>\n",
       "      <th>0</th>\n",
       "      <td>0</td>\n",
       "      <td>0</td>\n",
       "      <td>Bob Dylan</td>\n",
       "      <td>spotify:track:6QHYEZlm9wyfXfEM1vSu1P</td>\n",
       "      <td>Boots of Spanish Leather</td>\n",
       "      <td>549000</td>\n",
       "      <td>0.615</td>\n",
       "      <td>0.1140</td>\n",
       "      <td>8.0</td>\n",
       "      <td>-17.285</td>\n",
       "      <td>...</td>\n",
       "      <td>0.000004</td>\n",
       "      <td>0.1660</td>\n",
       "      <td>0.401</td>\n",
       "      <td>101.189</td>\n",
       "      <td>audio_features</td>\n",
       "      <td>6QHYEZlm9wyfXfEM1vSu1P</td>\n",
       "      <td>https://api.spotify.com/v1/tracks/6QHYEZlm9wyf...</td>\n",
       "      <td>https://api.spotify.com/v1/audio-analysis/6QHY...</td>\n",
       "      <td>277107.0</td>\n",
       "      <td>4.0</td>\n",
       "    </tr>\n",
       "    <tr>\n",
       "      <th>1</th>\n",
       "      <td>1</td>\n",
       "      <td>1</td>\n",
       "      <td>Bob Dylan</td>\n",
       "      <td>spotify:track:3RkQ3UwOyPqpIiIvGVewuU</td>\n",
       "      <td>Mr. Tambourine Man</td>\n",
       "      <td>549000</td>\n",
       "      <td>0.390</td>\n",
       "      <td>0.3100</td>\n",
       "      <td>5.0</td>\n",
       "      <td>-14.545</td>\n",
       "      <td>...</td>\n",
       "      <td>0.000000</td>\n",
       "      <td>0.3790</td>\n",
       "      <td>0.584</td>\n",
       "      <td>177.515</td>\n",
       "      <td>audio_features</td>\n",
       "      <td>3RkQ3UwOyPqpIiIvGVewuU</td>\n",
       "      <td>https://api.spotify.com/v1/tracks/3RkQ3UwOyPqp...</td>\n",
       "      <td>https://api.spotify.com/v1/audio-analysis/3RkQ...</td>\n",
       "      <td>330533.0</td>\n",
       "      <td>4.0</td>\n",
       "    </tr>\n",
       "    <tr>\n",
       "      <th>2</th>\n",
       "      <td>2</td>\n",
       "      <td>2</td>\n",
       "      <td>Loggins &amp; Messina</td>\n",
       "      <td>spotify:track:0ju1jP0cSPJ8tmojYBEI89</td>\n",
       "      <td>Danny's Song</td>\n",
       "      <td>549000</td>\n",
       "      <td>0.505</td>\n",
       "      <td>0.2580</td>\n",
       "      <td>11.0</td>\n",
       "      <td>-12.193</td>\n",
       "      <td>...</td>\n",
       "      <td>0.000000</td>\n",
       "      <td>0.1200</td>\n",
       "      <td>0.641</td>\n",
       "      <td>141.003</td>\n",
       "      <td>audio_features</td>\n",
       "      <td>0ju1jP0cSPJ8tmojYBEI89</td>\n",
       "      <td>https://api.spotify.com/v1/tracks/0ju1jP0cSPJ8...</td>\n",
       "      <td>https://api.spotify.com/v1/audio-analysis/0ju1...</td>\n",
       "      <td>254305.0</td>\n",
       "      <td>4.0</td>\n",
       "    </tr>\n",
       "    <tr>\n",
       "      <th>3</th>\n",
       "      <td>3</td>\n",
       "      <td>3</td>\n",
       "      <td>Bob Dylan</td>\n",
       "      <td>spotify:track:7ny2ATvjtKszCpLpfsGnVQ</td>\n",
       "      <td>A Hard Rain's A-Gonna Fall</td>\n",
       "      <td>549000</td>\n",
       "      <td>0.567</td>\n",
       "      <td>0.1980</td>\n",
       "      <td>4.0</td>\n",
       "      <td>-18.681</td>\n",
       "      <td>...</td>\n",
       "      <td>0.000871</td>\n",
       "      <td>0.1350</td>\n",
       "      <td>0.321</td>\n",
       "      <td>92.467</td>\n",
       "      <td>audio_features</td>\n",
       "      <td>7ny2ATvjtKszCpLpfsGnVQ</td>\n",
       "      <td>https://api.spotify.com/v1/tracks/7ny2ATvjtKsz...</td>\n",
       "      <td>https://api.spotify.com/v1/audio-analysis/7ny2...</td>\n",
       "      <td>412200.0</td>\n",
       "      <td>4.0</td>\n",
       "    </tr>\n",
       "    <tr>\n",
       "      <th>4</th>\n",
       "      <td>4</td>\n",
       "      <td>4</td>\n",
       "      <td>Bob Dylan</td>\n",
       "      <td>spotify:track:18GiV1BaXzPVYpp9rmOg0E</td>\n",
       "      <td>Blowin' In the Wind</td>\n",
       "      <td>549000</td>\n",
       "      <td>0.380</td>\n",
       "      <td>0.0993</td>\n",
       "      <td>2.0</td>\n",
       "      <td>-20.567</td>\n",
       "      <td>...</td>\n",
       "      <td>0.000023</td>\n",
       "      <td>0.0605</td>\n",
       "      <td>0.440</td>\n",
       "      <td>174.874</td>\n",
       "      <td>audio_features</td>\n",
       "      <td>18GiV1BaXzPVYpp9rmOg0E</td>\n",
       "      <td>https://api.spotify.com/v1/tracks/18GiV1BaXzPV...</td>\n",
       "      <td>https://api.spotify.com/v1/audio-analysis/18Gi...</td>\n",
       "      <td>165427.0</td>\n",
       "      <td>4.0</td>\n",
       "    </tr>\n",
       "    <tr>\n",
       "      <th>...</th>\n",
       "      <td>...</td>\n",
       "      <td>...</td>\n",
       "      <td>...</td>\n",
       "      <td>...</td>\n",
       "      <td>...</td>\n",
       "      <td>...</td>\n",
       "      <td>...</td>\n",
       "      <td>...</td>\n",
       "      <td>...</td>\n",
       "      <td>...</td>\n",
       "      <td>...</td>\n",
       "      <td>...</td>\n",
       "      <td>...</td>\n",
       "      <td>...</td>\n",
       "      <td>...</td>\n",
       "      <td>...</td>\n",
       "      <td>...</td>\n",
       "      <td>...</td>\n",
       "      <td>...</td>\n",
       "      <td>...</td>\n",
       "      <td>...</td>\n",
       "    </tr>\n",
       "    <tr>\n",
       "      <th>666650</th>\n",
       "      <td>69289</td>\n",
       "      <td>20</td>\n",
       "      <td>Sean Paul</td>\n",
       "      <td>spotify:track:29LHe8kG3PraghUZOZYsw4</td>\n",
       "      <td>Baby Boy (feat. Beyonce)</td>\n",
       "      <td>679999</td>\n",
       "      <td>0.658</td>\n",
       "      <td>0.6210</td>\n",
       "      <td>1.0</td>\n",
       "      <td>-5.725</td>\n",
       "      <td>...</td>\n",
       "      <td>0.000002</td>\n",
       "      <td>0.1420</td>\n",
       "      <td>0.817</td>\n",
       "      <td>91.267</td>\n",
       "      <td>audio_features</td>\n",
       "      <td>29LHe8kG3PraghUZOZYsw4</td>\n",
       "      <td>https://api.spotify.com/v1/tracks/29LHe8kG3Pra...</td>\n",
       "      <td>https://api.spotify.com/v1/audio-analysis/29LH...</td>\n",
       "      <td>246707.0</td>\n",
       "      <td>4.0</td>\n",
       "    </tr>\n",
       "    <tr>\n",
       "      <th>666651</th>\n",
       "      <td>69290</td>\n",
       "      <td>21</td>\n",
       "      <td>Shakira</td>\n",
       "      <td>spotify:track:3ZFTkvIE7kyPt6Nu3PEa7V</td>\n",
       "      <td>Hips Don't Lie</td>\n",
       "      <td>679999</td>\n",
       "      <td>0.778</td>\n",
       "      <td>0.8240</td>\n",
       "      <td>10.0</td>\n",
       "      <td>-5.892</td>\n",
       "      <td>...</td>\n",
       "      <td>0.000000</td>\n",
       "      <td>0.4050</td>\n",
       "      <td>0.758</td>\n",
       "      <td>100.024</td>\n",
       "      <td>audio_features</td>\n",
       "      <td>3ZFTkvIE7kyPt6Nu3PEa7V</td>\n",
       "      <td>https://api.spotify.com/v1/tracks/3ZFTkvIE7kyP...</td>\n",
       "      <td>https://api.spotify.com/v1/audio-analysis/3ZFT...</td>\n",
       "      <td>218093.0</td>\n",
       "      <td>4.0</td>\n",
       "    </tr>\n",
       "    <tr>\n",
       "      <th>666652</th>\n",
       "      <td>69291</td>\n",
       "      <td>22</td>\n",
       "      <td>Destiny's Child</td>\n",
       "      <td>spotify:track:7qtAgn9mwxygsPOsUDVRRt</td>\n",
       "      <td>Survivor</td>\n",
       "      <td>679999</td>\n",
       "      <td>0.524</td>\n",
       "      <td>0.9040</td>\n",
       "      <td>8.0</td>\n",
       "      <td>-2.071</td>\n",
       "      <td>...</td>\n",
       "      <td>0.000000</td>\n",
       "      <td>0.7760</td>\n",
       "      <td>0.655</td>\n",
       "      <td>161.188</td>\n",
       "      <td>audio_features</td>\n",
       "      <td>7qtAgn9mwxygsPOsUDVRRt</td>\n",
       "      <td>https://api.spotify.com/v1/tracks/7qtAgn9mwxyg...</td>\n",
       "      <td>https://api.spotify.com/v1/audio-analysis/7qtA...</td>\n",
       "      <td>254040.0</td>\n",
       "      <td>4.0</td>\n",
       "    </tr>\n",
       "    <tr>\n",
       "      <th>666653</th>\n",
       "      <td>69292</td>\n",
       "      <td>23</td>\n",
       "      <td>Destiny's Child</td>\n",
       "      <td>spotify:track:0FZvjrHpAmLKj574M4VwrF</td>\n",
       "      <td>Cater 2 U</td>\n",
       "      <td>679999</td>\n",
       "      <td>0.605</td>\n",
       "      <td>0.5840</td>\n",
       "      <td>11.0</td>\n",
       "      <td>-7.043</td>\n",
       "      <td>...</td>\n",
       "      <td>0.000000</td>\n",
       "      <td>0.2350</td>\n",
       "      <td>0.464</td>\n",
       "      <td>125.802</td>\n",
       "      <td>audio_features</td>\n",
       "      <td>0FZvjrHpAmLKj574M4VwrF</td>\n",
       "      <td>https://api.spotify.com/v1/tracks/0FZvjrHpAmLK...</td>\n",
       "      <td>https://api.spotify.com/v1/audio-analysis/0FZv...</td>\n",
       "      <td>245400.0</td>\n",
       "      <td>4.0</td>\n",
       "    </tr>\n",
       "    <tr>\n",
       "      <th>666654</th>\n",
       "      <td>69293</td>\n",
       "      <td>24</td>\n",
       "      <td>Destiny's Child</td>\n",
       "      <td>spotify:track:4XyAMTjMfqwZ2uJemqKRdH</td>\n",
       "      <td>Girl</td>\n",
       "      <td>679999</td>\n",
       "      <td>0.567</td>\n",
       "      <td>0.7470</td>\n",
       "      <td>6.0</td>\n",
       "      <td>-6.019</td>\n",
       "      <td>...</td>\n",
       "      <td>0.000000</td>\n",
       "      <td>0.0400</td>\n",
       "      <td>0.556</td>\n",
       "      <td>89.036</td>\n",
       "      <td>audio_features</td>\n",
       "      <td>4XyAMTjMfqwZ2uJemqKRdH</td>\n",
       "      <td>https://api.spotify.com/v1/tracks/4XyAMTjMfqwZ...</td>\n",
       "      <td>https://api.spotify.com/v1/audio-analysis/4XyA...</td>\n",
       "      <td>224147.0</td>\n",
       "      <td>4.0</td>\n",
       "    </tr>\n",
       "  </tbody>\n",
       "</table>\n",
       "<p>666655 rows × 23 columns</p>\n",
       "</div>"
      ],
      "text/plain": [
       "        Unnamed: 0  pos        artist_name  \\\n",
       "0                0    0          Bob Dylan   \n",
       "1                1    1          Bob Dylan   \n",
       "2                2    2  Loggins & Messina   \n",
       "3                3    3          Bob Dylan   \n",
       "4                4    4          Bob Dylan   \n",
       "...            ...  ...                ...   \n",
       "666650       69289   20          Sean Paul   \n",
       "666651       69290   21            Shakira   \n",
       "666652       69291   22    Destiny's Child   \n",
       "666653       69292   23    Destiny's Child   \n",
       "666654       69293   24    Destiny's Child   \n",
       "\n",
       "                                   track_uri                  track_name  \\\n",
       "0       spotify:track:6QHYEZlm9wyfXfEM1vSu1P    Boots of Spanish Leather   \n",
       "1       spotify:track:3RkQ3UwOyPqpIiIvGVewuU          Mr. Tambourine Man   \n",
       "2       spotify:track:0ju1jP0cSPJ8tmojYBEI89                Danny's Song   \n",
       "3       spotify:track:7ny2ATvjtKszCpLpfsGnVQ  A Hard Rain's A-Gonna Fall   \n",
       "4       spotify:track:18GiV1BaXzPVYpp9rmOg0E         Blowin' In the Wind   \n",
       "...                                      ...                         ...   \n",
       "666650  spotify:track:29LHe8kG3PraghUZOZYsw4    Baby Boy (feat. Beyonce)   \n",
       "666651  spotify:track:3ZFTkvIE7kyPt6Nu3PEa7V              Hips Don't Lie   \n",
       "666652  spotify:track:7qtAgn9mwxygsPOsUDVRRt                    Survivor   \n",
       "666653  spotify:track:0FZvjrHpAmLKj574M4VwrF                   Cater 2 U   \n",
       "666654  spotify:track:4XyAMTjMfqwZ2uJemqKRdH                        Girl   \n",
       "\n",
       "        playlist_pid  danceability  energy   key  loudness  ...  \\\n",
       "0             549000         0.615  0.1140   8.0   -17.285  ...   \n",
       "1             549000         0.390  0.3100   5.0   -14.545  ...   \n",
       "2             549000         0.505  0.2580  11.0   -12.193  ...   \n",
       "3             549000         0.567  0.1980   4.0   -18.681  ...   \n",
       "4             549000         0.380  0.0993   2.0   -20.567  ...   \n",
       "...              ...           ...     ...   ...       ...  ...   \n",
       "666650        679999         0.658  0.6210   1.0    -5.725  ...   \n",
       "666651        679999         0.778  0.8240  10.0    -5.892  ...   \n",
       "666652        679999         0.524  0.9040   8.0    -2.071  ...   \n",
       "666653        679999         0.605  0.5840  11.0    -7.043  ...   \n",
       "666654        679999         0.567  0.7470   6.0    -6.019  ...   \n",
       "\n",
       "        instrumentalness  liveness  valence    tempo            type  \\\n",
       "0               0.000004    0.1660    0.401  101.189  audio_features   \n",
       "1               0.000000    0.3790    0.584  177.515  audio_features   \n",
       "2               0.000000    0.1200    0.641  141.003  audio_features   \n",
       "3               0.000871    0.1350    0.321   92.467  audio_features   \n",
       "4               0.000023    0.0605    0.440  174.874  audio_features   \n",
       "...                  ...       ...      ...      ...             ...   \n",
       "666650          0.000002    0.1420    0.817   91.267  audio_features   \n",
       "666651          0.000000    0.4050    0.758  100.024  audio_features   \n",
       "666652          0.000000    0.7760    0.655  161.188  audio_features   \n",
       "666653          0.000000    0.2350    0.464  125.802  audio_features   \n",
       "666654          0.000000    0.0400    0.556   89.036  audio_features   \n",
       "\n",
       "                            id  \\\n",
       "0       6QHYEZlm9wyfXfEM1vSu1P   \n",
       "1       3RkQ3UwOyPqpIiIvGVewuU   \n",
       "2       0ju1jP0cSPJ8tmojYBEI89   \n",
       "3       7ny2ATvjtKszCpLpfsGnVQ   \n",
       "4       18GiV1BaXzPVYpp9rmOg0E   \n",
       "...                        ...   \n",
       "666650  29LHe8kG3PraghUZOZYsw4   \n",
       "666651  3ZFTkvIE7kyPt6Nu3PEa7V   \n",
       "666652  7qtAgn9mwxygsPOsUDVRRt   \n",
       "666653  0FZvjrHpAmLKj574M4VwrF   \n",
       "666654  4XyAMTjMfqwZ2uJemqKRdH   \n",
       "\n",
       "                                               track_href  \\\n",
       "0       https://api.spotify.com/v1/tracks/6QHYEZlm9wyf...   \n",
       "1       https://api.spotify.com/v1/tracks/3RkQ3UwOyPqp...   \n",
       "2       https://api.spotify.com/v1/tracks/0ju1jP0cSPJ8...   \n",
       "3       https://api.spotify.com/v1/tracks/7ny2ATvjtKsz...   \n",
       "4       https://api.spotify.com/v1/tracks/18GiV1BaXzPV...   \n",
       "...                                                   ...   \n",
       "666650  https://api.spotify.com/v1/tracks/29LHe8kG3Pra...   \n",
       "666651  https://api.spotify.com/v1/tracks/3ZFTkvIE7kyP...   \n",
       "666652  https://api.spotify.com/v1/tracks/7qtAgn9mwxyg...   \n",
       "666653  https://api.spotify.com/v1/tracks/0FZvjrHpAmLK...   \n",
       "666654  https://api.spotify.com/v1/tracks/4XyAMTjMfqwZ...   \n",
       "\n",
       "                                             analysis_url duration_ms  \\\n",
       "0       https://api.spotify.com/v1/audio-analysis/6QHY...    277107.0   \n",
       "1       https://api.spotify.com/v1/audio-analysis/3RkQ...    330533.0   \n",
       "2       https://api.spotify.com/v1/audio-analysis/0ju1...    254305.0   \n",
       "3       https://api.spotify.com/v1/audio-analysis/7ny2...    412200.0   \n",
       "4       https://api.spotify.com/v1/audio-analysis/18Gi...    165427.0   \n",
       "...                                                   ...         ...   \n",
       "666650  https://api.spotify.com/v1/audio-analysis/29LH...    246707.0   \n",
       "666651  https://api.spotify.com/v1/audio-analysis/3ZFT...    218093.0   \n",
       "666652  https://api.spotify.com/v1/audio-analysis/7qtA...    254040.0   \n",
       "666653  https://api.spotify.com/v1/audio-analysis/0FZv...    245400.0   \n",
       "666654  https://api.spotify.com/v1/audio-analysis/4XyA...    224147.0   \n",
       "\n",
       "       time_signature  \n",
       "0                 4.0  \n",
       "1                 4.0  \n",
       "2                 4.0  \n",
       "3                 4.0  \n",
       "4                 4.0  \n",
       "...               ...  \n",
       "666650            4.0  \n",
       "666651            4.0  \n",
       "666652            4.0  \n",
       "666653            4.0  \n",
       "666654            4.0  \n",
       "\n",
       "[666655 rows x 23 columns]"
      ]
     },
     "execution_count": 43,
     "metadata": {},
     "output_type": "execute_result"
    }
   ],
   "source": [
    "df = pd.read_csv(\"/Users/adic/Desktop/DS3000/spotifyDS300/generated_json/file_with_attributes.csv\")\n",
    "df"
   ]
  },
  {
   "cell_type": "code",
   "execution_count": 44,
   "id": "7e96e046",
   "metadata": {},
   "outputs": [
    {
     "data": {
      "text/plain": [
       "playlist_pid\n",
       "324371    250\n",
       "549161    250\n",
       "290425    249\n",
       "115141    249\n",
       "324419    249\n",
       "         ... \n",
       "290178      5\n",
       "974335      5\n",
       "290582      5\n",
       "324264      5\n",
       "549341      5\n",
       "Name: count, Length: 10000, dtype: int64"
      ]
     },
     "execution_count": 44,
     "metadata": {},
     "output_type": "execute_result"
    }
   ],
   "source": [
    "df['playlist_pid'].value_counts()"
   ]
  },
  {
   "cell_type": "code",
   "execution_count": null,
   "id": "828622c4",
   "metadata": {},
   "outputs": [],
   "source": []
  }
 ],
 "metadata": {
  "kernelspec": {
   "display_name": "Python 3 (ipykernel)",
   "language": "python",
   "name": "python3"
  },
  "language_info": {
   "codemirror_mode": {
    "name": "ipython",
    "version": 3
   },
   "file_extension": ".py",
   "mimetype": "text/x-python",
   "name": "python",
   "nbconvert_exporter": "python",
   "pygments_lexer": "ipython3",
   "version": "3.9.13"
  }
 },
 "nbformat": 4,
 "nbformat_minor": 5
}
